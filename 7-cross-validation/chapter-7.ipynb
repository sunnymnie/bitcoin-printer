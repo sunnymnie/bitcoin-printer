{
 "cells": [
  {
   "cell_type": "markdown",
   "id": "ed0310d8-f2c1-431f-bc99-fd3e0983d922",
   "metadata": {},
   "source": [
    "# Snippets"
   ]
  },
  {
   "cell_type": "markdown",
   "id": "382c5dff-bea2-478a-b2d9-cb53d064bc6f",
   "metadata": {},
   "source": [
    "### SNIPPET 7.1 PURGING OBSERVATION IN THE TRAINING SET"
   ]
  },
  {
   "cell_type": "code",
   "execution_count": null,
   "id": "a4fa38d7-d304-4276-8cda-e378badc139a",
   "metadata": {},
   "outputs": [],
   "source": [
    "def getTrainTimes(t1,testTimes):\n",
    "\n",
    "'''\n",
    "Given testTimes, find the times of the training observations. \n",
    "—t1.index: Time when the observation started.\n",
    "—t1.value: Time when the observation ended.\n",
    "—testTimes: Times of testing observations.\n",
    "'''\n",
    "\n",
    "trn=t1.copy(deep=True)\n",
    "for i,j in testTimes.iteritems():\n",
    "    df0=trn[(i<=trn.index)&(trn.index<=j)].index # train starts within test \n",
    "    df1=trn[(i<=trn)&(trn<=j)].index # train ends within test \n",
    "    df2=trn[(trn.index<=i)&(j<=trn)].index # train envelops test \n",
    "    trn=trn.drop(df0.union(df1).union(df2))\n",
    "return trn"
   ]
  },
  {
   "cell_type": "markdown",
   "id": "95a23e26-bba6-4e32-a055-30baab5b755c",
   "metadata": {},
   "source": [
    "### SNIPPET 7.2 EMBARGO ON TRAINING OBSERVATIONS"
   ]
  },
  {
   "cell_type": "code",
   "execution_count": null,
   "id": "44a03976-e430-4e77-b85f-3bde48b80bab",
   "metadata": {},
   "outputs": [],
   "source": [
    "def getEmbargoTimes(times,pctEmbargo):\n",
    "    '''Get embargo time for each bar'''\n",
    "    step=int(times.shape[0]*pctEmbargo) \n",
    "    if step==0:\n",
    "        mbrg=pd.Series(times,index=times) \n",
    "    else:\n",
    "        mbrg=pd.Series(times[step:],index=times[:-step])\n",
    "        mbrg=mbrg.append(pd.Series(times[-1],index=times[-step:])) \n",
    "    return mbrg"
   ]
  },
  {
   "cell_type": "code",
   "execution_count": null,
   "id": "580a66ce-6fad-4128-98df-6c65fb2143bf",
   "metadata": {},
   "outputs": [],
   "source": [
    "testTimes=pd.Series(mbrg[dt1],index=[dt0]) # include embargo before purge \n",
    "trainTimes=getTrainTimes(t1,testTimes)\n",
    "testTimes=t1.loc[dt0:dt1].index"
   ]
  },
  {
   "cell_type": "markdown",
   "id": "4f6640d7-b487-4406-b794-10c07770aa94",
   "metadata": {},
   "source": [
    "### SNIPPET 7.3 CROSS-VALIDATION CLASS WHEN OBSERVATIONS OVERLAP"
   ]
  },
  {
   "cell_type": "code",
   "execution_count": null,
   "id": "53202dbe-3001-41ba-8768-7210067a02f7",
   "metadata": {},
   "outputs": [],
   "source": [
    "class PurgedKFold(_BaseKFold):\n",
    "'''\n",
    "Extend KFold class to work with labels that span intervals\n",
    "The train is purged of observations overlapping test-label intervals\n",
    "Test set is assumed contiguous (shuffle=False), w/o training samples in between \n",
    "'''\n",
    "    def __init__(self,n_splits=3,t1=None,pctEmbargo=0.):\n",
    "        if not isinstance(t1,pd.Series):\n",
    "            raise ValueError('Label Through Dates must be a pd.Series')\n",
    "        super(PurgedKFold,self).__init__(n_splits,shuffle=False,random_state=None) \n",
    "        self.t1=t1\n",
    "        self.pctEmbargo=pctEmbargo\n",
    "    def split(self,X,y=None,groups=None):\n",
    "        if (X.index==self.t1.index).sum()!=len(self.t1):\n",
    "            raise ValueError('X and ThruDateValues must have the same index') \n",
    "        indices=np.arange(X.shape[0])\n",
    "        mbrg=int(X.shape[0]*self.pctEmbargo)\n",
    "        test_starts=[(i[0],i[-1]+1) for i in \\\n",
    "            np.array_split(np.arange(X.shape[0]),self.n_splits)] \n",
    "        for i,j in test_starts:\n",
    "            t0=self.t1.index[i] # start of test set\n",
    "            test_indices=indices[i:j] \n",
    "            maxT1Idx=self.t1.index.searchsorted(self.t1[test_indices].max()) \n",
    "            train_indices=self.t1.index.searchsorted(self.t1[self.t1<=t0].index) \n",
    "            if maxT1Idx<X.shape[0]: # right train (with embargo)\n",
    "                train_indices=np.concatenate((train_indices,indices[maxT1Idx+mbrg:])) \n",
    "            yield train_indices,test_indices"
   ]
  },
  {
   "cell_type": "markdown",
   "id": "6a7e795c-6df6-4f88-9349-ed6d0a4af80b",
   "metadata": {},
   "source": [
    "### SNIPPET 7.4 USING THE PurgedKFold CLASS"
   ]
  },
  {
   "cell_type": "code",
   "execution_count": null,
   "id": "3403101b-5464-4983-b313-01d0b538191e",
   "metadata": {},
   "outputs": [],
   "source": [
    "from sklearn.metrics import log_loss,accuracy_score \n",
    "from clfSequential import PurgedKFold\n",
    "    \n",
    "def cvScore(clf,X,y,sample_weight,scoring='neg_log_loss',t1=None,cv=None,cvGen=None, pctEmbargo=None):\n",
    "    if scoring not in ['neg_log_loss','accuracy']: \n",
    "        raise Exception('wrong scoring method.')\n",
    "    if cvGen is None:\n",
    "        cvGen=PurgedKFold(n_splits=cv,t1=t1,pctEmbargo=pctEmbargo) # purged \n",
    "    score=[]\n",
    "    for train,test in cvGen.split(X=X): \n",
    "        fit=clf.fit(X=X.iloc[train,:],y=y.iloc[train],sample_weight=sample_weight.iloc[train].values) \n",
    "        if scoring=='neg_log_loss':\n",
    "            prob=fit.predict_proba(X.iloc[test,:]) \n",
    "            score_=-log_loss(y.iloc[test],prob, sample_weight=sample_weight.iloc[test].values,labels=clf.classes_)\n",
    "        else:\n",
    "            pred=fit.predict(X.iloc[test,:]) \n",
    "            score_=accuracy_score(y.iloc[test],pred,sample_weight= \\\n",
    "                sample_weight.iloc[test].values) \n",
    "            score.append(score_)\n",
    "    return np.array(score)"
   ]
  },
  {
   "cell_type": "code",
   "execution_count": null,
   "id": "21105f9d-9967-42ae-aacc-f781cbfd3b2d",
   "metadata": {},
   "outputs": [],
   "source": []
  }
 ],
 "metadata": {
  "kernelspec": {
   "display_name": "Python 3",
   "language": "python",
   "name": "python3"
  },
  "language_info": {
   "codemirror_mode": {
    "name": "ipython",
    "version": 3
   },
   "file_extension": ".py",
   "mimetype": "text/x-python",
   "name": "python",
   "nbconvert_exporter": "python",
   "pygments_lexer": "ipython3",
   "version": "3.9.4"
  }
 },
 "nbformat": 4,
 "nbformat_minor": 5
}
