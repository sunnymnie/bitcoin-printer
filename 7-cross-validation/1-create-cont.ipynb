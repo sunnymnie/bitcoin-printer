{
 "cells": [
  {
   "cell_type": "markdown",
   "id": "0219b56b-ace6-40e9-854a-7d4db03cb9a0",
   "metadata": {},
   "source": [
    "# File merger"
   ]
  },
  {
   "cell_type": "code",
   "execution_count": 1,
   "id": "3d8bcff4-ebb1-4e99-901c-2140de8279e2",
   "metadata": {},
   "outputs": [],
   "source": [
    "import pandas as pd\n",
    "import numpy as np"
   ]
  },
  {
   "cell_type": "code",
   "execution_count": 6,
   "id": "dc135f92-0aad-4f94-ac89-d96eef488b04",
   "metadata": {},
   "outputs": [],
   "source": [
    "df = pd.read_csv(\"../data/weighted_seq_bootstrap.csv\", index_col=0, parse_dates=[0, 5])\n",
    "ml = pd.read_csv(\"../data/metalabels.csv\", index_col=0, parse_dates=True)"
   ]
  },
  {
   "cell_type": "code",
   "execution_count": 12,
   "id": "989892ee-1e02-45e5-9a95-6b60f4b05e6a",
   "metadata": {},
   "outputs": [],
   "source": [
    "cont = ml.reindex(df.index)\n",
    "cont = pd.concat([df, cont], axis=1)\n",
    "cont = cont[[\"target\", \"wd\", \"t1\"]]"
   ]
  },
  {
   "cell_type": "code",
   "execution_count": 13,
   "id": "666a3f6f-93a1-4e86-bcd1-f5c66759dc7c",
   "metadata": {},
   "outputs": [
    {
     "data": {
      "text/html": [
       "<div>\n",
       "<style scoped>\n",
       "    .dataframe tbody tr th:only-of-type {\n",
       "        vertical-align: middle;\n",
       "    }\n",
       "\n",
       "    .dataframe tbody tr th {\n",
       "        vertical-align: top;\n",
       "    }\n",
       "\n",
       "    .dataframe thead th {\n",
       "        text-align: right;\n",
       "    }\n",
       "</style>\n",
       "<table border=\"1\" class=\"dataframe\">\n",
       "  <thead>\n",
       "    <tr style=\"text-align: right;\">\n",
       "      <th></th>\n",
       "      <th>target</th>\n",
       "      <th>wd</th>\n",
       "      <th>t1</th>\n",
       "    </tr>\n",
       "  </thead>\n",
       "  <tbody>\n",
       "    <tr>\n",
       "      <th>2019-11-19 04:31:17.939</th>\n",
       "      <td>1.0</td>\n",
       "      <td>0.028557</td>\n",
       "      <td>2019-11-20 04:31:21.924</td>\n",
       "    </tr>\n",
       "    <tr>\n",
       "      <th>2018-04-12 11:24:15.266</th>\n",
       "      <td>1.0</td>\n",
       "      <td>0.388751</td>\n",
       "      <td>2018-04-13 11:24:15.733</td>\n",
       "    </tr>\n",
       "    <tr>\n",
       "      <th>2018-05-31 17:46:02.417</th>\n",
       "      <td>1.0</td>\n",
       "      <td>0.563346</td>\n",
       "      <td>2018-06-01 17:46:12.165</td>\n",
       "    </tr>\n",
       "    <tr>\n",
       "      <th>2020-09-05 12:33:49.593</th>\n",
       "      <td>1.0</td>\n",
       "      <td>0.322156</td>\n",
       "      <td>2020-09-06 12:33:56.010</td>\n",
       "    </tr>\n",
       "    <tr>\n",
       "      <th>2018-02-01 12:27:38.036</th>\n",
       "      <td>0.0</td>\n",
       "      <td>1.781152</td>\n",
       "      <td>2018-02-02 12:27:49.758</td>\n",
       "    </tr>\n",
       "    <tr>\n",
       "      <th>...</th>\n",
       "      <td>...</td>\n",
       "      <td>...</td>\n",
       "      <td>...</td>\n",
       "    </tr>\n",
       "    <tr>\n",
       "      <th>2020-05-06 03:45:58.183</th>\n",
       "      <td>0.0</td>\n",
       "      <td>1.073842</td>\n",
       "      <td>2020-05-07 03:46:00.795</td>\n",
       "    </tr>\n",
       "    <tr>\n",
       "      <th>2018-02-02 13:11:25.133</th>\n",
       "      <td>1.0</td>\n",
       "      <td>0.445405</td>\n",
       "      <td>2018-02-03 13:11:32.841</td>\n",
       "    </tr>\n",
       "    <tr>\n",
       "      <th>2020-03-13 23:11:53.719</th>\n",
       "      <td>1.0</td>\n",
       "      <td>0.574715</td>\n",
       "      <td>2020-03-14 23:11:55.109</td>\n",
       "    </tr>\n",
       "    <tr>\n",
       "      <th>2019-11-04 12:00:45.489</th>\n",
       "      <td>0.0</td>\n",
       "      <td>0.008890</td>\n",
       "      <td>2019-11-05 12:00:52.633</td>\n",
       "    </tr>\n",
       "    <tr>\n",
       "      <th>2019-08-16 15:25:40.333</th>\n",
       "      <td>0.0</td>\n",
       "      <td>0.089136</td>\n",
       "      <td>2019-08-17 15:26:06.950</td>\n",
       "    </tr>\n",
       "  </tbody>\n",
       "</table>\n",
       "<p>3367 rows × 3 columns</p>\n",
       "</div>"
      ],
      "text/plain": [
       "                         target        wd                      t1\n",
       "2019-11-19 04:31:17.939     1.0  0.028557 2019-11-20 04:31:21.924\n",
       "2018-04-12 11:24:15.266     1.0  0.388751 2018-04-13 11:24:15.733\n",
       "2018-05-31 17:46:02.417     1.0  0.563346 2018-06-01 17:46:12.165\n",
       "2020-09-05 12:33:49.593     1.0  0.322156 2020-09-06 12:33:56.010\n",
       "2018-02-01 12:27:38.036     0.0  1.781152 2018-02-02 12:27:49.758\n",
       "...                         ...       ...                     ...\n",
       "2020-05-06 03:45:58.183     0.0  1.073842 2020-05-07 03:46:00.795\n",
       "2018-02-02 13:11:25.133     1.0  0.445405 2018-02-03 13:11:32.841\n",
       "2020-03-13 23:11:53.719     1.0  0.574715 2020-03-14 23:11:55.109\n",
       "2019-11-04 12:00:45.489     0.0  0.008890 2019-11-05 12:00:52.633\n",
       "2019-08-16 15:25:40.333     0.0  0.089136 2019-08-17 15:26:06.950\n",
       "\n",
       "[3367 rows x 3 columns]"
      ]
     },
     "execution_count": 13,
     "metadata": {},
     "output_type": "execute_result"
    }
   ],
   "source": [
    "cont"
   ]
  },
  {
   "cell_type": "code",
   "execution_count": 16,
   "id": "93218222-4ea7-44cb-be32-1bbe14f4a7b9",
   "metadata": {},
   "outputs": [],
   "source": [
    "cont.to_csv(\"../data/cont.csv\")"
   ]
  },
  {
   "cell_type": "code",
   "execution_count": null,
   "id": "36e0f298-6850-467d-9005-86bde1216963",
   "metadata": {},
   "outputs": [],
   "source": []
  }
 ],
 "metadata": {
  "kernelspec": {
   "display_name": "Python 3",
   "language": "python",
   "name": "python3"
  },
  "language_info": {
   "codemirror_mode": {
    "name": "ipython",
    "version": 3
   },
   "file_extension": ".py",
   "mimetype": "text/x-python",
   "name": "python",
   "nbconvert_exporter": "python",
   "pygments_lexer": "ipython3",
   "version": "3.9.4"
  }
 },
 "nbformat": 4,
 "nbformat_minor": 5
}
