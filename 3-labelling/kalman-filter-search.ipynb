{
 "cells": [
  {
   "cell_type": "markdown",
   "id": "4b037e01-ecd1-40e0-8b59-c9d5facde5d5",
   "metadata": {},
   "source": [
    "# Kalman filter brute force paramater search"
   ]
  },
  {
   "cell_type": "code",
   "execution_count": 8,
   "id": "f750d9dc-f67a-4f6f-99f6-b79740b03472",
   "metadata": {},
   "outputs": [],
   "source": [
    "import pandas as pd\n",
    "import numpy as np\n",
    "import matplotlib.pyplot as plt\n",
    "\n",
    "import statsmodels.formula.api as sm\n",
    "import statsmodels.tsa.stattools as ts\n",
    "import statsmodels.tsa.vector_ar.vecm as vm\n",
    "\n",
    "import time\n",
    "from IPython.display import clear_output"
   ]
  },
  {
   "cell_type": "code",
   "execution_count": 2,
   "id": "5285291a-98c1-4c35-acea-18c089a97076",
   "metadata": {},
   "outputs": [
    {
     "name": "stdout",
     "output_type": "stream",
     "text": [
      "1212880\n",
      "1221532\n"
     ]
    }
   ],
   "source": [
    "df1 = pd.read_csv(\"../data/ZECUSDT-minute.csv\", index_col=0, parse_dates=True)\n",
    "df2 = pd.read_csv(\"../data/XMRUSDT-minute.csv\", index_col=0, parse_dates=True)\n",
    "print(len(df1))\n",
    "print(len(df2))"
   ]
  },
  {
   "cell_type": "code",
   "execution_count": 3,
   "id": "9bb6e159-e859-43ad-98cf-c57171957ff2",
   "metadata": {},
   "outputs": [],
   "source": [
    "df = df1.close.rename(\"A\").to_frame()\n",
    "df[\"B\"] = df2.close\n",
    "df = df[4000:]\n",
    "df = df.dropna()\n",
    "results = sm.ols(formula=\"B ~ A\", data=df[['B', 'A']]).fit()\n",
    "hedgeRatio = results.params[1]"
   ]
  },
  {
   "cell_type": "code",
   "execution_count": 50,
   "id": "25905adc-008c-494c-932a-1a10a2d44f7c",
   "metadata": {
    "tags": []
   },
   "outputs": [],
   "source": [
    "def get_result(l, thres, s_thres, fee=0.001):\n",
    "    \"\"\"generates the profit\n",
    "    l is length/lookback period, used for spread's mean and std\"\"\"\n",
    "    spread = pd.Series((df['B'] - hedgeRatio * df['A'])).rename(\"spread\").to_frame()\n",
    "    spread[\"mean\"] = spread.spread.rolling(l).mean()\n",
    "    spread[\"std\"] =  spread.spread.rolling(l).std()\n",
    "    spread[\"zscore\"] = pd.Series((spread[\"spread\"]-spread[\"mean\"])/spread[\"std\"])\n",
    "    spread = spread.dropna()\n",
    "    spread[\"A\"] = df1[\"close\"].reindex(spread.index)\n",
    "    spread[\"Ah\"] = df1[\"high\"].reindex(spread.index)\n",
    "    spread[\"Al\"] = df1[\"low\"].reindex(spread.index)\n",
    "\n",
    "    spread[\"B\"] = df2[\"close\"].reindex(spread.index)\n",
    "    spread[\"Bh\"] = df2[\"high\"].reindex(spread.index)\n",
    "    spread[\"Bl\"] = df2[\"low\"].reindex(spread.index)\n",
    "    return run_backtest(spread, thres, s_thres, fee)\n",
    "    \n",
    "def run_backtest(spread, thres, s_thres, fee):\n",
    "    # Buy  random value between high and low\n",
    "    total = 100.\n",
    "    fee = fee       #Set double normal rate\n",
    "    thres = thres         #2\n",
    "    sell_thres = s_thres   # 0, in range [0, ...) for more travel\n",
    "    price_a = None\n",
    "    price_b = None\n",
    "    long = None       #Values: None, \"A\", \"B\"\n",
    "    trades = 0\n",
    "    for i in range(spread.shape[0]):\n",
    "        z = spread.zscore[i]\n",
    "        if long == None: # Looking to buy\n",
    "            if z>thres or z<-thres:\n",
    "                trades += 1\n",
    "                al, ah, bl, bh = get_a_b(spread.Al[i], spread.A[i], spread.Ah[i], spread.Bl[i], spread.B[i], spread.Bh[i])\n",
    "                if z>thres: \n",
    "                    price_a = [ah, ((total/2)/ah)*(1.-fee)]\n",
    "                    price_b = [bl, ((total/2)/bl)*(1.-fee)]\n",
    "                    long = \"B\"\n",
    "                elif z<-thres:\n",
    "                    price_a = [al, ((total/2)/al)*(1.-fee)]\n",
    "                    price_b = [bh, ((total/2)/bh)*(1.-fee)]\n",
    "                    long = \"A\"\n",
    "        if long == \"A\" and z>sell_thres: #Liquidate positions\n",
    "            al, ah, bl, bh = get_a_b(spread.Al[i], spread.A[i], spread.Ah[i], spread.Bl[i], spread.B[i], spread.Bh[i])\n",
    "            total += (price_a[0] - ah)*price_a[1]-(ah*price_a[1]*fee)\n",
    "            total += (bl - price_b[0])*price_b[1]-(bl*price_b[1]*fee)\n",
    "            price_a, price_b, long = None, None, None\n",
    "        elif long == \"B\" and z<-sell_thres: #Liquidate positions\n",
    "            al, ah, bl, bh = get_a_b(spread.Al[i], spread.A[i], spread.Ah[i], spread.Bl[i], spread.B[i], spread.Bh[i])\n",
    "            total += (al - price_a[0])*price_a[1]-(al*price_a[1]*fee)\n",
    "            total += (price_b[0] - bh)*price_b[1]-(bh*price_b[1]*fee)\n",
    "            price_a, price_b, long = None, None, None\n",
    "    return total, trades\n",
    "    \n",
    "def get_a_b(al, ac, ah, bl, bc, bh):\n",
    "    return ac-abs(ac-al)/2, ac+abs(ac-ah)/2, bc-abs(bc-bl)/2, bc+abs(bc-bh)/2"
   ]
  },
  {
   "cell_type": "code",
   "execution_count": 10,
   "id": "4609b1f8-caea-4f0e-a2e4-28f1c7375c14",
   "metadata": {},
   "outputs": [
    {
     "data": {
      "text/plain": [
       "14.755175828933716"
      ]
     },
     "execution_count": 10,
     "metadata": {},
     "output_type": "execute_result"
    }
   ],
   "source": [
    "start = time.time()\n",
    "get_result(6000, 2, -1)\n",
    "time.time()-start"
   ]
  },
  {
   "cell_type": "code",
   "execution_count": 21,
   "id": "735cef9b-d99b-426a-9001-116dc5828959",
   "metadata": {},
   "outputs": [],
   "source": [
    "d = {\"l\":[], \"thres\":[], \"sell_thres\":[], \"result\":[]}"
   ]
  },
  {
   "cell_type": "code",
   "execution_count": 28,
   "id": "57ca56dc-e1ce-4caa-a3f7-439f74eec7bb",
   "metadata": {},
   "outputs": [],
   "source": [
    "d[\"l\"].append(3)\n",
    "d[\"thres\"].append(3)\n",
    "d[\"sell_thres\"].append(3)\n",
    "d[\"l\"].append(5)\n",
    "d[\"thres\"].append(5)\n",
    "d[\"sell_thres\"].append(6)\n",
    "d[\"l\"].append(1)\n",
    "d[\"thres\"].append(2)\n",
    "d[\"sell_thres\"].append(1)"
   ]
  },
  {
   "cell_type": "code",
   "execution_count": 29,
   "id": "e680f56f-3c3d-4888-89cd-5b4b1b61d4a4",
   "metadata": {},
   "outputs": [
    {
     "data": {
      "text/plain": [
       "{'l': [3, 3, 5, 3, 5, 1],\n",
       " 'thres': [3, 3, 5, 3, 5, 2],\n",
       " 'sell_thres': [3, 3, 6, 3, 6, 1]}"
      ]
     },
     "execution_count": 29,
     "metadata": {},
     "output_type": "execute_result"
    }
   ],
   "source": [
    "d"
   ]
  },
  {
   "cell_type": "code",
   "execution_count": 40,
   "id": "fb8beeb5-e1d3-4065-871b-f7da4629ce02",
   "metadata": {},
   "outputs": [
    {
     "name": "stdout",
     "output_type": "stream",
     "text": [
      "l             6000.000000\n",
      "thres            2.000000\n",
      "sell_thres      -1.000000\n",
      "result         179.341959\n",
      "Name: 1, dtype: float64\n"
     ]
    }
   ],
   "source": [
    "print(pd.DataFrame(d).sort_values(\"l\", ascending=False).iloc[0])"
   ]
  },
  {
   "cell_type": "code",
   "execution_count": 51,
   "id": "1c40a501-33b3-469a-b9da-88d1d1de94d0",
   "metadata": {},
   "outputs": [
    {
     "name": "stdout",
     "output_type": "stream",
     "text": [
      "l             2000.000000\n",
      "thres            0.700000\n",
      "sell_thres       0.900000\n",
      "trades        1080.000000\n",
      "result         502.221957\n",
      "Name: 243, dtype: float64\n"
     ]
    }
   ],
   "source": [
    "d = {\"l\":[], \"thres\":[], \"sell_thres\":[], \"trades\":[], \"result\":[]}\n",
    "for l in [500, 1000, 2000, 4000, 6000, 8000, 10000, 13000, 15000, 20000, 30000, 50000]:\n",
    "    for thres in [0.4, 0.7, 1, 1.3, 1.7, 2., 2.3, 2.6, 2.9, 3.2]:\n",
    "        for sell_thres in [-1.8, -1.5, -1.2, -0.9, -0.6, -0.3, 0., 0.3, 0.6, 0.9, 1.2, 1.5, 2.]:\n",
    "            if sell_thres <= -thres:\n",
    "                continue\n",
    "            print(f\"Now doing l: {l}, thres: {thres}, sell_thres: {sell_thres}\")\n",
    "            d[\"l\"].append(l)\n",
    "            d[\"thres\"].append(thres)\n",
    "            d[\"sell_thres\"].append(sell_thres)\n",
    "            result, trades = get_result(l, thres, sell_thres)\n",
    "            d[\"trades\"].append(trades)\n",
    "            d[\"result\"].append(result)\n",
    "            clear_output()\n",
    "            print(pd.DataFrame(d).sort_values(\"result\", ascending=False).iloc[0])"
   ]
  },
  {
   "cell_type": "code",
   "execution_count": 52,
   "id": "2b66761e-d4ee-4a6a-9afc-b5fad35caf09",
   "metadata": {},
   "outputs": [],
   "source": [
    "df = pd.DataFrame(d)"
   ]
  },
  {
   "cell_type": "code",
   "execution_count": 55,
   "id": "ca3aa0d3-99d6-464b-86bf-c630c119c96a",
   "metadata": {},
   "outputs": [
    {
     "data": {
      "text/html": [
       "<div>\n",
       "<style scoped>\n",
       "    .dataframe tbody tr th:only-of-type {\n",
       "        vertical-align: middle;\n",
       "    }\n",
       "\n",
       "    .dataframe tbody tr th {\n",
       "        vertical-align: top;\n",
       "    }\n",
       "\n",
       "    .dataframe thead th {\n",
       "        text-align: right;\n",
       "    }\n",
       "</style>\n",
       "<table border=\"1\" class=\"dataframe\">\n",
       "  <thead>\n",
       "    <tr style=\"text-align: right;\">\n",
       "      <th></th>\n",
       "      <th>l</th>\n",
       "      <th>thres</th>\n",
       "      <th>sell_thres</th>\n",
       "      <th>trades</th>\n",
       "      <th>result</th>\n",
       "    </tr>\n",
       "  </thead>\n",
       "  <tbody>\n",
       "    <tr>\n",
       "      <th>243</th>\n",
       "      <td>2000</td>\n",
       "      <td>0.7</td>\n",
       "      <td>0.9</td>\n",
       "      <td>1080</td>\n",
       "      <td>502.221957</td>\n",
       "    </tr>\n",
       "    <tr>\n",
       "      <th>234</th>\n",
       "      <td>2000</td>\n",
       "      <td>0.4</td>\n",
       "      <td>0.9</td>\n",
       "      <td>1088</td>\n",
       "      <td>494.449979</td>\n",
       "    </tr>\n",
       "    <tr>\n",
       "      <th>253</th>\n",
       "      <td>2000</td>\n",
       "      <td>1.0</td>\n",
       "      <td>0.9</td>\n",
       "      <td>1012</td>\n",
       "      <td>448.397588</td>\n",
       "    </tr>\n",
       "    <tr>\n",
       "      <th>348</th>\n",
       "      <td>4000</td>\n",
       "      <td>0.4</td>\n",
       "      <td>0.6</td>\n",
       "      <td>891</td>\n",
       "      <td>413.044896</td>\n",
       "    </tr>\n",
       "    <tr>\n",
       "      <th>242</th>\n",
       "      <td>2000</td>\n",
       "      <td>0.7</td>\n",
       "      <td>0.6</td>\n",
       "      <td>1505</td>\n",
       "      <td>399.001676</td>\n",
       "    </tr>\n",
       "    <tr>\n",
       "      <th>233</th>\n",
       "      <td>2000</td>\n",
       "      <td>0.4</td>\n",
       "      <td>0.6</td>\n",
       "      <td>1656</td>\n",
       "      <td>382.715078</td>\n",
       "    </tr>\n",
       "    <tr>\n",
       "      <th>426</th>\n",
       "      <td>4000</td>\n",
       "      <td>2.6</td>\n",
       "      <td>-0.3</td>\n",
       "      <td>341</td>\n",
       "      <td>359.575355</td>\n",
       "    </tr>\n",
       "    <tr>\n",
       "      <th>301</th>\n",
       "      <td>2000</td>\n",
       "      <td>2.3</td>\n",
       "      <td>0.6</td>\n",
       "      <td>604</td>\n",
       "      <td>348.545277</td>\n",
       "    </tr>\n",
       "    <tr>\n",
       "      <th>300</th>\n",
       "      <td>2000</td>\n",
       "      <td>2.3</td>\n",
       "      <td>0.3</td>\n",
       "      <td>650</td>\n",
       "      <td>348.121364</td>\n",
       "    </tr>\n",
       "    <tr>\n",
       "      <th>252</th>\n",
       "      <td>2000</td>\n",
       "      <td>1.0</td>\n",
       "      <td>0.6</td>\n",
       "      <td>1225</td>\n",
       "      <td>344.998788</td>\n",
       "    </tr>\n",
       "    <tr>\n",
       "      <th>264</th>\n",
       "      <td>2000</td>\n",
       "      <td>1.3</td>\n",
       "      <td>0.9</td>\n",
       "      <td>886</td>\n",
       "      <td>322.857969</td>\n",
       "    </tr>\n",
       "    <tr>\n",
       "      <th>276</th>\n",
       "      <td>2000</td>\n",
       "      <td>1.7</td>\n",
       "      <td>0.9</td>\n",
       "      <td>738</td>\n",
       "      <td>322.272387</td>\n",
       "    </tr>\n",
       "    <tr>\n",
       "      <th>151</th>\n",
       "      <td>1000</td>\n",
       "      <td>1.3</td>\n",
       "      <td>1.5</td>\n",
       "      <td>1294</td>\n",
       "      <td>321.674272</td>\n",
       "    </tr>\n",
       "    <tr>\n",
       "      <th>275</th>\n",
       "      <td>2000</td>\n",
       "      <td>1.7</td>\n",
       "      <td>0.6</td>\n",
       "      <td>824</td>\n",
       "      <td>320.066584</td>\n",
       "    </tr>\n",
       "    <tr>\n",
       "      <th>357</th>\n",
       "      <td>4000</td>\n",
       "      <td>0.7</td>\n",
       "      <td>0.6</td>\n",
       "      <td>808</td>\n",
       "      <td>318.954600</td>\n",
       "    </tr>\n",
       "    <tr>\n",
       "      <th>288</th>\n",
       "      <td>2000</td>\n",
       "      <td>2.0</td>\n",
       "      <td>0.6</td>\n",
       "      <td>698</td>\n",
       "      <td>318.659547</td>\n",
       "    </tr>\n",
       "    <tr>\n",
       "      <th>255</th>\n",
       "      <td>2000</td>\n",
       "      <td>1.0</td>\n",
       "      <td>1.5</td>\n",
       "      <td>651</td>\n",
       "      <td>318.620794</td>\n",
       "    </tr>\n",
       "    <tr>\n",
       "      <th>266</th>\n",
       "      <td>2000</td>\n",
       "      <td>1.3</td>\n",
       "      <td>1.5</td>\n",
       "      <td>649</td>\n",
       "      <td>318.224214</td>\n",
       "    </tr>\n",
       "    <tr>\n",
       "      <th>245</th>\n",
       "      <td>2000</td>\n",
       "      <td>0.7</td>\n",
       "      <td>1.5</td>\n",
       "      <td>652</td>\n",
       "      <td>318.094606</td>\n",
       "    </tr>\n",
       "    <tr>\n",
       "      <th>236</th>\n",
       "      <td>2000</td>\n",
       "      <td>0.4</td>\n",
       "      <td>1.5</td>\n",
       "      <td>652</td>\n",
       "      <td>315.372820</td>\n",
       "    </tr>\n",
       "  </tbody>\n",
       "</table>\n",
       "</div>"
      ],
      "text/plain": [
       "        l  thres  sell_thres  trades      result\n",
       "243  2000    0.7         0.9    1080  502.221957\n",
       "234  2000    0.4         0.9    1088  494.449979\n",
       "253  2000    1.0         0.9    1012  448.397588\n",
       "348  4000    0.4         0.6     891  413.044896\n",
       "242  2000    0.7         0.6    1505  399.001676\n",
       "233  2000    0.4         0.6    1656  382.715078\n",
       "426  4000    2.6        -0.3     341  359.575355\n",
       "301  2000    2.3         0.6     604  348.545277\n",
       "300  2000    2.3         0.3     650  348.121364\n",
       "252  2000    1.0         0.6    1225  344.998788\n",
       "264  2000    1.3         0.9     886  322.857969\n",
       "276  2000    1.7         0.9     738  322.272387\n",
       "151  1000    1.3         1.5    1294  321.674272\n",
       "275  2000    1.7         0.6     824  320.066584\n",
       "357  4000    0.7         0.6     808  318.954600\n",
       "288  2000    2.0         0.6     698  318.659547\n",
       "255  2000    1.0         1.5     651  318.620794\n",
       "266  2000    1.3         1.5     649  318.224214\n",
       "245  2000    0.7         1.5     652  318.094606\n",
       "236  2000    0.4         1.5     652  315.372820"
      ]
     },
     "execution_count": 55,
     "metadata": {},
     "output_type": "execute_result"
    }
   ],
   "source": [
    "df.sort_values(\"result\", ascending=False).head(20)"
   ]
  },
  {
   "cell_type": "code",
   "execution_count": null,
   "id": "d5f8377b-ed3b-4457-9bbf-321612d6f10b",
   "metadata": {},
   "outputs": [],
   "source": []
  }
 ],
 "metadata": {
  "kernelspec": {
   "display_name": "Python 3",
   "language": "python",
   "name": "python3"
  },
  "language_info": {
   "codemirror_mode": {
    "name": "ipython",
    "version": 3
   },
   "file_extension": ".py",
   "mimetype": "text/x-python",
   "name": "python",
   "nbconvert_exporter": "python",
   "pygments_lexer": "ipython3",
   "version": "3.9.4"
  }
 },
 "nbformat": 4,
 "nbformat_minor": 5
}
