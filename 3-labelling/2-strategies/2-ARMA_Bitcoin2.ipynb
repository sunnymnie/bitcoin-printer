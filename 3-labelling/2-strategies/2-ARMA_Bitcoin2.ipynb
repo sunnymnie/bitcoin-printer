{
 "cells": [
  {
   "cell_type": "code",
   "execution_count": 1,
   "metadata": {},
   "outputs": [],
   "source": [
    "from datetime import datetime, timedelta\n",
    "from tqdm import tqdm\n",
    "import itertools"
   ]
  },
  {
   "cell_type": "code",
   "execution_count": 2,
   "metadata": {},
   "outputs": [],
   "source": [
    "from statsmodels.graphics.tsaplots import plot_acf, plot_pacf\n",
    "from statsmodels.tsa.arima.model import ARIMA\n",
    "from statsmodels.tsa.stattools import adfuller\n",
    "\n",
    "import matplotlib.pyplot as plt\n",
    "import numpy as np\n",
    "import seaborn as sns\n",
    "import pandas as pd"
   ]
  },
  {
   "cell_type": "code",
   "execution_count": 3,
   "metadata": {},
   "outputs": [],
   "source": [
    "from statsmodels.tools.sm_exceptions import ValueWarning, HessianInversionWarning, ConvergenceWarning\n",
    "import warnings\n",
    "\n",
    "# warnings.filterwarnings(\"ignore\", category=DeprecationWarning) \n",
    "# warnings.filterwarnings('ignore', category=ValueWarning)\n",
    "# warnings.filterwarnings('ignore', category=HessianInversionWarning)\n",
    "warnings.filterwarnings('ignore', category=ConvergenceWarning)\n",
    "warnings.filterwarnings('ignore', 'statsmodels.tsa.arima_model.ARMA', FutureWarning)\n",
    "warnings.filterwarnings('ignore', 'statsmodels.tsa.arima_model.ARIMA', FutureWarning)"
   ]
  },
  {
   "cell_type": "markdown",
   "metadata": {
    "heading_collapsed": true
   },
   "source": [
    "# Data"
   ]
  },
  {
   "cell_type": "markdown",
   "metadata": {
    "heading_collapsed": true,
    "hidden": true
   },
   "source": [
    "## Dataframes"
   ]
  },
  {
   "cell_type": "code",
   "execution_count": 4,
   "metadata": {
    "hidden": true
   },
   "outputs": [],
   "source": [
    "df = pd.read_csv('../../data/BTCUSDT-minute.csv')"
   ]
  },
  {
   "cell_type": "code",
   "execution_count": 5,
   "metadata": {
    "hidden": true
   },
   "outputs": [
    {
     "data": {
      "text/html": [
       "<div>\n",
       "<style scoped>\n",
       "    .dataframe tbody tr th:only-of-type {\n",
       "        vertical-align: middle;\n",
       "    }\n",
       "\n",
       "    .dataframe tbody tr th {\n",
       "        vertical-align: top;\n",
       "    }\n",
       "\n",
       "    .dataframe thead th {\n",
       "        text-align: right;\n",
       "    }\n",
       "</style>\n",
       "<table border=\"1\" class=\"dataframe\">\n",
       "  <thead>\n",
       "    <tr style=\"text-align: right;\">\n",
       "      <th></th>\n",
       "      <th>timestamp</th>\n",
       "      <th>open</th>\n",
       "      <th>high</th>\n",
       "      <th>low</th>\n",
       "      <th>close</th>\n",
       "      <th>volume</th>\n",
       "    </tr>\n",
       "  </thead>\n",
       "  <tbody>\n",
       "    <tr>\n",
       "      <th>0</th>\n",
       "      <td>2017-08-17 04:00:00</td>\n",
       "      <td>4261.48</td>\n",
       "      <td>4261.48</td>\n",
       "      <td>4261.48</td>\n",
       "      <td>4261.48</td>\n",
       "      <td>1.775183</td>\n",
       "    </tr>\n",
       "    <tr>\n",
       "      <th>1</th>\n",
       "      <td>2017-08-17 04:01:00</td>\n",
       "      <td>4261.48</td>\n",
       "      <td>4261.48</td>\n",
       "      <td>4261.48</td>\n",
       "      <td>4261.48</td>\n",
       "      <td>0.000000</td>\n",
       "    </tr>\n",
       "    <tr>\n",
       "      <th>2</th>\n",
       "      <td>2017-08-17 04:02:00</td>\n",
       "      <td>4280.56</td>\n",
       "      <td>4280.56</td>\n",
       "      <td>4280.56</td>\n",
       "      <td>4280.56</td>\n",
       "      <td>0.261074</td>\n",
       "    </tr>\n",
       "    <tr>\n",
       "      <th>3</th>\n",
       "      <td>2017-08-17 04:03:00</td>\n",
       "      <td>4261.48</td>\n",
       "      <td>4261.48</td>\n",
       "      <td>4261.48</td>\n",
       "      <td>4261.48</td>\n",
       "      <td>0.012008</td>\n",
       "    </tr>\n",
       "    <tr>\n",
       "      <th>4</th>\n",
       "      <td>2017-08-17 04:04:00</td>\n",
       "      <td>4261.48</td>\n",
       "      <td>4261.48</td>\n",
       "      <td>4261.48</td>\n",
       "      <td>4261.48</td>\n",
       "      <td>0.140796</td>\n",
       "    </tr>\n",
       "    <tr>\n",
       "      <th>...</th>\n",
       "      <td>...</td>\n",
       "      <td>...</td>\n",
       "      <td>...</td>\n",
       "      <td>...</td>\n",
       "      <td>...</td>\n",
       "      <td>...</td>\n",
       "    </tr>\n",
       "    <tr>\n",
       "      <th>1988733</th>\n",
       "      <td>2021-06-03 20:24:00</td>\n",
       "      <td>38665.26</td>\n",
       "      <td>38689.56</td>\n",
       "      <td>38655.91</td>\n",
       "      <td>38682.52</td>\n",
       "      <td>14.795718</td>\n",
       "    </tr>\n",
       "    <tr>\n",
       "      <th>1988734</th>\n",
       "      <td>2021-06-03 20:25:00</td>\n",
       "      <td>38682.52</td>\n",
       "      <td>38682.53</td>\n",
       "      <td>38643.07</td>\n",
       "      <td>38649.70</td>\n",
       "      <td>16.778473</td>\n",
       "    </tr>\n",
       "    <tr>\n",
       "      <th>1988735</th>\n",
       "      <td>2021-06-03 20:26:00</td>\n",
       "      <td>38649.69</td>\n",
       "      <td>38682.52</td>\n",
       "      <td>38649.69</td>\n",
       "      <td>38682.52</td>\n",
       "      <td>15.709853</td>\n",
       "    </tr>\n",
       "    <tr>\n",
       "      <th>1988736</th>\n",
       "      <td>2021-06-03 20:27:00</td>\n",
       "      <td>38682.52</td>\n",
       "      <td>38682.69</td>\n",
       "      <td>38640.40</td>\n",
       "      <td>38649.38</td>\n",
       "      <td>23.010205</td>\n",
       "    </tr>\n",
       "    <tr>\n",
       "      <th>1988737</th>\n",
       "      <td>2021-06-03 20:28:00</td>\n",
       "      <td>38649.38</td>\n",
       "      <td>38718.00</td>\n",
       "      <td>38648.01</td>\n",
       "      <td>38700.51</td>\n",
       "      <td>48.112405</td>\n",
       "    </tr>\n",
       "  </tbody>\n",
       "</table>\n",
       "<p>1988738 rows × 6 columns</p>\n",
       "</div>"
      ],
      "text/plain": [
       "                   timestamp      open      high       low     close  \\\n",
       "0        2017-08-17 04:00:00   4261.48   4261.48   4261.48   4261.48   \n",
       "1        2017-08-17 04:01:00   4261.48   4261.48   4261.48   4261.48   \n",
       "2        2017-08-17 04:02:00   4280.56   4280.56   4280.56   4280.56   \n",
       "3        2017-08-17 04:03:00   4261.48   4261.48   4261.48   4261.48   \n",
       "4        2017-08-17 04:04:00   4261.48   4261.48   4261.48   4261.48   \n",
       "...                      ...       ...       ...       ...       ...   \n",
       "1988733  2021-06-03 20:24:00  38665.26  38689.56  38655.91  38682.52   \n",
       "1988734  2021-06-03 20:25:00  38682.52  38682.53  38643.07  38649.70   \n",
       "1988735  2021-06-03 20:26:00  38649.69  38682.52  38649.69  38682.52   \n",
       "1988736  2021-06-03 20:27:00  38682.52  38682.69  38640.40  38649.38   \n",
       "1988737  2021-06-03 20:28:00  38649.38  38718.00  38648.01  38700.51   \n",
       "\n",
       "            volume  \n",
       "0         1.775183  \n",
       "1         0.000000  \n",
       "2         0.261074  \n",
       "3         0.012008  \n",
       "4         0.140796  \n",
       "...            ...  \n",
       "1988733  14.795718  \n",
       "1988734  16.778473  \n",
       "1988735  15.709853  \n",
       "1988736  23.010205  \n",
       "1988737  48.112405  \n",
       "\n",
       "[1988738 rows x 6 columns]"
      ]
     },
     "execution_count": 5,
     "metadata": {},
     "output_type": "execute_result"
    }
   ],
   "source": [
    "df"
   ]
  },
  {
   "cell_type": "code",
   "execution_count": 6,
   "metadata": {
    "hidden": true
   },
   "outputs": [],
   "source": [
    "# df.to_csv('../../bitcoin-printer/data/BTCUSDT-minute.csv', index=False)"
   ]
  },
  {
   "cell_type": "code",
   "execution_count": 7,
   "metadata": {
    "hidden": true
   },
   "outputs": [],
   "source": [
    "df1 = df.drop(['open', 'high', 'low'], axis=1).reset_index(drop=True)"
   ]
  },
  {
   "cell_type": "code",
   "execution_count": 8,
   "metadata": {
    "hidden": true
   },
   "outputs": [],
   "source": [
    "df1['returns'] = df1['close'].pct_change()\n",
    "df1.dropna(axis=0, inplace=True)"
   ]
  },
  {
   "cell_type": "code",
   "execution_count": 9,
   "metadata": {
    "hidden": true
   },
   "outputs": [],
   "source": [
    "df2 = df1.iloc[::60].reset_index(drop=True)"
   ]
  },
  {
   "cell_type": "code",
   "execution_count": 11,
   "metadata": {
    "hidden": true
   },
   "outputs": [],
   "source": [
    "# df2"
   ]
  },
  {
   "cell_type": "code",
   "execution_count": 12,
   "metadata": {
    "hidden": true
   },
   "outputs": [],
   "source": [
    "df3 = df2.iloc[30000:].reset_index(drop=True)"
   ]
  },
  {
   "cell_type": "code",
   "execution_count": 13,
   "metadata": {
    "hidden": true
   },
   "outputs": [],
   "source": [
    "# df3"
   ]
  },
  {
   "cell_type": "markdown",
   "metadata": {
    "heading_collapsed": true,
    "hidden": true
   },
   "source": [
    "## Plotting"
   ]
  },
  {
   "cell_type": "code",
   "execution_count": 42,
   "metadata": {
    "hidden": true,
    "scrolled": true
   },
   "outputs": [
    {
     "data": {
      "text/plain": [
       "Text(0, 0.5, 'close')"
      ]
     },
     "execution_count": 42,
     "metadata": {},
     "output_type": "execute_result"
    },
    {
     "data": {
      "image/png": "[encoded data removed]",
      "text/plain": [
       "<Figure size 720x288 with 1 Axes>"
      ]
     },
     "metadata": {
      "needs_background": "light"
     },
     "output_type": "display_data"
    }
   ],
   "source": [
    "plt.figure(figsize=(10,4))\n",
    "plt.plot(df2['close'])\n",
    "plt.ylabel('close', fontsize=18)"
   ]
  },
  {
   "cell_type": "code",
   "execution_count": 22,
   "metadata": {
    "hidden": true
   },
   "outputs": [
    {
     "data": {
      "text/plain": [
       "Text(0, 0.5, 'close')"
      ]
     },
     "execution_count": 22,
     "metadata": {},
     "output_type": "execute_result"
    },
    {
     "data": {
      "image/png": "[encoded data removed]",
      "text/plain": [
       "<Figure size 720x288 with 1 Axes>"
      ]
     },
     "metadata": {
      "needs_background": "light"
     },
     "output_type": "display_data"
    }
   ],
   "source": [
    "plt.figure(figsize=(10,4))\n",
    "plt.plot(df3['close'])\n",
    "plt.ylabel('close', fontsize=18)"
   ]
  },
  {
   "cell_type": "code",
   "execution_count": 21,
   "metadata": {
    "hidden": true,
    "scrolled": false
   },
   "outputs": [
    {
     "data": {
      "text/plain": [
       "Text(0, 0.5, 'returns')"
      ]
     },
     "execution_count": 21,
     "metadata": {},
     "output_type": "execute_result"
    },
    {
     "data": {
      "image/png": "[encoded data removed]",
      "text/plain": [
       "<Figure size 720x288 with 1 Axes>"
      ]
     },
     "metadata": {
      "needs_background": "light"
     },
     "output_type": "display_data"
    }
   ],
   "source": [
    "plt.figure(figsize=(10,4))\n",
    "plt.plot(df3['returns'])\n",
    "plt.ylabel('returns', fontsize=18)"
   ]
  },
  {
   "cell_type": "code",
   "execution_count": 29,
   "metadata": {
    "hidden": true
   },
   "outputs": [
    {
     "name": "stdout",
     "output_type": "stream",
     "text": [
      "ADF Statistic: -56.563246923327284\n",
      "p-value: 0.0\n",
      "   1%, -3.4324309683280463\n",
      "   5%, -2.8624594436604216\n",
      "   10%, -2.5672594413875207\n"
     ]
    }
   ],
   "source": [
    "result = adfuller(df3['returns'])\n",
    "print(f'ADF Statistic: {result[0]}')\n",
    "print(f'p-value: {result[1]}')\n",
    "for key, value in result[4].items(): print(f'   {key}, {value}')  "
   ]
  },
  {
   "cell_type": "markdown",
   "metadata": {
    "heading_collapsed": true,
    "hidden": true
   },
   "source": [
    "## Autocorrelation"
   ]
  },
  {
   "cell_type": "code",
   "execution_count": 19,
   "metadata": {
    "hidden": true
   },
   "outputs": [
    {
     "data": {
      "text/plain": [
       "<Figure size 720x720 with 0 Axes>"
      ]
     },
     "metadata": {},
     "output_type": "display_data"
    },
    {
     "data": {
      "image/png": "[encoded data removed]",
      "text/plain": [
       "<Figure size 720x720 with 1 Axes>"
      ]
     },
     "metadata": {
      "needs_background": "light"
     },
     "output_type": "display_data"
    }
   ],
   "source": [
    "plt.figure(figsize=(10,10))\n",
    "fig = plot_acf(df3['returns'])\n",
    "fig.set_size_inches(10,10)"
   ]
  },
  {
   "cell_type": "code",
   "execution_count": 20,
   "metadata": {
    "hidden": true
   },
   "outputs": [
    {
     "data": {
      "text/plain": [
       "<Figure size 720x720 with 0 Axes>"
      ]
     },
     "metadata": {},
     "output_type": "display_data"
    },
    {
     "data": {
      "image/png": "[encoded data removed]",
      "text/plain": [
       "<Figure size 720x720 with 1 Axes>"
      ]
     },
     "metadata": {
      "needs_background": "light"
     },
     "output_type": "display_data"
    }
   ],
   "source": [
    "plt.figure(figsize=(10,10))\n",
    "fig = plot_pacf(df3['returns'])\n",
    "fig.set_size_inches(10,10)"
   ]
  },
  {
   "cell_type": "markdown",
   "metadata": {
    "heading_collapsed": true
   },
   "source": [
    "# Random"
   ]
  },
  {
   "cell_type": "code",
   "execution_count": 11,
   "metadata": {
    "hidden": true,
    "scrolled": true
   },
   "outputs": [
    {
     "name": "stderr",
     "output_type": "stream",
     "text": [
      "100%|██████████| 3132/3132 [00:00<00:00, 29725.84it/s]\n"
     ]
    },
    {
     "data": {
      "text/plain": [
       "107.6191950344062"
      ]
     },
     "execution_count": 11,
     "metadata": {},
     "output_type": "execute_result"
    }
   ],
   "source": [
    "run_simulation(df2['returns'][30000:], df2['close'][30000:], 100, 0.5, None, verbose=False)"
   ]
  },
  {
   "cell_type": "code",
   "execution_count": 13,
   "metadata": {
    "hidden": true,
    "scrolled": true
   },
   "outputs": [
    {
     "name": "stderr",
     "output_type": "stream",
     "text": [
      "100%|██████████| 3132/3132 [00:00<00:00, 27795.71it/s]\n",
      "100%|██████████| 3132/3132 [00:00<00:00, 32397.55it/s]\n",
      "100%|██████████| 3132/3132 [00:00<00:00, 34576.81it/s]\n",
      "100%|██████████| 3132/3132 [00:00<00:00, 35116.04it/s]\n",
      "100%|██████████| 3132/3132 [00:00<00:00, 35474.40it/s]\n",
      "100%|██████████| 3132/3132 [00:00<00:00, 34723.59it/s]\n",
      "100%|██████████| 3132/3132 [00:00<00:00, 33614.88it/s]\n",
      "100%|██████████| 3132/3132 [00:00<00:00, 33308.98it/s]\n",
      "100%|██████████| 3132/3132 [00:00<00:00, 35604.68it/s]\n",
      "100%|██████████| 3132/3132 [00:00<00:00, 33266.80it/s]\n",
      "100%|██████████| 3132/3132 [00:00<00:00, 34830.94it/s]\n",
      "100%|██████████| 3132/3132 [00:00<00:00, 34677.21it/s]\n",
      "100%|██████████| 3132/3132 [00:00<00:00, 34911.38it/s]\n",
      "100%|██████████| 3132/3132 [00:00<00:00, 32365.47it/s]\n",
      "100%|██████████| 3132/3132 [00:00<00:00, 32774.21it/s]\n",
      "100%|██████████| 3132/3132 [00:00<00:00, 35574.40it/s]\n",
      "100%|██████████| 3132/3132 [00:00<00:00, 34781.05it/s]\n",
      "100%|██████████| 3132/3132 [00:00<00:00, 33141.50it/s]\n",
      "100%|██████████| 3132/3132 [00:00<00:00, 34015.36it/s]\n",
      "100%|██████████| 3132/3132 [00:00<00:00, 35685.34it/s]\n",
      "100%|██████████| 3132/3132 [00:00<00:00, 34714.32it/s]\n",
      "100%|██████████| 3132/3132 [00:00<00:00, 34273.70it/s]\n",
      "100%|██████████| 3132/3132 [00:00<00:00, 35348.78it/s]\n",
      "100%|██████████| 3132/3132 [00:00<00:00, 34318.02it/s]\n",
      "100%|██████████| 3132/3132 [00:00<00:00, 36878.28it/s]\n",
      "100%|██████████| 3132/3132 [00:00<00:00, 36329.48it/s]\n",
      "100%|██████████| 3132/3132 [00:00<00:00, 36509.51it/s]\n",
      "100%|██████████| 3132/3132 [00:00<00:00, 35308.21it/s]\n",
      "100%|██████████| 3132/3132 [00:00<00:00, 35075.63it/s]\n",
      "100%|██████████| 3132/3132 [00:00<00:00, 32428.34it/s]\n",
      "100%|██████████| 3132/3132 [00:00<00:00, 35656.19it/s]\n",
      "100%|██████████| 3132/3132 [00:00<00:00, 32780.02it/s]\n",
      "100%|██████████| 3132/3132 [00:00<00:00, 29878.70it/s]\n",
      "100%|██████████| 3132/3132 [00:00<00:00, 32731.42it/s]\n",
      "100%|██████████| 3132/3132 [00:00<00:00, 34067.22it/s]\n",
      "100%|██████████| 3132/3132 [00:00<00:00, 34863.11it/s]\n",
      "100%|██████████| 3132/3132 [00:00<00:00, 34489.21it/s]\n",
      "100%|██████████| 3132/3132 [00:00<00:00, 34875.51it/s]\n",
      "100%|██████████| 3132/3132 [00:00<00:00, 31388.80it/s]\n",
      "100%|██████████| 3132/3132 [00:00<00:00, 33121.86it/s]\n",
      "100%|██████████| 3132/3132 [00:00<00:00, 34337.57it/s]\n",
      "100%|██████████| 3132/3132 [00:00<00:00, 34274.86it/s]\n",
      "100%|██████████| 3132/3132 [00:00<00:00, 34063.87it/s]\n",
      "100%|██████████| 3132/3132 [00:00<00:00, 33588.84it/s]\n",
      "100%|██████████| 3132/3132 [00:00<00:00, 34781.79it/s]\n",
      "100%|██████████| 3132/3132 [00:00<00:00, 33448.32it/s]\n",
      "100%|██████████| 3132/3132 [00:00<00:00, 33758.01it/s]\n",
      "100%|██████████| 3132/3132 [00:00<00:00, 33692.64it/s]\n",
      "100%|██████████| 3132/3132 [00:00<00:00, 32739.58it/s]\n",
      "100%|██████████| 3132/3132 [00:00<00:00, 30816.16it/s]\n",
      "100%|██████████| 3132/3132 [00:00<00:00, 33016.39it/s]\n",
      "100%|██████████| 3132/3132 [00:00<00:00, 36077.56it/s]\n",
      "100%|██████████| 3132/3132 [00:00<00:00, 33667.26it/s]\n",
      "100%|██████████| 3132/3132 [00:00<00:00, 35994.62it/s]\n",
      "100%|██████████| 3132/3132 [00:00<00:00, 35314.09it/s]\n",
      "100%|██████████| 3132/3132 [00:00<00:00, 35482.35it/s]\n",
      "100%|██████████| 3132/3132 [00:00<00:00, 32847.39it/s]\n",
      "100%|██████████| 3132/3132 [00:00<00:00, 33740.93it/s]\n",
      "100%|██████████| 3132/3132 [00:00<00:00, 33491.21it/s]\n",
      "100%|██████████| 3132/3132 [00:00<00:00, 34084.64it/s]\n",
      "100%|██████████| 3132/3132 [00:00<00:00, 35110.60it/s]\n",
      "100%|██████████| 3132/3132 [00:00<00:00, 34813.96it/s]\n",
      "100%|██████████| 3132/3132 [00:00<00:00, 36180.00it/s]\n",
      "100%|██████████| 3132/3132 [00:00<00:00, 35715.61it/s]\n",
      "100%|██████████| 3132/3132 [00:00<00:00, 33845.16it/s]\n",
      "100%|██████████| 3132/3132 [00:00<00:00, 36222.50it/s]\n",
      "100%|██████████| 3132/3132 [00:00<00:00, 35664.22it/s]\n",
      "100%|██████████| 3132/3132 [00:00<00:00, 35822.94it/s]\n",
      "100%|██████████| 3132/3132 [00:00<00:00, 34518.21it/s]\n",
      "100%|██████████| 3132/3132 [00:00<00:00, 34504.43it/s]\n",
      "100%|██████████| 3132/3132 [00:00<00:00, 36199.74it/s]\n",
      "100%|██████████| 3132/3132 [00:00<00:00, 32611.08it/s]\n",
      "100%|██████████| 3132/3132 [00:00<00:00, 33979.98it/s]\n",
      "100%|██████████| 3132/3132 [00:00<00:00, 30558.81it/s]\n",
      "100%|██████████| 3132/3132 [00:00<00:00, 32016.03it/s]\n",
      "100%|██████████| 3132/3132 [00:00<00:00, 34466.86it/s]\n",
      "100%|██████████| 3132/3132 [00:00<00:00, 35390.20it/s]\n",
      "100%|██████████| 3132/3132 [00:00<00:00, 34123.68it/s]\n",
      "100%|██████████| 3132/3132 [00:00<00:00, 35262.81it/s]\n",
      "100%|██████████| 3132/3132 [00:00<00:00, 32046.88it/s]\n",
      "100%|██████████| 3132/3132 [00:00<00:00, 34766.69it/s]\n",
      "100%|██████████| 3132/3132 [00:00<00:00, 33775.81it/s]\n",
      "100%|██████████| 3132/3132 [00:00<00:00, 34070.49it/s]\n",
      "100%|██████████| 3132/3132 [00:00<00:00, 33290.57it/s]\n",
      "100%|██████████| 3132/3132 [00:00<00:00, 33009.00it/s]\n",
      "100%|██████████| 3132/3132 [00:00<00:00, 35516.98it/s]\n",
      "100%|██████████| 3132/3132 [00:00<00:00, 34298.93it/s]\n",
      "100%|██████████| 3132/3132 [00:00<00:00, 35589.73it/s]\n",
      "100%|██████████| 3132/3132 [00:00<00:00, 36126.57it/s]\n",
      "100%|██████████| 3132/3132 [00:00<00:00, 35182.72it/s]\n",
      "100%|██████████| 3132/3132 [00:00<00:00, 34051.68it/s]\n",
      "100%|██████████| 3132/3132 [00:00<00:00, 30918.36it/s]\n",
      "100%|██████████| 3132/3132 [00:00<00:00, 32189.80it/s]\n",
      "100%|██████████| 3132/3132 [00:00<00:00, 34604.68it/s]\n",
      "100%|██████████| 3132/3132 [00:00<00:00, 34544.80it/s]\n",
      "100%|██████████| 3132/3132 [00:00<00:00, 34363.62it/s]\n",
      "100%|██████████| 3132/3132 [00:00<00:00, 32400.27it/s]\n",
      "100%|██████████| 3132/3132 [00:00<00:00, 30578.51it/s]\n",
      "100%|██████████| 3132/3132 [00:00<00:00, 28506.43it/s]\n",
      "100%|██████████| 3132/3132 [00:00<00:00, 30144.87it/s]\n",
      "100%|██████████| 3132/3132 [00:00<00:00, 32980.25it/s]\n",
      "100%|██████████| 3132/3132 [00:00<00:00, 29666.16it/s]\n",
      "100%|██████████| 3132/3132 [00:00<00:00, 29834.32it/s]\n",
      "100%|██████████| 3132/3132 [00:00<00:00, 30380.64it/s]\n",
      "100%|██████████| 3132/3132 [00:00<00:00, 29874.15it/s]\n",
      "100%|██████████| 3132/3132 [00:00<00:00, 29214.69it/s]\n",
      "100%|██████████| 3132/3132 [00:00<00:00, 31002.34it/s]\n",
      "100%|██████████| 3132/3132 [00:00<00:00, 35443.58it/s]\n",
      "100%|██████████| 3132/3132 [00:00<00:00, 31398.18it/s]\n",
      "100%|██████████| 3132/3132 [00:00<00:00, 28188.71it/s]\n",
      "100%|██████████| 3132/3132 [00:00<00:00, 30775.59it/s]\n",
      "100%|██████████| 3132/3132 [00:00<00:00, 35316.47it/s]\n",
      "100%|██████████| 3132/3132 [00:00<00:00, 29947.23it/s]\n",
      "100%|██████████| 3132/3132 [00:00<00:00, 29427.58it/s]\n",
      "100%|██████████| 3132/3132 [00:00<00:00, 29999.48it/s]\n",
      "100%|██████████| 3132/3132 [00:00<00:00, 30237.78it/s]\n",
      "100%|██████████| 3132/3132 [00:00<00:00, 30975.59it/s]\n",
      "100%|██████████| 3132/3132 [00:00<00:00, 31340.73it/s]\n",
      "100%|██████████| 3132/3132 [00:00<00:00, 35787.71it/s]\n",
      "100%|██████████| 3132/3132 [00:00<00:00, 35323.97it/s]\n",
      "100%|██████████| 3132/3132 [00:00<00:00, 34660.10it/s]\n",
      "100%|██████████| 3132/3132 [00:00<00:00, 35189.79it/s]\n",
      "100%|██████████| 3132/3132 [00:00<00:00, 31027.82it/s]\n",
      "100%|██████████| 3132/3132 [00:00<00:00, 32522.76it/s]\n",
      "100%|██████████| 3132/3132 [00:00<00:00, 35441.86it/s]\n",
      "100%|██████████| 3132/3132 [00:00<00:00, 34578.36it/s]\n",
      "100%|██████████| 3132/3132 [00:00<00:00, 32742.03it/s]\n",
      "100%|██████████| 3132/3132 [00:00<00:00, 32594.82it/s]\n",
      "100%|██████████| 3132/3132 [00:00<00:00, 32162.06it/s]\n",
      "100%|██████████| 3132/3132 [00:00<00:00, 30482.65it/s]\n",
      "100%|██████████| 3132/3132 [00:00<00:00, 32316.66it/s]\n",
      "100%|██████████| 3132/3132 [00:00<00:00, 33844.38it/s]\n",
      "100%|██████████| 3132/3132 [00:00<00:00, 31352.62it/s]\n",
      "100%|██████████| 3132/3132 [00:00<00:00, 32297.59it/s]\n",
      "100%|██████████| 3132/3132 [00:00<00:00, 31635.15it/s]\n",
      "100%|██████████| 3132/3132 [00:00<00:00, 30636.28it/s]\n",
      "100%|██████████| 3132/3132 [00:00<00:00, 34592.84it/s]\n",
      "100%|██████████| 3132/3132 [00:00<00:00, 34956.53it/s]\n",
      "100%|██████████| 3132/3132 [00:00<00:00, 37177.30it/s]\n",
      "100%|██████████| 3132/3132 [00:00<00:00, 38905.96it/s]\n",
      "100%|██████████| 3132/3132 [00:00<00:00, 38924.64it/s]\n",
      "100%|██████████| 3132/3132 [00:00<00:00, 33135.81it/s]\n",
      "100%|██████████| 3132/3132 [00:00<00:00, 31658.10it/s]\n",
      "100%|██████████| 3132/3132 [00:00<00:00, 28858.11it/s]\n",
      "100%|██████████| 3132/3132 [00:00<00:00, 30054.73it/s]\n",
      "100%|██████████| 3132/3132 [00:00<00:00, 30140.03it/s]\n",
      "100%|██████████| 3132/3132 [00:00<00:00, 36296.66it/s]\n",
      "100%|██████████| 3132/3132 [00:00<00:00, 30318.80it/s]\n",
      "100%|██████████| 3132/3132 [00:00<00:00, 32631.50it/s]\n",
      "100%|██████████| 3132/3132 [00:00<00:00, 31602.20it/s]\n",
      "100%|██████████| 3132/3132 [00:00<00:00, 32208.27it/s]\n",
      "100%|██████████| 3132/3132 [00:00<00:00, 31733.20it/s]\n",
      "100%|██████████| 3132/3132 [00:00<00:00, 33380.66it/s]\n",
      "100%|██████████| 3132/3132 [00:00<00:00, 30239.86it/s]\n",
      "100%|██████████| 3132/3132 [00:00<00:00, 32936.75it/s]\n",
      "100%|██████████| 3132/3132 [00:00<00:00, 30783.74it/s]\n",
      "100%|██████████| 3132/3132 [00:00<00:00, 30681.50it/s]\n",
      "100%|██████████| 3132/3132 [00:00<00:00, 32763.01it/s]\n",
      "100%|██████████| 3132/3132 [00:00<00:00, 34553.53it/s]\n",
      "100%|██████████| 3132/3132 [00:00<00:00, 31418.91it/s]\n",
      "100%|██████████| 3132/3132 [00:00<00:00, 31672.45it/s]\n",
      "100%|██████████| 3132/3132 [00:00<00:00, 31361.15it/s]\n",
      "100%|██████████| 3132/3132 [00:00<00:00, 31498.92it/s]\n",
      "100%|██████████| 3132/3132 [00:00<00:00, 32245.11it/s]\n",
      "100%|██████████| 3132/3132 [00:00<00:00, 34211.13it/s]\n",
      "100%|██████████| 3132/3132 [00:00<00:00, 34096.14it/s]\n",
      "100%|██████████| 3132/3132 [00:00<00:00, 34455.11it/s]\n",
      "100%|██████████| 3132/3132 [00:00<00:00, 33570.98it/s]\n",
      "100%|██████████| 3132/3132 [00:00<00:00, 34806.21it/s]\n",
      "100%|██████████| 3132/3132 [00:00<00:00, 35807.42it/s]\n",
      "100%|██████████| 3132/3132 [00:00<00:00, 31828.00it/s]\n",
      "100%|██████████| 3132/3132 [00:00<00:00, 30935.39it/s]\n",
      "100%|██████████| 3132/3132 [00:00<00:00, 31691.48it/s]\n",
      "100%|██████████| 3132/3132 [00:00<00:00, 34250.46it/s]\n",
      "100%|██████████| 3132/3132 [00:00<00:00, 33288.21it/s]\n",
      "100%|██████████| 3132/3132 [00:00<00:00, 33380.66it/s]\n",
      "100%|██████████| 3132/3132 [00:00<00:00, 32975.69it/s]\n",
      "100%|██████████| 3132/3132 [00:00<00:00, 29734.31it/s]\n",
      "100%|██████████| 3132/3132 [00:00<00:00, 30290.98it/s]\n",
      "100%|██████████| 3132/3132 [00:00<00:00, 27443.82it/s]\n",
      "100%|██████████| 3132/3132 [00:00<00:00, 28406.81it/s]\n",
      "100%|██████████| 3132/3132 [00:00<00:00, 27539.38it/s]\n",
      "100%|██████████| 3132/3132 [00:00<00:00, 30181.57it/s]\n",
      "100%|██████████| 3132/3132 [00:00<00:00, 29474.00it/s]\n",
      "100%|██████████| 3132/3132 [00:00<00:00, 34206.76it/s]\n",
      "100%|██████████| 3132/3132 [00:00<00:00, 36251.59it/s]\n",
      "100%|██████████| 3132/3132 [00:00<00:00, 37269.16it/s]\n",
      "100%|██████████| 3132/3132 [00:00<00:00, 37344.70it/s]\n",
      "100%|██████████| 3132/3132 [00:00<00:00, 31716.80it/s]\n",
      "100%|██████████| 3132/3132 [00:00<00:00, 27555.15it/s]\n",
      "100%|██████████| 3132/3132 [00:00<00:00, 28622.08it/s]\n",
      "100%|██████████| 3132/3132 [00:00<00:00, 32080.92it/s]\n",
      "100%|██████████| 3132/3132 [00:00<00:00, 36714.92it/s]\n",
      "100%|██████████| 3132/3132 [00:00<00:00, 30897.92it/s]\n",
      "100%|██████████| 3132/3132 [00:00<00:00, 31609.88it/s]\n",
      "100%|██████████| 3132/3132 [00:00<00:00, 31629.97it/s]\n",
      "100%|██████████| 3132/3132 [00:00<00:00, 32323.26it/s]\n",
      "100%|██████████| 3132/3132 [00:00<00:00, 33372.44it/s]\n",
      "100%|██████████| 3132/3132 [00:00<00:00, 33847.34it/s]\n",
      "100%|██████████| 3132/3132 [00:00<00:00, 34141.51it/s]\n",
      "100%|██████████| 3132/3132 [00:00<00:00, 34062.72it/s]\n",
      "100%|██████████| 3132/3132 [00:00<00:00, 33939.78it/s]\n",
      "100%|██████████| 3132/3132 [00:00<00:00, 34078.71it/s]\n",
      "100%|██████████| 3132/3132 [00:00<00:00, 33300.11it/s]\n",
      "100%|██████████| 3132/3132 [00:00<00:00, 32276.08it/s]\n",
      "100%|██████████| 3132/3132 [00:00<00:00, 33315.31it/s]\n",
      "100%|██████████| 3132/3132 [00:00<00:00, 33891.00it/s]\n",
      "100%|██████████| 3132/3132 [00:00<00:00, 35350.30it/s]\n",
      "100%|██████████| 3132/3132 [00:00<00:00, 36358.14it/s]\n",
      "100%|██████████| 3132/3132 [00:00<00:00, 34834.82it/s]\n",
      "100%|██████████| 3132/3132 [00:00<00:00, 35390.68it/s]\n",
      "100%|██████████| 3132/3132 [00:00<00:00, 33739.37it/s]\n",
      "100%|██████████| 3132/3132 [00:00<00:00, 31645.36it/s]\n",
      "100%|██████████| 3132/3132 [00:00<00:00, 34524.20it/s]\n",
      "100%|██████████| 3132/3132 [00:00<00:00, 34290.61it/s]\n",
      "100%|██████████| 3132/3132 [00:00<00:00, 33040.72it/s]\n",
      "100%|██████████| 3132/3132 [00:00<00:00, 33151.95it/s]\n",
      "100%|██████████| 3132/3132 [00:00<00:00, 33405.54it/s]\n",
      "100%|██████████| 3132/3132 [00:00<00:00, 33897.21it/s]\n",
      "100%|██████████| 3132/3132 [00:00<00:00, 33585.06it/s]\n",
      "100%|██████████| 3132/3132 [00:00<00:00, 33419.73it/s]\n",
      "100%|██████████| 3132/3132 [00:00<00:00, 33006.27it/s]\n",
      "100%|██████████| 3132/3132 [00:00<00:00, 31947.12it/s]\n",
      "100%|██████████| 3132/3132 [00:00<00:00, 30796.15it/s]\n",
      "100%|██████████| 3132/3132 [00:00<00:00, 33425.17it/s]\n",
      "100%|██████████| 3132/3132 [00:00<00:00, 34823.65it/s]\n",
      "100%|██████████| 3132/3132 [00:00<00:00, 35309.16it/s]\n",
      "100%|██████████| 3132/3132 [00:00<00:00, 35827.54it/s]\n",
      "100%|██████████| 3132/3132 [00:00<00:00, 34633.33it/s]\n",
      "100%|██████████| 3132/3132 [00:00<00:00, 33116.52it/s]\n",
      "100%|██████████| 3132/3132 [00:00<00:00, 31283.63it/s]\n",
      "100%|██████████| 3132/3132 [00:00<00:00, 33426.53it/s]\n",
      "100%|██████████| 3132/3132 [00:00<00:00, 33615.22it/s]\n",
      "100%|██████████| 3132/3132 [00:00<00:00, 33826.86it/s]\n",
      "100%|██████████| 3132/3132 [00:00<00:00, 33364.56it/s]\n",
      "100%|██████████| 3132/3132 [00:00<00:00, 31650.09it/s]\n",
      "100%|██████████| 3132/3132 [00:00<00:00, 34021.26it/s]\n",
      "100%|██████████| 3132/3132 [00:00<00:00, 33772.16it/s]\n",
      "100%|██████████| 3132/3132 [00:00<00:00, 33879.55it/s]\n",
      "100%|██████████| 3132/3132 [00:00<00:00, 33010.50it/s]\n",
      "100%|██████████| 3132/3132 [00:00<00:00, 32846.00it/s]\n",
      "100%|██████████| 3132/3132 [00:00<00:00, 32882.92it/s]\n",
      "100%|██████████| 3132/3132 [00:00<00:00, 29059.71it/s]\n",
      "100%|██████████| 3132/3132 [00:00<00:00, 33873.26it/s]\n",
      "100%|██████████| 3132/3132 [00:00<00:00, 36138.79it/s]\n",
      "100%|██████████| 3132/3132 [00:00<00:00, 34440.29it/s]\n",
      "100%|██████████| 3132/3132 [00:00<00:00, 30543.25it/s]\n",
      "100%|██████████| 3132/3132 [00:00<00:00, 33578.88it/s]\n",
      "100%|██████████| 3132/3132 [00:00<00:00, 33896.16it/s]\n",
      "100%|██████████| 3132/3132 [00:00<00:00, 33929.17it/s]\n",
      "100%|██████████| 3132/3132 [00:00<00:00, 34425.13it/s]\n",
      "100%|██████████| 3132/3132 [00:00<00:00, 34180.95it/s]\n",
      "100%|██████████| 3132/3132 [00:00<00:00, 33300.02it/s]\n",
      "100%|██████████| 3132/3132 [00:00<00:00, 34290.97it/s]\n",
      "100%|██████████| 3132/3132 [00:00<00:00, 32626.07it/s]\n",
      "100%|██████████| 3132/3132 [00:00<00:00, 32455.58it/s]\n",
      "100%|██████████| 3132/3132 [00:00<00:00, 32794.42it/s]\n",
      "100%|██████████| 3132/3132 [00:00<00:00, 33910.34it/s]\n",
      "100%|██████████| 3132/3132 [00:00<00:00, 36586.69it/s]\n",
      "100%|██████████| 3132/3132 [00:00<00:00, 35355.15it/s]\n",
      "100%|██████████| 3132/3132 [00:00<00:00, 36063.39it/s]\n",
      "100%|██████████| 3132/3132 [00:00<00:00, 35901.85it/s]\n",
      "100%|██████████| 3132/3132 [00:00<00:00, 35324.35it/s]\n",
      "100%|██████████| 3132/3132 [00:00<00:00, 34654.43it/s]\n",
      "100%|██████████| 3132/3132 [00:00<00:00, 32055.95it/s]\n",
      "100%|██████████| 3132/3132 [00:00<00:00, 30752.61it/s]\n",
      "100%|██████████| 3132/3132 [00:00<00:00, 32965.35it/s]\n",
      "100%|██████████| 3132/3132 [00:00<00:00, 31255.65it/s]\n",
      "100%|██████████| 3132/3132 [00:00<00:00, 33668.12it/s]\n",
      "100%|██████████| 3132/3132 [00:00<00:00, 33270.34it/s]\n",
      "100%|██████████| 3132/3132 [00:00<00:00, 33018.79it/s]\n",
      "100%|██████████| 3132/3132 [00:00<00:00, 34216.83it/s]\n",
      "100%|██████████| 3132/3132 [00:00<00:00, 32866.05it/s]\n",
      "100%|██████████| 3132/3132 [00:00<00:00, 32790.66it/s]\n",
      "100%|██████████| 3132/3132 [00:00<00:00, 32725.55it/s]\n",
      "100%|██████████| 3132/3132 [00:00<00:00, 33479.01it/s]\n",
      "100%|██████████| 3132/3132 [00:00<00:00, 34038.71it/s]\n",
      "100%|██████████| 3132/3132 [00:00<00:00, 34292.40it/s]\n",
      "100%|██████████| 3132/3132 [00:00<00:00, 32911.67it/s]\n",
      "100%|██████████| 3132/3132 [00:00<00:00, 35815.91it/s]\n",
      "100%|██████████| 3132/3132 [00:00<00:00, 35153.54it/s]\n",
      "100%|██████████| 3132/3132 [00:00<00:00, 34881.07it/s]\n",
      "100%|██████████| 3132/3132 [00:00<00:00, 34450.14it/s]\n",
      "100%|██████████| 3132/3132 [00:00<00:00, 33484.38it/s]\n",
      "100%|██████████| 3132/3132 [00:00<00:00, 32999.05it/s]\n",
      "100%|██████████| 3132/3132 [00:00<00:00, 35414.25it/s]\n",
      "100%|██████████| 3132/3132 [00:00<00:00, 36045.19it/s]\n",
      "100%|██████████| 3132/3132 [00:00<00:00, 35868.03it/s]\n",
      "100%|██████████| 3132/3132 [00:00<00:00, 33685.82it/s]\n",
      "100%|██████████| 3132/3132 [00:00<00:00, 35178.39it/s]\n",
      "100%|██████████| 3132/3132 [00:00<00:00, 34393.76it/s]\n",
      "100%|██████████| 3132/3132 [00:00<00:00, 35389.44it/s]\n",
      "100%|██████████| 3132/3132 [00:00<00:00, 35668.68it/s]\n",
      "100%|██████████| 3132/3132 [00:00<00:00, 35131.07it/s]\n",
      "100%|██████████| 3132/3132 [00:00<00:00, 36200.54it/s]\n",
      "100%|██████████| 3132/3132 [00:00<00:00, 33761.31it/s]\n",
      "100%|██████████| 3132/3132 [00:00<00:00, 29513.73it/s]\n",
      "100%|██████████| 3132/3132 [00:00<00:00, 28103.56it/s]\n",
      "100%|██████████| 3132/3132 [00:00<00:00, 30264.04it/s]\n",
      "100%|██████████| 3132/3132 [00:00<00:00, 31839.95it/s]\n",
      "100%|██████████| 3132/3132 [00:00<00:00, 30508.49it/s]\n",
      "100%|██████████| 3132/3132 [00:00<00:00, 28193.13it/s]\n",
      "100%|██████████| 3132/3132 [00:00<00:00, 29649.55it/s]\n",
      "100%|██████████| 3132/3132 [00:00<00:00, 32944.19it/s]\n",
      "100%|██████████| 3132/3132 [00:00<00:00, 35308.78it/s]\n",
      "100%|██████████| 3132/3132 [00:00<00:00, 29208.52it/s]\n",
      "100%|██████████| 3132/3132 [00:00<00:00, 29929.76it/s]\n",
      "100%|██████████| 3132/3132 [00:00<00:00, 29927.99it/s]\n",
      "100%|██████████| 3132/3132 [00:00<00:00, 29722.74it/s]\n",
      "100%|██████████| 3132/3132 [00:00<00:00, 30174.85it/s]\n",
      "100%|██████████| 3132/3132 [00:00<00:00, 33023.61it/s]\n",
      "100%|██████████| 3132/3132 [00:00<00:00, 35171.98it/s]\n",
      "100%|██████████| 3132/3132 [00:00<00:00, 35544.85it/s]\n",
      "100%|██████████| 3132/3132 [00:00<00:00, 36223.90it/s]\n",
      "100%|██████████| 3132/3132 [00:00<00:00, 34332.28it/s]\n",
      "100%|██████████| 3132/3132 [00:00<00:00, 36317.23it/s]\n",
      "100%|██████████| 3132/3132 [00:00<00:00, 37468.48it/s]\n",
      "100%|██████████| 3132/3132 [00:00<00:00, 35787.23it/s]\n",
      "100%|██████████| 3132/3132 [00:00<00:00, 36342.55it/s]\n",
      "100%|██████████| 3132/3132 [00:00<00:00, 36871.76it/s]\n",
      "100%|██████████| 3132/3132 [00:00<00:00, 36752.72it/s]\n",
      "100%|██████████| 3132/3132 [00:00<00:00, 37076.98it/s]\n",
      "100%|██████████| 3132/3132 [00:00<00:00, 34250.11it/s]\n",
      "100%|██████████| 3132/3132 [00:00<00:00, 36594.74it/s]\n",
      "100%|██████████| 3132/3132 [00:00<00:00, 33806.49it/s]\n",
      "100%|██████████| 3132/3132 [00:00<00:00, 36660.00it/s]\n",
      "100%|██████████| 3132/3132 [00:00<00:00, 36654.78it/s]\n",
      "100%|██████████| 3132/3132 [00:00<00:00, 36631.99it/s]\n",
      "100%|██████████| 3132/3132 [00:00<00:00, 35347.92it/s]\n",
      "100%|██████████| 3132/3132 [00:00<00:00, 34332.64it/s]\n",
      "100%|██████████| 3132/3132 [00:00<00:00, 31938.65it/s]\n",
      "100%|██████████| 3132/3132 [00:00<00:00, 29701.84it/s]\n",
      "100%|██████████| 3132/3132 [00:00<00:00, 28401.78it/s]\n",
      "100%|██████████| 3132/3132 [00:00<00:00, 28590.18it/s]\n",
      "100%|██████████| 3132/3132 [00:00<00:00, 28840.57it/s]\n",
      "100%|██████████| 3132/3132 [00:00<00:00, 29961.84it/s]\n",
      "100%|██████████| 3132/3132 [00:00<00:00, 29895.43it/s]\n",
      "100%|██████████| 3132/3132 [00:00<00:00, 31673.75it/s]\n",
      "100%|██████████| 3132/3132 [00:00<00:00, 34572.17it/s]\n",
      "100%|██████████| 3132/3132 [00:00<00:00, 30352.85it/s]\n",
      "100%|██████████| 3132/3132 [00:00<00:00, 30381.56it/s]\n",
      "100%|██████████| 3132/3132 [00:00<00:00, 34180.69it/s]\n",
      "100%|██████████| 3132/3132 [00:00<00:00, 30364.21it/s]\n",
      "100%|██████████| 3132/3132 [00:00<00:00, 32158.28it/s]\n",
      "100%|██████████| 3132/3132 [00:00<00:00, 29731.42it/s]\n",
      "100%|██████████| 3132/3132 [00:00<00:00, 31361.68it/s]\n",
      "100%|██████████| 3132/3132 [00:00<00:00, 29898.36it/s]\n",
      "100%|██████████| 3132/3132 [00:00<00:00, 30806.19it/s]\n",
      "100%|██████████| 3132/3132 [00:00<00:00, 29644.20it/s]\n",
      "100%|██████████| 3132/3132 [00:00<00:00, 32523.32it/s]\n",
      "100%|██████████| 3132/3132 [00:00<00:00, 34791.37it/s]\n",
      "100%|██████████| 3132/3132 [00:00<00:00, 35908.82it/s]\n",
      "100%|██████████| 3132/3132 [00:00<00:00, 30196.14it/s]\n",
      "100%|██████████| 3132/3132 [00:00<00:00, 29645.60it/s]\n",
      "100%|██████████| 3132/3132 [00:00<00:00, 27757.60it/s]\n",
      "100%|██████████| 3132/3132 [00:00<00:00, 34220.58it/s]\n",
      "100%|██████████| 3132/3132 [00:00<00:00, 33922.95it/s]\n",
      "100%|██████████| 3132/3132 [00:00<00:00, 29312.93it/s]\n",
      "100%|██████████| 3132/3132 [00:00<00:00, 26397.40it/s]\n",
      "100%|██████████| 3132/3132 [00:00<00:00, 26169.80it/s]\n",
      "100%|██████████| 3132/3132 [00:00<00:00, 29354.98it/s]\n",
      "100%|██████████| 3132/3132 [00:00<00:00, 29818.41it/s]\n",
      "100%|██████████| 3132/3132 [00:00<00:00, 29403.47it/s]\n",
      "100%|██████████| 3132/3132 [00:00<00:00, 30557.60it/s]\n",
      "100%|██████████| 3132/3132 [00:00<00:00, 33731.49it/s]\n",
      "100%|██████████| 3132/3132 [00:00<00:00, 29940.33it/s]\n",
      "100%|██████████| 3132/3132 [00:00<00:00, 29492.06it/s]\n",
      "100%|██████████| 3132/3132 [00:00<00:00, 29786.56it/s]\n",
      "100%|██████████| 3132/3132 [00:00<00:00, 31365.42it/s]\n",
      "100%|██████████| 3132/3132 [00:00<00:00, 33836.45it/s]\n",
      "100%|██████████| 3132/3132 [00:00<00:00, 35422.27it/s]\n",
      "100%|██████████| 3132/3132 [00:00<00:00, 34795.79it/s]\n",
      "100%|██████████| 3132/3132 [00:00<00:00, 33868.99it/s]\n",
      "100%|██████████| 3132/3132 [00:00<00:00, 29756.88it/s]\n",
      "100%|██████████| 3132/3132 [00:00<00:00, 29744.95it/s]\n",
      "100%|██████████| 3132/3132 [00:00<00:00, 30264.39it/s]\n",
      "100%|██████████| 3132/3132 [00:00<00:00, 29574.79it/s]\n",
      "100%|██████████| 3132/3132 [00:00<00:00, 30854.67it/s]\n",
      "100%|██████████| 3132/3132 [00:00<00:00, 35328.81it/s]\n",
      "100%|██████████| 3132/3132 [00:00<00:00, 28636.93it/s]\n",
      "100%|██████████| 3132/3132 [00:00<00:00, 29627.89it/s]\n",
      "100%|██████████| 3132/3132 [00:00<00:00, 29766.45it/s]\n",
      "100%|██████████| 3132/3132 [00:00<00:00, 29511.80it/s]\n",
      "100%|██████████| 3132/3132 [00:00<00:00, 30151.09it/s]\n",
      "100%|██████████| 3132/3132 [00:00<00:00, 30017.85it/s]\n",
      "100%|██████████| 3132/3132 [00:00<00:00, 30144.94it/s]\n",
      "100%|██████████| 3132/3132 [00:00<00:00, 30131.04it/s]\n",
      "100%|██████████| 3132/3132 [00:00<00:00, 30399.84it/s]\n",
      "100%|██████████| 3132/3132 [00:00<00:00, 29777.58it/s]\n",
      "100%|██████████| 3132/3132 [00:00<00:00, 29958.70it/s]\n",
      "100%|██████████| 3132/3132 [00:00<00:00, 29657.92it/s]\n",
      "100%|██████████| 3132/3132 [00:00<00:00, 29933.17it/s]\n",
      "100%|██████████| 3132/3132 [00:00<00:00, 30071.72it/s]\n",
      "100%|██████████| 3132/3132 [00:00<00:00, 29519.96it/s]\n",
      "100%|██████████| 3132/3132 [00:00<00:00, 28103.74it/s]\n",
      "100%|██████████| 3132/3132 [00:00<00:00, 29704.39it/s]\n",
      "100%|██████████| 3132/3132 [00:00<00:00, 31407.04it/s]\n",
      "100%|██████████| 3132/3132 [00:00<00:00, 35107.78it/s]\n",
      "100%|██████████| 3132/3132 [00:00<00:00, 31880.13it/s]\n",
      "100%|██████████| 3132/3132 [00:00<00:00, 29920.42it/s]\n",
      "100%|██████████| 3132/3132 [00:00<00:00, 29188.33it/s]\n",
      "100%|██████████| 3132/3132 [00:00<00:00, 29314.30it/s]\n",
      "100%|██████████| 3132/3132 [00:00<00:00, 32696.88it/s]\n",
      "100%|██████████| 3132/3132 [00:00<00:00, 35931.51it/s]\n",
      "100%|██████████| 3132/3132 [00:00<00:00, 32790.98it/s]\n",
      "100%|██████████| 3132/3132 [00:00<00:00, 33835.66it/s]\n",
      "100%|██████████| 3132/3132 [00:00<00:00, 37157.95it/s]\n",
      "100%|██████████| 3132/3132 [00:00<00:00, 36672.38it/s]\n",
      "100%|██████████| 3132/3132 [00:00<00:00, 37849.34it/s]\n",
      "100%|██████████| 3132/3132 [00:00<00:00, 34210.06it/s]\n",
      "100%|██████████| 3132/3132 [00:00<00:00, 35059.81it/s]\n",
      "100%|██████████| 3132/3132 [00:00<00:00, 36861.00it/s]\n",
      "100%|██████████| 3132/3132 [00:00<00:00, 35014.02it/s]\n",
      "100%|██████████| 3132/3132 [00:00<00:00, 35254.39it/s]\n",
      "100%|██████████| 3132/3132 [00:00<00:00, 36276.01it/s]\n",
      "100%|██████████| 3132/3132 [00:00<00:00, 36265.10it/s]\n",
      "100%|██████████| 3132/3132 [00:00<00:00, 33145.34it/s]\n",
      "100%|██████████| 3132/3132 [00:00<00:00, 35423.03it/s]\n",
      "100%|██████████| 3132/3132 [00:00<00:00, 35136.99it/s]\n",
      "100%|██████████| 3132/3132 [00:00<00:00, 37918.06it/s]\n",
      "100%|██████████| 3132/3132 [00:00<00:00, 37407.34it/s]\n",
      "100%|██████████| 3132/3132 [00:00<00:00, 35705.23it/s]\n",
      "100%|██████████| 3132/3132 [00:00<00:00, 34653.43it/s]\n",
      "100%|██████████| 3132/3132 [00:00<00:00, 35070.01it/s]\n",
      "100%|██████████| 3132/3132 [00:00<00:00, 34758.23it/s]\n",
      "100%|██████████| 3132/3132 [00:00<00:00, 37427.38it/s]\n",
      "100%|██████████| 3132/3132 [00:00<00:00, 36937.08it/s]\n",
      "100%|██████████| 3132/3132 [00:00<00:00, 38001.86it/s]\n",
      "100%|██████████| 3132/3132 [00:00<00:00, 35058.22it/s]\n",
      "100%|██████████| 3132/3132 [00:00<00:00, 37671.44it/s]\n",
      "100%|██████████| 3132/3132 [00:00<00:00, 38298.90it/s]\n",
      "100%|██████████| 3132/3132 [00:00<00:00, 37784.13it/s]\n",
      "100%|██████████| 3132/3132 [00:00<00:00, 34589.01it/s]\n",
      "100%|██████████| 3132/3132 [00:00<00:00, 35913.73it/s]\n",
      "100%|██████████| 3132/3132 [00:00<00:00, 37564.37it/s]\n",
      "100%|██████████| 3132/3132 [00:00<00:00, 35781.18it/s]\n",
      "100%|██████████| 3132/3132 [00:00<00:00, 37145.02it/s]\n",
      "100%|██████████| 3132/3132 [00:00<00:00, 31771.50it/s]\n",
      "100%|██████████| 3132/3132 [00:00<00:00, 37926.38it/s]\n",
      "100%|██████████| 3132/3132 [00:00<00:00, 31769.50it/s]\n",
      "100%|██████████| 3132/3132 [00:00<00:00, 37072.06it/s]\n",
      "100%|██████████| 3132/3132 [00:00<00:00, 32956.17it/s]\n",
      "100%|██████████| 3132/3132 [00:00<00:00, 35031.29it/s]\n",
      "100%|██████████| 3132/3132 [00:00<00:00, 34338.38it/s]\n",
      "100%|██████████| 3132/3132 [00:00<00:00, 35183.57it/s]\n",
      "100%|██████████| 3132/3132 [00:00<00:00, 36172.03it/s]\n",
      "100%|██████████| 3132/3132 [00:00<00:00, 34855.34it/s]\n",
      "100%|██████████| 3132/3132 [00:00<00:00, 37423.86it/s]\n",
      "100%|██████████| 3132/3132 [00:00<00:00, 32290.60it/s]\n",
      "100%|██████████| 3132/3132 [00:00<00:00, 35516.98it/s]\n",
      "100%|██████████| 3132/3132 [00:00<00:00, 37226.39it/s]\n",
      "100%|██████████| 3132/3132 [00:00<00:00, 30869.02it/s]\n",
      "100%|██████████| 3132/3132 [00:00<00:00, 29867.22it/s]\n",
      "100%|██████████| 3132/3132 [00:00<00:00, 29841.64it/s]\n",
      "100%|██████████| 3132/3132 [00:00<00:00, 29869.26it/s]\n",
      "100%|██████████| 3132/3132 [00:00<00:00, 28341.30it/s]\n",
      "100%|██████████| 3132/3132 [00:00<00:00, 29390.32it/s]\n",
      "100%|██████████| 3132/3132 [00:00<00:00, 30269.06it/s]\n",
      "100%|██████████| 3132/3132 [00:00<00:00, 36014.45it/s]\n",
      "100%|██████████| 3132/3132 [00:00<00:00, 37693.60it/s]\n",
      "100%|██████████| 3132/3132 [00:00<00:00, 38447.87it/s]\n",
      "100%|██████████| 3132/3132 [00:00<00:00, 38152.74it/s]\n",
      "100%|██████████| 3132/3132 [00:00<00:00, 37946.65it/s]\n",
      "100%|██████████| 3132/3132 [00:00<00:00, 35324.73it/s]\n",
      "100%|██████████| 3132/3132 [00:00<00:00, 37249.72it/s]\n",
      "100%|██████████| 3132/3132 [00:00<00:00, 34016.06it/s]\n",
      "100%|██████████| 3132/3132 [00:00<00:00, 28657.67it/s]\n",
      "100%|██████████| 3132/3132 [00:00<00:00, 30230.82it/s]\n",
      "100%|██████████| 3132/3132 [00:00<00:00, 30028.76it/s]\n",
      "100%|██████████| 3132/3132 [00:00<00:00, 28199.24it/s]\n",
      "100%|██████████| 3132/3132 [00:00<00:00, 34289.44it/s]\n",
      "100%|██████████| 3132/3132 [00:00<00:00, 37366.48it/s]\n",
      "100%|██████████| 3132/3132 [00:00<00:00, 33528.91it/s]\n",
      "100%|██████████| 3132/3132 [00:00<00:00, 30310.41it/s]\n",
      "100%|██████████| 3132/3132 [00:00<00:00, 29552.44it/s]\n",
      "100%|██████████| 3132/3132 [00:00<00:00, 31779.49it/s]\n",
      "100%|██████████| 3132/3132 [00:00<00:00, 30751.67it/s]\n",
      "100%|██████████| 3132/3132 [00:00<00:00, 29672.52it/s]\n",
      "100%|██████████| 3132/3132 [00:00<00:00, 29688.01it/s]\n",
      "100%|██████████| 3132/3132 [00:00<00:00, 30280.99it/s]\n",
      "100%|██████████| 3132/3132 [00:00<00:00, 30340.86it/s]\n",
      "100%|██████████| 3132/3132 [00:00<00:00, 30133.73it/s]\n",
      "100%|██████████| 3132/3132 [00:00<00:00, 31605.39it/s]\n",
      "100%|██████████| 3132/3132 [00:00<00:00, 34095.43it/s]\n",
      "100%|██████████| 3132/3132 [00:00<00:00, 27411.92it/s]\n",
      "100%|██████████| 3132/3132 [00:00<00:00, 28191.31it/s]\n",
      "100%|██████████| 3132/3132 [00:00<00:00, 26967.92it/s]\n",
      "100%|██████████| 3132/3132 [00:00<00:00, 29607.45it/s]\n",
      "100%|██████████| 3132/3132 [00:00<00:00, 30127.24it/s]\n",
      "100%|██████████| 3132/3132 [00:00<00:00, 29813.27it/s]\n",
      "100%|██████████| 3132/3132 [00:00<00:00, 26601.44it/s]\n",
      "100%|██████████| 3132/3132 [00:00<00:00, 29926.83it/s]\n",
      "100%|██████████| 3132/3132 [00:00<00:00, 29299.00it/s]\n",
      "100%|██████████| 3132/3132 [00:00<00:00, 29858.19it/s]\n",
      "100%|██████████| 3132/3132 [00:00<00:00, 29932.35it/s]\n",
      "100%|██████████| 3132/3132 [00:00<00:00, 31710.06it/s]\n",
      "100%|██████████| 3132/3132 [00:00<00:00, 28905.99it/s]\n",
      "100%|██████████| 3132/3132 [00:00<00:00, 29021.00it/s]\n",
      "100%|██████████| 3132/3132 [00:00<00:00, 30276.94it/s]\n",
      "100%|██████████| 3132/3132 [00:00<00:00, 30782.80it/s]\n"
     ]
    }
   ],
   "source": [
    "final_amts = [run_simulation(df2['returns'][30000:], df2['close'][30000:], 100, 0.5, None, verbose=False) for _ in range(500)]"
   ]
  },
  {
   "cell_type": "code",
   "execution_count": 14,
   "metadata": {
    "hidden": true
   },
   "outputs": [
    {
     "data": {
      "text/plain": [
       "Text(0.5, 1.0, 'Avg: $109.81\\nSD: $28.46')"
      ]
     },
     "execution_count": 14,
     "metadata": {},
     "output_type": "execute_result"
    },
    {
     "data": {
      "image/png": "[encoded data removed]",
      "text/plain": [
       "<Figure size 720x288 with 1 Axes>"
      ]
     },
     "metadata": {
      "needs_background": "light"
     },
     "output_type": "display_data"
    }
   ],
   "source": [
    "plt.figure(figsize=(10,4))\n",
    "sns.set_style(\"whitegrid\")\n",
    "sns.histplot(final_amts)\n",
    "plt.axvline(np.mean(final_amts), color='k', linestyle='--')\n",
    "plt.axvline(100, color='g', linestyle='--')\n",
    "plt.title('Avg: $%s\\nSD: $%s'%(round(np.mean(final_amts),2), round(np.std(final_amts),2)), fontsize=16)"
   ]
  },
  {
   "cell_type": "markdown",
   "metadata": {
    "heading_collapsed": true
   },
   "source": [
    "# ARMA v1"
   ]
  },
  {
   "cell_type": "markdown",
   "metadata": {
    "hidden": true
   },
   "source": [
    "## Model"
   ]
  },
  {
   "cell_type": "code",
   "execution_count": 58,
   "metadata": {
    "hidden": true
   },
   "outputs": [],
   "source": [
    "def arma_model(returns, prices, amt, order, threshold, verbose=False):\n",
    "\n",
    "    if type(order) == float:\n",
    "        threshold = None\n",
    "        \n",
    "    curr_holding = False\n",
    "    events_list = []\n",
    "    init_amt = amt\n",
    "\n",
    "    for t, r in tqdm (returns.iloc[14:].items(), total=len(returns.iloc[14:])):\n",
    "        \n",
    "        if curr_holding:\n",
    "            curr_holding = False\n",
    "            sell_price = prices.loc[t]\n",
    "            realized_return = (sell_price - buy_price) / buy_price\n",
    "            amt *= (1+realized_return)\n",
    "            events_list.append(('s', t, realized_return))\n",
    "            \n",
    "            if verbose:\n",
    "                print('sell $%s'%sell_price)\n",
    "                #print('Predicted Return: %s'%round(pred,4))\n",
    "                print('final return %s'%(round(realized_return, 4)))\n",
    "                print('---------------------------------------')\n",
    "            continue\n",
    "        \n",
    "        curr_data = returns[:t]\n",
    "        \n",
    "        if type(order) == tuple:\n",
    "            try:\n",
    "                model = ARIMA(curr_data, order=order).fit()\n",
    "                pred = model.forecast().reset_index(drop=True)[0]\n",
    "            except Exception as e:\n",
    "                pred = threshold - 1\n",
    "                print(e)\n",
    "\n",
    "        if (type(order) == float and np.random.random() < order) \\\n",
    "        or (type(order) == tuple and pred > threshold):\n",
    "            \n",
    "            curr_holding = True\n",
    "            buy_price = prices.loc[t]\n",
    "            events_list.append(('b', t))\n",
    "            \n",
    "            if verbose:\n",
    "                print('buy $%s'%buy_price)\n",
    "                \n",
    "    if verbose:\n",
    "        print('total $%s'%round(amt,2))\n",
    "    \n",
    "    return (model, amt)"
   ]
  },
  {
   "cell_type": "markdown",
   "metadata": {
    "heading_collapsed": true,
    "hidden": true
   },
   "source": [
    "## AR(1)"
   ]
  },
  {
   "cell_type": "code",
   "execution_count": null,
   "metadata": {
    "hidden": true
   },
   "outputs": [],
   "source": []
  },
  {
   "cell_type": "code",
   "execution_count": 50,
   "metadata": {
    "hidden": true,
    "scrolled": true
   },
   "outputs": [
    {
     "name": "stderr",
     "output_type": "stream",
     "text": [
      "100%|██████████| 3132/3132 [06:31<00:00,  7.99it/s]\n"
     ]
    },
    {
     "data": {
      "text/plain": [
       "(<statsmodels.tsa.arima.model.ARIMAResultsWrapper at 0x7fac7d2bb8e0>,\n",
       " 84.62889174625569)"
      ]
     },
     "execution_count": 50,
     "metadata": {},
     "output_type": "execute_result"
    }
   ],
   "source": [
    "arma_model(df3['returns'], df3['close'], 100, (1,0,0), 0, verbose=False)"
   ]
  },
  {
   "cell_type": "code",
   "execution_count": 51,
   "metadata": {
    "hidden": true,
    "scrolled": true
   },
   "outputs": [
    {
     "name": "stderr",
     "output_type": "stream",
     "text": [
      "  0%|          | 0/3132 [00:00<?, ?it/s]/Users/Tate/opt/anaconda3/lib/python3.8/site-packages/statsmodels/tsa/statespace/sarimax.py:966: UserWarning: Non-stationary starting autoregressive parameters found. Using zeros as starting parameters.\n",
      "  warn('Non-stationary starting autoregressive parameters'\n",
      "/Users/Tate/opt/anaconda3/lib/python3.8/site-packages/statsmodels/tsa/statespace/sarimax.py:978: UserWarning: Non-invertible starting MA parameters found. Using zeros as starting parameters.\n",
      "  warn('Non-invertible starting MA parameters found.'\n",
      "100%|██████████| 3132/3132 [10:46<00:00,  4.84it/s]\n"
     ]
    },
    {
     "data": {
      "text/plain": [
       "(<statsmodels.tsa.arima.model.ARIMAResultsWrapper at 0x7fac7b81c940>,\n",
       " 93.53411122560827)"
      ]
     },
     "execution_count": 51,
     "metadata": {},
     "output_type": "execute_result"
    }
   ],
   "source": [
    "arma_model(df3['returns'], df3['close'], 100, (1,0,1), 0, verbose=False)"
   ]
  },
  {
   "cell_type": "markdown",
   "metadata": {},
   "source": [
    "# ARMA v2"
   ]
  },
  {
   "cell_type": "markdown",
   "metadata": {},
   "source": [
    "## Parameter Selection"
   ]
  },
  {
   "cell_type": "code",
   "execution_count": 14,
   "metadata": {},
   "outputs": [],
   "source": [
    "train_set = df2.iloc[:30000]\n",
    "test_set = df2.iloc[30000:].reset_index(drop=True)"
   ]
  },
  {
   "cell_type": "code",
   "execution_count": 30,
   "metadata": {},
   "outputs": [],
   "source": [
    "p = d = q = range(0, 11)\n",
    "pdq = list(itertools.product(p, d, q))\n",
    "pq = list(itertools.product(p, q))"
   ]
  },
  {
   "cell_type": "code",
   "execution_count": 31,
   "metadata": {},
   "outputs": [
    {
     "name": "stdout",
     "output_type": "stream",
     "text": [
      "ARMA(0, 0) - AIC:-307939.9227816293 - BIC:-307923.304876308\n",
      "ARMA(0, 1) - AIC:-307938.6639877396 - BIC:-307913.73712975765\n",
      "ARMA(0, 2) - AIC:-307939.34634827025 - BIC:-307906.11053762765\n",
      "ARMA(0, 3) - AIC:-307941.2900510726 - BIC:-307899.74528776936\n",
      "ARMA(0, 4) - AIC:-307958.2496782457 - BIC:-307908.3959622818\n",
      "ARMA(0, 5) - AIC:-307958.94129933545 - BIC:-307900.77863071096\n",
      "ARMA(0, 6) - AIC:-307968.70103404036 - BIC:-307902.22941275523\n",
      "ARMA(0, 7) - AIC:-307974.7356728779 - BIC:-307899.95509893214\n",
      "ARMA(0, 8) - AIC:-307977.8236546926 - BIC:-307894.7341280862\n",
      "ARMA(0, 9) - AIC:-307975.90368133853 - BIC:-307884.50520207145\n",
      "ARMA(0, 10) - AIC:-307975.98963237175 - BIC:-307876.282200444\n",
      "ARMA(1, 0) - AIC:-307938.66484888614 - BIC:-307913.7379909042\n"
     ]
    },
    {
     "name": "stderr",
     "output_type": "stream",
     "text": [
      "/Users/Tate/opt/anaconda3/lib/python3.8/site-packages/statsmodels/tsa/statespace/sarimax.py:966: UserWarning: Non-stationary starting autoregressive parameters found. Using zeros as starting parameters.\n",
      "  warn('Non-stationary starting autoregressive parameters'\n",
      "/Users/Tate/opt/anaconda3/lib/python3.8/site-packages/statsmodels/tsa/statespace/sarimax.py:978: UserWarning: Non-invertible starting MA parameters found. Using zeros as starting parameters.\n",
      "  warn('Non-invertible starting MA parameters found.'\n"
     ]
    },
    {
     "name": "stdout",
     "output_type": "stream",
     "text": [
      "ARMA(1, 1) - AIC:-307936.6413194589 - BIC:-307903.4055088163\n",
      "ARMA(1, 2) - AIC:-307938.7818532917 - BIC:-307897.2370899884\n",
      "ARMA(1, 3) - AIC:-307942.4886887515 - BIC:-307892.6349727876\n",
      "ARMA(1, 4) - AIC:-307946.0179999348 - BIC:-307887.8553313103\n",
      "ARMA(1, 5) - AIC:-307966.2342441742 - BIC:-307899.7626228891\n",
      "ARMA(1, 6) - AIC:-307975.5094321337 - BIC:-307900.7288581879\n",
      "ARMA(1, 7) - AIC:-307975.26494682673 - BIC:-307892.1754202203\n",
      "ARMA(1, 8) - AIC:-307975.9658542748 - BIC:-307884.5673750077\n",
      "ARMA(1, 9) - AIC:-307974.0010813589 - BIC:-307874.29364943114\n",
      "ARMA(1, 10) - AIC:-307973.3582512366 - BIC:-307865.34186664823\n",
      "ARMA(2, 0) - AIC:-307939.51036078023 - BIC:-307906.27455013763\n",
      "ARMA(2, 1) - AIC:-307934.6412153433 - BIC:-307893.0964520401\n",
      "ARMA(2, 2) - AIC:-307927.7404738704 - BIC:-307877.8867579065\n",
      "ARMA(2, 3) - AIC:-307942.6126626099 - BIC:-307884.4499939854\n",
      "ARMA(2, 4) - AIC:-307956.2790910234 - BIC:-307889.80746973824\n",
      "ARMA(2, 5) - AIC:-307972.5827619823 - BIC:-307897.8021880365\n",
      "ARMA(2, 6) - AIC:-307972.76981579093 - BIC:-307889.6802891845\n",
      "ARMA(2, 7) - AIC:-307971.6370331229 - BIC:-307880.2385538558\n",
      "ARMA(2, 8) - AIC:-307973.1832832275 - BIC:-307873.47585129977\n",
      "ARMA(2, 9) - AIC:-307970.99388087913 - BIC:-307862.97749629075\n",
      "ARMA(2, 10) - AIC:-307969.7689542592 - BIC:-307853.4436170102\n",
      "ARMA(3, 0) - AIC:-307941.15122519055 - BIC:-307899.6064618873\n",
      "ARMA(3, 1) - AIC:-307939.14598350757 - BIC:-307889.2922675437\n",
      "ARMA(3, 2) - AIC:-307932.80252526473 - BIC:-307874.63985664025\n",
      "ARMA(3, 3) - AIC:-307950.41574890295 - BIC:-307883.9441276178\n",
      "ARMA(3, 4) - AIC:-307963.0903331501 - BIC:-307888.30975920433\n",
      "ARMA(3, 5) - AIC:-307972.3396013075 - BIC:-307889.2500747011\n",
      "ARMA(3, 6) - AIC:-307976.0620806871 - BIC:-307884.66360142\n",
      "ARMA(3, 7) - AIC:-307973.99667854235 - BIC:-307874.2892466146\n",
      "ARMA(3, 8) - AIC:-307972.1040700508 - BIC:-307864.08768546244\n",
      "ARMA(3, 9) - AIC:-307969.3453293381 - BIC:-307853.0199920891\n",
      "ARMA(3, 10) - AIC:-307967.7716609721 - BIC:-307843.1373710624\n",
      "ARMA(4, 0) - AIC:-307956.3088748412 - BIC:-307906.4551588773\n",
      "ARMA(4, 1) - AIC:-307954.3117392808 - BIC:-307896.14907065633\n",
      "ARMA(4, 2) - AIC:-307916.8580645696 - BIC:-307850.38644328446\n",
      "ARMA(4, 3) - AIC:-307961.9813392209 - BIC:-307887.2007652751\n",
      "ARMA(4, 4) - AIC:-307972.2539035125 - BIC:-307889.16437690606\n",
      "ARMA(4, 5) - AIC:-307979.06994633423 - BIC:-307887.67146706715\n",
      "ARMA(4, 6) - AIC:-307977.60493342305 - BIC:-307877.8975014953\n",
      "ARMA(4, 7) - AIC:-307975.7881579767 - BIC:-307867.7717733883\n",
      "ARMA(4, 8) - AIC:-307969.89730699384 - BIC:-307853.5719697448\n",
      "ARMA(4, 9) - AIC:-307971.2702295982 - BIC:-307846.63593968854\n",
      "ARMA(4, 10) - AIC:-307969.34556975594 - BIC:-307836.4023271856\n",
      "ARMA(5, 0) - AIC:-307957.4020844108 - BIC:-307899.2394157863\n",
      "ARMA(5, 1) - AIC:-307955.39791457617 - BIC:-307888.92629329104\n",
      "ARMA(5, 2) - AIC:-307915.1580356412 - BIC:-307840.3774616954\n",
      "ARMA(5, 3) - AIC:-307924.62100581964 - BIC:-307841.5314792132\n",
      "ARMA(5, 4) - AIC:-307983.61884995166 - BIC:-307892.2203706846\n",
      "ARMA(5, 5) - AIC:-307979.9130852257 - BIC:-307880.20565329795\n",
      "ARMA(5, 6) - AIC:-307976.2377335357 - BIC:-307868.2213489473\n",
      "ARMA(5, 7) - AIC:-307974.490309756 - BIC:-307858.164972507\n",
      "ARMA(5, 8) - AIC:-307969.56855805137 - BIC:-307844.9342681417\n",
      "ARMA(5, 9) - AIC:-307970.0744646474 - BIC:-307837.13122207706\n",
      "ARMA(5, 10) - AIC:-307970.82816815237 - BIC:-307829.5759729214\n",
      "ARMA(6, 0) - AIC:-307969.4601260684 - BIC:-307902.98850478325\n",
      "ARMA(6, 1) - AIC:-307967.45563660766 - BIC:-307892.6750626619\n",
      "ARMA(6, 2) - AIC:-307965.3179322791 - BIC:-307882.22840567265\n",
      "ARMA(6, 3) - AIC:-307929.9964327995 - BIC:-307838.5979535324\n",
      "ARMA(6, 4) - AIC:-307920.58251135115 - BIC:-307820.8750794234\n",
      "ARMA(6, 5) - AIC:-307980.15064385656 - BIC:-307872.1342592682\n",
      "ARMA(6, 6) - AIC:-307978.09095741366 - BIC:-307861.76562016463\n",
      "ARMA(6, 7) - AIC:-307978.02798941405 - BIC:-307853.3936995044\n",
      "ARMA(6, 8) - AIC:-307977.547595604 - BIC:-307844.60435303365\n",
      "ARMA(6, 9) - AIC:-307973.6999764419 - BIC:-307832.44778121094\n",
      "ARMA(6, 10) - AIC:-307974.27112573007 - BIC:-307824.70997783844\n",
      "ARMA(7, 0) - AIC:-307975.9660571742 - BIC:-307901.1854832284\n",
      "ARMA(7, 1) - AIC:-307973.96578410786 - BIC:-307890.8762575014\n",
      "ARMA(7, 2) - AIC:-307971.9000948812 - BIC:-307880.5016156141\n",
      "ARMA(7, 3) - AIC:-307966.4674230442 - BIC:-307866.7599911165\n",
      "ARMA(7, 4) - AIC:-307918.56313788006 - BIC:-307810.5467532917\n",
      "ARMA(7, 5) - AIC:-307916.5719079887 - BIC:-307800.24657073966\n",
      "ARMA(7, 6) - AIC:-307979.3597392803 - BIC:-307854.7254493706\n",
      "ARMA(7, 7) - AIC:-307987.7954116944 - BIC:-307854.85216912406\n",
      "ARMA(7, 8) - AIC:-307978.0262282977 - BIC:-307836.7740330667\n",
      "ARMA(7, 9) - AIC:-307967.221735915 - BIC:-307817.66058802337\n",
      "ARMA(7, 10) - AIC:-307978.18709479726 - BIC:-307820.31699424505\n",
      "ARMA(8, 0) - AIC:-307978.47260880994 - BIC:-307895.3830822035\n",
      "ARMA(8, 1) - AIC:-307976.4724242988 - BIC:-307885.07394503173\n",
      "ARMA(8, 2) - AIC:-307974.463772348 - BIC:-307874.7563404203\n",
      "ARMA(8, 3) - AIC:-307971.9875716711 - BIC:-307863.9711870827\n",
      "ARMA(8, 4) - AIC:-307916.55880847346 - BIC:-307800.23347122443\n",
      "ARMA(8, 5) - AIC:-307914.5696563232 - BIC:-307789.9353664135\n",
      "ARMA(8, 6) - AIC:-307983.50406180404 - BIC:-307850.5608192337\n",
      "ARMA(8, 7) - AIC:-307985.8885999172 - BIC:-307844.6364046862\n",
      "ARMA(8, 8) - AIC:-307958.77829380747 - BIC:-307809.21714591584\n",
      "ARMA(8, 9) - AIC:-307906.3997950979 - BIC:-307748.52969454566\n",
      "ARMA(8, 10) - AIC:-307904.4241803378 - BIC:-307738.24512712494\n",
      "ARMA(9, 0) - AIC:-307976.80053504277 - BIC:-307885.4020557757\n",
      "ARMA(9, 1) - AIC:-307974.80043789843 - BIC:-307875.0930059707\n",
      "ARMA(9, 2) - AIC:-307972.7625993036 - BIC:-307864.74621471524\n",
      "ARMA(9, 3) - AIC:-307970.7507467391 - BIC:-307854.42540949007\n",
      "ARMA(9, 4) - AIC:-307914.55880847346 - BIC:-307789.9245185638\n",
      "ARMA(9, 5) - AIC:-307912.56965621765 - BIC:-307779.6264136473\n",
      "ARMA(9, 6) - AIC:-307981.5242158322 - BIC:-307840.2720206012\n",
      "ARMA(9, 7) - AIC:-307985.1708975156 - BIC:-307835.609749624\n",
      "ARMA(9, 8) - AIC:-307906.40403304755 - BIC:-307748.53393249534\n",
      "ARMA(9, 9) - AIC:-307904.3971865335 - BIC:-307738.2181333206\n",
      "ARMA(9, 10) - AIC:-307902.4121984934 - BIC:-307727.92419261986\n",
      "ARMA(10, 0) - AIC:-307976.0800120281 - BIC:-307876.3725801004\n",
      "ARMA(10, 1) - AIC:-307974.0797467994 - BIC:-307866.06336221105\n",
      "ARMA(10, 2) - AIC:-307972.10749123106 - BIC:-307855.782153982\n",
      "ARMA(10, 3) - AIC:-307970.1312012724 - BIC:-307845.49691136274\n",
      "ARMA(10, 4) - AIC:-307912.55880847346 - BIC:-307779.61556590314\n",
      "ARMA(10, 5) - AIC:-307910.5576575916 - BIC:-307769.3054623606\n",
      "ARMA(10, 6) - AIC:-307979.4696521618 - BIC:-307829.9085042702\n",
      "ARMA(10, 7) - AIC:-307981.87758620933 - BIC:-307824.0074856571\n",
      "ARMA(10, 8) - AIC:-307904.3893984307 - BIC:-307738.21034521784\n",
      "ARMA(10, 9) - AIC:-307902.3763654378 - BIC:-307727.8883595643\n",
      "ARMA(10, 10) - AIC:-307900.40938714135 - BIC:-307717.6124286072\n"
     ]
    }
   ],
   "source": [
    "arma_parameters = []\n",
    "arma_results = []\n",
    "\n",
    "for parameter in pq:\n",
    "    try:\n",
    "        model = ARIMA(train_set['returns'], order=(parameter[0], 0, parameter[1]))\n",
    "        result = model.fit()\n",
    "        print('ARMA{} - AIC:{} - BIC:{}'.format(parameter, result.aic, result.bic))\n",
    "            \n",
    "        arma_parameters.append(parameter)\n",
    "        arma_results.append(result)\n",
    "    except:\n",
    "        print(\"bruh moment\")\n",
    "        continue"
   ]
  },
  {
   "cell_type": "code",
   "execution_count": 18,
   "metadata": {
    "collapsed": true
   },
   "outputs": [
    {
     "name": "stdout",
     "output_type": "stream",
     "text": [
      "ARIMA(0, 0, 0) - AIC:-307939.9227816293 - BIC:-307923.304876308\n",
      "ARIMA(0, 0, 1) - AIC:-307938.6639877396 - BIC:-307913.73712975765\n",
      "ARIMA(0, 0, 2) - AIC:-307939.34634827025 - BIC:-307906.11053762765\n",
      "ARIMA(0, 1, 0) - AIC:-287164.3472527202 - BIC:-287156.03833339346\n",
      "ARIMA(0, 1, 1) - AIC:-304220.214302651 - BIC:-304203.5964639975\n",
      "ARIMA(0, 1, 2) - AIC:-305529.48909775657 - BIC:-305504.5623397763\n",
      "ARIMA(0, 2, 0) - AIC:-254109.20934134303 - BIC:-254100.90045535128\n"
     ]
    },
    {
     "name": "stderr",
     "output_type": "stream",
     "text": [
      "/Users/Tate/opt/anaconda3/lib/python3.8/site-packages/statsmodels/tsa/statespace/sarimax.py:978: UserWarning: Non-invertible starting MA parameters found. Using zeros as starting parameters.\n",
      "  warn('Non-invertible starting MA parameters found.'\n"
     ]
    },
    {
     "name": "stdout",
     "output_type": "stream",
     "text": [
      "ARIMA(0, 2, 1) - AIC:-254105.79456812586 - BIC:-254089.17679614233\n",
      "ARIMA(0, 2, 2) - AIC:-297137.43914448994 - BIC:-297112.5124865147\n",
      "ARIMA(1, 0, 0) - AIC:-307938.66484888614 - BIC:-307913.7379909042\n"
     ]
    },
    {
     "name": "stderr",
     "output_type": "stream",
     "text": [
      "/Users/Tate/opt/anaconda3/lib/python3.8/site-packages/statsmodels/tsa/statespace/sarimax.py:966: UserWarning: Non-stationary starting autoregressive parameters found. Using zeros as starting parameters.\n",
      "  warn('Non-stationary starting autoregressive parameters'\n"
     ]
    },
    {
     "name": "stdout",
     "output_type": "stream",
     "text": [
      "ARIMA(1, 0, 1) - AIC:-307936.6413194589 - BIC:-307903.4055088163\n",
      "ARIMA(1, 0, 2) - AIC:-307938.7818532917 - BIC:-307897.2370899884\n",
      "ARIMA(1, 1, 0) - AIC:-295970.8651137601 - BIC:-295954.2472751066\n",
      "ARIMA(1, 1, 1) - AIC:-304202.28673914826 - BIC:-304177.359981168\n",
      "ARIMA(1, 1, 2) - AIC:-305469.88583834685 - BIC:-305436.65016103984\n",
      "ARIMA(1, 2, 0) - AIC:-271901.2050797788 - BIC:-271884.5873077953\n",
      "ARIMA(1, 2, 1) - AIC:-291870.39310015197 - BIC:-291845.4664421767\n",
      "ARIMA(1, 2, 2) - AIC:-289189.4064135906 - BIC:-289156.17086962354\n",
      "ARIMA(2, 0, 0) - AIC:-307939.51036078023 - BIC:-307906.27455013763\n",
      "ARIMA(2, 0, 1) - AIC:-307934.6412153433 - BIC:-307893.0964520401\n",
      "ARIMA(2, 0, 2) - AIC:-307927.7404738704 - BIC:-307877.8867579065\n",
      "ARIMA(2, 1, 0) - AIC:-299567.167231548 - BIC:-299542.24047356774\n",
      "ARIMA(2, 1, 1) - AIC:-304302.77258535207 - BIC:-304269.53690804506\n",
      "ARIMA(2, 1, 2) - AIC:-305328.4393579211 - BIC:-305286.8947612873\n",
      "ARIMA(2, 2, 0) - AIC:-280459.33191905724 - BIC:-280434.405261082\n",
      "ARIMA(2, 2, 1) - AIC:-295492.56474042305 - BIC:-295459.329196456\n",
      "ARIMA(2, 2, 2) - AIC:-286993.2740225687 - BIC:-286951.7295926099\n"
     ]
    }
   ],
   "source": [
    "arima_parameters = []\n",
    "arima_results = []\n",
    "\n",
    "for parameter in pdq:\n",
    "    try:\n",
    "        model = ARIMA(train_set['returns'], order=parameter)\n",
    "        result = model.fit()\n",
    "        print('ARIMA{} - AIC:{} - BIC:{}'.format(parameter, result.aic, result.bic))\n",
    "            \n",
    "        arima_parameters.append(parameter)\n",
    "        arima_results.append(result)\n",
    "    except:\n",
    "        print(\"bruh moment\")\n",
    "        continue"
   ]
  },
  {
   "cell_type": "code",
   "execution_count": 19,
   "metadata": {
    "scrolled": true
   },
   "outputs": [],
   "source": [
    "minimum_bic = 9999\n",
    "minimum_i = 0\n",
    "\n",
    "for i, result in enumerate(results):\n",
    "    if result.bic < minimum_bic: \n",
    "        minimum_bic = result.bic\n",
    "        minimum_i = i"
   ]
  },
  {
   "cell_type": "code",
   "execution_count": 20,
   "metadata": {
    "scrolled": false
   },
   "outputs": [
    {
     "data": {
      "text/plain": [
       "-307923.304876308"
      ]
     },
     "execution_count": 20,
     "metadata": {},
     "output_type": "execute_result"
    }
   ],
   "source": [
    "minimum_bic"
   ]
  },
  {
   "cell_type": "code",
   "execution_count": null,
   "metadata": {},
   "outputs": [],
   "source": [
    "pq[minimum_i]"
   ]
  },
  {
   "cell_type": "code",
   "execution_count": null,
   "metadata": {},
   "outputs": [],
   "source": [
    "results[10]"
   ]
  }
 ],
 "metadata": {
  "kernelspec": {
   "display_name": "Python 3",
   "language": "python",
   "name": "python3"
  },
  "language_info": {
   "codemirror_mode": {
    "name": "ipython",
    "version": 3
   },
   "file_extension": ".py",
   "mimetype": "text/x-python",
   "name": "python",
   "nbconvert_exporter": "python",
   "pygments_lexer": "ipython3",
   "version": "3.8.8"
  },
  "toc": {
   "base_numbering": 1,
   "nav_menu": {},
   "number_sections": true,
   "sideBar": true,
   "skip_h1_title": false,
   "title_cell": "Table of Contents",
   "title_sidebar": "Contents",
   "toc_cell": false,
   "toc_position": {},
   "toc_section_display": true,
   "toc_window_display": false
  },
  "varInspector": {
   "cols": {
    "lenName": 16,
    "lenType": 16,
    "lenVar": 40
   },
   "kernels_config": {
    "python": {
     "delete_cmd_postfix": "",
     "delete_cmd_prefix": "del ",
     "library": "var_list.py",
     "varRefreshCmd": "print(var_dic_list())"
    },
    "r": {
     "delete_cmd_postfix": ") ",
     "delete_cmd_prefix": "rm(",
     "library": "var_list.r",
     "varRefreshCmd": "cat(var_dic_list()) "
    }
   },
   "types_to_exclude": [
    "module",
    "function",
    "builtin_function_or_method",
    "instance",
    "_Feature"
   ],
   "window_display": false
  }
 },
 "nbformat": 4,
 "nbformat_minor": 4
}
