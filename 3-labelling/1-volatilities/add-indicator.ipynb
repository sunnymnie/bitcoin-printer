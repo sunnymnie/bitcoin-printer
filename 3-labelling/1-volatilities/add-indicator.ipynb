{
 "cells": [
  {
   "cell_type": "markdown",
   "id": "2aba5735-c75a-4659-a1ce-c76afc7e2ce7",
   "metadata": {},
   "source": [
    "# Add indicator\n",
    "This indicator functions as the 'vol'\n",
    "\n",
    "Save copies of good indicator-analysis"
   ]
  },
  {
   "cell_type": "code",
   "execution_count": 1,
   "id": "38caebb9-30bf-416d-b3f0-8fc99d8bf7d9",
   "metadata": {},
   "outputs": [],
   "source": [
    "import numpy as np\n",
    "import pandas as pd\n",
    "import matplotlib.pyplot as plt\n",
    "import seaborn as sns\n",
    "from ta.momentum import *\n",
    "from ta.trend import *\n",
    "from ta.volume import *\n",
    "from ta.volatility import *\n",
    "\n",
    "import sys\n",
    "sys.path.insert(0, '..')\n",
    "import useful_functions as uf"
   ]
  },
  {
   "cell_type": "code",
   "execution_count": null,
   "id": "40712317-e2e7-40dd-a242-3b8700a93080",
   "metadata": {},
   "outputs": [],
   "source": [
    "df = pd.read_csv(\"../data/BTCUSDT-volume-bars.csv\", index_col=0, parse_dates=True)"
   ]
  },
  {
   "cell_type": "code",
   "execution_count": null,
   "id": "da42ac0a-8edf-4907-81ab-4efdef7bdde8",
   "metadata": {},
   "outputs": [],
   "source": []
  }
 ],
 "metadata": {
  "kernelspec": {
   "display_name": "Python 3",
   "language": "python",
   "name": "python3"
  },
  "language_info": {
   "codemirror_mode": {
    "name": "ipython",
    "version": 3
   },
   "file_extension": ".py",
   "mimetype": "text/x-python",
   "name": "python",
   "nbconvert_exporter": "python",
   "pygments_lexer": "ipython3",
   "version": "3.9.4"
  }
 },
 "nbformat": 4,
 "nbformat_minor": 5
}
