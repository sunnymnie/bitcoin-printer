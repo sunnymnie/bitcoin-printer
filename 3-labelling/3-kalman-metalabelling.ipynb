{
 "cells": [
  {
   "cell_type": "markdown",
   "id": "ae884f5b-6275-4c3c-bc25-a1bf52d89f59",
   "metadata": {},
   "source": [
    "# Kalman metalabeling"
   ]
  },
  {
   "cell_type": "code",
   "execution_count": 1,
   "id": "cd1f84e7-8080-4df1-adbe-052238fb05c2",
   "metadata": {},
   "outputs": [],
   "source": [
    "import pandas as pd\n",
    "import numpy as np\n",
    "import matplotlib.pyplot as plt\n",
    "import datetime"
   ]
  },
  {
   "cell_type": "code",
   "execution_count": 22,
   "id": "fcf359ae-c5df-460e-b4e1-d4002ac66d4f",
   "metadata": {},
   "outputs": [],
   "source": [
    "meta = pd.read_csv(\"../data/metalabels.csv\", index_col=0, parse_dates=True)\n",
    "scfet = pd.read_csv(\"../data/serial-correlation-fetusdt.csv\", index_col=0, parse_dates=True, squeeze=True)\n",
    "sccelr = pd.read_csv(\"../data/serial-correlation-celrusdt.csv\", index_col=0, parse_dates=True, squeeze=True)"
   ]
  },
  {
   "cell_type": "code",
   "execution_count": 24,
   "id": "14226a9a-dfd4-49c2-906f-adee4aaaf263",
   "metadata": {},
   "outputs": [],
   "source": [
    "meta[\"sc_fet\"] = scfet.reindex(meta.index)\n",
    "meta[\"sc_celr\"] = sccelr.reindex(meta.index)"
   ]
  },
  {
   "cell_type": "code",
   "execution_count": 25,
   "id": "a7caa87a-c204-4207-b836-c562f0ae8c70",
   "metadata": {},
   "outputs": [],
   "source": [
    "meta.to_csv(\"../data/metalabels.csv\")"
   ]
  }
 ],
 "metadata": {
  "kernelspec": {
   "display_name": "Python 3",
   "language": "python",
   "name": "python3"
  },
  "language_info": {
   "codemirror_mode": {
    "name": "ipython",
    "version": 3
   },
   "file_extension": ".py",
   "mimetype": "text/x-python",
   "name": "python",
   "nbconvert_exporter": "python",
   "pygments_lexer": "ipython3",
   "version": "3.9.4"
  }
 },
 "nbformat": 4,
 "nbformat_minor": 5
}
