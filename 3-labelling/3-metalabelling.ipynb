{
 "cells": [
  {
   "cell_type": "markdown",
   "id": "9da2c455-3eb6-4c70-bb4f-368e0dc2a43a",
   "metadata": {},
   "source": [
    "# Get t events\n",
    "Convert indicator to t events"
   ]
  },
  {
   "cell_type": "code",
   "execution_count": 1,
   "id": "113822ca-9ef6-4bd0-9380-77ce5171e79a",
   "metadata": {},
   "outputs": [],
   "source": [
    "import pandas as pd\n",
    "import numpy as np\n",
    "import matplotlib.pyplot as plt\n",
    "import datetime"
   ]
  },
  {
   "cell_type": "code",
   "execution_count": 16,
   "id": "87962074-6944-4bb4-9ebd-ab568a23995c",
   "metadata": {},
   "outputs": [],
   "source": [
    "df = pd.read_csv(\"../data/BTCUSDT-volume-bars.csv\", index_col=0, parse_dates=True)"
   ]
  },
  {
   "cell_type": "code",
   "execution_count": 55,
   "id": "4a55d77e-7253-4db0-a069-5f446e9d1a91",
   "metadata": {},
   "outputs": [],
   "source": [
    "side = pd.read_csv(\"../data/side.csv\", index_col=0, parse_dates=True, squeeze=True)\n",
    "sc = pd.read_csv(\"../data/serial-correlation.csv\", index_col=0, parse_dates=True, squeeze=True)\n",
    "\n",
    "ind = pd.read_csv(\"../data/vol.csv\", index_col=0, parse_dates=True, squeeze=True)\n",
    "# ind = pd.read_csv(\"../data/indicator.csv\", index_col=0, parse_dates=True, squeeze=True)"
   ]
  },
  {
   "cell_type": "code",
   "execution_count": 4,
   "id": "d3a41293-49a3-4353-b604-3353f1b4e617",
   "metadata": {},
   "outputs": [],
   "source": [
    "df = df[-1_000_000:]"
   ]
  },
  {
   "cell_type": "code",
   "execution_count": 5,
   "id": "bc2eb73a-767f-4c82-9610-298677d2e7f2",
   "metadata": {},
   "outputs": [],
   "source": [
    "def get_t_events(g_raw, h, m):\n",
    "    \"\"\"\n",
    "    Implementation of the symmetric CUSUM filter seen in chapter 2.5.2\n",
    "    \n",
    "    Arguments:\n",
    "    g_raw -- the raw time series to filter (possibly pandas series)\n",
    "    h -- threshold pandas series vol\n",
    "    m -- minimum threshold (float, ex: 0.02)\n",
    "    \n",
    "    Purpose:\n",
    "    The CUSUM filter is a quality-control method, designed to detect a shift in the mean value of a measured quantity away from a target value. \n",
    "    \"\"\"\n",
    "    h = h.map(lambda x: x if x>=m else m)\n",
    "    t_events, s_pos, s_neg = [], 0, 0\n",
    "    side = []\n",
    "    diff = np.log(g_raw).diff().dropna()\n",
    "    for i in diff.index[1:]:\n",
    "        try:\n",
    "            pos, neg = float(s_pos+diff.loc[i]), float(s_neg+diff.loc[i])\n",
    "        except Exception as e:\n",
    "            print(e)\n",
    "            print(s_pos+diff.loc[i], type(s_pos+diff.loc[i]))\n",
    "            print(s_neg+diff.loc[i], type(s_neg+diff.loc[i]))\n",
    "            break\n",
    "        s_pos, s_neg=max(0., pos), min(0., neg)\n",
    "        try: \n",
    "            th = h.loc[i]\n",
    "        except:\n",
    "            try:\n",
    "                th = h[h.index.get_loc(i, method=\"pad\")]\n",
    "            except: #i is before the first ever h\n",
    "                continue\n",
    "        if s_neg<-th:\n",
    "            s_neg=0\n",
    "            t_events.append(i)\n",
    "            side.append(0)\n",
    "        if s_pos>th:\n",
    "            s_pos=0\n",
    "            t_events.append(i)\n",
    "            side.append(1)\n",
    "    return pd.DatetimeIndex(t_events), side"
   ]
  },
  {
   "cell_type": "code",
   "execution_count": 6,
   "id": "03c6b7df-be14-407d-b300-a0cc7eda479d",
   "metadata": {},
   "outputs": [
    {
     "name": "stdout",
     "output_type": "stream",
     "text": [
      "max: 0.1567727171053577\n",
      "min: 0.0036702801383765\n",
      "mean: 0.02651504315228308\n",
      "median: 0.02281254582903505\n"
     ]
    }
   ],
   "source": [
    "print(f\"max: {max(ind[1:].dropna())}\")\n",
    "print(f\"min: {min(ind[1:].dropna())}\")\n",
    "print(f\"mean: {np.mean(ind)}\")\n",
    "print(f\"median: {np.median(ind[1:].dropna())}\")"
   ]
  },
  {
   "cell_type": "code",
   "execution_count": 7,
   "id": "0a04b303-7e1e-43b9-b90b-ef4fc452be58",
   "metadata": {},
   "outputs": [
    {
     "data": {
      "text/plain": [
       "DatetimeIndex(['2021-04-23 07:31:43.163000', '2021-04-23 08:09:56.981000',\n",
       "               '2021-04-23 08:31:35.814000', '2021-04-23 09:40:37.273000',\n",
       "               '2021-04-23 10:06:50.048000', '2021-04-23 11:17:48.929000',\n",
       "               '2021-04-23 12:57:47.018000', '2021-04-23 14:33:59.538000',\n",
       "               '2021-04-23 16:03:33.358000', '2021-04-23 18:37:07.905000',\n",
       "               ...\n",
       "               '2021-06-18 18:38:22.935000', '2021-06-18 20:21:54.763000',\n",
       "               '2021-06-19 01:11:38.180000', '2021-06-19 02:35:14.518000',\n",
       "               '2021-06-19 03:29:01.660000', '2021-06-19 04:32:03.276000',\n",
       "               '2021-06-19 06:30:57.226000', '2021-06-19 12:07:09.748000',\n",
       "               '2021-06-19 12:48:14.298000', '2021-06-19 14:36:28.808000'],\n",
       "              dtype='datetime64[ns]', length=605, freq=None)"
      ]
     },
     "execution_count": 7,
     "metadata": {},
     "output_type": "execute_result"
    }
   ],
   "source": [
    "t_events, side = get_t_events(df.close,h=ind, m=0.02)\n",
    "t_events"
   ]
  },
  {
   "cell_type": "code",
   "execution_count": 8,
   "id": "43c674b1-00d2-45c4-8e7a-d685eb10ebde",
   "metadata": {
    "collapsed": true,
    "jupyter": {
     "outputs_hidden": true
    },
    "tags": []
   },
   "outputs": [
    {
     "data": {
      "text/plain": [
       "2017-08-17 09:30:07.601    1\n",
       "2017-08-17 10:53:09.611    0\n",
       "2017-08-17 15:37:23.552    0\n",
       "2017-08-17 16:06:32.559    0\n",
       "2017-08-17 18:06:00.088    1\n",
       "                          ..\n",
       "2021-06-19 04:32:37.197    1\n",
       "2021-06-19 06:30:57.226    1\n",
       "2021-06-19 12:07:09.748    0\n",
       "2021-06-19 12:48:14.298    1\n",
       "2021-06-19 14:36:28.808    0\n",
       "Name: close, Length: 9233, dtype: int64"
      ]
     },
     "execution_count": 8,
     "metadata": {},
     "output_type": "execute_result"
    }
   ],
   "source": [
    "# target = df.close.reindex(t_events).diff().shift(-1).map(lambda x: 1 if x>0 else 0)\n",
    "# target"
   ]
  },
  {
   "cell_type": "code",
   "execution_count": 9,
   "id": "4825a41c-7ca9-4777-84ee-acc6c3c51223",
   "metadata": {
    "collapsed": true,
    "jupyter": {
     "outputs_hidden": true
    },
    "tags": []
   },
   "outputs": [
    {
     "data": {
      "text/plain": [
       "2017-08-17 09:30:07.601    1\n",
       "2017-08-17 10:53:09.611    1\n",
       "2017-08-17 15:37:23.552    0\n",
       "2017-08-17 16:06:32.559    0\n",
       "2017-08-17 18:06:00.088    0\n",
       "                          ..\n",
       "2021-06-19 04:32:37.197    1\n",
       "2021-06-19 06:30:57.226    1\n",
       "2021-06-19 12:07:09.748    1\n",
       "2021-06-19 12:48:14.298    0\n",
       "2021-06-19 14:36:28.808    1\n",
       "Length: 9233, dtype: int64"
      ]
     },
     "execution_count": 9,
     "metadata": {},
     "output_type": "execute_result"
    }
   ],
   "source": [
    "# side = pd.Series(side, index=t_events)\n",
    "# side"
   ]
  },
  {
   "cell_type": "code",
   "execution_count": 21,
   "id": "9eb97c1a-b585-452e-b183-ed283ecc50f6",
   "metadata": {
    "tags": []
   },
   "outputs": [],
   "source": [
    "# target.to_csv(\"../data/target-original.csv\") #For further filtering\n",
    "# side.to_csv(\"../data/side-original.csv\")"
   ]
  },
  {
   "cell_type": "code",
   "execution_count": 10,
   "id": "d7ff7d7a-c79b-4639-8c4b-fc8453529168",
   "metadata": {
    "tags": []
   },
   "outputs": [],
   "source": [
    "# target.to_csv(\"../data/target.csv\") #For no more filtering\n",
    "# side.to_csv(\"../data/side.csv\")"
   ]
  },
  {
   "cell_type": "markdown",
   "id": "fbaa5b76-414b-4e02-9e23-49dda12ba588",
   "metadata": {},
   "source": [
    "## Add vertical barrier"
   ]
  },
  {
   "cell_type": "code",
   "execution_count": 8,
   "id": "681dc090-ccd9-400d-8294-8558e89fee79",
   "metadata": {},
   "outputs": [],
   "source": [
    "def add_vertical_barrier(t_events, close, num_days=1):\n",
    "    \"\"\"\n",
    "    Snippet 3.4, indended to be used on t1\"\"\"\n",
    "    t1=close.index.searchsorted(t_events+pd.Timedelta(days=num_days))\n",
    "    t1=t1[t1<close.shape[0]]\n",
    "    t1=(pd.Series(close.index[t1],index=t_events[:t1.shape[0]]))\n",
    "    return t1"
   ]
  },
  {
   "cell_type": "code",
   "execution_count": 9,
   "id": "d8717ed9-e934-4199-bb57-939654c28429",
   "metadata": {},
   "outputs": [
    {
     "data": {
      "text/plain": [
       "2021-04-23 07:31:43.163   2021-04-24 07:31:46.976\n",
       "2021-04-23 08:09:56.981   2021-04-24 08:10:03.818\n",
       "2021-04-23 08:31:35.814   2021-04-24 08:31:40.279\n",
       "2021-04-23 09:40:37.273   2021-04-24 09:40:40.242\n",
       "2021-04-23 10:06:50.048   2021-04-24 10:06:52.614\n",
       "                                    ...          \n",
       "2021-06-18 03:49:00.094   2021-06-19 03:49:01.115\n",
       "2021-06-18 10:02:30.206   2021-06-19 10:02:31.439\n",
       "2021-06-18 10:57:56.538   2021-06-19 10:58:02.300\n",
       "2021-06-18 13:13:03.131   2021-06-19 13:13:09.648\n",
       "2021-06-18 14:16:19.376   2021-06-19 14:16:39.233\n",
       "Name: time, Length: 594, dtype: datetime64[ns]"
      ]
     },
     "execution_count": 9,
     "metadata": {},
     "output_type": "execute_result"
    }
   ],
   "source": [
    "t1 = add_vertical_barrier(t_events, df.close, num_days=1)\n",
    "t1"
   ]
  },
  {
   "cell_type": "markdown",
   "id": "59c683dd-964c-424b-87f8-df9029369d2f",
   "metadata": {},
   "source": [
    "## Apply triple barrier method"
   ]
  },
  {
   "cell_type": "code",
   "execution_count": 48,
   "id": "d2027dfe-a907-4716-b54f-a10471c8830b",
   "metadata": {},
   "outputs": [],
   "source": [
    "def get_events(close, t_events, pt_sl, trgt, min_ret, num_threads, t1=False, side=None):\n",
    "    \"\"\"\n",
    "    finds the time of the first barrier touch\n",
    "    \n",
    "    Arguments:\n",
    "    close -- a pandas series of prices\n",
    "    t_events -- the pandas timeindex containing the timestamps that will seed every triple barrier. These are the timestamps discussed in section 2.5\n",
    "    pt_sl -- a non-negative float that sets the width of the two barriers. A 0 value means that the respective horizontal barrier (profit taking and/or stop loss) will be disabled\n",
    "    t1 -- a pandas series with the timestamps of the vertical barriers. We pass a False when we watn to disable vertical barriers\n",
    "    trgt -- a pandas series of targets, expressed in terms of absolute returns\n",
    "    min_ret -- the minimum target return required for running a triple barrier search\n",
    "    num_threads -- the number of threads concurrently used by the function\n",
    "    \n",
    "    Output:\n",
    "    pandas dataframe with columns\n",
    "    t1 -- the timestamp at which the first barrier is touched\n",
    "    trgt -- the target that was used to generate the horizontal barriers\n",
    "    \"\"\"\n",
    "    #1) get target\n",
    "    trgt=trgt.reindex(t_events)\n",
    "    trgt=trgt[trgt>min_ret] # min_ret\n",
    "    #2) get t1 (max holding period)\n",
    "    if t1 is False:t1=pd.Series(pd.NaT, index=t_events)\n",
    "    #3) form events object, apply stop loss on t1\n",
    "    if side is None:side_,ptsl_=pd.Series(1.,index=trgt.index), [ptsl[0],ptsl[0]]\n",
    "    else: side_,ptsl_=side.reindex(trgt.index),ptsl[:2] #side.loc[trgt.index],ptsl[:2]\n",
    "    events=(pd.concat({'t1':t1,'trgt':trgt,'side':side_}, axis=1)\n",
    "            .dropna(subset=['trgt']))\n",
    "#     df0=mpPandasObj(func=applyPtSlOnT1,pdObj=('molecule',events.index),\n",
    "#                     numThreads=numThreads,close=close,events=events,\n",
    "#                     ptsl=ptsl_)\n",
    "    df0 = apply_triple_barrier(close, events, ptsl_, events.index)\n",
    "    events['t1']=df0.dropna(how='all').min(axis=1) # pd.min ignores nan\n",
    "    if side is None:events=events.drop('side',axis=1)\n",
    "    return events\n",
    "\n",
    "def mpPandasObj(func,pdObj,numThreads=24,mpBatches=1,linMols=True,**kargs):\n",
    "    '''\n",
    "    Parallelize jobs, return a dataframe or series\n",
    "    + func: function to be parallelized. Returns a DataFrame\n",
    "    + pdObj[0]: Name of argument used to pass the molecule\n",
    "    + pdObj[1]: List of atoms that will be grouped into molecules\n",
    "    + kwds: any other argument needed by func\n",
    "    \n",
    "    Example: df1=mpPandasObj(func,('molecule',df0.index),24,**kwds)\n",
    "    '''\n",
    "    import pandas as pd\n",
    "    #if linMols:parts=linParts(len(argList[1]),numThreads*mpBatches)\n",
    "    #else:parts=nestedParts(len(argList[1]),numThreads*mpBatches)\n",
    "    if linMols:parts=linParts(len(pdObj[1]),numThreads*mpBatches)\n",
    "    else:parts=nestedParts(len(pdObj[1]),numThreads*mpBatches)\n",
    "    \n",
    "    jobs=[]\n",
    "    for i in range(1,len(parts)):\n",
    "        job={pdObj[0]:pdObj[1][parts[i-1]:parts[i]],'func':func}\n",
    "        job.update(kargs)\n",
    "        jobs.append(job)\n",
    "    if numThreads==1:out=processJobs_(jobs)\n",
    "    else: out=processJobs(jobs,numThreads=numThreads)\n",
    "    if isinstance(out[0],pd.DataFrame):df0=pd.DataFrame()\n",
    "    elif isinstance(out[0],pd.Series):df0=pd.Series()\n",
    "    else:return out\n",
    "    for i in out:df0=df0.append(i)\n",
    "    df0=df0.sort_index()\n",
    "    return df0\n",
    "\n",
    "def apply_triple_barrier(close, events, pt_sl, molecule):\n",
    "    \"\"\"\n",
    "    apply stop loss /profit taking, if it takes place between t1 (end of event)\n",
    "    \n",
    "    Arguments:\n",
    "    close -- pandas series of prices\n",
    "    events -- pandas dataframe with columns:\n",
    "        t1: The timestamp of vertical barrier. When the value is np.nan, there will not be a vertical barrier\n",
    "        trgt: The unit width of the horizontal barriers\n",
    "    pt_sl -- a list of two non-negative float values:\n",
    "        pt_sl[0] -- the factor that multiplies trgt to set the width of the upper barrier. If 0, there will not be an upper barrier\n",
    "        pt_sl[1] -- the factor that multiples trgt to set the width of the lower barrier. If 0, there will not be a lower barrier\n",
    "    molecule -- A list with the subset of event indices that will be processed by a single thread\n",
    "    \n",
    "    Output:\n",
    "    The output from this function is a pandas dataframe containing the timestamps (if any) at which each barrier was touched.\n",
    "    \"\"\"\n",
    "    events0 = events.loc[molecule]\n",
    "    out = events0[['t1']].copy(deep=True)\n",
    "    if pt_sl[0]>0:\n",
    "        pt=pt_sl[0]*events0['trgt']\n",
    "    else:\n",
    "        pt=pd.Series(index=events.index) #NaNs\n",
    "    if pt_sl[1]>0:\n",
    "        sl=-pt_sl[1]*events0['trgt']\n",
    "    else:\n",
    "        sl=pd.Series(index=events.index) #NaNs\n",
    "    for loc, t1 in events0['t1'].fillna(close.index[-1]).iteritems():\n",
    "        df0=close[loc:t1] #path prices\n",
    "        df0=(df0/close[loc]-1)*events0.at[loc, 'side'] #path returns\n",
    "        out.loc[loc, 'sl']=df0[df0<sl[loc]].index.min() #earliest stop loss\n",
    "        out.loc[loc, 'pt']=df0[df0>pt[loc]].index.min() #earliest profit taking\n",
    "    return out"
   ]
  },
  {
   "cell_type": "code",
   "execution_count": 19,
   "id": "12b9dea3-8360-47df-9d8f-6a46cb9f22d0",
   "metadata": {},
   "outputs": [
    {
     "data": {
      "text/html": [
       "<div>\n",
       "<style scoped>\n",
       "    .dataframe tbody tr th:only-of-type {\n",
       "        vertical-align: middle;\n",
       "    }\n",
       "\n",
       "    .dataframe tbody tr th {\n",
       "        vertical-align: top;\n",
       "    }\n",
       "\n",
       "    .dataframe thead th {\n",
       "        text-align: right;\n",
       "    }\n",
       "</style>\n",
       "<table border=\"1\" class=\"dataframe\">\n",
       "  <thead>\n",
       "    <tr style=\"text-align: right;\">\n",
       "      <th></th>\n",
       "      <th>t1</th>\n",
       "      <th>trgt</th>\n",
       "      <th>side</th>\n",
       "    </tr>\n",
       "  </thead>\n",
       "  <tbody>\n",
       "    <tr>\n",
       "      <th>2021-04-23 07:31:43.163</th>\n",
       "      <td>2021-04-24 07:31:46.976</td>\n",
       "      <td>0.020325</td>\n",
       "      <td>NaN</td>\n",
       "    </tr>\n",
       "    <tr>\n",
       "      <th>2021-04-23 08:09:56.981</th>\n",
       "      <td>2021-04-24 08:10:03.818</td>\n",
       "      <td>0.020990</td>\n",
       "      <td>NaN</td>\n",
       "    </tr>\n",
       "    <tr>\n",
       "      <th>2021-04-23 08:31:35.814</th>\n",
       "      <td>2021-04-24 08:31:40.279</td>\n",
       "      <td>0.020496</td>\n",
       "      <td>NaN</td>\n",
       "    </tr>\n",
       "    <tr>\n",
       "      <th>2021-04-23 09:40:37.273</th>\n",
       "      <td>2021-04-24 09:40:40.242</td>\n",
       "      <td>0.019150</td>\n",
       "      <td>NaN</td>\n",
       "    </tr>\n",
       "    <tr>\n",
       "      <th>2021-04-23 10:06:50.048</th>\n",
       "      <td>2021-04-24 10:06:52.614</td>\n",
       "      <td>0.018793</td>\n",
       "      <td>NaN</td>\n",
       "    </tr>\n",
       "    <tr>\n",
       "      <th>...</th>\n",
       "      <td>...</td>\n",
       "      <td>...</td>\n",
       "      <td>...</td>\n",
       "    </tr>\n",
       "    <tr>\n",
       "      <th>2021-06-19 04:32:03.276</th>\n",
       "      <td>NaT</td>\n",
       "      <td>0.016546</td>\n",
       "      <td>NaN</td>\n",
       "    </tr>\n",
       "    <tr>\n",
       "      <th>2021-06-19 06:30:57.226</th>\n",
       "      <td>NaT</td>\n",
       "      <td>0.015636</td>\n",
       "      <td>NaN</td>\n",
       "    </tr>\n",
       "    <tr>\n",
       "      <th>2021-06-19 12:07:09.748</th>\n",
       "      <td>NaT</td>\n",
       "      <td>0.013532</td>\n",
       "      <td>NaN</td>\n",
       "    </tr>\n",
       "    <tr>\n",
       "      <th>2021-06-19 12:48:14.298</th>\n",
       "      <td>NaT</td>\n",
       "      <td>0.013560</td>\n",
       "      <td>NaN</td>\n",
       "    </tr>\n",
       "    <tr>\n",
       "      <th>2021-06-19 14:36:28.808</th>\n",
       "      <td>NaT</td>\n",
       "      <td>0.012779</td>\n",
       "      <td>NaN</td>\n",
       "    </tr>\n",
       "  </tbody>\n",
       "</table>\n",
       "<p>602 rows × 3 columns</p>\n",
       "</div>"
      ],
      "text/plain": [
       "                                             t1      trgt  side\n",
       "2021-04-23 07:31:43.163 2021-04-24 07:31:46.976  0.020325   NaN\n",
       "2021-04-23 08:09:56.981 2021-04-24 08:10:03.818  0.020990   NaN\n",
       "2021-04-23 08:31:35.814 2021-04-24 08:31:40.279  0.020496   NaN\n",
       "2021-04-23 09:40:37.273 2021-04-24 09:40:40.242  0.019150   NaN\n",
       "2021-04-23 10:06:50.048 2021-04-24 10:06:52.614  0.018793   NaN\n",
       "...                                         ...       ...   ...\n",
       "2021-06-19 04:32:03.276                     NaT  0.016546   NaN\n",
       "2021-06-19 06:30:57.226                     NaT  0.015636   NaN\n",
       "2021-06-19 12:07:09.748                     NaT  0.013532   NaN\n",
       "2021-06-19 12:48:14.298                     NaT  0.013560   NaN\n",
       "2021-06-19 14:36:28.808                     NaT  0.012779   NaN\n",
       "\n",
       "[602 rows x 3 columns]"
      ]
     },
     "execution_count": 19,
     "metadata": {},
     "output_type": "execute_result"
    }
   ],
   "source": [
    "# create target series\n",
    "ptsl = [1,1]\n",
    "# select min_ret\n",
    "min_ret = 0.01\n",
    "    \n",
    "events = get_events(df.close,t_events,ptsl,ind,min_ret,1,t1=t1,side=side)\n",
    "events"
   ]
  },
  {
   "cell_type": "code",
   "execution_count": 21,
   "id": "6cd048d7-f288-4a82-92d7-a4b15b7515f3",
   "metadata": {},
   "outputs": [
    {
     "data": {
      "text/plain": [
       "-1.0    1\n",
       " 1.0    1\n",
       "Name: side, dtype: int64"
      ]
     },
     "execution_count": 21,
     "metadata": {},
     "output_type": "execute_result"
    }
   ],
   "source": [
    "events.side.value_counts()"
   ]
  },
  {
   "cell_type": "markdown",
   "id": "0022b2a9-6c8a-4274-bcfa-8fe4626f573f",
   "metadata": {},
   "source": [
    "## Apply get_bins to generate the labels"
   ]
  },
  {
   "cell_type": "code",
   "execution_count": 49,
   "id": "12d7f35a-5503-4141-b861-66fcd25d6ede",
   "metadata": {},
   "outputs": [],
   "source": [
    "def get_bins(events, close, t1=None): \n",
    "    '''\n",
    "    Adjust the getBins function (Snippet 3.5) to return a 0 whenever the \n",
    "    vertical barrier is the one touched first.\n",
    "    \n",
    "    Compute event's outcome (including side information, if provided).\n",
    "    events is a DataFrame where:\n",
    "    -events.index is event's starttime\n",
    "    -events['t1'] is event's endtime\n",
    "    -events['trgt'] is event's target\n",
    "    -events['side'] (optional) implies the algo's position side\n",
    "    -t1 is original vertical barrier series\n",
    "    Case 1: ('side' not in events): bin in (-1,1) <-label by price action\n",
    "    Case 2: ('side' in events): bin in (0,1) <-label by pnl (meta-labeling)\n",
    "    '''\n",
    "    #1) prices aligned with events\n",
    "    events_=events.dropna(subset=['t1'])\n",
    "    px=events_.index.union(events_['t1'].values).drop_duplicates()\n",
    "    px=close.reindex(px,method='bfill')\n",
    "    #2) create out object\n",
    "    out=pd.DataFrame(index=events_.index)\n",
    "    out['ret']=px.loc[events_['t1'].values].values/px.loc[events_.index]-1\n",
    "    if 'side' in events_:out['ret']*=events_['side'] # meta-labeling\n",
    "    out['target']=np.sign(out['ret'])\n",
    "    \n",
    "    if 'side' not in events_:\n",
    "        # only applies when not meta-labeling\n",
    "        # to update bin to 0 when vertical barrier is touched, we need the original\n",
    "        # vertical barrier series since the events['t1'] is the time of first \n",
    "        # touch of any barrier and not the vertical barrier specifically. \n",
    "        # The index of the intersection of the vertical barrier values and the \n",
    "        # events['t1'] values indicate which bin labels needs to be turned to 0\n",
    "        vtouch_first_idx = events[events['t1'].isin(t1.values)].index\n",
    "        out.loc[vtouch_first_idx, 'target'] = 0.\n",
    "    \n",
    "    if 'side' in events_:out.loc[out['ret']<=0,'target']=0 # meta-labeling\n",
    "    return out\n",
    "\n",
    "# def get_bins(events, close):\n",
    "#     \"\"\"\n",
    "#     Output:\n",
    "#     dataframe with columns:\n",
    "#     ret -- the return realized at the time of the first touched barrier\n",
    "#     bin -- the label, {-1, 0, 1}, as a function of the sign of the outcome. The funciton can be easily adjusted to label as 0 those events when the vertical barrier was touched first\"\"\"\n",
    "#     # prices aligned with events\n",
    "#     events0 = events.dropna(subset=['t1'])\n",
    "#     px=events0.index.union(events0['t1'].values).drop_duplicates()\n",
    "#     px=close.reindex(px, method='bfill')\n",
    "#     # Create out object\n",
    "#     out=pd.DataFrame(index=events0.index)\n",
    "#     out['ret']=px.loc[events0['t1'].values].values/px.loc[events0.index]-1\n",
    "#     out['target']=np.sign(out['ret'])\n",
    "#     return out"
   ]
  },
  {
   "cell_type": "code",
   "execution_count": 50,
   "id": "d6330383-a9d2-4ae1-93c2-4be6bc2dfa57",
   "metadata": {},
   "outputs": [
    {
     "data": {
      "text/html": [
       "<div>\n",
       "<style scoped>\n",
       "    .dataframe tbody tr th:only-of-type {\n",
       "        vertical-align: middle;\n",
       "    }\n",
       "\n",
       "    .dataframe tbody tr th {\n",
       "        vertical-align: top;\n",
       "    }\n",
       "\n",
       "    .dataframe thead th {\n",
       "        text-align: right;\n",
       "    }\n",
       "</style>\n",
       "<table border=\"1\" class=\"dataframe\">\n",
       "  <thead>\n",
       "    <tr style=\"text-align: right;\">\n",
       "      <th></th>\n",
       "      <th>ret</th>\n",
       "      <th>target</th>\n",
       "    </tr>\n",
       "  </thead>\n",
       "  <tbody>\n",
       "    <tr>\n",
       "      <th>2021-06-15 01:57:34.653</th>\n",
       "      <td>-0.021440</td>\n",
       "      <td>0.0</td>\n",
       "    </tr>\n",
       "    <tr>\n",
       "      <th>2021-06-15 12:50:47.669</th>\n",
       "      <td>0.018476</td>\n",
       "      <td>1.0</td>\n",
       "    </tr>\n",
       "  </tbody>\n",
       "</table>\n",
       "</div>"
      ],
      "text/plain": [
       "                              ret  target\n",
       "2021-06-15 01:57:34.653 -0.021440     0.0\n",
       "2021-06-15 12:50:47.669  0.018476     1.0"
      ]
     },
     "execution_count": 50,
     "metadata": {},
     "output_type": "execute_result"
    }
   ],
   "source": [
    "labels = get_bins(events, df.close, t1).dropna()\n",
    "labels"
   ]
  },
  {
   "cell_type": "markdown",
   "id": "df4cbcb7-5520-40c9-ab94-76d57871a436",
   "metadata": {},
   "source": [
    "## Drop underpopulated labels"
   ]
  },
  {
   "cell_type": "code",
   "execution_count": 51,
   "id": "9d523aa6-ef6f-40cf-befd-5aefd2fed7b7",
   "metadata": {},
   "outputs": [],
   "source": [
    "def drop_labels(events, min_pct=.05):\n",
    "    # apply weights, drop labels with insufficient examples\n",
    "    while True:\n",
    "        df0=events['target'].value_counts(normalize=True)\n",
    "        if df0.min()>min_pct or df0.shape[0]<3:break\n",
    "        print('dropped label: ', df0.argmin(),df0.min())\n",
    "        events=events[events['target']!=df0.argmin()]\n",
    "    return events"
   ]
  },
  {
   "cell_type": "code",
   "execution_count": 52,
   "id": "c04f9da0-bcc0-420f-96b4-29a76aaa2cd6",
   "metadata": {},
   "outputs": [
    {
     "data": {
      "text/html": [
       "<div>\n",
       "<style scoped>\n",
       "    .dataframe tbody tr th:only-of-type {\n",
       "        vertical-align: middle;\n",
       "    }\n",
       "\n",
       "    .dataframe tbody tr th {\n",
       "        vertical-align: top;\n",
       "    }\n",
       "\n",
       "    .dataframe thead th {\n",
       "        text-align: right;\n",
       "    }\n",
       "</style>\n",
       "<table border=\"1\" class=\"dataframe\">\n",
       "  <thead>\n",
       "    <tr style=\"text-align: right;\">\n",
       "      <th></th>\n",
       "      <th>ret</th>\n",
       "      <th>target</th>\n",
       "    </tr>\n",
       "  </thead>\n",
       "  <tbody>\n",
       "    <tr>\n",
       "      <th>2021-06-15 01:57:34.653</th>\n",
       "      <td>-0.021440</td>\n",
       "      <td>0.0</td>\n",
       "    </tr>\n",
       "    <tr>\n",
       "      <th>2021-06-15 12:50:47.669</th>\n",
       "      <td>0.018476</td>\n",
       "      <td>1.0</td>\n",
       "    </tr>\n",
       "  </tbody>\n",
       "</table>\n",
       "</div>"
      ],
      "text/plain": [
       "                              ret  target\n",
       "2021-06-15 01:57:34.653 -0.021440     0.0\n",
       "2021-06-15 12:50:47.669  0.018476     1.0"
      ]
     },
     "execution_count": 52,
     "metadata": {},
     "output_type": "execute_result"
    }
   ],
   "source": [
    "clean_labels = drop_labels(labels)\n",
    "clean_labels"
   ]
  },
  {
   "cell_type": "markdown",
   "id": "7e3ec58c-673d-44db-bb77-7e185fc147ce",
   "metadata": {},
   "source": [
    "## Create prediction df"
   ]
  },
  {
   "cell_type": "code",
   "execution_count": 61,
   "id": "122e2c6f-c88a-4bf8-bc16-6ee6ab910e65",
   "metadata": {},
   "outputs": [
    {
     "data": {
      "text/html": [
       "<div>\n",
       "<style scoped>\n",
       "    .dataframe tbody tr th:only-of-type {\n",
       "        vertical-align: middle;\n",
       "    }\n",
       "\n",
       "    .dataframe tbody tr th {\n",
       "        vertical-align: top;\n",
       "    }\n",
       "\n",
       "    .dataframe thead th {\n",
       "        text-align: right;\n",
       "    }\n",
       "</style>\n",
       "<table border=\"1\" class=\"dataframe\">\n",
       "  <thead>\n",
       "    <tr style=\"text-align: right;\">\n",
       "      <th></th>\n",
       "      <th>ret</th>\n",
       "      <th>target</th>\n",
       "      <th>side</th>\n",
       "      <th>sc</th>\n",
       "    </tr>\n",
       "  </thead>\n",
       "  <tbody>\n",
       "    <tr>\n",
       "      <th>2021-06-15 01:57:34.653</th>\n",
       "      <td>-0.021440</td>\n",
       "      <td>0.0</td>\n",
       "      <td>-1</td>\n",
       "      <td>-0.005043</td>\n",
       "    </tr>\n",
       "    <tr>\n",
       "      <th>2021-06-15 12:50:47.669</th>\n",
       "      <td>0.018476</td>\n",
       "      <td>1.0</td>\n",
       "      <td>1</td>\n",
       "      <td>0.106864</td>\n",
       "    </tr>\n",
       "  </tbody>\n",
       "</table>\n",
       "</div>"
      ],
      "text/plain": [
       "                              ret  target  side        sc\n",
       "2021-06-15 01:57:34.653 -0.021440     0.0    -1 -0.005043\n",
       "2021-06-15 12:50:47.669  0.018476     1.0     1  0.106864"
      ]
     },
     "execution_count": 61,
     "metadata": {},
     "output_type": "execute_result"
    }
   ],
   "source": [
    "prediction = pd.merge_asof(labels, side.rename('side').to_frame(),\n",
    "                   left_index=True, right_index=True, direction='forward')\n",
    "prediction[\"sc\"] = sc.reindex(prediction.index)\n",
    "prediction"
   ]
  },
  {
   "cell_type": "code",
   "execution_count": 62,
   "id": "8e8b08f4-670e-436e-9c3c-9a514c9ccac3",
   "metadata": {},
   "outputs": [],
   "source": [
    "prediction.to_csv(\"../data/metalabels.csv\")"
   ]
  },
  {
   "cell_type": "markdown",
   "id": "673b5f5e-05bc-4b16-8a6a-6aa1f54b25fc",
   "metadata": {},
   "source": [
    "## Plotting"
   ]
  },
  {
   "cell_type": "code",
   "execution_count": 38,
   "id": "bde44a08-f278-40f3-babb-35fe4fad4876",
   "metadata": {},
   "outputs": [
    {
     "data": {
      "text/plain": [
       "[<matplotlib.lines.Line2D at 0x7fbb9172e820>]"
      ]
     },
     "execution_count": 38,
     "metadata": {},
     "output_type": "execute_result"
    },
    {
     "data": {
      "image/png": "[encoded data removed]",
      "text/plain": [
       "<Figure size 864x432 with 1 Axes>"
      ]
     },
     "metadata": {
      "needs_background": "light"
     },
     "output_type": "display_data"
    }
   ],
   "source": [
    "\n",
    "# test = df[a:b].reindex(t_events)\n",
    "fig, ax = plt.subplots(figsize=(12, 6))\n",
    "\n",
    "ax.scatter(clean_labels.index, df.close.reindex(clean_labels.index))\n",
    "ax.plot(df.close, color=\"gray\", alpha=.5)\n",
    "# ax.scatter(test.index, test.close)"
   ]
  },
  {
   "cell_type": "code",
   "execution_count": 74,
   "id": "f2ccc17b-3837-44a8-9c24-cbd6c32b2252",
   "metadata": {},
   "outputs": [
    {
     "data": {
      "text/plain": [
       "<matplotlib.collections.PathCollection at 0x7fc88d3877f0>"
      ]
     },
     "execution_count": 74,
     "metadata": {},
     "output_type": "execute_result"
    },
    {
     "data": {
      "image/png": "[encoded data removed]",
      "text/plain": [
       "<Figure size 864x432 with 1 Axes>"
      ]
     },
     "metadata": {
      "needs_background": "light"
     },
     "output_type": "display_data"
    }
   ],
   "source": [
    "a = -200000\n",
    "b = -100000\n",
    "test = df[a:b].reindex(t_events)\n",
    "fig, ax = plt.subplots(figsize=(12, 6))\n",
    "\n",
    "ax.plot(df.close[a:b], color=\"gray\", alpha=.5)\n",
    "ax.scatter(test.index, test.close)"
   ]
  },
  {
   "cell_type": "code",
   "execution_count": 51,
   "id": "623b6dda-8c5a-40d4-88d3-db09fff4b4ce",
   "metadata": {},
   "outputs": [
    {
     "data": {
      "text/plain": [
       "<matplotlib.collections.PathCollection at 0x7fc8f1738b80>"
      ]
     },
     "execution_count": 51,
     "metadata": {},
     "output_type": "execute_result"
    },
    {
     "data": {
      "image/png": "[encoded data removed]",
      "text/plain": [
       "<Figure size 864x432 with 1 Axes>"
      ]
     },
     "metadata": {
      "needs_background": "light"
     },
     "output_type": "display_data"
    }
   ],
   "source": [
    "a = None\n",
    "b = None\n",
    "test = df[a:b].reindex(t_events)\n",
    "fig, ax = plt.subplots(figsize=(12, 6))\n",
    "\n",
    "ax.plot(df.close[a:b], color=\"gray\", alpha=.5)\n",
    "ax.scatter(test.index, test.close)"
   ]
  },
  {
   "cell_type": "code",
   "execution_count": null,
   "id": "7328c61d-e7eb-4b8c-9346-acc2fa4a63ee",
   "metadata": {},
   "outputs": [],
   "source": []
  }
 ],
 "metadata": {
  "kernelspec": {
   "display_name": "Python 3",
   "language": "python",
   "name": "python3"
  },
  "language_info": {
   "codemirror_mode": {
    "name": "ipython",
    "version": 3
   },
   "file_extension": ".py",
   "mimetype": "text/x-python",
   "name": "python",
   "nbconvert_exporter": "python",
   "pygments_lexer": "ipython3",
   "version": "3.9.4"
  }
 },
 "nbformat": 4,
 "nbformat_minor": 5
}
