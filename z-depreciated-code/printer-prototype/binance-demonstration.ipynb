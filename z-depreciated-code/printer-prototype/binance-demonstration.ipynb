{
 "cells": [
  {
   "cell_type": "markdown",
   "id": "1116f343-d085-4e8c-941f-53a6609c98fe",
   "metadata": {},
   "source": [
    "# Binance demonstration "
   ]
  },
  {
   "cell_type": "code",
   "execution_count": 1,
   "id": "119b6256-8aa0-4f4d-a571-62162ae5955b",
   "metadata": {},
   "outputs": [],
   "source": [
    "import pandas as pd\n",
    "from binance.client import Client\n",
    "from binance.enums import *\n",
    "import datetime\n",
    "import json"
   ]
  },
  {
   "cell_type": "code",
   "execution_count": 2,
   "id": "7a7bff8c-d3b0-429d-9641-962c09cb1937",
   "metadata": {},
   "outputs": [],
   "source": [
    "def get_api_keys(site: str, api_type: str)->str:\n",
    "    \"\"\"\n",
    "    gets api keys stored in api-keys/api-keys.txt\n",
    "    site: 'binance'\n",
    "    api_type: 'api', 'secret'\n",
    "    \"\"\"\n",
    "    with open('../api-keys/api-keys.txt') as json_file:\n",
    "        return json.load(json_file)[site][api_type]\n",
    "# Constants\n",
    "api_key = get_api_keys(\"binance\", \"api\")\n",
    "api_secret = get_api_keys(\"binance\", \"secret\")\n",
    "\n",
    "client = Client(api_key=api_key, api_secret=api_secret)"
   ]
  },
  {
   "cell_type": "code",
   "execution_count": 6,
   "id": "de708a4b-118c-48e7-b929-e9d790b142e3",
   "metadata": {},
   "outputs": [
    {
     "data": {
      "text/plain": [
       "{'asset': 'BUSD', 'free': '35.45614513', 'locked': '0.00000000'}"
      ]
     },
     "execution_count": 6,
     "metadata": {},
     "output_type": "execute_result"
    }
   ],
   "source": [
    "btc = client.get_asset_balance(asset='BUSD')\n",
    "btc"
   ]
  },
  {
   "cell_type": "code",
   "execution_count": 7,
   "id": "cc124d7c-69f3-4b1b-9ea2-e707e273c0b7",
   "metadata": {},
   "outputs": [
    {
     "data": {
      "text/plain": [
       "{'asset': 'BUSD', 'free': '35.45614513', 'locked': '0.00000000'}"
      ]
     },
     "execution_count": 7,
     "metadata": {},
     "output_type": "execute_result"
    }
   ],
   "source": [
    "busdd = client.get_asset_balance(asset='BUSD')\n",
    "busdd"
   ]
  },
  {
   "cell_type": "code",
   "execution_count": 8,
   "id": "3ac16533-9666-4343-a1a5-7b8bc27b146e",
   "metadata": {},
   "outputs": [
    {
     "data": {
      "text/plain": [
       "35.45614513"
      ]
     },
     "execution_count": 8,
     "metadata": {},
     "output_type": "execute_result"
    }
   ],
   "source": [
    "busd = float(busdd[\"free\"]) + float(busdd[\"locked\"])\n",
    "busd"
   ]
  },
  {
   "cell_type": "code",
   "execution_count": 13,
   "id": "3cced758-3755-4315-a1cc-7a766a52352d",
   "metadata": {},
   "outputs": [
    {
     "data": {
      "text/plain": [
       "38831.35"
      ]
     },
     "execution_count": 13,
     "metadata": {},
     "output_type": "execute_result"
    }
   ],
   "source": [
    "btc_price = float(client.get_recent_trades(symbol='BTCBUSD', limit=1)[0][\"price\"])\n",
    "btc_price"
   ]
  },
  {
   "cell_type": "code",
   "execution_count": 12,
   "id": "38a2aee8-0b71-4d88-bed1-37257c63dc1c",
   "metadata": {},
   "outputs": [
    {
     "data": {
      "text/plain": [
       "'38831.18000000'"
      ]
     },
     "execution_count": 12,
     "metadata": {},
     "output_type": "execute_result"
    }
   ],
   "source": [
    "client.get_recent_trades(symbol='BTCBUSD', limit=10)[0][\"price\"]"
   ]
  },
  {
   "cell_type": "code",
   "execution_count": null,
   "id": "8e7ff2e6-ad25-4d43-ac00-540d4caed056",
   "metadata": {},
   "outputs": [],
   "source": []
  }
 ],
 "metadata": {
  "kernelspec": {
   "display_name": "Python 3",
   "language": "python",
   "name": "python3"
  },
  "language_info": {
   "codemirror_mode": {
    "name": "ipython",
    "version": 3
   },
   "file_extension": ".py",
   "mimetype": "text/x-python",
   "name": "python",
   "nbconvert_exporter": "python",
   "pygments_lexer": "ipython3",
   "version": "3.9.4"
  }
 },
 "nbformat": 4,
 "nbformat_minor": 5
}
