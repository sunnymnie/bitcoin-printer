{
 "cells": [
  {
   "cell_type": "markdown",
   "id": "46543b87-ac8f-4a72-9d55-4ffe71b247c5",
   "metadata": {},
   "source": [
    "# Add indicators"
   ]
  },
  {
   "cell_type": "code",
   "execution_count": 10,
   "id": "aa64f619-4d33-467b-9706-2b8bca1f3ca9",
   "metadata": {},
   "outputs": [],
   "source": [
    "import pandas as pd\n",
    "import numpy as np\n",
    "import matplotlib.pyplot as plt\n",
    "import datetime"
   ]
  },
  {
   "cell_type": "code",
   "execution_count": 19,
   "id": "29d3b946-32ec-4237-a187-b68e8731c325",
   "metadata": {},
   "outputs": [],
   "source": [
    "side = pd.read_csv(\"../data/side.csv\", index_col=0, parse_dates=True, squeeze=True)\n",
    "vol = pd.read_csv(\"../data/vol.csv\", index_col=0, parse_dates=True, squeeze=True)\n",
    "sc = pd.read_csv(\"../data/serial-correlation.csv\", index_col=0, parse_dates=True, squeeze=True)"
   ]
  },
  {
   "cell_type": "code",
   "execution_count": null,
   "id": "fb787313-54fc-4fa8-8a85-1dd9c1536e9b",
   "metadata": {},
   "outputs": [],
   "source": [
    "#Indicator\n",
    "ind = pd.read_csv(\"../data/BTCUSDT-volume-bars-indicators.csv\", index_col=0, parse_dates=True)"
   ]
  },
  {
   "cell_type": "code",
   "execution_count": null,
   "id": "85e979e7-73a7-49d0-bf02-2da79baf921d",
   "metadata": {},
   "outputs": [],
   "source": [
    "df = ind.reindex(side.index)\n",
    "ind = None"
   ]
  },
  {
   "cell_type": "code",
   "execution_count": null,
   "id": "4253b7f5-5627-4fb2-bb25-ef6573b46d4d",
   "metadata": {},
   "outputs": [],
   "source": [
    "# df = pd.concat([df, ind.reindex(side.index)], axis=1) #Add more"
   ]
  },
  {
   "cell_type": "code",
   "execution_count": null,
   "id": "6d6c22ca-54f9-410d-bb7f-56f6c19ae9ed",
   "metadata": {},
   "outputs": [],
   "source": [
    "df[\"vol\"] = vol.reindex(side.index)\n",
    "df[\"sc\"] = sc.reindex(side.index)\n",
    "df[\"random\"] = np.random.uniform(size=len(side))"
   ]
  },
  {
   "cell_type": "code",
   "execution_count": null,
   "id": "94d17712-37a6-48b3-8bff-686a463424f0",
   "metadata": {},
   "outputs": [],
   "source": [
    "df[\"target\"] = side"
   ]
  },
  {
   "cell_type": "code",
   "execution_count": null,
   "id": "3807c79f-a33a-4210-b50f-9a74622fe8fa",
   "metadata": {},
   "outputs": [],
   "source": [
    "df"
   ]
  },
  {
   "cell_type": "code",
   "execution_count": null,
   "id": "66a61a44-824b-407f-945d-d09874bea4c9",
   "metadata": {},
   "outputs": [],
   "source": [
    "df.to_csv(\"../data/prediction.csv\")"
   ]
  },
  {
   "cell_type": "code",
   "execution_count": null,
   "id": "f787f5a4-414a-4472-a8b1-c8624de471ae",
   "metadata": {},
   "outputs": [],
   "source": []
  }
 ],
 "metadata": {
  "kernelspec": {
   "display_name": "Python 3",
   "language": "python",
   "name": "python3"
  },
  "language_info": {
   "codemirror_mode": {
    "name": "ipython",
    "version": 3
   },
   "file_extension": ".py",
   "mimetype": "text/x-python",
   "name": "python",
   "nbconvert_exporter": "python",
   "pygments_lexer": "ipython3",
   "version": "3.9.4"
  }
 },
 "nbformat": 4,
 "nbformat_minor": 5
}
