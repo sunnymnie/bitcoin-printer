{
 "cells": [
  {
   "cell_type": "markdown",
   "id": "e079260b-4708-4de7-aaff-a19af4ca0a1d",
   "metadata": {},
   "source": [
    "# Function optimization"
   ]
  },
  {
   "cell_type": "code",
   "execution_count": 42,
   "id": "aa8e82ed-0442-4ab6-9ac1-cae12be21ae3",
   "metadata": {},
   "outputs": [],
   "source": [
    "import pandas as pd\n",
    "import numpy as np\n",
    "import matplotlib.pyplot as plt\n",
    "import datetime\n",
    "import time\n",
    "from IPython.display import clear_output"
   ]
  },
  {
   "cell_type": "code",
   "execution_count": 50,
   "id": "6b2e8956-079e-4764-95ba-1efd1c518671",
   "metadata": {},
   "outputs": [],
   "source": [
    "df = pd.read_csv(\"../data/BTCUSDT-volume-bars.csv\", index_col=0, parse_dates=True)\n",
    "ind = pd.read_csv(\"../data/vol.csv\", index_col=0, parse_dates=True, squeeze=True)"
   ]
  },
  {
   "cell_type": "code",
   "execution_count": 54,
   "id": "29847de9-91bf-47d4-91b6-1dda05f78fd8",
   "metadata": {},
   "outputs": [],
   "source": [
    "df = df[-1000:]"
   ]
  },
  {
   "cell_type": "code",
   "execution_count": 44,
   "id": "15290a52-99aa-4513-85f3-611e8d64f02e",
   "metadata": {},
   "outputs": [
    {
     "name": "stdout",
     "output_type": "stream",
     "text": [
      "--- 0.00015306472778320312 seconds ---\n"
     ]
    }
   ],
   "source": [
    "start_time = time.time()\n",
    "print(\"--- %s seconds ---\" % (time.time() - start_time))"
   ]
  },
  {
   "cell_type": "code",
   "execution_count": 88,
   "id": "eb8e076c-1f45-41ff-86e1-ced6e8748001",
   "metadata": {
    "jupyter": {
     "source_hidden": true
    },
    "tags": []
   },
   "outputs": [],
   "source": [
    "def get_t_events(g_raw, h, m):\n",
    "    \"\"\"\n",
    "    Implementation of the symmetric CUSUM filter seen in chapter 2.5.2\n",
    "    \n",
    "    Arguments:\n",
    "    g_raw -- the raw time series to filter (possibly pandas series)\n",
    "    h -- threshold pandas series vol\n",
    "    m -- minimum threshold (float, ex: 0.02)\n",
    "    \n",
    "    Purpose:\n",
    "    The CUSUM filter is a quality-control method, designed to detect a shift in the mean value of a measured quantity away from a target value. \n",
    "    \"\"\"\n",
    "    h = h.map(lambda x: x if x>=m else m)\n",
    "    t_events, s_pos, s_neg = [], 0, 0\n",
    "    diff = np.log(g_raw).diff().dropna()\n",
    "    acc = 0\n",
    "    for i in diff.index[1:]:\n",
    "        print(i)\n",
    "        start_time = time.time()\n",
    "        try:\n",
    "            pos, neg = float(s_pos+diff.loc[i]), float(s_neg+diff.loc[i])\n",
    "        except Exception as e:\n",
    "            print(e)\n",
    "            print(s_pos+diff.loc[i], type(s_pos+diff.loc[i]))\n",
    "            print(s_neg+diff.loc[i], type(s_neg+diff.loc[i]))\n",
    "            break\n",
    "            \n",
    "        print(\"--- %s seconds 1---\" % (time.time() - start_time))\n",
    "        start_time = time.time()\n",
    "        \n",
    "        s_pos, s_neg=max(0., pos), min(0., neg)\n",
    "        \n",
    "        print(\"--- %s seconds 2---\" % (time.time() - start_time))\n",
    "        start_time = time.time()\n",
    "        \n",
    "#         th = h[h.index.get_loc(i, method=\"pad\")]\n",
    "        \n",
    "        try: \n",
    "            th = h.loc[i]\n",
    "        except:\n",
    "            th = h[h.index.get_loc(i, method=\"pad\")]\n",
    "            pass\n",
    "        \n",
    "        print(\"--- %s seconds 3---\" % (time.time() - start_time))\n",
    "        start_time = time.time()\n",
    "        \n",
    "        if s_neg<-th:\n",
    "            s_neg=0;t_events.append(i)\n",
    "        elif s_pos>th:\n",
    "            s_pos=0;t_events.append(i)\n",
    "        print(\"--- %s seconds 4---\" % (time.time() - start_time))\n",
    "        acc += 1\n",
    "    return pd.DatetimeIndex(t_events), acc"
   ]
  },
  {
   "cell_type": "code",
   "execution_count": 45,
   "id": "66860154-a6f1-4eb5-ac2b-1e9ec29fad1e",
   "metadata": {
    "tags": []
   },
   "outputs": [],
   "source": [
    "def get_t_events(g_raw, h, m):\n",
    "    \"\"\"\n",
    "    Implementation of the symmetric CUSUM filter seen in chapter 2.5.2\n",
    "    \n",
    "    Arguments:\n",
    "    g_raw -- the raw time series to filter (possibly pandas series)\n",
    "    h -- threshold pandas series vol\n",
    "    m -- minimum threshold (float, ex: 0.02)\n",
    "    \n",
    "    Purpose:\n",
    "    The CUSUM filter is a quality-control method, designed to detect a shift in the mean value of a measured quantity away from a target value. \n",
    "    \"\"\"\n",
    "    h = h.map(lambda x: x if x>=m else m)\n",
    "    t_events, s_pos, s_neg = [], 0, 0\n",
    "    diff = np.log(g_raw).diff().dropna()\n",
    "    for i in diff.index[1:]:\n",
    "        try:\n",
    "            pos, neg = float(s_pos+diff.loc[i]), float(s_neg+diff.loc[i])\n",
    "        except Exception as e:\n",
    "            print(e)\n",
    "            print(s_pos+diff.loc[i], type(s_pos+diff.loc[i]))\n",
    "            print(s_neg+diff.loc[i], type(s_neg+diff.loc[i]))\n",
    "            break\n",
    "\n",
    "        \n",
    "        s_pos, s_neg=max(0., pos), min(0., neg)\n",
    "        \n",
    "        \n",
    "        try: \n",
    "            th = h.loc[i]\n",
    "        except:\n",
    "            th = h[h.index.get_loc(i, method=\"pad\")]\n",
    "\n",
    "        if s_neg<-th:\n",
    "            s_neg=0;t_events.append(i)\n",
    "        elif s_pos>th:\n",
    "            s_pos=0;t_events.append(i)\n",
    "        \n",
    "    return pd.DatetimeIndex(t_events)"
   ]
  },
  {
   "cell_type": "code",
   "execution_count": 46,
   "id": "ad8166b6-c3cb-4ebb-a5a0-cd4ef037bc99",
   "metadata": {},
   "outputs": [
    {
     "data": {
      "text/plain": [
       "Timestamp('2021-06-13 03:10:14.601000')"
      ]
     },
     "execution_count": 46,
     "metadata": {},
     "output_type": "execute_result"
    }
   ],
   "source": [
    "df.index[2]"
   ]
  },
  {
   "cell_type": "code",
   "execution_count": 89,
   "id": "5ff098fd-52f2-44aa-869b-2f40dc43bf76",
   "metadata": {},
   "outputs": [
    {
     "name": "stdout",
     "output_type": "stream",
     "text": [
      "2021-06-19 14:34:45.431000\n",
      "--- 0.00043320655822753906 seconds 1---\n",
      "--- 2.86102294921875e-06 seconds 2---\n",
      "--- 7.987022399902344e-05 seconds 3---\n",
      "--- 3.0994415283203125e-06 seconds 4---\n",
      "2021-06-19 14:34:45.687000\n",
      "--- 9.083747863769531e-05 seconds 1---\n",
      "--- 2.1457672119140625e-06 seconds 2---\n",
      "--- 5.984306335449219e-05 seconds 3---\n",
      "--- 9.5367431640625e-07 seconds 4---\n",
      "2021-06-19 14:34:47.647000\n",
      "--- 0.00013303756713867188 seconds 1---\n",
      "--- 2.1457672119140625e-06 seconds 2---\n",
      "--- 6.794929504394531e-05 seconds 3---\n",
      "--- 1.9073486328125e-06 seconds 4---\n",
      "--- 3.8022170066833496 seconds 2---\n"
     ]
    },
    {
     "data": {
      "text/plain": [
       "(DatetimeIndex([], dtype='datetime64[ns]', freq=None), 3)"
      ]
     },
     "execution_count": 89,
     "metadata": {},
     "output_type": "execute_result"
    }
   ],
   "source": [
    "start_time = time.time()\n",
    "t_events, acc = get_t_events(df.close,h=ind, m=0.02)\n",
    "print(\"--- %s seconds 2---\" % (time.time() - start_time))\n",
    "t_events, acc"
   ]
  },
  {
   "cell_type": "code",
   "execution_count": 87,
   "id": "ffd7a601-c57f-4e73-bcbb-ad18bb1c4812",
   "metadata": {},
   "outputs": [
    {
     "name": "stdout",
     "output_type": "stream",
     "text": [
      "0.0127811714789338\n"
     ]
    }
   ],
   "source": [
    "th = ind.loc[\"2021-06-19 14:34:47.647000\"]\n",
    "print(th)"
   ]
  },
  {
   "cell_type": "code",
   "execution_count": 76,
   "id": "8acf3945-460d-4db7-a1e1-86147f978b56",
   "metadata": {},
   "outputs": [
    {
     "data": {
      "text/html": [
       "<div>\n",
       "<style scoped>\n",
       "    .dataframe tbody tr th:only-of-type {\n",
       "        vertical-align: middle;\n",
       "    }\n",
       "\n",
       "    .dataframe tbody tr th {\n",
       "        vertical-align: top;\n",
       "    }\n",
       "\n",
       "    .dataframe thead th {\n",
       "        text-align: right;\n",
       "    }\n",
       "</style>\n",
       "<table border=\"1\" class=\"dataframe\">\n",
       "  <thead>\n",
       "    <tr style=\"text-align: right;\">\n",
       "      <th></th>\n",
       "      <th>open</th>\n",
       "      <th>high</th>\n",
       "      <th>low</th>\n",
       "      <th>close</th>\n",
       "      <th>volume</th>\n",
       "    </tr>\n",
       "    <tr>\n",
       "      <th>time</th>\n",
       "      <th></th>\n",
       "      <th></th>\n",
       "      <th></th>\n",
       "      <th></th>\n",
       "      <th></th>\n",
       "    </tr>\n",
       "  </thead>\n",
       "  <tbody>\n",
       "    <tr>\n",
       "      <th>2021-06-19 14:34:30.704</th>\n",
       "      <td>36192.96</td>\n",
       "      <td>36200.00</td>\n",
       "      <td>36192.96</td>\n",
       "      <td>36200.00</td>\n",
       "      <td>5.256469</td>\n",
       "    </tr>\n",
       "    <tr>\n",
       "      <th>2021-06-19 14:34:38.427</th>\n",
       "      <td>36199.87</td>\n",
       "      <td>36200.00</td>\n",
       "      <td>36196.38</td>\n",
       "      <td>36200.00</td>\n",
       "      <td>14.791975</td>\n",
       "    </tr>\n",
       "    <tr>\n",
       "      <th>2021-06-19 14:34:45.431</th>\n",
       "      <td>36200.00</td>\n",
       "      <td>36200.80</td>\n",
       "      <td>36200.00</td>\n",
       "      <td>36200.00</td>\n",
       "      <td>5.005186</td>\n",
       "    </tr>\n",
       "    <tr>\n",
       "      <th>2021-06-19 14:34:45.687</th>\n",
       "      <td>36200.00</td>\n",
       "      <td>36208.00</td>\n",
       "      <td>36200.00</td>\n",
       "      <td>36208.00</td>\n",
       "      <td>5.069611</td>\n",
       "    </tr>\n",
       "    <tr>\n",
       "      <th>2021-06-19 14:34:47.647</th>\n",
       "      <td>36208.00</td>\n",
       "      <td>36209.89</td>\n",
       "      <td>36200.00</td>\n",
       "      <td>36200.00</td>\n",
       "      <td>5.450086</td>\n",
       "    </tr>\n",
       "    <tr>\n",
       "      <th>...</th>\n",
       "      <td>...</td>\n",
       "      <td>...</td>\n",
       "      <td>...</td>\n",
       "      <td>...</td>\n",
       "      <td>...</td>\n",
       "    </tr>\n",
       "    <tr>\n",
       "      <th>2021-06-19 16:27:04.502</th>\n",
       "      <td>35831.71</td>\n",
       "      <td>35844.86</td>\n",
       "      <td>35831.71</td>\n",
       "      <td>35841.54</td>\n",
       "      <td>5.539350</td>\n",
       "    </tr>\n",
       "    <tr>\n",
       "      <th>2021-06-19 16:27:20.667</th>\n",
       "      <td>35841.57</td>\n",
       "      <td>35841.58</td>\n",
       "      <td>35822.03</td>\n",
       "      <td>35823.32</td>\n",
       "      <td>5.033671</td>\n",
       "    </tr>\n",
       "    <tr>\n",
       "      <th>2021-06-19 16:27:26.627</th>\n",
       "      <td>35823.32</td>\n",
       "      <td>35833.69</td>\n",
       "      <td>35823.32</td>\n",
       "      <td>35826.83</td>\n",
       "      <td>5.425236</td>\n",
       "    </tr>\n",
       "    <tr>\n",
       "      <th>2021-06-19 16:27:44.405</th>\n",
       "      <td>35824.84</td>\n",
       "      <td>35852.23</td>\n",
       "      <td>35823.55</td>\n",
       "      <td>35847.95</td>\n",
       "      <td>5.001377</td>\n",
       "    </tr>\n",
       "    <tr>\n",
       "      <th>2021-06-19 16:27:48.270</th>\n",
       "      <td>35833.20</td>\n",
       "      <td>35848.03</td>\n",
       "      <td>35830.00</td>\n",
       "      <td>35839.87</td>\n",
       "      <td>5.056933</td>\n",
       "    </tr>\n",
       "  </tbody>\n",
       "</table>\n",
       "<p>1000 rows × 5 columns</p>\n",
       "</div>"
      ],
      "text/plain": [
       "                             open      high       low     close     volume\n",
       "time                                                                      \n",
       "2021-06-19 14:34:30.704  36192.96  36200.00  36192.96  36200.00   5.256469\n",
       "2021-06-19 14:34:38.427  36199.87  36200.00  36196.38  36200.00  14.791975\n",
       "2021-06-19 14:34:45.431  36200.00  36200.80  36200.00  36200.00   5.005186\n",
       "2021-06-19 14:34:45.687  36200.00  36208.00  36200.00  36208.00   5.069611\n",
       "2021-06-19 14:34:47.647  36208.00  36209.89  36200.00  36200.00   5.450086\n",
       "...                           ...       ...       ...       ...        ...\n",
       "2021-06-19 16:27:04.502  35831.71  35844.86  35831.71  35841.54   5.539350\n",
       "2021-06-19 16:27:20.667  35841.57  35841.58  35822.03  35823.32   5.033671\n",
       "2021-06-19 16:27:26.627  35823.32  35833.69  35823.32  35826.83   5.425236\n",
       "2021-06-19 16:27:44.405  35824.84  35852.23  35823.55  35847.95   5.001377\n",
       "2021-06-19 16:27:48.270  35833.20  35848.03  35830.00  35839.87   5.056933\n",
       "\n",
       "[1000 rows x 5 columns]"
      ]
     },
     "execution_count": 76,
     "metadata": {},
     "output_type": "execute_result"
    }
   ],
   "source": [
    "df"
   ]
  },
  {
   "cell_type": "code",
   "execution_count": 71,
   "id": "e9e33eb5-8b9f-4995-b57e-711457949255",
   "metadata": {},
   "outputs": [
    {
     "data": {
      "text/plain": [
       "0.0127811714789338"
      ]
     },
     "execution_count": 71,
     "metadata": {},
     "output_type": "execute_result"
    }
   ],
   "source": [
    "th"
   ]
  },
  {
   "cell_type": "code",
   "execution_count": null,
   "id": "6857b4be-f2c7-45ef-a491-ca60125cf3e8",
   "metadata": {},
   "outputs": [],
   "source": []
  }
 ],
 "metadata": {
  "kernelspec": {
   "display_name": "Python 3",
   "language": "python",
   "name": "python3"
  },
  "language_info": {
   "codemirror_mode": {
    "name": "ipython",
    "version": 3
   },
   "file_extension": ".py",
   "mimetype": "text/x-python",
   "name": "python",
   "nbconvert_exporter": "python",
   "pygments_lexer": "ipython3",
   "version": "3.9.4"
  }
 },
 "nbformat": 4,
 "nbformat_minor": 5
}
