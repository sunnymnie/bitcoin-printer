{
 "cells": [
  {
   "cell_type": "markdown",
   "id": "3aa3c13b-b293-4a42-8529-17476e21d77e",
   "metadata": {},
   "source": [
    "# Saved functions\n",
    "Purpose: Just a handy list of functions I can refer to"
   ]
  },
  {
   "cell_type": "code",
   "execution_count": 2,
   "id": "57ff5461-f4dd-4631-9952-7a5fccfc6d05",
   "metadata": {},
   "outputs": [],
   "source": [
    "# Imports\n",
    "import pandas as pd\n",
    "from binance.client import Client\n",
    "import datetime\n",
    "import json"
   ]
  },
  {
   "cell_type": "code",
   "execution_count": 3,
   "id": "8f64d65e-293e-4b1e-a677-abf3d7585afa",
   "metadata": {},
   "outputs": [],
   "source": [
    "def get_api_keys(site: str, api_type: str)->str:\n",
    "    \"\"\"\n",
    "    gets api keys stored in api-keys/api-keys.txt\n",
    "    site: 'binance'\n",
    "    api_type: 'api', 'secret'\n",
    "    \"\"\"\n",
    "    with open('../../api-keys/api-keys.txt') as json_file:\n",
    "        return json.load(json_file)[site][api_type]\n",
    "# Constants\n",
    "api_key = get_api_keys(\"binance\", \"api\")\n",
    "api_secret = get_api_keys(\"binance\", \"secret\")\n",
    "\n",
    "client = Client(api_key=api_key, api_secret=api_secret)"
   ]
  },
  {
   "cell_type": "code",
   "execution_count": 5,
   "id": "720e69ff-ed95-48ee-a0f1-0bd7f790c614",
   "metadata": {},
   "outputs": [],
   "source": [
    "orders = client.get_all_orders(symbol='XLMBUSD', limit=2)\n",
    "# orders"
   ]
  },
  {
   "cell_type": "code",
   "execution_count": 16,
   "id": "ea25bb34-0a94-45d1-93b5-f4528a33f2fd",
   "metadata": {},
   "outputs": [],
   "source": [
    "order = client.order_limit_buy(\n",
    "    symbol='BTCBUSD',\n",
    "    quantity=0.0005,\n",
    "    price='30000.00') #Buy 0.0005 BTC at $30000.00 per BTC, spending $15.00\n",
    "\n",
    "# order = client.order_limit_sell(\n",
    "#     symbol='BNBBTC',\n",
    "#     quantity=100,\n",
    "#     price='0.00001')"
   ]
  },
  {
   "cell_type": "code",
   "execution_count": 6,
   "id": "183e57f6-84bf-4fd1-b8a1-c376e174b0a2",
   "metadata": {},
   "outputs": [],
   "source": [
    "order = client.order_limit_buy(\n",
    "    symbol='BTCBUSD',\n",
    "    quantity=0.0003,\n",
    "    price='37300.00')"
   ]
  },
  {
   "cell_type": "code",
   "execution_count": 11,
   "id": "21c4a9c2-817d-4660-bed9-b95fe5d5aac8",
   "metadata": {},
   "outputs": [
    {
     "data": {
      "text/plain": [
       "{'symbol': 'BTCBUSD',\n",
       " 'orderId': 2679234515,\n",
       " 'orderListId': -1,\n",
       " 'clientOrderId': 'yVcQ2yynW4qru3A3ACONWl',\n",
       " 'price': '37300.00000000',\n",
       " 'origQty': '0.00030000',\n",
       " 'executedQty': '0.00000000',\n",
       " 'cummulativeQuoteQty': '0.00000000',\n",
       " 'status': 'NEW',\n",
       " 'timeInForce': 'GTC',\n",
       " 'type': 'LIMIT',\n",
       " 'side': 'BUY',\n",
       " 'stopPrice': '0.00000000',\n",
       " 'icebergQty': '0.00000000',\n",
       " 'time': 1623442594487,\n",
       " 'updateTime': 1623442594487,\n",
       " 'isWorking': True,\n",
       " 'origQuoteOrderQty': '0.00000000'}"
      ]
     },
     "execution_count": 11,
     "metadata": {},
     "output_type": "execute_result"
    }
   ],
   "source": [
    "orders = client.get_all_orders(symbol='BTCBUSD', limit=2)\n",
    "orders[-1]"
   ]
  },
  {
   "cell_type": "code",
   "execution_count": 12,
   "id": "6a5dbb7c-1f55-4119-9b2b-ef3604a8e834",
   "metadata": {},
   "outputs": [],
   "source": [
    "result = client.cancel_order(\n",
    "    symbol='BTCBUSD',\n",
    "    orderId=2679234515)"
   ]
  },
  {
   "cell_type": "code",
   "execution_count": 13,
   "id": "3c985f87-e12c-430c-af35-b21f47a20226",
   "metadata": {},
   "outputs": [
    {
     "data": {
      "text/plain": [
       "{'symbol': 'BTCBUSD',\n",
       " 'orderId': 2679234515,\n",
       " 'orderListId': -1,\n",
       " 'clientOrderId': 'yVcQ2yynW4qru3A3ACONWl',\n",
       " 'price': '37300.00000000',\n",
       " 'origQty': '0.00030000',\n",
       " 'executedQty': '0.00000000',\n",
       " 'cummulativeQuoteQty': '0.00000000',\n",
       " 'status': 'CANCELED',\n",
       " 'timeInForce': 'GTC',\n",
       " 'type': 'LIMIT',\n",
       " 'side': 'BUY',\n",
       " 'stopPrice': '0.00000000',\n",
       " 'icebergQty': '0.00000000',\n",
       " 'time': 1623442594487,\n",
       " 'updateTime': 1623442782066,\n",
       " 'isWorking': True,\n",
       " 'origQuoteOrderQty': '0.00000000'}"
      ]
     },
     "execution_count": 13,
     "metadata": {},
     "output_type": "execute_result"
    }
   ],
   "source": [
    "orders = client.get_all_orders(symbol='BTCBUSD', limit=2)\n",
    "orders[-1]"
   ]
  },
  {
   "cell_type": "code",
   "execution_count": 14,
   "id": "eb646f88-5e3f-4366-a04f-8cb4a6fc8062",
   "metadata": {},
   "outputs": [],
   "source": [
    "order = client.order_limit_buy(\n",
    "    symbol='BTCBUSD',\n",
    "    quantity=0.0003,\n",
    "    price='37300.00')"
   ]
  },
  {
   "cell_type": "code",
   "execution_count": 15,
   "id": "a75ab461-6bbd-4008-bd65-6112223a6a44",
   "metadata": {},
   "outputs": [
    {
     "data": {
      "text/plain": [
       "{'symbol': 'BTCBUSD',\n",
       " 'orderId': 2679252610,\n",
       " 'orderListId': -1,\n",
       " 'clientOrderId': 'BS6A6IF2KNhTGsQzwHGQvY',\n",
       " 'price': '37300.00000000',\n",
       " 'origQty': '0.00030000',\n",
       " 'executedQty': '0.00000000',\n",
       " 'cummulativeQuoteQty': '0.00000000',\n",
       " 'status': 'NEW',\n",
       " 'timeInForce': 'GTC',\n",
       " 'type': 'LIMIT',\n",
       " 'side': 'BUY',\n",
       " 'stopPrice': '0.00000000',\n",
       " 'icebergQty': '0.00000000',\n",
       " 'time': 1623442833972,\n",
       " 'updateTime': 1623442833972,\n",
       " 'isWorking': True,\n",
       " 'origQuoteOrderQty': '0.00000000'}"
      ]
     },
     "execution_count": 15,
     "metadata": {},
     "output_type": "execute_result"
    }
   ],
   "source": [
    "orders = client.get_all_orders(symbol='BTCBUSD', limit=2)\n",
    "orders[-1]"
   ]
  },
  {
   "cell_type": "code",
   "execution_count": 16,
   "id": "5b3b2a10-dec0-486b-a1d9-d2a94bee84be",
   "metadata": {},
   "outputs": [
    {
     "data": {
      "text/plain": [
       "{'symbol': 'BTCBUSD',\n",
       " 'orderId': 2679252610,\n",
       " 'orderListId': -1,\n",
       " 'clientOrderId': 'BS6A6IF2KNhTGsQzwHGQvY',\n",
       " 'price': '37300.00000000',\n",
       " 'origQty': '0.00030000',\n",
       " 'executedQty': '0.00030000',\n",
       " 'cummulativeQuoteQty': '11.19000000',\n",
       " 'status': 'FILLED',\n",
       " 'timeInForce': 'GTC',\n",
       " 'type': 'LIMIT',\n",
       " 'side': 'BUY',\n",
       " 'stopPrice': '0.00000000',\n",
       " 'icebergQty': '0.00000000',\n",
       " 'time': 1623442833972,\n",
       " 'updateTime': 1623442899880,\n",
       " 'isWorking': True,\n",
       " 'origQuoteOrderQty': '0.00000000'}"
      ]
     },
     "execution_count": 16,
     "metadata": {},
     "output_type": "execute_result"
    }
   ],
   "source": [
    "orders = client.get_all_orders(symbol='BTCBUSD', limit=2)\n",
    "orders[-1]"
   ]
  },
  {
   "cell_type": "code",
   "execution_count": 19,
   "id": "0b1613e9-2b4d-4db5-88bc-0220e0a36744",
   "metadata": {},
   "outputs": [],
   "source": [
    "from binance.enums import *\n",
    "order = client.create_oco_order(\n",
    "    symbol='BTCBUSD',\n",
    "    side=SIDE_SELL,\n",
    "    stopLimitTimeInForce=TIME_IN_FORCE_GTC,\n",
    "    quantity=0.0003,\n",
    "    stopPrice='37250.00',\n",
    "    stopLimitPrice='37260.00',\n",
    "    price='37350.00')"
   ]
  },
  {
   "cell_type": "code",
   "execution_count": 22,
   "id": "0b588254-862d-4433-949c-1c0fa6f4731e",
   "metadata": {
    "collapsed": true,
    "jupyter": {
     "outputs_hidden": true
    },
    "tags": []
   },
   "outputs": [
    {
     "data": {
      "text/plain": [
       "[{'symbol': 'BTCBUSD',\n",
       "  'orderId': 2679346326,\n",
       "  'orderListId': 34484766,\n",
       "  'clientOrderId': 'SSuzkGqNAPlpg7fBfYhlAX',\n",
       "  'price': '37260.00000000',\n",
       "  'origQty': '0.00030000',\n",
       "  'executedQty': '0.00000000',\n",
       "  'cummulativeQuoteQty': '0.00000000',\n",
       "  'status': 'NEW',\n",
       "  'timeInForce': 'GTC',\n",
       "  'type': 'STOP_LOSS_LIMIT',\n",
       "  'side': 'SELL',\n",
       "  'stopPrice': '37250.00000000',\n",
       "  'icebergQty': '0.00000000',\n",
       "  'time': 1623443976467,\n",
       "  'updateTime': 1623443976467,\n",
       "  'isWorking': False,\n",
       "  'origQuoteOrderQty': '0.00000000'},\n",
       " {'symbol': 'BTCBUSD',\n",
       "  'orderId': 2679346327,\n",
       "  'orderListId': 34484766,\n",
       "  'clientOrderId': '91sHdBMfiBeHFgUQYrApJm',\n",
       "  'price': '37350.00000000',\n",
       "  'origQty': '0.00030000',\n",
       "  'executedQty': '0.00000000',\n",
       "  'cummulativeQuoteQty': '0.00000000',\n",
       "  'status': 'NEW',\n",
       "  'timeInForce': 'GTC',\n",
       "  'type': 'LIMIT_MAKER',\n",
       "  'side': 'SELL',\n",
       "  'stopPrice': '0.00000000',\n",
       "  'icebergQty': '0.00000000',\n",
       "  'time': 1623443976467,\n",
       "  'updateTime': 1623443976467,\n",
       "  'isWorking': True,\n",
       "  'origQuoteOrderQty': '0.00000000'}]"
      ]
     },
     "execution_count": 22,
     "metadata": {},
     "output_type": "execute_result"
    }
   ],
   "source": [
    "orders = client.get_all_orders(symbol='BTCBUSD', limit=5)\n",
    "orders"
   ]
  },
  {
   "cell_type": "code",
   "execution_count": 23,
   "id": "e15dbf3d-df43-40cc-940e-75614c0c0b47",
   "metadata": {
    "collapsed": true,
    "jupyter": {
     "outputs_hidden": true
    },
    "tags": []
   },
   "outputs": [
    {
     "data": {
      "text/plain": [
       "[{'symbol': 'BTCBUSD',\n",
       "  'orderId': 2619220193,\n",
       "  'orderListId': -1,\n",
       "  'clientOrderId': 'denqdKm7XjyKdl5Hbud5Yx',\n",
       "  'price': '30000.00000000',\n",
       "  'origQty': '0.00050000',\n",
       "  'executedQty': '0.00000000',\n",
       "  'cummulativeQuoteQty': '0.00000000',\n",
       "  'status': 'CANCELED',\n",
       "  'timeInForce': 'GTC',\n",
       "  'type': 'LIMIT',\n",
       "  'side': 'BUY',\n",
       "  'stopPrice': '0.00000000',\n",
       "  'icebergQty': '0.00000000',\n",
       "  'time': 1622766496195,\n",
       "  'updateTime': 1622766701869,\n",
       "  'isWorking': True,\n",
       "  'origQuoteOrderQty': '0.00000000'},\n",
       " {'symbol': 'BTCBUSD',\n",
       "  'orderId': 2679234515,\n",
       "  'orderListId': -1,\n",
       "  'clientOrderId': 'yVcQ2yynW4qru3A3ACONWl',\n",
       "  'price': '37300.00000000',\n",
       "  'origQty': '0.00030000',\n",
       "  'executedQty': '0.00000000',\n",
       "  'cummulativeQuoteQty': '0.00000000',\n",
       "  'status': 'CANCELED',\n",
       "  'timeInForce': 'GTC',\n",
       "  'type': 'LIMIT',\n",
       "  'side': 'BUY',\n",
       "  'stopPrice': '0.00000000',\n",
       "  'icebergQty': '0.00000000',\n",
       "  'time': 1623442594487,\n",
       "  'updateTime': 1623442782066,\n",
       "  'isWorking': True,\n",
       "  'origQuoteOrderQty': '0.00000000'},\n",
       " {'symbol': 'BTCBUSD',\n",
       "  'orderId': 2679252610,\n",
       "  'orderListId': -1,\n",
       "  'clientOrderId': 'BS6A6IF2KNhTGsQzwHGQvY',\n",
       "  'price': '37300.00000000',\n",
       "  'origQty': '0.00030000',\n",
       "  'executedQty': '0.00030000',\n",
       "  'cummulativeQuoteQty': '11.19000000',\n",
       "  'status': 'FILLED',\n",
       "  'timeInForce': 'GTC',\n",
       "  'type': 'LIMIT',\n",
       "  'side': 'BUY',\n",
       "  'stopPrice': '0.00000000',\n",
       "  'icebergQty': '0.00000000',\n",
       "  'time': 1623442833972,\n",
       "  'updateTime': 1623442899880,\n",
       "  'isWorking': True,\n",
       "  'origQuoteOrderQty': '0.00000000'},\n",
       " {'symbol': 'BTCBUSD',\n",
       "  'orderId': 2679346326,\n",
       "  'orderListId': 34484766,\n",
       "  'clientOrderId': 'SSuzkGqNAPlpg7fBfYhlAX',\n",
       "  'price': '37260.00000000',\n",
       "  'origQty': '0.00030000',\n",
       "  'executedQty': '0.00000000',\n",
       "  'cummulativeQuoteQty': '0.00000000',\n",
       "  'status': 'CANCELED',\n",
       "  'timeInForce': 'GTC',\n",
       "  'type': 'STOP_LOSS_LIMIT',\n",
       "  'side': 'SELL',\n",
       "  'stopPrice': '37250.00000000',\n",
       "  'icebergQty': '0.00000000',\n",
       "  'time': 1623443976467,\n",
       "  'updateTime': 1623444030884,\n",
       "  'isWorking': False,\n",
       "  'origQuoteOrderQty': '0.00000000'},\n",
       " {'symbol': 'BTCBUSD',\n",
       "  'orderId': 2679346327,\n",
       "  'orderListId': 34484766,\n",
       "  'clientOrderId': '91sHdBMfiBeHFgUQYrApJm',\n",
       "  'price': '37350.00000000',\n",
       "  'origQty': '0.00030000',\n",
       "  'executedQty': '0.00000000',\n",
       "  'cummulativeQuoteQty': '0.00000000',\n",
       "  'status': 'CANCELED',\n",
       "  'timeInForce': 'GTC',\n",
       "  'type': 'LIMIT_MAKER',\n",
       "  'side': 'SELL',\n",
       "  'stopPrice': '0.00000000',\n",
       "  'icebergQty': '0.00000000',\n",
       "  'time': 1623443976467,\n",
       "  'updateTime': 1623444030884,\n",
       "  'isWorking': True,\n",
       "  'origQuoteOrderQty': '0.00000000'}]"
      ]
     },
     "execution_count": 23,
     "metadata": {},
     "output_type": "execute_result"
    }
   ],
   "source": [
    "orders = client.get_all_orders(symbol='BTCBUSD', limit=5)\n",
    "orders"
   ]
  },
  {
   "cell_type": "code",
   "execution_count": 24,
   "id": "767e6f07-a5a7-4a10-b063-64788f85b977",
   "metadata": {},
   "outputs": [],
   "source": [
    "from binance.enums import *\n",
    "order = client.create_oco_order(\n",
    "    symbol='BTCBUSD',\n",
    "    side=SIDE_SELL,\n",
    "    stopLimitTimeInForce=TIME_IN_FORCE_GTC,\n",
    "    quantity=0.0003,\n",
    "    stopPrice='37250.00',\n",
    "    stopLimitPrice='37240.00',\n",
    "    price='37350.00')"
   ]
  },
  {
   "cell_type": "code",
   "execution_count": 25,
   "id": "03a6c4ee-64a4-4c33-a34f-3f5352c8e513",
   "metadata": {
    "collapsed": true,
    "jupyter": {
     "outputs_hidden": true
    },
    "tags": []
   },
   "outputs": [
    {
     "data": {
      "text/plain": [
       "[{'symbol': 'BTCBUSD',\n",
       "  'orderId': 2679363777,\n",
       "  'orderListId': 34485043,\n",
       "  'clientOrderId': 'fz24cJesk1ZwSYrM3WIqgz',\n",
       "  'price': '37240.00000000',\n",
       "  'origQty': '0.00030000',\n",
       "  'executedQty': '0.00000000',\n",
       "  'cummulativeQuoteQty': '0.00000000',\n",
       "  'status': 'NEW',\n",
       "  'timeInForce': 'GTC',\n",
       "  'type': 'STOP_LOSS_LIMIT',\n",
       "  'side': 'SELL',\n",
       "  'stopPrice': '37250.00000000',\n",
       "  'icebergQty': '0.00000000',\n",
       "  'time': 1623444239357,\n",
       "  'updateTime': 1623444239357,\n",
       "  'isWorking': False,\n",
       "  'origQuoteOrderQty': '0.00000000'},\n",
       " {'symbol': 'BTCBUSD',\n",
       "  'orderId': 2679363778,\n",
       "  'orderListId': 34485043,\n",
       "  'clientOrderId': 'tMtXczFbPJfPVzNnlsFgwQ',\n",
       "  'price': '37350.00000000',\n",
       "  'origQty': '0.00030000',\n",
       "  'executedQty': '0.00000000',\n",
       "  'cummulativeQuoteQty': '0.00000000',\n",
       "  'status': 'NEW',\n",
       "  'timeInForce': 'GTC',\n",
       "  'type': 'LIMIT_MAKER',\n",
       "  'side': 'SELL',\n",
       "  'stopPrice': '0.00000000',\n",
       "  'icebergQty': '0.00000000',\n",
       "  'time': 1623444239357,\n",
       "  'updateTime': 1623444239357,\n",
       "  'isWorking': True,\n",
       "  'origQuoteOrderQty': '0.00000000'}]"
      ]
     },
     "execution_count": 25,
     "metadata": {},
     "output_type": "execute_result"
    }
   ],
   "source": [
    "orders = client.get_all_orders(symbol='BTCBUSD', limit=2)\n",
    "orders"
   ]
  },
  {
   "cell_type": "code",
   "execution_count": 26,
   "id": "374d8487-7bed-4294-b121-f1ebbf989cba",
   "metadata": {
    "collapsed": true,
    "jupyter": {
     "outputs_hidden": true
    },
    "tags": []
   },
   "outputs": [
    {
     "data": {
      "text/plain": [
       "[{'symbol': 'BTCBUSD',\n",
       "  'orderId': 2679363777,\n",
       "  'orderListId': 34485043,\n",
       "  'clientOrderId': 'fz24cJesk1ZwSYrM3WIqgz',\n",
       "  'price': '37240.00000000',\n",
       "  'origQty': '0.00030000',\n",
       "  'executedQty': '0.00000000',\n",
       "  'cummulativeQuoteQty': '0.00000000',\n",
       "  'status': 'EXPIRED',\n",
       "  'timeInForce': 'GTC',\n",
       "  'type': 'STOP_LOSS_LIMIT',\n",
       "  'side': 'SELL',\n",
       "  'stopPrice': '37250.00000000',\n",
       "  'icebergQty': '0.00000000',\n",
       "  'time': 1623444239357,\n",
       "  'updateTime': 1623444366753,\n",
       "  'isWorking': False,\n",
       "  'origQuoteOrderQty': '0.00000000'},\n",
       " {'symbol': 'BTCBUSD',\n",
       "  'orderId': 2679363778,\n",
       "  'orderListId': 34485043,\n",
       "  'clientOrderId': 'tMtXczFbPJfPVzNnlsFgwQ',\n",
       "  'price': '37350.00000000',\n",
       "  'origQty': '0.00030000',\n",
       "  'executedQty': '0.00030000',\n",
       "  'cummulativeQuoteQty': '11.20500000',\n",
       "  'status': 'FILLED',\n",
       "  'timeInForce': 'GTC',\n",
       "  'type': 'LIMIT_MAKER',\n",
       "  'side': 'SELL',\n",
       "  'stopPrice': '0.00000000',\n",
       "  'icebergQty': '0.00000000',\n",
       "  'time': 1623444239357,\n",
       "  'updateTime': 1623444366753,\n",
       "  'isWorking': True,\n",
       "  'origQuoteOrderQty': '0.00000000'}]"
      ]
     },
     "execution_count": 26,
     "metadata": {},
     "output_type": "execute_result"
    }
   ],
   "source": [
    "orders = client.get_all_orders(symbol='BTCBUSD', limit=2)\n",
    "orders"
   ]
  },
  {
   "cell_type": "code",
   "execution_count": null,
   "id": "19f67cf1-6d90-4bc6-ae5f-2742d828dc3f",
   "metadata": {},
   "outputs": [],
   "source": [
    "order = client.order_limit_buy(\n",
    "    symbol='BTCBUSD',\n",
    "    quantity=0.00005,\n",
    "    price='30000.00') #Buy 0.0005 BTC at $30000.00 per BTC, spending $15.00"
   ]
  },
  {
   "cell_type": "code",
   "execution_count": 56,
   "id": "6883b6cc-194c-489f-b567-3d7d920b9693",
   "metadata": {
    "tags": []
   },
   "outputs": [],
   "source": [
    "order = client.order_limit_buy(\n",
    "    symbol='BTCBUSD',\n",
    "    quantity=0.0003,\n",
    "    price='36500.00')"
   ]
  },
  {
   "cell_type": "code",
   "execution_count": 57,
   "id": "81560f86-d75f-419e-ba25-bf06c38cf036",
   "metadata": {},
   "outputs": [
    {
     "data": {
      "text/plain": [
       "{'symbol': 'BTCBUSD',\n",
       " 'orderId': 2680759125,\n",
       " 'orderListId': -1,\n",
       " 'clientOrderId': 'FoVMXDtMem5iyy9oKnRlKn',\n",
       " 'transactTime': 1623461357665,\n",
       " 'price': '36500.00000000',\n",
       " 'origQty': '0.00030000',\n",
       " 'executedQty': '0.00000000',\n",
       " 'cummulativeQuoteQty': '0.00000000',\n",
       " 'status': 'NEW',\n",
       " 'timeInForce': 'GTC',\n",
       " 'type': 'LIMIT',\n",
       " 'side': 'BUY',\n",
       " 'fills': []}"
      ]
     },
     "execution_count": 57,
     "metadata": {},
     "output_type": "execute_result"
    }
   ],
   "source": [
    "order"
   ]
  },
  {
   "cell_type": "code",
   "execution_count": 63,
   "id": "d332679b-bbaf-489f-abd2-81a93b9393db",
   "metadata": {},
   "outputs": [
    {
     "data": {
      "text/plain": [
       "[{'symbol': 'BTCBUSD',\n",
       "  'orderId': 2680803542,\n",
       "  'orderListId': -1,\n",
       "  'clientOrderId': 'web_dc71d6b05cde40fabbdfed7cb15be499',\n",
       "  'price': '36500.00000000',\n",
       "  'origQty': '0.00030000',\n",
       "  'executedQty': '0.00000000',\n",
       "  'cummulativeQuoteQty': '0.00000000',\n",
       "  'status': 'NEW',\n",
       "  'timeInForce': 'GTC',\n",
       "  'type': 'LIMIT',\n",
       "  'side': 'SELL',\n",
       "  'stopPrice': '0.00000000',\n",
       "  'icebergQty': '0.00000000',\n",
       "  'time': 1623461561425,\n",
       "  'updateTime': 1623461561425,\n",
       "  'isWorking': True,\n",
       "  'origQuoteOrderQty': '0.00000000'}]"
      ]
     },
     "execution_count": 63,
     "metadata": {},
     "output_type": "execute_result"
    }
   ],
   "source": [
    "orders = client.get_open_orders(symbol='BTCBUSD')\n",
    "orders"
   ]
  },
  {
   "cell_type": "code",
   "execution_count": 64,
   "id": "8e96a6f9-9de2-4a92-82fb-f0cbd9ad4b45",
   "metadata": {},
   "outputs": [
    {
     "data": {
      "text/plain": [
       "2680803542"
      ]
     },
     "execution_count": 64,
     "metadata": {},
     "output_type": "execute_result"
    }
   ],
   "source": [
    "orders[0][\"orderId\"]"
   ]
  },
  {
   "cell_type": "code",
   "execution_count": 67,
   "id": "2d5e5632-e214-45f3-98de-46218b1d89d9",
   "metadata": {},
   "outputs": [
    {
     "data": {
      "text/plain": [
       "{'symbol': 'BTCBUSD',\n",
       " 'orderId': 2680808003,\n",
       " 'orderListId': -1,\n",
       " 'clientOrderId': 'web_b85bb86bce894b5f9351fd9fcc78cddb',\n",
       " 'price': '36550.00000000',\n",
       " 'origQty': '0.00030000',\n",
       " 'executedQty': '0.00000000',\n",
       " 'cummulativeQuoteQty': '0.00000000',\n",
       " 'status': 'CANCELED',\n",
       " 'timeInForce': 'GTC',\n",
       " 'type': 'LIMIT',\n",
       " 'side': 'SELL',\n",
       " 'stopPrice': '0.00000000',\n",
       " 'icebergQty': '0.00000000',\n",
       " 'time': 1623461598990,\n",
       " 'updateTime': 1623461824101,\n",
       " 'isWorking': True,\n",
       " 'origQuoteOrderQty': '0.00000000'}"
      ]
     },
     "execution_count": 67,
     "metadata": {},
     "output_type": "execute_result"
    }
   ],
   "source": [
    "orders = client.get_all_orders(symbol='BTCBUSD', limit=10)\n",
    "orders[-1]"
   ]
  },
  {
   "cell_type": "code",
   "execution_count": 70,
   "id": "07454085-7690-4fd5-871a-8d5fe7fcb1e1",
   "metadata": {},
   "outputs": [
    {
     "data": {
      "text/plain": [
       "[{'symbol': 'BTCBUSD',\n",
       "  'orderId': 2680868892,\n",
       "  'orderListId': 34501478,\n",
       "  'clientOrderId': 'QojdlP0NDuRWgAAlMMUXPk',\n",
       "  'price': '35090.00000000',\n",
       "  'origQty': '0.00030000',\n",
       "  'executedQty': '0.00000000',\n",
       "  'cummulativeQuoteQty': '0.00000000',\n",
       "  'status': 'NEW',\n",
       "  'timeInForce': 'GTC',\n",
       "  'type': 'STOP_LOSS_LIMIT',\n",
       "  'side': 'SELL',\n",
       "  'stopPrice': '36000.00000000',\n",
       "  'icebergQty': '0.00000000',\n",
       "  'time': 1623462017339,\n",
       "  'updateTime': 1623462017339,\n",
       "  'isWorking': False,\n",
       "  'origQuoteOrderQty': '0.00000000'},\n",
       " {'symbol': 'BTCBUSD',\n",
       "  'orderId': 2680868893,\n",
       "  'orderListId': 34501478,\n",
       "  'clientOrderId': 'JVdjzd0xcGi0X5YqqVFeOb',\n",
       "  'price': '36600.00000000',\n",
       "  'origQty': '0.00030000',\n",
       "  'executedQty': '0.00000000',\n",
       "  'cummulativeQuoteQty': '0.00000000',\n",
       "  'status': 'NEW',\n",
       "  'timeInForce': 'GTC',\n",
       "  'type': 'LIMIT_MAKER',\n",
       "  'side': 'SELL',\n",
       "  'stopPrice': '0.00000000',\n",
       "  'icebergQty': '0.00000000',\n",
       "  'time': 1623462017339,\n",
       "  'updateTime': 1623462017339,\n",
       "  'isWorking': True,\n",
       "  'origQuoteOrderQty': '0.00000000'}]"
      ]
     },
     "execution_count": 70,
     "metadata": {},
     "output_type": "execute_result"
    }
   ],
   "source": [
    "orders = client.get_open_orders(symbol='BTCBUSD')\n",
    "orders"
   ]
  },
  {
   "cell_type": "code",
   "execution_count": 69,
   "id": "cb03a67f-3625-431b-b0ea-682fd70c0819",
   "metadata": {},
   "outputs": [],
   "source": [
    "from binance.enums import *\n",
    "order = client.create_oco_order(\n",
    "    symbol='BTCBUSD',\n",
    "    side=SIDE_SELL,\n",
    "    stopLimitTimeInForce=TIME_IN_FORCE_GTC,\n",
    "    quantity=0.0003,\n",
    "    stopPrice='36000.00',\n",
    "    stopLimitPrice='35090.00',\n",
    "    price='36600.00')"
   ]
  },
  {
   "cell_type": "code",
   "execution_count": 72,
   "id": "c29d03ac-2aa4-4e6d-a4a6-b8ff25360079",
   "metadata": {},
   "outputs": [
    {
     "data": {
      "text/plain": [
       "{'orderListId': 34501478,\n",
       " 'contingencyType': 'OCO',\n",
       " 'listStatusType': 'EXEC_STARTED',\n",
       " 'listOrderStatus': 'EXECUTING',\n",
       " 'listClientOrderId': 'Pgv15CfFzoImBiJQsUd2pX',\n",
       " 'transactionTime': 1623462017339,\n",
       " 'symbol': 'BTCBUSD',\n",
       " 'orders': [{'symbol': 'BTCBUSD',\n",
       "   'orderId': 2680868892,\n",
       "   'clientOrderId': 'QojdlP0NDuRWgAAlMMUXPk'},\n",
       "  {'symbol': 'BTCBUSD',\n",
       "   'orderId': 2680868893,\n",
       "   'clientOrderId': 'JVdjzd0xcGi0X5YqqVFeOb'}],\n",
       " 'orderReports': [{'symbol': 'BTCBUSD',\n",
       "   'orderId': 2680868892,\n",
       "   'orderListId': 34501478,\n",
       "   'clientOrderId': 'QojdlP0NDuRWgAAlMMUXPk',\n",
       "   'transactTime': 1623462017339,\n",
       "   'price': '35090.00000000',\n",
       "   'origQty': '0.00030000',\n",
       "   'executedQty': '0.00000000',\n",
       "   'cummulativeQuoteQty': '0.00000000',\n",
       "   'status': 'NEW',\n",
       "   'timeInForce': 'GTC',\n",
       "   'type': 'STOP_LOSS_LIMIT',\n",
       "   'side': 'SELL',\n",
       "   'stopPrice': '36000.00000000'},\n",
       "  {'symbol': 'BTCBUSD',\n",
       "   'orderId': 2680868893,\n",
       "   'orderListId': 34501478,\n",
       "   'clientOrderId': 'JVdjzd0xcGi0X5YqqVFeOb',\n",
       "   'transactTime': 1623462017339,\n",
       "   'price': '36600.00000000',\n",
       "   'origQty': '0.00030000',\n",
       "   'executedQty': '0.00000000',\n",
       "   'cummulativeQuoteQty': '0.00000000',\n",
       "   'status': 'NEW',\n",
       "   'timeInForce': 'GTC',\n",
       "   'type': 'LIMIT_MAKER',\n",
       "   'side': 'SELL'}]}"
      ]
     },
     "execution_count": 72,
     "metadata": {},
     "output_type": "execute_result"
    }
   ],
   "source": [
    "order"
   ]
  },
  {
   "cell_type": "markdown",
   "id": "86fdc4e6-b50e-4eb8-93c9-b5d4f906b384",
   "metadata": {},
   "source": [
    "## Testing price api"
   ]
  },
  {
   "cell_type": "code",
   "execution_count": 41,
   "id": "1a3fb9a7-8828-42e0-ad75-598410530728",
   "metadata": {},
   "outputs": [
    {
     "data": {
      "text/plain": [
       "'37202.85000000'"
      ]
     },
     "execution_count": 41,
     "metadata": {},
     "output_type": "execute_result"
    }
   ],
   "source": [
    "trades = client.get_recent_trades(symbol='BTCBUSD', limit=1) # To get latest price\n",
    "trades[0][\"price\"]"
   ]
  },
  {
   "cell_type": "code",
   "execution_count": 71,
   "id": "c2e16844-d78a-4c3d-999a-fec387b1efa9",
   "metadata": {},
   "outputs": [
    {
     "data": {
      "text/plain": [
       "{'asset': 'BUSD', 'free': '9.81964513', 'locked': '0.00000000'}"
      ]
     },
     "execution_count": 71,
     "metadata": {},
     "output_type": "execute_result"
    }
   ],
   "source": [
    "balance = client.get_asset_balance(asset='BUSD')\n",
    "balance"
   ]
  },
  {
   "cell_type": "code",
   "execution_count": null,
   "id": "6ed0c1ef-9b96-4a1d-a900-8006cebbe031",
   "metadata": {},
   "outputs": [],
   "source": []
  },
  {
   "cell_type": "code",
   "execution_count": null,
   "id": "1eeb2002-6da9-499f-a342-657cd2e836f8",
   "metadata": {},
   "outputs": [],
   "source": []
  },
  {
   "cell_type": "code",
   "execution_count": null,
   "id": "24be8aef-895d-4d61-b816-00f3505d7d45",
   "metadata": {},
   "outputs": [],
   "source": []
  },
  {
   "cell_type": "code",
   "execution_count": null,
   "id": "b85fe210-1f81-4cd1-8353-33bbdb2f78f0",
   "metadata": {},
   "outputs": [],
   "source": []
  },
  {
   "cell_type": "code",
   "execution_count": null,
   "id": "e252866e-68e4-4c1c-8994-4c8e36ed1718",
   "metadata": {},
   "outputs": [],
   "source": [
    "from binance.enums import *\n",
    "order = client.create_oco_order(\n",
    "    symbol='BNBBTC',\n",
    "    side=SIDE_SELL,\n",
    "    stopLimitTimeInForce=TIME_IN_FORCE_GTC,\n",
    "    quantity=100,\n",
    "    stopPrice='0.00001',\n",
    "    price='0.00002')"
   ]
  },
  {
   "cell_type": "code",
   "execution_count": 22,
   "id": "d0228770-883a-4d9c-be6a-810e821fa318",
   "metadata": {},
   "outputs": [
    {
     "data": {
      "text/plain": [
       "[{'symbol': 'BTCBUSD',\n",
       "  'orderId': 2619220193,\n",
       "  'orderListId': -1,\n",
       "  'clientOrderId': 'denqdKm7XjyKdl5Hbud5Yx',\n",
       "  'price': '30000.00000000',\n",
       "  'origQty': '0.00050000',\n",
       "  'executedQty': '0.00000000',\n",
       "  'cummulativeQuoteQty': '0.00000000',\n",
       "  'status': 'NEW',\n",
       "  'timeInForce': 'GTC',\n",
       "  'type': 'LIMIT',\n",
       "  'side': 'BUY',\n",
       "  'stopPrice': '0.00000000',\n",
       "  'icebergQty': '0.00000000',\n",
       "  'time': 1622766496195,\n",
       "  'updateTime': 1622766496195,\n",
       "  'isWorking': True,\n",
       "  'origQuoteOrderQty': '0.00000000'}]"
      ]
     },
     "execution_count": 22,
     "metadata": {},
     "output_type": "execute_result"
    }
   ],
   "source": [
    "orders = client.get_all_orders(symbol='BTCBUSD', limit=10)\n",
    "orders"
   ]
  },
  {
   "cell_type": "code",
   "execution_count": 23,
   "id": "cbb69294-83fd-4cc8-b6c7-99d00bacf3ce",
   "metadata": {},
   "outputs": [],
   "source": [
    "result = client.cancel_order(\n",
    "    symbol='BTCBUSD',\n",
    "    orderId=2619220193)"
   ]
  },
  {
   "cell_type": "code",
   "execution_count": 24,
   "id": "f3c49a3a-97e1-45a9-93e7-0e720ca086c9",
   "metadata": {},
   "outputs": [
    {
     "data": {
      "text/plain": [
       "{'symbol': 'BTCBUSD',\n",
       " 'origClientOrderId': 'denqdKm7XjyKdl5Hbud5Yx',\n",
       " 'orderId': 2619220193,\n",
       " 'orderListId': -1,\n",
       " 'clientOrderId': 'xSjfQaZJsdcope3RNQRvxk',\n",
       " 'price': '30000.00000000',\n",
       " 'origQty': '0.00050000',\n",
       " 'executedQty': '0.00000000',\n",
       " 'cummulativeQuoteQty': '0.00000000',\n",
       " 'status': 'CANCELED',\n",
       " 'timeInForce': 'GTC',\n",
       " 'type': 'LIMIT',\n",
       " 'side': 'BUY'}"
      ]
     },
     "execution_count": 24,
     "metadata": {},
     "output_type": "execute_result"
    }
   ],
   "source": [
    "result"
   ]
  },
  {
   "cell_type": "code",
   "execution_count": 26,
   "id": "24ea43d0-e966-4204-a1e0-26c628c6c468",
   "metadata": {},
   "outputs": [
    {
     "data": {
      "text/plain": [
       "[{'symbol': 'BTCBUSD',\n",
       "  'orderId': 2619220193,\n",
       "  'orderListId': -1,\n",
       "  'clientOrderId': 'denqdKm7XjyKdl5Hbud5Yx',\n",
       "  'price': '30000.00000000',\n",
       "  'origQty': '0.00050000',\n",
       "  'executedQty': '0.00000000',\n",
       "  'cummulativeQuoteQty': '0.00000000',\n",
       "  'status': 'CANCELED',\n",
       "  'timeInForce': 'GTC',\n",
       "  'type': 'LIMIT',\n",
       "  'side': 'BUY',\n",
       "  'stopPrice': '0.00000000',\n",
       "  'icebergQty': '0.00000000',\n",
       "  'time': 1622766496195,\n",
       "  'updateTime': 1622766701869,\n",
       "  'isWorking': True,\n",
       "  'origQuoteOrderQty': '0.00000000'}]"
      ]
     },
     "execution_count": 26,
     "metadata": {},
     "output_type": "execute_result"
    }
   ],
   "source": [
    "orders = client.get_all_orders(symbol='BTCBUSD', limit=10)\n",
    "orders"
   ]
  },
  {
   "cell_type": "code",
   "execution_count": null,
   "id": "c6e42000-4a5e-4535-a70a-9c935cfafc90",
   "metadata": {},
   "outputs": [],
   "source": []
  }
 ],
 "metadata": {
  "kernelspec": {
   "display_name": "Python 3",
   "language": "python",
   "name": "python3"
  },
  "language_info": {
   "codemirror_mode": {
    "name": "ipython",
    "version": 3
   },
   "file_extension": ".py",
   "mimetype": "text/x-python",
   "name": "python",
   "nbconvert_exporter": "python",
   "pygments_lexer": "ipython3",
   "version": "3.9.4"
  }
 },
 "nbformat": 4,
 "nbformat_minor": 5
}
