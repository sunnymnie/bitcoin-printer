{
 "cells": [
  {
   "cell_type": "markdown",
   "id": "111f79e6-34bf-44a6-a36c-b13639969a34",
   "metadata": {},
   "source": [
    "# Testing to see if BUSD and USDT are same enough\n",
    "Can a ML trained on USDT data do just as well on BUSD predictions?"
   ]
  },
  {
   "cell_type": "code",
   "execution_count": 7,
   "id": "45eb9376-3d6b-451f-8970-1862b68a525b",
   "metadata": {},
   "outputs": [],
   "source": [
    "import matplotlib.pyplot as plt\n",
    "import pandas as pd\n",
    "import numpy as np\n",
    "import features\n",
    "from joblib import dump, load\n"
   ]
  },
  {
   "cell_type": "code",
   "execution_count": 4,
   "id": "f91c9a3b-cd6e-4ec8-8571-ecf4bfbaf0b6",
   "metadata": {},
   "outputs": [],
   "source": [
    "df = pd.read_csv(\"../data/BTCBUSD-minute-predict.csv\")"
   ]
  },
  {
   "cell_type": "code",
   "execution_count": 5,
   "id": "b585fa6c-15db-41bc-a087-710f1e9c28a1",
   "metadata": {},
   "outputs": [],
   "source": [
    "df[\"sma\"] = features.get_moving_average(df.close, 5000)"
   ]
  },
  {
   "cell_type": "code",
   "execution_count": 6,
   "id": "b0b39cb6-fdd4-43d9-95a8-4fb7657fb72c",
   "metadata": {},
   "outputs": [],
   "source": [
    "df = features.add_all_features(df) \n",
    "df.dropna(inplace=True)\n",
    "indicators = list(df.columns)[12:]\n",
    "df = df[list(indicators)].copy().astype(np.float32)"
   ]
  },
  {
   "cell_type": "code",
   "execution_count": 8,
   "id": "9da22ff2-9df1-4352-8f3f-b13fdb42ea61",
   "metadata": {},
   "outputs": [],
   "source": [
    "model = load('../models/model_minute_tpsl_1.0.joblib') "
   ]
  },
  {
   "cell_type": "code",
   "execution_count": 12,
   "id": "30c15f40-9cf0-48c5-baff-e785a3148ba8",
   "metadata": {},
   "outputs": [],
   "source": [
    "df.drop([\"sma\"], axis=1, inplace=True)"
   ]
  },
  {
   "cell_type": "code",
   "execution_count": 13,
   "id": "592c12cc-6580-473a-aeb0-37e779df9166",
   "metadata": {},
   "outputs": [],
   "source": [
    "df[\"target\"] = model.predict(df)"
   ]
  },
  {
   "cell_type": "code",
   "execution_count": 17,
   "id": "9347ee60-64db-4407-868c-7a3054f0f8ba",
   "metadata": {},
   "outputs": [],
   "source": [
    "d = df[-100000:]"
   ]
  },
  {
   "cell_type": "code",
   "execution_count": 18,
   "id": "fbe794a4-c0c9-49b0-8fa9-bd86f67cc1d3",
   "metadata": {},
   "outputs": [],
   "source": [
    "d.to_csv(\"../data/tpsl-test-busd.csv\", index=False)"
   ]
  },
  {
   "cell_type": "code",
   "execution_count": 19,
   "id": "4a5e3b91-eb43-4e96-89e7-b551bba2b49f",
   "metadata": {},
   "outputs": [],
   "source": [
    "df = pd.read_csv(\"../data/BTCBUSD-minute-predict.csv\")"
   ]
  },
  {
   "cell_type": "code",
   "execution_count": 20,
   "id": "6893a448-a86c-4133-af31-8b2bb04a8c84",
   "metadata": {},
   "outputs": [],
   "source": [
    "df = df[-100000:]"
   ]
  },
  {
   "cell_type": "code",
   "execution_count": 21,
   "id": "5ec56fe2-937d-48cd-9ac3-4c41f69ba4fe",
   "metadata": {},
   "outputs": [],
   "source": [
    "df[\"target\"] = d[\"target\"]"
   ]
  },
  {
   "cell_type": "code",
   "execution_count": 22,
   "id": "dd0078e9-073f-4eeb-a348-9313a2ff78ae",
   "metadata": {},
   "outputs": [],
   "source": [
    "df.to_csv(\"../data/tpsl-test-busd.csv\", index=False)"
   ]
  },
  {
   "cell_type": "code",
   "execution_count": null,
   "id": "204f5176-81a9-4cb5-acd4-4ff95584c56d",
   "metadata": {},
   "outputs": [],
   "source": []
  }
 ],
 "metadata": {
  "kernelspec": {
   "display_name": "Python 3",
   "language": "python",
   "name": "python3"
  },
  "language_info": {
   "codemirror_mode": {
    "name": "ipython",
    "version": 3
   },
   "file_extension": ".py",
   "mimetype": "text/x-python",
   "name": "python",
   "nbconvert_exporter": "python",
   "pygments_lexer": "ipython3",
   "version": "3.9.4"
  }
 },
 "nbformat": 4,
 "nbformat_minor": 5
}
