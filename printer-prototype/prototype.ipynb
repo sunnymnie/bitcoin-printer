{
 "cells": [
  {
   "cell_type": "markdown",
   "id": "e2c21801-d59f-48a7-ba28-5e6cc935e36e",
   "metadata": {},
   "source": [
    "# Prototype"
   ]
  },
  {
   "cell_type": "code",
   "execution_count": 1,
   "id": "9641011b-e1a7-4dea-9b0d-d1d400d5492d",
   "metadata": {},
   "outputs": [],
   "source": [
    "# Imports\n",
    "import pandas as pd\n",
    "from binance.client import Client\n",
    "from binance.enums import *\n",
    "import datetime\n",
    "import json\n",
    "\n",
    "import schedule\n",
    "import time\n",
    "from datetime import datetime, timedelta\n",
    "import features\n",
    "from joblib import dump, load\n",
    "\n",
    "import matplotlib.pyplot as plt\n",
    "import pandas as pd\n",
    "import numpy as np\n",
    "\n",
    "from IPython.display import clear_output\n",
    "\n",
    "def get_api_keys(site: str, api_type: str)->str:\n",
    "    \"\"\"\n",
    "    gets api keys stored in api-keys/api-keys.txt\n",
    "    site: 'binance'\n",
    "    api_type: 'api', 'secret'\n",
    "    \"\"\"\n",
    "    with open('../api-keys/api-keys.txt') as json_file:\n",
    "        return json.load(json_file)[site][api_type]\n",
    "# Constants\n",
    "api_key = get_api_keys(\"binance\", \"api\")\n",
    "api_secret = get_api_keys(\"binance\", \"secret\")\n",
    "\n",
    "client = Client(api_key=api_key, api_secret=api_secret)\n",
    "sleep = 1"
   ]
  },
  {
   "cell_type": "code",
   "execution_count": 2,
   "id": "9a839ca1-ec74-4285-a4b8-c022f7d95d79",
   "metadata": {},
   "outputs": [],
   "source": [
    "model = load('../models/model_minute_tpsl_1.0.joblib') "
   ]
  },
  {
   "cell_type": "code",
   "execution_count": 3,
   "id": "578a5bc4-1fbf-4765-a68e-0794057b2751",
   "metadata": {},
   "outputs": [
    {
     "data": {
      "text/plain": [
       "'0.00000000'"
      ]
     },
     "execution_count": 3,
     "metadata": {},
     "output_type": "execute_result"
    }
   ],
   "source": [
    "btc = client.get_asset_balance(asset='BTC')\n",
    "btc[\"free\"]"
   ]
  },
  {
   "cell_type": "code",
   "execution_count": 4,
   "id": "684ff639-69f8-4fa1-bd5b-d8202132d4d8",
   "metadata": {},
   "outputs": [],
   "source": [
    "def printer():\n",
    "    \"\"\"main printer. Fetches latest minutely data, adds features, predicts, buys/sells if necessary\"\"\"\n",
    "    global sleep\n",
    "    sleep = 1\n",
    "    tp = 3.\n",
    "    sl = 2.\n",
    "    busdd = client.get_asset_balance(asset='BUSD')\n",
    "    busd = float(busdd[\"free\"]) + float(busdd[\"locked\"])\n",
    "    btcd = client.get_asset_balance(asset='BTC')\n",
    "    btc_free = float(btcd[\"free\"])\n",
    "    btc_locked = float(btcd[\"locked\"])\n",
    "    btc_price = float(client.get_recent_trades(symbol='BTCBUSD', limit=1)[0][\"price\"])\n",
    "    clear_output()\n",
    "    if btc_free<(5/btc_price) and btc_locked>(5/btc_price): #Can just do == 0.\n",
    "        #BTC already properly stoplossed\n",
    "        send_message(\"waiting\")\n",
    "    elif btc_free>(5/btc_price): #BTC Needing to be stoplossed with oco\n",
    "        order = set_oco(tp, sl, btc_price)\n",
    "    else: #If not holding any BTC, see if it's time to buy\n",
    "        # Download the minutely data (minimum 5000 minutes or so)\n",
    "        cancel_all_orders()\n",
    "        df = get_minutely_data(symbol=\"BTCUSDT\", \n",
    "                       kline_interval=Client.KLINE_INTERVAL_1MINUTE, \n",
    "                       days=3.5)\n",
    "        # Add moving average\n",
    "        df[\"sma\"] = features.get_moving_average(df.close, 5000)\n",
    "        \n",
    "        if btc_price > df.sma.iloc[-1]: # If price is above moving average\n",
    "            df = features.add_all_features(df) \n",
    "            df.dropna(inplace=True)\n",
    "            indicators = list(df.columns)[13:]\n",
    "            df = df[list(indicators)].copy().astype(np.float32)\n",
    "            result = model.predict(df)[-1]\n",
    "            if result == 1:\n",
    "                order = buy(busd)\n",
    "            else:\n",
    "                send_message(\"ml_no\", btc_price)\n",
    "        else: #BTC is below moving average\n",
    "            send_message(\"belowma\", btc_price, df.sma.iloc[-1])\n",
    "            sleep = int(df.sma.iloc[-1]-btc_price)\n",
    "    reset_client()"
   ]
  },
  {
   "cell_type": "code",
   "execution_count": 30,
   "id": "6a42aa4f-a8c4-49fa-a05f-b74df14912a2",
   "metadata": {},
   "outputs": [],
   "source": [
    "def reset_client():\n",
    "    \"\"\"resets the client to prevent 'read operation timed out'\"\"\"\n",
    "    global client\n",
    "    global api_key\n",
    "    global api_secret\n",
    "    client = Client(api_key=api_key, api_secret=api_secret)\n",
    "\n",
    "def set_oco(tp, sl, price):\n",
    "    \"\"\"sets oco if doesn't already exist\"\"\"\n",
    "    btc = client.get_asset_balance(asset='BTC')[\"free\"]\n",
    "    order = client.create_oco_order(\n",
    "        symbol='BTCBUSD',\n",
    "        side=SIDE_SELL,\n",
    "        stopLimitTimeInForce=TIME_IN_FORCE_GTC,\n",
    "        quantity=btc,\n",
    "        stopPrice=str(round(price*(1-sl/100), 2)+10), \n",
    "        stopLimitPrice=str(round(price*(1-sl/100), 2)), #What if +1000 and much lower\n",
    "        price=str(round(price*(1+tp/100), 2)))\n",
    "    send_message(\"oco\", str(round(price*(1+tp/100), 2)), str(round(price*(1-sl/100), 2)))\n",
    "    return order\n",
    "    \n",
    "def buy(busd):\n",
    "    \"\"\"market limit order to buy with 50% of busd\"\"\"\n",
    "    btc_price = float(client.get_recent_trades(symbol='BTCBUSD', limit=1)[0][\"price\"])\n",
    "    order = client.order_limit_buy(\n",
    "        symbol='BTCBUSD',\n",
    "        quantity=round(busd*0.5/btc_price, 5),\n",
    "        price=str(round(btc_price-10, 2)))\n",
    "    send_message(\"bought\", str(round(btc_price-10, 2)))\n",
    "    return order\n",
    "    \n",
    "def cancel_all_orders():\n",
    "    \"\"\"cancels all orders--cancels previous limit buy order if it exists\"\"\"\n",
    "    orders = client.get_open_orders(symbol='BTCBUSD')\n",
    "    for order in orders:\n",
    "        result = client.cancel_order(\n",
    "            symbol='BTCBUSD',\n",
    "            orderId=order[\"orderId\"])\n",
    "        \n",
    "def get_minutely_data(symbol:str, kline_interval:object, start=\"1 Jan 1900\", days=3.5):\n",
    "    \"\"\"\n",
    "    downloads binance data\n",
    "    symbol: BTCBUSD\n",
    "    kline_interval: Client.KLINE_INTERVAL_1DAY, Client.KLINE_INTERVAL_1DAY, Client.KLINE_INTERVAL_1DAY\n",
    "    interval_name: only used for csv name: BTCUSDT-interval_name.csv\n",
    "    start: empty if from the very beginning\n",
    "    \"\"\"\n",
    "    d = datetime.today() - timedelta(days=days)\n",
    "    start_date = d.strftime(\"%d %b %Y %H:%M:%S\")\n",
    "    today = datetime.today().strftime(\"%d %b %Y %H:%M:%S\")\n",
    "    klines = client.get_historical_klines(symbol, kline_interval, start_date, today, 1000)\n",
    "    data = pd.DataFrame(klines, columns = ['timestamp', 'open', 'high', 'low', 'close', 'volume', 'close_time', 'quote_av', 'trades', 'tb_base_av', 'tb_quote_av', 'ignore' ])\n",
    "    klines = client.get_klines(symbol=symbol, interval=Client.KLINE_INTERVAL_1MINUTE)\n",
    "    data_latest = pd.DataFrame(klines, columns = ['timestamp', 'open', 'high', 'low', 'close', 'volume', 'close_time', 'quote_av', 'trades', 'tb_base_av', 'tb_quote_av', 'ignore' ])\n",
    "    \n",
    "    index = data.index[(data['open'] == data_latest.iloc[0].open) & (data['high'] == data_latest.iloc[0].high)].tolist()[0]\n",
    "    result = pd.concat([data[:index], data_latest], ignore_index=True, sort=False)\n",
    "    return result"
   ]
  },
  {
   "cell_type": "code",
   "execution_count": 31,
   "id": "0a96ec9a-753b-4cc7-b044-bafbfef02605",
   "metadata": {
    "tags": []
   },
   "outputs": [],
   "source": [
    "# df = get_minutely_data(symbol=\"BTCUSDT\", \n",
    "#                        kline_interval=Client.KLINE_INTERVAL_1MINUTE, \n",
    "#                        days=10)\n",
    "# df = features.add_all_features(df) \n",
    "# df.dropna(inplace=True)\n",
    "# indicators = list(df.columns)[12:]\n",
    "# indicators.append('close')\n",
    "# df = df[list(indicators)].copy().astype(np.float32)\n",
    "\n",
    "# df.to_csv('../data/debugging.csv', index=False)"
   ]
  },
  {
   "cell_type": "code",
   "execution_count": 32,
   "id": "448fd9ed-6b4d-476a-a298-b3a68d26f616",
   "metadata": {
    "tags": []
   },
   "outputs": [],
   "source": [
    "# df"
   ]
  },
  {
   "cell_type": "code",
   "execution_count": 33,
   "id": "80df2383-69a9-4954-b134-cf0b9a8589e5",
   "metadata": {},
   "outputs": [
    {
     "data": {
      "text/plain": [
       "Every 1 minute at 00:00:01 do printer() (last run: [never], next run: 2021-06-13 16:06:01)"
      ]
     },
     "execution_count": 33,
     "metadata": {},
     "output_type": "execute_result"
    }
   ],
   "source": [
    "schedule.clear()\n",
    "schedule.every().minute.at(\":01\").do(printer)"
   ]
  },
  {
   "cell_type": "code",
   "execution_count": 36,
   "id": "7ace3303-1dbc-4ac9-b576-8d1c67ce4665",
   "metadata": {},
   "outputs": [],
   "source": [
    "# Discord # Saving message\n",
    "def send_message(m:str, a=\"\", b=\"\"):\n",
    "    data = {\"message\":\"ERROR\"}\n",
    "    if m == \"waiting\":\n",
    "        data[\"message\"] = \"awaiting tp and sl orders to fulfill\"\n",
    "        print(\"awaiting tp and sl orders to fulfill\")\n",
    "    elif m == \"oco\":\n",
    "        data[\"message\"] = \"@everyone Set take profit $\" + str(a) + \" and stop loss $\" + str(b)\n",
    "    elif m == \"belowma\":\n",
    "        data[\"message\"] = \"Price $\" + str(a) + \" is below moving average $\" + str(round(b, 2)) + \" by $\" + str(round(b-a, 2))\n",
    "    elif m == \"bought\":\n",
    "        data[\"message\"] = \"@everyone Just bought at $\" + str(a)\n",
    "    elif m == \"ml_no\":\n",
    "        data[\"message\"] = \"ML model says no at current price $\" + str(a)\n",
    "    with open('message.txt', 'w') as outfile:\n",
    "        json.dump(data, outfile)"
   ]
  },
  {
   "cell_type": "code",
   "execution_count": 37,
   "id": "133a5bf2-08d1-4471-990c-a87bf38dd57d",
   "metadata": {},
   "outputs": [
    {
     "name": "stdout",
     "output_type": "stream",
     "text": [
      "sleeping for 1 seconds\n"
     ]
    },
    {
     "ename": "KeyboardInterrupt",
     "evalue": "",
     "output_type": "error",
     "traceback": [
      "\u001b[0;31m---------------------------------------------------------------------------\u001b[0m",
      "\u001b[0;31mKeyboardInterrupt\u001b[0m                         Traceback (most recent call last)",
      "\u001b[0;32m<ipython-input-37-406ea5b9d462>\u001b[0m in \u001b[0;36m<module>\u001b[0;34m\u001b[0m\n\u001b[1;32m      4\u001b[0m     \u001b[0mschedule\u001b[0m\u001b[0;34m.\u001b[0m\u001b[0mrun_pending\u001b[0m\u001b[0;34m(\u001b[0m\u001b[0;34m)\u001b[0m\u001b[0;34m\u001b[0m\u001b[0;34m\u001b[0m\u001b[0m\n\u001b[1;32m      5\u001b[0m     \u001b[0mprint\u001b[0m\u001b[0;34m(\u001b[0m\u001b[0;34mf\"sleeping for {sleep} seconds\"\u001b[0m\u001b[0;34m)\u001b[0m\u001b[0;34m\u001b[0m\u001b[0;34m\u001b[0m\u001b[0m\n\u001b[0;32m----> 6\u001b[0;31m     \u001b[0mtime\u001b[0m\u001b[0;34m.\u001b[0m\u001b[0msleep\u001b[0m\u001b[0;34m(\u001b[0m\u001b[0msleep\u001b[0m\u001b[0;34m)\u001b[0m\u001b[0;34m\u001b[0m\u001b[0;34m\u001b[0m\u001b[0m\n\u001b[0m",
      "\u001b[0;31mKeyboardInterrupt\u001b[0m: "
     ]
    }
   ],
   "source": [
    "sleep = 1\n",
    "while True:\n",
    "    clear_output()\n",
    "    schedule.run_pending()\n",
    "    print(f\"sleeping for {sleep} seconds\")\n",
    "    time.sleep(sleep)"
   ]
  },
  {
   "cell_type": "code",
   "execution_count": null,
   "id": "51fdc045-9484-48d7-a1b8-be2d30d5b8aa",
   "metadata": {},
   "outputs": [],
   "source": []
  }
 ],
 "metadata": {
  "kernelspec": {
   "display_name": "Python 3",
   "language": "python",
   "name": "python3"
  },
  "language_info": {
   "codemirror_mode": {
    "name": "ipython",
    "version": 3
   },
   "file_extension": ".py",
   "mimetype": "text/x-python",
   "name": "python",
   "nbconvert_exporter": "python",
   "pygments_lexer": "ipython3",
   "version": "3.9.4"
  }
 },
 "nbformat": 4,
 "nbformat_minor": 5
}
