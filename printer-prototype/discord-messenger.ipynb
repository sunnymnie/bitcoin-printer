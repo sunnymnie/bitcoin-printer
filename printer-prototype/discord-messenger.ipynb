{
 "cells": [
  {
   "cell_type": "markdown",
   "id": "74c455c8-57ed-4c15-a51c-bd1a8c94adcf",
   "metadata": {},
   "source": [
    "# Discord messenger"
   ]
  },
  {
   "cell_type": "code",
   "execution_count": 1,
   "id": "9642974b-cda6-4f43-8932-d7eb1786d381",
   "metadata": {},
   "outputs": [],
   "source": [
    "import nest_asyncio\n",
    "nest_asyncio.apply()\n",
    "import discord\n",
    "from discord.ext import tasks, commands\n",
    "from datetime import datetime\n",
    "import json\n",
    "\n",
    "def get_api_keys(site: str, api_type: str)->str:\n",
    "    \"\"\"\n",
    "    gets api keys stored in api-keys/api-keys.txt\n",
    "    site: 'binance'\n",
    "    api_type: 'api', 'secret'\n",
    "    \"\"\"\n",
    "    with open('../api-keys/api-keys.txt') as json_file:\n",
    "        return json.load(json_file)[site][api_type]\n",
    "# Constants\n",
    "dtoken = get_api_keys(\"discord\", \"api\")\n",
    "\n",
    "bot = commands.Bot(command_prefix=\"!\")"
   ]
  },
  {
   "cell_type": "code",
   "execution_count": 2,
   "id": "ce4ef606-7954-44b9-83b4-a7928d7f3aa4",
   "metadata": {},
   "outputs": [],
   "source": [
    "message = \"\"\n",
    "def get_message():\n",
    "    global message\n",
    "    \"\"\"gets the message\"\"\"\n",
    "    with open('message.txt') as json_file:\n",
    "        new_message = json.load(json_file)[\"message\"]\n",
    "#         if new_message == message:\n",
    "#             return \"\"\n",
    "#         else:\n",
    "#             message = new_message\n",
    "        return new_message"
   ]
  },
  {
   "cell_type": "code",
   "execution_count": null,
   "id": "b5a17a94-443a-4803-a7d1-5d39704aa651",
   "metadata": {},
   "outputs": [
    {
     "name": "stdout",
     "output_type": "stream",
     "text": [
      "Logged in\n"
     ]
    }
   ],
   "source": [
    "@bot.event\n",
    "async def on_ready():\n",
    "    print(\"Logged in\")\n",
    "    get_price.start()\n",
    "\n",
    "\n",
    "@tasks.loop(seconds=60)\n",
    "async def get_price():\n",
    "    channel = bot.get_channel(853110820611555328)\n",
    "#     await channel.send(str(datetime.today()))\n",
    "    await channel.send(get_message())\n",
    "\n",
    "@get_price.before_loop\n",
    "async def before():\n",
    "    await bot.wait_until_ready()\n",
    "\n",
    "bot.run(dtoken)"
   ]
  },
  {
   "cell_type": "code",
   "execution_count": null,
   "id": "da0cd071-7367-4f79-924f-d9a9d0921427",
   "metadata": {},
   "outputs": [],
   "source": []
  }
 ],
 "metadata": {
  "kernelspec": {
   "display_name": "Python 3",
   "language": "python",
   "name": "python3"
  },
  "language_info": {
   "codemirror_mode": {
    "name": "ipython",
    "version": 3
   },
   "file_extension": ".py",
   "mimetype": "text/x-python",
   "name": "python",
   "nbconvert_exporter": "python",
   "pygments_lexer": "ipython3",
   "version": "3.9.4"
  }
 },
 "nbformat": 4,
 "nbformat_minor": 5
}
