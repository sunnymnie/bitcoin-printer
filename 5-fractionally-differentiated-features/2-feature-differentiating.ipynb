{
 "cells": [
  {
   "cell_type": "markdown",
   "id": "cbf62c85-24e9-4f5f-885e-f7dbad8cbfa1",
   "metadata": {},
   "source": [
    "# Feature differentiating"
   ]
  },
  {
   "cell_type": "code",
   "execution_count": 1,
   "id": "e7ea28b3-8496-4176-904b-85a4331ea44d",
   "metadata": {},
   "outputs": [],
   "source": [
    "import pandas as pd\n",
    "import numpy as np\n",
    "import matplotlib.pyplot as plt\n",
    "import seaborn as sns\n",
    "from statsmodels.tsa.stattools import adfuller\n",
    "from statsmodels.tsa.stattools import coint\n",
    "import scipy.stats as stats\n",
    "import time\n",
    "import stationarity as st\n",
    "\n",
    "import sys\n",
    "sys.path.insert(0, '..')\n",
    "from multiprocess import mp_pandas_obj"
   ]
  },
  {
   "cell_type": "code",
   "execution_count": 2,
   "id": "51f761ae-73f3-437e-bb7b-c20f5d83f74d",
   "metadata": {},
   "outputs": [],
   "source": [
    "df = pd.read_csv(\"../data/BTCUSDT-volume-bars.csv\", index_col=0, parse_dates=True)"
   ]
  },
  {
   "cell_type": "code",
   "execution_count": 7,
   "id": "ee4566f0-4c5a-4669-b2df-91d4254f7aa5",
   "metadata": {},
   "outputs": [],
   "source": [
    "# Set indicator to be pandas series (ie df.close)\n",
    "ind, x = df.close, df.close"
   ]
  },
  {
   "cell_type": "code",
   "execution_count": 6,
   "id": "a5c7dafa-44ca-440a-b42d-c4bc2c016508",
   "metadata": {},
   "outputs": [
    {
     "data": {
      "text/plain": [
       "time\n",
       "2017-08-17 04:21:13.356    8.358500e+00\n",
       "2017-08-17 04:29:19.766    1.671728e+01\n",
       "2017-08-17 04:33:00.057    2.507617e+01\n",
       "2017-08-17 04:39:32.027    3.344263e+01\n",
       "2017-08-17 04:43:05.191    4.180909e+01\n",
       "                               ...     \n",
       "2021-06-19 16:27:04.502    1.112513e+08\n",
       "2021-06-19 16:27:20.667    1.112513e+08\n",
       "2021-06-19 16:27:26.627    1.112513e+08\n",
       "2021-06-19 16:27:44.405    1.112514e+08\n",
       "2021-06-19 16:27:48.270    1.112514e+08\n",
       "Name: close, Length: 11798850, dtype: float64"
      ]
     },
     "execution_count": 6,
     "metadata": {},
     "output_type": "execute_result"
    }
   ],
   "source": [
    "x = np.log(ind).cumsum()\n",
    "x"
   ]
  },
  {
   "cell_type": "code",
   "execution_count": null,
   "id": "79affdc5-0fb2-4b6d-8f5a-4121332f9670",
   "metadata": {},
   "outputs": [],
   "source": [
    "new_ind = st.frac_diff_ffd(df.close.to_frame(),0.3,thres=1e-5) #x.to_frame() or df.close.to_frame()"
   ]
  },
  {
   "cell_type": "markdown",
   "id": "09740963-9cae-4b48-b419-01d42db48cf5",
   "metadata": {},
   "source": [
    "## Tests"
   ]
  },
  {
   "cell_type": "code",
   "execution_count": null,
   "id": "8694e223-e02a-4f80-9441-f0d144e41094",
   "metadata": {},
   "outputs": [],
   "source": [
    "joined = new_ind.join(ind.rename('original'), how='left') \n",
    "joined.corr()"
   ]
  },
  {
   "cell_type": "code",
   "execution_count": null,
   "id": "460f61d5-3921-4cc4-ae74-82844dfe8d13",
   "metadata": {},
   "outputs": [],
   "source": [
    "adfuller(new_ind)"
   ]
  }
 ],
 "metadata": {
  "kernelspec": {
   "display_name": "Python 3",
   "language": "python",
   "name": "python3"
  },
  "language_info": {
   "codemirror_mode": {
    "name": "ipython",
    "version": 3
   },
   "file_extension": ".py",
   "mimetype": "text/x-python",
   "name": "python",
   "nbconvert_exporter": "python",
   "pygments_lexer": "ipython3",
   "version": "3.9.4"
  }
 },
 "nbformat": 4,
 "nbformat_minor": 5
}
