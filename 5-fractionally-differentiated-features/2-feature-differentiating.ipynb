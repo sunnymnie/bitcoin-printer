{
 "cells": [
  {
   "cell_type": "markdown",
   "id": "cbf62c85-24e9-4f5f-885e-f7dbad8cbfa1",
   "metadata": {},
   "source": [
    "# Feature differentiating"
   ]
  },
  {
   "cell_type": "code",
   "execution_count": 2,
   "id": "e7ea28b3-8496-4176-904b-85a4331ea44d",
   "metadata": {},
   "outputs": [],
   "source": [
    "import pandas as pd\n",
    "import numpy as np\n",
    "import matplotlib.pyplot as plt\n",
    "import seaborn as sns\n",
    "from statsmodels.tsa.stattools import adfuller\n",
    "from statsmodels.tsa.stattools import coint\n",
    "import scipy.stats as stats\n",
    "import time\n",
    "import stationarity as st\n",
    "\n",
    "import sys\n",
    "sys.path.insert(0, '..')\n",
    "from multiprocess import mp_pandas_obj"
   ]
  },
  {
   "cell_type": "code",
   "execution_count": 51,
   "id": "51f761ae-73f3-437e-bb7b-c20f5d83f74d",
   "metadata": {},
   "outputs": [],
   "source": [
    "df = pd.read_csv(\"../data/BTCUSDT-volume-bars.csv\", index_col=0, parse_dates=True)"
   ]
  },
  {
   "cell_type": "code",
   "execution_count": 50,
   "id": "47668b4f-e02b-4a68-8beb-a4fc8debb035",
   "metadata": {},
   "outputs": [
    {
     "data": {
      "text/html": [
       "<div>\n",
       "<style scoped>\n",
       "    .dataframe tbody tr th:only-of-type {\n",
       "        vertical-align: middle;\n",
       "    }\n",
       "\n",
       "    .dataframe tbody tr th {\n",
       "        vertical-align: top;\n",
       "    }\n",
       "\n",
       "    .dataframe thead th {\n",
       "        text-align: right;\n",
       "    }\n",
       "</style>\n",
       "<table border=\"1\" class=\"dataframe\">\n",
       "  <thead>\n",
       "    <tr style=\"text-align: right;\">\n",
       "      <th></th>\n",
       "      <th>open</th>\n",
       "      <th>high</th>\n",
       "      <th>low</th>\n",
       "      <th>close</th>\n",
       "      <th>volume</th>\n",
       "    </tr>\n",
       "    <tr>\n",
       "      <th>time</th>\n",
       "      <th></th>\n",
       "      <th></th>\n",
       "      <th></th>\n",
       "      <th></th>\n",
       "      <th></th>\n",
       "    </tr>\n",
       "  </thead>\n",
       "  <tbody>\n",
       "    <tr>\n",
       "      <th>2017-08-17 04:21:13.356</th>\n",
       "      <td>4261.48</td>\n",
       "      <td>4280.56</td>\n",
       "      <td>4261.48</td>\n",
       "      <td>4266.29</td>\n",
       "      <td>5.002297</td>\n",
       "    </tr>\n",
       "    <tr>\n",
       "      <th>2017-08-17 11:01:00.063</th>\n",
       "      <td>4460.00</td>\n",
       "      <td>4470.00</td>\n",
       "      <td>4459.18</td>\n",
       "      <td>4459.18</td>\n",
       "      <td>7.922343</td>\n",
       "    </tr>\n",
       "    <tr>\n",
       "      <th>2017-08-17 14:52:00.065</th>\n",
       "      <td>4477.53</td>\n",
       "      <td>4477.53</td>\n",
       "      <td>4457.43</td>\n",
       "      <td>4457.43</td>\n",
       "      <td>5.726718</td>\n",
       "    </tr>\n",
       "    <tr>\n",
       "      <th>2017-08-17 16:10:46.745</th>\n",
       "      <td>4292.11</td>\n",
       "      <td>4293.61</td>\n",
       "      <td>4255.30</td>\n",
       "      <td>4287.78</td>\n",
       "      <td>5.070972</td>\n",
       "    </tr>\n",
       "    <tr>\n",
       "      <th>2017-08-17 18:17:00.515</th>\n",
       "      <td>4231.87</td>\n",
       "      <td>4282.43</td>\n",
       "      <td>4231.87</td>\n",
       "      <td>4278.01</td>\n",
       "      <td>5.026406</td>\n",
       "    </tr>\n",
       "    <tr>\n",
       "      <th>...</th>\n",
       "      <td>...</td>\n",
       "      <td>...</td>\n",
       "      <td>...</td>\n",
       "      <td>...</td>\n",
       "      <td>...</td>\n",
       "    </tr>\n",
       "    <tr>\n",
       "      <th>2021-06-19 16:14:51.220</th>\n",
       "      <td>35976.55</td>\n",
       "      <td>35995.81</td>\n",
       "      <td>35961.31</td>\n",
       "      <td>35986.59</td>\n",
       "      <td>5.221115</td>\n",
       "    </tr>\n",
       "    <tr>\n",
       "      <th>2021-06-19 16:18:46.436</th>\n",
       "      <td>35879.54</td>\n",
       "      <td>35900.00</td>\n",
       "      <td>35879.00</td>\n",
       "      <td>35893.49</td>\n",
       "      <td>5.890228</td>\n",
       "    </tr>\n",
       "    <tr>\n",
       "      <th>2021-06-19 16:20:07.959</th>\n",
       "      <td>35837.35</td>\n",
       "      <td>35849.33</td>\n",
       "      <td>35822.81</td>\n",
       "      <td>35822.81</td>\n",
       "      <td>5.302133</td>\n",
       "    </tr>\n",
       "    <tr>\n",
       "      <th>2021-06-19 16:21:56.890</th>\n",
       "      <td>35850.25</td>\n",
       "      <td>35850.25</td>\n",
       "      <td>35821.74</td>\n",
       "      <td>35822.69</td>\n",
       "      <td>5.159896</td>\n",
       "    </tr>\n",
       "    <tr>\n",
       "      <th>2021-06-19 16:26:26.777</th>\n",
       "      <td>35876.69</td>\n",
       "      <td>35876.70</td>\n",
       "      <td>35871.62</td>\n",
       "      <td>35872.38</td>\n",
       "      <td>5.036468</td>\n",
       "    </tr>\n",
       "  </tbody>\n",
       "</table>\n",
       "<p>589943 rows × 5 columns</p>\n",
       "</div>"
      ],
      "text/plain": [
       "                             open      high       low     close    volume\n",
       "time                                                                     \n",
       "2017-08-17 04:21:13.356   4261.48   4280.56   4261.48   4266.29  5.002297\n",
       "2017-08-17 11:01:00.063   4460.00   4470.00   4459.18   4459.18  7.922343\n",
       "2017-08-17 14:52:00.065   4477.53   4477.53   4457.43   4457.43  5.726718\n",
       "2017-08-17 16:10:46.745   4292.11   4293.61   4255.30   4287.78  5.070972\n",
       "2017-08-17 18:17:00.515   4231.87   4282.43   4231.87   4278.01  5.026406\n",
       "...                           ...       ...       ...       ...       ...\n",
       "2021-06-19 16:14:51.220  35976.55  35995.81  35961.31  35986.59  5.221115\n",
       "2021-06-19 16:18:46.436  35879.54  35900.00  35879.00  35893.49  5.890228\n",
       "2021-06-19 16:20:07.959  35837.35  35849.33  35822.81  35822.81  5.302133\n",
       "2021-06-19 16:21:56.890  35850.25  35850.25  35821.74  35822.69  5.159896\n",
       "2021-06-19 16:26:26.777  35876.69  35876.70  35871.62  35872.38  5.036468\n",
       "\n",
       "[589943 rows x 5 columns]"
      ]
     },
     "execution_count": 50,
     "metadata": {},
     "output_type": "execute_result"
    }
   ],
   "source": [
    "df.iloc[::20, :]"
   ]
  },
  {
   "cell_type": "code",
   "execution_count": 29,
   "id": "3ef432b1-a01e-477e-871b-8ba570f37ac9",
   "metadata": {},
   "outputs": [],
   "source": [
    "df = df[-80_000:]"
   ]
  },
  {
   "cell_type": "code",
   "execution_count": 30,
   "id": "ee4566f0-4c5a-4669-b2df-91d4254f7aa5",
   "metadata": {},
   "outputs": [],
   "source": [
    "# Set indicator to be pandas series (ie df.close)\n",
    "ind, x = df.close, df.close"
   ]
  },
  {
   "cell_type": "code",
   "execution_count": 6,
   "id": "a5c7dafa-44ca-440a-b42d-c4bc2c016508",
   "metadata": {},
   "outputs": [
    {
     "data": {
      "text/plain": [
       "time\n",
       "2017-08-17 04:21:13.356    8.358500e+00\n",
       "2017-08-17 04:29:19.766    1.671728e+01\n",
       "2017-08-17 04:33:00.057    2.507617e+01\n",
       "2017-08-17 04:39:32.027    3.344263e+01\n",
       "2017-08-17 04:43:05.191    4.180909e+01\n",
       "                               ...     \n",
       "2021-06-19 16:27:04.502    1.112513e+08\n",
       "2021-06-19 16:27:20.667    1.112513e+08\n",
       "2021-06-19 16:27:26.627    1.112513e+08\n",
       "2021-06-19 16:27:44.405    1.112514e+08\n",
       "2021-06-19 16:27:48.270    1.112514e+08\n",
       "Name: close, Length: 11798850, dtype: float64"
      ]
     },
     "execution_count": 6,
     "metadata": {},
     "output_type": "execute_result"
    }
   ],
   "source": [
    "x = np.log(ind).cumsum()\n",
    "x"
   ]
  },
  {
   "cell_type": "code",
   "execution_count": 31,
   "id": "79affdc5-0fb2-4b6d-8f5a-4121332f9670",
   "metadata": {},
   "outputs": [
    {
     "name": "stdout",
     "output_type": "stream",
     "text": [
      "450.1646828651428\n"
     ]
    }
   ],
   "source": [
    "start = time.time()\n",
    "new_ind = st.frac_diff_ffd(df.close.to_frame(),0.2,thres=1e-5) #x.to_frame() or df.close.to_frame()\n",
    "print(time.time()-start)"
   ]
  },
  {
   "cell_type": "code",
   "execution_count": 48,
   "id": "a211d1d3-bea5-4419-97b5-47bcef88a0e9",
   "metadata": {},
   "outputs": [
    {
     "data": {
      "text/plain": [
       "[<matplotlib.lines.Line2D at 0x7fc4d27332b0>]"
      ]
     },
     "execution_count": 48,
     "metadata": {},
     "output_type": "execute_result"
    },
    {
     "data": {
      "image/png": "[encoded data removed]",
      "text/plain": [
       "<Figure size 432x288 with 1 Axes>"
      ]
     },
     "metadata": {
      "needs_background": "light"
     },
     "output_type": "display_data"
    }
   ],
   "source": [
    "plt.plot([10_000, 20_000, 40_000, 80_000, 160_000, 320_000, 640_000, 1_000_000], [15, 45, 131, 450, 1_800, 9_000, 54_000, 120_000])"
   ]
  },
  {
   "cell_type": "markdown",
   "id": "09740963-9cae-4b48-b419-01d42db48cf5",
   "metadata": {},
   "source": [
    "## Tests"
   ]
  },
  {
   "cell_type": "code",
   "execution_count": null,
   "id": "8694e223-e02a-4f80-9441-f0d144e41094",
   "metadata": {},
   "outputs": [],
   "source": [
    "joined = new_ind.join(ind.rename('original'), how='left') \n",
    "joined.corr()"
   ]
  },
  {
   "cell_type": "code",
   "execution_count": null,
   "id": "460f61d5-3921-4cc4-ae74-82844dfe8d13",
   "metadata": {},
   "outputs": [],
   "source": [
    "adfuller(new_ind)"
   ]
  },
  {
   "cell_type": "code",
   "execution_count": null,
   "id": "f31d4115-1901-4d60-8eb1-56534e197a7b",
   "metadata": {},
   "outputs": [],
   "source": []
  }
 ],
 "metadata": {
  "kernelspec": {
   "display_name": "Python 3",
   "language": "python",
   "name": "python3"
  },
  "language_info": {
   "codemirror_mode": {
    "name": "ipython",
    "version": 3
   },
   "file_extension": ".py",
   "mimetype": "text/x-python",
   "name": "python",
   "nbconvert_exporter": "python",
   "pygments_lexer": "ipython3",
   "version": "3.9.4"
  }
 },
 "nbformat": 4,
 "nbformat_minor": 5
}
