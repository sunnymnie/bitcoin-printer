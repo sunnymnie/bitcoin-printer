{
 "cells": [
  {
   "cell_type": "markdown",
   "id": "cbf62c85-24e9-4f5f-885e-f7dbad8cbfa1",
   "metadata": {},
   "source": [
    "# Feature differentiating"
   ]
  },
  {
   "cell_type": "code",
   "execution_count": 28,
   "id": "e7ea28b3-8496-4176-904b-85a4331ea44d",
   "metadata": {},
   "outputs": [],
   "source": [
    "import pandas as pd\n",
    "import numpy as np\n",
    "import matplotlib.pyplot as plt\n",
    "import seaborn as sns\n",
    "from statsmodels.tsa.stattools import adfuller\n",
    "from statsmodels.tsa.stattools import coint\n",
    "import scipy.stats as stats\n",
    "import time\n",
    "import stationarity as st\n",
    "\n",
    "import sys\n",
    "sys.path.insert(0, '..')\n",
    "from multiprocess import mp_pandas_obj\n",
    "import useful_functions as uf"
   ]
  },
  {
   "cell_type": "code",
   "execution_count": 82,
   "id": "51f761ae-73f3-437e-bb7b-c20f5d83f74d",
   "metadata": {},
   "outputs": [],
   "source": [
    "df = pd.read_csv(\"../data/BTCUSDT-volume-bars.csv\", index_col=0, parse_dates=True)"
   ]
  },
  {
   "cell_type": "code",
   "execution_count": 83,
   "id": "780f9b3f-a7ec-429c-84cd-de9e7b726bea",
   "metadata": {},
   "outputs": [],
   "source": [
    "df = df[[\"close\"]]"
   ]
  },
  {
   "cell_type": "code",
   "execution_count": 4,
   "id": "47668b4f-e02b-4a68-8beb-a4fc8debb035",
   "metadata": {},
   "outputs": [],
   "source": [
    "ds_close = df.iloc[::200, :].close"
   ]
  },
  {
   "cell_type": "code",
   "execution_count": 6,
   "id": "5f69ec11-5dfb-40b7-8daa-91584a83f275",
   "metadata": {},
   "outputs": [],
   "source": [
    "df[\"ds_close\"] = ds_close"
   ]
  },
  {
   "cell_type": "code",
   "execution_count": 9,
   "id": "622ff5b2-bd08-46ed-a0b8-dcf458158154",
   "metadata": {},
   "outputs": [
    {
     "data": {
      "text/plain": [
       "time\n",
       "2017-08-17 04:21:13.356     4266.29\n",
       "2017-08-17 04:29:19.766     4266.29\n",
       "2017-08-17 04:33:00.057     4266.29\n",
       "2017-08-17 04:39:32.027     4266.29\n",
       "2017-08-17 04:43:05.191     4266.29\n",
       "                             ...   \n",
       "2021-06-19 16:27:04.502    35872.38\n",
       "2021-06-19 16:27:20.667    35872.38\n",
       "2021-06-19 16:27:26.627    35872.38\n",
       "2021-06-19 16:27:44.405    35872.38\n",
       "2021-06-19 16:27:48.270    35872.38\n",
       "Name: ds_close, Length: 11798850, dtype: float64"
      ]
     },
     "execution_count": 9,
     "metadata": {},
     "output_type": "execute_result"
    }
   ],
   "source": [
    "df.ds_close.ffill()"
   ]
  },
  {
   "cell_type": "code",
   "execution_count": 29,
   "id": "3ef432b1-a01e-477e-871b-8ba570f37ac9",
   "metadata": {},
   "outputs": [],
   "source": [
    "df = df[-80_000:]"
   ]
  },
  {
   "cell_type": "code",
   "execution_count": 5,
   "id": "ee4566f0-4c5a-4669-b2df-91d4254f7aa5",
   "metadata": {},
   "outputs": [],
   "source": [
    "# Set indicator to be pandas series (ie df.close)\n",
    "ind, x = ds_close, ds_close"
   ]
  },
  {
   "cell_type": "code",
   "execution_count": 6,
   "id": "a5c7dafa-44ca-440a-b42d-c4bc2c016508",
   "metadata": {},
   "outputs": [
    {
     "data": {
      "text/plain": [
       "time\n",
       "2017-08-17 04:21:13.356     4266.29\n",
       "2017-08-18 05:32:48.180     4330.82\n",
       "2017-08-19 11:56:20.698     3942.00\n",
       "2017-08-21 15:52:29.174     4020.00\n",
       "2017-08-22 23:26:21.969     4001.99\n",
       "                             ...   \n",
       "2021-06-19 14:46:47.152    36163.66\n",
       "2021-06-19 15:01:59.744    36280.17\n",
       "2021-06-19 15:28:38.238    36049.65\n",
       "2021-06-19 15:56:38.063    36139.22\n",
       "2021-06-19 16:20:07.959    35822.81\n",
       "Name: close, Length: 58995, dtype: float64"
      ]
     },
     "execution_count": 6,
     "metadata": {},
     "output_type": "execute_result"
    }
   ],
   "source": [
    "# x = np.log(ind).cumsum()\n",
    "x"
   ]
  },
  {
   "cell_type": "code",
   "execution_count": 67,
   "id": "79affdc5-0fb2-4b6d-8f5a-4121332f9670",
   "metadata": {},
   "outputs": [
    {
     "name": "stdout",
     "output_type": "stream",
     "text": [
      "185.5400002002716\n"
     ]
    }
   ],
   "source": [
    "start = time.time()\n",
    "new_ind = st.frac_diff_ffd(x.to_frame(),0.45,thres=1e-5) #x.to_frame() or df.close.to_frame()\n",
    "print(time.time()-start)"
   ]
  },
  {
   "cell_type": "code",
   "execution_count": 48,
   "id": "a211d1d3-bea5-4419-97b5-47bcef88a0e9",
   "metadata": {
    "collapsed": true,
    "jupyter": {
     "outputs_hidden": true
    },
    "tags": []
   },
   "outputs": [
    {
     "data": {
      "text/plain": [
       "[<matplotlib.lines.Line2D at 0x7fc4d27332b0>]"
      ]
     },
     "execution_count": 48,
     "metadata": {},
     "output_type": "execute_result"
    },
    {
     "data": {
      "image/png": "[encoded data removed]",
      "text/plain": [
       "<Figure size 432x288 with 1 Axes>"
      ]
     },
     "metadata": {
      "needs_background": "light"
     },
     "output_type": "display_data"
    }
   ],
   "source": [
    "plt.plot([10_000, 20_000, 40_000, 80_000, 160_000, 320_000, 640_000, 1_000_000], [15, 45, 131, 450, 1_800, 9_000, 54_000, 120_000])"
   ]
  },
  {
   "cell_type": "markdown",
   "id": "36e6c186-272f-42fd-a047-868df580ae13",
   "metadata": {},
   "source": [
    "## 'up' sample"
   ]
  },
  {
   "cell_type": "code",
   "execution_count": 68,
   "id": "57e14af8-cb1e-478c-a3f5-f8e369de9358",
   "metadata": {},
   "outputs": [
    {
     "data": {
      "text/plain": [
       "time\n",
       "2017-08-17 04:21:13.356     4266.29\n",
       "2017-08-17 04:29:19.766     4266.29\n",
       "2017-08-17 04:33:00.057     4266.29\n",
       "2017-08-17 04:39:32.027     4266.29\n",
       "2017-08-17 04:43:05.191     4266.29\n",
       "                             ...   \n",
       "2021-06-19 16:27:04.502    35822.81\n",
       "2021-06-19 16:27:20.667    35822.81\n",
       "2021-06-19 16:27:26.627    35822.81\n",
       "2021-06-19 16:27:44.405    35822.81\n",
       "2021-06-19 16:27:48.270    35822.81\n",
       "Name: close, Length: 11798850, dtype: float64"
      ]
     },
     "execution_count": 68,
     "metadata": {},
     "output_type": "execute_result"
    }
   ],
   "source": [
    "df[\"close\"] = ds_close\n",
    "df.close.ffill()\n",
    "# new_ind = df.close.to_frame()"
   ]
  },
  {
   "cell_type": "markdown",
   "id": "09740963-9cae-4b48-b419-01d42db48cf5",
   "metadata": {},
   "source": [
    "## Tests"
   ]
  },
  {
   "cell_type": "code",
   "execution_count": 69,
   "id": "8694e223-e02a-4f80-9441-f0d144e41094",
   "metadata": {},
   "outputs": [
    {
     "data": {
      "text/html": [
       "<div>\n",
       "<style scoped>\n",
       "    .dataframe tbody tr th:only-of-type {\n",
       "        vertical-align: middle;\n",
       "    }\n",
       "\n",
       "    .dataframe tbody tr th {\n",
       "        vertical-align: top;\n",
       "    }\n",
       "\n",
       "    .dataframe thead th {\n",
       "        text-align: right;\n",
       "    }\n",
       "</style>\n",
       "<table border=\"1\" class=\"dataframe\">\n",
       "  <thead>\n",
       "    <tr style=\"text-align: right;\">\n",
       "      <th></th>\n",
       "      <th>close</th>\n",
       "      <th>original</th>\n",
       "    </tr>\n",
       "  </thead>\n",
       "  <tbody>\n",
       "    <tr>\n",
       "      <th>close</th>\n",
       "      <td>1.000000</td>\n",
       "      <td>0.880311</td>\n",
       "    </tr>\n",
       "    <tr>\n",
       "      <th>original</th>\n",
       "      <td>0.880311</td>\n",
       "      <td>1.000000</td>\n",
       "    </tr>\n",
       "  </tbody>\n",
       "</table>\n",
       "</div>"
      ],
      "text/plain": [
       "             close  original\n",
       "close     1.000000  0.880311\n",
       "original  0.880311  1.000000"
      ]
     },
     "execution_count": 69,
     "metadata": {},
     "output_type": "execute_result"
    }
   ],
   "source": [
    "joined = new_ind.join(ind.rename('original'), how='left') \n",
    "joined.corr()"
   ]
  },
  {
   "cell_type": "code",
   "execution_count": 70,
   "id": "460f61d5-3921-4cc4-ae74-82844dfe8d13",
   "metadata": {},
   "outputs": [
    {
     "data": {
      "text/plain": [
       "(-23.95203090249878,\n",
       " 0.0,\n",
       " 2,\n",
       " 57830,\n",
       " {'1%': -3.4304630830068876,\n",
       "  '5%': -2.861589980515763,\n",
       "  '10%': -2.566796602949566})"
      ]
     },
     "execution_count": 70,
     "metadata": {},
     "output_type": "execute_result"
    }
   ],
   "source": [
    "adfuller(new_ind, maxlag=2,regression='c',autolag=None)"
   ]
  },
  {
   "cell_type": "code",
   "execution_count": 71,
   "id": "f31d4115-1901-4d60-8eb1-56534e197a7b",
   "metadata": {},
   "outputs": [
    {
     "data": {
      "image/png": "[encoded data removed]",
      "text/plain": [
       "<Figure size 864x216 with 2 Axes>"
      ]
     },
     "metadata": {
      "needs_background": "light"
     },
     "output_type": "display_data"
    }
   ],
   "source": [
    "fig, ax = plt.subplots(figsize=(12, 3))\n",
    "\n",
    "ax.plot(ind, color=\"gray\", alpha=0.75)\n",
    "axi = ax.twinx()\n",
    "axi.plot(new_ind, color=\"lightblue\", alpha=.9);"
   ]
  },
  {
   "cell_type": "code",
   "execution_count": 72,
   "id": "8861c941-c47e-4f95-9c02-712807735841",
   "metadata": {},
   "outputs": [
    {
     "data": {
      "text/html": [
       "<div>\n",
       "<style scoped>\n",
       "    .dataframe tbody tr th:only-of-type {\n",
       "        vertical-align: middle;\n",
       "    }\n",
       "\n",
       "    .dataframe tbody tr th {\n",
       "        vertical-align: top;\n",
       "    }\n",
       "\n",
       "    .dataframe thead th {\n",
       "        text-align: right;\n",
       "    }\n",
       "</style>\n",
       "<table border=\"1\" class=\"dataframe\">\n",
       "  <thead>\n",
       "    <tr style=\"text-align: right;\">\n",
       "      <th></th>\n",
       "      <th>close</th>\n",
       "      <th>original</th>\n",
       "    </tr>\n",
       "  </thead>\n",
       "  <tbody>\n",
       "    <tr>\n",
       "      <th>close</th>\n",
       "      <td>1.000000</td>\n",
       "      <td>0.880465</td>\n",
       "    </tr>\n",
       "    <tr>\n",
       "      <th>original</th>\n",
       "      <td>0.880465</td>\n",
       "      <td>1.000000</td>\n",
       "    </tr>\n",
       "  </tbody>\n",
       "</table>\n",
       "</div>"
      ],
      "text/plain": [
       "             close  original\n",
       "close     1.000000  0.880465\n",
       "original  0.880465  1.000000"
      ]
     },
     "execution_count": 72,
     "metadata": {},
     "output_type": "execute_result"
    }
   ],
   "source": [
    "test = new_ind.close.map(lambda x: uf.log_abs(x+100000))\n",
    "joined = test.to_frame().join(ind.rename('original'), how='left') \n",
    "joined.corr()"
   ]
  },
  {
   "cell_type": "code",
   "execution_count": 73,
   "id": "039f447c-956e-4c6b-9654-7e365f94f4e5",
   "metadata": {},
   "outputs": [
    {
     "data": {
      "image/png": "[encoded data removed]",
      "text/plain": [
       "<Figure size 864x216 with 2 Axes>"
      ]
     },
     "metadata": {
      "needs_background": "light"
     },
     "output_type": "display_data"
    }
   ],
   "source": [
    "fig, ax = plt.subplots(figsize=(12, 3))\n",
    "\n",
    "ax.plot(ind, color=\"gray\", alpha=0.75)\n",
    "axi = ax.twinx()\n",
    "axi.plot(test, color=\"lightblue\", alpha=.9);"
   ]
  },
  {
   "cell_type": "markdown",
   "id": "b6bb27e9-b5d5-42a7-984c-2b0938477980",
   "metadata": {},
   "source": [
    "## Saving"
   ]
  },
  {
   "cell_type": "code",
   "execution_count": 86,
   "id": "50d20a13-f686-4251-b7f3-f07854ede6c1",
   "metadata": {},
   "outputs": [
    {
     "data": {
      "text/html": [
       "<div>\n",
       "<style scoped>\n",
       "    .dataframe tbody tr th:only-of-type {\n",
       "        vertical-align: middle;\n",
       "    }\n",
       "\n",
       "    .dataframe tbody tr th {\n",
       "        vertical-align: top;\n",
       "    }\n",
       "\n",
       "    .dataframe thead th {\n",
       "        text-align: right;\n",
       "    }\n",
       "</style>\n",
       "<table border=\"1\" class=\"dataframe\">\n",
       "  <thead>\n",
       "    <tr style=\"text-align: right;\">\n",
       "      <th></th>\n",
       "      <th>close</th>\n",
       "    </tr>\n",
       "  </thead>\n",
       "  <tbody>\n",
       "    <tr>\n",
       "      <th>2018-01-26 07:54:22.617</th>\n",
       "      <td>58.677005</td>\n",
       "    </tr>\n",
       "    <tr>\n",
       "      <th>2018-01-26 08:09:22.234</th>\n",
       "      <td>-208.199918</td>\n",
       "    </tr>\n",
       "    <tr>\n",
       "      <th>2018-01-26 08:22:10.896</th>\n",
       "      <td>-33.980761</td>\n",
       "    </tr>\n",
       "    <tr>\n",
       "      <th>2018-01-26 08:33:13.873</th>\n",
       "      <td>-258.444682</td>\n",
       "    </tr>\n",
       "    <tr>\n",
       "      <th>2018-01-26 08:46:10.997</th>\n",
       "      <td>156.366571</td>\n",
       "    </tr>\n",
       "    <tr>\n",
       "      <th>...</th>\n",
       "      <td>...</td>\n",
       "    </tr>\n",
       "    <tr>\n",
       "      <th>2021-06-19 14:46:47.152</th>\n",
       "      <td>988.816613</td>\n",
       "    </tr>\n",
       "    <tr>\n",
       "      <th>2021-06-19 15:01:59.744</th>\n",
       "      <td>1059.471712</td>\n",
       "    </tr>\n",
       "    <tr>\n",
       "      <th>2021-06-19 15:28:38.238</th>\n",
       "      <td>755.988636</td>\n",
       "    </tr>\n",
       "    <tr>\n",
       "      <th>2021-06-19 15:56:38.063</th>\n",
       "      <td>922.442554</td>\n",
       "    </tr>\n",
       "    <tr>\n",
       "      <th>2021-06-19 16:20:07.959</th>\n",
       "      <td>578.297117</td>\n",
       "    </tr>\n",
       "  </tbody>\n",
       "</table>\n",
       "<p>57833 rows × 1 columns</p>\n",
       "</div>"
      ],
      "text/plain": [
       "                               close\n",
       "2018-01-26 07:54:22.617    58.677005\n",
       "2018-01-26 08:09:22.234  -208.199918\n",
       "2018-01-26 08:22:10.896   -33.980761\n",
       "2018-01-26 08:33:13.873  -258.444682\n",
       "2018-01-26 08:46:10.997   156.366571\n",
       "...                              ...\n",
       "2021-06-19 14:46:47.152   988.816613\n",
       "2021-06-19 15:01:59.744  1059.471712\n",
       "2021-06-19 15:28:38.238   755.988636\n",
       "2021-06-19 15:56:38.063   922.442554\n",
       "2021-06-19 16:20:07.959   578.297117\n",
       "\n",
       "[57833 rows x 1 columns]"
      ]
     },
     "execution_count": 86,
     "metadata": {},
     "output_type": "execute_result"
    }
   ],
   "source": [
    "new_ind"
   ]
  },
  {
   "cell_type": "code",
   "execution_count": 108,
   "id": "a8ff81e9-118b-4714-84bf-eb7da8952564",
   "metadata": {},
   "outputs": [],
   "source": [
    "df[\"ind\"] = new_ind.close\n",
    "df.ind.ffill().to_csv(\"../data/i16.csv\")"
   ]
  },
  {
   "cell_type": "code",
   "execution_count": 107,
   "id": "60293066-e81e-445e-8edc-a0e3d72229e5",
   "metadata": {},
   "outputs": [
    {
     "data": {
      "text/html": [
       "<div>\n",
       "<style scoped>\n",
       "    .dataframe tbody tr th:only-of-type {\n",
       "        vertical-align: middle;\n",
       "    }\n",
       "\n",
       "    .dataframe tbody tr th {\n",
       "        vertical-align: top;\n",
       "    }\n",
       "\n",
       "    .dataframe thead th {\n",
       "        text-align: right;\n",
       "    }\n",
       "</style>\n",
       "<table border=\"1\" class=\"dataframe\">\n",
       "  <thead>\n",
       "    <tr style=\"text-align: right;\">\n",
       "      <th></th>\n",
       "      <th>close</th>\n",
       "      <th>ind</th>\n",
       "    </tr>\n",
       "    <tr>\n",
       "      <th>time</th>\n",
       "      <th></th>\n",
       "      <th></th>\n",
       "    </tr>\n",
       "  </thead>\n",
       "  <tbody>\n",
       "    <tr>\n",
       "      <th>2017-08-17 04:21:13.356</th>\n",
       "      <td>4266.29</td>\n",
       "      <td>NaN</td>\n",
       "    </tr>\n",
       "    <tr>\n",
       "      <th>2017-08-17 04:29:19.766</th>\n",
       "      <td>4267.47</td>\n",
       "      <td>NaN</td>\n",
       "    </tr>\n",
       "    <tr>\n",
       "      <th>2017-08-17 04:33:00.057</th>\n",
       "      <td>4267.99</td>\n",
       "      <td>NaN</td>\n",
       "    </tr>\n",
       "    <tr>\n",
       "      <th>2017-08-17 04:39:32.027</th>\n",
       "      <td>4300.38</td>\n",
       "      <td>NaN</td>\n",
       "    </tr>\n",
       "    <tr>\n",
       "      <th>2017-08-17 04:43:05.191</th>\n",
       "      <td>4300.38</td>\n",
       "      <td>NaN</td>\n",
       "    </tr>\n",
       "    <tr>\n",
       "      <th>...</th>\n",
       "      <td>...</td>\n",
       "      <td>...</td>\n",
       "    </tr>\n",
       "    <tr>\n",
       "      <th>2021-06-19 16:27:04.502</th>\n",
       "      <td>35841.54</td>\n",
       "      <td>578.297117</td>\n",
       "    </tr>\n",
       "    <tr>\n",
       "      <th>2021-06-19 16:27:20.667</th>\n",
       "      <td>35823.32</td>\n",
       "      <td>578.297117</td>\n",
       "    </tr>\n",
       "    <tr>\n",
       "      <th>2021-06-19 16:27:26.627</th>\n",
       "      <td>35826.83</td>\n",
       "      <td>578.297117</td>\n",
       "    </tr>\n",
       "    <tr>\n",
       "      <th>2021-06-19 16:27:44.405</th>\n",
       "      <td>35847.95</td>\n",
       "      <td>578.297117</td>\n",
       "    </tr>\n",
       "    <tr>\n",
       "      <th>2021-06-19 16:27:48.270</th>\n",
       "      <td>35839.87</td>\n",
       "      <td>578.297117</td>\n",
       "    </tr>\n",
       "  </tbody>\n",
       "</table>\n",
       "<p>11798850 rows × 2 columns</p>\n",
       "</div>"
      ],
      "text/plain": [
       "                            close         ind\n",
       "time                                         \n",
       "2017-08-17 04:21:13.356   4266.29         NaN\n",
       "2017-08-17 04:29:19.766   4267.47         NaN\n",
       "2017-08-17 04:33:00.057   4267.99         NaN\n",
       "2017-08-17 04:39:32.027   4300.38         NaN\n",
       "2017-08-17 04:43:05.191   4300.38         NaN\n",
       "...                           ...         ...\n",
       "2021-06-19 16:27:04.502  35841.54  578.297117\n",
       "2021-06-19 16:27:20.667  35823.32  578.297117\n",
       "2021-06-19 16:27:26.627  35826.83  578.297117\n",
       "2021-06-19 16:27:44.405  35847.95  578.297117\n",
       "2021-06-19 16:27:48.270  35839.87  578.297117\n",
       "\n",
       "[11798850 rows x 2 columns]"
      ]
     },
     "execution_count": 107,
     "metadata": {},
     "output_type": "execute_result"
    }
   ],
   "source": [
    "df"
   ]
  },
  {
   "cell_type": "code",
   "execution_count": null,
   "id": "b6fef081-f95b-4351-bcaf-756a1ff5b77d",
   "metadata": {},
   "outputs": [],
   "source": []
  }
 ],
 "metadata": {
  "kernelspec": {
   "display_name": "Python 3",
   "language": "python",
   "name": "python3"
  },
  "language_info": {
   "codemirror_mode": {
    "name": "ipython",
    "version": 3
   },
   "file_extension": ".py",
   "mimetype": "text/x-python",
   "name": "python",
   "nbconvert_exporter": "python",
   "pygments_lexer": "ipython3",
   "version": "3.9.4"
  }
 },
 "nbformat": 4,
 "nbformat_minor": 5
}
