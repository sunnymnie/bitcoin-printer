{
 "cells": [
  {
   "cell_type": "markdown",
   "id": "dff9586f-e69a-4a97-827b-cd0b74359a93",
   "metadata": {},
   "source": [
    "# Analysis on stationarity"
   ]
  },
  {
   "cell_type": "code",
   "execution_count": 3,
   "id": "f5ec5458-14ce-430f-be55-68518858b7b8",
   "metadata": {},
   "outputs": [],
   "source": [
    "import pandas as pd\n",
    "import numpy as np\n",
    "import matplotlib.pyplot as plt\n",
    "import seaborn as sns\n",
    "from statsmodels.tsa.stattools import adfuller\n",
    "from statsmodels.tsa.stattools import coint\n",
    "import scipy.stats as stats\n",
    "import time\n",
    "import stationarity as st\n",
    "\n",
    "import sys\n",
    "sys.path.insert(0, '..')\n",
    "from multiprocess import mp_pandas_obj"
   ]
  },
  {
   "cell_type": "code",
   "execution_count": 11,
   "id": "2ee072b8-f947-4b0f-8cee-1fcb223ee2b9",
   "metadata": {},
   "outputs": [],
   "source": [
    "df = pd.read_csv(\"../data/BTCUSDT-volume-bars.csv\", index_col=0, parse_dates=True)"
   ]
  },
  {
   "cell_type": "code",
   "execution_count": null,
   "id": "1732c1cf-13a2-444b-92cf-37d3c604f028",
   "metadata": {},
   "outputs": [],
   "source": [
    "# indicator = pd.read_csv(\"../data/indicator.csv\", index_col=0, parse_dates=True)\n",
    "indicator = pd.read_csv(\"../data/BTCUSDT-volume-bars-indicators.csv\", index_col=0, parse_dates=True)"
   ]
  },
  {
   "cell_type": "code",
   "execution_count": 12,
   "id": "0b332e20-ef89-4003-bbf1-dce683cce75b",
   "metadata": {},
   "outputs": [
    {
     "data": {
      "text/plain": [
       "[<matplotlib.lines.Line2D at 0x7fc78044d340>]"
      ]
     },
     "execution_count": 12,
     "metadata": {},
     "output_type": "execute_result"
    },
    {
     "data": {
      "image/png": "[encoded data removed]",
      "text/plain": [
       "<Figure size 864x144 with 1 Axes>"
      ]
     },
     "metadata": {
      "needs_background": "light"
     },
     "output_type": "display_data"
    }
   ],
   "source": [
    "a = -605_000\n",
    "b = -595_000\n",
    "\n",
    "fig, ax = plt.subplots(figsize=(12, 2))\n",
    "\n",
    "ax.plot(df.close[a:b])"
   ]
  },
  {
   "cell_type": "code",
   "execution_count": 13,
   "id": "df8ce842-e3f1-479d-bba1-6f9d19674692",
   "metadata": {},
   "outputs": [],
   "source": [
    "df = df[a:b] #Manually select segment (100_000 --> ~ 10 minutes to compute)\n",
    "# indicator = indicator.reindex(df.index)"
   ]
  },
  {
   "cell_type": "code",
   "execution_count": 40,
   "id": "e3ef7990-4f29-4b72-b15f-f4a62f0efc2e",
   "metadata": {},
   "outputs": [
    {
     "data": {
      "text/plain": [
       "Index(['rsi_1000', 'rsi_rate_1000', 'rsi_10000', 'rsi_rate_10000',\n",
       "       'rsi_100000', 'rsi_rate_100000', 'arn_down_1000', 'arn_1000',\n",
       "       'arn_up_1000', 'arn_rate_1000', 'arn_down_rate_1000',\n",
       "       'arn_up_rate_1000', 'arn_down_10000', 'arn_10000', 'arn_up_10000',\n",
       "       'arn_rate_10000', 'arn_down_rate_10000', 'arn_up_rate_10000',\n",
       "       'arn_down_100000', 'arn_100000', 'arn_up_100000', 'arn_rate_100000',\n",
       "       'arn_down_rate_100000', 'arn_up_rate_100000', 'bb_pband_1000',\n",
       "       'bb_wband_1000', 'bb_pband_rate_1000', 'bb_wband_rate_1000',\n",
       "       'bb_pband_10000', 'bb_wband_10000', 'bb_pband_rate_10000',\n",
       "       'bb_wband_rate_10000', 'bb_pband_100000', 'bb_wband_100000',\n",
       "       'bb_pband_rate_100000', 'bb_wband_rate_100000', 'fi_1000',\n",
       "       'fi_rate_1000', 'fi_10000', 'fi_rate_10000', 'fi_100000',\n",
       "       'fi_rate_100000'],\n",
       "      dtype='object')"
      ]
     },
     "execution_count": 40,
     "metadata": {},
     "output_type": "execute_result"
    }
   ],
   "source": [
    "indicator.columns"
   ]
  },
  {
   "cell_type": "code",
   "execution_count": 14,
   "id": "3f6ee998-4259-4cce-9f90-38d054a76cb1",
   "metadata": {},
   "outputs": [
    {
     "data": {
      "text/html": [
       "<div>\n",
       "<style scoped>\n",
       "    .dataframe tbody tr th:only-of-type {\n",
       "        vertical-align: middle;\n",
       "    }\n",
       "\n",
       "    .dataframe tbody tr th {\n",
       "        vertical-align: top;\n",
       "    }\n",
       "\n",
       "    .dataframe thead th {\n",
       "        text-align: right;\n",
       "    }\n",
       "</style>\n",
       "<table border=\"1\" class=\"dataframe\">\n",
       "  <thead>\n",
       "    <tr style=\"text-align: right;\">\n",
       "      <th></th>\n",
       "      <th>open</th>\n",
       "      <th>high</th>\n",
       "      <th>low</th>\n",
       "      <th>close</th>\n",
       "      <th>volume</th>\n",
       "    </tr>\n",
       "    <tr>\n",
       "      <th>time</th>\n",
       "      <th></th>\n",
       "      <th></th>\n",
       "      <th></th>\n",
       "      <th></th>\n",
       "      <th></th>\n",
       "    </tr>\n",
       "  </thead>\n",
       "  <tbody>\n",
       "    <tr>\n",
       "      <th>2021-05-19 11:51:31.177</th>\n",
       "      <td>38388.21</td>\n",
       "      <td>38394.74</td>\n",
       "      <td>38350.01</td>\n",
       "      <td>38378.21</td>\n",
       "      <td>5.026030</td>\n",
       "    </tr>\n",
       "    <tr>\n",
       "      <th>2021-05-19 11:51:32.412</th>\n",
       "      <td>38378.22</td>\n",
       "      <td>38399.99</td>\n",
       "      <td>38350.01</td>\n",
       "      <td>38350.01</td>\n",
       "      <td>5.119459</td>\n",
       "    </tr>\n",
       "    <tr>\n",
       "      <th>2021-05-19 11:51:33.863</th>\n",
       "      <td>38350.00</td>\n",
       "      <td>38397.30</td>\n",
       "      <td>38350.00</td>\n",
       "      <td>38368.22</td>\n",
       "      <td>5.005914</td>\n",
       "    </tr>\n",
       "    <tr>\n",
       "      <th>2021-05-19 11:51:35.379</th>\n",
       "      <td>38362.93</td>\n",
       "      <td>38407.23</td>\n",
       "      <td>38362.93</td>\n",
       "      <td>38380.00</td>\n",
       "      <td>5.015098</td>\n",
       "    </tr>\n",
       "    <tr>\n",
       "      <th>2021-05-19 11:51:36.064</th>\n",
       "      <td>38379.99</td>\n",
       "      <td>38380.00</td>\n",
       "      <td>38341.58</td>\n",
       "      <td>38342.26</td>\n",
       "      <td>5.114943</td>\n",
       "    </tr>\n",
       "    <tr>\n",
       "      <th>...</th>\n",
       "      <td>...</td>\n",
       "      <td>...</td>\n",
       "      <td>...</td>\n",
       "      <td>...</td>\n",
       "      <td>...</td>\n",
       "    </tr>\n",
       "    <tr>\n",
       "      <th>2021-05-19 13:35:54.101</th>\n",
       "      <td>35105.91</td>\n",
       "      <td>35145.13</td>\n",
       "      <td>35070.00</td>\n",
       "      <td>35087.18</td>\n",
       "      <td>5.046057</td>\n",
       "    </tr>\n",
       "    <tr>\n",
       "      <th>2021-05-19 13:35:54.974</th>\n",
       "      <td>35079.19</td>\n",
       "      <td>35121.88</td>\n",
       "      <td>35070.00</td>\n",
       "      <td>35070.00</td>\n",
       "      <td>5.622371</td>\n",
       "    </tr>\n",
       "    <tr>\n",
       "      <th>2021-05-19 13:35:55.797</th>\n",
       "      <td>35091.75</td>\n",
       "      <td>35113.17</td>\n",
       "      <td>35070.00</td>\n",
       "      <td>35086.48</td>\n",
       "      <td>5.001487</td>\n",
       "    </tr>\n",
       "    <tr>\n",
       "      <th>2021-05-19 13:35:56.153</th>\n",
       "      <td>35072.08</td>\n",
       "      <td>35117.96</td>\n",
       "      <td>35070.00</td>\n",
       "      <td>35070.00</td>\n",
       "      <td>18.493053</td>\n",
       "    </tr>\n",
       "    <tr>\n",
       "      <th>2021-05-19 13:35:56.493</th>\n",
       "      <td>35070.00</td>\n",
       "      <td>35075.15</td>\n",
       "      <td>35019.68</td>\n",
       "      <td>35019.68</td>\n",
       "      <td>5.098980</td>\n",
       "    </tr>\n",
       "  </tbody>\n",
       "</table>\n",
       "<p>10000 rows × 5 columns</p>\n",
       "</div>"
      ],
      "text/plain": [
       "                             open      high       low     close     volume\n",
       "time                                                                      \n",
       "2021-05-19 11:51:31.177  38388.21  38394.74  38350.01  38378.21   5.026030\n",
       "2021-05-19 11:51:32.412  38378.22  38399.99  38350.01  38350.01   5.119459\n",
       "2021-05-19 11:51:33.863  38350.00  38397.30  38350.00  38368.22   5.005914\n",
       "2021-05-19 11:51:35.379  38362.93  38407.23  38362.93  38380.00   5.015098\n",
       "2021-05-19 11:51:36.064  38379.99  38380.00  38341.58  38342.26   5.114943\n",
       "...                           ...       ...       ...       ...        ...\n",
       "2021-05-19 13:35:54.101  35105.91  35145.13  35070.00  35087.18   5.046057\n",
       "2021-05-19 13:35:54.974  35079.19  35121.88  35070.00  35070.00   5.622371\n",
       "2021-05-19 13:35:55.797  35091.75  35113.17  35070.00  35086.48   5.001487\n",
       "2021-05-19 13:35:56.153  35072.08  35117.96  35070.00  35070.00  18.493053\n",
       "2021-05-19 13:35:56.493  35070.00  35075.15  35019.68  35019.68   5.098980\n",
       "\n",
       "[10000 rows x 5 columns]"
      ]
     },
     "execution_count": 14,
     "metadata": {},
     "output_type": "execute_result"
    }
   ],
   "source": [
    "df"
   ]
  },
  {
   "cell_type": "code",
   "execution_count": 15,
   "id": "12e47a3f-994e-4c29-88e8-7a69da66e9d5",
   "metadata": {},
   "outputs": [],
   "source": [
    "# Set indicator to be pandas series (ie df.close)\n",
    "ind = df.close"
   ]
  },
  {
   "cell_type": "markdown",
   "id": "964d7665-b7b6-4d29-9a04-3bfee2e8880d",
   "metadata": {},
   "source": [
    "## Form a new series as a cumulative sum of log-amounts"
   ]
  },
  {
   "cell_type": "code",
   "execution_count": 33,
   "id": "c3330a81-6acd-4a8e-8a91-4a2553aa1227",
   "metadata": {},
   "outputs": [],
   "source": [
    "x = np.log(ind).cumsum().rename(\"ind\")\n",
    "# x = ind.cumsum().rename(\"ind\")\n",
    "# x = ind"
   ]
  },
  {
   "cell_type": "code",
   "execution_count": 34,
   "id": "e1c4fa1b-a393-4a66-bc92-7ebbd54b4585",
   "metadata": {},
   "outputs": [
    {
     "data": {
      "image/png": "[encoded data removed]",
      "text/plain": [
       "<Figure size 864x144 with 2 Axes>"
      ]
     },
     "metadata": {
      "needs_background": "light"
     },
     "output_type": "display_data"
    }
   ],
   "source": [
    "fig, ax = plt.subplots(figsize=(12, 2))\n",
    "\n",
    "ax.plot(x, label=\"log cumulative sum\")\n",
    "ax1 = ax.twinx()\n",
    "ax1.plot(ind, label=\"Indicator (close)\", color=\"gray\")\n",
    "ax.set_title(\"Inidicator (close) and log cumulative sum\")\n",
    "ax.legend()\n",
    "ax1.legend();"
   ]
  },
  {
   "cell_type": "markdown",
   "id": "2fead4b3-ba6c-439a-9635-2858f2dda848",
   "metadata": {},
   "source": [
    "## Apply FFD, with `𝜏 = 1E − 5`\n",
    "Purpose:  Determine for what minimum `d ∈ [0, 2]` the new series is stationary."
   ]
  },
  {
   "cell_type": "code",
   "execution_count": 35,
   "id": "19070a38-3dd3-44a1-bcd8-91c473185e2e",
   "metadata": {},
   "outputs": [],
   "source": [
    "def get_optimal_ffd(ds, x, t=1e-5):\n",
    "    \n",
    "    cols = ['adfStat','pVal','lags','nObs','95% conf']#,'corr']\n",
    "    out = pd.DataFrame(columns=cols)\n",
    "    \n",
    "    for d in ds:\n",
    "        print(f\"doing {d} in {ds}\")\n",
    "        try:\n",
    "            #dfx = fracDiff(x.to_frame(),d,thres=1e-5)\n",
    "            dfx = st.frac_diff_ffd(x.to_frame(),d,thres=t)\n",
    "            dfx = adfuller(dfx['ind'], maxlag=1,regression='c',autolag=None)\n",
    "            out.loc[d]=list(dfx[:4])+[dfx[4]['5%']]\n",
    "        except Exception as e:\n",
    "            print(f'{d} error: {e}')\n",
    "            break\n",
    "    return out"
   ]
  },
  {
   "cell_type": "code",
   "execution_count": 88,
   "id": "d84fa7f2-1dec-4ebd-aa1b-82aa4199708b",
   "metadata": {},
   "outputs": [
    {
     "name": "stdout",
     "output_type": "stream",
     "text": [
      "doing 0.1 in [0.1, 0.2, 0.5, 0.8, 0.9, 0.99, 0.999, 0.9999, 1.0]\n",
      "doing 0.2 in [0.1, 0.2, 0.5, 0.8, 0.9, 0.99, 0.999, 0.9999, 1.0]\n",
      "doing 0.5 in [0.1, 0.2, 0.5, 0.8, 0.9, 0.99, 0.999, 0.9999, 1.0]\n",
      "doing 0.8 in [0.1, 0.2, 0.5, 0.8, 0.9, 0.99, 0.999, 0.9999, 1.0]\n",
      "doing 0.9 in [0.1, 0.2, 0.5, 0.8, 0.9, 0.99, 0.999, 0.9999, 1.0]\n",
      "doing 0.99 in [0.1, 0.2, 0.5, 0.8, 0.9, 0.99, 0.999, 0.9999, 1.0]\n",
      "doing 0.999 in [0.1, 0.2, 0.5, 0.8, 0.9, 0.99, 0.999, 0.9999, 1.0]\n",
      "doing 0.9999 in [0.1, 0.2, 0.5, 0.8, 0.9, 0.99, 0.999, 0.9999, 1.0]\n",
      "doing 1.0 in [0.1, 0.2, 0.5, 0.8, 0.9, 0.99, 0.999, 0.9999, 1.0]\n",
      "--------------- Operation took 2.23 minutes ---------------\n"
     ]
    }
   ],
   "source": [
    "# ds = [0.1, 0.2, 0.5, 0.8, 0.9, 1., 1.2, 1.5, 1.8, 1.9, 2]\n",
    "ds = [0.1, 0.2, 0.5, 0.8, 0.9, 0.99, 0.999, 0.9999, 1.0]\n",
    "\n",
    "thres = 1e-5\n",
    "start = time.time()\n",
    "out = get_optimal_ffd(ds, x, thres) \n",
    "print(f\"{'-'*15} Operation took {round((time.time()-start)/60, 2)} minutes {'-'*15}\")"
   ]
  },
  {
   "cell_type": "code",
   "execution_count": 89,
   "id": "4d816dc8-e672-4493-8710-863eab13b831",
   "metadata": {},
   "outputs": [
    {
     "data": {
      "text/html": [
       "<div>\n",
       "<style scoped>\n",
       "    .dataframe tbody tr th:only-of-type {\n",
       "        vertical-align: middle;\n",
       "    }\n",
       "\n",
       "    .dataframe tbody tr th {\n",
       "        vertical-align: top;\n",
       "    }\n",
       "\n",
       "    .dataframe thead th {\n",
       "        text-align: right;\n",
       "    }\n",
       "</style>\n",
       "<table border=\"1\" class=\"dataframe\">\n",
       "  <thead>\n",
       "    <tr style=\"text-align: right;\">\n",
       "      <th></th>\n",
       "      <th>adfStat</th>\n",
       "      <th>pVal</th>\n",
       "      <th>lags</th>\n",
       "      <th>nObs</th>\n",
       "      <th>95% conf</th>\n",
       "    </tr>\n",
       "  </thead>\n",
       "  <tbody>\n",
       "    <tr>\n",
       "      <th>0.1000</th>\n",
       "      <td>5.174046</td>\n",
       "      <td>1.000000</td>\n",
       "      <td>1.0</td>\n",
       "      <td>5923.0</td>\n",
       "      <td>-2.862028</td>\n",
       "    </tr>\n",
       "    <tr>\n",
       "      <th>0.2000</th>\n",
       "      <td>9.282056</td>\n",
       "      <td>1.000000</td>\n",
       "      <td>1.0</td>\n",
       "      <td>6617.0</td>\n",
       "      <td>-2.861977</td>\n",
       "    </tr>\n",
       "    <tr>\n",
       "      <th>0.5000</th>\n",
       "      <td>13.971924</td>\n",
       "      <td>1.000000</td>\n",
       "      <td>1.0</td>\n",
       "      <td>9072.0</td>\n",
       "      <td>-2.861859</td>\n",
       "    </tr>\n",
       "    <tr>\n",
       "      <th>0.8000</th>\n",
       "      <td>3.209933</td>\n",
       "      <td>1.000000</td>\n",
       "      <td>1.0</td>\n",
       "      <td>9771.0</td>\n",
       "      <td>-2.861836</td>\n",
       "    </tr>\n",
       "    <tr>\n",
       "      <th>0.9000</th>\n",
       "      <td>1.547329</td>\n",
       "      <td>0.997691</td>\n",
       "      <td>1.0</td>\n",
       "      <td>9874.0</td>\n",
       "      <td>-2.861833</td>\n",
       "    </tr>\n",
       "    <tr>\n",
       "      <th>0.9900</th>\n",
       "      <td>0.650517</td>\n",
       "      <td>0.988797</td>\n",
       "      <td>1.0</td>\n",
       "      <td>9966.0</td>\n",
       "      <td>-2.861830</td>\n",
       "    </tr>\n",
       "    <tr>\n",
       "      <th>0.9990</th>\n",
       "      <td>0.351155</td>\n",
       "      <td>0.979574</td>\n",
       "      <td>1.0</td>\n",
       "      <td>9988.0</td>\n",
       "      <td>-2.861829</td>\n",
       "    </tr>\n",
       "    <tr>\n",
       "      <th>0.9999</th>\n",
       "      <td>-0.134490</td>\n",
       "      <td>0.945893</td>\n",
       "      <td>1.0</td>\n",
       "      <td>9995.0</td>\n",
       "      <td>-2.861829</td>\n",
       "    </tr>\n",
       "    <tr>\n",
       "      <th>1.0000</th>\n",
       "      <td>-2.765830</td>\n",
       "      <td>0.063323</td>\n",
       "      <td>1.0</td>\n",
       "      <td>9997.0</td>\n",
       "      <td>-2.861829</td>\n",
       "    </tr>\n",
       "  </tbody>\n",
       "</table>\n",
       "</div>"
      ],
      "text/plain": [
       "          adfStat      pVal  lags    nObs  95% conf\n",
       "0.1000   5.174046  1.000000   1.0  5923.0 -2.862028\n",
       "0.2000   9.282056  1.000000   1.0  6617.0 -2.861977\n",
       "0.5000  13.971924  1.000000   1.0  9072.0 -2.861859\n",
       "0.8000   3.209933  1.000000   1.0  9771.0 -2.861836\n",
       "0.9000   1.547329  0.997691   1.0  9874.0 -2.861833\n",
       "0.9900   0.650517  0.988797   1.0  9966.0 -2.861830\n",
       "0.9990   0.351155  0.979574   1.0  9988.0 -2.861829\n",
       "0.9999  -0.134490  0.945893   1.0  9995.0 -2.861829\n",
       "1.0000  -2.765830  0.063323   1.0  9997.0 -2.861829"
      ]
     },
     "execution_count": 89,
     "metadata": {},
     "output_type": "execute_result"
    }
   ],
   "source": [
    "out"
   ]
  },
  {
   "cell_type": "code",
   "execution_count": 90,
   "id": "08e5f19e-8238-4fc7-96c6-8fb7bbb29e56",
   "metadata": {},
   "outputs": [
    {
     "data": {
      "image/png": "[encoded data removed]",
      "text/plain": [
       "<Figure size 864x288 with 1 Axes>"
      ]
     },
     "metadata": {
      "needs_background": "light"
     },
     "output_type": "display_data"
    }
   ],
   "source": [
    "fig,ax=plt.subplots(figsize=(12, 4))\n",
    "out['adfStat'].plot(ax=ax, marker=\"X\", markersize=10)\n",
    "ax.axhline(out['95% conf'].mean(),lw=1,color='r',ls='dotted')\n",
    "ax.set_title(f'min d with thresh={thres}')\n",
    "ax.set_xlabel('d values')\n",
    "ax.set_ylabel('adf stat');"
   ]
  },
  {
   "cell_type": "code",
   "execution_count": null,
   "id": "6b9eb485-b0c8-402d-8856-dcbb0ce60cda",
   "metadata": {},
   "outputs": [],
   "source": [
    "min_ffd = out[out.pVal < 0.05].iloc[0].name\n",
    "min_ffd"
   ]
  },
  {
   "cell_type": "markdown",
   "id": "1bf33443-0930-4c2a-804f-21b5fc8dad4d",
   "metadata": {},
   "source": [
    "**Augmented Dickey–Fuller test (ADF stat)**\n",
    "- Null hypothesis: Time series (non-stationary)\n",
    "- Alternate hypothesis: Stationary\n",
    "\n",
    "The ADF statistic: The more negative it is, the stronger the rejection of null the hypothesis.\n",
    "\n",
    "If p-val < 0.05, then reject null hypothesis"
   ]
  },
  {
   "cell_type": "markdown",
   "id": "d2848241-92a7-4a49-83d8-62738e15acd7",
   "metadata": {},
   "source": [
    "## Correlation of the fracdiff series to the original (untransformed) series"
   ]
  },
  {
   "cell_type": "code",
   "execution_count": 46,
   "id": "d5f10046-8deb-437b-ae39-3399f120888d",
   "metadata": {},
   "outputs": [],
   "source": [
    "dfx2 = st.frac_diff_ffd(x.to_frame(),1.,thres=1e-5) #x.to_frame() or df.close.to_frame()"
   ]
  },
  {
   "cell_type": "code",
   "execution_count": 47,
   "id": "ba04a813-4bfa-42a3-b319-e6bb20d254a9",
   "metadata": {},
   "outputs": [
    {
     "data": {
      "text/html": [
       "<div>\n",
       "<style scoped>\n",
       "    .dataframe tbody tr th:only-of-type {\n",
       "        vertical-align: middle;\n",
       "    }\n",
       "\n",
       "    .dataframe tbody tr th {\n",
       "        vertical-align: top;\n",
       "    }\n",
       "\n",
       "    .dataframe thead th {\n",
       "        text-align: right;\n",
       "    }\n",
       "</style>\n",
       "<table border=\"1\" class=\"dataframe\">\n",
       "  <thead>\n",
       "    <tr style=\"text-align: right;\">\n",
       "      <th></th>\n",
       "      <th>ind</th>\n",
       "      <th>original</th>\n",
       "    </tr>\n",
       "  </thead>\n",
       "  <tbody>\n",
       "    <tr>\n",
       "      <th>ind</th>\n",
       "      <td>1.000000</td>\n",
       "      <td>0.999414</td>\n",
       "    </tr>\n",
       "    <tr>\n",
       "      <th>original</th>\n",
       "      <td>0.999414</td>\n",
       "      <td>1.000000</td>\n",
       "    </tr>\n",
       "  </tbody>\n",
       "</table>\n",
       "</div>"
      ],
      "text/plain": [
       "               ind  original\n",
       "ind       1.000000  0.999414\n",
       "original  0.999414  1.000000"
      ]
     },
     "execution_count": 47,
     "metadata": {},
     "output_type": "execute_result"
    }
   ],
   "source": [
    "joined = dfx2.join(ind.rename('original'), how='left') \n",
    "joined.corr()"
   ]
  },
  {
   "cell_type": "code",
   "execution_count": 48,
   "id": "987a3bc4-87c2-4977-902d-f9a1432bb76a",
   "metadata": {},
   "outputs": [
    {
     "data": {
      "image/png": "[encoded data removed]",
      "text/plain": [
       "<Figure size 864x288 with 2 Axes>"
      ]
     },
     "metadata": {
      "needs_background": "light"
     },
     "output_type": "display_data"
    }
   ],
   "source": [
    "fig, ax = plt.subplots(figsize=(12, 4))\n",
    "\n",
    "ax.plot(dfx2, alpha=.5, label=\"fractionally differentiated\")\n",
    "ax1 = ax.twinx()\n",
    "ax1.plot(ind, color=\"gray\", alpha=.75, label=\"original\")\n",
    "ax.legend()\n",
    "ax1.legend();"
   ]
  },
  {
   "cell_type": "code",
   "execution_count": 49,
   "id": "de89c63b-18ef-42cc-8314-cb6bc7d6ac4c",
   "metadata": {},
   "outputs": [
    {
     "data": {
      "text/plain": [
       "(-1.504528664837667,\n",
       " 0.5312698954391293,\n",
       " 37,\n",
       " 9961,\n",
       " {'1%': -3.4310066595695945,\n",
       "  '5%': -2.861830204343065,\n",
       "  '10%': -2.5669244706354584},\n",
       " -86194.49281880358)"
      ]
     },
     "execution_count": 49,
     "metadata": {},
     "output_type": "execute_result"
    }
   ],
   "source": [
    "adfuller(dfx2)"
   ]
  },
  {
   "cell_type": "markdown",
   "id": "27c6dc7a-8b91-4357-9282-313404c5f899",
   "metadata": {},
   "source": [
    "## Engel-Granger cointegration test on the original and fracdiff series\n",
    "- Null hypothesis: No cointegration exists (non-stationary)\n",
    "- Alternate hypothesis: Cointegrated (stationary)\n",
    "\n",
    "Results:\n",
    "- coint_t : The t-statistic of unit-root test on residuals.\n",
    "- pvalue : MacKinnon\"s approximate, asymptotic p-value based on MacKinnon (1994).\n",
    "- crit_value : Critical values for the test statistic at the 1 %, 5 %, and 10 %\n",
    "    levels based on regression curve. This depends on the number of\n",
    "    observations."
   ]
  },
  {
   "cell_type": "code",
   "execution_count": 149,
   "id": "7de9bfba-003f-4ea7-af3d-84b62a86928f",
   "metadata": {},
   "outputs": [
    {
     "data": {
      "text/plain": [
       "(-3.684421635951252,\n",
       " 0.019187597994789623,\n",
       " array([-3.89785828, -3.33692107, -3.04499907]))"
      ]
     },
     "execution_count": 149,
     "metadata": {},
     "output_type": "execute_result"
    }
   ],
   "source": [
    "coint(joined.close, joined.original)"
   ]
  },
  {
   "cell_type": "markdown",
   "id": "521d2d18-20c6-487b-91b7-5a271b6388bb",
   "metadata": {},
   "source": [
    "## Jarque-Bera normality test\n",
    "The Jarque-Bera test tests whether the sample data has the skewness and\n",
    "kurtosis matching a normal distribution.\n",
    "\n",
    "The test statistic is always nonnegative. If it is far from zero, it signals the data do not have a normal distribution.\n"
   ]
  },
  {
   "cell_type": "code",
   "execution_count": 150,
   "id": "656b1219-aecb-4633-8843-651e4ae33671",
   "metadata": {},
   "outputs": [
    {
     "data": {
      "text/plain": [
       "Jarque_beraResult(statistic=834.7349735106567, pvalue=0.0)"
      ]
     },
     "execution_count": 150,
     "metadata": {},
     "output_type": "execute_result"
    }
   ],
   "source": [
    "stats.jarque_bera(dfx2)"
   ]
  },
  {
   "cell_type": "markdown",
   "id": "a5de3ff5-dbf2-4b87-8b0f-d03945469a05",
   "metadata": {},
   "source": [
    "## Result"
   ]
  },
  {
   "cell_type": "code",
   "execution_count": 151,
   "id": "d7fd9e4e-27b6-495e-b3ac-6211bc5ba036",
   "metadata": {},
   "outputs": [
    {
     "name": "stdout",
     "output_type": "stream",
     "text": [
      "d = 0.5, threshold = 1e-05\n"
     ]
    }
   ],
   "source": [
    "print(f\"d = {min_ffd}, threshold = {thres}\")"
   ]
  },
  {
   "cell_type": "code",
   "execution_count": null,
   "id": "723f269c-5ae7-4d03-9e5d-e19e4827ce1f",
   "metadata": {},
   "outputs": [],
   "source": []
  }
 ],
 "metadata": {
  "kernelspec": {
   "display_name": "Python 3",
   "language": "python",
   "name": "python3"
  },
  "language_info": {
   "codemirror_mode": {
    "name": "ipython",
    "version": 3
   },
   "file_extension": ".py",
   "mimetype": "text/x-python",
   "name": "python",
   "nbconvert_exporter": "python",
   "pygments_lexer": "ipython3",
   "version": "3.9.4"
  }
 },
 "nbformat": 4,
 "nbformat_minor": 5
}
