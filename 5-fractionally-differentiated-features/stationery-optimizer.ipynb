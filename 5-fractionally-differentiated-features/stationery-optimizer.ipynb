{
 "cells": [
  {
   "cell_type": "markdown",
   "id": "a5d998c7-577c-4102-b942-6b65766ce6cb",
   "metadata": {},
   "source": [
    "# Optimizer"
   ]
  },
  {
   "cell_type": "code",
   "execution_count": 2,
   "id": "c1c2562b-d679-470c-b913-0b5173d057a6",
   "metadata": {},
   "outputs": [],
   "source": [
    "import pandas as pd\n",
    "import numpy as np\n",
    "import matplotlib.pyplot as plt\n",
    "import seaborn as sns\n",
    "from statsmodels.tsa.stattools import adfuller\n",
    "from statsmodels.tsa.stattools import coint\n",
    "import scipy.stats as stats\n",
    "import time\n",
    "import stationarity as st\n",
    "\n",
    "import sys\n",
    "sys.path.insert(0, '..')\n",
    "from multiprocess import mp_pandas_obj"
   ]
  },
  {
   "cell_type": "code",
   "execution_count": 3,
   "id": "5bcd7c93-5b72-4ea3-bc46-83985d3c58a1",
   "metadata": {},
   "outputs": [],
   "source": [
    "df = pd.read_csv(\"../data/BTCUSDT-volume-bars.csv\", index_col=0, parse_dates=True)"
   ]
  },
  {
   "cell_type": "code",
   "execution_count": 13,
   "id": "7fca4e5c-27f0-45ba-acfc-268e912a479f",
   "metadata": {},
   "outputs": [
    {
     "data": {
      "text/plain": [
       "<AxesSubplot:xlabel='time'>"
      ]
     },
     "execution_count": 13,
     "metadata": {},
     "output_type": "execute_result"
    },
    {
     "data": {
      "image/png": "[encoded data removed]",
      "text/plain": [
       "<Figure size 432x288 with 1 Axes>"
      ]
     },
     "metadata": {
      "needs_background": "light"
     },
     "output_type": "display_data"
    }
   ],
   "source": [
    "df[8_950_000:9_150_000].close.plot()"
   ]
  },
  {
   "cell_type": "code",
   "execution_count": 14,
   "id": "d3af45dd-320c-4b10-a5ec-3f25cccd164b",
   "metadata": {},
   "outputs": [],
   "source": [
    "# df = df[-1_000_000:-990_000]\n",
    "df = df[8_950_000:9_150_000]"
   ]
  },
  {
   "cell_type": "code",
   "execution_count": 15,
   "id": "eed69762-a0c9-4b76-8b5e-5a22bd1732dd",
   "metadata": {},
   "outputs": [
    {
     "data": {
      "text/html": [
       "<div>\n",
       "<style scoped>\n",
       "    .dataframe tbody tr th:only-of-type {\n",
       "        vertical-align: middle;\n",
       "    }\n",
       "\n",
       "    .dataframe tbody tr th {\n",
       "        vertical-align: top;\n",
       "    }\n",
       "\n",
       "    .dataframe thead th {\n",
       "        text-align: right;\n",
       "    }\n",
       "</style>\n",
       "<table border=\"1\" class=\"dataframe\">\n",
       "  <thead>\n",
       "    <tr style=\"text-align: right;\">\n",
       "      <th></th>\n",
       "      <th>open</th>\n",
       "      <th>high</th>\n",
       "      <th>low</th>\n",
       "      <th>close</th>\n",
       "      <th>volume</th>\n",
       "    </tr>\n",
       "    <tr>\n",
       "      <th>time</th>\n",
       "      <th></th>\n",
       "      <th></th>\n",
       "      <th></th>\n",
       "      <th></th>\n",
       "      <th></th>\n",
       "    </tr>\n",
       "  </thead>\n",
       "  <tbody>\n",
       "    <tr>\n",
       "      <th>2020-12-23 07:04:26.775</th>\n",
       "      <td>23479.80</td>\n",
       "      <td>23479.81</td>\n",
       "      <td>23467.50</td>\n",
       "      <td>23467.51</td>\n",
       "      <td>5.150537</td>\n",
       "    </tr>\n",
       "    <tr>\n",
       "      <th>2020-12-23 07:04:34.251</th>\n",
       "      <td>23467.50</td>\n",
       "      <td>23480.14</td>\n",
       "      <td>23467.50</td>\n",
       "      <td>23476.70</td>\n",
       "      <td>5.030981</td>\n",
       "    </tr>\n",
       "    <tr>\n",
       "      <th>2020-12-23 07:04:44.745</th>\n",
       "      <td>23476.70</td>\n",
       "      <td>23476.70</td>\n",
       "      <td>23461.63</td>\n",
       "      <td>23461.63</td>\n",
       "      <td>5.020856</td>\n",
       "    </tr>\n",
       "    <tr>\n",
       "      <th>2020-12-23 07:04:54.027</th>\n",
       "      <td>23461.63</td>\n",
       "      <td>23467.92</td>\n",
       "      <td>23461.63</td>\n",
       "      <td>23463.73</td>\n",
       "      <td>5.003206</td>\n",
       "    </tr>\n",
       "    <tr>\n",
       "      <th>2020-12-23 07:04:59.219</th>\n",
       "      <td>23463.73</td>\n",
       "      <td>23487.32</td>\n",
       "      <td>23463.72</td>\n",
       "      <td>23486.40</td>\n",
       "      <td>5.102689</td>\n",
       "    </tr>\n",
       "    <tr>\n",
       "      <th>...</th>\n",
       "      <td>...</td>\n",
       "      <td>...</td>\n",
       "      <td>...</td>\n",
       "      <td>...</td>\n",
       "      <td>...</td>\n",
       "    </tr>\n",
       "    <tr>\n",
       "      <th>2021-01-04 07:47:53.579</th>\n",
       "      <td>31944.26</td>\n",
       "      <td>31999.99</td>\n",
       "      <td>31937.84</td>\n",
       "      <td>31999.99</td>\n",
       "      <td>5.007238</td>\n",
       "    </tr>\n",
       "    <tr>\n",
       "      <th>2021-01-04 07:47:55.434</th>\n",
       "      <td>32000.00</td>\n",
       "      <td>32000.00</td>\n",
       "      <td>31995.41</td>\n",
       "      <td>32000.00</td>\n",
       "      <td>5.004827</td>\n",
       "    </tr>\n",
       "    <tr>\n",
       "      <th>2021-01-04 07:47:58.805</th>\n",
       "      <td>32000.00</td>\n",
       "      <td>32000.00</td>\n",
       "      <td>31999.99</td>\n",
       "      <td>32000.00</td>\n",
       "      <td>5.355310</td>\n",
       "    </tr>\n",
       "    <tr>\n",
       "      <th>2021-01-04 07:48:01.622</th>\n",
       "      <td>32000.00</td>\n",
       "      <td>32000.00</td>\n",
       "      <td>31999.67</td>\n",
       "      <td>31999.68</td>\n",
       "      <td>5.061896</td>\n",
       "    </tr>\n",
       "    <tr>\n",
       "      <th>2021-01-04 07:48:02.351</th>\n",
       "      <td>31999.68</td>\n",
       "      <td>32000.00</td>\n",
       "      <td>31999.68</td>\n",
       "      <td>32000.00</td>\n",
       "      <td>7.909303</td>\n",
       "    </tr>\n",
       "  </tbody>\n",
       "</table>\n",
       "<p>200000 rows × 5 columns</p>\n",
       "</div>"
      ],
      "text/plain": [
       "                             open      high       low     close    volume\n",
       "time                                                                     \n",
       "2020-12-23 07:04:26.775  23479.80  23479.81  23467.50  23467.51  5.150537\n",
       "2020-12-23 07:04:34.251  23467.50  23480.14  23467.50  23476.70  5.030981\n",
       "2020-12-23 07:04:44.745  23476.70  23476.70  23461.63  23461.63  5.020856\n",
       "2020-12-23 07:04:54.027  23461.63  23467.92  23461.63  23463.73  5.003206\n",
       "2020-12-23 07:04:59.219  23463.73  23487.32  23463.72  23486.40  5.102689\n",
       "...                           ...       ...       ...       ...       ...\n",
       "2021-01-04 07:47:53.579  31944.26  31999.99  31937.84  31999.99  5.007238\n",
       "2021-01-04 07:47:55.434  32000.00  32000.00  31995.41  32000.00  5.004827\n",
       "2021-01-04 07:47:58.805  32000.00  32000.00  31999.99  32000.00  5.355310\n",
       "2021-01-04 07:48:01.622  32000.00  32000.00  31999.67  31999.68  5.061896\n",
       "2021-01-04 07:48:02.351  31999.68  32000.00  31999.68  32000.00  7.909303\n",
       "\n",
       "[200000 rows x 5 columns]"
      ]
     },
     "execution_count": 15,
     "metadata": {},
     "output_type": "execute_result"
    }
   ],
   "source": [
    "df"
   ]
  },
  {
   "cell_type": "code",
   "execution_count": 89,
   "id": "9bd73687-7010-4566-b705-d38b581c5817",
   "metadata": {},
   "outputs": [],
   "source": [
    "ind = df.close"
   ]
  },
  {
   "cell_type": "code",
   "execution_count": 67,
   "id": "485bb00e-09d7-43a2-b789-476166d4ae18",
   "metadata": {},
   "outputs": [
    {
     "data": {
      "text/plain": [
       "[3, 2, 1]"
      ]
     },
     "execution_count": 67,
     "metadata": {},
     "output_type": "execute_result"
    }
   ],
   "source": [
    "list(range(1, 4))[::-1]"
   ]
  },
  {
   "cell_type": "code",
   "execution_count": 91,
   "id": "15a23f4a-60b9-4e5e-bf34-d81b8d36458b",
   "metadata": {},
   "outputs": [
    {
     "data": {
      "text/plain": [
       "3.33"
      ]
     },
     "execution_count": 91,
     "metadata": {},
     "output_type": "execute_result"
    }
   ],
   "source": [
    "round(np.mean([3, 5, 2]), 2)"
   ]
  },
  {
   "cell_type": "code",
   "execution_count": 104,
   "id": "1b6ae551-c6d3-40fd-953e-a676090c2efe",
   "metadata": {},
   "outputs": [
    {
     "data": {
      "text/plain": [
       "2.0"
      ]
     },
     "execution_count": 104,
     "metadata": {},
     "output_type": "execute_result"
    }
   ],
   "source": [
    "np.sqrt(4)"
   ]
  },
  {
   "cell_type": "code",
   "execution_count": 141,
   "id": "c0057dbc-1d9b-4cca-b53b-b0e8c53dd72d",
   "metadata": {},
   "outputs": [
    {
     "name": "stdout",
     "output_type": "stream",
     "text": [
      "finished loop 5 in 488.62 seconds\n",
      "finished loop 4 in 381.21 seconds\n",
      "finished loop 3 in 384.04 seconds\n",
      "finished loop 2 in 378.15 seconds\n",
      "d_list is [0.13], p_list is [0.0409]\n"
     ]
    },
    {
     "data": {
      "text/plain": [
       "0.13"
      ]
     },
     "execution_count": 141,
     "metadata": {},
     "output_type": "execute_result"
    }
   ],
   "source": [
    "d_list = []\n",
    "p_list = []\n",
    "for s in [-607_000]: #-1_000_000, -640_000, \n",
    "    x = ind[s-40_000:s+50_000]\n",
    "    d = 0.30\n",
    "    p = -1\n",
    "    for i in list(range(1, 6))[::-1]:\n",
    "        start = time.time()\n",
    "        new_ind = st.frac_diff_ffd(x.to_frame(),d,thres=1e-5) \n",
    "        p = adfuller(new_ind)[1]\n",
    "        m = 1\n",
    "        print(f\"finished loop {i} in {round(time.time()-start, 2)} seconds\")\n",
    "        if p > 0.05:\n",
    "            if p>0.9:\n",
    "                m = 3\n",
    "            elif p>0.5:\n",
    "                m = 2\n",
    "            d += i*m/100\n",
    "#             print(f\"d is now {d}\")\n",
    "        elif p < 0.03:\n",
    "            if p<1e-6:\n",
    "                m = 3\n",
    "            elif p<1e-4:\n",
    "                m = 2\n",
    "            d -= i*m/100\n",
    "#             print(f\"d is now {d}\")\n",
    "        else:\n",
    "#             print(f\"p, {p}, is perfect\")\n",
    "            break\n",
    "    d_list.append(round(d, 2))\n",
    "    p_list.append(round(p, 4))\n",
    "    print(f\"d_list is {d_list}, p_list is {p_list}\")\n",
    "round(np.mean(d_list), 2)\n"
   ]
  },
  {
   "cell_type": "code",
   "execution_count": 16,
   "id": "b42cd887-43a5-4e46-b50e-b8620d3b2be5",
   "metadata": {},
   "outputs": [
    {
     "name": "stdout",
     "output_type": "stream",
     "text": [
      "1852.9291200637817\n"
     ]
    }
   ],
   "source": [
    "start = time.time()\n",
    "new_ind = st.frac_diff_ffd(df.close.to_frame(),0.15,thres=1e-5) \n",
    "print(time.time()-start)"
   ]
  },
  {
   "cell_type": "code",
   "execution_count": 17,
   "id": "ce1cc3f2-0641-4768-9517-6d2a0cc88d93",
   "metadata": {},
   "outputs": [
    {
     "data": {
      "text/plain": [
       "0.424139493518664"
      ]
     },
     "execution_count": 17,
     "metadata": {},
     "output_type": "execute_result"
    }
   ],
   "source": [
    "adfuller(new_ind)[1]"
   ]
  },
  {
   "cell_type": "code",
   "execution_count": null,
   "id": "40292359-377a-46c2-8560-9d19be48e511",
   "metadata": {},
   "outputs": [],
   "source": []
  }
 ],
 "metadata": {
  "kernelspec": {
   "display_name": "Python 3",
   "language": "python",
   "name": "python3"
  },
  "language_info": {
   "codemirror_mode": {
    "name": "ipython",
    "version": 3
   },
   "file_extension": ".py",
   "mimetype": "text/x-python",
   "name": "python",
   "nbconvert_exporter": "python",
   "pygments_lexer": "ipython3",
   "version": "3.9.4"
  }
 },
 "nbformat": 4,
 "nbformat_minor": 5
}
