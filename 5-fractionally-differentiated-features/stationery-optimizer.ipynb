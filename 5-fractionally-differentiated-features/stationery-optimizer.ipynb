{
 "cells": [
  {
   "cell_type": "markdown",
   "id": "a5d998c7-577c-4102-b942-6b65766ce6cb",
   "metadata": {},
   "source": [
    "# Optimizer"
   ]
  },
  {
   "cell_type": "code",
   "execution_count": 1,
   "id": "c1c2562b-d679-470c-b913-0b5173d057a6",
   "metadata": {},
   "outputs": [],
   "source": [
    "import pandas as pd\n",
    "import numpy as np\n",
    "import matplotlib.pyplot as plt\n",
    "import seaborn as sns\n",
    "from statsmodels.tsa.stattools import adfuller\n",
    "from statsmodels.tsa.stattools import coint\n",
    "import scipy.stats as stats\n",
    "import time\n",
    "import stationarity as st\n",
    "\n",
    "import sys\n",
    "sys.path.insert(0, '..')\n",
    "from multiprocess import mp_pandas_obj"
   ]
  },
  {
   "cell_type": "code",
   "execution_count": 2,
   "id": "5bcd7c93-5b72-4ea3-bc46-83985d3c58a1",
   "metadata": {},
   "outputs": [],
   "source": [
    "df = pd.read_csv(\"../data/BTCUSDT-volume-bars.csv\", index_col=0, parse_dates=True)"
   ]
  },
  {
   "cell_type": "code",
   "execution_count": 3,
   "id": "7fca4e5c-27f0-45ba-acfc-268e912a479f",
   "metadata": {},
   "outputs": [
    {
     "data": {
      "text/plain": [
       "<AxesSubplot:xlabel='time'>"
      ]
     },
     "execution_count": 3,
     "metadata": {},
     "output_type": "execute_result"
    },
    {
     "data": {
      "image/png": "[encoded data removed]",
      "text/plain": [
       "<Figure size 432x288 with 1 Axes>"
      ]
     },
     "metadata": {
      "needs_background": "light"
     },
     "output_type": "display_data"
    }
   ],
   "source": [
    "df[8_900_000:9_200_000].close.plot()"
   ]
  },
  {
   "cell_type": "code",
   "execution_count": 4,
   "id": "d3af45dd-320c-4b10-a5ec-3f25cccd164b",
   "metadata": {},
   "outputs": [],
   "source": [
    "# df = df[-1_000_000:-990_000]\n",
    "df = df[8_900_000:9_200_000]"
   ]
  },
  {
   "cell_type": "code",
   "execution_count": 5,
   "id": "eed69762-a0c9-4b76-8b5e-5a22bd1732dd",
   "metadata": {},
   "outputs": [
    {
     "data": {
      "text/html": [
       "<div>\n",
       "<style scoped>\n",
       "    .dataframe tbody tr th:only-of-type {\n",
       "        vertical-align: middle;\n",
       "    }\n",
       "\n",
       "    .dataframe tbody tr th {\n",
       "        vertical-align: top;\n",
       "    }\n",
       "\n",
       "    .dataframe thead th {\n",
       "        text-align: right;\n",
       "    }\n",
       "</style>\n",
       "<table border=\"1\" class=\"dataframe\">\n",
       "  <thead>\n",
       "    <tr style=\"text-align: right;\">\n",
       "      <th></th>\n",
       "      <th>open</th>\n",
       "      <th>high</th>\n",
       "      <th>low</th>\n",
       "      <th>close</th>\n",
       "      <th>volume</th>\n",
       "    </tr>\n",
       "    <tr>\n",
       "      <th>time</th>\n",
       "      <th></th>\n",
       "      <th></th>\n",
       "      <th></th>\n",
       "      <th></th>\n",
       "      <th></th>\n",
       "    </tr>\n",
       "  </thead>\n",
       "  <tbody>\n",
       "    <tr>\n",
       "      <th>2020-12-19 20:56:11.621</th>\n",
       "      <td>23901.48</td>\n",
       "      <td>23901.49</td>\n",
       "      <td>23901.48</td>\n",
       "      <td>23901.48</td>\n",
       "      <td>5.049209</td>\n",
       "    </tr>\n",
       "    <tr>\n",
       "      <th>2020-12-19 20:56:29.634</th>\n",
       "      <td>23901.48</td>\n",
       "      <td>23909.29</td>\n",
       "      <td>23901.48</td>\n",
       "      <td>23909.29</td>\n",
       "      <td>5.071554</td>\n",
       "    </tr>\n",
       "    <tr>\n",
       "      <th>2020-12-19 20:56:34.917</th>\n",
       "      <td>23909.30</td>\n",
       "      <td>23909.35</td>\n",
       "      <td>23903.91</td>\n",
       "      <td>23907.86</td>\n",
       "      <td>5.424907</td>\n",
       "    </tr>\n",
       "    <tr>\n",
       "      <th>2020-12-19 20:56:52.206</th>\n",
       "      <td>23907.86</td>\n",
       "      <td>23907.87</td>\n",
       "      <td>23907.86</td>\n",
       "      <td>23907.86</td>\n",
       "      <td>5.264295</td>\n",
       "    </tr>\n",
       "    <tr>\n",
       "      <th>2020-12-19 20:57:03.769</th>\n",
       "      <td>23907.87</td>\n",
       "      <td>23907.87</td>\n",
       "      <td>23901.75</td>\n",
       "      <td>23901.75</td>\n",
       "      <td>5.183816</td>\n",
       "    </tr>\n",
       "    <tr>\n",
       "      <th>...</th>\n",
       "      <td>...</td>\n",
       "      <td>...</td>\n",
       "      <td>...</td>\n",
       "      <td>...</td>\n",
       "      <td>...</td>\n",
       "    </tr>\n",
       "    <tr>\n",
       "      <th>2021-01-06 12:49:17.515</th>\n",
       "      <td>34619.99</td>\n",
       "      <td>34620.00</td>\n",
       "      <td>34615.42</td>\n",
       "      <td>34620.00</td>\n",
       "      <td>11.712928</td>\n",
       "    </tr>\n",
       "    <tr>\n",
       "      <th>2021-01-06 12:49:24.151</th>\n",
       "      <td>34621.97</td>\n",
       "      <td>34633.91</td>\n",
       "      <td>34620.01</td>\n",
       "      <td>34633.03</td>\n",
       "      <td>5.265713</td>\n",
       "    </tr>\n",
       "    <tr>\n",
       "      <th>2021-01-06 12:49:32.426</th>\n",
       "      <td>34633.04</td>\n",
       "      <td>34649.55</td>\n",
       "      <td>34633.02</td>\n",
       "      <td>34646.55</td>\n",
       "      <td>5.334882</td>\n",
       "    </tr>\n",
       "    <tr>\n",
       "      <th>2021-01-06 12:49:33.547</th>\n",
       "      <td>34646.55</td>\n",
       "      <td>34650.00</td>\n",
       "      <td>34646.55</td>\n",
       "      <td>34650.00</td>\n",
       "      <td>5.448540</td>\n",
       "    </tr>\n",
       "    <tr>\n",
       "      <th>2021-01-06 12:49:33.589</th>\n",
       "      <td>34650.00</td>\n",
       "      <td>34650.00</td>\n",
       "      <td>34649.99</td>\n",
       "      <td>34650.00</td>\n",
       "      <td>5.105711</td>\n",
       "    </tr>\n",
       "  </tbody>\n",
       "</table>\n",
       "<p>300000 rows × 5 columns</p>\n",
       "</div>"
      ],
      "text/plain": [
       "                             open      high       low     close     volume\n",
       "time                                                                      \n",
       "2020-12-19 20:56:11.621  23901.48  23901.49  23901.48  23901.48   5.049209\n",
       "2020-12-19 20:56:29.634  23901.48  23909.29  23901.48  23909.29   5.071554\n",
       "2020-12-19 20:56:34.917  23909.30  23909.35  23903.91  23907.86   5.424907\n",
       "2020-12-19 20:56:52.206  23907.86  23907.87  23907.86  23907.86   5.264295\n",
       "2020-12-19 20:57:03.769  23907.87  23907.87  23901.75  23901.75   5.183816\n",
       "...                           ...       ...       ...       ...        ...\n",
       "2021-01-06 12:49:17.515  34619.99  34620.00  34615.42  34620.00  11.712928\n",
       "2021-01-06 12:49:24.151  34621.97  34633.91  34620.01  34633.03   5.265713\n",
       "2021-01-06 12:49:32.426  34633.04  34649.55  34633.02  34646.55   5.334882\n",
       "2021-01-06 12:49:33.547  34646.55  34650.00  34646.55  34650.00   5.448540\n",
       "2021-01-06 12:49:33.589  34650.00  34650.00  34649.99  34650.00   5.105711\n",
       "\n",
       "[300000 rows x 5 columns]"
      ]
     },
     "execution_count": 5,
     "metadata": {},
     "output_type": "execute_result"
    }
   ],
   "source": [
    "df"
   ]
  },
  {
   "cell_type": "code",
   "execution_count": 89,
   "id": "9bd73687-7010-4566-b705-d38b581c5817",
   "metadata": {},
   "outputs": [],
   "source": [
    "ind = df.close"
   ]
  },
  {
   "cell_type": "code",
   "execution_count": 67,
   "id": "485bb00e-09d7-43a2-b789-476166d4ae18",
   "metadata": {},
   "outputs": [
    {
     "data": {
      "text/plain": [
       "[3, 2, 1]"
      ]
     },
     "execution_count": 67,
     "metadata": {},
     "output_type": "execute_result"
    }
   ],
   "source": [
    "list(range(1, 4))[::-1]"
   ]
  },
  {
   "cell_type": "code",
   "execution_count": 91,
   "id": "15a23f4a-60b9-4e5e-bf34-d81b8d36458b",
   "metadata": {},
   "outputs": [
    {
     "data": {
      "text/plain": [
       "3.33"
      ]
     },
     "execution_count": 91,
     "metadata": {},
     "output_type": "execute_result"
    }
   ],
   "source": [
    "round(np.mean([3, 5, 2]), 2)"
   ]
  },
  {
   "cell_type": "code",
   "execution_count": 104,
   "id": "1b6ae551-c6d3-40fd-953e-a676090c2efe",
   "metadata": {},
   "outputs": [
    {
     "data": {
      "text/plain": [
       "2.0"
      ]
     },
     "execution_count": 104,
     "metadata": {},
     "output_type": "execute_result"
    }
   ],
   "source": [
    "np.sqrt(4)"
   ]
  },
  {
   "cell_type": "code",
   "execution_count": 141,
   "id": "c0057dbc-1d9b-4cca-b53b-b0e8c53dd72d",
   "metadata": {},
   "outputs": [
    {
     "name": "stdout",
     "output_type": "stream",
     "text": [
      "finished loop 5 in 488.62 seconds\n",
      "finished loop 4 in 381.21 seconds\n",
      "finished loop 3 in 384.04 seconds\n",
      "finished loop 2 in 378.15 seconds\n",
      "d_list is [0.13], p_list is [0.0409]\n"
     ]
    },
    {
     "data": {
      "text/plain": [
       "0.13"
      ]
     },
     "execution_count": 141,
     "metadata": {},
     "output_type": "execute_result"
    }
   ],
   "source": [
    "d_list = []\n",
    "p_list = []\n",
    "for s in [-607_000]: #-1_000_000, -640_000, \n",
    "    x = ind[s-40_000:s+50_000]\n",
    "    d = 0.30\n",
    "    p = -1\n",
    "    for i in list(range(1, 6))[::-1]:\n",
    "        start = time.time()\n",
    "        new_ind = st.frac_diff_ffd(x.to_frame(),d,thres=1e-5) \n",
    "        p = adfuller(new_ind)[1]\n",
    "        m = 1\n",
    "        print(f\"finished loop {i} in {round(time.time()-start, 2)} seconds\")\n",
    "        if p > 0.05:\n",
    "            if p>0.9:\n",
    "                m = 3\n",
    "            elif p>0.5:\n",
    "                m = 2\n",
    "            d += i*m/100\n",
    "#             print(f\"d is now {d}\")\n",
    "        elif p < 0.03:\n",
    "            if p<1e-6:\n",
    "                m = 3\n",
    "            elif p<1e-4:\n",
    "                m = 2\n",
    "            d -= i*m/100\n",
    "#             print(f\"d is now {d}\")\n",
    "        else:\n",
    "#             print(f\"p, {p}, is perfect\")\n",
    "            break\n",
    "    d_list.append(round(d, 2))\n",
    "    p_list.append(round(p, 4))\n",
    "    print(f\"d_list is {d_list}, p_list is {p_list}\")\n",
    "round(np.mean(d_list), 2)\n"
   ]
  },
  {
   "cell_type": "code",
   "execution_count": 6,
   "id": "b42cd887-43a5-4e46-b50e-b8620d3b2be5",
   "metadata": {},
   "outputs": [
    {
     "name": "stdout",
     "output_type": "stream",
     "text": [
      "6850.26803612709\n"
     ]
    }
   ],
   "source": [
    "start = time.time()\n",
    "new_ind = st.frac_diff_ffd(df.close.to_frame(),0.15,thres=1e-5) \n",
    "print(time.time()-start)"
   ]
  },
  {
   "cell_type": "code",
   "execution_count": 7,
   "id": "ce1cc3f2-0641-4768-9517-6d2a0cc88d93",
   "metadata": {},
   "outputs": [
    {
     "data": {
      "text/plain": [
       "0.5505910473436862"
      ]
     },
     "execution_count": 7,
     "metadata": {},
     "output_type": "execute_result"
    }
   ],
   "source": [
    "adfuller(new_ind)[1]"
   ]
  },
  {
   "cell_type": "code",
   "execution_count": null,
   "id": "40292359-377a-46c2-8560-9d19be48e511",
   "metadata": {},
   "outputs": [],
   "source": []
  }
 ],
 "metadata": {
  "kernelspec": {
   "display_name": "Python 3",
   "language": "python",
   "name": "python3"
  },
  "language_info": {
   "codemirror_mode": {
    "name": "ipython",
    "version": 3
   },
   "file_extension": ".py",
   "mimetype": "text/x-python",
   "name": "python",
   "nbconvert_exporter": "python",
   "pygments_lexer": "ipython3",
   "version": "3.9.4"
  }
 },
 "nbformat": 4,
 "nbformat_minor": 5
}
