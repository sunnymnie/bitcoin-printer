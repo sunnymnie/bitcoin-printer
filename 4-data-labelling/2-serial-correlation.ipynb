{
 "cells": [
  {
   "cell_type": "markdown",
   "id": "22580fd3-75c8-4aa6-81d0-8ab0a51f0d4b",
   "metadata": {},
   "source": [
    "# Getting serial correlation"
   ]
  },
  {
   "cell_type": "code",
   "execution_count": 1,
   "id": "6182fdb2-4a40-4d53-9642-bcc7bebdf874",
   "metadata": {},
   "outputs": [],
   "source": [
    "import pandas as pd\n",
    "import numpy as np\n",
    "import matplotlib.pyplot as plt\n",
    "import datetime"
   ]
  },
  {
   "cell_type": "code",
   "execution_count": 2,
   "id": "5619dd2b-6553-4311-b0d3-c751fa97c880",
   "metadata": {},
   "outputs": [],
   "source": [
    "df = pd.read_csv(\"../data/BTCUSDT-volume-bars.csv\", index_col=0, parse_dates=True)"
   ]
  },
  {
   "cell_type": "code",
   "execution_count": 3,
   "id": "0f147f80-fc00-440e-a756-ed27aae7f3ff",
   "metadata": {},
   "outputs": [],
   "source": [
    "def returns(s):\n",
    "    \"\"\"returns. argument: df.close\"\"\"\n",
    "    arr = np.diff(np.log(s))\n",
    "    return (pd.Series(arr, index=s.index[1:]))\n",
    "\n",
    "def df_rolling_autocorr(df, window, lag=1):\n",
    "    \"\"\"Compute rolling column-wise autocorrelation for a DataFrame.\"\"\"\n",
    "\n",
    "    return (df.rolling(window=window)\n",
    "            .corr(df.shift(lag))) # could .dropna() here\n"
   ]
  },
  {
   "cell_type": "code",
   "execution_count": 8,
   "id": "c5967102-a2e3-4546-b0a3-1c2e1867a873",
   "metadata": {},
   "outputs": [
    {
     "data": {
      "text/plain": [
       "time\n",
       "2017-08-17 04:29:19.766         NaN\n",
       "2017-08-17 04:33:00.057         NaN\n",
       "2017-08-17 04:39:32.027         NaN\n",
       "2017-08-17 04:43:05.191         NaN\n",
       "2017-08-17 04:46:51.304         NaN\n",
       "                             ...   \n",
       "2021-06-19 16:27:04.502    0.047241\n",
       "2021-06-19 16:27:20.667    0.046557\n",
       "2021-06-19 16:27:26.627    0.046445\n",
       "2021-06-19 16:27:44.405    0.049878\n",
       "2021-06-19 16:27:48.270    0.042523\n",
       "Length: 11798849, dtype: float64"
      ]
     },
     "execution_count": 8,
     "metadata": {},
     "output_type": "execute_result"
    }
   ],
   "source": [
    "srl_corr = df_rolling_autocorr(returns(df.close), window=500)\n",
    "srl_corr"
   ]
  },
  {
   "cell_type": "code",
   "execution_count": 10,
   "id": "f06bd497-383b-4ed3-b6de-ad4a0f873a43",
   "metadata": {},
   "outputs": [
    {
     "name": "stdout",
     "output_type": "stream",
     "text": [
      "max: 0.5318376520628428\n",
      "min: -0.734126886555662\n",
      "mean: -0.050221952655682044\n",
      "median: -0.03240352952599658\n"
     ]
    }
   ],
   "source": [
    "print(f\"max: {max(srl_corr[1:].dropna())}\")\n",
    "print(f\"min: {min(srl_corr[1:].dropna())}\")\n",
    "print(f\"mean: {np.mean(srl_corr)}\")\n",
    "print(f\"median: {np.median(srl_corr[1:].dropna())}\")"
   ]
  },
  {
   "cell_type": "code",
   "execution_count": 11,
   "id": "e9d2f595-54c7-4729-8b40-616d2edbf41e",
   "metadata": {},
   "outputs": [],
   "source": [
    "srl_corr.to_csv(\"../data/serial-correlation.csv\")"
   ]
  },
  {
   "cell_type": "code",
   "execution_count": null,
   "id": "7c7abaea-6a1a-4a95-a6c7-618073f18a61",
   "metadata": {},
   "outputs": [],
   "source": []
  }
 ],
 "metadata": {
  "kernelspec": {
   "display_name": "Python 3",
   "language": "python",
   "name": "python3"
  },
  "language_info": {
   "codemirror_mode": {
    "name": "ipython",
    "version": 3
   },
   "file_extension": ".py",
   "mimetype": "text/x-python",
   "name": "python",
   "nbconvert_exporter": "python",
   "pygments_lexer": "ipython3",
   "version": "3.9.4"
  }
 },
 "nbformat": 4,
 "nbformat_minor": 5
}
