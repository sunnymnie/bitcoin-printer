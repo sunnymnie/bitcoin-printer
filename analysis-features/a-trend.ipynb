{
 "cells": [
  {
   "cell_type": "markdown",
   "id": "79e5578e-3d40-4def-a891-ad38693d5a56",
   "metadata": {},
   "source": [
    "# Add all trend"
   ]
  },
  {
   "cell_type": "code",
   "execution_count": 2,
   "id": "7e4a7920-490c-44e4-a763-5602ba2c7047",
   "metadata": {},
   "outputs": [],
   "source": [
    "import numpy as np\n",
    "import pandas as pd\n",
    "import matplotlib.pyplot as plt\n",
    "import seaborn as sns\n",
    "import useful_functions as uf\n",
    "import classification_report_generator as crg\n",
    "from ta.trend import ADXIndicator\n",
    "from ta.trend import AroonIndicator\n",
    "from ta.trend import CCIIndicator\n",
    "from ta.trend import DPOIndicator\n",
    "from ta.trend import EMAIndicator\n",
    "from ta.trend import IchimokuIndicator\n",
    "from ta.trend import KSTIndicator\n",
    "from ta.trend import MACD\n",
    "from ta.trend import MassIndex\n",
    "from ta.trend import PSARIndicator\n",
    "from ta.trend import SMAIndicator\n",
    "from ta.trend import STCIndicator\n",
    "from ta.trend import TRIXIndicator\n",
    "from ta.trend import VortexIndicator\n",
    "from ta.trend import WMAIndicator"
   ]
  },
  {
   "cell_type": "code",
   "execution_count": null,
   "id": "11ddd47e-7949-40a2-b559-7c315c3f5301",
   "metadata": {},
   "outputs": [],
   "source": []
  }
 ],
 "metadata": {
  "kernelspec": {
   "display_name": "Python 3",
   "language": "python",
   "name": "python3"
  },
  "language_info": {
   "codemirror_mode": {
    "name": "ipython",
    "version": 3
   },
   "file_extension": ".py",
   "mimetype": "text/x-python",
   "name": "python",
   "nbconvert_exporter": "python",
   "pygments_lexer": "ipython3",
   "version": "3.9.4"
  }
 },
 "nbformat": 4,
 "nbformat_minor": 5
}
