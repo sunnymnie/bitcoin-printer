{
 "cells": [
  {
   "cell_type": "markdown",
   "id": "1a64784f-4103-4b96-aaf1-12bc12cceb11",
   "metadata": {},
   "source": [
    "# Checking features results"
   ]
  },
  {
   "cell_type": "code",
   "execution_count": 105,
   "id": "9f69a0ee-1f80-49bb-bb23-fea52036acb7",
   "metadata": {},
   "outputs": [],
   "source": [
    "import pandas as pd\n",
    "import numpy as np\n",
    "import matplotlib.pyplot as plt"
   ]
  },
  {
   "cell_type": "code",
   "execution_count": 116,
   "id": "4d64434e-f95d-4023-a80a-d95ba181659c",
   "metadata": {},
   "outputs": [],
   "source": [
    "results = pd.read_csv(\"data/features-weighted-results-1.csv\")"
   ]
  },
  {
   "cell_type": "code",
   "execution_count": 117,
   "id": "10e34be7-eae8-42c6-9e05-fc222475db3f",
   "metadata": {},
   "outputs": [
    {
     "data": {
      "text/plain": [
       "[<matplotlib.lines.Line2D at 0x7fd69a6c82b0>]"
      ]
     },
     "execution_count": 117,
     "metadata": {},
     "output_type": "execute_result"
    },
    {
     "data": {
      "image/png": "[encoded data removed]",
      "text/plain": [
       "<Figure size 432x288 with 1 Axes>"
      ]
     },
     "metadata": {
      "needs_background": "light"
     },
     "output_type": "display_data"
    }
   ],
   "source": [
    "plt.plot(results[\"f1\"])"
   ]
  },
  {
   "cell_type": "code",
   "execution_count": 118,
   "id": "aeb72e1b-4bad-45d4-bd36-ec13d8bf04a4",
   "metadata": {},
   "outputs": [
    {
     "data": {
      "text/html": [
       "<div>\n",
       "<style scoped>\n",
       "    .dataframe tbody tr th:only-of-type {\n",
       "        vertical-align: middle;\n",
       "    }\n",
       "\n",
       "    .dataframe tbody tr th {\n",
       "        vertical-align: top;\n",
       "    }\n",
       "\n",
       "    .dataframe thead th {\n",
       "        text-align: right;\n",
       "    }\n",
       "</style>\n",
       "<table border=\"1\" class=\"dataframe\">\n",
       "  <thead>\n",
       "    <tr style=\"text-align: right;\">\n",
       "      <th></th>\n",
       "      <th>f1</th>\n",
       "      <th>features_count</th>\n",
       "      <th>weights</th>\n",
       "      <th>mean</th>\n",
       "      <th>features</th>\n",
       "    </tr>\n",
       "  </thead>\n",
       "  <tbody>\n",
       "    <tr>\n",
       "      <th>712</th>\n",
       "      <td>0.577741</td>\n",
       "      <td>11</td>\n",
       "      <td>242,16052,30,12484,224,91,1434,14144,23,45,57,...</td>\n",
       "      <td>0.578196</td>\n",
       "      <td>mom_srsi_10_d,bb,volatility_bb_pband_100,volat...</td>\n",
       "    </tr>\n",
       "    <tr>\n",
       "      <th>713</th>\n",
       "      <td>0.580872</td>\n",
       "      <td>16</td>\n",
       "      <td>242,16175,30,12579,224,91,1445,14252,23,45,57,...</td>\n",
       "      <td>0.578738</td>\n",
       "      <td>volatility_wband_20,volume_nvi_o_close_rate_50...</td>\n",
       "    </tr>\n",
       "    <tr>\n",
       "      <th>714</th>\n",
       "      <td>0.578760</td>\n",
       "      <td>13</td>\n",
       "      <td>242,16199,30,12597,224,91,1445,14273,23,45,57,...</td>\n",
       "      <td>0.578346</td>\n",
       "      <td>mom_srsi_10_d,bb,volatility_bb_pband_100,volat...</td>\n",
       "    </tr>\n",
       "    <tr>\n",
       "      <th>715</th>\n",
       "      <td>0.588650</td>\n",
       "      <td>15</td>\n",
       "      <td>242,16703,30,12989,224,91,1445,14717,23,45,57,...</td>\n",
       "      <td>0.579997</td>\n",
       "      <td>volatility_wband_20,mom_srsi_10_d,bb,volatilit...</td>\n",
       "    </tr>\n",
       "    <tr>\n",
       "      <th>716</th>\n",
       "      <td>0.571462</td>\n",
       "      <td>17</td>\n",
       "      <td>242,16356,30,12719,224,91,1415,14411,23,45,57,...</td>\n",
       "      <td>0.577242</td>\n",
       "      <td>volatility_atr_14,volatility_wband_20,mom_srsi...</td>\n",
       "    </tr>\n",
       "  </tbody>\n",
       "</table>\n",
       "</div>"
      ],
      "text/plain": [
       "           f1  features_count  \\\n",
       "712  0.577741              11   \n",
       "713  0.580872              16   \n",
       "714  0.578760              13   \n",
       "715  0.588650              15   \n",
       "716  0.571462              17   \n",
       "\n",
       "                                               weights      mean  \\\n",
       "712  242,16052,30,12484,224,91,1434,14144,23,45,57,...  0.578196   \n",
       "713  242,16175,30,12579,224,91,1445,14252,23,45,57,...  0.578738   \n",
       "714  242,16199,30,12597,224,91,1445,14273,23,45,57,...  0.578346   \n",
       "715  242,16703,30,12989,224,91,1445,14717,23,45,57,...  0.579997   \n",
       "716  242,16356,30,12719,224,91,1415,14411,23,45,57,...  0.577242   \n",
       "\n",
       "                                              features  \n",
       "712  mom_srsi_10_d,bb,volatility_bb_pband_100,volat...  \n",
       "713  volatility_wband_20,volume_nvi_o_close_rate_50...  \n",
       "714  mom_srsi_10_d,bb,volatility_bb_pband_100,volat...  \n",
       "715  volatility_wband_20,mom_srsi_10_d,bb,volatilit...  \n",
       "716  volatility_atr_14,volatility_wband_20,mom_srsi...  "
      ]
     },
     "execution_count": 118,
     "metadata": {},
     "output_type": "execute_result"
    }
   ],
   "source": [
    "results[len(results)-5 if len(results)>5 else 0:]"
   ]
  },
  {
   "cell_type": "code",
   "execution_count": 68,
   "id": "f1a79b5d-7e3b-4458-af25-a342b3d32702",
   "metadata": {},
   "outputs": [
    {
     "data": {
      "text/html": [
       "<div>\n",
       "<style scoped>\n",
       "    .dataframe tbody tr th:only-of-type {\n",
       "        vertical-align: middle;\n",
       "    }\n",
       "\n",
       "    .dataframe tbody tr th {\n",
       "        vertical-align: top;\n",
       "    }\n",
       "\n",
       "    .dataframe thead th {\n",
       "        text-align: right;\n",
       "    }\n",
       "</style>\n",
       "<table border=\"1\" class=\"dataframe\">\n",
       "  <thead>\n",
       "    <tr style=\"text-align: right;\">\n",
       "      <th></th>\n",
       "      <th>f1</th>\n",
       "      <th>features_count</th>\n",
       "      <th>weights</th>\n",
       "      <th>mean</th>\n",
       "      <th>features</th>\n",
       "    </tr>\n",
       "  </thead>\n",
       "  <tbody>\n",
       "    <tr>\n",
       "      <th>0</th>\n",
       "      <td>0.000000</td>\n",
       "      <td>0</td>\n",
       "      <td>100,100,100,100,100,100,100,100,100,100,100,10...</td>\n",
       "      <td>0.000000</td>\n",
       "      <td>NaN</td>\n",
       "    </tr>\n",
       "    <tr>\n",
       "      <th>1</th>\n",
       "      <td>0.504761</td>\n",
       "      <td>26</td>\n",
       "      <td>100,100,100,100,100,100,100,100,100,100,100,10...</td>\n",
       "      <td>0.504761</td>\n",
       "      <td>bb,trend_macd_12_signal_log,trend_sma_50_rate_...</td>\n",
       "    </tr>\n",
       "    <tr>\n",
       "      <th>2</th>\n",
       "      <td>0.512601</td>\n",
       "      <td>31</td>\n",
       "      <td>100,100,100,100,100,100,100,100,100,100,100,10...</td>\n",
       "      <td>0.512601</td>\n",
       "      <td>volatility_wband_20,bb,trend_macd_12_signal_lo...</td>\n",
       "    </tr>\n",
       "    <tr>\n",
       "      <th>3</th>\n",
       "      <td>0.558691</td>\n",
       "      <td>28</td>\n",
       "      <td>100,100,100,100,100,100,100,100,100,100,100,10...</td>\n",
       "      <td>0.558691</td>\n",
       "      <td>volatility_wband_20,volatility_atr_o_close,bb,...</td>\n",
       "    </tr>\n",
       "    <tr>\n",
       "      <th>4</th>\n",
       "      <td>0.482672</td>\n",
       "      <td>28</td>\n",
       "      <td>100,100,100,100,100,100,100,100,100,100,100,10...</td>\n",
       "      <td>0.482672</td>\n",
       "      <td>volatility_wband_20,bb,trend_macd_12_signal_lo...</td>\n",
       "    </tr>\n",
       "    <tr>\n",
       "      <th>5</th>\n",
       "      <td>0.503648</td>\n",
       "      <td>31</td>\n",
       "      <td>100,100,100,100,100,100,100,100,100,100,100,10...</td>\n",
       "      <td>0.503648</td>\n",
       "      <td>volatility_atr_o_close,bb,trend_macd_12_signal...</td>\n",
       "    </tr>\n",
       "  </tbody>\n",
       "</table>\n",
       "</div>"
      ],
      "text/plain": [
       "         f1  features_count  \\\n",
       "0  0.000000               0   \n",
       "1  0.504761              26   \n",
       "2  0.512601              31   \n",
       "3  0.558691              28   \n",
       "4  0.482672              28   \n",
       "5  0.503648              31   \n",
       "\n",
       "                                             weights      mean  \\\n",
       "0  100,100,100,100,100,100,100,100,100,100,100,10...  0.000000   \n",
       "1  100,100,100,100,100,100,100,100,100,100,100,10...  0.504761   \n",
       "2  100,100,100,100,100,100,100,100,100,100,100,10...  0.512601   \n",
       "3  100,100,100,100,100,100,100,100,100,100,100,10...  0.558691   \n",
       "4  100,100,100,100,100,100,100,100,100,100,100,10...  0.482672   \n",
       "5  100,100,100,100,100,100,100,100,100,100,100,10...  0.503648   \n",
       "\n",
       "                                            features  \n",
       "0                                                NaN  \n",
       "1  bb,trend_macd_12_signal_log,trend_sma_50_rate_...  \n",
       "2  volatility_wband_20,bb,trend_macd_12_signal_lo...  \n",
       "3  volatility_wband_20,volatility_atr_o_close,bb,...  \n",
       "4  volatility_wband_20,bb,trend_macd_12_signal_lo...  \n",
       "5  volatility_atr_o_close,bb,trend_macd_12_signal...  "
      ]
     },
     "execution_count": 68,
     "metadata": {},
     "output_type": "execute_result"
    }
   ],
   "source": [
    "results[:6]"
   ]
  },
  {
   "cell_type": "markdown",
   "id": "9a10703a-bac6-4f69-8aeb-0a74fc59a44a",
   "metadata": {},
   "source": [
    "## results.iloc[452].features.split(\",\")"
   ]
  },
  {
   "cell_type": "code",
   "execution_count": 95,
   "id": "bbce6413-3d49-407a-bc9f-507ce00fe795",
   "metadata": {},
   "outputs": [
    {
     "data": {
      "text/plain": [
       "['89,223,3899,4465,672,450,1818,83,259,83,2462,276,42,332,696,141,78,7629,195,1167,228,101,4844,80,2487,173,454,13643,252,1653,134,1969,12099,85,227,267,19,8455,113,13947']"
      ]
     },
     "execution_count": 95,
     "metadata": {},
     "output_type": "execute_result"
    }
   ],
   "source": [
    "list(results.tail(1).weights)"
   ]
  },
  {
   "cell_type": "code",
   "execution_count": 285,
   "id": "b5c5fb38-2666-4635-9168-7394566f0c48",
   "metadata": {},
   "outputs": [],
   "source": [
    "loc = [\"a\", \"b\", \"c\", \"d\", \"e\", \"f\", \"g\", \"h\", \"i\"]\n",
    "p = [0, 1, 100, 1, 1, 0, 0, 0, 0]"
   ]
  },
  {
   "cell_type": "code",
   "execution_count": 83,
   "id": "afa583a3-fa55-4d8b-b5aa-2185678a1039",
   "metadata": {},
   "outputs": [],
   "source": [
    "a = choice(loc, 3, p)"
   ]
  },
  {
   "cell_type": "code",
   "execution_count": 43,
   "id": "020cb857-7d4a-470a-b82b-b097d9581da3",
   "metadata": {},
   "outputs": [],
   "source": [
    "import random"
   ]
  },
  {
   "cell_type": "code",
   "execution_count": 84,
   "id": "458b51ba-c7cb-4a80-b823-d56c2e8c9374",
   "metadata": {},
   "outputs": [],
   "source": [
    "a = random.choices(population=loc, weights=p, k=3)"
   ]
  },
  {
   "cell_type": "code",
   "execution_count": 327,
   "id": "917828bb-0d44-4054-9dd0-10d13a846281",
   "metadata": {},
   "outputs": [
    {
     "data": {
      "text/plain": [
       "-3"
      ]
     },
     "execution_count": 327,
     "metadata": {},
     "output_type": "execute_result"
    }
   ],
   "source": [
    "int(-3.92)"
   ]
  },
  {
   "cell_type": "code",
   "execution_count": 115,
   "id": "0f909f84-4d91-49f3-946c-b318a798b4dd",
   "metadata": {},
   "outputs": [
    {
     "data": {
      "text/plain": [
       "['volume_nvi_o_close_rate_50',\n",
       " 'mom_srsi_10_d',\n",
       " 'bb',\n",
       " 'volatility_dc_wband_10',\n",
       " 'volatility_bb_pband_100',\n",
       " 'volatility_bb_wband_200',\n",
       " 'trend_trix_20_log',\n",
       " 'trend_vi_50_amp',\n",
       " 'mom_rsi_30',\n",
       " 'volume_cmf_50_rate_200',\n",
       " 'trend_sma_200_diff_o_close_log',\n",
       " 'mom_ppo_30_hist',\n",
       " 'trend_sma_50_diff_log',\n",
       " 'target']"
      ]
     },
     "execution_count": 115,
     "metadata": {},
     "output_type": "execute_result"
    }
   ],
   "source": [
    "results.features.iloc[570].replace(\"'\", '').replace(' ', '').split(\",\")"
   ]
  },
  {
   "cell_type": "code",
   "execution_count": 649,
   "id": "e3cc07d2-e57e-48ab-b7f6-90ba1a4be2ab",
   "metadata": {},
   "outputs": [
    {
     "ename": "AttributeError",
     "evalue": "'list' object has no attribute 'replace'",
     "output_type": "error",
     "traceback": [
      "\u001b[0;31m---------------------------------------------------------------------------\u001b[0m",
      "\u001b[0;31mAttributeError\u001b[0m                            Traceback (most recent call last)",
      "\u001b[0;32m<ipython-input-649-23a6f2f3605b>\u001b[0m in \u001b[0;36m<module>\u001b[0;34m\u001b[0m\n\u001b[0;32m----> 1\u001b[0;31m \u001b[0mlist\u001b[0m\u001b[0;34m(\u001b[0m\u001b[0mresults\u001b[0m\u001b[0;34m.\u001b[0m\u001b[0mfeatures\u001b[0m\u001b[0;34m.\u001b[0m\u001b[0miloc\u001b[0m\u001b[0;34m[\u001b[0m\u001b[0;36m402\u001b[0m\u001b[0;34m]\u001b[0m\u001b[0;34m)\u001b[0m\u001b[0;34m.\u001b[0m\u001b[0mreplace\u001b[0m\u001b[0;34m(\u001b[0m\u001b[0;34m'['\u001b[0m\u001b[0;34m,\u001b[0m \u001b[0;34m''\u001b[0m\u001b[0;34m)\u001b[0m\u001b[0;34m.\u001b[0m\u001b[0mreplace\u001b[0m\u001b[0;34m(\u001b[0m\u001b[0;34m']'\u001b[0m\u001b[0;34m,\u001b[0m \u001b[0;34m''\u001b[0m\u001b[0;34m)\u001b[0m\u001b[0;34m.\u001b[0m\u001b[0mreplace\u001b[0m\u001b[0;34m(\u001b[0m\u001b[0;34m\"'\"\u001b[0m\u001b[0;34m,\u001b[0m \u001b[0;34m''\u001b[0m\u001b[0;34m)\u001b[0m\u001b[0;34m.\u001b[0m\u001b[0mreplace\u001b[0m\u001b[0;34m(\u001b[0m\u001b[0;34m' '\u001b[0m\u001b[0;34m,\u001b[0m \u001b[0;34m''\u001b[0m\u001b[0;34m)\u001b[0m\u001b[0;34m.\u001b[0m\u001b[0msplit\u001b[0m\u001b[0;34m(\u001b[0m\u001b[0;34m\",\"\u001b[0m\u001b[0;34m)\u001b[0m\u001b[0;34m\u001b[0m\u001b[0;34m\u001b[0m\u001b[0m\n\u001b[0m",
      "\u001b[0;31mAttributeError\u001b[0m: 'list' object has no attribute 'replace'"
     ]
    }
   ],
   "source": [
    "list(results.features.tail(1))[0].replace('[', '').replace(']', '').replace(\"'\", '').replace(' ', '').split(\",\")"
   ]
  },
  {
   "cell_type": "code",
   "execution_count": 94,
   "id": "82a6f4c6-3fbc-430a-86df-a3790234497b",
   "metadata": {},
   "outputs": [
    {
     "data": {
      "text/plain": [
       "'d,s,d,f,a'"
      ]
     },
     "execution_count": 94,
     "metadata": {},
     "output_type": "execute_result"
    }
   ],
   "source": [
    "\",\".join(['d', 's', 'd', 'f', 'a'])"
   ]
  },
  {
   "cell_type": "code",
   "execution_count": null,
   "id": "008e5ea5-82dc-4c99-83f2-4c9edea2c822",
   "metadata": {},
   "outputs": [],
   "source": []
  }
 ],
 "metadata": {
  "kernelspec": {
   "display_name": "Python 3",
   "language": "python",
   "name": "python3"
  },
  "language_info": {
   "codemirror_mode": {
    "name": "ipython",
    "version": 3
   },
   "file_extension": ".py",
   "mimetype": "text/x-python",
   "name": "python",
   "nbconvert_exporter": "python",
   "pygments_lexer": "ipython3",
   "version": "3.9.4"
  }
 },
 "nbformat": 4,
 "nbformat_minor": 5
}
