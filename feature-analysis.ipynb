{
 "cells": [
  {
   "cell_type": "markdown",
   "id": "1a64784f-4103-4b96-aaf1-12bc12cceb11",
   "metadata": {},
   "source": [
    "# Checking features results"
   ]
  },
  {
   "cell_type": "code",
   "execution_count": 180,
   "id": "9f69a0ee-1f80-49bb-bb23-fea52036acb7",
   "metadata": {},
   "outputs": [],
   "source": [
    "import pandas as pd\n",
    "import numpy as np\n",
    "import matplotlib.pyplot as plt"
   ]
  },
  {
   "cell_type": "code",
   "execution_count": 691,
   "id": "4d64434e-f95d-4023-a80a-d95ba181659c",
   "metadata": {},
   "outputs": [],
   "source": [
    "results = pd.read_csv(\"data/features-weighted-results3.csv\")"
   ]
  },
  {
   "cell_type": "code",
   "execution_count": 692,
   "id": "10e34be7-eae8-42c6-9e05-fc222475db3f",
   "metadata": {},
   "outputs": [
    {
     "data": {
      "text/plain": [
       "[<matplotlib.lines.Line2D at 0x7f9adf327370>]"
      ]
     },
     "execution_count": 692,
     "metadata": {},
     "output_type": "execute_result"
    },
    {
     "data": {
      "image/png": "[encoded data removed]",
      "text/plain": [
       "<Figure size 432x288 with 1 Axes>"
      ]
     },
     "metadata": {
      "needs_background": "light"
     },
     "output_type": "display_data"
    }
   ],
   "source": [
    "plt.plot(results[\"mean\"])"
   ]
  },
  {
   "cell_type": "code",
   "execution_count": 693,
   "id": "aeb72e1b-4bad-45d4-bd36-ec13d8bf04a4",
   "metadata": {},
   "outputs": [
    {
     "data": {
      "text/html": [
       "<div>\n",
       "<style scoped>\n",
       "    .dataframe tbody tr th:only-of-type {\n",
       "        vertical-align: middle;\n",
       "    }\n",
       "\n",
       "    .dataframe tbody tr th {\n",
       "        vertical-align: top;\n",
       "    }\n",
       "\n",
       "    .dataframe thead th {\n",
       "        text-align: right;\n",
       "    }\n",
       "</style>\n",
       "<table border=\"1\" class=\"dataframe\">\n",
       "  <thead>\n",
       "    <tr style=\"text-align: right;\">\n",
       "      <th></th>\n",
       "      <th>precision</th>\n",
       "      <th>features_count</th>\n",
       "      <th>weights</th>\n",
       "      <th>mean</th>\n",
       "      <th>features</th>\n",
       "    </tr>\n",
       "  </thead>\n",
       "  <tbody>\n",
       "    <tr>\n",
       "      <th>442</th>\n",
       "      <td>0.351602</td>\n",
       "      <td>13</td>\n",
       "      <td>386,33664,4642,21,81933,62966,181,158,1,3708,2...</td>\n",
       "      <td>0.394210</td>\n",
       "      <td>volatility_dc_pband_50,volatility_bb_wband_10,...</td>\n",
       "    </tr>\n",
       "    <tr>\n",
       "      <th>443</th>\n",
       "      <td>0.412384</td>\n",
       "      <td>15</td>\n",
       "      <td>386,33983,4642,21,82711,63563,181,158,1,3743,2...</td>\n",
       "      <td>0.404470</td>\n",
       "      <td>volatility_dc_pband_50,mom_rsi_30,volatility_d...</td>\n",
       "    </tr>\n",
       "    <tr>\n",
       "      <th>444</th>\n",
       "      <td>0.400829</td>\n",
       "      <td>15</td>\n",
       "      <td>386,33869,4642,21,82432,63349,181,158,1,3743,2...</td>\n",
       "      <td>0.403641</td>\n",
       "      <td>volatility_dc_pband_50,volume_mfi_50,mom_rsi_3...</td>\n",
       "    </tr>\n",
       "    <tr>\n",
       "      <th>445</th>\n",
       "      <td>0.272977</td>\n",
       "      <td>13</td>\n",
       "      <td>386,33869,4642,21,71618,55039,181,158,1,3743,2...</td>\n",
       "      <td>0.382300</td>\n",
       "      <td>volatility_dc_pband_50,trend_sma_50_diff_log,m...</td>\n",
       "    </tr>\n",
       "    <tr>\n",
       "      <th>446</th>\n",
       "      <td>0.321987</td>\n",
       "      <td>13</td>\n",
       "      <td>386,33869,4642,21,65744,50525,181,158,1,3743,1...</td>\n",
       "      <td>0.390344</td>\n",
       "      <td>volatility_dc_pband_50,mom_rsi_30,mom_wr_50,vo...</td>\n",
       "    </tr>\n",
       "  </tbody>\n",
       "</table>\n",
       "</div>"
      ],
      "text/plain": [
       "     precision  features_count  \\\n",
       "442   0.351602              13   \n",
       "443   0.412384              15   \n",
       "444   0.400829              15   \n",
       "445   0.272977              13   \n",
       "446   0.321987              13   \n",
       "\n",
       "                                               weights      mean  \\\n",
       "442  386,33664,4642,21,81933,62966,181,158,1,3708,2...  0.394210   \n",
       "443  386,33983,4642,21,82711,63563,181,158,1,3743,2...  0.404470   \n",
       "444  386,33869,4642,21,82432,63349,181,158,1,3743,2...  0.403641   \n",
       "445  386,33869,4642,21,71618,55039,181,158,1,3743,2...  0.382300   \n",
       "446  386,33869,4642,21,65744,50525,181,158,1,3743,1...  0.390344   \n",
       "\n",
       "                                              features  \n",
       "442  volatility_dc_pband_50,volatility_bb_wband_10,...  \n",
       "443  volatility_dc_pband_50,mom_rsi_30,volatility_d...  \n",
       "444  volatility_dc_pband_50,volume_mfi_50,mom_rsi_3...  \n",
       "445  volatility_dc_pband_50,trend_sma_50_diff_log,m...  \n",
       "446  volatility_dc_pband_50,mom_rsi_30,mom_wr_50,vo...  "
      ]
     },
     "execution_count": 693,
     "metadata": {},
     "output_type": "execute_result"
    }
   ],
   "source": [
    "results[len(results)-5:]"
   ]
  },
  {
   "cell_type": "markdown",
   "id": "9a10703a-bac6-4f69-8aeb-0a74fc59a44a",
   "metadata": {},
   "source": [
    "## results.iloc[452].features.split(\",\")"
   ]
  },
  {
   "cell_type": "code",
   "execution_count": 643,
   "id": "bbce6413-3d49-407a-bc9f-507ce00fe795",
   "metadata": {},
   "outputs": [
    {
     "data": {
      "text/plain": [
       "['volatility_dc_pband_50,volume_mfi_50,volatility_bb_wband_10,trend_sma_50_diff_log,mom_rsi_30,volatility_dc_wband_10,mom_wr_50,trend_arn_50,trend_cci_70,trend_macd_12_signal_log,volatility_pband_50,mom_sr_9_signal,volume_cmf_50_rate_200,volume_fi_amplified,trend_dpo_100_log,target']"
      ]
     },
     "execution_count": 643,
     "metadata": {},
     "output_type": "execute_result"
    }
   ],
   "source": [
    "list(results.tail(1).features)"
   ]
  },
  {
   "cell_type": "code",
   "execution_count": 285,
   "id": "b5c5fb38-2666-4635-9168-7394566f0c48",
   "metadata": {},
   "outputs": [],
   "source": [
    "loc = [\"a\", \"b\", \"c\", \"d\", \"e\", \"f\", \"g\", \"h\", \"i\"]\n",
    "p = [0, 1, 100, 1, 1, 0, 0, 0, 0]"
   ]
  },
  {
   "cell_type": "code",
   "execution_count": 83,
   "id": "afa583a3-fa55-4d8b-b5aa-2185678a1039",
   "metadata": {},
   "outputs": [],
   "source": [
    "a = choice(loc, 3, p)"
   ]
  },
  {
   "cell_type": "code",
   "execution_count": 43,
   "id": "020cb857-7d4a-470a-b82b-b097d9581da3",
   "metadata": {},
   "outputs": [],
   "source": [
    "import random"
   ]
  },
  {
   "cell_type": "code",
   "execution_count": 84,
   "id": "458b51ba-c7cb-4a80-b823-d56c2e8c9374",
   "metadata": {},
   "outputs": [],
   "source": [
    "a = random.choices(population=loc, weights=p, k=3)"
   ]
  },
  {
   "cell_type": "code",
   "execution_count": 327,
   "id": "917828bb-0d44-4054-9dd0-10d13a846281",
   "metadata": {},
   "outputs": [
    {
     "data": {
      "text/plain": [
       "-3"
      ]
     },
     "execution_count": 327,
     "metadata": {},
     "output_type": "execute_result"
    }
   ],
   "source": [
    "int(-3.92)"
   ]
  },
  {
   "cell_type": "code",
   "execution_count": 687,
   "id": "0f909f84-4d91-49f3-946c-b318a798b4dd",
   "metadata": {},
   "outputs": [
    {
     "data": {
      "text/plain": [
       "['volatility_dc_pband_50',\n",
       " 'mom_rsi_30',\n",
       " 'volatility_dc_wband_10',\n",
       " 'mom_ppo_10_signal_log',\n",
       " 'trend_cci_70',\n",
       " 'trend_arn_50',\n",
       " 'mom_ppo_30_hist',\n",
       " 'trend_macd_12_signal_log',\n",
       " 'mom_sr_9_signal',\n",
       " 'volume_cmf_50_rate_200',\n",
       " 'volume_fi_amplified',\n",
       " 'trend_dpo_100_log',\n",
       " 'target']"
      ]
     },
     "execution_count": 687,
     "metadata": {},
     "output_type": "execute_result"
    }
   ],
   "source": [
    "results.features.iloc[441].replace(\"'\", '').replace(' ', '').split(\",\")"
   ]
  },
  {
   "cell_type": "code",
   "execution_count": 649,
   "id": "e3cc07d2-e57e-48ab-b7f6-90ba1a4be2ab",
   "metadata": {},
   "outputs": [
    {
     "ename": "AttributeError",
     "evalue": "'list' object has no attribute 'replace'",
     "output_type": "error",
     "traceback": [
      "\u001b[0;31m---------------------------------------------------------------------------\u001b[0m",
      "\u001b[0;31mAttributeError\u001b[0m                            Traceback (most recent call last)",
      "\u001b[0;32m<ipython-input-649-23a6f2f3605b>\u001b[0m in \u001b[0;36m<module>\u001b[0;34m\u001b[0m\n\u001b[0;32m----> 1\u001b[0;31m \u001b[0mlist\u001b[0m\u001b[0;34m(\u001b[0m\u001b[0mresults\u001b[0m\u001b[0;34m.\u001b[0m\u001b[0mfeatures\u001b[0m\u001b[0;34m.\u001b[0m\u001b[0miloc\u001b[0m\u001b[0;34m[\u001b[0m\u001b[0;36m402\u001b[0m\u001b[0;34m]\u001b[0m\u001b[0;34m)\u001b[0m\u001b[0;34m.\u001b[0m\u001b[0mreplace\u001b[0m\u001b[0;34m(\u001b[0m\u001b[0;34m'['\u001b[0m\u001b[0;34m,\u001b[0m \u001b[0;34m''\u001b[0m\u001b[0;34m)\u001b[0m\u001b[0;34m.\u001b[0m\u001b[0mreplace\u001b[0m\u001b[0;34m(\u001b[0m\u001b[0;34m']'\u001b[0m\u001b[0;34m,\u001b[0m \u001b[0;34m''\u001b[0m\u001b[0;34m)\u001b[0m\u001b[0;34m.\u001b[0m\u001b[0mreplace\u001b[0m\u001b[0;34m(\u001b[0m\u001b[0;34m\"'\"\u001b[0m\u001b[0;34m,\u001b[0m \u001b[0;34m''\u001b[0m\u001b[0;34m)\u001b[0m\u001b[0;34m.\u001b[0m\u001b[0mreplace\u001b[0m\u001b[0;34m(\u001b[0m\u001b[0;34m' '\u001b[0m\u001b[0;34m,\u001b[0m \u001b[0;34m''\u001b[0m\u001b[0;34m)\u001b[0m\u001b[0;34m.\u001b[0m\u001b[0msplit\u001b[0m\u001b[0;34m(\u001b[0m\u001b[0;34m\",\"\u001b[0m\u001b[0;34m)\u001b[0m\u001b[0;34m\u001b[0m\u001b[0;34m\u001b[0m\u001b[0m\n\u001b[0m",
      "\u001b[0;31mAttributeError\u001b[0m: 'list' object has no attribute 'replace'"
     ]
    }
   ],
   "source": [
    "list(results.features.tail(1))[0].replace('[', '').replace(']', '').replace(\"'\", '').replace(' ', '').split(\",\")"
   ]
  },
  {
   "cell_type": "code",
   "execution_count": 94,
   "id": "82a6f4c6-3fbc-430a-86df-a3790234497b",
   "metadata": {},
   "outputs": [
    {
     "data": {
      "text/plain": [
       "'d,s,d,f,a'"
      ]
     },
     "execution_count": 94,
     "metadata": {},
     "output_type": "execute_result"
    }
   ],
   "source": [
    "\",\".join(['d', 's', 'd', 'f', 'a'])"
   ]
  },
  {
   "cell_type": "code",
   "execution_count": null,
   "id": "008e5ea5-82dc-4c99-83f2-4c9edea2c822",
   "metadata": {},
   "outputs": [],
   "source": []
  }
 ],
 "metadata": {
  "kernelspec": {
   "display_name": "Python 3",
   "language": "python",
   "name": "python3"
  },
  "language_info": {
   "codemirror_mode": {
    "name": "ipython",
    "version": 3
   },
   "file_extension": ".py",
   "mimetype": "text/x-python",
   "name": "python",
   "nbconvert_exporter": "python",
   "pygments_lexer": "ipython3",
   "version": "3.9.4"
  }
 },
 "nbformat": 4,
 "nbformat_minor": 5
}
