{
 "cells": [
  {
   "cell_type": "markdown",
   "id": "1a64784f-4103-4b96-aaf1-12bc12cceb11",
   "metadata": {},
   "source": [
    "# Checking features results"
   ]
  },
  {
   "cell_type": "code",
   "execution_count": 1,
   "id": "9f69a0ee-1f80-49bb-bb23-fea52036acb7",
   "metadata": {},
   "outputs": [],
   "source": [
    "import pandas as pd\n",
    "import numpy as np\n",
    "import matplotlib.pyplot as plt"
   ]
  },
  {
   "cell_type": "code",
   "execution_count": 46,
   "id": "4d64434e-f95d-4023-a80a-d95ba181659c",
   "metadata": {},
   "outputs": [],
   "source": [
    "results = pd.read_csv(\"data/features-weighted-results-1.csv\")"
   ]
  },
  {
   "cell_type": "code",
   "execution_count": 47,
   "id": "10e34be7-eae8-42c6-9e05-fc222475db3f",
   "metadata": {},
   "outputs": [
    {
     "data": {
      "text/plain": [
       "[<matplotlib.lines.Line2D at 0x7fd90c8ce400>]"
      ]
     },
     "execution_count": 47,
     "metadata": {},
     "output_type": "execute_result"
    },
    {
     "data": {
      "image/png": "[encoded data removed]",
      "text/plain": [
       "<Figure size 432x288 with 1 Axes>"
      ]
     },
     "metadata": {
      "needs_background": "light"
     },
     "output_type": "display_data"
    }
   ],
   "source": [
    "plt.plot(results[\"mean\"])"
   ]
  },
  {
   "cell_type": "code",
   "execution_count": 48,
   "id": "aeb72e1b-4bad-45d4-bd36-ec13d8bf04a4",
   "metadata": {},
   "outputs": [
    {
     "data": {
      "text/html": [
       "<div>\n",
       "<style scoped>\n",
       "    .dataframe tbody tr th:only-of-type {\n",
       "        vertical-align: middle;\n",
       "    }\n",
       "\n",
       "    .dataframe tbody tr th {\n",
       "        vertical-align: top;\n",
       "    }\n",
       "\n",
       "    .dataframe thead th {\n",
       "        text-align: right;\n",
       "    }\n",
       "</style>\n",
       "<table border=\"1\" class=\"dataframe\">\n",
       "  <thead>\n",
       "    <tr style=\"text-align: right;\">\n",
       "      <th></th>\n",
       "      <th>f1</th>\n",
       "      <th>features_count</th>\n",
       "      <th>weights</th>\n",
       "      <th>mean</th>\n",
       "      <th>features</th>\n",
       "    </tr>\n",
       "  </thead>\n",
       "  <tbody>\n",
       "    <tr>\n",
       "      <th>22</th>\n",
       "      <td>0.053984</td>\n",
       "      <td>26</td>\n",
       "      <td>90,102,115,106,81,134,87,90,94,117,90,102,88,1...</td>\n",
       "      <td>0.056371</td>\n",
       "      <td>volatility_bb_pband_100,volume_nvi_o_close_rat...</td>\n",
       "    </tr>\n",
       "    <tr>\n",
       "      <th>23</th>\n",
       "      <td>0.059614</td>\n",
       "      <td>27</td>\n",
       "      <td>92,105,115,106,83,137,89,90,94,120,90,102,88,1...</td>\n",
       "      <td>0.057143</td>\n",
       "      <td>trend_macd_12_signal_log,volume_nvi_o_close_ra...</td>\n",
       "    </tr>\n",
       "    <tr>\n",
       "      <th>24</th>\n",
       "      <td>0.072744</td>\n",
       "      <td>25</td>\n",
       "      <td>105,120,132,121,83,157,89,90,108,120,103,102,1...</td>\n",
       "      <td>0.060234</td>\n",
       "      <td>volatility_bb_pband_100,trend_macd_12_signal_l...</td>\n",
       "    </tr>\n",
       "    <tr>\n",
       "      <th>25</th>\n",
       "      <td>0.062219</td>\n",
       "      <td>28</td>\n",
       "      <td>106,121,133,122,83,157,89,90,109,121,104,103,1...</td>\n",
       "      <td>0.060982</td>\n",
       "      <td>volatility_bb_pband_100,trend_macd_12_signal_l...</td>\n",
       "    </tr>\n",
       "    <tr>\n",
       "      <th>26</th>\n",
       "      <td>0.056502</td>\n",
       "      <td>25</td>\n",
       "      <td>102,116,128,122,80,151,86,90,109,116,100,99,98...</td>\n",
       "      <td>0.060088</td>\n",
       "      <td>volatility_bb_pband_100,trend_macd_12_signal_l...</td>\n",
       "    </tr>\n",
       "  </tbody>\n",
       "</table>\n",
       "</div>"
      ],
      "text/plain": [
       "          f1  features_count  \\\n",
       "22  0.053984              26   \n",
       "23  0.059614              27   \n",
       "24  0.072744              25   \n",
       "25  0.062219              28   \n",
       "26  0.056502              25   \n",
       "\n",
       "                                              weights      mean  \\\n",
       "22  90,102,115,106,81,134,87,90,94,117,90,102,88,1...  0.056371   \n",
       "23  92,105,115,106,83,137,89,90,94,120,90,102,88,1...  0.057143   \n",
       "24  105,120,132,121,83,157,89,90,108,120,103,102,1...  0.060234   \n",
       "25  106,121,133,122,83,157,89,90,109,121,104,103,1...  0.060982   \n",
       "26  102,116,128,122,80,151,86,90,109,116,100,99,98...  0.060088   \n",
       "\n",
       "                                             features  \n",
       "22  volatility_bb_pband_100,volume_nvi_o_close_rat...  \n",
       "23  trend_macd_12_signal_log,volume_nvi_o_close_ra...  \n",
       "24  volatility_bb_pband_100,trend_macd_12_signal_l...  \n",
       "25  volatility_bb_pband_100,trend_macd_12_signal_l...  \n",
       "26  volatility_bb_pband_100,trend_macd_12_signal_l...  "
      ]
     },
     "execution_count": 48,
     "metadata": {},
     "output_type": "execute_result"
    }
   ],
   "source": [
    "results[len(results)-5 if len(results)>5 else 0:]"
   ]
  },
  {
   "cell_type": "code",
   "execution_count": 233,
   "id": "f1a79b5d-7e3b-4458-af25-a342b3d32702",
   "metadata": {},
   "outputs": [],
   "source": [
    "# results[1050:]"
   ]
  },
  {
   "cell_type": "markdown",
   "id": "9a10703a-bac6-4f69-8aeb-0a74fc59a44a",
   "metadata": {},
   "source": [
    "## results.iloc[452].features.split(\",\")"
   ]
  },
  {
   "cell_type": "code",
   "execution_count": 95,
   "id": "bbce6413-3d49-407a-bc9f-507ce00fe795",
   "metadata": {},
   "outputs": [
    {
     "data": {
      "text/plain": [
       "['89,223,3899,4465,672,450,1818,83,259,83,2462,276,42,332,696,141,78,7629,195,1167,228,101,4844,80,2487,173,454,13643,252,1653,134,1969,12099,85,227,267,19,8455,113,13947']"
      ]
     },
     "execution_count": 95,
     "metadata": {},
     "output_type": "execute_result"
    }
   ],
   "source": [
    "list(results.tail(1).weights)"
   ]
  },
  {
   "cell_type": "code",
   "execution_count": 285,
   "id": "b5c5fb38-2666-4635-9168-7394566f0c48",
   "metadata": {},
   "outputs": [],
   "source": [
    "loc = [\"a\", \"b\", \"c\", \"d\", \"e\", \"f\", \"g\", \"h\", \"i\"]\n",
    "p = [0, 1, 100, 1, 1, 0, 0, 0, 0]"
   ]
  },
  {
   "cell_type": "code",
   "execution_count": 83,
   "id": "afa583a3-fa55-4d8b-b5aa-2185678a1039",
   "metadata": {},
   "outputs": [],
   "source": [
    "a = choice(loc, 3, p)"
   ]
  },
  {
   "cell_type": "code",
   "execution_count": 43,
   "id": "020cb857-7d4a-470a-b82b-b097d9581da3",
   "metadata": {},
   "outputs": [],
   "source": [
    "import random"
   ]
  },
  {
   "cell_type": "code",
   "execution_count": 84,
   "id": "458b51ba-c7cb-4a80-b823-d56c2e8c9374",
   "metadata": {},
   "outputs": [],
   "source": [
    "a = random.choices(population=loc, weights=p, k=3)"
   ]
  },
  {
   "cell_type": "code",
   "execution_count": 327,
   "id": "917828bb-0d44-4054-9dd0-10d13a846281",
   "metadata": {},
   "outputs": [
    {
     "data": {
      "text/plain": [
       "-3"
      ]
     },
     "execution_count": 327,
     "metadata": {},
     "output_type": "execute_result"
    }
   ],
   "source": [
    "int(-3.92)"
   ]
  },
  {
   "cell_type": "code",
   "execution_count": 234,
   "id": "0f909f84-4d91-49f3-946c-b318a798b4dd",
   "metadata": {},
   "outputs": [
    {
     "data": {
      "text/plain": [
       "['mom_ppo_30_hist',\n",
       " 'volatility_wband_20',\n",
       " 'volume_nvi_o_close_rate_50',\n",
       " 'volatility_bb_wband_200',\n",
       " 'volume_fi_amplified',\n",
       " 'trend_sma_200_diff_o_close_log',\n",
       " 'trend_sma_50_diff_log',\n",
       " 'trend_vi_50_amp',\n",
       " 'mom_rsi_30',\n",
       " 'mom_roc_50_log',\n",
       " 'mom_wr_50',\n",
       " 'target']"
      ]
     },
     "execution_count": 234,
     "metadata": {},
     "output_type": "execute_result"
    }
   ],
   "source": [
    "results.features.iloc[1077].replace(\"'\", '').replace(' ', '').split(\",\")"
   ]
  },
  {
   "cell_type": "code",
   "execution_count": 649,
   "id": "e3cc07d2-e57e-48ab-b7f6-90ba1a4be2ab",
   "metadata": {},
   "outputs": [
    {
     "ename": "AttributeError",
     "evalue": "'list' object has no attribute 'replace'",
     "output_type": "error",
     "traceback": [
      "\u001b[0;31m---------------------------------------------------------------------------\u001b[0m",
      "\u001b[0;31mAttributeError\u001b[0m                            Traceback (most recent call last)",
      "\u001b[0;32m<ipython-input-649-23a6f2f3605b>\u001b[0m in \u001b[0;36m<module>\u001b[0;34m\u001b[0m\n\u001b[0;32m----> 1\u001b[0;31m \u001b[0mlist\u001b[0m\u001b[0;34m(\u001b[0m\u001b[0mresults\u001b[0m\u001b[0;34m.\u001b[0m\u001b[0mfeatures\u001b[0m\u001b[0;34m.\u001b[0m\u001b[0miloc\u001b[0m\u001b[0;34m[\u001b[0m\u001b[0;36m402\u001b[0m\u001b[0;34m]\u001b[0m\u001b[0;34m)\u001b[0m\u001b[0;34m.\u001b[0m\u001b[0mreplace\u001b[0m\u001b[0;34m(\u001b[0m\u001b[0;34m'['\u001b[0m\u001b[0;34m,\u001b[0m \u001b[0;34m''\u001b[0m\u001b[0;34m)\u001b[0m\u001b[0;34m.\u001b[0m\u001b[0mreplace\u001b[0m\u001b[0;34m(\u001b[0m\u001b[0;34m']'\u001b[0m\u001b[0;34m,\u001b[0m \u001b[0;34m''\u001b[0m\u001b[0;34m)\u001b[0m\u001b[0;34m.\u001b[0m\u001b[0mreplace\u001b[0m\u001b[0;34m(\u001b[0m\u001b[0;34m\"'\"\u001b[0m\u001b[0;34m,\u001b[0m \u001b[0;34m''\u001b[0m\u001b[0;34m)\u001b[0m\u001b[0;34m.\u001b[0m\u001b[0mreplace\u001b[0m\u001b[0;34m(\u001b[0m\u001b[0;34m' '\u001b[0m\u001b[0;34m,\u001b[0m \u001b[0;34m''\u001b[0m\u001b[0;34m)\u001b[0m\u001b[0;34m.\u001b[0m\u001b[0msplit\u001b[0m\u001b[0;34m(\u001b[0m\u001b[0;34m\",\"\u001b[0m\u001b[0;34m)\u001b[0m\u001b[0;34m\u001b[0m\u001b[0;34m\u001b[0m\u001b[0m\n\u001b[0m",
      "\u001b[0;31mAttributeError\u001b[0m: 'list' object has no attribute 'replace'"
     ]
    }
   ],
   "source": [
    "list(results.features.tail(1))[0].replace('[', '').replace(']', '').replace(\"'\", '').replace(' ', '').split(\",\")"
   ]
  },
  {
   "cell_type": "code",
   "execution_count": 94,
   "id": "82a6f4c6-3fbc-430a-86df-a3790234497b",
   "metadata": {},
   "outputs": [
    {
     "data": {
      "text/plain": [
       "'d,s,d,f,a'"
      ]
     },
     "execution_count": 94,
     "metadata": {},
     "output_type": "execute_result"
    }
   ],
   "source": [
    "\",\".join(['d', 's', 'd', 'f', 'a'])"
   ]
  },
  {
   "cell_type": "code",
   "execution_count": null,
   "id": "008e5ea5-82dc-4c99-83f2-4c9edea2c822",
   "metadata": {},
   "outputs": [],
   "source": []
  }
 ],
 "metadata": {
  "kernelspec": {
   "display_name": "Python 3",
   "language": "python",
   "name": "python3"
  },
  "language_info": {
   "codemirror_mode": {
    "name": "ipython",
    "version": 3
   },
   "file_extension": ".py",
   "mimetype": "text/x-python",
   "name": "python",
   "nbconvert_exporter": "python",
   "pygments_lexer": "ipython3",
   "version": "3.9.4"
  }
 },
 "nbformat": 4,
 "nbformat_minor": 5
}
