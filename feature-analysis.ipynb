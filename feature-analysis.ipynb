{
 "cells": [
  {
   "cell_type": "markdown",
   "id": "1a64784f-4103-4b96-aaf1-12bc12cceb11",
   "metadata": {},
   "source": [
    "# Checking features results"
   ]
  },
  {
   "cell_type": "code",
   "execution_count": 6,
   "id": "9f69a0ee-1f80-49bb-bb23-fea52036acb7",
   "metadata": {},
   "outputs": [],
   "source": [
    "import pandas as pd\n",
    "import numpy as np\n",
    "import matplotlib.pyplot as plt"
   ]
  },
  {
   "cell_type": "code",
   "execution_count": 246,
   "id": "4d64434e-f95d-4023-a80a-d95ba181659c",
   "metadata": {},
   "outputs": [],
   "source": [
    "# results = pd.read_csv(\"data/features-weighted-results-1.csv\")\n",
    "results = pd.read_csv(\"data/coinmetrics_rate_realistic.csv\")\n",
    "# results = pd.read_csv(\"data/coinmetrics_o_close.csv\")\n",
    "\n"
   ]
  },
  {
   "cell_type": "code",
   "execution_count": 247,
   "id": "10e34be7-eae8-42c6-9e05-fc222475db3f",
   "metadata": {},
   "outputs": [
    {
     "data": {
      "text/plain": [
       "[<matplotlib.lines.Line2D at 0x7fe97994a5b0>]"
      ]
     },
     "execution_count": 247,
     "metadata": {},
     "output_type": "execute_result"
    },
    {
     "data": {
      "image/png": "[encoded data removed]",
      "text/plain": [
       "<Figure size 432x288 with 1 Axes>"
      ]
     },
     "metadata": {
      "needs_background": "light"
     },
     "output_type": "display_data"
    }
   ],
   "source": [
    "fig, ax = plt.subplots()\n",
    "ax.plot(results[\"recall\"])\n",
    "# ax1 = ax.twinx()\n",
    "# ax1.plot(results[\"f1\"])"
   ]
  },
  {
   "cell_type": "code",
   "execution_count": 248,
   "id": "aeb72e1b-4bad-45d4-bd36-ec13d8bf04a4",
   "metadata": {},
   "outputs": [
    {
     "data": {
      "text/html": [
       "<div>\n",
       "<style scoped>\n",
       "    .dataframe tbody tr th:only-of-type {\n",
       "        vertical-align: middle;\n",
       "    }\n",
       "\n",
       "    .dataframe tbody tr th {\n",
       "        vertical-align: top;\n",
       "    }\n",
       "\n",
       "    .dataframe thead th {\n",
       "        text-align: right;\n",
       "    }\n",
       "</style>\n",
       "<table border=\"1\" class=\"dataframe\">\n",
       "  <thead>\n",
       "    <tr style=\"text-align: right;\">\n",
       "      <th></th>\n",
       "      <th>f1</th>\n",
       "      <th>precision</th>\n",
       "      <th>recall</th>\n",
       "      <th>corr</th>\n",
       "      <th>importance</th>\n",
       "      <th>feature</th>\n",
       "    </tr>\n",
       "  </thead>\n",
       "  <tbody>\n",
       "    <tr>\n",
       "      <th>134</th>\n",
       "      <td>0.547758</td>\n",
       "      <td>0.616007</td>\n",
       "      <td>0.566363</td>\n",
       "      <td>0.041036</td>\n",
       "      <td>0.054493</td>\n",
       "      <td>TxTfrValMedNtv</td>\n",
       "    </tr>\n",
       "    <tr>\n",
       "      <th>135</th>\n",
       "      <td>0.585795</td>\n",
       "      <td>0.629929</td>\n",
       "      <td>0.588720</td>\n",
       "      <td>-0.022829</td>\n",
       "      <td>0.056550</td>\n",
       "      <td>TxTfrValMedUSD</td>\n",
       "    </tr>\n",
       "    <tr>\n",
       "      <th>136</th>\n",
       "      <td>0.589800</td>\n",
       "      <td>0.590927</td>\n",
       "      <td>0.616782</td>\n",
       "      <td>0.001864</td>\n",
       "      <td>0.064057</td>\n",
       "      <td>VelCur1yr</td>\n",
       "    </tr>\n",
       "    <tr>\n",
       "      <th>137</th>\n",
       "      <td>0.587309</td>\n",
       "      <td>0.624733</td>\n",
       "      <td>0.585853</td>\n",
       "      <td>0.041666</td>\n",
       "      <td>0.047889</td>\n",
       "      <td>VtyDayRet180d</td>\n",
       "    </tr>\n",
       "    <tr>\n",
       "      <th>138</th>\n",
       "      <td>0.590255</td>\n",
       "      <td>0.631815</td>\n",
       "      <td>0.589432</td>\n",
       "      <td>0.034906</td>\n",
       "      <td>0.052768</td>\n",
       "      <td>VtyDayRet30d</td>\n",
       "    </tr>\n",
       "  </tbody>\n",
       "</table>\n",
       "</div>"
      ],
      "text/plain": [
       "           f1  precision    recall      corr  importance         feature\n",
       "134  0.547758   0.616007  0.566363  0.041036    0.054493  TxTfrValMedNtv\n",
       "135  0.585795   0.629929  0.588720 -0.022829    0.056550  TxTfrValMedUSD\n",
       "136  0.589800   0.590927  0.616782  0.001864    0.064057       VelCur1yr\n",
       "137  0.587309   0.624733  0.585853  0.041666    0.047889   VtyDayRet180d\n",
       "138  0.590255   0.631815  0.589432  0.034906    0.052768    VtyDayRet30d"
      ]
     },
     "execution_count": 248,
     "metadata": {},
     "output_type": "execute_result"
    }
   ],
   "source": [
    "results[len(results)-5 if len(results)>5 else 0:]"
   ]
  },
  {
   "cell_type": "code",
   "execution_count": 178,
   "id": "f1a79b5d-7e3b-4458-af25-a342b3d32702",
   "metadata": {},
   "outputs": [
    {
     "data": {
      "text/html": [
       "<div>\n",
       "<style scoped>\n",
       "    .dataframe tbody tr th:only-of-type {\n",
       "        vertical-align: middle;\n",
       "    }\n",
       "\n",
       "    .dataframe tbody tr th {\n",
       "        vertical-align: top;\n",
       "    }\n",
       "\n",
       "    .dataframe thead th {\n",
       "        text-align: right;\n",
       "    }\n",
       "</style>\n",
       "<table border=\"1\" class=\"dataframe\">\n",
       "  <thead>\n",
       "    <tr style=\"text-align: right;\">\n",
       "      <th></th>\n",
       "      <th>f1</th>\n",
       "      <th>precision</th>\n",
       "      <th>recall</th>\n",
       "      <th>corr</th>\n",
       "      <th>importance</th>\n",
       "      <th>feature</th>\n",
       "    </tr>\n",
       "  </thead>\n",
       "  <tbody>\n",
       "    <tr>\n",
       "      <th>110</th>\n",
       "      <td>0.505383</td>\n",
       "      <td>0.625895</td>\n",
       "      <td>0.491928</td>\n",
       "      <td>-0.057062</td>\n",
       "      <td>0.049430</td>\n",
       "      <td>SplyAdrBalUSD10</td>\n",
       "    </tr>\n",
       "    <tr>\n",
       "      <th>111</th>\n",
       "      <td>0.566845</td>\n",
       "      <td>0.613599</td>\n",
       "      <td>0.580085</td>\n",
       "      <td>-0.198952</td>\n",
       "      <td>0.065804</td>\n",
       "      <td>SplyAdrBalUSD100</td>\n",
       "    </tr>\n",
       "    <tr>\n",
       "      <th>112</th>\n",
       "      <td>0.580889</td>\n",
       "      <td>0.618010</td>\n",
       "      <td>0.572871</td>\n",
       "      <td>-0.216289</td>\n",
       "      <td>0.052470</td>\n",
       "      <td>SplyAdrBalUSD100K</td>\n",
       "    </tr>\n",
       "    <tr>\n",
       "      <th>113</th>\n",
       "      <td>0.578251</td>\n",
       "      <td>0.630742</td>\n",
       "      <td>0.602055</td>\n",
       "      <td>-0.197200</td>\n",
       "      <td>0.054313</td>\n",
       "      <td>SplyAdrBalUSD10K</td>\n",
       "    </tr>\n",
       "    <tr>\n",
       "      <th>114</th>\n",
       "      <td>0.567929</td>\n",
       "      <td>0.616594</td>\n",
       "      <td>0.598791</td>\n",
       "      <td>-0.192293</td>\n",
       "      <td>0.055959</td>\n",
       "      <td>SplyAdrBalUSD10M</td>\n",
       "    </tr>\n",
       "    <tr>\n",
       "      <th>115</th>\n",
       "      <td>0.584177</td>\n",
       "      <td>0.631068</td>\n",
       "      <td>0.593043</td>\n",
       "      <td>-0.233846</td>\n",
       "      <td>0.060766</td>\n",
       "      <td>SplyAdrBalUSD1K</td>\n",
       "    </tr>\n",
       "    <tr>\n",
       "      <th>116</th>\n",
       "      <td>0.573412</td>\n",
       "      <td>0.610622</td>\n",
       "      <td>0.586925</td>\n",
       "      <td>-0.168404</td>\n",
       "      <td>0.055672</td>\n",
       "      <td>SplyAdrBalUSD1M</td>\n",
       "    </tr>\n",
       "    <tr>\n",
       "      <th>117</th>\n",
       "      <td>0.585829</td>\n",
       "      <td>0.643809</td>\n",
       "      <td>0.595568</td>\n",
       "      <td>-0.001826</td>\n",
       "      <td>0.059937</td>\n",
       "      <td>SplyAdrTop100</td>\n",
       "    </tr>\n",
       "    <tr>\n",
       "      <th>118</th>\n",
       "      <td>0.536228</td>\n",
       "      <td>0.617329</td>\n",
       "      <td>0.539049</td>\n",
       "      <td>-0.008738</td>\n",
       "      <td>0.053460</td>\n",
       "      <td>SplyAdrTop10Pct</td>\n",
       "    </tr>\n",
       "    <tr>\n",
       "      <th>119</th>\n",
       "      <td>0.556775</td>\n",
       "      <td>0.610253</td>\n",
       "      <td>0.551608</td>\n",
       "      <td>-0.023681</td>\n",
       "      <td>0.057398</td>\n",
       "      <td>SplyAdrTop1Pct</td>\n",
       "    </tr>\n",
       "    <tr>\n",
       "      <th>120</th>\n",
       "      <td>0.469169</td>\n",
       "      <td>0.608965</td>\n",
       "      <td>0.499134</td>\n",
       "      <td>0.010550</td>\n",
       "      <td>0.046488</td>\n",
       "      <td>SplyCur</td>\n",
       "    </tr>\n",
       "  </tbody>\n",
       "</table>\n",
       "</div>"
      ],
      "text/plain": [
       "           f1  precision    recall      corr  importance            feature\n",
       "110  0.505383   0.625895  0.491928 -0.057062    0.049430    SplyAdrBalUSD10\n",
       "111  0.566845   0.613599  0.580085 -0.198952    0.065804   SplyAdrBalUSD100\n",
       "112  0.580889   0.618010  0.572871 -0.216289    0.052470  SplyAdrBalUSD100K\n",
       "113  0.578251   0.630742  0.602055 -0.197200    0.054313   SplyAdrBalUSD10K\n",
       "114  0.567929   0.616594  0.598791 -0.192293    0.055959   SplyAdrBalUSD10M\n",
       "115  0.584177   0.631068  0.593043 -0.233846    0.060766    SplyAdrBalUSD1K\n",
       "116  0.573412   0.610622  0.586925 -0.168404    0.055672    SplyAdrBalUSD1M\n",
       "117  0.585829   0.643809  0.595568 -0.001826    0.059937      SplyAdrTop100\n",
       "118  0.536228   0.617329  0.539049 -0.008738    0.053460    SplyAdrTop10Pct\n",
       "119  0.556775   0.610253  0.551608 -0.023681    0.057398     SplyAdrTop1Pct\n",
       "120  0.469169   0.608965  0.499134  0.010550    0.046488            SplyCur"
      ]
     },
     "execution_count": 178,
     "metadata": {},
     "output_type": "execute_result"
    }
   ],
   "source": [
    "results[110:121]"
   ]
  },
  {
   "cell_type": "code",
   "execution_count": 253,
   "id": "f27be570-43d8-4a3a-ba46-67d35535dc4a",
   "metadata": {},
   "outputs": [],
   "source": [
    "df = results.loc[results['f1'] > 0.54]\n",
    "df = df.loc[df['precision'] > 0.64]\n",
    "df = df.loc[df['recall'] > 0.60]"
   ]
  },
  {
   "cell_type": "code",
   "execution_count": 254,
   "id": "2c46fa7d-38c8-495e-837f-ba1f9550c875",
   "metadata": {},
   "outputs": [
    {
     "data": {
      "text/plain": [
       "['AdrBalNtv100Cnt',\n",
       " 'CapMrktCurUSD',\n",
       " 'RevAllTimeUSD',\n",
       " 'SplyAdrBalNtv1M',\n",
       " 'SplyMiner0HopAllUSD']"
      ]
     },
     "execution_count": 254,
     "metadata": {},
     "output_type": "execute_result"
    }
   ],
   "source": [
    "list(df.feature)"
   ]
  },
  {
   "cell_type": "code",
   "execution_count": 209,
   "id": "26baf19a-fe4b-4bf8-a16e-99a78129639c",
   "metadata": {},
   "outputs": [
    {
     "data": {
      "text/plain": [
       "[-0.2022656742154245,\n",
       " -0.2229267699655737,\n",
       " -0.2151933756082158,\n",
       " -0.2228496092362399,\n",
       " -0.2122380559688262,\n",
       " -0.2104367434671981,\n",
       " -0.2259084830929185,\n",
       " -0.2258070230912677,\n",
       " -0.2162885600797268,\n",
       " -0.2338457495893968]"
      ]
     },
     "execution_count": 209,
     "metadata": {},
     "output_type": "execute_result"
    }
   ],
   "source": [
    "highest_corr"
   ]
  },
  {
   "cell_type": "markdown",
   "id": "9a10703a-bac6-4f69-8aeb-0a74fc59a44a",
   "metadata": {},
   "source": [
    "## results.iloc[452].features.split(\",\")"
   ]
  },
  {
   "cell_type": "code",
   "execution_count": 95,
   "id": "bbce6413-3d49-407a-bc9f-507ce00fe795",
   "metadata": {},
   "outputs": [
    {
     "data": {
      "text/plain": [
       "['89,223,3899,4465,672,450,1818,83,259,83,2462,276,42,332,696,141,78,7629,195,1167,228,101,4844,80,2487,173,454,13643,252,1653,134,1969,12099,85,227,267,19,8455,113,13947']"
      ]
     },
     "execution_count": 95,
     "metadata": {},
     "output_type": "execute_result"
    }
   ],
   "source": [
    "list(results.tail(1).weights)"
   ]
  },
  {
   "cell_type": "code",
   "execution_count": 285,
   "id": "b5c5fb38-2666-4635-9168-7394566f0c48",
   "metadata": {},
   "outputs": [],
   "source": [
    "loc = [\"a\", \"b\", \"c\", \"d\", \"e\", \"f\", \"g\", \"h\", \"i\"]\n",
    "p = [0, 1, 100, 1, 1, 0, 0, 0, 0]"
   ]
  },
  {
   "cell_type": "code",
   "execution_count": 83,
   "id": "afa583a3-fa55-4d8b-b5aa-2185678a1039",
   "metadata": {},
   "outputs": [],
   "source": [
    "a = choice(loc, 3, p)"
   ]
  },
  {
   "cell_type": "code",
   "execution_count": 43,
   "id": "020cb857-7d4a-470a-b82b-b097d9581da3",
   "metadata": {},
   "outputs": [],
   "source": [
    "import random"
   ]
  },
  {
   "cell_type": "code",
   "execution_count": 84,
   "id": "458b51ba-c7cb-4a80-b823-d56c2e8c9374",
   "metadata": {},
   "outputs": [],
   "source": [
    "a = random.choices(population=loc, weights=p, k=3)"
   ]
  },
  {
   "cell_type": "code",
   "execution_count": 327,
   "id": "917828bb-0d44-4054-9dd0-10d13a846281",
   "metadata": {},
   "outputs": [
    {
     "data": {
      "text/plain": [
       "-3"
      ]
     },
     "execution_count": 327,
     "metadata": {},
     "output_type": "execute_result"
    }
   ],
   "source": [
    "int(-3.92)"
   ]
  },
  {
   "cell_type": "code",
   "execution_count": 115,
   "id": "0f909f84-4d91-49f3-946c-b318a798b4dd",
   "metadata": {},
   "outputs": [
    {
     "data": {
      "text/plain": [
       "['volume_nvi_o_close_rate_50',\n",
       " 'mom_srsi_10_d',\n",
       " 'bb',\n",
       " 'volatility_dc_wband_10',\n",
       " 'volatility_bb_pband_100',\n",
       " 'volatility_bb_wband_200',\n",
       " 'trend_trix_20_log',\n",
       " 'trend_vi_50_amp',\n",
       " 'mom_rsi_30',\n",
       " 'volume_cmf_50_rate_200',\n",
       " 'trend_sma_200_diff_o_close_log',\n",
       " 'mom_ppo_30_hist',\n",
       " 'trend_sma_50_diff_log',\n",
       " 'target']"
      ]
     },
     "execution_count": 115,
     "metadata": {},
     "output_type": "execute_result"
    }
   ],
   "source": [
    "results.features.iloc[570].replace(\"'\", '').replace(' ', '').split(\",\")"
   ]
  },
  {
   "cell_type": "code",
   "execution_count": 649,
   "id": "e3cc07d2-e57e-48ab-b7f6-90ba1a4be2ab",
   "metadata": {},
   "outputs": [
    {
     "ename": "AttributeError",
     "evalue": "'list' object has no attribute 'replace'",
     "output_type": "error",
     "traceback": [
      "\u001b[0;31m---------------------------------------------------------------------------\u001b[0m",
      "\u001b[0;31mAttributeError\u001b[0m                            Traceback (most recent call last)",
      "\u001b[0;32m<ipython-input-649-23a6f2f3605b>\u001b[0m in \u001b[0;36m<module>\u001b[0;34m\u001b[0m\n\u001b[0;32m----> 1\u001b[0;31m \u001b[0mlist\u001b[0m\u001b[0;34m(\u001b[0m\u001b[0mresults\u001b[0m\u001b[0;34m.\u001b[0m\u001b[0mfeatures\u001b[0m\u001b[0;34m.\u001b[0m\u001b[0miloc\u001b[0m\u001b[0;34m[\u001b[0m\u001b[0;36m402\u001b[0m\u001b[0;34m]\u001b[0m\u001b[0;34m)\u001b[0m\u001b[0;34m.\u001b[0m\u001b[0mreplace\u001b[0m\u001b[0;34m(\u001b[0m\u001b[0;34m'['\u001b[0m\u001b[0;34m,\u001b[0m \u001b[0;34m''\u001b[0m\u001b[0;34m)\u001b[0m\u001b[0;34m.\u001b[0m\u001b[0mreplace\u001b[0m\u001b[0;34m(\u001b[0m\u001b[0;34m']'\u001b[0m\u001b[0;34m,\u001b[0m \u001b[0;34m''\u001b[0m\u001b[0;34m)\u001b[0m\u001b[0;34m.\u001b[0m\u001b[0mreplace\u001b[0m\u001b[0;34m(\u001b[0m\u001b[0;34m\"'\"\u001b[0m\u001b[0;34m,\u001b[0m \u001b[0;34m''\u001b[0m\u001b[0;34m)\u001b[0m\u001b[0;34m.\u001b[0m\u001b[0mreplace\u001b[0m\u001b[0;34m(\u001b[0m\u001b[0;34m' '\u001b[0m\u001b[0;34m,\u001b[0m \u001b[0;34m''\u001b[0m\u001b[0;34m)\u001b[0m\u001b[0;34m.\u001b[0m\u001b[0msplit\u001b[0m\u001b[0;34m(\u001b[0m\u001b[0;34m\",\"\u001b[0m\u001b[0;34m)\u001b[0m\u001b[0;34m\u001b[0m\u001b[0;34m\u001b[0m\u001b[0m\n\u001b[0m",
      "\u001b[0;31mAttributeError\u001b[0m: 'list' object has no attribute 'replace'"
     ]
    }
   ],
   "source": [
    "list(results.features.tail(1))[0].replace('[', '').replace(']', '').replace(\"'\", '').replace(' ', '').split(\",\")"
   ]
  },
  {
   "cell_type": "code",
   "execution_count": 94,
   "id": "82a6f4c6-3fbc-430a-86df-a3790234497b",
   "metadata": {},
   "outputs": [
    {
     "data": {
      "text/plain": [
       "'d,s,d,f,a'"
      ]
     },
     "execution_count": 94,
     "metadata": {},
     "output_type": "execute_result"
    }
   ],
   "source": [
    "\",\".join(['d', 's', 'd', 'f', 'a'])"
   ]
  },
  {
   "cell_type": "code",
   "execution_count": null,
   "id": "008e5ea5-82dc-4c99-83f2-4c9edea2c822",
   "metadata": {},
   "outputs": [],
   "source": []
  }
 ],
 "metadata": {
  "kernelspec": {
   "display_name": "Python 3",
   "language": "python",
   "name": "python3"
  },
  "language_info": {
   "codemirror_mode": {
    "name": "ipython",
    "version": 3
   },
   "file_extension": ".py",
   "mimetype": "text/x-python",
   "name": "python",
   "nbconvert_exporter": "python",
   "pygments_lexer": "ipython3",
   "version": "3.9.4"
  }
 },
 "nbformat": 4,
 "nbformat_minor": 5
}
