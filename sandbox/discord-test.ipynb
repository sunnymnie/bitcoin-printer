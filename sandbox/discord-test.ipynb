{
 "cells": [
  {
   "cell_type": "markdown",
   "id": "78427f26-53ff-4427-83f1-c3df63a90f43",
   "metadata": {},
   "source": [
    "# Discord test"
   ]
  },
  {
   "cell_type": "code",
   "execution_count": 31,
   "id": "824af45e-3992-4d05-8e59-a9a5b0a2b4fd",
   "metadata": {},
   "outputs": [],
   "source": [
    "import nest_asyncio\n",
    "nest_asyncio.apply()\n",
    "import discord\n",
    "from discord.ext import tasks, commands\n",
    "import json\n",
    "\n",
    "def get_api_keys(site: str, api_type: str)->str:\n",
    "    \"\"\"\n",
    "    gets api keys stored in api-keys/api-keys.txt\n",
    "    site: 'binance'\n",
    "    api_type: 'api', 'secret'\n",
    "    \"\"\"\n",
    "    with open('../api-keys/api-keys.txt') as json_file:\n",
    "        return json.load(json_file)[site][api_type]\n",
    "# Constants\n",
    "dtoken = get_api_keys(\"discord\", \"api\")"
   ]
  },
  {
   "cell_type": "code",
   "execution_count": 41,
   "id": "b152a2d2-c1ed-4f62-94b0-cea665eb235b",
   "metadata": {},
   "outputs": [],
   "source": [
    "client = discord.Client()"
   ]
  },
  {
   "cell_type": "code",
   "execution_count": 42,
   "id": "03ee851b-d003-4e2a-a1d0-b1107480b3cb",
   "metadata": {},
   "outputs": [],
   "source": [
    "@tasks.loop(seconds=10) #you can also have minutes=x or hours=x\n",
    "async def printer(self):\n",
    "    channel = client.get_channel(853110820611555328)\n",
    "#     await client.change_presence(activity=discord.Game('online'))\n",
    "    print('test')\n",
    "    await channel.send('here')\n",
    "    \n",
    "@printer.before_loop\n",
    "async def before():\n",
    "    await bot.wait_until_ready()"
   ]
  },
  {
   "cell_type": "code",
   "execution_count": 43,
   "id": "e11feea8-e838-4c4f-9d2e-fde502c7e7c4",
   "metadata": {},
   "outputs": [],
   "source": [
    "@client.event\n",
    "async def on_ready():\n",
    "    print('Logged in as')\n",
    "    print(client.user.name)\n",
    "    print(client.user.id)\n",
    "    print('------')\n",
    "    printer.start()"
   ]
  },
  {
   "cell_type": "code",
   "execution_count": null,
   "id": "0d1d0ff0-e3b7-4d6c-9a0b-5cde95641602",
   "metadata": {},
   "outputs": [],
   "source": [
    "client.run(dtoken)"
   ]
  },
  {
   "cell_type": "code",
   "execution_count": null,
   "id": "7af505c0-b4e7-4995-bf8f-ee6871f5bc7d",
   "metadata": {},
   "outputs": [],
   "source": [
    "a = \"test\""
   ]
  },
  {
   "cell_type": "code",
   "execution_count": null,
   "id": "2646ac7d-e62f-4ec3-ad63-32329a93a796",
   "metadata": {},
   "outputs": [],
   "source": [
    "import time\n",
    "from datetime import datetime\n",
    "while True:\n",
    "    a = str(datetime.today())\n",
    "    time.sleep(5)\n",
    "    bot.run(dtoken)"
   ]
  },
  {
   "cell_type": "code",
   "execution_count": 9,
   "id": "b8da9be8-aefd-4417-b12e-7187a1f52b67",
   "metadata": {},
   "outputs": [
    {
     "data": {
      "text/plain": [
       "'2021-06-12 13:55:29.194126'"
      ]
     },
     "execution_count": 9,
     "metadata": {},
     "output_type": "execute_result"
    }
   ],
   "source": []
  },
  {
   "cell_type": "code",
   "execution_count": 11,
   "id": "7a1635e4-dbf9-4a93-a5da-1f6ab335e37f",
   "metadata": {},
   "outputs": [],
   "source": [
    "import nest_asyncio\n",
    "nest_asyncio.apply()\n",
    "import discord\n",
    "from discord.ext import tasks, commands\n",
    "import json\n",
    "\n",
    "def get_api_keys(site: str, api_type: str)->str:\n",
    "    \"\"\"\n",
    "    gets api keys stored in api-keys/api-keys.txt\n",
    "    site: 'binance'\n",
    "    api_type: 'api', 'secret'\n",
    "    \"\"\"\n",
    "    with open('../api-keys/api-keys.txt') as json_file:\n",
    "        return json.load(json_file)[site][api_type]\n",
    "# Constants\n",
    "dtoken = get_api_keys(\"discord\", \"api\")\n",
    "\n",
    "bot = commands.Bot(command_prefix=\"!\")\n",
    "\n",
    "\n",
    "@bot.event\n",
    "async def on_ready():\n",
    "    print(\"Logged in\")\n",
    "    get_price.start()\n",
    "\n",
    "\n",
    "@tasks.loop(seconds=10)\n",
    "async def get_price():\n",
    "    channel = bot.get_channel(853110820611555328)\n",
    "    await channel.send(a)\n",
    "\n",
    "\n",
    "@get_price.before_loop\n",
    "async def before():\n",
    "    await bot.wait_until_ready()\n",
    "\n",
    "bot.run(dtoken)"
   ]
  },
  {
   "cell_type": "code",
   "execution_count": 15,
   "id": "e687bd7a-3655-4875-b7af-d5dfa463658c",
   "metadata": {},
   "outputs": [],
   "source": [
    "data = {\"message\":\"test\"}"
   ]
  },
  {
   "cell_type": "code",
   "execution_count": 16,
   "id": "84ff4c27-ffa8-4202-ad88-20b2a396af71",
   "metadata": {},
   "outputs": [],
   "source": [
    "data[\"message\"] = \"hi\""
   ]
  },
  {
   "cell_type": "code",
   "execution_count": 17,
   "id": "c6cc9108-7784-438a-ba1c-e177c7f221cc",
   "metadata": {},
   "outputs": [
    {
     "data": {
      "text/plain": [
       "{'message': 'hi'}"
      ]
     },
     "execution_count": 17,
     "metadata": {},
     "output_type": "execute_result"
    }
   ],
   "source": [
    "data"
   ]
  },
  {
   "cell_type": "code",
   "execution_count": null,
   "id": "91b28fd0-679d-40b7-886c-3a89dd821e9d",
   "metadata": {},
   "outputs": [],
   "source": []
  }
 ],
 "metadata": {
  "kernelspec": {
   "display_name": "Python 3",
   "language": "python",
   "name": "python3"
  },
  "language_info": {
   "codemirror_mode": {
    "name": "ipython",
    "version": 3
   },
   "file_extension": ".py",
   "mimetype": "text/x-python",
   "name": "python",
   "nbconvert_exporter": "python",
   "pygments_lexer": "ipython3",
   "version": "3.9.4"
  }
 },
 "nbformat": 4,
 "nbformat_minor": 5
}
