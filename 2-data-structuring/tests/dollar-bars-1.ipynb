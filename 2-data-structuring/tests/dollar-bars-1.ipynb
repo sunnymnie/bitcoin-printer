{
 "cells": [
  {
   "cell_type": "markdown",
   "id": "06c865ef-5386-4901-bf43-b70a50946e49",
   "metadata": {},
   "source": [
    "# Dollar bars alternate"
   ]
  },
  {
   "cell_type": "code",
   "execution_count": 1,
   "id": "ab318e52-4757-4815-b25b-f01b6a26c0ce",
   "metadata": {},
   "outputs": [],
   "source": [
    "import pandas as pd\n",
    "import numpy as np\n",
    "import matplotlib.pyplot as plt\n",
    "from IPython.display import clear_output\n"
   ]
  },
  {
   "cell_type": "code",
   "execution_count": 2,
   "id": "8ad4422c-8099-4a4a-b9c1-a3aa30c4b312",
   "metadata": {},
   "outputs": [],
   "source": [
    "df = pd.read_csv(\"../data/BTCUSDT-trades-100.csv\")"
   ]
  },
  {
   "cell_type": "code",
   "execution_count": 13,
   "id": "4b8072a5-8892-45d4-9522-ba1b2d29d9f4",
   "metadata": {},
   "outputs": [],
   "source": [
    "def dollar_bars(df, column, m):\n",
    "    '''\n",
    "    compute dollar bars\n",
    "\n",
    "    # args\n",
    "        df: pd.DataFrame()\n",
    "        dv_column: name for dollar volume data\n",
    "        m: int(), threshold value for dollars\n",
    "    # returns\n",
    "        idx: list of indices\n",
    "    '''\n",
    "    t = df[column]\n",
    "    ts = 0\n",
    "    idx = []\n",
    "    for i, x in enumerate(t):\n",
    "        ts += x\n",
    "        if ts >= m:\n",
    "            idx.append(i)\n",
    "            ts = 0\n",
    "            continue\n",
    "    return idx\n",
    "\n",
    "def dollar_bar_df(df, dv_column, m):\n",
    "    idx = dollar_bars(df, dv_column, m)\n",
    "    return df.iloc[idx].drop_duplicates()"
   ]
  },
  {
   "cell_type": "code",
   "execution_count": 14,
   "id": "833b5f24-f818-4fc0-9d76-cfde32c50652",
   "metadata": {},
   "outputs": [],
   "source": [
    "dv_bar_df = dollar_bar_df(df, 'p', 100_000)"
   ]
  },
  {
   "cell_type": "code",
   "execution_count": 15,
   "id": "019869aa-201c-4317-9aff-2910288e19c0",
   "metadata": {},
   "outputs": [
    {
     "data": {
      "text/html": [
       "<div>\n",
       "<style scoped>\n",
       "    .dataframe tbody tr th:only-of-type {\n",
       "        vertical-align: middle;\n",
       "    }\n",
       "\n",
       "    .dataframe tbody tr th {\n",
       "        vertical-align: top;\n",
       "    }\n",
       "\n",
       "    .dataframe thead th {\n",
       "        text-align: right;\n",
       "    }\n",
       "</style>\n",
       "<table border=\"1\" class=\"dataframe\">\n",
       "  <thead>\n",
       "    <tr style=\"text-align: right;\">\n",
       "      <th></th>\n",
       "      <th>a</th>\n",
       "      <th>p</th>\n",
       "      <th>q</th>\n",
       "      <th>f</th>\n",
       "      <th>l</th>\n",
       "      <th>T</th>\n",
       "      <th>m</th>\n",
       "      <th>M</th>\n",
       "    </tr>\n",
       "  </thead>\n",
       "  <tbody>\n",
       "    <tr>\n",
       "      <th>2</th>\n",
       "      <td>500000002</td>\n",
       "      <td>40101.06</td>\n",
       "      <td>0.003567</td>\n",
       "      <td>556555240</td>\n",
       "      <td>556555240</td>\n",
       "      <td>1610164456730</td>\n",
       "      <td>True</td>\n",
       "      <td>True</td>\n",
       "    </tr>\n",
       "    <tr>\n",
       "      <th>5</th>\n",
       "      <td>500000005</td>\n",
       "      <td>40100.71</td>\n",
       "      <td>0.170785</td>\n",
       "      <td>556555243</td>\n",
       "      <td>556555245</td>\n",
       "      <td>1610164456950</td>\n",
       "      <td>False</td>\n",
       "      <td>True</td>\n",
       "    </tr>\n",
       "    <tr>\n",
       "      <th>8</th>\n",
       "      <td>500000008</td>\n",
       "      <td>40101.05</td>\n",
       "      <td>0.000700</td>\n",
       "      <td>556555248</td>\n",
       "      <td>556555248</td>\n",
       "      <td>1610164457580</td>\n",
       "      <td>False</td>\n",
       "      <td>True</td>\n",
       "    </tr>\n",
       "    <tr>\n",
       "      <th>11</th>\n",
       "      <td>500000011</td>\n",
       "      <td>40101.04</td>\n",
       "      <td>0.009236</td>\n",
       "      <td>556555251</td>\n",
       "      <td>556555251</td>\n",
       "      <td>1610164457858</td>\n",
       "      <td>True</td>\n",
       "      <td>True</td>\n",
       "    </tr>\n",
       "    <tr>\n",
       "      <th>14</th>\n",
       "      <td>500000014</td>\n",
       "      <td>40098.11</td>\n",
       "      <td>0.005000</td>\n",
       "      <td>556555254</td>\n",
       "      <td>556555254</td>\n",
       "      <td>1610164458152</td>\n",
       "      <td>False</td>\n",
       "      <td>True</td>\n",
       "    </tr>\n",
       "    <tr>\n",
       "      <th>...</th>\n",
       "      <td>...</td>\n",
       "      <td>...</td>\n",
       "      <td>...</td>\n",
       "      <td>...</td>\n",
       "      <td>...</td>\n",
       "      <td>...</td>\n",
       "      <td>...</td>\n",
       "      <td>...</td>\n",
       "    </tr>\n",
       "    <tr>\n",
       "      <th>4999980</th>\n",
       "      <td>504999980</td>\n",
       "      <td>33272.93</td>\n",
       "      <td>0.002973</td>\n",
       "      <td>562215947</td>\n",
       "      <td>562215947</td>\n",
       "      <td>1610349967981</td>\n",
       "      <td>False</td>\n",
       "      <td>True</td>\n",
       "    </tr>\n",
       "    <tr>\n",
       "      <th>4999984</th>\n",
       "      <td>504999984</td>\n",
       "      <td>33270.64</td>\n",
       "      <td>0.000896</td>\n",
       "      <td>562215951</td>\n",
       "      <td>562215951</td>\n",
       "      <td>1610349968151</td>\n",
       "      <td>False</td>\n",
       "      <td>True</td>\n",
       "    </tr>\n",
       "    <tr>\n",
       "      <th>4999988</th>\n",
       "      <td>504999988</td>\n",
       "      <td>33270.63</td>\n",
       "      <td>0.003445</td>\n",
       "      <td>562215955</td>\n",
       "      <td>562215955</td>\n",
       "      <td>1610349968172</td>\n",
       "      <td>True</td>\n",
       "      <td>True</td>\n",
       "    </tr>\n",
       "    <tr>\n",
       "      <th>4999992</th>\n",
       "      <td>504999992</td>\n",
       "      <td>33268.81</td>\n",
       "      <td>0.116023</td>\n",
       "      <td>562215959</td>\n",
       "      <td>562215959</td>\n",
       "      <td>1610349968251</td>\n",
       "      <td>True</td>\n",
       "      <td>True</td>\n",
       "    </tr>\n",
       "    <tr>\n",
       "      <th>4999996</th>\n",
       "      <td>504999996</td>\n",
       "      <td>33270.62</td>\n",
       "      <td>0.003558</td>\n",
       "      <td>562215963</td>\n",
       "      <td>562215963</td>\n",
       "      <td>1610349968286</td>\n",
       "      <td>False</td>\n",
       "      <td>True</td>\n",
       "    </tr>\n",
       "  </tbody>\n",
       "</table>\n",
       "<p>1657455 rows × 8 columns</p>\n",
       "</div>"
      ],
      "text/plain": [
       "                 a         p         q          f          l              T  \\\n",
       "2        500000002  40101.06  0.003567  556555240  556555240  1610164456730   \n",
       "5        500000005  40100.71  0.170785  556555243  556555245  1610164456950   \n",
       "8        500000008  40101.05  0.000700  556555248  556555248  1610164457580   \n",
       "11       500000011  40101.04  0.009236  556555251  556555251  1610164457858   \n",
       "14       500000014  40098.11  0.005000  556555254  556555254  1610164458152   \n",
       "...            ...       ...       ...        ...        ...            ...   \n",
       "4999980  504999980  33272.93  0.002973  562215947  562215947  1610349967981   \n",
       "4999984  504999984  33270.64  0.000896  562215951  562215951  1610349968151   \n",
       "4999988  504999988  33270.63  0.003445  562215955  562215955  1610349968172   \n",
       "4999992  504999992  33268.81  0.116023  562215959  562215959  1610349968251   \n",
       "4999996  504999996  33270.62  0.003558  562215963  562215963  1610349968286   \n",
       "\n",
       "             m     M  \n",
       "2         True  True  \n",
       "5        False  True  \n",
       "8        False  True  \n",
       "11        True  True  \n",
       "14       False  True  \n",
       "...        ...   ...  \n",
       "4999980  False  True  \n",
       "4999984  False  True  \n",
       "4999988   True  True  \n",
       "4999992   True  True  \n",
       "4999996  False  True  \n",
       "\n",
       "[1657455 rows x 8 columns]"
      ]
     },
     "execution_count": 15,
     "metadata": {},
     "output_type": "execute_result"
    }
   ],
   "source": [
    "dv_bar_df"
   ]
  },
  {
   "cell_type": "code",
   "execution_count": 16,
   "id": "a680796b-8bbe-4108-8898-f5512304cca1",
   "metadata": {},
   "outputs": [
    {
     "data": {
      "text/plain": [
       "[<matplotlib.lines.Line2D at 0x7fac1d211910>]"
      ]
     },
     "execution_count": 16,
     "metadata": {},
     "output_type": "execute_result"
    },
    {
     "data": {
      "image/png": "[encoded data removed]",
      "text/plain": [
       "<Figure size 432x288 with 1 Axes>"
      ]
     },
     "metadata": {
      "needs_background": "light"
     },
     "output_type": "display_data"
    }
   ],
   "source": [
    "plt.plot(dv_bar_df.p)"
   ]
  },
  {
   "cell_type": "code",
   "execution_count": null,
   "id": "8af73868-8a4b-4abb-b5aa-979e6c6813b5",
   "metadata": {},
   "outputs": [],
   "source": []
  }
 ],
 "metadata": {
  "kernelspec": {
   "display_name": "Python 3",
   "language": "python",
   "name": "python3"
  },
  "language_info": {
   "codemirror_mode": {
    "name": "ipython",
    "version": 3
   },
   "file_extension": ".py",
   "mimetype": "text/x-python",
   "name": "python",
   "nbconvert_exporter": "python",
   "pygments_lexer": "ipython3",
   "version": "3.9.4"
  }
 },
 "nbformat": 4,
 "nbformat_minor": 5
}
