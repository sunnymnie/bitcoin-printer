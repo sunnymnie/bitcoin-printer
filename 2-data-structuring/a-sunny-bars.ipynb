{
 "cells": [
  {
   "cell_type": "markdown",
   "id": "359f9a9c-87d1-4f5c-9d6c-f02a6f75ac18",
   "metadata": {},
   "source": [
    "# Dollar bars vs Volume bars Sunny\n",
    "Purpose: To determine whether we should use dollar bars or volume bars for the rest of this project. First, we will find metrics that are important, then find out how to implement them, then come to a conclusion on which bars perform the best. \n",
    "\n",
    "Helpful resources:\n",
    "- https://towardsdatascience.com/advanced-candlesticks-for-machine-learning-ii-volume-and-dollar-bars-6cda27e3201d\n",
    "- Advances in Financial Machine Learning from 2.3.1 to 2.3.2"
   ]
  },
  {
   "cell_type": "code",
   "execution_count": 1,
   "id": "a259a4b2-7bac-4400-b48d-509055347528",
   "metadata": {},
   "outputs": [],
   "source": [
    "import pandas as pd\n",
    "import numpy as np\n",
    "import matplotlib.pyplot as plt\n",
    "import seaborn as sns"
   ]
  },
  {
   "cell_type": "code",
   "execution_count": 2,
   "id": "ff5c9531-c4ee-4652-9a2b-374723926292",
   "metadata": {},
   "outputs": [],
   "source": [
    "db = pd.read_csv(\"../data/BTCUSDT-dollar-bars.csv\")\n",
    "vb = pd.read_csv(\"../data/BTCUSDT-volume-bars.csv\")\n",
    "tb = pd.read_csv(\"../data/discarded/BTCUSDT-minute-target-ui.csv\")"
   ]
  },
  {
   "cell_type": "code",
   "execution_count": null,
   "id": "b7db9373-e819-458f-8576-72045f33e270",
   "metadata": {},
   "outputs": [],
   "source": []
  }
 ],
 "metadata": {
  "kernelspec": {
   "display_name": "Python 3",
   "language": "python",
   "name": "python3"
  },
  "language_info": {
   "codemirror_mode": {
    "name": "ipython",
    "version": 3
   },
   "file_extension": ".py",
   "mimetype": "text/x-python",
   "name": "python",
   "nbconvert_exporter": "python",
   "pygments_lexer": "ipython3",
   "version": "3.9.4"
  }
 },
 "nbformat": 4,
 "nbformat_minor": 5
}
