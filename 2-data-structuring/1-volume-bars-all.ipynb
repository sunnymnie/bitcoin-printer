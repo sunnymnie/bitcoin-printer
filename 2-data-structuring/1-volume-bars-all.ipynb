{
 "cells": [
  {
   "cell_type": "markdown",
   "id": "800c6805-50dd-4022-b12c-f9fb9d1f8fd5",
   "metadata": {},
   "source": [
    "# Volume bars all"
   ]
  },
  {
   "cell_type": "code",
   "execution_count": 1,
   "id": "807faac1-5178-41a1-a0ad-b5917cdbd9fd",
   "metadata": {},
   "outputs": [],
   "source": [
    "import pandas as pd\n",
    "import numpy as np\n",
    "import datetime\n",
    "from IPython.display import clear_output"
   ]
  },
  {
   "cell_type": "code",
   "execution_count": 2,
   "id": "dcfdf043-c6bd-4096-9310-9c406ffdb259",
   "metadata": {},
   "outputs": [
    {
     "name": "stdin",
     "output_type": "stream",
     "text": [
      "Type 'yes, override BTCUSDT-volume-bars-base.csv' to override existing volume bars csv. yes, override BTCUSDT-volume-bars-base.csv\n"
     ]
    }
   ],
   "source": [
    "ans = input(\"Type 'yes, override BTCUSDT-volume-bars-base.csv' to override existing volume bars csv.\")\n",
    "if ans == 'yes, override BTCUSDT-volume-bars-base.csv':\n",
    "    df = pd.DataFrame([], columns=[\"time\", \"open\", \"high\", \"low\", \"close\", \"volume\"])\n",
    "    df.to_csv(\"../data/BTCUSDT-volume-bars-base.csv\", index=False)\n",
    "else:\n",
    "    pass"
   ]
  },
  {
   "cell_type": "code",
   "execution_count": 5,
   "id": "c31c4c3f-ff63-4892-b648-8356ec68c093",
   "metadata": {},
   "outputs": [],
   "source": [
    "# expects a numpy array with trades\n",
    "# each trade is composed of: [time, price, quantity]\n",
    "def generate_volumebars(trades, frequency=5):\n",
    "    times = trades[:,0]\n",
    "    prices = trades[:,1]\n",
    "    volumes = trades[:,2]\n",
    "    ans = np.zeros(shape=(len(prices), 6))\n",
    "    candle_counter = 0\n",
    "    vol = 0\n",
    "    lasti = 0\n",
    "    for i in range(len(prices)):\n",
    "        vol += volumes[i]\n",
    "        if vol >= frequency:\n",
    "            ans[candle_counter][0] = times[i]                          # time\n",
    "            ans[candle_counter][1] = prices[lasti]                     # open\n",
    "            ans[candle_counter][2] = np.max(prices[lasti:i+1])         # high\n",
    "            ans[candle_counter][3] = np.min(prices[lasti:i+1])         # low\n",
    "            ans[candle_counter][4] = prices[i]                         # close\n",
    "            ans[candle_counter][5] = np.sum(volumes[lasti:i+1])        # volume\n",
    "            candle_counter += 1\n",
    "            lasti = i+1\n",
    "            vol = 0\n",
    "    return ans[:candle_counter], trades[lasti:]"
   ]
  },
  {
   "cell_type": "code",
   "execution_count": null,
   "id": "41346b87-a04e-46a7-9d34-f600281cca00",
   "metadata": {},
   "outputs": [
    {
     "name": "stdout",
     "output_type": "stream",
     "text": [
      "reading ../data/BTCUSDT-trades-140.csv\n",
      "converting to numpy...\n",
      "Adding previous trades to numpy array...\n",
      "Generating volume bars...\n",
      "Reading, concating, saving csv...\n"
     ]
    }
   ],
   "source": [
    "lot = None #lot is left over trades, trades at end of previous dataframe not used\n",
    "\n",
    "for i in range(163):\n",
    "    print(f\"reading ../data/BTCUSDT-trades-{str(i)}.csv\")\n",
    "    df = pd.read_csv(f\"../data/BTCUSDT-trades-{str(i)}.csv\")\n",
    "    print(f\"converting to numpy...\")\n",
    "    df_np = df[[\"T\", \"p\", \"q\"]].to_numpy()\n",
    "    if type(lot) == np.ndarray:\n",
    "        print(f\"Adding previous trades to numpy array...\")\n",
    "        df_np = np.append(lot, df_np, 0) #Add left over trades to beginning of new dataframe\n",
    "    print(f\"Generating volume bars...\")\n",
    "    ohlc, lot = generate_volumebars(df_np)\n",
    "    print(f\"Reading, concating, saving csv...\")\n",
    "    ohlc = pd.DataFrame(ohlc, columns=[\"time\", \"open\", \"high\", \"low\", \"close\", \"volume\"])\n",
    "    pohlc = pd.read_csv(\"../data/BTCUSDT-volume-bars-base.csv\") #Previous ohlc\n",
    "    ohlc = pd.concat([pohlc, ohlc])\n",
    "    ohlc.to_csv(\"../data/BTCUSDT-volume-bars-base.csv\", index=False)\n",
    "    ohlc = None\n",
    "    pohlc = None\n",
    "    clear_output()"
   ]
  },
  {
   "cell_type": "code",
   "execution_count": null,
   "id": "6d9b2a2f-af90-4c4b-8ea2-1d3e76552241",
   "metadata": {},
   "outputs": [],
   "source": []
  }
 ],
 "metadata": {
  "kernelspec": {
   "display_name": "Python 3",
   "language": "python",
   "name": "python3"
  },
  "language_info": {
   "codemirror_mode": {
    "name": "ipython",
    "version": 3
   },
   "file_extension": ".py",
   "mimetype": "text/x-python",
   "name": "python",
   "nbconvert_exporter": "python",
   "pygments_lexer": "ipython3",
   "version": "3.9.4"
  }
 },
 "nbformat": 4,
 "nbformat_minor": 5
}
