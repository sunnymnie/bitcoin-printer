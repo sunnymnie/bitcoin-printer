{
 "cells": [
  {
   "cell_type": "markdown",
   "id": "800c6805-50dd-4022-b12c-f9fb9d1f8fd5",
   "metadata": {},
   "source": [
    "# Volume bars all"
   ]
  },
  {
   "cell_type": "code",
   "execution_count": 1,
   "id": "807faac1-5178-41a1-a0ad-b5917cdbd9fd",
   "metadata": {},
   "outputs": [],
   "source": [
    "import pandas as pd\n",
    "import numpy as np\n",
    "import datetime\n",
    "from IPython.display import clear_output"
   ]
  },
  {
   "cell_type": "code",
   "execution_count": 2,
   "id": "dcfdf043-c6bd-4096-9310-9c406ffdb259",
   "metadata": {},
   "outputs": [
    {
     "name": "stdin",
     "output_type": "stream",
     "text": [
      "Type 'yes, override BTCUSDT-volume-bars-base.csv' to override existing volume bars csv. yes, override BTCUSDT-volume-bars-base.csv\n"
     ]
    }
   ],
   "source": [
    "ans = input(\"Type 'yes, override BTCUSDT-volume-bars-base.csv' to override existing volume bars csv.\")\n",
    "if ans == 'yes, override BTCUSDT-volume-bars-base.csv':\n",
    "    df = pd.DataFrame([], columns=[\"time\", \"open\", \"high\", \"low\", \"close\", \"volume\"])\n",
    "    df.to_csv(\"../data/BTCUSDT-volume-bars-base.csv\", index=False)\n",
    "else:\n",
    "    pass"
   ]
  },
  {
   "cell_type": "code",
   "execution_count": 3,
   "id": "c31c4c3f-ff63-4892-b648-8356ec68c093",
   "metadata": {},
   "outputs": [],
   "source": [
    "# expects a numpy array with trades\n",
    "# each trade is composed of: [time, price, quantity]\n",
    "def generate_volumebars(trades, frequency=5):\n",
    "    times = trades[:,0]\n",
    "    prices = trades[:,1]\n",
    "    volumes = trades[:,2]\n",
    "    ans = np.zeros(shape=(len(prices), 6))\n",
    "    candle_counter = 0\n",
    "    vol = 0\n",
    "    lasti = 0\n",
    "    for i in range(len(prices)):\n",
    "        vol += volumes[i]\n",
    "        if vol >= frequency:\n",
    "            ans[candle_counter][0] = times[i]                          # time\n",
    "            ans[candle_counter][1] = prices[lasti]                     # open\n",
    "            ans[candle_counter][2] = np.max(prices[lasti:i+1])         # high\n",
    "            ans[candle_counter][3] = np.min(prices[lasti:i+1])         # low\n",
    "            ans[candle_counter][4] = prices[i]                         # close\n",
    "            ans[candle_counter][5] = np.sum(volumes[lasti:i+1])        # volume\n",
    "            candle_counter += 1\n",
    "            lasti = i+1\n",
    "            vol = 0\n",
    "    return ans[:candle_counter], trades[lasti:]"
   ]
  },
  {
   "cell_type": "code",
   "execution_count": 4,
   "id": "41346b87-a04e-46a7-9d34-f600281cca00",
   "metadata": {},
   "outputs": [],
   "source": [
    "lot = None #lot is left over trades, trades at end of previous dataframe not used\n",
    "\n",
    "pohlc = pd.read_csv(\"../data/BTCUSDT-volume-bars-base.csv\") #Previous ohlc\n",
    "\n",
    "try: \n",
    "    for i in range(163):\n",
    "        print(f\"reading ../data/BTCUSDT-trades-{str(i)}.csv\")\n",
    "        df = pd.read_csv(f\"../data/BTCUSDT-trades-{str(i)}.csv\")\n",
    "        print(f\"converting to numpy...\")\n",
    "        df_np = df[[\"T\", \"p\", \"q\"]].to_numpy()\n",
    "        df = None\n",
    "        if type(lot) == np.ndarray:\n",
    "            print(f\"Adding previous trades to numpy array...\")\n",
    "            df_np = np.append(lot, df_np, 0) #Add left over trades to beginning of new dataframe\n",
    "        print(f\"Generating volume bars...\")\n",
    "        ohlc, lot = generate_volumebars(df_np)\n",
    "        print(f\"Reading, concating, saving csv...\")\n",
    "        ohlc = pd.DataFrame(ohlc, columns=[\"time\", \"open\", \"high\", \"low\", \"close\", \"volume\"])\n",
    "\n",
    "        pohlc = pd.concat([pohlc, ohlc])\n",
    "\n",
    "        ohlc = None\n",
    "        clear_output()\n",
    "except:\n",
    "    print(\"Error occured, saving existing dataframe\")\n",
    "    \n",
    "pohlc.to_csv(\"../data/BTCUSDT-volume-bars-base.csv\", index=False)\n",
    "pohlc = None"
   ]
  },
  {
   "cell_type": "markdown",
   "id": "4ba026a1-bda1-4f20-8723-4d292b1128e8",
   "metadata": {},
   "source": [
    "## Remove duplicated index and set time index"
   ]
  },
  {
   "cell_type": "code",
   "execution_count": 13,
   "id": "c61a2d09-37c2-43e4-9c6e-b7099adf9ac2",
   "metadata": {},
   "outputs": [
    {
     "data": {
      "text/plain": [
       "12283672"
      ]
     },
     "execution_count": 13,
     "metadata": {},
     "output_type": "execute_result"
    }
   ],
   "source": [
    "df = pd.read_csv(\"../data/BTCUSDT-volume-bars-base.csv\")\n",
    "len(df)"
   ]
  },
  {
   "cell_type": "code",
   "execution_count": 14,
   "id": "8ce8b1a6-a215-4b5d-a07a-35064d98a673",
   "metadata": {},
   "outputs": [
    {
     "data": {
      "text/html": [
       "<div>\n",
       "<style scoped>\n",
       "    .dataframe tbody tr th:only-of-type {\n",
       "        vertical-align: middle;\n",
       "    }\n",
       "\n",
       "    .dataframe tbody tr th {\n",
       "        vertical-align: top;\n",
       "    }\n",
       "\n",
       "    .dataframe thead th {\n",
       "        text-align: right;\n",
       "    }\n",
       "</style>\n",
       "<table border=\"1\" class=\"dataframe\">\n",
       "  <thead>\n",
       "    <tr style=\"text-align: right;\">\n",
       "      <th></th>\n",
       "      <th>time</th>\n",
       "      <th>open</th>\n",
       "      <th>high</th>\n",
       "      <th>low</th>\n",
       "      <th>close</th>\n",
       "      <th>volume</th>\n",
       "    </tr>\n",
       "  </thead>\n",
       "  <tbody>\n",
       "    <tr>\n",
       "      <th>0</th>\n",
       "      <td>1.502944e+12</td>\n",
       "      <td>4261.48</td>\n",
       "      <td>4280.56</td>\n",
       "      <td>4261.48</td>\n",
       "      <td>4266.29</td>\n",
       "      <td>5.002297</td>\n",
       "    </tr>\n",
       "    <tr>\n",
       "      <th>1</th>\n",
       "      <td>1.502944e+12</td>\n",
       "      <td>4266.29</td>\n",
       "      <td>4270.41</td>\n",
       "      <td>4261.32</td>\n",
       "      <td>4267.47</td>\n",
       "      <td>5.356629</td>\n",
       "    </tr>\n",
       "    <tr>\n",
       "      <th>2</th>\n",
       "      <td>1.502944e+12</td>\n",
       "      <td>4261.45</td>\n",
       "      <td>4280.56</td>\n",
       "      <td>4261.45</td>\n",
       "      <td>4267.99</td>\n",
       "      <td>7.935627</td>\n",
       "    </tr>\n",
       "  </tbody>\n",
       "</table>\n",
       "</div>"
      ],
      "text/plain": [
       "           time     open     high      low    close    volume\n",
       "0  1.502944e+12  4261.48  4280.56  4261.48  4266.29  5.002297\n",
       "1  1.502944e+12  4266.29  4270.41  4261.32  4267.47  5.356629\n",
       "2  1.502944e+12  4261.45  4280.56  4261.45  4267.99  7.935627"
      ]
     },
     "execution_count": 14,
     "metadata": {},
     "output_type": "execute_result"
    }
   ],
   "source": [
    "df.head(3)"
   ]
  },
  {
   "cell_type": "code",
   "execution_count": 15,
   "id": "b4dc3140-eaec-47c9-bd1d-469e7c8aa9b5",
   "metadata": {},
   "outputs": [
    {
     "data": {
      "text/plain": [
       "11798850"
      ]
     },
     "execution_count": 15,
     "metadata": {},
     "output_type": "execute_result"
    }
   ],
   "source": [
    "df[\"time\"] = list(map(lambda x: datetime.datetime.utcfromtimestamp(x/1000), df.time))\n",
    "df = df.set_index([\"time\"], drop=True)\n",
    "df = df[~df.index.duplicated(keep='first')]\n",
    "len(df)"
   ]
  },
  {
   "cell_type": "code",
   "execution_count": 16,
   "id": "49439c5d-fdfd-40f7-91c7-228a377191fe",
   "metadata": {},
   "outputs": [
    {
     "data": {
      "text/html": [
       "<div>\n",
       "<style scoped>\n",
       "    .dataframe tbody tr th:only-of-type {\n",
       "        vertical-align: middle;\n",
       "    }\n",
       "\n",
       "    .dataframe tbody tr th {\n",
       "        vertical-align: top;\n",
       "    }\n",
       "\n",
       "    .dataframe thead th {\n",
       "        text-align: right;\n",
       "    }\n",
       "</style>\n",
       "<table border=\"1\" class=\"dataframe\">\n",
       "  <thead>\n",
       "    <tr style=\"text-align: right;\">\n",
       "      <th></th>\n",
       "      <th>open</th>\n",
       "      <th>high</th>\n",
       "      <th>low</th>\n",
       "      <th>close</th>\n",
       "      <th>volume</th>\n",
       "    </tr>\n",
       "    <tr>\n",
       "      <th>time</th>\n",
       "      <th></th>\n",
       "      <th></th>\n",
       "      <th></th>\n",
       "      <th></th>\n",
       "      <th></th>\n",
       "    </tr>\n",
       "  </thead>\n",
       "  <tbody>\n",
       "    <tr>\n",
       "      <th>2017-08-17 04:21:13.356</th>\n",
       "      <td>4261.48</td>\n",
       "      <td>4280.56</td>\n",
       "      <td>4261.48</td>\n",
       "      <td>4266.29</td>\n",
       "      <td>5.002297</td>\n",
       "    </tr>\n",
       "    <tr>\n",
       "      <th>2017-08-17 04:29:19.766</th>\n",
       "      <td>4266.29</td>\n",
       "      <td>4270.41</td>\n",
       "      <td>4261.32</td>\n",
       "      <td>4267.47</td>\n",
       "      <td>5.356629</td>\n",
       "    </tr>\n",
       "    <tr>\n",
       "      <th>2017-08-17 04:33:00.057</th>\n",
       "      <td>4261.45</td>\n",
       "      <td>4280.56</td>\n",
       "      <td>4261.45</td>\n",
       "      <td>4267.99</td>\n",
       "      <td>7.935627</td>\n",
       "    </tr>\n",
       "  </tbody>\n",
       "</table>\n",
       "</div>"
      ],
      "text/plain": [
       "                            open     high      low    close    volume\n",
       "time                                                                 \n",
       "2017-08-17 04:21:13.356  4261.48  4280.56  4261.48  4266.29  5.002297\n",
       "2017-08-17 04:29:19.766  4266.29  4270.41  4261.32  4267.47  5.356629\n",
       "2017-08-17 04:33:00.057  4261.45  4280.56  4261.45  4267.99  7.935627"
      ]
     },
     "execution_count": 16,
     "metadata": {},
     "output_type": "execute_result"
    }
   ],
   "source": [
    "df.head(3)"
   ]
  },
  {
   "cell_type": "code",
   "execution_count": 17,
   "id": "33764416-75f8-4453-be04-906f9f9fc7ea",
   "metadata": {},
   "outputs": [
    {
     "data": {
      "text/plain": [
       "True"
      ]
     },
     "execution_count": 17,
     "metadata": {},
     "output_type": "execute_result"
    }
   ],
   "source": [
    "df.index.is_monotonic_increasing"
   ]
  },
  {
   "cell_type": "code",
   "execution_count": 18,
   "id": "2c2a80cb-da87-4167-9651-f7cb3aca53e9",
   "metadata": {},
   "outputs": [],
   "source": [
    "df.to_csv(\"../data/BTCUSDT-volume-bars.csv\")"
   ]
  },
  {
   "cell_type": "markdown",
   "id": "b5f89ace-726c-4339-b0ef-c17475f5bcb6",
   "metadata": {},
   "source": [
    "## Depreciated code:"
   ]
  },
  {
   "cell_type": "code",
   "execution_count": null,
   "id": "5c1679c7-cd82-491b-a6e8-6ff34e37cd64",
   "metadata": {},
   "outputs": [],
   "source": [
    "lot = None #lot is left over trades, trades at end of previous dataframe not used\n",
    "\n",
    "for i in range(163):\n",
    "    print(f\"reading ../data/BTCUSDT-trades-{str(i)}.csv\")\n",
    "    df = pd.read_csv(f\"../data/BTCUSDT-trades-{str(i)}.csv\")\n",
    "    print(f\"converting to numpy...\")\n",
    "    df_np = df[[\"T\", \"p\", \"q\"]].to_numpy()\n",
    "    if type(lot) == np.ndarray:\n",
    "        print(f\"Adding previous trades to numpy array...\")\n",
    "        df_np = np.append(lot, df_np, 0) #Add left over trades to beginning of new dataframe\n",
    "    print(f\"Generating volume bars...\")\n",
    "    ohlc, lot = generate_volumebars(df_np)\n",
    "    print(f\"Reading, concating, saving csv...\")\n",
    "    ohlc = pd.DataFrame(ohlc, columns=[\"time\", \"open\", \"high\", \"low\", \"close\", \"volume\"])\n",
    "    pohlc = pd.read_csv(\"../data/BTCUSDT-volume-bars-base.csv\") #Previous ohlc\n",
    "    ohlc = pd.concat([pohlc, ohlc])\n",
    "    ohlc.to_csv(\"../data/BTCUSDT-volume-bars-base.csv\", index=False)\n",
    "    ohlc = None\n",
    "    pohlc = None\n",
    "    clear_output()"
   ]
  }
 ],
 "metadata": {
  "kernelspec": {
   "display_name": "Python 3",
   "language": "python",
   "name": "python3"
  },
  "language_info": {
   "codemirror_mode": {
    "name": "ipython",
    "version": 3
   },
   "file_extension": ".py",
   "mimetype": "text/x-python",
   "name": "python",
   "nbconvert_exporter": "python",
   "pygments_lexer": "ipython3",
   "version": "3.9.4"
  }
 },
 "nbformat": 4,
 "nbformat_minor": 5
}
