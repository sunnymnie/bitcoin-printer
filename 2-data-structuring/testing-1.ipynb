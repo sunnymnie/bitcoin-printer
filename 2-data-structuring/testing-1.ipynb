{
 "cells": [
  {
   "cell_type": "markdown",
   "id": "ffc97dad-c83c-4ff4-8456-059d35fe5189",
   "metadata": {},
   "source": [
    "# Testing 2"
   ]
  },
  {
   "cell_type": "code",
   "execution_count": 7,
   "id": "681caacf-459f-4e5e-ab86-4754a658ba29",
   "metadata": {},
   "outputs": [],
   "source": [
    "import pandas as pd\n",
    "import numpy as np\n",
    "import matplotlib.pyplot as plt\n",
    "import datetime"
   ]
  },
  {
   "cell_type": "code",
   "execution_count": 102,
   "id": "cc26615c-bf06-42b9-abf7-1a81559f3f18",
   "metadata": {},
   "outputs": [],
   "source": [
    "def get_daily_vol(close, span0=100):\n",
    "    \"\"\"\n",
    "    daily vol, reindexed to close\n",
    "    \n",
    "    Arguments:\n",
    "    close -- daily close (probably Pandas series)\n",
    "    span0 -- span lol (probably int)\n",
    "    Purpose:\n",
    "    use the output of this function to set default profit taking and stop-loss limit\n",
    "    \"\"\"\n",
    "    df0 = close.index.searchsorted(close.index-pd.Timedelta(days=1))\n",
    "    print(len(df0))\n",
    "    df0=df0[df0>0]\n",
    "    print(len(df0))\n",
    "    df0=pd.Series(close.index[df0-1], index=close.index[close.shape[0]-df0.shape[0]:])\n",
    "    print(len(df0))\n",
    "    df0=close.loc[df0.index]/close.loc[df0.values].values-1 # daily returns\n",
    "    print(len(df0))\n",
    "    df0=df0.ewm(span=span0).std()\n",
    "    print(len(df0))\n",
    "    return df0"
   ]
  },
  {
   "cell_type": "code",
   "execution_count": 142,
   "id": "1dfaee30-c061-4731-aa9a-6ba6d6845f19",
   "metadata": {},
   "outputs": [],
   "source": [
    "df = pd.read_csv(\"../data/testing.csv\")"
   ]
  },
  {
   "cell_type": "code",
   "execution_count": 143,
   "id": "e2bde53e-2618-4d13-8f21-88e8c9df9890",
   "metadata": {},
   "outputs": [],
   "source": [
    "df[\"time\"] = list(map(lambda x: datetime.datetime.fromtimestamp(x/1000), df.time))\n",
    "df = df.set_index([\"time\"], drop=True)"
   ]
  },
  {
   "cell_type": "code",
   "execution_count": 148,
   "id": "68999f43-edb0-416d-bff9-ffee8dbd9d53",
   "metadata": {},
   "outputs": [],
   "source": [
    "df = df[~df.index.duplicated(keep='first')]"
   ]
  },
  {
   "cell_type": "code",
   "execution_count": 149,
   "id": "9fbf9027-1699-4296-a2b4-214362c91d5c",
   "metadata": {},
   "outputs": [
    {
     "data": {
      "text/html": [
       "<div>\n",
       "<style scoped>\n",
       "    .dataframe tbody tr th:only-of-type {\n",
       "        vertical-align: middle;\n",
       "    }\n",
       "\n",
       "    .dataframe tbody tr th {\n",
       "        vertical-align: top;\n",
       "    }\n",
       "\n",
       "    .dataframe thead th {\n",
       "        text-align: right;\n",
       "    }\n",
       "</style>\n",
       "<table border=\"1\" class=\"dataframe\">\n",
       "  <thead>\n",
       "    <tr style=\"text-align: right;\">\n",
       "      <th></th>\n",
       "      <th>open</th>\n",
       "      <th>high</th>\n",
       "      <th>low</th>\n",
       "      <th>close</th>\n",
       "      <th>volume</th>\n",
       "    </tr>\n",
       "    <tr>\n",
       "      <th>time</th>\n",
       "      <th></th>\n",
       "      <th></th>\n",
       "      <th></th>\n",
       "      <th></th>\n",
       "      <th></th>\n",
       "    </tr>\n",
       "  </thead>\n",
       "  <tbody>\n",
       "    <tr>\n",
       "      <th>2021-01-08 19:54:22.456</th>\n",
       "      <td>40101.08</td>\n",
       "      <td>40101.08</td>\n",
       "      <td>40095.39</td>\n",
       "      <td>40095.39</td>\n",
       "      <td>2.548936</td>\n",
       "    </tr>\n",
       "    <tr>\n",
       "      <th>2021-01-08 19:54:31.003</th>\n",
       "      <td>40095.38</td>\n",
       "      <td>40119.01</td>\n",
       "      <td>40095.36</td>\n",
       "      <td>40119.01</td>\n",
       "      <td>2.581447</td>\n",
       "    </tr>\n",
       "    <tr>\n",
       "      <th>2021-01-08 19:54:39.317</th>\n",
       "      <td>40115.30</td>\n",
       "      <td>40129.52</td>\n",
       "      <td>40115.30</td>\n",
       "      <td>40129.44</td>\n",
       "      <td>2.657171</td>\n",
       "    </tr>\n",
       "    <tr>\n",
       "      <th>2021-01-08 19:54:42.244</th>\n",
       "      <td>40129.44</td>\n",
       "      <td>40129.44</td>\n",
       "      <td>40129.35</td>\n",
       "      <td>40129.35</td>\n",
       "      <td>2.988235</td>\n",
       "    </tr>\n",
       "    <tr>\n",
       "      <th>2021-01-08 19:54:44.811</th>\n",
       "      <td>40129.35</td>\n",
       "      <td>40129.35</td>\n",
       "      <td>40100.00</td>\n",
       "      <td>40102.96</td>\n",
       "      <td>3.588482</td>\n",
       "    </tr>\n",
       "    <tr>\n",
       "      <th>...</th>\n",
       "      <td>...</td>\n",
       "      <td>...</td>\n",
       "      <td>...</td>\n",
       "      <td>...</td>\n",
       "      <td>...</td>\n",
       "    </tr>\n",
       "    <tr>\n",
       "      <th>2021-01-10 23:26:03.620</th>\n",
       "      <td>33283.27</td>\n",
       "      <td>33312.49</td>\n",
       "      <td>33277.92</td>\n",
       "      <td>33291.65</td>\n",
       "      <td>3.225255</td>\n",
       "    </tr>\n",
       "    <tr>\n",
       "      <th>2021-01-10 23:26:05.362</th>\n",
       "      <td>33291.65</td>\n",
       "      <td>33306.28</td>\n",
       "      <td>33272.62</td>\n",
       "      <td>33287.33</td>\n",
       "      <td>3.040252</td>\n",
       "    </tr>\n",
       "    <tr>\n",
       "      <th>2021-01-10 23:26:06.023</th>\n",
       "      <td>33287.33</td>\n",
       "      <td>33287.34</td>\n",
       "      <td>33238.66</td>\n",
       "      <td>33238.66</td>\n",
       "      <td>3.071353</td>\n",
       "    </tr>\n",
       "    <tr>\n",
       "      <th>2021-01-10 23:26:06.506</th>\n",
       "      <td>33237.06</td>\n",
       "      <td>33301.76</td>\n",
       "      <td>33227.19</td>\n",
       "      <td>33300.83</td>\n",
       "      <td>3.109293</td>\n",
       "    </tr>\n",
       "    <tr>\n",
       "      <th>2021-01-10 23:26:07.521</th>\n",
       "      <td>33284.38</td>\n",
       "      <td>33300.97</td>\n",
       "      <td>33274.23</td>\n",
       "      <td>33274.23</td>\n",
       "      <td>3.017100</td>\n",
       "    </tr>\n",
       "  </tbody>\n",
       "</table>\n",
       "<p>79373 rows × 5 columns</p>\n",
       "</div>"
      ],
      "text/plain": [
       "                             open      high       low     close    volume\n",
       "time                                                                     \n",
       "2021-01-08 19:54:22.456  40101.08  40101.08  40095.39  40095.39  2.548936\n",
       "2021-01-08 19:54:31.003  40095.38  40119.01  40095.36  40119.01  2.581447\n",
       "2021-01-08 19:54:39.317  40115.30  40129.52  40115.30  40129.44  2.657171\n",
       "2021-01-08 19:54:42.244  40129.44  40129.44  40129.35  40129.35  2.988235\n",
       "2021-01-08 19:54:44.811  40129.35  40129.35  40100.00  40102.96  3.588482\n",
       "...                           ...       ...       ...       ...       ...\n",
       "2021-01-10 23:26:03.620  33283.27  33312.49  33277.92  33291.65  3.225255\n",
       "2021-01-10 23:26:05.362  33291.65  33306.28  33272.62  33287.33  3.040252\n",
       "2021-01-10 23:26:06.023  33287.33  33287.34  33238.66  33238.66  3.071353\n",
       "2021-01-10 23:26:06.506  33237.06  33301.76  33227.19  33300.83  3.109293\n",
       "2021-01-10 23:26:07.521  33284.38  33300.97  33274.23  33274.23  3.017100\n",
       "\n",
       "[79373 rows x 5 columns]"
      ]
     },
     "execution_count": 149,
     "metadata": {},
     "output_type": "execute_result"
    }
   ],
   "source": [
    "df"
   ]
  },
  {
   "cell_type": "code",
   "execution_count": 150,
   "id": "9d8829a7-0d5e-47be-8475-8b48b487d312",
   "metadata": {},
   "outputs": [],
   "source": [
    "close = df.close"
   ]
  },
  {
   "cell_type": "code",
   "execution_count": 151,
   "id": "d609800a-dc56-4a84-8b81-3a01fadd9bf6",
   "metadata": {},
   "outputs": [
    {
     "name": "stdout",
     "output_type": "stream",
     "text": [
      "79373\n",
      "54242\n",
      "54242\n",
      "54242\n",
      "54242\n"
     ]
    },
    {
     "data": {
      "text/plain": [
       "time\n",
       "2021-01-09 19:54:27.358         NaN\n",
       "2021-01-09 19:54:30.046    0.000185\n",
       "2021-01-09 19:54:33.515    0.000286\n",
       "2021-01-09 19:54:41.479    0.000342\n",
       "2021-01-09 19:54:42.307    0.000358\n",
       "                             ...   \n",
       "2021-01-10 23:26:03.620    0.002035\n",
       "2021-01-10 23:26:05.362    0.002044\n",
       "2021-01-10 23:26:06.023    0.002088\n",
       "2021-01-10 23:26:06.506    0.002087\n",
       "2021-01-10 23:26:07.521    0.002100\n",
       "Name: close, Length: 54242, dtype: float64"
      ]
     },
     "execution_count": 151,
     "metadata": {},
     "output_type": "execute_result"
    }
   ],
   "source": [
    "get_daily_vol(close)"
   ]
  },
  {
   "cell_type": "code",
   "execution_count": 120,
   "id": "97d7937e-1bad-4fcc-a572-999168afea48",
   "metadata": {},
   "outputs": [],
   "source": [
    "df0 = close.index.searchsorted(close.index-pd.Timedelta(days=1))"
   ]
  },
  {
   "cell_type": "code",
   "execution_count": 130,
   "id": "e3de791f-96c9-4acb-8bb1-a6779db8ab32",
   "metadata": {},
   "outputs": [],
   "source": [
    "df0=df0[df0>0]"
   ]
  },
  {
   "cell_type": "code",
   "execution_count": 133,
   "id": "303dec5e-69f6-4b26-b61e-0ab7e75ebbf2",
   "metadata": {},
   "outputs": [],
   "source": [
    "df0=pd.Series(close.index[df0-1], index=close.index[close.shape[0]-df0.shape[0]:])"
   ]
  },
  {
   "cell_type": "code",
   "execution_count": 137,
   "id": "74429231-cc22-4d62-8ca8-4fec396a49a7",
   "metadata": {},
   "outputs": [
    {
     "data": {
      "text/html": [
       "<div>\n",
       "<style scoped>\n",
       "    .dataframe tbody tr th:only-of-type {\n",
       "        vertical-align: middle;\n",
       "    }\n",
       "\n",
       "    .dataframe tbody tr th {\n",
       "        vertical-align: top;\n",
       "    }\n",
       "\n",
       "    .dataframe thead th {\n",
       "        text-align: right;\n",
       "    }\n",
       "</style>\n",
       "<table border=\"1\" class=\"dataframe\">\n",
       "  <thead>\n",
       "    <tr style=\"text-align: right;\">\n",
       "      <th></th>\n",
       "      <th>time</th>\n",
       "    </tr>\n",
       "    <tr>\n",
       "      <th>time</th>\n",
       "      <th></th>\n",
       "    </tr>\n",
       "  </thead>\n",
       "  <tbody>\n",
       "    <tr>\n",
       "      <th>2021-01-09 19:54:27.358</th>\n",
       "      <td>2021-01-08 19:54:22.456</td>\n",
       "    </tr>\n",
       "    <tr>\n",
       "      <th>2021-01-09 19:54:30.046</th>\n",
       "      <td>2021-01-08 19:54:22.456</td>\n",
       "    </tr>\n",
       "    <tr>\n",
       "      <th>2021-01-09 19:54:33.515</th>\n",
       "      <td>2021-01-08 19:54:31.003</td>\n",
       "    </tr>\n",
       "    <tr>\n",
       "      <th>2021-01-09 19:54:41.479</th>\n",
       "      <td>2021-01-08 19:54:39.317</td>\n",
       "    </tr>\n",
       "    <tr>\n",
       "      <th>2021-01-09 19:54:42.307</th>\n",
       "      <td>2021-01-08 19:54:42.244</td>\n",
       "    </tr>\n",
       "    <tr>\n",
       "      <th>...</th>\n",
       "      <td>...</td>\n",
       "    </tr>\n",
       "    <tr>\n",
       "      <th>2021-01-10 23:26:03.620</th>\n",
       "      <td>2021-01-09 23:26:01.579</td>\n",
       "    </tr>\n",
       "    <tr>\n",
       "      <th>2021-01-10 23:26:05.362</th>\n",
       "      <td>2021-01-09 23:26:01.579</td>\n",
       "    </tr>\n",
       "    <tr>\n",
       "      <th>2021-01-10 23:26:06.023</th>\n",
       "      <td>2021-01-09 23:26:05.528</td>\n",
       "    </tr>\n",
       "    <tr>\n",
       "      <th>2021-01-10 23:26:06.506</th>\n",
       "      <td>2021-01-09 23:26:05.528</td>\n",
       "    </tr>\n",
       "    <tr>\n",
       "      <th>2021-01-10 23:26:07.521</th>\n",
       "      <td>2021-01-09 23:26:05.528</td>\n",
       "    </tr>\n",
       "  </tbody>\n",
       "</table>\n",
       "<p>58094 rows × 1 columns</p>\n",
       "</div>"
      ],
      "text/plain": [
       "                                           time\n",
       "time                                           \n",
       "2021-01-09 19:54:27.358 2021-01-08 19:54:22.456\n",
       "2021-01-09 19:54:30.046 2021-01-08 19:54:22.456\n",
       "2021-01-09 19:54:33.515 2021-01-08 19:54:31.003\n",
       "2021-01-09 19:54:41.479 2021-01-08 19:54:39.317\n",
       "2021-01-09 19:54:42.307 2021-01-08 19:54:42.244\n",
       "...                                         ...\n",
       "2021-01-10 23:26:03.620 2021-01-09 23:26:01.579\n",
       "2021-01-10 23:26:05.362 2021-01-09 23:26:01.579\n",
       "2021-01-10 23:26:06.023 2021-01-09 23:26:05.528\n",
       "2021-01-10 23:26:06.506 2021-01-09 23:26:05.528\n",
       "2021-01-10 23:26:07.521 2021-01-09 23:26:05.528\n",
       "\n",
       "[58094 rows x 1 columns]"
      ]
     },
     "execution_count": 137,
     "metadata": {},
     "output_type": "execute_result"
    }
   ],
   "source": [
    "pd.DataFrame(df0)"
   ]
  },
  {
   "cell_type": "code",
   "execution_count": null,
   "id": "0fd2de58-3d77-4c69-8afd-49abf5e6ce05",
   "metadata": {},
   "outputs": [],
   "source": []
  }
 ],
 "metadata": {
  "kernelspec": {
   "display_name": "Python 3",
   "language": "python",
   "name": "python3"
  },
  "language_info": {
   "codemirror_mode": {
    "name": "ipython",
    "version": 3
   },
   "file_extension": ".py",
   "mimetype": "text/x-python",
   "name": "python",
   "nbconvert_exporter": "python",
   "pygments_lexer": "ipython3",
   "version": "3.9.4"
  }
 },
 "nbformat": 4,
 "nbformat_minor": 5
}
