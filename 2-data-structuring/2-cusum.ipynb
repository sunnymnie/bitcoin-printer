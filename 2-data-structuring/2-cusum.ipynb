{
 "cells": [
  {
   "cell_type": "markdown",
   "id": "17837531-c524-48b4-bad0-1bdc20b811c7",
   "metadata": {},
   "source": [
    "# CUSUM Filter\n",
    "Cumulative sum https://en.wikipedia.org/wiki/CUSUM"
   ]
  },
  {
   "cell_type": "code",
   "execution_count": 75,
   "id": "5df0b56d-0e66-4c55-ac31-4576e4991c60",
   "metadata": {},
   "outputs": [],
   "source": [
    "import pandas as pd\n",
    "import numpy as np\n",
    "import matplotlib.pyplot as plt\n",
    "import datetime"
   ]
  },
  {
   "cell_type": "code",
   "execution_count": 64,
   "id": "54f19673-d6f3-4a4a-a52e-624734ced83f",
   "metadata": {},
   "outputs": [
    {
     "data": {
      "text/plain": [
       "44184"
      ]
     },
     "execution_count": 64,
     "metadata": {},
     "output_type": "execute_result"
    }
   ],
   "source": [
    "df = pd.read_csv(\"../data/testing.csv\")\n",
    "len(df)"
   ]
  },
  {
   "cell_type": "code",
   "execution_count": 76,
   "id": "89c51be3-48f3-44b8-a592-7cedba991f17",
   "metadata": {},
   "outputs": [],
   "source": [
    "df[\"time\"] = list(map(lambda x: datetime.datetime.fromtimestamp(x/1000), df.time))"
   ]
  },
  {
   "cell_type": "code",
   "execution_count": 77,
   "id": "40f0e24f-3665-4ede-ad63-608ea69b7bf8",
   "metadata": {},
   "outputs": [],
   "source": [
    "df1 = df.set_index([\"time\"], drop=True)"
   ]
  },
  {
   "cell_type": "code",
   "execution_count": 78,
   "id": "58404eb4-5986-474e-a369-082f0ae981d2",
   "metadata": {},
   "outputs": [],
   "source": [
    "df2 = df1[[\"close\"]]"
   ]
  },
  {
   "cell_type": "code",
   "execution_count": 101,
   "id": "2d89a778-20b9-453a-abf3-87a2da514a3a",
   "metadata": {},
   "outputs": [],
   "source": [
    "def get_daily_vol(close, span0=100):\n",
    "    \"\"\"\n",
    "    daily vol, reindexed to close\n",
    "    \n",
    "    Arguments:\n",
    "    close -- daily close (probably Pandas series)\n",
    "    span0 -- span lol (probably int)\n",
    "    Purpose:\n",
    "    use the output of this function to set default profit taking and stop-loss limit\n",
    "    \"\"\"\n",
    "    df0 = close.index.searchsorted(close.index-pd.Timedelta(days=1))\n",
    "    df0=df0[df0>0]\n",
    "    df0=pd.Series(close.index[df0-1], index=close.index[close.shape[0]-df0.shape[0]:])\n",
    "#     print(len(close.loc[df0.index]))\n",
    "#     print(close.loc[df0.index])\n",
    "#     return close.loc[df0.values].values\n",
    "\n",
    "#     df0=close.loc[df0.index].close/close.loc[df0.values].values-1 # daily returns\n",
    "    index = close.loc[df0.values].index\n",
    "    print(len(df0))\n",
    "    print(len(close.loc[df0.index].close))\n",
    "    print(len(close.loc[df0.values].values))\n",
    "#     return (close.loc[df0.values])\n",
    "\n",
    "    df0 = pd.Series(list(map(lambda x, y: x/y-1, close.loc[df0.index].close, close.loc[df0.values].values)))\n",
    "#     df0=close.loc[df0.index]/close.loc[df0.values].values-1 # daily returns\n",
    "    print(len(df0))\n",
    "    df0=df0.ewm(span=span0).std()\n",
    "    dfd = {\"time\":index, \"vol\":df0}\n",
    "    df1 = pd.DataFrame(dfd).set_index([\"time\"], drop=True)\n",
    "    return df1"
   ]
  },
  {
   "cell_type": "code",
   "execution_count": 102,
   "id": "cb0a176d-6d71-4277-bbca-b1f07615f0fb",
   "metadata": {},
   "outputs": [
    {
     "name": "stdout",
     "output_type": "stream",
     "text": [
      "37457\n",
      "42165\n",
      "37757\n",
      "37757\n"
     ]
    },
    {
     "data": {
      "text/html": [
       "<div>\n",
       "<style scoped>\n",
       "    .dataframe tbody tr th:only-of-type {\n",
       "        vertical-align: middle;\n",
       "    }\n",
       "\n",
       "    .dataframe tbody tr th {\n",
       "        vertical-align: top;\n",
       "    }\n",
       "\n",
       "    .dataframe thead th {\n",
       "        text-align: right;\n",
       "    }\n",
       "</style>\n",
       "<table border=\"1\" class=\"dataframe\">\n",
       "  <thead>\n",
       "    <tr style=\"text-align: right;\">\n",
       "      <th></th>\n",
       "      <th>vol</th>\n",
       "    </tr>\n",
       "    <tr>\n",
       "      <th>time</th>\n",
       "      <th></th>\n",
       "    </tr>\n",
       "  </thead>\n",
       "  <tbody>\n",
       "    <tr>\n",
       "      <th>2020-04-23 07:11:20.118</th>\n",
       "      <td>NaN</td>\n",
       "    </tr>\n",
       "    <tr>\n",
       "      <th>2020-04-23 07:11:47.983</th>\n",
       "      <td>0.000173</td>\n",
       "    </tr>\n",
       "    <tr>\n",
       "      <th>2020-04-23 07:12:09.556</th>\n",
       "      <td>0.000403</td>\n",
       "    </tr>\n",
       "    <tr>\n",
       "      <th>2020-04-23 07:12:16.241</th>\n",
       "      <td>0.000333</td>\n",
       "    </tr>\n",
       "    <tr>\n",
       "      <th>2020-04-23 07:12:16.241</th>\n",
       "      <td>0.000295</td>\n",
       "    </tr>\n",
       "    <tr>\n",
       "      <th>...</th>\n",
       "      <td>...</td>\n",
       "    </tr>\n",
       "    <tr>\n",
       "      <th>2020-04-29 01:45:32.184</th>\n",
       "      <td>0.002268</td>\n",
       "    </tr>\n",
       "    <tr>\n",
       "      <th>2020-04-29 01:46:07.532</th>\n",
       "      <td>0.002279</td>\n",
       "    </tr>\n",
       "    <tr>\n",
       "      <th>2020-04-29 01:46:41.273</th>\n",
       "      <td>0.002296</td>\n",
       "    </tr>\n",
       "    <tr>\n",
       "      <th>2020-04-29 01:47:14.226</th>\n",
       "      <td>0.002303</td>\n",
       "    </tr>\n",
       "    <tr>\n",
       "      <th>2020-04-29 01:47:14.226</th>\n",
       "      <td>0.002317</td>\n",
       "    </tr>\n",
       "  </tbody>\n",
       "</table>\n",
       "<p>37757 rows × 1 columns</p>\n",
       "</div>"
      ],
      "text/plain": [
       "                              vol\n",
       "time                             \n",
       "2020-04-23 07:11:20.118       NaN\n",
       "2020-04-23 07:11:47.983  0.000173\n",
       "2020-04-23 07:12:09.556  0.000403\n",
       "2020-04-23 07:12:16.241  0.000333\n",
       "2020-04-23 07:12:16.241  0.000295\n",
       "...                           ...\n",
       "2020-04-29 01:45:32.184  0.002268\n",
       "2020-04-29 01:46:07.532  0.002279\n",
       "2020-04-29 01:46:41.273  0.002296\n",
       "2020-04-29 01:47:14.226  0.002303\n",
       "2020-04-29 01:47:14.226  0.002317\n",
       "\n",
       "[37757 rows x 1 columns]"
      ]
     },
     "execution_count": 102,
     "metadata": {},
     "output_type": "execute_result"
    }
   ],
   "source": [
    "a = get_daily_vol(df2)\n",
    "a"
   ]
  },
  {
   "cell_type": "code",
   "execution_count": 116,
   "id": "787734ca-9028-4780-b543-b139f9237525",
   "metadata": {},
   "outputs": [
    {
     "data": {
      "text/html": [
       "<div>\n",
       "<style scoped>\n",
       "    .dataframe tbody tr th:only-of-type {\n",
       "        vertical-align: middle;\n",
       "    }\n",
       "\n",
       "    .dataframe tbody tr th {\n",
       "        vertical-align: top;\n",
       "    }\n",
       "\n",
       "    .dataframe thead th {\n",
       "        text-align: right;\n",
       "    }\n",
       "</style>\n",
       "<table border=\"1\" class=\"dataframe\">\n",
       "  <thead>\n",
       "    <tr style=\"text-align: right;\">\n",
       "      <th></th>\n",
       "      <th>time</th>\n",
       "      <th>open</th>\n",
       "      <th>high</th>\n",
       "      <th>low</th>\n",
       "      <th>close</th>\n",
       "      <th>volume</th>\n",
       "    </tr>\n",
       "  </thead>\n",
       "  <tbody>\n",
       "    <tr>\n",
       "      <th>0</th>\n",
       "      <td>2020-04-23 07:10:55.172</td>\n",
       "      <td>7360.10</td>\n",
       "      <td>7360.71</td>\n",
       "      <td>7360.00</td>\n",
       "      <td>7360.70</td>\n",
       "      <td>15.230057</td>\n",
       "    </tr>\n",
       "    <tr>\n",
       "      <th>1</th>\n",
       "      <td>2020-04-23 07:10:56.888</td>\n",
       "      <td>7360.71</td>\n",
       "      <td>7361.70</td>\n",
       "      <td>7360.00</td>\n",
       "      <td>7361.27</td>\n",
       "      <td>15.077027</td>\n",
       "    </tr>\n",
       "    <tr>\n",
       "      <th>2</th>\n",
       "      <td>2020-04-23 07:10:58.848</td>\n",
       "      <td>7361.69</td>\n",
       "      <td>7362.46</td>\n",
       "      <td>7359.00</td>\n",
       "      <td>7359.00</td>\n",
       "      <td>13.923700</td>\n",
       "    </tr>\n",
       "    <tr>\n",
       "      <th>3</th>\n",
       "      <td>2020-04-23 07:11:02.499</td>\n",
       "      <td>7358.77</td>\n",
       "      <td>7360.99</td>\n",
       "      <td>7358.23</td>\n",
       "      <td>7358.59</td>\n",
       "      <td>13.609477</td>\n",
       "    </tr>\n",
       "    <tr>\n",
       "      <th>4</th>\n",
       "      <td>2020-04-23 07:11:05.706</td>\n",
       "      <td>7358.58</td>\n",
       "      <td>7359.70</td>\n",
       "      <td>7355.00</td>\n",
       "      <td>7355.13</td>\n",
       "      <td>13.674025</td>\n",
       "    </tr>\n",
       "    <tr>\n",
       "      <th>...</th>\n",
       "      <td>...</td>\n",
       "      <td>...</td>\n",
       "      <td>...</td>\n",
       "      <td>...</td>\n",
       "      <td>...</td>\n",
       "      <td>...</td>\n",
       "    </tr>\n",
       "    <tr>\n",
       "      <th>44179</th>\n",
       "      <td>2020-04-30 01:46:07.325</td>\n",
       "      <td>9172.23</td>\n",
       "      <td>9174.88</td>\n",
       "      <td>9170.00</td>\n",
       "      <td>9174.82</td>\n",
       "      <td>11.073791</td>\n",
       "    </tr>\n",
       "    <tr>\n",
       "      <th>44180</th>\n",
       "      <td>2020-04-30 01:46:23.212</td>\n",
       "      <td>9174.84</td>\n",
       "      <td>9175.48</td>\n",
       "      <td>9173.61</td>\n",
       "      <td>9174.27</td>\n",
       "      <td>10.962070</td>\n",
       "    </tr>\n",
       "    <tr>\n",
       "      <th>44181</th>\n",
       "      <td>2020-04-30 01:46:49.805</td>\n",
       "      <td>9174.26</td>\n",
       "      <td>9174.26</td>\n",
       "      <td>9170.50</td>\n",
       "      <td>9174.00</td>\n",
       "      <td>11.585002</td>\n",
       "    </tr>\n",
       "    <tr>\n",
       "      <th>44182</th>\n",
       "      <td>2020-04-30 01:47:27.128</td>\n",
       "      <td>9174.01</td>\n",
       "      <td>9174.01</td>\n",
       "      <td>9172.00</td>\n",
       "      <td>9172.93</td>\n",
       "      <td>11.011935</td>\n",
       "    </tr>\n",
       "    <tr>\n",
       "      <th>44183</th>\n",
       "      <td>2020-04-30 01:47:42.928</td>\n",
       "      <td>9172.93</td>\n",
       "      <td>9173.94</td>\n",
       "      <td>9170.51</td>\n",
       "      <td>9171.43</td>\n",
       "      <td>11.476900</td>\n",
       "    </tr>\n",
       "  </tbody>\n",
       "</table>\n",
       "<p>44184 rows × 6 columns</p>\n",
       "</div>"
      ],
      "text/plain": [
       "                         time     open     high      low    close     volume\n",
       "0     2020-04-23 07:10:55.172  7360.10  7360.71  7360.00  7360.70  15.230057\n",
       "1     2020-04-23 07:10:56.888  7360.71  7361.70  7360.00  7361.27  15.077027\n",
       "2     2020-04-23 07:10:58.848  7361.69  7362.46  7359.00  7359.00  13.923700\n",
       "3     2020-04-23 07:11:02.499  7358.77  7360.99  7358.23  7358.59  13.609477\n",
       "4     2020-04-23 07:11:05.706  7358.58  7359.70  7355.00  7355.13  13.674025\n",
       "...                       ...      ...      ...      ...      ...        ...\n",
       "44179 2020-04-30 01:46:07.325  9172.23  9174.88  9170.00  9174.82  11.073791\n",
       "44180 2020-04-30 01:46:23.212  9174.84  9175.48  9173.61  9174.27  10.962070\n",
       "44181 2020-04-30 01:46:49.805  9174.26  9174.26  9170.50  9174.00  11.585002\n",
       "44182 2020-04-30 01:47:27.128  9174.01  9174.01  9172.00  9172.93  11.011935\n",
       "44183 2020-04-30 01:47:42.928  9172.93  9173.94  9170.51  9171.43  11.476900\n",
       "\n",
       "[44184 rows x 6 columns]"
      ]
     },
     "execution_count": 116,
     "metadata": {},
     "output_type": "execute_result"
    }
   ],
   "source": [
    "df"
   ]
  },
  {
   "cell_type": "code",
   "execution_count": 65,
   "id": "191787aa-344e-4661-b468-c9d0acb22f60",
   "metadata": {},
   "outputs": [],
   "source": [
    "def get_t_events(g_raw, h):\n",
    "    \"\"\"\n",
    "    Implementation of the symmetric CUSUM filter seen in chapter 2.5.2\n",
    "    \n",
    "    Arguments:\n",
    "    g_raw -- the raw time series to filter (possibly pandas series)\n",
    "    h -- threshold (possibly float or int)\n",
    "    \n",
    "    Purpose:\n",
    "    The CUSUM filter is a quality-control method, designed to detect a shift in the mean value of a measured quantity away from a target value. \n",
    "    \"\"\"\n",
    "    t_events, s_pos, s_neg = [], 0, 0\n",
    "    diff = g_raw.diff()\n",
    "    for i in diff.index[1:]:\n",
    "        s_pos, s_neg = max(0, s_pos+diff.loc[i]), min(0, s_neg+diff.loc[i])\n",
    "        if s_neg<-h:\n",
    "            s_neg = 0\n",
    "            t_events.append(i)\n",
    "        elif s_pos>h:\n",
    "            s_pos = 0\n",
    "            t_events.append(i)\n",
    "        else:\n",
    "            t_events.append(None)\n",
    "    return t_events"
   ]
  },
  {
   "cell_type": "code",
   "execution_count": 66,
   "id": "987b10c9-916d-4eb6-acdd-afb5f8d3c930",
   "metadata": {},
   "outputs": [],
   "source": [
    "a = get_t_events(df.close, 200)\n",
    "a = [None] + a"
   ]
  },
  {
   "cell_type": "code",
   "execution_count": 71,
   "id": "c583a84a-eea7-40be-8a92-7da96d2268e7",
   "metadata": {},
   "outputs": [],
   "source": [
    "b = list(map(lambda x, c: c if x != None else None, a, df.close))"
   ]
  },
  {
   "cell_type": "code",
   "execution_count": 72,
   "id": "b9ab1760-9e0f-450c-af11-6d1047ea341d",
   "metadata": {},
   "outputs": [
    {
     "data": {
      "text/plain": [
       "44184"
      ]
     },
     "execution_count": 72,
     "metadata": {},
     "output_type": "execute_result"
    }
   ],
   "source": [
    "len(a)"
   ]
  },
  {
   "cell_type": "code",
   "execution_count": 73,
   "id": "630898ee-a578-4e83-8829-5bf7b2ceb853",
   "metadata": {},
   "outputs": [
    {
     "data": {
      "text/plain": [
       "44184"
      ]
     },
     "execution_count": 73,
     "metadata": {},
     "output_type": "execute_result"
    }
   ],
   "source": [
    "len(df.close)"
   ]
  },
  {
   "cell_type": "code",
   "execution_count": 74,
   "id": "b392ecdd-bdb7-434a-8109-66cdf7a479ac",
   "metadata": {},
   "outputs": [
    {
     "data": {
      "text/plain": [
       "[<matplotlib.lines.Line2D at 0x7fd24397f940>]"
      ]
     },
     "execution_count": 74,
     "metadata": {},
     "output_type": "execute_result"
    },
    {
     "data": {
      "image/png": "[encoded data removed]",
      "text/plain": [
       "<Figure size 720x504 with 1 Axes>"
      ]
     },
     "metadata": {
      "needs_background": "light"
     },
     "output_type": "display_data"
    }
   ],
   "source": [
    "fig, ax = plt.subplots(figsize=(10, 7))\n",
    "\n",
    "ax.scatter(range(len(a)), b)\n",
    "\n",
    "ax.plot(df.close, color=\"lightgrey\")\n"
   ]
  },
  {
   "cell_type": "code",
   "execution_count": 112,
   "id": "cb3ed51a-9679-4ce8-b29f-a887ab909f9e",
   "metadata": {},
   "outputs": [
    {
     "data": {
      "text/plain": [
       "172.78365605699832"
      ]
     },
     "execution_count": 112,
     "metadata": {},
     "output_type": "execute_result"
    }
   ],
   "source": [
    "np.std(df.close[35000:40000])"
   ]
  },
  {
   "cell_type": "code",
   "execution_count": null,
   "id": "cd129fdd-a9d4-4790-8aa6-6be95959289b",
   "metadata": {},
   "outputs": [],
   "source": []
  }
 ],
 "metadata": {
  "kernelspec": {
   "display_name": "Python 3",
   "language": "python",
   "name": "python3"
  },
  "language_info": {
   "codemirror_mode": {
    "name": "ipython",
    "version": 3
   },
   "file_extension": ".py",
   "mimetype": "text/x-python",
   "name": "python",
   "nbconvert_exporter": "python",
   "pygments_lexer": "ipython3",
   "version": "3.9.4"
  }
 },
 "nbformat": 4,
 "nbformat_minor": 5
}
