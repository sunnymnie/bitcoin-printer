{
 "cells": [
  {
   "cell_type": "markdown",
   "id": "ec257fad-0baf-4a0b-9ef7-8474bdca9c47",
   "metadata": {},
   "source": [
    "# Generate dollar bars\n",
    "courtesy of towards data science"
   ]
  },
  {
   "cell_type": "code",
   "execution_count": 1,
   "id": "31f50540-05a0-46d3-ab11-c6d580a87e87",
   "metadata": {},
   "outputs": [],
   "source": [
    "import pandas as pd\n",
    "import numpy as np\n",
    "import datetime\n",
    "from IPython.display import clear_output"
   ]
  },
  {
   "cell_type": "code",
   "execution_count": 2,
   "id": "c2d29821-aeec-44e2-8753-f83c14aaa812",
   "metadata": {},
   "outputs": [
    {
     "name": "stdin",
     "output_type": "stream",
     "text": [
      "Type 'yes, override BTCUSDT-dollar-bars-base.csv' to override existing dollar bars csv. yes, override BTCUSDT-dollar-bars-base.csv\n"
     ]
    }
   ],
   "source": [
    "ans = input(\"Type 'yes, override BTCUSDT-dollar-bars-base.csv' to override existing dollar bars csv.\")\n",
    "if ans == 'yes, override BTCUSDT-dollar-bars-base.csv':\n",
    "    df = pd.DataFrame([], columns=[\"time\", \"open\", \"high\", \"low\", \"close\", \"volume\"])\n",
    "    df.to_csv(\"../data/BTCUSDT-dollar-bars-base.csv\", index=False)\n",
    "else:\n",
    "    pass"
   ]
  },
  {
   "cell_type": "code",
   "execution_count": 3,
   "id": "e0fd9b62-a6b3-49e3-9e6d-3f8869d36864",
   "metadata": {},
   "outputs": [],
   "source": [
    "# Towards Data Science base\n",
    "# expects a numpy array with trades\n",
    "# each trade is composed of: [time, price, quantity]\n",
    "def generate_dollarbars(trades, frequency=100000):\n",
    "    times = trades[:,0]\n",
    "    prices = trades[:,1]\n",
    "    volumes = trades[:,2]\n",
    "    ans = np.zeros(shape=(len(prices), 6))\n",
    "    candle_counter = 0\n",
    "    dollars = 0\n",
    "    lasti = 0\n",
    "    for i in range(len(prices)):\n",
    "        dollars += volumes[i]*prices[i]\n",
    "        if dollars >= frequency:\n",
    "            ans[candle_counter][0] = times[i]                          # time\n",
    "            ans[candle_counter][1] = prices[lasti]                     # open\n",
    "            ans[candle_counter][2] = np.max(prices[lasti:i+1])         # high\n",
    "            ans[candle_counter][3] = np.min(prices[lasti:i+1])         # low\n",
    "            ans[candle_counter][4] = prices[i]                         # close\n",
    "            ans[candle_counter][5] = np.sum(volumes[lasti:i+1])        # volume\n",
    "            candle_counter += 1\n",
    "            lasti = i+1\n",
    "            dollars = 0\n",
    "#             clear_output()\n",
    "#             print(f\"currently on index {i} out of {prices.shape[0]}\")\n",
    "    return ans[:candle_counter], trades[lasti:]"
   ]
  },
  {
   "cell_type": "code",
   "execution_count": 4,
   "id": "845cb36c-13ae-4159-bb4d-aadf0dbff4f1",
   "metadata": {},
   "outputs": [],
   "source": [
    "lot = None #lot is left over trades, trades at end of previous dataframe not used\n",
    "\n",
    "for i in range(163):\n",
    "    print(f\"reading ../data/BTCUSDT-trades-{str(i)}.csv\")\n",
    "    df = pd.read_csv(f\"../data/BTCUSDT-trades-{str(i)}.csv\")\n",
    "    print(f\"converting to numpy...\")\n",
    "    df_np = df[[\"T\", \"p\", \"q\"]].to_numpy()\n",
    "    if type(lot) == np.ndarray:\n",
    "        print(f\"Adding previous trades to numpy array...\")\n",
    "        df_np = np.append(lot, df_np, 0) #Add left over trades to beginning of new dataframe\n",
    "    print(f\"Generating dollar bars...\")\n",
    "    ohlc, lot = generate_dollarbars(df_np)\n",
    "    print(f\"Reading, concating, saving csv...\")\n",
    "    ohlc = pd.DataFrame(ohlc, columns=[\"time\", \"open\", \"high\", \"low\", \"close\", \"volume\"])\n",
    "    pohlc = pd.read_csv(\"../data/BTCUSDT-dollar-bars-base.csv\") #Previous ohlc\n",
    "    ohlc = pd.concat([pohlc, ohlc])\n",
    "    ohlc.to_csv(\"../data/BTCUSDT-dollar-bars-base.csv\", index=False)\n",
    "    ohlc = None\n",
    "    pohlc = None\n",
    "    clear_output()"
   ]
  },
  {
   "cell_type": "markdown",
   "id": "472e4fb2-7c36-42cd-8c89-626f5a64bc2e",
   "metadata": {},
   "source": [
    "## Remove duplicated index and set time index"
   ]
  },
  {
   "cell_type": "code",
   "execution_count": 52,
   "id": "e66128ab-53fe-420c-a24c-e7be47731b1f",
   "metadata": {},
   "outputs": [
    {
     "data": {
      "text/plain": [
       "10517287"
      ]
     },
     "execution_count": 52,
     "metadata": {},
     "output_type": "execute_result"
    }
   ],
   "source": [
    "df = pd.read_csv(\"../data/BTCUSDT-dollar-bars-base.csv\")\n",
    "len(df)"
   ]
  },
  {
   "cell_type": "code",
   "execution_count": 6,
   "id": "d9dcba86-fb57-4729-b029-f79ea89735c3",
   "metadata": {},
   "outputs": [
    {
     "data": {
      "text/plain": [
       "10070717"
      ]
     },
     "execution_count": 6,
     "metadata": {},
     "output_type": "execute_result"
    }
   ],
   "source": [
    "df[\"time\"] = list(map(lambda x: datetime.datetime.fromtimestamp(x/1000), df.time))\n",
    "df = df.set_index([\"time\"], drop=True)\n",
    "df = df[~df.index.duplicated(keep='first')]\n",
    "len(df)"
   ]
  },
  {
   "cell_type": "code",
   "execution_count": 7,
   "id": "5321a0f5-1632-4b93-a90b-0913da93f128",
   "metadata": {},
   "outputs": [],
   "source": [
    "df.to_csv(\"../data/BTCUSDT-dollar-bars.csv\")"
   ]
  }
 ],
 "metadata": {
  "kernelspec": {
   "display_name": "Python 3",
   "language": "python",
   "name": "python3"
  },
  "language_info": {
   "codemirror_mode": {
    "name": "ipython",
    "version": 3
   },
   "file_extension": ".py",
   "mimetype": "text/x-python",
   "name": "python",
   "nbconvert_exporter": "python",
   "pygments_lexer": "ipython3",
   "version": "3.9.4"
  }
 },
 "nbformat": 4,
 "nbformat_minor": 5
}
