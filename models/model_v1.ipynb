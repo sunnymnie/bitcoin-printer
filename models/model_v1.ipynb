{
 "cells": [
  {
   "cell_type": "markdown",
   "id": "b5ce3bb5-7afc-4512-bf58-a938032c3526",
   "metadata": {},
   "source": [
    "# Predicting with model v1"
   ]
  },
  {
   "cell_type": "code",
   "execution_count": 93,
   "id": "c3aa63f5-b91b-4058-a22a-6a0a78551266",
   "metadata": {},
   "outputs": [],
   "source": [
    "from joblib import dump, load\n",
    "import pandas as pd\n",
    "import numpy as np\n",
    "import matplotlib.pyplot as plt\n",
    "model = load('model_v1.1.joblib') "
   ]
  },
  {
   "cell_type": "code",
   "execution_count": 94,
   "id": "fa469bbf-a698-4e85-be3d-73c2a1803dee",
   "metadata": {},
   "outputs": [],
   "source": [
    "df = pd.read_csv(\"../data/BTCUSDT-hour-predict.csv\")\n",
    "df_sma = pd.read_csv(\"../data/modelv1_prediction_sma_data\")"
   ]
  },
  {
   "cell_type": "code",
   "execution_count": 95,
   "id": "6569b29b-cc35-400f-9193-1dbc91a50f6f",
   "metadata": {},
   "outputs": [],
   "source": [
    "np.random.seed(42)\n",
    "df = pd.concat([df[list(df.columns)[12:]].copy(), df_sma], axis=1)"
   ]
  },
  {
   "cell_type": "code",
   "execution_count": 64,
   "id": "da59f471-c02f-49d8-a1ad-3e0293df373d",
   "metadata": {},
   "outputs": [],
   "source": [
    "df = pd.read_csv(\"../data/modelv1.1_testing.csv\")"
   ]
  },
  {
   "cell_type": "code",
   "execution_count": 96,
   "id": "2f0afcb6-9569-41cd-88a9-c629973231da",
   "metadata": {},
   "outputs": [],
   "source": [
    "df.dropna(inplace=True)\n",
    "close = df[\"close\"]\n",
    "df.drop('close', axis=1, inplace=True)"
   ]
  },
  {
   "cell_type": "code",
   "execution_count": 97,
   "id": "ca0b1880-85d8-4031-a6a6-4806ae19872d",
   "metadata": {},
   "outputs": [
    {
     "ename": "KeyError",
     "evalue": "'close'",
     "output_type": "error",
     "traceback": [
      "\u001b[0;31m---------------------------------------------------------------------------\u001b[0m",
      "\u001b[0;31mKeyError\u001b[0m                                  Traceback (most recent call last)",
      "\u001b[0;32m/Volumes/Storage/Programming/bitcoin-printer/env/lib/python3.9/site-packages/pandas/core/indexes/base.py\u001b[0m in \u001b[0;36mget_loc\u001b[0;34m(self, key, method, tolerance)\u001b[0m\n\u001b[1;32m   3079\u001b[0m             \u001b[0;32mtry\u001b[0m\u001b[0;34m:\u001b[0m\u001b[0;34m\u001b[0m\u001b[0;34m\u001b[0m\u001b[0m\n\u001b[0;32m-> 3080\u001b[0;31m                 \u001b[0;32mreturn\u001b[0m \u001b[0mself\u001b[0m\u001b[0;34m.\u001b[0m\u001b[0m_engine\u001b[0m\u001b[0;34m.\u001b[0m\u001b[0mget_loc\u001b[0m\u001b[0;34m(\u001b[0m\u001b[0mcasted_key\u001b[0m\u001b[0;34m)\u001b[0m\u001b[0;34m\u001b[0m\u001b[0;34m\u001b[0m\u001b[0m\n\u001b[0m\u001b[1;32m   3081\u001b[0m             \u001b[0;32mexcept\u001b[0m \u001b[0mKeyError\u001b[0m \u001b[0;32mas\u001b[0m \u001b[0merr\u001b[0m\u001b[0;34m:\u001b[0m\u001b[0;34m\u001b[0m\u001b[0;34m\u001b[0m\u001b[0m\n",
      "\u001b[0;32mpandas/_libs/index.pyx\u001b[0m in \u001b[0;36mpandas._libs.index.IndexEngine.get_loc\u001b[0;34m()\u001b[0m\n",
      "\u001b[0;32mpandas/_libs/index.pyx\u001b[0m in \u001b[0;36mpandas._libs.index.IndexEngine.get_loc\u001b[0;34m()\u001b[0m\n",
      "\u001b[0;32mpandas/_libs/hashtable_class_helper.pxi\u001b[0m in \u001b[0;36mpandas._libs.hashtable.PyObjectHashTable.get_item\u001b[0;34m()\u001b[0m\n",
      "\u001b[0;32mpandas/_libs/hashtable_class_helper.pxi\u001b[0m in \u001b[0;36mpandas._libs.hashtable.PyObjectHashTable.get_item\u001b[0;34m()\u001b[0m\n",
      "\u001b[0;31mKeyError\u001b[0m: 'close'",
      "\nThe above exception was the direct cause of the following exception:\n",
      "\u001b[0;31mKeyError\u001b[0m                                  Traceback (most recent call last)",
      "\u001b[0;32m<ipython-input-97-4d8f5c3e6ce1>\u001b[0m in \u001b[0;36m<module>\u001b[0;34m\u001b[0m\n\u001b[0;32m----> 1\u001b[0;31m \u001b[0mprint\u001b[0m\u001b[0;34m(\u001b[0m\u001b[0mdf\u001b[0m\u001b[0;34m[\u001b[0m\u001b[0mdf\u001b[0m\u001b[0;34m[\u001b[0m\u001b[0;34m'close'\u001b[0m\u001b[0;34m]\u001b[0m\u001b[0;34m==\u001b[0m\u001b[0;36m57281.33\u001b[0m\u001b[0;34m]\u001b[0m\u001b[0;34m.\u001b[0m\u001b[0mindex\u001b[0m\u001b[0;34m.\u001b[0m\u001b[0mvalues\u001b[0m\u001b[0;34m)\u001b[0m\u001b[0;34m\u001b[0m\u001b[0;34m\u001b[0m\u001b[0m\n\u001b[0m\u001b[1;32m      2\u001b[0m \u001b[0mdf\u001b[0m\u001b[0;34m[\u001b[0m\u001b[0;36m1571\u001b[0m\u001b[0;34m-\u001b[0m\u001b[0;36m249\u001b[0m\u001b[0;34m:\u001b[0m\u001b[0;34m]\u001b[0m\u001b[0;34m.\u001b[0m\u001b[0mhead\u001b[0m\u001b[0;34m(\u001b[0m\u001b[0;36m3\u001b[0m\u001b[0;34m)\u001b[0m\u001b[0;34m\u001b[0m\u001b[0;34m\u001b[0m\u001b[0m\n",
      "\u001b[0;32m/Volumes/Storage/Programming/bitcoin-printer/env/lib/python3.9/site-packages/pandas/core/frame.py\u001b[0m in \u001b[0;36m__getitem__\u001b[0;34m(self, key)\u001b[0m\n\u001b[1;32m   3022\u001b[0m             \u001b[0;32mif\u001b[0m \u001b[0mself\u001b[0m\u001b[0;34m.\u001b[0m\u001b[0mcolumns\u001b[0m\u001b[0;34m.\u001b[0m\u001b[0mnlevels\u001b[0m \u001b[0;34m>\u001b[0m \u001b[0;36m1\u001b[0m\u001b[0;34m:\u001b[0m\u001b[0;34m\u001b[0m\u001b[0;34m\u001b[0m\u001b[0m\n\u001b[1;32m   3023\u001b[0m                 \u001b[0;32mreturn\u001b[0m \u001b[0mself\u001b[0m\u001b[0;34m.\u001b[0m\u001b[0m_getitem_multilevel\u001b[0m\u001b[0;34m(\u001b[0m\u001b[0mkey\u001b[0m\u001b[0;34m)\u001b[0m\u001b[0;34m\u001b[0m\u001b[0;34m\u001b[0m\u001b[0m\n\u001b[0;32m-> 3024\u001b[0;31m             \u001b[0mindexer\u001b[0m \u001b[0;34m=\u001b[0m \u001b[0mself\u001b[0m\u001b[0;34m.\u001b[0m\u001b[0mcolumns\u001b[0m\u001b[0;34m.\u001b[0m\u001b[0mget_loc\u001b[0m\u001b[0;34m(\u001b[0m\u001b[0mkey\u001b[0m\u001b[0;34m)\u001b[0m\u001b[0;34m\u001b[0m\u001b[0;34m\u001b[0m\u001b[0m\n\u001b[0m\u001b[1;32m   3025\u001b[0m             \u001b[0;32mif\u001b[0m \u001b[0mis_integer\u001b[0m\u001b[0;34m(\u001b[0m\u001b[0mindexer\u001b[0m\u001b[0;34m)\u001b[0m\u001b[0;34m:\u001b[0m\u001b[0;34m\u001b[0m\u001b[0;34m\u001b[0m\u001b[0m\n\u001b[1;32m   3026\u001b[0m                 \u001b[0mindexer\u001b[0m \u001b[0;34m=\u001b[0m \u001b[0;34m[\u001b[0m\u001b[0mindexer\u001b[0m\u001b[0;34m]\u001b[0m\u001b[0;34m\u001b[0m\u001b[0;34m\u001b[0m\u001b[0m\n",
      "\u001b[0;32m/Volumes/Storage/Programming/bitcoin-printer/env/lib/python3.9/site-packages/pandas/core/indexes/base.py\u001b[0m in \u001b[0;36mget_loc\u001b[0;34m(self, key, method, tolerance)\u001b[0m\n\u001b[1;32m   3080\u001b[0m                 \u001b[0;32mreturn\u001b[0m \u001b[0mself\u001b[0m\u001b[0;34m.\u001b[0m\u001b[0m_engine\u001b[0m\u001b[0;34m.\u001b[0m\u001b[0mget_loc\u001b[0m\u001b[0;34m(\u001b[0m\u001b[0mcasted_key\u001b[0m\u001b[0;34m)\u001b[0m\u001b[0;34m\u001b[0m\u001b[0;34m\u001b[0m\u001b[0m\n\u001b[1;32m   3081\u001b[0m             \u001b[0;32mexcept\u001b[0m \u001b[0mKeyError\u001b[0m \u001b[0;32mas\u001b[0m \u001b[0merr\u001b[0m\u001b[0;34m:\u001b[0m\u001b[0;34m\u001b[0m\u001b[0;34m\u001b[0m\u001b[0m\n\u001b[0;32m-> 3082\u001b[0;31m                 \u001b[0;32mraise\u001b[0m \u001b[0mKeyError\u001b[0m\u001b[0;34m(\u001b[0m\u001b[0mkey\u001b[0m\u001b[0;34m)\u001b[0m \u001b[0;32mfrom\u001b[0m \u001b[0merr\u001b[0m\u001b[0;34m\u001b[0m\u001b[0;34m\u001b[0m\u001b[0m\n\u001b[0m\u001b[1;32m   3083\u001b[0m \u001b[0;34m\u001b[0m\u001b[0m\n\u001b[1;32m   3084\u001b[0m         \u001b[0;32mif\u001b[0m \u001b[0mtolerance\u001b[0m \u001b[0;32mis\u001b[0m \u001b[0;32mnot\u001b[0m \u001b[0;32mNone\u001b[0m\u001b[0;34m:\u001b[0m\u001b[0;34m\u001b[0m\u001b[0;34m\u001b[0m\u001b[0m\n",
      "\u001b[0;31mKeyError\u001b[0m: 'close'"
     ]
    }
   ],
   "source": [
    "print(df[df['close']==57281.33].index.values)\n",
    "df[1571-249:].head(3)"
   ]
  },
  {
   "cell_type": "code",
   "execution_count": 66,
   "id": "ffcd56f3-67d1-47a6-9903-a656e70abecf",
   "metadata": {},
   "outputs": [
    {
     "data": {
      "text/html": [
       "<div>\n",
       "<style scoped>\n",
       "    .dataframe tbody tr th:only-of-type {\n",
       "        vertical-align: middle;\n",
       "    }\n",
       "\n",
       "    .dataframe tbody tr th {\n",
       "        vertical-align: top;\n",
       "    }\n",
       "\n",
       "    .dataframe thead th {\n",
       "        text-align: right;\n",
       "    }\n",
       "</style>\n",
       "<table border=\"1\" class=\"dataframe\">\n",
       "  <thead>\n",
       "    <tr style=\"text-align: right;\">\n",
       "      <th></th>\n",
       "      <th>volume_cmf_50</th>\n",
       "      <th>volume_cmf_50_rate_200</th>\n",
       "      <th>volume_eom_amplified</th>\n",
       "      <th>volume_fi_amplified</th>\n",
       "      <th>volume_mfi_50</th>\n",
       "      <th>volume_nvi_o_close_rate_50</th>\n",
       "      <th>volatility_atr_14</th>\n",
       "      <th>volatility_atr_o_close</th>\n",
       "      <th>volatility_bb_wband_10</th>\n",
       "      <th>volatility_bb_pband_100</th>\n",
       "      <th>...</th>\n",
       "      <th>sma_close_200</th>\n",
       "      <th>log_sma_close_200</th>\n",
       "      <th>sma_diff_d_close_50</th>\n",
       "      <th>sma_diff_d_close_20</th>\n",
       "      <th>sma_diff_d_close_200</th>\n",
       "      <th>log_sma_diff_d_close_50</th>\n",
       "      <th>log_sma_diff_d_close_20</th>\n",
       "      <th>log_sma_diff_d_close_200</th>\n",
       "      <th>abs_sma_diff_d_close_50</th>\n",
       "      <th>close</th>\n",
       "    </tr>\n",
       "  </thead>\n",
       "  <tbody>\n",
       "    <tr>\n",
       "      <th>3058</th>\n",
       "      <td>0.029769</td>\n",
       "      <td>-0.000522</td>\n",
       "      <td>-23.649564</td>\n",
       "      <td>-13.647996</td>\n",
       "      <td>39.598164</td>\n",
       "      <td>0.081544</td>\n",
       "      <td>771.788197</td>\n",
       "      <td>0.013721</td>\n",
       "      <td>3.903610</td>\n",
       "      <td>0.443228</td>\n",
       "      <td>...</td>\n",
       "      <td>0.986360</td>\n",
       "      <td>0.0</td>\n",
       "      <td>0.006723</td>\n",
       "      <td>-0.008784</td>\n",
       "      <td>0.013640</td>\n",
       "      <td>0.543651</td>\n",
       "      <td>-0.568041</td>\n",
       "      <td>0.608186</td>\n",
       "      <td>0.006723</td>\n",
       "      <td>56247.17</td>\n",
       "    </tr>\n",
       "    <tr>\n",
       "      <th>3059</th>\n",
       "      <td>0.059926</td>\n",
       "      <td>-0.000424</td>\n",
       "      <td>-23.464099</td>\n",
       "      <td>11.703731</td>\n",
       "      <td>42.117758</td>\n",
       "      <td>0.065953</td>\n",
       "      <td>812.396897</td>\n",
       "      <td>0.014257</td>\n",
       "      <td>5.170340</td>\n",
       "      <td>0.585822</td>\n",
       "      <td>...</td>\n",
       "      <td>0.973491</td>\n",
       "      <td>0.0</td>\n",
       "      <td>0.019595</td>\n",
       "      <td>0.004054</td>\n",
       "      <td>0.026509</td>\n",
       "      <td>0.641679</td>\n",
       "      <td>0.498108</td>\n",
       "      <td>0.669216</td>\n",
       "      <td>0.019595</td>\n",
       "      <td>56982.80</td>\n",
       "    </tr>\n",
       "    <tr>\n",
       "      <th>3060</th>\n",
       "      <td>0.104171</td>\n",
       "      <td>-0.000183</td>\n",
       "      <td>-22.923038</td>\n",
       "      <td>14.092558</td>\n",
       "      <td>45.862386</td>\n",
       "      <td>0.035621</td>\n",
       "      <td>811.272119</td>\n",
       "      <td>0.014076</td>\n",
       "      <td>6.655002</td>\n",
       "      <td>0.712589</td>\n",
       "      <td>...</td>\n",
       "      <td>0.965321</td>\n",
       "      <td>0.0</td>\n",
       "      <td>0.027600</td>\n",
       "      <td>0.011502</td>\n",
       "      <td>0.034679</td>\n",
       "      <td>0.673153</td>\n",
       "      <td>0.593464</td>\n",
       "      <td>0.693942</td>\n",
       "      <td>0.027600</td>\n",
       "      <td>57636.74</td>\n",
       "    </tr>\n",
       "    <tr>\n",
       "      <th>3061</th>\n",
       "      <td>0.082426</td>\n",
       "      <td>-0.000282</td>\n",
       "      <td>-22.811637</td>\n",
       "      <td>13.668284</td>\n",
       "      <td>49.282834</td>\n",
       "      <td>0.040178</td>\n",
       "      <td>813.493396</td>\n",
       "      <td>0.014169</td>\n",
       "      <td>6.721042</td>\n",
       "      <td>0.670766</td>\n",
       "      <td>...</td>\n",
       "      <td>0.963094</td>\n",
       "      <td>0.0</td>\n",
       "      <td>0.029467</td>\n",
       "      <td>0.012488</td>\n",
       "      <td>0.036906</td>\n",
       "      <td>0.679194</td>\n",
       "      <td>0.601054</td>\n",
       "      <td>0.699682</td>\n",
       "      <td>0.029467</td>\n",
       "      <td>57414.77</td>\n",
       "    </tr>\n",
       "    <tr>\n",
       "      <th>3062</th>\n",
       "      <td>0.077597</td>\n",
       "      <td>-0.000303</td>\n",
       "      <td>-22.797324</td>\n",
       "      <td>13.538936</td>\n",
       "      <td>49.375676</td>\n",
       "      <td>0.040178</td>\n",
       "      <td>791.240297</td>\n",
       "      <td>0.013813</td>\n",
       "      <td>6.553983</td>\n",
       "      <td>0.645837</td>\n",
       "      <td>...</td>\n",
       "      <td>0.963990</td>\n",
       "      <td>0.0</td>\n",
       "      <td>0.028210</td>\n",
       "      <td>0.010533</td>\n",
       "      <td>0.036010</td>\n",
       "      <td>0.675211</td>\n",
       "      <td>0.585535</td>\n",
       "      <td>0.697431</td>\n",
       "      <td>0.028210</td>\n",
       "      <td>57281.33</td>\n",
       "    </tr>\n",
       "  </tbody>\n",
       "</table>\n",
       "<p>5 rows × 34 columns</p>\n",
       "</div>"
      ],
      "text/plain": [
       "      volume_cmf_50  volume_cmf_50_rate_200  volume_eom_amplified  \\\n",
       "3058       0.029769               -0.000522            -23.649564   \n",
       "3059       0.059926               -0.000424            -23.464099   \n",
       "3060       0.104171               -0.000183            -22.923038   \n",
       "3061       0.082426               -0.000282            -22.811637   \n",
       "3062       0.077597               -0.000303            -22.797324   \n",
       "\n",
       "      volume_fi_amplified  volume_mfi_50  volume_nvi_o_close_rate_50  \\\n",
       "3058           -13.647996      39.598164                    0.081544   \n",
       "3059            11.703731      42.117758                    0.065953   \n",
       "3060            14.092558      45.862386                    0.035621   \n",
       "3061            13.668284      49.282834                    0.040178   \n",
       "3062            13.538936      49.375676                    0.040178   \n",
       "\n",
       "      volatility_atr_14  volatility_atr_o_close  volatility_bb_wband_10  \\\n",
       "3058         771.788197                0.013721                3.903610   \n",
       "3059         812.396897                0.014257                5.170340   \n",
       "3060         811.272119                0.014076                6.655002   \n",
       "3061         813.493396                0.014169                6.721042   \n",
       "3062         791.240297                0.013813                6.553983   \n",
       "\n",
       "      volatility_bb_pband_100  ...  sma_close_200  log_sma_close_200  \\\n",
       "3058                 0.443228  ...       0.986360                0.0   \n",
       "3059                 0.585822  ...       0.973491                0.0   \n",
       "3060                 0.712589  ...       0.965321                0.0   \n",
       "3061                 0.670766  ...       0.963094                0.0   \n",
       "3062                 0.645837  ...       0.963990                0.0   \n",
       "\n",
       "      sma_diff_d_close_50  sma_diff_d_close_20  sma_diff_d_close_200  \\\n",
       "3058             0.006723            -0.008784              0.013640   \n",
       "3059             0.019595             0.004054              0.026509   \n",
       "3060             0.027600             0.011502              0.034679   \n",
       "3061             0.029467             0.012488              0.036906   \n",
       "3062             0.028210             0.010533              0.036010   \n",
       "\n",
       "      log_sma_diff_d_close_50  log_sma_diff_d_close_20  \\\n",
       "3058                 0.543651                -0.568041   \n",
       "3059                 0.641679                 0.498108   \n",
       "3060                 0.673153                 0.593464   \n",
       "3061                 0.679194                 0.601054   \n",
       "3062                 0.675211                 0.585535   \n",
       "\n",
       "      log_sma_diff_d_close_200  abs_sma_diff_d_close_50     close  \n",
       "3058                  0.608186                 0.006723  56247.17  \n",
       "3059                  0.669216                 0.019595  56982.80  \n",
       "3060                  0.693942                 0.027600  57636.74  \n",
       "3061                  0.699682                 0.029467  57414.77  \n",
       "3062                  0.697431                 0.028210  57281.33  \n",
       "\n",
       "[5 rows x 34 columns]"
      ]
     },
     "execution_count": 66,
     "metadata": {},
     "output_type": "execute_result"
    }
   ],
   "source": [
    "df.tail()"
   ]
  },
  {
   "cell_type": "code",
   "execution_count": 90,
   "id": "70e47df8-1415-40e5-bdb9-f9dbedd34541",
   "metadata": {},
   "outputs": [
    {
     "data": {
      "text/plain": [
       "Index(['volume_cmf_50', 'volume_cmf_50_rate_200', 'volume_eom_amplified',\n",
       "       'volume_fi_amplified', 'volume_mfi_50', 'volume_nvi_o_close_rate_50',\n",
       "       'volatility_atr_14', 'volatility_atr_o_close', 'volatility_bb_wband_10',\n",
       "       'volatility_bb_pband_100', 'volatility_bb_wband_200',\n",
       "       'volatility_bb_hband_o_close', 'volatility_dc_pband_50',\n",
       "       'volatility_dc_wband_10', 'volatility_pband_50', 'volatility_wband_20',\n",
       "       'volatility_ui_30', 'log_rate_sma_50', 'log_rate_sma_20',\n",
       "       'log_rate_sma_200', 'sma_close_50', 'log_sma_close_50', 'sma_close_20',\n",
       "       'log_sma_close_20', 'sma_close_200', 'log_sma_close_200',\n",
       "       'sma_diff_d_close_50', 'sma_diff_d_close_20', 'sma_diff_d_close_200',\n",
       "       'log_sma_diff_d_close_50', 'log_sma_diff_d_close_20',\n",
       "       'log_sma_diff_d_close_200', 'abs_sma_diff_d_close_50'],\n",
       "      dtype='object')"
      ]
     },
     "execution_count": 90,
     "metadata": {},
     "output_type": "execute_result"
    }
   ],
   "source": [
    "df.columns"
   ]
  },
  {
   "cell_type": "markdown",
   "id": "a6342fcb-2f06-42bf-845a-c5f6ccbe194c",
   "metadata": {},
   "source": [
    "'cmf_50', 'cmf_50_rate_200', 'eom_amplified', 'fi_amplified', 'mfi_50',\n",
    "'nvi_o_close_rate_50', 'atr_14', 'atr_o_close', 'bb_wband_10',\n",
    "'bb_pband_100', 'bb_wband_200', 'bb_hband_o_close', 'dc_pband_50',\n",
    "'dc_wband_10', 'pband_50', 'wband_20', 'ui_30', 'log_rate_sma_50',\n",
    "'log_rate_sma_20', 'log_rate_sma_200', 'sma_close_50',\n",
    "'log_sma_close_50', 'sma_close_20', 'log_sma_close_20', 'sma_close_200',\n",
    "'log_sma_close_200', 'sma_diff_d_close_50', 'sma_diff_d_close_20',\n",
    "'sma_diff_d_close_200', 'log_sma_diff_d_close_50',\n",
    "'log_sma_diff_d_close_20', 'log_sma_diff_d_close_200',\n",
    "'abs_sma_diff_d_close_50'"
   ]
  },
  {
   "cell_type": "code",
   "execution_count": 98,
   "id": "f56c5bd9-a40f-4725-8ec6-0e3f81a62116",
   "metadata": {},
   "outputs": [],
   "source": [
    "results = model.predict(df)"
   ]
  },
  {
   "cell_type": "code",
   "execution_count": 99,
   "id": "f0c529d6-d93a-4da8-8344-f7965e04baf5",
   "metadata": {},
   "outputs": [
    {
     "data": {
      "image/png": "[encoded data removed]",
      "text/plain": [
       "<Figure size 1440x720 with 1 Axes>"
      ]
     },
     "metadata": {
      "needs_background": "light"
     },
     "output_type": "display_data"
    }
   ],
   "source": [
    "scatter_results = list(map(lambda x, c: c if x == 1 else None, results, close))\n",
    "\n",
    "# s_correct = list(map(lambda x, t, c: c if x == 1 and t == 1 else None, results, y_ft, close))\n",
    "# s_wrong = list(map(lambda x, t, c: c if x == 1 and t == 0 else None, results, y_ft, close))\n",
    "# s_missed = list(map(lambda x, t, c: c if x == 0 and t == 1 else None, results, y_ft, close))\n",
    "\n",
    "fig,ax = plt.subplots(figsize=(20, 10))\n",
    "\n",
    "rows = len(close)\n",
    "ax.scatter(range(rows), \n",
    "            scatter_results,\n",
    "            color=\"#43aa8b\")\n",
    "\n",
    "\n",
    "# ax.scatter(range(rows), \n",
    "#             s_missed,\n",
    "#         color=\"#f9c74f\")\n",
    "\n",
    "# ax.scatter(range(rows), \n",
    "#             s_correct,\n",
    "#         color=\"#43aa8b\")\n",
    "\n",
    "# ax.scatter(range(rows), \n",
    "#             s_wrong,\n",
    "#         color=\"#f94144\")\n",
    "\n",
    "ax.set_xlabel(\"time\")\n",
    "ax.set_ylabel(\"close\")\n",
    "ax.plot(range(rows),\n",
    "        close,\n",
    "        color=\"gray\")\n",
    "\n",
    "ax.tick_params(labelbottom=False)\n",
    "ax.axes.xaxis.set_visible(False)"
   ]
  },
  {
   "cell_type": "code",
   "execution_count": null,
   "id": "1e7fe108-0a3a-421a-890f-83cf0bbea546",
   "metadata": {},
   "outputs": [],
   "source": []
  }
 ],
 "metadata": {
  "kernelspec": {
   "display_name": "Python 3",
   "language": "python",
   "name": "python3"
  },
  "language_info": {
   "codemirror_mode": {
    "name": "ipython",
    "version": 3
   },
   "file_extension": ".py",
   "mimetype": "text/x-python",
   "name": "python",
   "nbconvert_exporter": "python",
   "pygments_lexer": "ipython3",
   "version": "3.9.4"
  }
 },
 "nbformat": 4,
 "nbformat_minor": 5
}
