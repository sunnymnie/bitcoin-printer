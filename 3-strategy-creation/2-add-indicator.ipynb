{
 "cells": [
  {
   "cell_type": "markdown",
   "id": "2aba5735-c75a-4659-a1ce-c76afc7e2ce7",
   "metadata": {},
   "source": [
    "# Add indicator\n",
    "This indicator functions as the 'vol'"
   ]
  },
  {
   "cell_type": "code",
   "execution_count": null,
   "id": "38caebb9-30bf-416d-b3f0-8fc99d8bf7d9",
   "metadata": {},
   "outputs": [],
   "source": []
  }
 ],
 "metadata": {
  "kernelspec": {
   "display_name": "Python 3",
   "language": "python",
   "name": "python3"
  },
  "language_info": {
   "codemirror_mode": {
    "name": "ipython",
    "version": 3
   },
   "file_extension": ".py",
   "mimetype": "text/x-python",
   "name": "python",
   "nbconvert_exporter": "python",
   "pygments_lexer": "ipython3",
   "version": "3.9.4"
  }
 },
 "nbformat": 4,
 "nbformat_minor": 5
}
