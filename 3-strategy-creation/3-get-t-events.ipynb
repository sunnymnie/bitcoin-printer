{
 "cells": [
  {
   "cell_type": "markdown",
   "id": "9da2c455-3eb6-4c70-bb4f-368e0dc2a43a",
   "metadata": {},
   "source": [
    "# Get t events\n",
    "Convert indicator to t events"
   ]
  },
  {
   "cell_type": "code",
   "execution_count": 4,
   "id": "113822ca-9ef6-4bd0-9380-77ce5171e79a",
   "metadata": {},
   "outputs": [],
   "source": [
    "import pandas as pd\n",
    "import numpy as np\n",
    "import matplotlib.pyplot as plt\n",
    "import datetime"
   ]
  },
  {
   "cell_type": "code",
   "execution_count": 5,
   "id": "87962074-6944-4bb4-9ebd-ab568a23995c",
   "metadata": {},
   "outputs": [],
   "source": [
    "df = pd.read_csv(\"../data/BTCUSDT-volume-bars.csv\", index_col=0, parse_dates=True)\n",
    "ind = pd.read_csv(\"../data/indicator.csv\", index_col=0, parse_dates=True, squeeze=True)"
   ]
  },
  {
   "cell_type": "code",
   "execution_count": 14,
   "id": "d3a41293-49a3-4353-b604-3353f1b4e617",
   "metadata": {},
   "outputs": [],
   "source": [
    "df = df[-500_000:]"
   ]
  },
  {
   "cell_type": "code",
   "execution_count": 12,
   "id": "ef1e57b2-9244-425c-8e45-9381bb4883b8",
   "metadata": {
    "tags": []
   },
   "outputs": [],
   "source": [
    "def get_t_events(g_raw, h, m):\n",
    "    \"\"\"\n",
    "    Implementation of the symmetric CUSUM filter seen in chapter 2.5.2\n",
    "    \n",
    "    Arguments:\n",
    "    g_raw -- the raw time series to filter (possibly pandas series)\n",
    "    h -- threshold pandas series vol\n",
    "    m -- minimum threshold (float, ex: 0.02)\n",
    "    \n",
    "    Purpose:\n",
    "    The CUSUM filter is a quality-control method, designed to detect a shift in the mean value of a measured quantity away from a target value. \n",
    "    \"\"\"\n",
    "    h = h.map(lambda x: x if x>=m else m)\n",
    "    t_events, s_pos, s_neg = [], 0, 0\n",
    "    diff = np.log(g_raw).diff().dropna()\n",
    "    for i in diff.index[1:]:\n",
    "        try:\n",
    "            pos, neg = float(s_pos+diff.loc[i]), float(s_neg+diff.loc[i])\n",
    "        except Exception as e:\n",
    "            print(e)\n",
    "            print(s_pos+diff.loc[i], type(s_pos+diff.loc[i]))\n",
    "            print(s_neg+diff.loc[i], type(s_neg+diff.loc[i]))\n",
    "            break\n",
    "        s_pos, s_neg=max(0., pos), min(0., neg)\n",
    "        th = h[h.index.get_loc(i, method=\"pad\")]\n",
    "        if s_neg<-th:\n",
    "            s_neg=0;t_events.append(i)\n",
    "#         elif s_pos>th:\n",
    "#             s_pos=0;t_events.append(i)\n",
    "    return pd.DatetimeIndex(t_events)"
   ]
  },
  {
   "cell_type": "code",
   "execution_count": 13,
   "id": "03c6b7df-be14-407d-b300-a0cc7eda479d",
   "metadata": {},
   "outputs": [
    {
     "name": "stdout",
     "output_type": "stream",
     "text": [
      "max: 0.0430782553456884\n",
      "min: 0.0028498335389419\n",
      "mean: 0.020184044125735667\n",
      "median: 0.0201898914119819\n"
     ]
    }
   ],
   "source": [
    "print(f\"max: {max(ind[1:].dropna())}\")\n",
    "print(f\"min: {min(ind[1:].dropna())}\")\n",
    "print(f\"mean: {np.mean(ind)}\")\n",
    "print(f\"median: {np.median(ind[1:].dropna())}\")"
   ]
  },
  {
   "cell_type": "code",
   "execution_count": null,
   "id": "0a04b303-7e1e-43b9-b90b-ef4fc452be58",
   "metadata": {},
   "outputs": [],
   "source": [
    "t_events = get_t_events(df.close,h=ind, m=0.02)\n",
    "t_events"
   ]
  },
  {
   "cell_type": "code",
   "execution_count": null,
   "id": "43c674b1-00d2-45c4-8e7a-d685eb10ebde",
   "metadata": {},
   "outputs": [],
   "source": [
    "side = df.close.reindex(t_events).diff().shift(-1).map(lambda x: 1 if x>0 else 0)\n",
    "side"
   ]
  },
  {
   "cell_type": "code",
   "execution_count": null,
   "id": "9eb97c1a-b585-452e-b183-ed283ecc50f6",
   "metadata": {},
   "outputs": [],
   "source": [
    "side.to_csv(\"../data/side.csv\")"
   ]
  },
  {
   "cell_type": "markdown",
   "id": "673b5f5e-05bc-4b16-8a6a-6aa1f54b25fc",
   "metadata": {},
   "source": [
    "## Plotting"
   ]
  },
  {
   "cell_type": "code",
   "execution_count": null,
   "id": "f2ccc17b-3837-44a8-9c24-cbd6c32b2252",
   "metadata": {},
   "outputs": [],
   "source": [
    "a = 700000\n",
    "b = 800000\n",
    "test = df[a:b].reindex(t_events)\n",
    "fig, ax = plt.subplots(figsize=(12, 6))\n",
    "\n",
    "ax.plot(df.close[a:b], color=\"gray\", alpha=.5)\n",
    "ax.scatter(test.index, test.close)"
   ]
  }
 ],
 "metadata": {
  "kernelspec": {
   "display_name": "Python 3",
   "language": "python",
   "name": "python3"
  },
  "language_info": {
   "codemirror_mode": {
    "name": "ipython",
    "version": 3
   },
   "file_extension": ".py",
   "mimetype": "text/x-python",
   "name": "python",
   "nbconvert_exporter": "python",
   "pygments_lexer": "ipython3",
   "version": "3.9.4"
  }
 },
 "nbformat": 4,
 "nbformat_minor": 5
}
