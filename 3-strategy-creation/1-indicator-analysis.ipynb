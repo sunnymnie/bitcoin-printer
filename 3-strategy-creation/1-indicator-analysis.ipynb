{
 "cells": [
  {
   "cell_type": "markdown",
   "id": "ad9df84f-41bd-42c0-bbb0-cc2f32a394bb",
   "metadata": {},
   "source": [
    "# Indicator analysis\n",
    "Purpose: Find indicator that can be used on get t events"
   ]
  },
  {
   "cell_type": "code",
   "execution_count": 1,
   "id": "e9d5d156-bb42-47d0-9ebb-85f4d81d12a1",
   "metadata": {},
   "outputs": [],
   "source": [
    "import numpy as np\n",
    "import pandas as pd\n",
    "import matplotlib.pyplot as plt\n",
    "import seaborn as sns\n",
    "from ta.momentum import *\n",
    "from ta.trend import *\n",
    "from ta.volume import *\n",
    "from ta.volatility import *\n",
    "\n",
    "import sys\n",
    "sys.path.insert(0, '..')\n",
    "import useful_functions as uf"
   ]
  },
  {
   "cell_type": "code",
   "execution_count": 2,
   "id": "8a22b7e6-875a-48b8-8692-7ac16291b964",
   "metadata": {},
   "outputs": [],
   "source": [
    "df = pd.read_csv(\"../data/BTCUSDT-volume-bars.csv\", index_col=0, parse_dates=True)"
   ]
  },
  {
   "cell_type": "code",
   "execution_count": 28,
   "id": "961e3c19-f112-45d8-9cbc-9287a58745d0",
   "metadata": {},
   "outputs": [],
   "source": [
    "def variations(windows:list[int]):\n",
    "    \"\"\"\n",
    "    returns variations of atr indicator with given windows\n",
    "    \"\"\"\n",
    "    name = \"bb_\"\n",
    "    for w in windows:\n",
    "        bb = BollingerBands(df[\"close\"], window=w, window_dev=1.5)\n",
    "        df[\"indicator\"] = bb.bollinger_pband()\n",
    "variations([1000])"
   ]
  },
  {
   "cell_type": "code",
   "execution_count": 29,
   "id": "9b1732a5-53e6-47ed-8357-06112fa4ddf1",
   "metadata": {},
   "outputs": [
    {
     "data": {
      "text/html": [
       "<div>\n",
       "<style scoped>\n",
       "    .dataframe tbody tr th:only-of-type {\n",
       "        vertical-align: middle;\n",
       "    }\n",
       "\n",
       "    .dataframe tbody tr th {\n",
       "        vertical-align: top;\n",
       "    }\n",
       "\n",
       "    .dataframe thead th {\n",
       "        text-align: right;\n",
       "    }\n",
       "</style>\n",
       "<table border=\"1\" class=\"dataframe\">\n",
       "  <thead>\n",
       "    <tr style=\"text-align: right;\">\n",
       "      <th></th>\n",
       "      <th>open</th>\n",
       "      <th>high</th>\n",
       "      <th>low</th>\n",
       "      <th>close</th>\n",
       "      <th>volume</th>\n",
       "      <th>bb_pband_10000</th>\n",
       "      <th>indicator</th>\n",
       "    </tr>\n",
       "    <tr>\n",
       "      <th>time</th>\n",
       "      <th></th>\n",
       "      <th></th>\n",
       "      <th></th>\n",
       "      <th></th>\n",
       "      <th></th>\n",
       "      <th></th>\n",
       "      <th></th>\n",
       "    </tr>\n",
       "  </thead>\n",
       "  <tbody>\n",
       "    <tr>\n",
       "      <th>2017-08-17 04:21:13.356</th>\n",
       "      <td>4261.48</td>\n",
       "      <td>4280.56</td>\n",
       "      <td>4261.48</td>\n",
       "      <td>4266.29</td>\n",
       "      <td>5.002297</td>\n",
       "      <td>NaN</td>\n",
       "      <td>NaN</td>\n",
       "    </tr>\n",
       "    <tr>\n",
       "      <th>2017-08-17 04:29:19.766</th>\n",
       "      <td>4266.29</td>\n",
       "      <td>4270.41</td>\n",
       "      <td>4261.32</td>\n",
       "      <td>4267.47</td>\n",
       "      <td>5.356629</td>\n",
       "      <td>NaN</td>\n",
       "      <td>NaN</td>\n",
       "    </tr>\n",
       "    <tr>\n",
       "      <th>2017-08-17 04:33:00.057</th>\n",
       "      <td>4261.45</td>\n",
       "      <td>4280.56</td>\n",
       "      <td>4261.45</td>\n",
       "      <td>4267.99</td>\n",
       "      <td>7.935627</td>\n",
       "      <td>NaN</td>\n",
       "      <td>NaN</td>\n",
       "    </tr>\n",
       "    <tr>\n",
       "      <th>2017-08-17 04:39:32.027</th>\n",
       "      <td>4296.63</td>\n",
       "      <td>4300.38</td>\n",
       "      <td>4296.63</td>\n",
       "      <td>4300.38</td>\n",
       "      <td>5.027790</td>\n",
       "      <td>NaN</td>\n",
       "      <td>NaN</td>\n",
       "    </tr>\n",
       "    <tr>\n",
       "      <th>2017-08-17 04:43:05.191</th>\n",
       "      <td>4300.38</td>\n",
       "      <td>4300.38</td>\n",
       "      <td>4300.38</td>\n",
       "      <td>4300.38</td>\n",
       "      <td>5.109679</td>\n",
       "      <td>NaN</td>\n",
       "      <td>NaN</td>\n",
       "    </tr>\n",
       "    <tr>\n",
       "      <th>...</th>\n",
       "      <td>...</td>\n",
       "      <td>...</td>\n",
       "      <td>...</td>\n",
       "      <td>...</td>\n",
       "      <td>...</td>\n",
       "      <td>...</td>\n",
       "      <td>...</td>\n",
       "    </tr>\n",
       "    <tr>\n",
       "      <th>2021-06-19 16:27:04.502</th>\n",
       "      <td>35831.71</td>\n",
       "      <td>35844.86</td>\n",
       "      <td>35831.71</td>\n",
       "      <td>35841.54</td>\n",
       "      <td>5.539350</td>\n",
       "      <td>0.639842</td>\n",
       "      <td>-0.130635</td>\n",
       "    </tr>\n",
       "    <tr>\n",
       "      <th>2021-06-19 16:27:20.667</th>\n",
       "      <td>35841.57</td>\n",
       "      <td>35841.58</td>\n",
       "      <td>35822.03</td>\n",
       "      <td>35823.32</td>\n",
       "      <td>5.033671</td>\n",
       "      <td>0.622404</td>\n",
       "      <td>-0.177436</td>\n",
       "    </tr>\n",
       "    <tr>\n",
       "      <th>2021-06-19 16:27:26.627</th>\n",
       "      <td>35823.32</td>\n",
       "      <td>35833.69</td>\n",
       "      <td>35823.32</td>\n",
       "      <td>35826.83</td>\n",
       "      <td>5.425236</td>\n",
       "      <td>0.625723</td>\n",
       "      <td>-0.165984</td>\n",
       "    </tr>\n",
       "    <tr>\n",
       "      <th>2021-06-19 16:27:44.405</th>\n",
       "      <td>35824.84</td>\n",
       "      <td>35852.23</td>\n",
       "      <td>35823.55</td>\n",
       "      <td>35847.95</td>\n",
       "      <td>5.001377</td>\n",
       "      <td>0.645864</td>\n",
       "      <td>-0.107813</td>\n",
       "    </tr>\n",
       "    <tr>\n",
       "      <th>2021-06-19 16:27:48.270</th>\n",
       "      <td>35833.20</td>\n",
       "      <td>35848.03</td>\n",
       "      <td>35830.00</td>\n",
       "      <td>35839.87</td>\n",
       "      <td>5.056933</td>\n",
       "      <td>0.638113</td>\n",
       "      <td>-0.127630</td>\n",
       "    </tr>\n",
       "  </tbody>\n",
       "</table>\n",
       "<p>11798850 rows × 7 columns</p>\n",
       "</div>"
      ],
      "text/plain": [
       "                             open      high       low     close    volume  \\\n",
       "time                                                                        \n",
       "2017-08-17 04:21:13.356   4261.48   4280.56   4261.48   4266.29  5.002297   \n",
       "2017-08-17 04:29:19.766   4266.29   4270.41   4261.32   4267.47  5.356629   \n",
       "2017-08-17 04:33:00.057   4261.45   4280.56   4261.45   4267.99  7.935627   \n",
       "2017-08-17 04:39:32.027   4296.63   4300.38   4296.63   4300.38  5.027790   \n",
       "2017-08-17 04:43:05.191   4300.38   4300.38   4300.38   4300.38  5.109679   \n",
       "...                           ...       ...       ...       ...       ...   \n",
       "2021-06-19 16:27:04.502  35831.71  35844.86  35831.71  35841.54  5.539350   \n",
       "2021-06-19 16:27:20.667  35841.57  35841.58  35822.03  35823.32  5.033671   \n",
       "2021-06-19 16:27:26.627  35823.32  35833.69  35823.32  35826.83  5.425236   \n",
       "2021-06-19 16:27:44.405  35824.84  35852.23  35823.55  35847.95  5.001377   \n",
       "2021-06-19 16:27:48.270  35833.20  35848.03  35830.00  35839.87  5.056933   \n",
       "\n",
       "                         bb_pband_10000  indicator  \n",
       "time                                                \n",
       "2017-08-17 04:21:13.356             NaN        NaN  \n",
       "2017-08-17 04:29:19.766             NaN        NaN  \n",
       "2017-08-17 04:33:00.057             NaN        NaN  \n",
       "2017-08-17 04:39:32.027             NaN        NaN  \n",
       "2017-08-17 04:43:05.191             NaN        NaN  \n",
       "...                                 ...        ...  \n",
       "2021-06-19 16:27:04.502        0.639842  -0.130635  \n",
       "2021-06-19 16:27:20.667        0.622404  -0.177436  \n",
       "2021-06-19 16:27:26.627        0.625723  -0.165984  \n",
       "2021-06-19 16:27:44.405        0.645864  -0.107813  \n",
       "2021-06-19 16:27:48.270        0.638113  -0.127630  \n",
       "\n",
       "[11798850 rows x 7 columns]"
      ]
     },
     "execution_count": 29,
     "metadata": {},
     "output_type": "execute_result"
    }
   ],
   "source": [
    "df"
   ]
  },
  {
   "cell_type": "code",
   "execution_count": 30,
   "id": "3be57b7f-b5ff-4717-a51b-cb270de2a659",
   "metadata": {},
   "outputs": [
    {
     "name": "stdout",
     "output_type": "stream",
     "text": [
      "max: 4.555366665321305\n",
      "min: -4.178239704831036\n",
      "mean: 0.5143945948162866\n",
      "median: 0.5315641659507628\n"
     ]
    }
   ],
   "source": [
    "i = df.indicator\n",
    "print(f\"max: {max(i[1:].dropna())}\")\n",
    "print(f\"min: {min(i[1:].dropna())}\")\n",
    "print(f\"mean: {np.mean(i)}\")\n",
    "print(f\"median: {np.median(i[1:].dropna())}\")"
   ]
  },
  {
   "cell_type": "code",
   "execution_count": 31,
   "id": "c2c83fe8-6e98-4a45-8513-fc63caf3924b",
   "metadata": {},
   "outputs": [],
   "source": [
    "indicator = df.indicator.map(lambda x: 1 if x>=1 else 0 if 1>x>=0 else -1)"
   ]
  },
  {
   "cell_type": "code",
   "execution_count": 32,
   "id": "2f9f85ce-65ee-4f0b-9790-52a4fa46efa8",
   "metadata": {},
   "outputs": [],
   "source": [
    "indicator.to_csv(\"../data/filter.csv\")"
   ]
  },
  {
   "cell_type": "code",
   "execution_count": 25,
   "id": "1e30e29e-4641-4ca2-85ff-c51a7b887a45",
   "metadata": {
    "jupyter": {
     "source_hidden": true
    },
    "tags": []
   },
   "outputs": [],
   "source": [
    "new = df.rsi_1000.map(lambda x: (x-40.)/500. if x != None else None)"
   ]
  },
  {
   "cell_type": "code",
   "execution_count": 26,
   "id": "fb3dd734-5211-4dca-84f8-97003c110300",
   "metadata": {
    "jupyter": {
     "source_hidden": true
    },
    "tags": []
   },
   "outputs": [],
   "source": [
    "new.to_csv(\"../data/indicator.csv\")"
   ]
  },
  {
   "cell_type": "code",
   "execution_count": 27,
   "id": "77587c30-9f67-40cc-b69c-ee6be1063047",
   "metadata": {
    "collapsed": true,
    "jupyter": {
     "outputs_hidden": true,
     "source_hidden": true
    },
    "tags": []
   },
   "outputs": [
    {
     "data": {
      "text/plain": [
       "time\n",
       "2017-08-17 04:21:13.356         NaN\n",
       "2017-08-17 04:29:19.766         NaN\n",
       "2017-08-17 04:33:00.057         NaN\n",
       "2017-08-17 04:39:32.027         NaN\n",
       "2017-08-17 04:43:05.191         NaN\n",
       "                             ...   \n",
       "2021-06-19 16:27:04.502    0.018469\n",
       "2021-06-19 16:27:20.667    0.018293\n",
       "2021-06-19 16:27:26.627    0.018328\n",
       "2021-06-19 16:27:44.405    0.018539\n",
       "2021-06-19 16:27:48.270    0.018461\n",
       "Name: rsi_1000, Length: 11798850, dtype: float64"
      ]
     },
     "execution_count": 27,
     "metadata": {},
     "output_type": "execute_result"
    }
   ],
   "source": [
    "new"
   ]
  },
  {
   "cell_type": "markdown",
   "id": "701a0b77-0043-4ce0-88c2-759a785d7a2d",
   "metadata": {},
   "source": [
    "## Plotting"
   ]
  },
  {
   "cell_type": "code",
   "execution_count": 33,
   "id": "148c3b7f-5ebb-4025-902b-e42d7524977b",
   "metadata": {},
   "outputs": [
    {
     "data": {
      "text/plain": [
       "[<matplotlib.lines.Line2D at 0x7fd79a62dcd0>]"
      ]
     },
     "execution_count": 33,
     "metadata": {},
     "output_type": "execute_result"
    },
    {
     "data": {
      "image/png": "[encoded data removed]",
      "text/plain": [
       "<Figure size 864x432 with 2 Axes>"
      ]
     },
     "metadata": {
      "needs_background": "light"
     },
     "output_type": "display_data"
    }
   ],
   "source": [
    "a = -200000\n",
    "b = -100000\n",
    "fig, ax = plt.subplots(figsize=(12, 6))\n",
    "\n",
    "ax.plot(df.close[a:b], color=\"lightgray\")\n",
    "ax1 = ax.twinx()\n",
    "ax1.plot(indicator[a:b], alpha=.75)"
   ]
  },
  {
   "cell_type": "code",
   "execution_count": null,
   "id": "600d293d-1cb7-4dac-bf7e-7027fbc032bb",
   "metadata": {},
   "outputs": [],
   "source": []
  }
 ],
 "metadata": {
  "kernelspec": {
   "display_name": "Python 3",
   "language": "python",
   "name": "python3"
  },
  "language_info": {
   "codemirror_mode": {
    "name": "ipython",
    "version": 3
   },
   "file_extension": ".py",
   "mimetype": "text/x-python",
   "name": "python",
   "nbconvert_exporter": "python",
   "pygments_lexer": "ipython3",
   "version": "3.9.4"
  }
 },
 "nbformat": 4,
 "nbformat_minor": 5
}
