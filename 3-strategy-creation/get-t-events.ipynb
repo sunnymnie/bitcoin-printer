{
 "cells": [
  {
   "cell_type": "markdown",
   "id": "04440ec0-ce35-4922-aec2-ac0cfd54c9c4",
   "metadata": {},
   "source": [
    "# Get t events strat"
   ]
  },
  {
   "cell_type": "code",
   "execution_count": 1,
   "id": "250f161a-4115-45d3-bb80-1ac93dcbc240",
   "metadata": {},
   "outputs": [],
   "source": [
    "import pandas as pd\n",
    "import numpy as np\n",
    "import matplotlib.pyplot as plt\n",
    "import datetime"
   ]
  },
  {
   "cell_type": "code",
   "execution_count": 2,
   "id": "5ef133ee-c4d9-4720-804a-5310fa87fcd4",
   "metadata": {},
   "outputs": [],
   "source": [
    "df = pd.read_csv(\"../data/BTCUSDT-volume-bars.csv\", index_col=0, parse_dates=True)"
   ]
  },
  {
   "cell_type": "code",
   "execution_count": 3,
   "id": "81ebf161-5b16-49df-bbf9-d955b52827e4",
   "metadata": {},
   "outputs": [],
   "source": [
    "# df = df[-1_000_000:]"
   ]
  },
  {
   "cell_type": "code",
   "execution_count": 4,
   "id": "b7715661-1d6e-4f83-974f-1717fee5b0c9",
   "metadata": {},
   "outputs": [
    {
     "data": {
      "text/plain": [
       "True"
      ]
     },
     "execution_count": 4,
     "metadata": {},
     "output_type": "execute_result"
    }
   ],
   "source": [
    "df.index.is_monotonic_increasing"
   ]
  },
  {
   "cell_type": "code",
   "execution_count": 5,
   "id": "d8b29646-f450-43f0-b376-8bdf9160340b",
   "metadata": {},
   "outputs": [
    {
     "data": {
      "text/html": [
       "<div>\n",
       "<style scoped>\n",
       "    .dataframe tbody tr th:only-of-type {\n",
       "        vertical-align: middle;\n",
       "    }\n",
       "\n",
       "    .dataframe tbody tr th {\n",
       "        vertical-align: top;\n",
       "    }\n",
       "\n",
       "    .dataframe thead th {\n",
       "        text-align: right;\n",
       "    }\n",
       "</style>\n",
       "<table border=\"1\" class=\"dataframe\">\n",
       "  <thead>\n",
       "    <tr style=\"text-align: right;\">\n",
       "      <th></th>\n",
       "      <th>open</th>\n",
       "      <th>high</th>\n",
       "      <th>low</th>\n",
       "      <th>close</th>\n",
       "      <th>volume</th>\n",
       "    </tr>\n",
       "    <tr>\n",
       "      <th>time</th>\n",
       "      <th></th>\n",
       "      <th></th>\n",
       "      <th></th>\n",
       "      <th></th>\n",
       "      <th></th>\n",
       "    </tr>\n",
       "  </thead>\n",
       "  <tbody>\n",
       "    <tr>\n",
       "      <th>2017-08-17 04:21:13.356</th>\n",
       "      <td>4261.48</td>\n",
       "      <td>4280.56</td>\n",
       "      <td>4261.48</td>\n",
       "      <td>4266.29</td>\n",
       "      <td>5.002297</td>\n",
       "    </tr>\n",
       "    <tr>\n",
       "      <th>2017-08-17 04:29:19.766</th>\n",
       "      <td>4266.29</td>\n",
       "      <td>4270.41</td>\n",
       "      <td>4261.32</td>\n",
       "      <td>4267.47</td>\n",
       "      <td>5.356629</td>\n",
       "    </tr>\n",
       "    <tr>\n",
       "      <th>2017-08-17 04:33:00.057</th>\n",
       "      <td>4261.45</td>\n",
       "      <td>4280.56</td>\n",
       "      <td>4261.45</td>\n",
       "      <td>4267.99</td>\n",
       "      <td>7.935627</td>\n",
       "    </tr>\n",
       "    <tr>\n",
       "      <th>2017-08-17 04:39:32.027</th>\n",
       "      <td>4296.63</td>\n",
       "      <td>4300.38</td>\n",
       "      <td>4296.63</td>\n",
       "      <td>4300.38</td>\n",
       "      <td>5.027790</td>\n",
       "    </tr>\n",
       "    <tr>\n",
       "      <th>2017-08-17 04:43:05.191</th>\n",
       "      <td>4300.38</td>\n",
       "      <td>4300.38</td>\n",
       "      <td>4300.38</td>\n",
       "      <td>4300.38</td>\n",
       "      <td>5.109679</td>\n",
       "    </tr>\n",
       "  </tbody>\n",
       "</table>\n",
       "</div>"
      ],
      "text/plain": [
       "                            open     high      low    close    volume\n",
       "time                                                                 \n",
       "2017-08-17 04:21:13.356  4261.48  4280.56  4261.48  4266.29  5.002297\n",
       "2017-08-17 04:29:19.766  4266.29  4270.41  4261.32  4267.47  5.356629\n",
       "2017-08-17 04:33:00.057  4261.45  4280.56  4261.45  4267.99  7.935627\n",
       "2017-08-17 04:39:32.027  4296.63  4300.38  4296.63  4300.38  5.027790\n",
       "2017-08-17 04:43:05.191  4300.38  4300.38  4300.38  4300.38  5.109679"
      ]
     },
     "execution_count": 5,
     "metadata": {},
     "output_type": "execute_result"
    }
   ],
   "source": [
    "df.head()"
   ]
  },
  {
   "cell_type": "code",
   "execution_count": 6,
   "id": "54e4a470-a1ff-4325-baef-82cf102fd7bf",
   "metadata": {},
   "outputs": [],
   "source": [
    "def get_daily_vol(close, span0=10000):\n",
    "    \"\"\"\n",
    "    daily vol, reindexed to close\n",
    "    \n",
    "    Arguments:\n",
    "    close -- daily close (probably Pandas series)\n",
    "    span0 -- span lol (probably int)\n",
    "    Purpose:\n",
    "    use the output of this function to set default profit taking and stop-loss limit\n",
    "    \"\"\"\n",
    "    df0 = close.index.searchsorted(close.index-pd.Timedelta(days=2))\n",
    "    df0=df0[df0>0]\n",
    "    df0=pd.Series(close.index[df0-1], index=close.index[close.shape[0]-df0.shape[0]:])\n",
    "    df0=close.loc[df0.index]/close.loc[df0.values].values-1 # daily returns\n",
    "    df0=df0.ewm(span=span0).std()\n",
    "    return df0\n",
    "\n",
    "def get_t_events(g_raw, h):\n",
    "    \"\"\"\n",
    "    Implementation of the symmetric CUSUM filter seen in chapter 2.5.2\n",
    "    \n",
    "    Arguments:\n",
    "    g_raw -- the raw time series to filter (possibly pandas series)\n",
    "    h -- threshold (possibly float or int)\n",
    "    \n",
    "    Purpose:\n",
    "    The CUSUM filter is a quality-control method, designed to detect a shift in the mean value of a measured quantity away from a target value. \n",
    "    \"\"\"\n",
    "    t_events, s_pos, s_neg = [], 0, 0\n",
    "    diff = np.log(g_raw).diff().dropna()\n",
    "    for i in diff.index[1:]:\n",
    "        try:\n",
    "            pos, neg = float(s_pos+diff.loc[i]), float(s_neg+diff.loc[i])\n",
    "        except Exception as e:\n",
    "            print(e)\n",
    "            print(s_pos+diff.loc[i], type(s_pos+diff.loc[i]))\n",
    "            print(s_neg+diff.loc[i], type(s_neg+diff.loc[i]))\n",
    "            break\n",
    "        s_pos, s_neg=max(0., pos), min(0., neg)\n",
    "        if s_neg<-h:\n",
    "            s_neg=0;t_events.append(i)\n",
    "        elif s_pos>h:\n",
    "            s_pos=0;t_events.append(i)\n",
    "    return pd.DatetimeIndex(t_events)\n",
    "\n",
    "def get_t_events_variable(g_raw, h, m):\n",
    "    \"\"\"\n",
    "    Implementation of the symmetric CUSUM filter seen in chapter 2.5.2\n",
    "    \n",
    "    Arguments:\n",
    "    g_raw -- the raw time series to filter (possibly pandas series)\n",
    "    h -- threshold pandas series vol\n",
    "    m -- minimum threshold (float, ex: 0.02)\n",
    "    \n",
    "    Purpose:\n",
    "    The CUSUM filter is a quality-control method, designed to detect a shift in the mean value of a measured quantity away from a target value. \n",
    "    \"\"\"\n",
    "    h = h.map(lambda x: x if x>=m else m)\n",
    "    t_events, s_pos, s_neg = [], 0, 0\n",
    "    diff = np.log(g_raw).diff().dropna()\n",
    "    for i in diff.index[1:]:\n",
    "        try:\n",
    "            pos, neg = float(s_pos+diff.loc[i]), float(s_neg+diff.loc[i])\n",
    "        except Exception as e:\n",
    "            print(e)\n",
    "            print(s_pos+diff.loc[i], type(s_pos+diff.loc[i]))\n",
    "            print(s_neg+diff.loc[i], type(s_neg+diff.loc[i]))\n",
    "            break\n",
    "        s_pos, s_neg=max(0., pos), min(0., neg)\n",
    "        th = h[h.index.get_loc(i, method=\"pad\")]\n",
    "        if s_neg<-th:\n",
    "            s_neg=0;t_events.append(i)\n",
    "        elif s_pos>th:\n",
    "            s_pos=0;t_events.append(i)\n",
    "    return pd.DatetimeIndex(t_events)"
   ]
  },
  {
   "cell_type": "code",
   "execution_count": 7,
   "id": "88478aba-2c77-45bd-b586-2c70ee4c3a62",
   "metadata": {},
   "outputs": [],
   "source": [
    "vol = get_daily_vol(df.close)"
   ]
  },
  {
   "cell_type": "code",
   "execution_count": 8,
   "id": "69ae7dd5-b103-4bce-ab4d-7795919271a1",
   "metadata": {},
   "outputs": [
    {
     "data": {
      "text/plain": [
       "time\n",
       "2017-08-19 04:25:59.354         NaN\n",
       "2017-08-19 04:57:14.915    0.016215\n",
       "2017-08-19 05:16:47.885    0.011695\n",
       "2017-08-19 05:31:30.438    0.013451\n",
       "2017-08-19 06:05:00.076    0.011669\n",
       "                             ...   \n",
       "2021-06-19 16:27:04.502    0.012078\n",
       "2021-06-19 16:27:20.667    0.012077\n",
       "2021-06-19 16:27:26.627    0.012076\n",
       "2021-06-19 16:27:44.405    0.012075\n",
       "2021-06-19 16:27:48.270    0.012074\n",
       "Name: close, Length: 11798483, dtype: float64"
      ]
     },
     "execution_count": 8,
     "metadata": {},
     "output_type": "execute_result"
    }
   ],
   "source": [
    "vol"
   ]
  },
  {
   "cell_type": "code",
   "execution_count": 9,
   "id": "ab2943c8-1048-4adf-8239-583354517827",
   "metadata": {},
   "outputs": [
    {
     "name": "stdout",
     "output_type": "stream",
     "text": [
      "max: 0.15677271710535778\n",
      "mean: 0.02651504315228314\n",
      "median: 0.022812545829035108\n"
     ]
    }
   ],
   "source": [
    "print(f\"max: {max(vol[1:])}\")\n",
    "print(f\"mean: {np.mean(vol)}\")\n",
    "print(f\"median: {np.median(vol[1:])}\")"
   ]
  },
  {
   "cell_type": "code",
   "execution_count": 10,
   "id": "bff020c3-3525-438f-94c5-1ca1d4a8bf69",
   "metadata": {},
   "outputs": [],
   "source": [
    "df[\"vol\"] = vol"
   ]
  },
  {
   "cell_type": "code",
   "execution_count": null,
   "id": "96952391-bac5-4834-a022-f29f785a1d41",
   "metadata": {},
   "outputs": [],
   "source": [
    "t_events = get_t_events_variable(df.close,h=df.vol, m=0.02)"
   ]
  },
  {
   "cell_type": "code",
   "execution_count": null,
   "id": "917a614a-2235-49d5-b201-21f1e2b14bc5",
   "metadata": {},
   "outputs": [],
   "source": [
    "t_events"
   ]
  },
  {
   "cell_type": "code",
   "execution_count": null,
   "id": "45244ec6-149b-4352-a94a-6236289fad55",
   "metadata": {},
   "outputs": [],
   "source": [
    "side = df.close.reindex(t_events).diff().shift(-1).map(lambda x: 1 if x>0 else 0)\n",
    "side"
   ]
  },
  {
   "cell_type": "code",
   "execution_count": null,
   "id": "06dda1c5-3b71-435e-95ca-d807c41da9ee",
   "metadata": {},
   "outputs": [],
   "source": [
    "side.to_csv(\"../data/side.csv\")"
   ]
  },
  {
   "cell_type": "markdown",
   "id": "1147fdab-c9e6-44a8-8f0c-231f9def4142",
   "metadata": {},
   "source": [
    "## Plotting"
   ]
  },
  {
   "cell_type": "code",
   "execution_count": 159,
   "id": "2648b50c-14b7-46e2-96ae-ed5af6f40412",
   "metadata": {},
   "outputs": [
    {
     "data": {
      "text/plain": [
       "<matplotlib.collections.PathCollection at 0x7ffab7e84bb0>"
      ]
     },
     "execution_count": 159,
     "metadata": {},
     "output_type": "execute_result"
    },
    {
     "data": {
      "image/png": "[encoded data removed]",
      "text/plain": [
       "<Figure size 864x432 with 1 Axes>"
      ]
     },
     "metadata": {
      "needs_background": "light"
     },
     "output_type": "display_data"
    }
   ],
   "source": [
    "a = 700000\n",
    "b = 800000\n",
    "test = df[a:b].reindex(t_events)\n",
    "fig, ax = plt.subplots(figsize=(12, 6))\n",
    "\n",
    "ax.plot(df.close[a:b], color=\"gray\", alpha=.5)\n",
    "ax.scatter(test.index, test.close)"
   ]
  },
  {
   "cell_type": "code",
   "execution_count": null,
   "id": "dba2d79d-55d1-4c75-918e-b6b0cbd74d6c",
   "metadata": {},
   "outputs": [],
   "source": []
  }
 ],
 "metadata": {
  "kernelspec": {
   "display_name": "Python 3",
   "language": "python",
   "name": "python3"
  },
  "language_info": {
   "codemirror_mode": {
    "name": "ipython",
    "version": 3
   },
   "file_extension": ".py",
   "mimetype": "text/x-python",
   "name": "python",
   "nbconvert_exporter": "python",
   "pygments_lexer": "ipython3",
   "version": "3.9.4"
  }
 },
 "nbformat": 4,
 "nbformat_minor": 5
}
