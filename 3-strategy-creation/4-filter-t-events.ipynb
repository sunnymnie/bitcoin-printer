{
 "cells": [
  {
   "cell_type": "markdown",
   "id": "7835b85d-bdb8-46dd-9a91-76687e0a04b6",
   "metadata": {},
   "source": [
    "# Filter t events to be in-line with an indicator"
   ]
  },
  {
   "cell_type": "code",
   "execution_count": 1,
   "id": "118aa8dc-c8d7-4519-9cf9-e14e6ee990f5",
   "metadata": {},
   "outputs": [],
   "source": [
    "import pandas as pd\n",
    "import numpy as np\n",
    "import matplotlib.pyplot as plt\n",
    "import seaborn as sns\n",
    "import datetime\n",
    "\n",
    "from ta.momentum import *\n",
    "from ta.trend import *\n",
    "from ta.volume import *\n",
    "from ta.volatility import *\n",
    "\n",
    "import sys\n",
    "sys.path.insert(0, '..')\n",
    "import useful_functions as uf"
   ]
  },
  {
   "cell_type": "code",
   "execution_count": 80,
   "id": "12d71ac7-91ec-4b06-ad4d-9bde4e6fb861",
   "metadata": {},
   "outputs": [],
   "source": [
    "indicator = pd.read_csv(\"../data/filter.csv\", index_col=0, parse_dates=True, squeeze=True)\n",
    "target = pd.read_csv(\"../data/target-original.csv\", index_col=0, parse_dates=True, squeeze=True)\n",
    "side = pd.read_csv(\"../data/side-original.csv\", index_col=0, parse_dates=True, squeeze=True)"
   ]
  },
  {
   "cell_type": "code",
   "execution_count": 91,
   "id": "a6309dbe-587c-4aac-ae56-2c35059cbb0c",
   "metadata": {},
   "outputs": [],
   "source": [
    "target = target[~target.index.duplicated(keep='first')]\n",
    "side = side[~side.index.duplicated(keep='first')]"
   ]
  },
  {
   "cell_type": "code",
   "execution_count": 83,
   "id": "47ddd5ed-4cd5-4af1-ae3d-c1523424e45b",
   "metadata": {},
   "outputs": [],
   "source": [
    "indicator = indicator.reindex(target.index)"
   ]
  },
  {
   "cell_type": "code",
   "execution_count": 84,
   "id": "e4ac67d3-d177-4d10-937e-506a7d8b5b0b",
   "metadata": {},
   "outputs": [
    {
     "data": {
      "text/plain": [
       "-1    3267\n",
       " 1    3054\n",
       " 0     813\n",
       "Name: indicator, dtype: int64"
      ]
     },
     "execution_count": 84,
     "metadata": {},
     "output_type": "execute_result"
    }
   ],
   "source": [
    "indicator.value_counts()"
   ]
  },
  {
   "cell_type": "code",
   "execution_count": 86,
   "id": "e0c637fd-b90a-412b-b8d3-fbfdc5bf0502",
   "metadata": {},
   "outputs": [],
   "source": [
    "indicator = indicator[indicator != 0]"
   ]
  },
  {
   "cell_type": "code",
   "execution_count": 89,
   "id": "0ae4a838-ddc3-4b0f-b5e9-4e9752aeba64",
   "metadata": {},
   "outputs": [],
   "source": [
    "target = target.reindex(indicator.index)"
   ]
  },
  {
   "cell_type": "code",
   "execution_count": 92,
   "id": "80ac5554-d0db-47d1-a107-89fada8f585a",
   "metadata": {},
   "outputs": [],
   "source": [
    "side = side.reindex(indicator.index)"
   ]
  },
  {
   "cell_type": "code",
   "execution_count": 93,
   "id": "ebb814c6-2452-49e9-88d1-eced18f03139",
   "metadata": {},
   "outputs": [],
   "source": [
    "target.to_csv(\"../data/target.csv\")\n",
    "side.to_csv(\"../data/side.csv\")"
   ]
  },
  {
   "cell_type": "code",
   "execution_count": null,
   "id": "c9aab206-7482-462e-a989-0bf42a30dc6b",
   "metadata": {},
   "outputs": [],
   "source": []
  }
 ],
 "metadata": {
  "kernelspec": {
   "display_name": "Python 3",
   "language": "python",
   "name": "python3"
  },
  "language_info": {
   "codemirror_mode": {
    "name": "ipython",
    "version": 3
   },
   "file_extension": ".py",
   "mimetype": "text/x-python",
   "name": "python",
   "nbconvert_exporter": "python",
   "pygments_lexer": "ipython3",
   "version": "3.9.4"
  }
 },
 "nbformat": 4,
 "nbformat_minor": 5
}
