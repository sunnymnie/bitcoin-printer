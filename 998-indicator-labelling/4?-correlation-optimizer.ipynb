{
 "cells": [
  {
   "cell_type": "markdown",
   "id": "67c0510a-4304-4a39-b505-ac380e71158f",
   "metadata": {},
   "source": [
    "# Calculate all correlations with loop"
   ]
  },
  {
   "cell_type": "code",
   "execution_count": 2,
   "id": "ddbbb7f3-32bd-474b-98ef-e9944a906ec9",
   "metadata": {},
   "outputs": [],
   "source": [
    "import pandas as pd\n",
    "import numpy as np\n",
    "import matplotlib.pyplot as plt\n",
    "import seaborn as sns\n",
    "import datetime\n",
    "\n",
    "from ta.momentum import *\n",
    "from ta.trend import *\n",
    "from ta.volume import *\n",
    "from ta.volatility import *\n",
    "\n",
    "import sys\n",
    "sys.path.insert(0, '..')\n",
    "import useful_functions as uf"
   ]
  },
  {
   "cell_type": "code",
   "execution_count": null,
   "id": "7596190c-73c9-49ba-b51d-4b394b55eca6",
   "metadata": {},
   "outputs": [],
   "source": [
    "df = pd.read_csv(\"../data/BTCUSDT-volume-bars.csv\", index_col=0, parse_dates=True)\n"
   ]
  },
  {
   "cell_type": "code",
   "execution_count": null,
   "id": "0c8f678b-c27d-4594-a5cf-af63aff74f54",
   "metadata": {},
   "outputs": [],
   "source": []
  }
 ],
 "metadata": {
  "kernelspec": {
   "display_name": "Python 3",
   "language": "python",
   "name": "python3"
  },
  "language_info": {
   "codemirror_mode": {
    "name": "ipython",
    "version": 3
   },
   "file_extension": ".py",
   "mimetype": "text/x-python",
   "name": "python",
   "nbconvert_exporter": "python",
   "pygments_lexer": "ipython3",
   "version": "3.9.4"
  }
 },
 "nbformat": 4,
 "nbformat_minor": 5
}
