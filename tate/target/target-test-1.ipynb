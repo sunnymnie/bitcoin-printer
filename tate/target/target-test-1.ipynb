{
 "cells": [
  {
   "cell_type": "markdown",
   "id": "c840ab15-4f7b-4c8c-a5c8-13409d755203",
   "metadata": {},
   "source": [
    "# Target test"
   ]
  },
  {
   "cell_type": "code",
   "execution_count": 1,
   "id": "b5ca881d-4f84-47a9-ade2-f8a6a6ee560a",
   "metadata": {},
   "outputs": [],
   "source": [
    "import numpy as np\n",
    "import pandas as pd\n",
    "import matplotlib.pyplot as plt\n",
    "import seaborn as sns\n",
    "from ta.trend import SMAIndicator"
   ]
  },
  {
   "cell_type": "code",
   "execution_count": 2,
   "id": "db2126e3-068e-4ba3-898d-341beb20b0a0",
   "metadata": {},
   "outputs": [],
   "source": [
    "# Temporary solution\n",
    "import sys\n",
    "sys.path.insert(0, '..')\n",
    "import useful_functions as uf"
   ]
  },
  {
   "cell_type": "code",
   "execution_count": 3,
   "id": "d41836e7-bdb4-440c-8177-d57327e75670",
   "metadata": {},
   "outputs": [],
   "source": [
    "df = pd.read_csv(\"../data/BTCUSDT-minute.csv\")"
   ]
  },
  {
   "cell_type": "code",
   "execution_count": 4,
   "id": "3f8911cf",
   "metadata": {},
   "outputs": [
    {
     "data": {
      "text/html": [
       "<div>\n",
       "<style scoped>\n",
       "    .dataframe tbody tr th:only-of-type {\n",
       "        vertical-align: middle;\n",
       "    }\n",
       "\n",
       "    .dataframe tbody tr th {\n",
       "        vertical-align: top;\n",
       "    }\n",
       "\n",
       "    .dataframe thead th {\n",
       "        text-align: right;\n",
       "    }\n",
       "</style>\n",
       "<table border=\"1\" class=\"dataframe\">\n",
       "  <thead>\n",
       "    <tr style=\"text-align: right;\">\n",
       "      <th></th>\n",
       "      <th>timestamp</th>\n",
       "      <th>open</th>\n",
       "      <th>high</th>\n",
       "      <th>low</th>\n",
       "      <th>close</th>\n",
       "      <th>volume</th>\n",
       "      <th>close_time</th>\n",
       "      <th>quote_av</th>\n",
       "      <th>trades</th>\n",
       "      <th>tb_base_av</th>\n",
       "      <th>tb_quote_av</th>\n",
       "      <th>ignore</th>\n",
       "    </tr>\n",
       "  </thead>\n",
       "  <tbody>\n",
       "    <tr>\n",
       "      <th>0</th>\n",
       "      <td>2017-08-17 04:00:00</td>\n",
       "      <td>4261.48</td>\n",
       "      <td>4261.48</td>\n",
       "      <td>4261.48</td>\n",
       "      <td>4261.48</td>\n",
       "      <td>1.775183</td>\n",
       "      <td>1502942459999</td>\n",
       "      <td>7.564907e+03</td>\n",
       "      <td>3</td>\n",
       "      <td>0.075183</td>\n",
       "      <td>3.203909e+02</td>\n",
       "      <td>7960.540180</td>\n",
       "    </tr>\n",
       "    <tr>\n",
       "      <th>1</th>\n",
       "      <td>2017-08-17 04:01:00</td>\n",
       "      <td>4261.48</td>\n",
       "      <td>4261.48</td>\n",
       "      <td>4261.48</td>\n",
       "      <td>4261.48</td>\n",
       "      <td>0.000000</td>\n",
       "      <td>1502942519999</td>\n",
       "      <td>0.000000e+00</td>\n",
       "      <td>0</td>\n",
       "      <td>0.000000</td>\n",
       "      <td>0.000000e+00</td>\n",
       "      <td>7960.452630</td>\n",
       "    </tr>\n",
       "    <tr>\n",
       "      <th>2</th>\n",
       "      <td>2017-08-17 04:02:00</td>\n",
       "      <td>4280.56</td>\n",
       "      <td>4280.56</td>\n",
       "      <td>4280.56</td>\n",
       "      <td>4280.56</td>\n",
       "      <td>0.261074</td>\n",
       "      <td>1502942579999</td>\n",
       "      <td>1.117543e+03</td>\n",
       "      <td>2</td>\n",
       "      <td>0.261074</td>\n",
       "      <td>1.117543e+03</td>\n",
       "      <td>7960.375295</td>\n",
       "    </tr>\n",
       "    <tr>\n",
       "      <th>3</th>\n",
       "      <td>2017-08-17 04:03:00</td>\n",
       "      <td>4261.48</td>\n",
       "      <td>4261.48</td>\n",
       "      <td>4261.48</td>\n",
       "      <td>4261.48</td>\n",
       "      <td>0.012008</td>\n",
       "      <td>1502942639999</td>\n",
       "      <td>5.117185e+01</td>\n",
       "      <td>3</td>\n",
       "      <td>0.012008</td>\n",
       "      <td>5.117185e+01</td>\n",
       "      <td>7960.375295</td>\n",
       "    </tr>\n",
       "    <tr>\n",
       "      <th>4</th>\n",
       "      <td>2017-08-17 04:04:00</td>\n",
       "      <td>4261.48</td>\n",
       "      <td>4261.48</td>\n",
       "      <td>4261.48</td>\n",
       "      <td>4261.48</td>\n",
       "      <td>0.140796</td>\n",
       "      <td>1502942699999</td>\n",
       "      <td>5.999993e+02</td>\n",
       "      <td>1</td>\n",
       "      <td>0.140796</td>\n",
       "      <td>5.999993e+02</td>\n",
       "      <td>7960.375295</td>\n",
       "    </tr>\n",
       "    <tr>\n",
       "      <th>...</th>\n",
       "      <td>...</td>\n",
       "      <td>...</td>\n",
       "      <td>...</td>\n",
       "      <td>...</td>\n",
       "      <td>...</td>\n",
       "      <td>...</td>\n",
       "      <td>...</td>\n",
       "      <td>...</td>\n",
       "      <td>...</td>\n",
       "      <td>...</td>\n",
       "      <td>...</td>\n",
       "      <td>...</td>\n",
       "    </tr>\n",
       "    <tr>\n",
       "      <th>1988733</th>\n",
       "      <td>2021-06-03 20:24:00</td>\n",
       "      <td>38665.26</td>\n",
       "      <td>38689.56</td>\n",
       "      <td>38655.91</td>\n",
       "      <td>38682.52</td>\n",
       "      <td>14.795718</td>\n",
       "      <td>1622751899999</td>\n",
       "      <td>5.722516e+05</td>\n",
       "      <td>457</td>\n",
       "      <td>5.929895</td>\n",
       "      <td>2.293488e+05</td>\n",
       "      <td>0.000000</td>\n",
       "    </tr>\n",
       "    <tr>\n",
       "      <th>1988734</th>\n",
       "      <td>2021-06-03 20:25:00</td>\n",
       "      <td>38682.52</td>\n",
       "      <td>38682.53</td>\n",
       "      <td>38643.07</td>\n",
       "      <td>38649.70</td>\n",
       "      <td>16.778473</td>\n",
       "      <td>1622751959999</td>\n",
       "      <td>6.486770e+05</td>\n",
       "      <td>563</td>\n",
       "      <td>6.614560</td>\n",
       "      <td>2.557099e+05</td>\n",
       "      <td>0.000000</td>\n",
       "    </tr>\n",
       "    <tr>\n",
       "      <th>1988735</th>\n",
       "      <td>2021-06-03 20:26:00</td>\n",
       "      <td>38649.69</td>\n",
       "      <td>38682.52</td>\n",
       "      <td>38649.69</td>\n",
       "      <td>38682.52</td>\n",
       "      <td>15.709853</td>\n",
       "      <td>1622752019999</td>\n",
       "      <td>6.074695e+05</td>\n",
       "      <td>566</td>\n",
       "      <td>11.004542</td>\n",
       "      <td>4.255326e+05</td>\n",
       "      <td>0.000000</td>\n",
       "    </tr>\n",
       "    <tr>\n",
       "      <th>1988736</th>\n",
       "      <td>2021-06-03 20:27:00</td>\n",
       "      <td>38682.52</td>\n",
       "      <td>38682.69</td>\n",
       "      <td>38640.40</td>\n",
       "      <td>38649.38</td>\n",
       "      <td>23.010205</td>\n",
       "      <td>1622752079999</td>\n",
       "      <td>8.894626e+05</td>\n",
       "      <td>590</td>\n",
       "      <td>7.261787</td>\n",
       "      <td>2.806922e+05</td>\n",
       "      <td>0.000000</td>\n",
       "    </tr>\n",
       "    <tr>\n",
       "      <th>1988737</th>\n",
       "      <td>2021-06-03 20:28:00</td>\n",
       "      <td>38649.38</td>\n",
       "      <td>38718.00</td>\n",
       "      <td>38648.01</td>\n",
       "      <td>38700.51</td>\n",
       "      <td>48.112405</td>\n",
       "      <td>1622752139999</td>\n",
       "      <td>1.860678e+06</td>\n",
       "      <td>809</td>\n",
       "      <td>36.559396</td>\n",
       "      <td>1.413666e+06</td>\n",
       "      <td>0.000000</td>\n",
       "    </tr>\n",
       "  </tbody>\n",
       "</table>\n",
       "<p>1988738 rows × 12 columns</p>\n",
       "</div>"
      ],
      "text/plain": [
       "                   timestamp      open      high       low     close  \\\n",
       "0        2017-08-17 04:00:00   4261.48   4261.48   4261.48   4261.48   \n",
       "1        2017-08-17 04:01:00   4261.48   4261.48   4261.48   4261.48   \n",
       "2        2017-08-17 04:02:00   4280.56   4280.56   4280.56   4280.56   \n",
       "3        2017-08-17 04:03:00   4261.48   4261.48   4261.48   4261.48   \n",
       "4        2017-08-17 04:04:00   4261.48   4261.48   4261.48   4261.48   \n",
       "...                      ...       ...       ...       ...       ...   \n",
       "1988733  2021-06-03 20:24:00  38665.26  38689.56  38655.91  38682.52   \n",
       "1988734  2021-06-03 20:25:00  38682.52  38682.53  38643.07  38649.70   \n",
       "1988735  2021-06-03 20:26:00  38649.69  38682.52  38649.69  38682.52   \n",
       "1988736  2021-06-03 20:27:00  38682.52  38682.69  38640.40  38649.38   \n",
       "1988737  2021-06-03 20:28:00  38649.38  38718.00  38648.01  38700.51   \n",
       "\n",
       "            volume     close_time      quote_av  trades  tb_base_av  \\\n",
       "0         1.775183  1502942459999  7.564907e+03       3    0.075183   \n",
       "1         0.000000  1502942519999  0.000000e+00       0    0.000000   \n",
       "2         0.261074  1502942579999  1.117543e+03       2    0.261074   \n",
       "3         0.012008  1502942639999  5.117185e+01       3    0.012008   \n",
       "4         0.140796  1502942699999  5.999993e+02       1    0.140796   \n",
       "...            ...            ...           ...     ...         ...   \n",
       "1988733  14.795718  1622751899999  5.722516e+05     457    5.929895   \n",
       "1988734  16.778473  1622751959999  6.486770e+05     563    6.614560   \n",
       "1988735  15.709853  1622752019999  6.074695e+05     566   11.004542   \n",
       "1988736  23.010205  1622752079999  8.894626e+05     590    7.261787   \n",
       "1988737  48.112405  1622752139999  1.860678e+06     809   36.559396   \n",
       "\n",
       "          tb_quote_av       ignore  \n",
       "0        3.203909e+02  7960.540180  \n",
       "1        0.000000e+00  7960.452630  \n",
       "2        1.117543e+03  7960.375295  \n",
       "3        5.117185e+01  7960.375295  \n",
       "4        5.999993e+02  7960.375295  \n",
       "...               ...          ...  \n",
       "1988733  2.293488e+05     0.000000  \n",
       "1988734  2.557099e+05     0.000000  \n",
       "1988735  4.255326e+05     0.000000  \n",
       "1988736  2.806922e+05     0.000000  \n",
       "1988737  1.413666e+06     0.000000  \n",
       "\n",
       "[1988738 rows x 12 columns]"
      ]
     },
     "execution_count": 4,
     "metadata": {},
     "output_type": "execute_result"
    }
   ],
   "source": [
    "df"
   ]
  },
  {
   "cell_type": "code",
   "execution_count": 83,
   "id": "6a45296e-ca62-41ec-961e-0d0db8dcafb2",
   "metadata": {},
   "outputs": [],
   "source": [
    "# df = df[1970000:1980000]"
   ]
  },
  {
   "cell_type": "code",
   "execution_count": 6,
   "id": "03c435ae",
   "metadata": {
    "code_folding": []
   },
   "outputs": [
    {
     "name": "stdout",
     "output_type": "stream",
     "text": [
      "0 4261.48\n",
      "1 4261.48\n",
      "2 4261.48\n",
      "3 4261.48\n",
      "4 4261.48\n"
     ]
    }
   ],
   "source": [
    "for i,c in enumerate(df['close']):\n",
    "    acc = []\n",
    "    "
   ]
  },
  {
   "cell_type": "code",
   "execution_count": 85,
   "id": "be8652e6-cce6-4868-bbd4-2c4d090df5b4",
   "metadata": {
    "code_folding": []
   },
   "outputs": [],
   "source": [
    "def get_target(df, span:int, tp:float, sl:float):\n",
    "    \"\"\"\n",
    "    gets target. must have tp or greater within span and no sl in span\n",
    "    tp: 1.5\n",
    "    sl: 2.5\n",
    "    \"\"\"\n",
    "    acc = [] #target column\n",
    "\n",
    "    for i in range(len(df[\"close\"])):\n",
    "        close = df.iloc[i].close\n",
    "        high = df.iloc[i].high\n",
    "        low = df.iloc[i].low\n",
    "        \n",
    "        if i+span < len(df[\"close\"]):\n",
    "            tp_price = (1+tp/100)*close\n",
    "            sl_price = (1-sl/100)*close\n",
    "            high = max(df.iloc[i+1:i+span].high)\n",
    "            low = min(df.iloc[i+1:i+span].low)\n",
    "            \n",
    "            if low<sl_price:\n",
    "                acc.append(0)\n",
    "            elif high>tp_price:\n",
    "                acc.append(1)\n",
    "            else:\n",
    "                acc.append(0)\n",
    "        else:\n",
    "            acc.append(None)\n",
    "\n",
    "    return acc\n",
    "    "
   ]
  },
  {
   "cell_type": "code",
   "execution_count": 118,
   "id": "21ea280d",
   "metadata": {},
   "outputs": [],
   "source": [
    "def get_target_faster(df, span:int, tp:float, sl:float):\n",
    "    target = []\n",
    "    sdf = df[['close','high']]\n",
    "    c_high = max(sdf['high'][0:span])\n",
    "    \n",
    "    for i in range(sdf.shape[0]):\n",
    "        \n",
    "        #progress tracker\n",
    "        if i %100000 == 0:\n",
    "            print('█', end=\"\")\n",
    "        \n",
    "        if i+span >= len(sdf['close']): \n",
    "            target.append(None)\n",
    "            continue\n",
    "            \n",
    "        close = sdf['close'][i]\n",
    "        tp_price = (1+tp/100)*close\n",
    "        sl_price = (1-sl/100)*close\n",
    "        \n",
    "        if c_high == sdf['high'][i]:\n",
    "            high = max(sdf['high'][i+1:i+span])\n",
    "        else:\n",
    "            high = max(c_high, sdf['high'][i+span])\n",
    "        c_high = high\n",
    "        \n",
    "        target.append(1 if high>tp_price else 0)\n",
    "    \n",
    "    print(' DONE')\n",
    "    return target"
   ]
  },
  {
   "cell_type": "code",
   "execution_count": 123,
   "id": "dbae1f70-ca8e-4fff-844f-05a7310b7e3c",
   "metadata": {},
   "outputs": [
    {
     "name": "stdout",
     "output_type": "stream",
     "text": [
      "████████████████████ DONE\n"
     ]
    }
   ],
   "source": [
    "df[\"target\"] = get_target_faster(df, span=200, tp=1.5, sl=2.5)"
   ]
  },
  {
   "cell_type": "code",
   "execution_count": 37,
   "id": "49670840-c961-40aa-90c9-3933d5059945",
   "metadata": {},
   "outputs": [],
   "source": [
    "df[\"scatter_target\"] = list(map(lambda x, c: c if x == 1 else None, df[\"target\"], df[\"close\"]))"
   ]
  },
  {
   "cell_type": "code",
   "execution_count": 38,
   "id": "0c5abcda-810c-4c20-b640-e63304c9ff1f",
   "metadata": {
    "collapsed": true
   },
   "outputs": [
    {
     "data": {
      "image/png": "[encoded data removed]",
      "text/plain": [
       "<Figure size 1440x720 with 1 Axes>"
      ]
     },
     "metadata": {
      "needs_background": "light"
     },
     "output_type": "display_data"
    }
   ],
   "source": [
    "d = df[271000:273000]\n",
    "\n",
    "fig,ax = plt.subplots(figsize=(20, 10))\n",
    "ax.scatter(range(len(d)),\n",
    "           d.scatter_target,\n",
    "            color=\"#43aa8b\")\n",
    "# ax.axhline(y=0, color='darkgreen', linestyle='-')\n",
    "ax.set_xlabel(\"time\")\n",
    "ax.set_ylabel(\"target\")\n",
    "\n",
    "# ax.tick_params(labelbottom=False)    \n",
    "# ax.axes.xaxis.set_visible(False)\n",
    "\n",
    "# ax2=ax.twinx()\n",
    "ax.plot(list(d.close),\n",
    "         color=\"grey\")\n",
    "\n",
    "# ax.set_ylabel(\"close\")\n",
    "# fig.legend([\"a\", \"b\", \"c\", \"d\"])\n",
    "plt.show()"
   ]
  },
  {
   "cell_type": "code",
   "execution_count": 64,
   "id": "15e3e2c5",
   "metadata": {},
   "outputs": [
    {
     "data": {
      "text/html": [
       "        <script type=\"text/javascript\">\n",
       "        window.PlotlyConfig = {MathJaxConfig: 'local'};\n",
       "        if (window.MathJax) {MathJax.Hub.Config({SVG: {font: \"STIX-Web\"}});}\n",
       "        if (typeof require !== 'undefined') {\n",
       "        require.undef(\"plotly\");\n",
       "        requirejs.config({\n",
       "            paths: {\n",
       "                'plotly': ['https://cdn.plot.ly/plotly-latest.min']\n",
       "            }\n",
       "        });\n",
       "        require(['plotly'], function(Plotly) {\n",
       "            window._Plotly = Plotly;\n",
       "        });\n",
       "        }\n",
       "        </script>\n",
       "        "
      ]
     },
     "metadata": {},
     "output_type": "display_data"
    }
   ],
   "source": [
    "from plotly import __version__\n",
    "from plotly.offline import download_plotlyjs, init_notebook_mode, plot, iplot\n",
    "init_notebook_mode(connected=True)\n",
    "import plotly.graph_objects as go"
   ]
  },
  {
   "cell_type": "code",
   "execution_count": null,
   "id": "83e6965b",
   "metadata": {},
   "outputs": [],
   "source": [
    "# d = df[1000000:]\n",
    "# fig = go.Figure()\n",
    "# fig.add_trace(go.Scatter(x=d.index, y=d['close'], name='close'))\n",
    "# fig.add_trace(go.Scatter(x=d.index, y=d['scatter_target'], name='target'))\n",
    "\n",
    "# fig.show()"
   ]
  },
  {
   "cell_type": "code",
   "execution_count": 88,
   "id": "2c69ed38-7b2c-4217-8fc8-6a779230e6c2",
   "metadata": {},
   "outputs": [
    {
     "data": {
      "text/plain": [
       "(0.0    1550531\n",
       " 1.0     438007\n",
       " Name: target, dtype: int64,\n",
       " 0.2202658435493815)"
      ]
     },
     "execution_count": 88,
     "metadata": {},
     "output_type": "execute_result"
    }
   ],
   "source": [
    "df.target.value_counts(), df.target.value_counts()[1]/(df.target.value_counts()[0]+df.target.value_counts()[1])"
   ]
  },
  {
   "cell_type": "code",
   "execution_count": 92,
   "id": "d47efed2-392f-48df-be9b-c87d0dc5fdb3",
   "metadata": {},
   "outputs": [],
   "source": [
    "df.to_csv(\"../data/BTCUSDT-minute-target-tpsl.csv\", index=False)"
   ]
  },
  {
   "cell_type": "code",
   "execution_count": null,
   "id": "c25cad88-44d9-408c-a40a-8586c7ab7bb8",
   "metadata": {},
   "outputs": [],
   "source": []
  }
 ],
 "metadata": {
  "kernelspec": {
   "display_name": "Python 3",
   "language": "python",
   "name": "python3"
  },
  "language_info": {
   "codemirror_mode": {
    "name": "ipython",
    "version": 3
   },
   "file_extension": ".py",
   "mimetype": "text/x-python",
   "name": "python",
   "nbconvert_exporter": "python",
   "pygments_lexer": "ipython3",
   "version": "3.8.8"
  },
  "toc": {
   "base_numbering": 1,
   "nav_menu": {},
   "number_sections": true,
   "sideBar": true,
   "skip_h1_title": false,
   "title_cell": "Table of Contents",
   "title_sidebar": "Contents",
   "toc_cell": false,
   "toc_position": {},
   "toc_section_display": true,
   "toc_window_display": false
  }
 },
 "nbformat": 4,
 "nbformat_minor": 5
}
