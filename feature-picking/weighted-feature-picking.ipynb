{
 "cells": [
  {
   "cell_type": "markdown",
   "id": "b4ba3c72-8ef6-44c6-8d45-a4aa658a9b46",
   "metadata": {},
   "source": [
    "# Feature selection"
   ]
  },
  {
   "cell_type": "code",
   "execution_count": 8,
   "id": "9cef79ee-f0ea-4587-a37b-24a7221709a6",
   "metadata": {},
   "outputs": [],
   "source": [
    "# Imports\n",
    "import numpy as np\n",
    "import pandas as pd\n",
    "import matplotlib.pyplot as plt\n",
    "import seaborn as sns\n",
    "\n",
    "from sklearn.linear_model import LogisticRegression\n",
    "from sklearn.neighbors import KNeighborsClassifier\n",
    "from sklearn.ensemble import RandomForestClassifier\n",
    "\n",
    "from sklearn.model_selection import train_test_split, cross_val_score, cross_validate\n",
    "from sklearn.model_selection import RandomizedSearchCV, GridSearchCV\n",
    "from sklearn.metrics import confusion_matrix, classification_report\n",
    "from sklearn.metrics import precision_score, recall_score, f1_score\n",
    "from sklearn.metrics import plot_roc_curve\n",
    "from IPython.display import clear_output\n",
    "import random"
   ]
  },
  {
   "cell_type": "code",
   "execution_count": 31,
   "id": "351a4d2b-6395-4998-8248-023358f4aa90",
   "metadata": {},
   "outputs": [
    {
     "data": {
      "text/plain": [
       "42"
      ]
     },
     "execution_count": 31,
     "metadata": {},
     "output_type": "execute_result"
    }
   ],
   "source": [
    "df = pd.read_csv(\"../data/BTCUSDT-hour-target-features.csv\")\n",
    "results = pd.DataFrame(columns=[\"f1\", \"features_count\", \"weights\", \"mean\", \"features\"])\n",
    "lof = list(df.columns)[13:]\n",
    "len(lof)"
   ]
  },
  {
   "cell_type": "code",
   "execution_count": 32,
   "id": "20f222bb-3f58-4bc8-875a-0b063c47d3bb",
   "metadata": {},
   "outputs": [],
   "source": [
    "result = pd.Series([0, 0, ','.join(str(v) for v in list(np.full(len(lof), 100))), 0, \",\".join([])], index=list(results.columns))\n",
    "results = results.append(result, ignore_index=True)\n",
    "results.to_csv(\"../data/features-weighted-results.csv\", index=False)\n"
   ]
  },
  {
   "cell_type": "code",
   "execution_count": 27,
   "id": "be6db679-bc01-411f-9a79-4d0f9349b42c",
   "metadata": {},
   "outputs": [],
   "source": [
    "results = pd.read_csv(\"../data/features-weighted-results.csv\")"
   ]
  },
  {
   "cell_type": "code",
   "execution_count": 91,
   "id": "553f1e0b-6a90-4adc-8709-24a60fcd40da",
   "metadata": {},
   "outputs": [],
   "source": [
    "weights = list(map(int, list(results.weights.tail(1).replace(\"'\", ''))[0].split(\",\")))"
   ]
  },
  {
   "cell_type": "code",
   "execution_count": 88,
   "id": "524b43f8-9ce3-4f09-a149-6838021ded06",
   "metadata": {},
   "outputs": [
    {
     "data": {
      "text/plain": [
       "'1,1,1,1,1,1,1,1,1,1,1,1,1,1,1,1,1,1,1,1,1,1,1,1,1,1,1,1,1,1,1,1,1,1,1,1,1,1,1,1,1,1,1,1,1,1,1,1,1,1,1,1'"
      ]
     },
     "execution_count": 88,
     "metadata": {},
     "output_type": "execute_result"
    }
   ],
   "source": [
    "weights"
   ]
  },
  {
   "cell_type": "code",
   "execution_count": 19,
   "id": "f4242247-7f76-475c-89cd-25e74d5e3b52",
   "metadata": {},
   "outputs": [],
   "source": [
    "a = pd.read_csv(\"../data/features-results.csv\")"
   ]
  },
  {
   "cell_type": "code",
   "execution_count": 49,
   "id": "672e8f4d-de0a-4b60-bf8b-b1292575bb02",
   "metadata": {},
   "outputs": [
    {
     "data": {
      "text/plain": [
       "'volatility_atr_14, sma_20_diff_log_o_close_log, volume_eom_amplified, sma_20_o_close_log, volatility_ui_30, trend_macd_12_signal_log, volume_nvi_o_close_rate_50, sma_200_o_close_log, sma_20_diff_o_close, volume_mfi_50, volatility_bb_pband_100, trend_kst_sig_log, sma_20_o_close, volatility_dc_wband_10, sma_50_o_close_log, mom_tsi_20_log, sma_20_rate_log, sma_200_o_close, trend_dpo_100_log, mom_srsi_30, target'"
      ]
     },
     "execution_count": 49,
     "metadata": {},
     "output_type": "execute_result"
    }
   ],
   "source": [
    "list(a.features.tail(1))[0].replace('[', '').replace(']', '').replace(\"'\", '')"
   ]
  },
  {
   "cell_type": "code",
   "execution_count": 113,
   "id": "397a4147-289a-4d97-9a67-9ede1bf24be7",
   "metadata": {},
   "outputs": [
    {
     "data": {
      "text/plain": [
       "0"
      ]
     },
     "execution_count": 113,
     "metadata": {},
     "output_type": "execute_result"
    }
   ],
   "source": [
    "int(results.tail(1)[\"mean\"])"
   ]
  },
  {
   "cell_type": "code",
   "execution_count": 38,
   "id": "914343b1-d305-4941-8024-dc316c014b88",
   "metadata": {},
   "outputs": [],
   "source": [
    "def find_weights(paths:str, metric:str, force_restart=False):\n",
    "    \"\"\"\n",
    "    find weights\n",
    "    \"\"\"\n",
    "    try:\n",
    "        pd.read_csv(paths)\n",
    "        if force_restart:\n",
    "            raise ValueError('A very specific bad thing happened.')\n",
    "    except:\n",
    "        results = pd.DataFrame(columns=[metric, \"features_count\", \"weights\", \"mean\", \"features\"])\n",
    "        result = pd.Series([0, 0, ','.join(str(v) for v in list(np.full(len(lof), 100))), 0, \",\".join([])], index=list(results.columns))\n",
    "        results = results.append(result, ignore_index=True)\n",
    "        results.to_csv(paths, index=False)\n",
    "\n",
    "    while True:\n",
    "        results = pd.read_csv(paths)\n",
    "        print(f\"features tried: {len(results)}\")\n",
    "\n",
    "        weights = list(map(int, list(results.weights.tail(1).replace(\"'\", ''))[0].split(\",\")))\n",
    "        indicators = list(set(random.choices(population=lof, weights=weights, k=len(lof))))\n",
    "        indicators.append(\"target\")\n",
    "    #     print(indicators)\n",
    "\n",
    "        print(f\"indicators: {indicators}\")\n",
    "\n",
    "        d = df.copy()\n",
    "        d.dropna(inplace=True)\n",
    "\n",
    "        d = d[list(indicators)].copy().astype(np.float32)\n",
    "\n",
    "        X = d.drop([\"target\", \"close\"], axis=1, errors=\"ignore\")[:30000]\n",
    "        y = d[\"target\"][:30000]\n",
    "\n",
    "        model = RandomForestClassifier()\n",
    "        p = np.mean(cross_val_score(model, X, y, cv=5, scoring=metric))\n",
    "        prev_mean = np.mean(list(results.f1)[-int(0.2*len(results))-4:]) if len(results)>5 else p\n",
    "\n",
    "        weights = change_weights_multiply(weights, p, prev_mean, indicators, lof) #Change weights\n",
    "\n",
    "        mean = (prev_mean*5.+p)/(6.)\n",
    "        result = pd.Series([p, len(indicators), ','.join(str(v) for v in list(weights)), mean, \",\".join(indicators)], index=results.columns)\n",
    "        results = results.append(result, ignore_index=True)\n",
    "        results.to_csv(paths, index=False)\n",
    "        clear_output()"
   ]
  },
  {
   "cell_type": "code",
   "execution_count": 39,
   "id": "e4c47287-7f81-4fd4-b3f7-269504893dc3",
   "metadata": {},
   "outputs": [],
   "source": [
    "def not_already_recorded(r:list[str]):\n",
    "    \"\"\"\n",
    "    returns True if set of features are not already done before\n",
    "    \"\"\"\n",
    "    if len(results[\"features\"]) < 2:\n",
    "        return True\n",
    "#     result = list(r.replace(\"'\", ''))[0].split(\",\")\n",
    "    a = list(map(lambda x: set(list(x.replace(\"'\", ''))[0].split(\",\"))==set(r), list(results[\"features\"][1:])))\n",
    "    return True not in a\n",
    "\n",
    "def change_weights(weights:list[int], precision:float, mean:float, indicators:list[str], lof:list[str]):\n",
    "    \"\"\"\n",
    "    changes weight appropriately\n",
    "    \"\"\"\n",
    "    amt = int(p*500-mean*500)\n",
    "    weights = list(map(lambda f, w: w+amt if f in indicators else w, lof, weights))\n",
    "    return list(map(lambda x: x if x>0 else 1, weights))\n",
    "\n",
    "def change_weights_multiply(weights:list[int], precision:float, mean:float, indicators:list[str], lof:list[str]):\n",
    "    \"\"\"\n",
    "    changes weight porportionally\n",
    "    \"\"\"\n",
    "    amt = 3*(precision-mean) #0.01 or -0.015\n",
    "    weights = list(map(lambda f, w: w+int(float(w)*amt) if f in indicators else w, lof, weights))\n",
    "    return list(map(lambda x: x if x>0 else 1, weights))"
   ]
  },
  {
   "cell_type": "code",
   "execution_count": null,
   "id": "39c0c62e-378b-487f-b295-dea60773e5f5",
   "metadata": {},
   "outputs": [
    {
     "name": "stdout",
     "output_type": "stream",
     "text": [
      "features tried: 858\n",
      "indicators: ['volatility_wband_20', 'mom_srsi_10_d', 'volatility_bb_pband_100', 'bb', 'mom_srsi_15_k', 'volume_mfi_50', 'trend_sma_200_diff_o_close_log', 'volume_cmf_50_rate_200', 'mom_ppo_30_hist', 'volatility_bb_wband_200', 'volatility_dc_wband_10', 'volume_nvi_o_close_rate_50', 'target']\n"
     ]
    }
   ],
   "source": [
    "find_weights(\"../data/features-weighted-results-1.csv\", \"f1\", True)"
   ]
  },
  {
   "cell_type": "code",
   "execution_count": null,
   "id": "9623f238-9d10-48d5-867e-a3949518cda1",
   "metadata": {},
   "outputs": [],
   "source": []
  }
 ],
 "metadata": {
  "kernelspec": {
   "display_name": "Python 3",
   "language": "python",
   "name": "python3"
  },
  "language_info": {
   "codemirror_mode": {
    "name": "ipython",
    "version": 3
   },
   "file_extension": ".py",
   "mimetype": "text/x-python",
   "name": "python",
   "nbconvert_exporter": "python",
   "pygments_lexer": "ipython3",
   "version": "3.9.4"
  }
 },
 "nbformat": 4,
 "nbformat_minor": 5
}
