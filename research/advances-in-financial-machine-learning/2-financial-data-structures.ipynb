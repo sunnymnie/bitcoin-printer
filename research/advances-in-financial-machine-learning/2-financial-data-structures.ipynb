{
 "cells": [
  {
   "cell_type": "markdown",
   "id": "ab1fe29e-0f94-4f25-a099-ba38e0caf800",
   "metadata": {},
   "source": [
    "# Chapter 2: Financial Data Structures"
   ]
  },
  {
   "cell_type": "markdown",
   "id": "2e3ae0f3-97fa-4ae4-9781-63c77da34e45",
   "metadata": {},
   "source": [
    "## 2.3 Bars"
   ]
  },
  {
   "cell_type": "markdown",
   "id": "a9c3c630-00d4-47af-9361-8bee3805d8a3",
   "metadata": {},
   "source": [
    "https://github.com/binance/binance-public-data/"
   ]
  },
  {
   "cell_type": "markdown",
   "id": "9eea24e6-6b3b-4aab-a02f-d8f249d4b01e",
   "metadata": {},
   "source": [
    "## 2.5 Sampling Features"
   ]
  },
  {
   "cell_type": "markdown",
   "id": "55afb67a-57d5-415e-8ae9-ca42638b7995",
   "metadata": {},
   "source": [
    "### SNIPPET 2.4 THE SYMMETRIC CUSUM FILTER"
   ]
  },
  {
   "cell_type": "code",
   "execution_count": 2,
   "id": "41965da2-bb46-4f7a-ba89-ae3b03905897",
   "metadata": {},
   "outputs": [],
   "source": [
    "def get_t_events(g_raw, h):\n",
    "    \"\"\"\n",
    "    Implementation of the symmetric CUSUM filter seen in chapter 2.5.2\n",
    "    \n",
    "    Arguments:\n",
    "    g_raw -- the raw time series to filter (possibly pandas series)\n",
    "    h -- threshold (possibly float or int)\n",
    "    \n",
    "    Purpose:\n",
    "    The CUSUM filter is a quality-control method, designed to detect a shift in the mean value of a measured quantity away from a target value. \n",
    "    \"\"\"\n",
    "    t_events, s_pos, s_neg = [], 0, 0\n",
    "    diff = g_raw.diff()\n",
    "    for i in diff.index[1:]:\n",
    "        s_pos, s_neg = max(0, s_pos+diff.loc[i]), min(0, s_neg+diff.loc[i])\n",
    "        if s_neg<-h:\n",
    "            s_neg = 0\n",
    "            t_events.append(i)\n",
    "        elif s_pos>h:\n",
    "            s_pos = 0\n",
    "            t_events.append(i)\n",
    "    return pd.DatetimeIndex(t_events)"
   ]
  }
 ],
 "metadata": {
  "kernelspec": {
   "display_name": "Python 3",
   "language": "python",
   "name": "python3"
  },
  "language_info": {
   "codemirror_mode": {
    "name": "ipython",
    "version": 3
   },
   "file_extension": ".py",
   "mimetype": "text/x-python",
   "name": "python",
   "nbconvert_exporter": "python",
   "pygments_lexer": "ipython3",
   "version": "3.9.4"
  }
 },
 "nbformat": 4,
 "nbformat_minor": 5
}
