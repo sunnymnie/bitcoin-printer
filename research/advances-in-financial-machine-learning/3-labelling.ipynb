{
 "cells": [
  {
   "cell_type": "markdown",
   "id": "c4c9ee60-e336-445b-8486-f3ed8bc12a8a",
   "metadata": {},
   "source": [
    "# Chapter 3: Labeling"
   ]
  },
  {
   "cell_type": "markdown",
   "id": "24e230a0-f56b-49c8-a264-44ce6cd1f363",
   "metadata": {},
   "source": [
    "## 3.3 Computing Dynamic Thresholds"
   ]
  },
  {
   "cell_type": "markdown",
   "id": "535dd3d2-bffe-484c-a3cb-074e2f195f00",
   "metadata": {},
   "source": [
    "### SNIPPET 3.1 DAILY VOLATILITY ESTIMATES"
   ]
  },
  {
   "cell_type": "code",
   "execution_count": 3,
   "id": "5e753ad8-569a-4817-85ff-593997013ad0",
   "metadata": {},
   "outputs": [],
   "source": [
    "def get_daily_vol(close, span0=100):\n",
    "    \"\"\"\n",
    "    daily vol, reindexed to close\n",
    "    \n",
    "    Arguments:\n",
    "    close -- daily close (probably Pandas series)\n",
    "    span0 -- span lol (probably int)\n",
    "    Purpose:\n",
    "    use the output of this function to set default profit taking and stop-loss limit\n",
    "    \"\"\"\n",
    "    df0 = close.index.searchsorted(close.index-pd.Timedelta(days=1))\n",
    "    df0=df0[df0>0]\n",
    "    df0=pd.Series(close.index[df0-1], index=close.index[close.shape[0]-df0.shape[0]:])\n",
    "    df0=close.loc[df0.index]/close.loc[df0.values].values-1 # daily returns\n",
    "    df0=df0.ewm(span-span0).std()\n",
    "    return df0"
   ]
  },
  {
   "cell_type": "markdown",
   "id": "a0aa5fa9-4ea5-4fdb-ab95-6ae4ccc139ea",
   "metadata": {},
   "source": [
    "## 3.4 The Triple-Barrier Method"
   ]
  },
  {
   "cell_type": "markdown",
   "id": "4d6b1655-a404-49e2-87bd-b05d8fca83c1",
   "metadata": {},
   "source": [
    "### SNIPPET 3.2 TRIPLE-BARRIER LABELING METHOD"
   ]
  },
  {
   "cell_type": "code",
   "execution_count": 5,
   "id": "8178307c-b0c0-4625-8638-e5a3fea81c0a",
   "metadata": {},
   "outputs": [],
   "source": [
    "def apply_triple_barrier(close, events, pt_sl, molecule):\n",
    "    \"\"\"\n",
    "    apply stop loss /profit taking, if it takes place between t1 (end of event)\n",
    "    \n",
    "    Arguments:\n",
    "    close -- pandas series of prices\n",
    "    events -- pandas dataframe with columns:\n",
    "        t1: The timestamp of vertical barrier. When the value is np.nan, there will not be a vertical barrier\n",
    "        trgt: The unit width of the horizontal barriers\n",
    "    pt_sl -- a list of two non-negative float values:\n",
    "        pt_sl[0] -- the factor that multiplies trgt to set the width of the upper barrier. If 0, there will not be an upper barrier\n",
    "        pt_sl[1] -- the factor that multiples trgt to set the width of the lower barrier. If 0, there will not be a lower barrier\n",
    "    molecule -- A list with the subset of event indices that will be processed by a single thread\n",
    "    \n",
    "    Output:\n",
    "    The output from this function is a pandas dataframe containing the timestamps (if any) at which each barrier was touched.\n",
    "    \"\"\"\n",
    "    events0 = events.loc[molecule]\n",
    "    out = events0[['t1']].copy(deep=True)\n",
    "    if pt_sl[0]>0:\n",
    "        pt=pt_sl[0]*events0['trgt']\n",
    "    else:\n",
    "        pt=pd.Series(index=events.index) #NaNs\n",
    "    if pt_sl[1]>0:\n",
    "        sl=-pt_sl[1]*events0['trgt']\n",
    "    else:\n",
    "        sl=pd.Series(index=events.index) #NaNs\n",
    "    for loc, t1 in events0['t1'].fillna(close.index[-1]).iteritems():\n",
    "        df0=close[loc:t1] #path prices\n",
    "        df0=(df0/close[loc]-1)*events0.at[loc, 'side'] #path returns\n",
    "        out.loc[loc, 'sl']=df0[df0<sl[loc]].index.min() #earliest stop loss\n",
    "        out.loc[loc, 'pt']=df0[df0>pt[loc]].index.min() #earliest profit taking\n",
    "    return out"
   ]
  },
  {
   "cell_type": "markdown",
   "id": "6703783d-8886-4414-bd90-83c9b87194d7",
   "metadata": {},
   "source": [
    "## 3.5 Learning Side and Size"
   ]
  },
  {
   "cell_type": "markdown",
   "id": "03f5d024-5a16-4bfd-b749-a3ad6f5d86cd",
   "metadata": {},
   "source": [
    "### SNIPPET 3.3 GETTING THE TIME OF FIRST TOUCH"
   ]
  },
  {
   "cell_type": "code",
   "execution_count": 6,
   "id": "86448f7e-8e6f-4ef8-b45f-5e1959e9c1b0",
   "metadata": {},
   "outputs": [],
   "source": [
    "def get_events(close, t_events, pt_sl, trgt, min_ret, num_threads, t1=False):\n",
    "    \"\"\"\n",
    "    finds the time of the first barrier touch\n",
    "    \n",
    "    Arguments:\n",
    "    close -- a pandas series of prices\n",
    "    t_events -- the pandas timeindex containing the timestamps that will seed every triple barrier. These are the timestamps discussed in section 2.5\n",
    "    pt_sl -- a non-negative float that sets the width of the two barriers. A 0 value means that the respective horizontal barrier (profit taking and/or stop loss) will be disabled\n",
    "    t1 -- a pandas series with the timestamps of the vertical barriers. We pass a False when we watn to disable vertical barriers\n",
    "    trgt -- a pandas series of targets, expressed in terms of absolute returns\n",
    "    min_ret -- the minimum target return required for running a triple barrier search\n",
    "    num_threads -- the number of threads concurrently used by the function\n",
    "    \n",
    "    Output:\n",
    "    pandas dataframe with columns\n",
    "    t1 -- the timestamp at which the first barrier is touched\n",
    "    trgt -- the target that was used to generate the horizontal barriers\n",
    "    \"\"\"\n",
    "    #Get target\n",
    "    trgt = trgt.loc[t_events]\n",
    "    trgt = trgt[trgt>min_ret] #min_ret\n",
    "    \n",
    "    #Get t1 (max holding period)\n",
    "    if t1 is False:\n",
    "        t1=pd.Series(pd.NaT, index=t_events)\n",
    "    # form events object, apply stop loss on t1\n",
    "    side0 = pd.Series(1., index=trgt.index)\n",
    "    events=pd.concat({'t1':t1, 'trgt':trgt, 'side':side0},\n",
    "                    axis=1).dropna(subset=['trgt'])\n",
    "    df0=mpPandasObj(func=apply_triple_barrier, pdObj=('molecule', events.index),\n",
    "                   numThreads=num_threads, close=close, events=events, ptSL=[pt_sl, pt_sl])\n",
    "    events['t1']=df0.dropna(how='all').min(axis=1) #pd.min ignores nan\n",
    "    events=events.drop('side', axis=1)\n",
    "    return events"
   ]
  },
  {
   "cell_type": "markdown",
   "id": "e4bb6927-c00f-4be3-8c85-b5b9a8107396",
   "metadata": {},
   "source": [
    "### SNIPPET 3.4 ADDING A VERTICAL BARRIER"
   ]
  },
  {
   "cell_type": "code",
   "execution_count": null,
   "id": "718614ea-011e-429a-ace9-af569238733d",
   "metadata": {},
   "outputs": [],
   "source": [
    "t1 = close.index.searchsorted(t_events+pd.Timedelta(days=num_days))\n",
    "t1 = t1[t1<close.shape[0]]\n",
    "t1 = pd.Series(close.index[t1], index=t_events[:t1.shape[0]]) #NaNs at end"
   ]
  },
  {
   "cell_type": "markdown",
   "id": "2f714a51-2ded-48fa-9d1c-cae9f465af35",
   "metadata": {},
   "source": [
    "### SNIPPET 3.5 LABELING FOR SIDE AND SIZE"
   ]
  },
  {
   "cell_type": "code",
   "execution_count": 7,
   "id": "fd1881c3-a1ac-425c-b0c7-b05d4a5ce145",
   "metadata": {},
   "outputs": [],
   "source": [
    "def get_bins(events, close):\n",
    "    \"\"\"\n",
    "    Output:\n",
    "    dataframe with columns:\n",
    "    ret -- the return realized at the time of the first touched barrier\n",
    "    bin -- the label, {-1, 0, 1}, as a function of the sign of the outcome. The funciton can be easily adjusted to label as 0 those events when the vertical barrier was touched first\"\"\"\n",
    "    # prices aligned with events\n",
    "    events0 = events.dropna(subset=['t1'])\n",
    "    px=events0.index.union(events0['t1'].values).drop_duplicates()\n",
    "    px=close.reindex(px, method='bfill')\n",
    "    # Create out object\n",
    "    out=pd.DataFrame(index=events0.index)\n",
    "    out['ret']=px.loc[events0['t1'].values].values/px.loc[events0.index]-1\n",
    "    out['bin']=np.sign(out['ret'])\n",
    "    return out"
   ]
  },
  {
   "cell_type": "code",
   "execution_count": null,
   "id": "1e4c4e29-be3e-46e8-9a75-8d60b98eb94d",
   "metadata": {},
   "outputs": [],
   "source": []
  }
 ],
 "metadata": {
  "kernelspec": {
   "display_name": "Python 3",
   "language": "python",
   "name": "python3"
  },
  "language_info": {
   "codemirror_mode": {
    "name": "ipython",
    "version": 3
   },
   "file_extension": ".py",
   "mimetype": "text/x-python",
   "name": "python",
   "nbconvert_exporter": "python",
   "pygments_lexer": "ipython3",
   "version": "3.9.4"
  }
 },
 "nbformat": 4,
 "nbformat_minor": 5
}
