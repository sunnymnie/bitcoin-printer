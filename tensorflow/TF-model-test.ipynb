{
 "cells": [
  {
   "cell_type": "markdown",
   "id": "a0d58cd7",
   "metadata": {},
   "source": [
    "# TF model test"
   ]
  },
  {
   "cell_type": "code",
   "execution_count": 1,
   "id": "8e7fca45",
   "metadata": {},
   "outputs": [],
   "source": [
    "import numpy as np\n",
    "import pandas as pd\n",
    "import matplotlib.pyplot as plt\n",
    "import seaborn as sns"
   ]
  },
  {
   "cell_type": "code",
   "execution_count": 2,
   "id": "49a31ee6",
   "metadata": {},
   "outputs": [],
   "source": [
    "df = pd.read_csv('../data/BTCUSDT-minute-target-dip-features-1.csv')"
   ]
  },
  {
   "cell_type": "code",
   "execution_count": 3,
   "id": "5d1ca583",
   "metadata": {},
   "outputs": [
    {
     "data": {
      "text/html": [
       "<div>\n",
       "<style scoped>\n",
       "    .dataframe tbody tr th:only-of-type {\n",
       "        vertical-align: middle;\n",
       "    }\n",
       "\n",
       "    .dataframe tbody tr th {\n",
       "        vertical-align: top;\n",
       "    }\n",
       "\n",
       "    .dataframe thead th {\n",
       "        text-align: right;\n",
       "    }\n",
       "</style>\n",
       "<table border=\"1\" class=\"dataframe\">\n",
       "  <thead>\n",
       "    <tr style=\"text-align: right;\">\n",
       "      <th></th>\n",
       "      <th>timestamp</th>\n",
       "      <th>open</th>\n",
       "      <th>high</th>\n",
       "      <th>low</th>\n",
       "      <th>close</th>\n",
       "      <th>volume</th>\n",
       "      <th>close_time</th>\n",
       "      <th>quote_av</th>\n",
       "      <th>trades</th>\n",
       "      <th>tb_base_av</th>\n",
       "      <th>...</th>\n",
       "      <th>bb_pband_rate_100</th>\n",
       "      <th>bb_wband_rate_100</th>\n",
       "      <th>bb_pband_1000</th>\n",
       "      <th>bb_wband_1000</th>\n",
       "      <th>bb_pband_rate_1000</th>\n",
       "      <th>bb_wband_rate_1000</th>\n",
       "      <th>fi_100</th>\n",
       "      <th>fi_rate_100</th>\n",
       "      <th>fi_1000</th>\n",
       "      <th>fi_rate_1000</th>\n",
       "    </tr>\n",
       "  </thead>\n",
       "  <tbody>\n",
       "    <tr>\n",
       "      <th>0</th>\n",
       "      <td>2017-08-17 04:00:00</td>\n",
       "      <td>4261.48</td>\n",
       "      <td>4261.48</td>\n",
       "      <td>4261.48</td>\n",
       "      <td>4261.48</td>\n",
       "      <td>1.775183</td>\n",
       "      <td>1502942459999</td>\n",
       "      <td>7.564907e+03</td>\n",
       "      <td>3</td>\n",
       "      <td>0.075183</td>\n",
       "      <td>...</td>\n",
       "      <td>NaN</td>\n",
       "      <td>NaN</td>\n",
       "      <td>NaN</td>\n",
       "      <td>NaN</td>\n",
       "      <td>NaN</td>\n",
       "      <td>NaN</td>\n",
       "      <td>NaN</td>\n",
       "      <td>NaN</td>\n",
       "      <td>NaN</td>\n",
       "      <td>NaN</td>\n",
       "    </tr>\n",
       "    <tr>\n",
       "      <th>1</th>\n",
       "      <td>2017-08-17 04:01:00</td>\n",
       "      <td>4261.48</td>\n",
       "      <td>4261.48</td>\n",
       "      <td>4261.48</td>\n",
       "      <td>4261.48</td>\n",
       "      <td>0.000000</td>\n",
       "      <td>1502942519999</td>\n",
       "      <td>0.000000e+00</td>\n",
       "      <td>0</td>\n",
       "      <td>0.000000</td>\n",
       "      <td>...</td>\n",
       "      <td>NaN</td>\n",
       "      <td>NaN</td>\n",
       "      <td>NaN</td>\n",
       "      <td>NaN</td>\n",
       "      <td>NaN</td>\n",
       "      <td>NaN</td>\n",
       "      <td>NaN</td>\n",
       "      <td>NaN</td>\n",
       "      <td>NaN</td>\n",
       "      <td>NaN</td>\n",
       "    </tr>\n",
       "    <tr>\n",
       "      <th>2</th>\n",
       "      <td>2017-08-17 04:02:00</td>\n",
       "      <td>4280.56</td>\n",
       "      <td>4280.56</td>\n",
       "      <td>4280.56</td>\n",
       "      <td>4280.56</td>\n",
       "      <td>0.261074</td>\n",
       "      <td>1502942579999</td>\n",
       "      <td>1.117543e+03</td>\n",
       "      <td>2</td>\n",
       "      <td>0.261074</td>\n",
       "      <td>...</td>\n",
       "      <td>NaN</td>\n",
       "      <td>NaN</td>\n",
       "      <td>NaN</td>\n",
       "      <td>NaN</td>\n",
       "      <td>NaN</td>\n",
       "      <td>NaN</td>\n",
       "      <td>NaN</td>\n",
       "      <td>NaN</td>\n",
       "      <td>NaN</td>\n",
       "      <td>NaN</td>\n",
       "    </tr>\n",
       "    <tr>\n",
       "      <th>3</th>\n",
       "      <td>2017-08-17 04:03:00</td>\n",
       "      <td>4261.48</td>\n",
       "      <td>4261.48</td>\n",
       "      <td>4261.48</td>\n",
       "      <td>4261.48</td>\n",
       "      <td>0.012008</td>\n",
       "      <td>1502942639999</td>\n",
       "      <td>5.117185e+01</td>\n",
       "      <td>3</td>\n",
       "      <td>0.012008</td>\n",
       "      <td>...</td>\n",
       "      <td>NaN</td>\n",
       "      <td>NaN</td>\n",
       "      <td>NaN</td>\n",
       "      <td>NaN</td>\n",
       "      <td>NaN</td>\n",
       "      <td>NaN</td>\n",
       "      <td>NaN</td>\n",
       "      <td>NaN</td>\n",
       "      <td>NaN</td>\n",
       "      <td>NaN</td>\n",
       "    </tr>\n",
       "    <tr>\n",
       "      <th>4</th>\n",
       "      <td>2017-08-17 04:04:00</td>\n",
       "      <td>4261.48</td>\n",
       "      <td>4261.48</td>\n",
       "      <td>4261.48</td>\n",
       "      <td>4261.48</td>\n",
       "      <td>0.140796</td>\n",
       "      <td>1502942699999</td>\n",
       "      <td>5.999993e+02</td>\n",
       "      <td>1</td>\n",
       "      <td>0.140796</td>\n",
       "      <td>...</td>\n",
       "      <td>NaN</td>\n",
       "      <td>NaN</td>\n",
       "      <td>NaN</td>\n",
       "      <td>NaN</td>\n",
       "      <td>NaN</td>\n",
       "      <td>NaN</td>\n",
       "      <td>NaN</td>\n",
       "      <td>NaN</td>\n",
       "      <td>NaN</td>\n",
       "      <td>NaN</td>\n",
       "    </tr>\n",
       "    <tr>\n",
       "      <th>...</th>\n",
       "      <td>...</td>\n",
       "      <td>...</td>\n",
       "      <td>...</td>\n",
       "      <td>...</td>\n",
       "      <td>...</td>\n",
       "      <td>...</td>\n",
       "      <td>...</td>\n",
       "      <td>...</td>\n",
       "      <td>...</td>\n",
       "      <td>...</td>\n",
       "      <td>...</td>\n",
       "      <td>...</td>\n",
       "      <td>...</td>\n",
       "      <td>...</td>\n",
       "      <td>...</td>\n",
       "      <td>...</td>\n",
       "      <td>...</td>\n",
       "      <td>...</td>\n",
       "      <td>...</td>\n",
       "      <td>...</td>\n",
       "      <td>...</td>\n",
       "    </tr>\n",
       "    <tr>\n",
       "      <th>1988733</th>\n",
       "      <td>2021-06-03 20:24:00</td>\n",
       "      <td>38665.26</td>\n",
       "      <td>38689.56</td>\n",
       "      <td>38655.91</td>\n",
       "      <td>38682.52</td>\n",
       "      <td>14.795718</td>\n",
       "      <td>1622751899999</td>\n",
       "      <td>5.722516e+05</td>\n",
       "      <td>457</td>\n",
       "      <td>5.929895</td>\n",
       "      <td>...</td>\n",
       "      <td>0.009752</td>\n",
       "      <td>-0.006316</td>\n",
       "      <td>0.491679</td>\n",
       "      <td>3.643182</td>\n",
       "      <td>0.000120</td>\n",
       "      <td>0.000685</td>\n",
       "      <td>6.990163</td>\n",
       "      <td>0.148107</td>\n",
       "      <td>5.188124</td>\n",
       "      <td>-0.000579</td>\n",
       "    </tr>\n",
       "    <tr>\n",
       "      <th>1988734</th>\n",
       "      <td>2021-06-03 20:25:00</td>\n",
       "      <td>38682.52</td>\n",
       "      <td>38682.53</td>\n",
       "      <td>38643.07</td>\n",
       "      <td>38649.70</td>\n",
       "      <td>16.778473</td>\n",
       "      <td>1622751959999</td>\n",
       "      <td>6.486770e+05</td>\n",
       "      <td>563</td>\n",
       "      <td>6.614560</td>\n",
       "      <td>...</td>\n",
       "      <td>0.007222</td>\n",
       "      <td>-0.006386</td>\n",
       "      <td>0.467441</td>\n",
       "      <td>3.623688</td>\n",
       "      <td>0.000054</td>\n",
       "      <td>0.000669</td>\n",
       "      <td>6.862080</td>\n",
       "      <td>0.146150</td>\n",
       "      <td>5.122606</td>\n",
       "      <td>-0.000721</td>\n",
       "    </tr>\n",
       "    <tr>\n",
       "      <th>1988735</th>\n",
       "      <td>2021-06-03 20:26:00</td>\n",
       "      <td>38649.69</td>\n",
       "      <td>38682.52</td>\n",
       "      <td>38649.69</td>\n",
       "      <td>38682.52</td>\n",
       "      <td>15.709853</td>\n",
       "      <td>1622752019999</td>\n",
       "      <td>6.074695e+05</td>\n",
       "      <td>566</td>\n",
       "      <td>11.004542</td>\n",
       "      <td>...</td>\n",
       "      <td>0.008751</td>\n",
       "      <td>-0.006372</td>\n",
       "      <td>0.490010</td>\n",
       "      <td>3.605175</td>\n",
       "      <td>0.000046</td>\n",
       "      <td>0.000658</td>\n",
       "      <td>6.945564</td>\n",
       "      <td>0.146774</td>\n",
       "      <td>5.180313</td>\n",
       "      <td>-0.000737</td>\n",
       "    </tr>\n",
       "    <tr>\n",
       "      <th>1988736</th>\n",
       "      <td>2021-06-03 20:27:00</td>\n",
       "      <td>38682.52</td>\n",
       "      <td>38682.69</td>\n",
       "      <td>38640.40</td>\n",
       "      <td>38649.38</td>\n",
       "      <td>23.010205</td>\n",
       "      <td>1622752079999</td>\n",
       "      <td>8.894626e+05</td>\n",
       "      <td>590</td>\n",
       "      <td>7.261787</td>\n",
       "      <td>...</td>\n",
       "      <td>0.006789</td>\n",
       "      <td>-0.006440</td>\n",
       "      <td>0.465312</td>\n",
       "      <td>3.586621</td>\n",
       "      <td>0.000020</td>\n",
       "      <td>0.000645</td>\n",
       "      <td>6.765000</td>\n",
       "      <td>0.144638</td>\n",
       "      <td>5.088506</td>\n",
       "      <td>-0.000830</td>\n",
       "    </tr>\n",
       "    <tr>\n",
       "      <th>1988737</th>\n",
       "      <td>2021-06-03 20:28:00</td>\n",
       "      <td>38649.38</td>\n",
       "      <td>38718.00</td>\n",
       "      <td>38648.01</td>\n",
       "      <td>38700.51</td>\n",
       "      <td>48.112405</td>\n",
       "      <td>1622752139999</td>\n",
       "      <td>1.860678e+06</td>\n",
       "      <td>809</td>\n",
       "      <td>36.559396</td>\n",
       "      <td>...</td>\n",
       "      <td>0.008994</td>\n",
       "      <td>-0.006437</td>\n",
       "      <td>0.501361</td>\n",
       "      <td>3.568356</td>\n",
       "      <td>0.000045</td>\n",
       "      <td>0.000636</td>\n",
       "      <td>7.198127</td>\n",
       "      <td>0.148642</td>\n",
       "      <td>5.351735</td>\n",
       "      <td>-0.000623</td>\n",
       "    </tr>\n",
       "  </tbody>\n",
       "</table>\n",
       "<p>1988738 rows × 83 columns</p>\n",
       "</div>"
      ],
      "text/plain": [
       "                   timestamp      open      high       low     close  \\\n",
       "0        2017-08-17 04:00:00   4261.48   4261.48   4261.48   4261.48   \n",
       "1        2017-08-17 04:01:00   4261.48   4261.48   4261.48   4261.48   \n",
       "2        2017-08-17 04:02:00   4280.56   4280.56   4280.56   4280.56   \n",
       "3        2017-08-17 04:03:00   4261.48   4261.48   4261.48   4261.48   \n",
       "4        2017-08-17 04:04:00   4261.48   4261.48   4261.48   4261.48   \n",
       "...                      ...       ...       ...       ...       ...   \n",
       "1988733  2021-06-03 20:24:00  38665.26  38689.56  38655.91  38682.52   \n",
       "1988734  2021-06-03 20:25:00  38682.52  38682.53  38643.07  38649.70   \n",
       "1988735  2021-06-03 20:26:00  38649.69  38682.52  38649.69  38682.52   \n",
       "1988736  2021-06-03 20:27:00  38682.52  38682.69  38640.40  38649.38   \n",
       "1988737  2021-06-03 20:28:00  38649.38  38718.00  38648.01  38700.51   \n",
       "\n",
       "            volume     close_time      quote_av  trades  tb_base_av  ...  \\\n",
       "0         1.775183  1502942459999  7.564907e+03       3    0.075183  ...   \n",
       "1         0.000000  1502942519999  0.000000e+00       0    0.000000  ...   \n",
       "2         0.261074  1502942579999  1.117543e+03       2    0.261074  ...   \n",
       "3         0.012008  1502942639999  5.117185e+01       3    0.012008  ...   \n",
       "4         0.140796  1502942699999  5.999993e+02       1    0.140796  ...   \n",
       "...            ...            ...           ...     ...         ...  ...   \n",
       "1988733  14.795718  1622751899999  5.722516e+05     457    5.929895  ...   \n",
       "1988734  16.778473  1622751959999  6.486770e+05     563    6.614560  ...   \n",
       "1988735  15.709853  1622752019999  6.074695e+05     566   11.004542  ...   \n",
       "1988736  23.010205  1622752079999  8.894626e+05     590    7.261787  ...   \n",
       "1988737  48.112405  1622752139999  1.860678e+06     809   36.559396  ...   \n",
       "\n",
       "         bb_pband_rate_100  bb_wband_rate_100  bb_pband_1000  bb_wband_1000  \\\n",
       "0                      NaN                NaN            NaN            NaN   \n",
       "1                      NaN                NaN            NaN            NaN   \n",
       "2                      NaN                NaN            NaN            NaN   \n",
       "3                      NaN                NaN            NaN            NaN   \n",
       "4                      NaN                NaN            NaN            NaN   \n",
       "...                    ...                ...            ...            ...   \n",
       "1988733           0.009752          -0.006316       0.491679       3.643182   \n",
       "1988734           0.007222          -0.006386       0.467441       3.623688   \n",
       "1988735           0.008751          -0.006372       0.490010       3.605175   \n",
       "1988736           0.006789          -0.006440       0.465312       3.586621   \n",
       "1988737           0.008994          -0.006437       0.501361       3.568356   \n",
       "\n",
       "         bb_pband_rate_1000  bb_wband_rate_1000    fi_100  fi_rate_100  \\\n",
       "0                       NaN                 NaN       NaN          NaN   \n",
       "1                       NaN                 NaN       NaN          NaN   \n",
       "2                       NaN                 NaN       NaN          NaN   \n",
       "3                       NaN                 NaN       NaN          NaN   \n",
       "4                       NaN                 NaN       NaN          NaN   \n",
       "...                     ...                 ...       ...          ...   \n",
       "1988733            0.000120            0.000685  6.990163     0.148107   \n",
       "1988734            0.000054            0.000669  6.862080     0.146150   \n",
       "1988735            0.000046            0.000658  6.945564     0.146774   \n",
       "1988736            0.000020            0.000645  6.765000     0.144638   \n",
       "1988737            0.000045            0.000636  7.198127     0.148642   \n",
       "\n",
       "          fi_1000  fi_rate_1000  \n",
       "0             NaN           NaN  \n",
       "1             NaN           NaN  \n",
       "2             NaN           NaN  \n",
       "3             NaN           NaN  \n",
       "4             NaN           NaN  \n",
       "...           ...           ...  \n",
       "1988733  5.188124     -0.000579  \n",
       "1988734  5.122606     -0.000721  \n",
       "1988735  5.180313     -0.000737  \n",
       "1988736  5.088506     -0.000830  \n",
       "1988737  5.351735     -0.000623  \n",
       "\n",
       "[1988738 rows x 83 columns]"
      ]
     },
     "execution_count": 3,
     "metadata": {},
     "output_type": "execute_result"
    }
   ],
   "source": [
    "df"
   ]
  },
  {
   "cell_type": "code",
   "execution_count": 4,
   "id": "7c50564e",
   "metadata": {},
   "outputs": [
    {
     "data": {
      "text/plain": [
       "Index(['timestamp', 'open', 'high', 'low', 'close', 'volume', 'close_time',\n",
       "       'quote_av', 'trades', 'tb_base_av', 'tb_quote_av', 'ignore', 'nvi',\n",
       "       'bb', 'target', 'mom_ao_10_log', 'mom_ppo_10_signal_log',\n",
       "       'mom_ppo_30_hist', 'mom_roc_50_log', 'mom_rsi_30', 'mom_sr_9_signal',\n",
       "       'mom_srsi_15_k', 'mom_srsi_30', 'mom_srsi_10_d', 'mom_tsi_20_log',\n",
       "       'mom_wr_50', 'trend_adx_40_neg', 'trend_arn_50', 'trend_cci_70',\n",
       "       'trend_dpo_100_log', 'trend_kst_sig_log', 'trend_macd_12_signal_log',\n",
       "       'trend_sma_50_rate_log', 'trend_sma_50_diff_log',\n",
       "       'trend_sma_200_diff_o_close_log', 'trend_stc_50_2', 'trend_trix_20_log',\n",
       "       'trend_vi_50_amp', 'volatility_atr_14', 'volatility_atr_o_close',\n",
       "       'volatility_bb_wband_10', 'volatility_bb_pband_100',\n",
       "       'volatility_bb_wband_200', 'volatility_bb_hband_o_close',\n",
       "       'volatility_dc_pband_50', 'volatility_dc_wband_10',\n",
       "       'volatility_pband_50', 'volatility_wband_20', 'volatility_ui_30',\n",
       "       'volume_cmf_50', 'volume_cmf_50_rate_200', 'volume_eom_amplified',\n",
       "       'volume_fi_amplified', 'volume_mfi_50', 'volume_nvi_o_close_rate_50',\n",
       "       'rsi_100', 'rsi_rate_100', 'rsi_1000', 'rsi_rate_1000', 'arn_down_100',\n",
       "       'arn_100', 'arn_up_100', 'arn_rate_100', 'arn_down_rate_100',\n",
       "       'arn_up_rate_100', 'arn_down_1000', 'arn_1000', 'arn_up_1000',\n",
       "       'arn_rate_1000', 'arn_down_rate_1000', 'arn_up_rate_1000',\n",
       "       'bb_pband_100', 'bb_wband_100', 'bb_pband_rate_100',\n",
       "       'bb_wband_rate_100', 'bb_pband_1000', 'bb_wband_1000',\n",
       "       'bb_pband_rate_1000', 'bb_wband_rate_1000', 'fi_100', 'fi_rate_100',\n",
       "       'fi_1000', 'fi_rate_1000'],\n",
       "      dtype='object')"
      ]
     },
     "execution_count": 4,
     "metadata": {},
     "output_type": "execute_result"
    }
   ],
   "source": [
    "df.columns"
   ]
  },
  {
   "cell_type": "code",
   "execution_count": 89,
   "id": "53034b4d",
   "metadata": {},
   "outputs": [],
   "source": [
    "d2=df.copy()"
   ]
  },
  {
   "cell_type": "markdown",
   "id": "b11431ef",
   "metadata": {},
   "source": [
    "### changing datetime string to number"
   ]
  },
  {
   "cell_type": "code",
   "execution_count": 5,
   "id": "4589edd6",
   "metadata": {},
   "outputs": [],
   "source": []
  },
  {
   "cell_type": "code",
   "execution_count": 91,
   "id": "8737c9aa",
   "metadata": {
    "scrolled": true
   },
   "outputs": [],
   "source": [
    "from datetime import datetime\n",
    "d2['timems'] = pd.to_datetime(d2['timestamp'])\n",
    "d2['timems'] = d2['timems'].apply(lambda x: x.value)"
   ]
  },
  {
   "cell_type": "code",
   "execution_count": 92,
   "id": "b07beb8d",
   "metadata": {},
   "outputs": [],
   "source": [
    "d2 = d2.drop('timestamp',axis=1)"
   ]
  },
  {
   "cell_type": "code",
   "execution_count": 93,
   "id": "b7254a55",
   "metadata": {},
   "outputs": [
    {
     "data": {
      "text/plain": [
       "dtype('int64')"
      ]
     },
     "execution_count": 93,
     "metadata": {},
     "output_type": "execute_result"
    }
   ],
   "source": [
    "d2.dtypes['timems']"
   ]
  },
  {
   "cell_type": "code",
   "execution_count": 94,
   "id": "069a4b22",
   "metadata": {},
   "outputs": [],
   "source": [
    "d2 = d2[np.isfinite(d2).all(1)]"
   ]
  },
  {
   "cell_type": "code",
   "execution_count": 97,
   "id": "e9bbbbe8",
   "metadata": {},
   "outputs": [],
   "source": [
    "d3 = d2[:-100000].copy()"
   ]
  },
  {
   "cell_type": "code",
   "execution_count": 98,
   "id": "4f0aa7d8",
   "metadata": {},
   "outputs": [],
   "source": [
    "from sklearn.model_selection import train_test_split"
   ]
  },
  {
   "cell_type": "code",
   "execution_count": 99,
   "id": "5c47746b",
   "metadata": {},
   "outputs": [],
   "source": [
    "X = d3.drop([\"target\", \"close\", \"high\", \"low\"], axis=1).values\n",
    "y = d3[\"target\"].values\n",
    "\n",
    "X_train, X_test, y_train, y_test = train_test_split(X, y, test_size=0.2, random_state=42)"
   ]
  },
  {
   "cell_type": "code",
   "execution_count": 100,
   "id": "572863e4",
   "metadata": {},
   "outputs": [],
   "source": [
    "from tensorflow.keras.models import Sequential\n",
    "from tensorflow.keras.layers import Dense, Dropout\n",
    "from sklearn.preprocessing import MinMaxScaler"
   ]
  },
  {
   "cell_type": "code",
   "execution_count": 101,
   "id": "748bfa36",
   "metadata": {},
   "outputs": [],
   "source": [
    "scaler = MinMaxScaler()\n",
    "X_train = scaler.fit_transform(X_train)\n",
    "X_test = scaler.transform(X_test)"
   ]
  },
  {
   "cell_type": "code",
   "execution_count": 102,
   "id": "2b731a90",
   "metadata": {},
   "outputs": [],
   "source": [
    "model = Sequential()\n",
    "\n",
    "model.add(Dense(90,activation='relu'))\n",
    "model.add(Dropout(0.2))\n",
    "\n",
    "model.add(Dense(60,activation='relu'))\n",
    "model.add(Dropout(0.2))\n",
    "\n",
    "model.add(Dense(30,activation='relu'))\n",
    "model.add(Dropout(0.2))\n",
    "\n",
    "model.add(Dense(1,activation='sigmoid'))\n",
    "model.compile(loss='binary_crossentropy', optimizer='adam')"
   ]
  },
  {
   "cell_type": "code",
   "execution_count": 103,
   "id": "78188172",
   "metadata": {},
   "outputs": [],
   "source": [
    "from tensorflow.keras.callbacks import EarlyStopping\n",
    "early_stop = EarlyStopping(monitor='val_loss',mode='min', verbose=1, patience=10)"
   ]
  },
  {
   "cell_type": "code",
   "execution_count": 104,
   "id": "d91c2eda",
   "metadata": {},
   "outputs": [
    {
     "name": "stdout",
     "output_type": "stream",
     "text": [
      "Epoch 1/100\n",
      "5516/5516 [==============================] - 8s 1ms/step - loss: 0.1236 - val_loss: 0.1213\n",
      "Epoch 2/100\n",
      "5516/5516 [==============================] - 8s 1ms/step - loss: 0.1216 - val_loss: 0.1212\n",
      "Epoch 3/100\n",
      "5516/5516 [==============================] - 8s 1ms/step - loss: 0.1212 - val_loss: 0.1205\n",
      "Epoch 4/100\n",
      "5516/5516 [==============================] - 8s 1ms/step - loss: 0.1209 - val_loss: 0.1199\n",
      "Epoch 5/100\n",
      "5516/5516 [==============================] - 7s 1ms/step - loss: 0.1207 - val_loss: 0.1200\n",
      "Epoch 6/100\n",
      "5516/5516 [==============================] - 8s 1ms/step - loss: 0.1206 - val_loss: 0.1198\n",
      "Epoch 7/100\n",
      "5516/5516 [==============================] - 7s 1ms/step - loss: 0.1205 - val_loss: 0.1195\n",
      "Epoch 8/100\n",
      "5516/5516 [==============================] - 7s 1ms/step - loss: 0.1204 - val_loss: 0.1199\n",
      "Epoch 9/100\n",
      "5516/5516 [==============================] - 8s 1ms/step - loss: 0.1203 - val_loss: 0.1197\n",
      "Epoch 10/100\n",
      "5516/5516 [==============================] - 8s 1ms/step - loss: 0.1201 - val_loss: 0.1192\n",
      "Epoch 11/100\n",
      "5516/5516 [==============================] - 8s 1ms/step - loss: 0.1200 - val_loss: 0.1193\n",
      "Epoch 12/100\n",
      "5516/5516 [==============================] - 8s 1ms/step - loss: 0.1199 - val_loss: 0.1192\n",
      "Epoch 13/100\n",
      "5516/5516 [==============================] - 8s 1ms/step - loss: 0.1198 - val_loss: 0.1196\n",
      "Epoch 14/100\n",
      "5516/5516 [==============================] - 8s 1ms/step - loss: 0.1197 - val_loss: 0.1190\n",
      "Epoch 15/100\n",
      "5516/5516 [==============================] - 8s 1ms/step - loss: 0.1196 - val_loss: 0.1196\n",
      "Epoch 16/100\n",
      "5516/5516 [==============================] - 8s 1ms/step - loss: 0.1196 - val_loss: 0.1188\n",
      "Epoch 17/100\n",
      "5516/5516 [==============================] - 8s 1ms/step - loss: 0.1195 - val_loss: 0.1186\n",
      "Epoch 18/100\n",
      "5516/5516 [==============================] - 8s 1ms/step - loss: 0.1194 - val_loss: 0.1186\n",
      "Epoch 19/100\n",
      "5516/5516 [==============================] - 8s 1ms/step - loss: 0.1193 - val_loss: 0.1187\n",
      "Epoch 20/100\n",
      "5516/5516 [==============================] - 8s 1ms/step - loss: 0.1192 - val_loss: 0.1189\n",
      "Epoch 21/100\n",
      "5516/5516 [==============================] - 8s 1ms/step - loss: 0.1192 - val_loss: 0.1181\n",
      "Epoch 22/100\n",
      "5516/5516 [==============================] - 8s 1ms/step - loss: 0.1191 - val_loss: 0.1184\n",
      "Epoch 23/100\n",
      "5516/5516 [==============================] - 8s 1ms/step - loss: 0.1191 - val_loss: 0.1182\n",
      "Epoch 24/100\n",
      "5516/5516 [==============================] - 8s 1ms/step - loss: 0.1189 - val_loss: 0.1180\n",
      "Epoch 25/100\n",
      "5516/5516 [==============================] - 8s 1ms/step - loss: 0.1189 - val_loss: 0.1181\n",
      "Epoch 26/100\n",
      "5516/5516 [==============================] - 8s 1ms/step - loss: 0.1189 - val_loss: 0.1184\n",
      "Epoch 27/100\n",
      "5516/5516 [==============================] - 8s 1ms/step - loss: 0.1188 - val_loss: 0.1181\n",
      "Epoch 28/100\n",
      "5516/5516 [==============================] - 8s 1ms/step - loss: 0.1187 - val_loss: 0.1185\n",
      "Epoch 29/100\n",
      "5516/5516 [==============================] - 8s 1ms/step - loss: 0.1187 - val_loss: 0.1181\n",
      "Epoch 30/100\n",
      "5516/5516 [==============================] - 8s 1ms/step - loss: 0.1187 - val_loss: 0.1177\n",
      "Epoch 31/100\n",
      "5516/5516 [==============================] - 8s 1ms/step - loss: 0.1185 - val_loss: 0.1178\n",
      "Epoch 32/100\n",
      "5516/5516 [==============================] - 8s 1ms/step - loss: 0.1186 - val_loss: 0.1178\n",
      "Epoch 33/100\n",
      "5516/5516 [==============================] - 8s 1ms/step - loss: 0.1185 - val_loss: 0.1176\n",
      "Epoch 34/100\n",
      "5516/5516 [==============================] - 8s 1ms/step - loss: 0.1185 - val_loss: 0.1176\n",
      "Epoch 35/100\n",
      "5516/5516 [==============================] - 8s 1ms/step - loss: 0.1184 - val_loss: 0.1179\n",
      "Epoch 36/100\n",
      "5516/5516 [==============================] - 8s 1ms/step - loss: 0.1184 - val_loss: 0.1182\n",
      "Epoch 37/100\n",
      "5516/5516 [==============================] - 8s 1ms/step - loss: 0.1183 - val_loss: 0.1173\n",
      "Epoch 38/100\n",
      "5516/5516 [==============================] - 8s 1ms/step - loss: 0.1183 - val_loss: 0.1175\n",
      "Epoch 39/100\n",
      "5516/5516 [==============================] - 8s 1ms/step - loss: 0.1183 - val_loss: 0.1180\n",
      "Epoch 40/100\n",
      "5516/5516 [==============================] - 8s 1ms/step - loss: 0.1181 - val_loss: 0.1178\n",
      "Epoch 41/100\n",
      "5516/5516 [==============================] - 8s 1ms/step - loss: 0.1182 - val_loss: 0.1178\n",
      "Epoch 42/100\n",
      "5516/5516 [==============================] - 8s 1ms/step - loss: 0.1182 - val_loss: 0.1175\n",
      "Epoch 43/100\n",
      "5516/5516 [==============================] - 8s 1ms/step - loss: 0.1182 - val_loss: 0.1174\n",
      "Epoch 44/100\n",
      "5516/5516 [==============================] - 8s 1ms/step - loss: 0.1181 - val_loss: 0.1175\n",
      "Epoch 45/100\n",
      "5516/5516 [==============================] - 8s 1ms/step - loss: 0.1180 - val_loss: 0.1174\n",
      "Epoch 46/100\n",
      "5516/5516 [==============================] - 8s 1ms/step - loss: 0.1180 - val_loss: 0.1174\n",
      "Epoch 47/100\n",
      "5516/5516 [==============================] - 8s 1ms/step - loss: 0.1179 - val_loss: 0.1169\n",
      "Epoch 48/100\n",
      "5516/5516 [==============================] - 8s 1ms/step - loss: 0.1180 - val_loss: 0.1170\n",
      "Epoch 49/100\n",
      "5516/5516 [==============================] - 8s 1ms/step - loss: 0.1179 - val_loss: 0.1173\n",
      "Epoch 50/100\n",
      "5516/5516 [==============================] - 8s 1ms/step - loss: 0.1180 - val_loss: 0.1172\n",
      "Epoch 51/100\n",
      "5516/5516 [==============================] - 8s 1ms/step - loss: 0.1179 - val_loss: 0.1169\n",
      "Epoch 52/100\n",
      "5516/5516 [==============================] - 8s 1ms/step - loss: 0.1178 - val_loss: 0.1175\n",
      "Epoch 53/100\n",
      "5516/5516 [==============================] - 8s 1ms/step - loss: 0.1179 - val_loss: 0.1173\n",
      "Epoch 54/100\n",
      "5516/5516 [==============================] - 8s 1ms/step - loss: 0.1178 - val_loss: 0.1173\n",
      "Epoch 55/100\n",
      "5516/5516 [==============================] - 7s 1ms/step - loss: 0.1178 - val_loss: 0.1170\n",
      "Epoch 56/100\n",
      "5516/5516 [==============================] - 8s 1ms/step - loss: 0.1177 - val_loss: 0.1169\n",
      "Epoch 57/100\n",
      "5516/5516 [==============================] - 7s 1ms/step - loss: 0.1177 - val_loss: 0.1168\n",
      "Epoch 58/100\n",
      "5516/5516 [==============================] - 8s 1ms/step - loss: 0.1177 - val_loss: 0.1168\n",
      "Epoch 59/100\n",
      "5516/5516 [==============================] - 8s 1ms/step - loss: 0.1177 - val_loss: 0.1171\n",
      "Epoch 60/100\n",
      "5516/5516 [==============================] - 8s 1ms/step - loss: 0.1177 - val_loss: 0.1172\n",
      "Epoch 61/100\n",
      "5516/5516 [==============================] - 8s 1ms/step - loss: 0.1176 - val_loss: 0.1169\n",
      "Epoch 62/100\n",
      "5516/5516 [==============================] - 8s 1ms/step - loss: 0.1176 - val_loss: 0.1164\n",
      "Epoch 63/100\n",
      "5516/5516 [==============================] - 8s 1ms/step - loss: 0.1176 - val_loss: 0.1167\n",
      "Epoch 64/100\n",
      "5516/5516 [==============================] - 8s 1ms/step - loss: 0.1176 - val_loss: 0.1168\n",
      "Epoch 65/100\n",
      "5516/5516 [==============================] - 8s 1ms/step - loss: 0.1176 - val_loss: 0.1164\n",
      "Epoch 66/100\n",
      "5516/5516 [==============================] - 8s 1ms/step - loss: 0.1175 - val_loss: 0.1168\n",
      "Epoch 67/100\n",
      "5516/5516 [==============================] - 8s 1ms/step - loss: 0.1176 - val_loss: 0.1169\n",
      "Epoch 68/100\n",
      "5516/5516 [==============================] - 8s 1ms/step - loss: 0.1174 - val_loss: 0.1166\n",
      "Epoch 69/100\n",
      "5516/5516 [==============================] - 8s 1ms/step - loss: 0.1175 - val_loss: 0.1171\n",
      "Epoch 70/100\n",
      "5516/5516 [==============================] - 8s 1ms/step - loss: 0.1175 - val_loss: 0.1168\n",
      "Epoch 71/100\n",
      "5516/5516 [==============================] - 8s 1ms/step - loss: 0.1174 - val_loss: 0.1170\n",
      "Epoch 72/100\n",
      "5516/5516 [==============================] - 8s 1ms/step - loss: 0.1175 - val_loss: 0.1165\n",
      "Epoch 00072: early stopping\n"
     ]
    },
    {
     "data": {
      "text/plain": [
       "<tensorflow.python.keras.callbacks.History at 0x7f82081c8ac0>"
      ]
     },
     "execution_count": 104,
     "metadata": {},
     "output_type": "execute_result"
    }
   ],
   "source": [
    "model.fit(x=X_train, y=y_train, epochs=100, batch_size=256, validation_data=(X_test, y_test), \n",
    "          callbacks=[early_stop])"
   ]
  },
  {
   "cell_type": "code",
   "execution_count": 105,
   "id": "7ad65c6c",
   "metadata": {},
   "outputs": [],
   "source": [
    "model.save('TF-test-model1.h5') "
   ]
  },
  {
   "cell_type": "code",
   "execution_count": 106,
   "id": "039f3adb",
   "metadata": {},
   "outputs": [],
   "source": [
    "losses = pd.DataFrame(model.history.history)"
   ]
  },
  {
   "cell_type": "code",
   "execution_count": 107,
   "id": "112e1058",
   "metadata": {},
   "outputs": [
    {
     "data": {
      "text/plain": [
       "<AxesSubplot:>"
      ]
     },
     "execution_count": 107,
     "metadata": {},
     "output_type": "execute_result"
    },
    {
     "data": {
      "image/png": "[encoded data removed]",
      "text/plain": [
       "<Figure size 432x288 with 1 Axes>"
      ]
     },
     "metadata": {
      "needs_background": "light"
     },
     "output_type": "display_data"
    }
   ],
   "source": [
    "losses[['loss','val_loss']].plot()"
   ]
  },
  {
   "cell_type": "code",
   "execution_count": 108,
   "id": "67fcc06b",
   "metadata": {},
   "outputs": [],
   "source": [
    "predictions = (model.predict(X_test) > 0.5).astype(\"int32\")"
   ]
  },
  {
   "cell_type": "code",
   "execution_count": 109,
   "id": "e6ecb2d2",
   "metadata": {},
   "outputs": [],
   "source": [
    "from sklearn.metrics import classification_report,confusion_matrix"
   ]
  },
  {
   "cell_type": "code",
   "execution_count": 110,
   "id": "28560452",
   "metadata": {},
   "outputs": [
    {
     "name": "stdout",
     "output_type": "stream",
     "text": [
      "[[307968  11329]\n",
      " [ 14090  19577]]\n",
      "\n",
      "\n",
      "              precision    recall  f1-score   support\n",
      "\n",
      "           0       0.96      0.96      0.96    319297\n",
      "           1       0.63      0.58      0.61     33667\n",
      "\n",
      "    accuracy                           0.93    352964\n",
      "   macro avg       0.79      0.77      0.78    352964\n",
      "weighted avg       0.93      0.93      0.93    352964\n",
      "\n"
     ]
    }
   ],
   "source": [
    "print(confusion_matrix(y_test, predictions))\n",
    "print('\\n')\n",
    "print(classification_report(y_test, predictions))"
   ]
  },
  {
   "cell_type": "markdown",
   "id": "5f2f80a8",
   "metadata": {},
   "source": [
    "### graphing"
   ]
  },
  {
   "cell_type": "code",
   "execution_count": 122,
   "id": "ba3a5158",
   "metadata": {},
   "outputs": [],
   "source": [
    "d = d2[-100000:-50000]\n",
    "prediction_values = d.drop([\"target\", \"close\", \"high\", \"low\"], axis=1).values\n",
    "prediction_transformed = scaler.transform(prediction_values)\n",
    "\n",
    "pred = (model.predict(prediction_transformed) > 0.5).astype('int32')"
   ]
  },
  {
   "cell_type": "code",
   "execution_count": 123,
   "id": "1ce23774",
   "metadata": {},
   "outputs": [],
   "source": [
    "pred = pred.reshape(-1,)"
   ]
  },
  {
   "cell_type": "code",
   "execution_count": 124,
   "id": "ca627246",
   "metadata": {
    "scrolled": true
   },
   "outputs": [
    {
     "data": {
      "text/plain": [
       "array([0, 0, 0, ..., 0, 0, 0], dtype=int32)"
      ]
     },
     "execution_count": 124,
     "metadata": {},
     "output_type": "execute_result"
    }
   ],
   "source": [
    "pred"
   ]
  },
  {
   "cell_type": "code",
   "execution_count": 125,
   "id": "eebcb174",
   "metadata": {},
   "outputs": [
    {
     "data": {
      "text/plain": [
       "50000"
      ]
     },
     "execution_count": 125,
     "metadata": {},
     "output_type": "execute_result"
    }
   ],
   "source": [
    "close = d['close'].copy().reset_index().drop('index',axis=1)\n",
    "len(close)"
   ]
  },
  {
   "cell_type": "code",
   "execution_count": 126,
   "id": "10ddc8a0",
   "metadata": {},
   "outputs": [
    {
     "data": {
      "text/html": [
       "<div>\n",
       "<style scoped>\n",
       "    .dataframe tbody tr th:only-of-type {\n",
       "        vertical-align: middle;\n",
       "    }\n",
       "\n",
       "    .dataframe tbody tr th {\n",
       "        vertical-align: top;\n",
       "    }\n",
       "\n",
       "    .dataframe thead th {\n",
       "        text-align: right;\n",
       "    }\n",
       "</style>\n",
       "<table border=\"1\" class=\"dataframe\">\n",
       "  <thead>\n",
       "    <tr style=\"text-align: right;\">\n",
       "      <th></th>\n",
       "      <th>close</th>\n",
       "    </tr>\n",
       "  </thead>\n",
       "  <tbody>\n",
       "    <tr>\n",
       "      <th>0</th>\n",
       "      <td>51699.06</td>\n",
       "    </tr>\n",
       "    <tr>\n",
       "      <th>1</th>\n",
       "      <td>51692.32</td>\n",
       "    </tr>\n",
       "    <tr>\n",
       "      <th>2</th>\n",
       "      <td>51701.44</td>\n",
       "    </tr>\n",
       "    <tr>\n",
       "      <th>3</th>\n",
       "      <td>51641.01</td>\n",
       "    </tr>\n",
       "    <tr>\n",
       "      <th>4</th>\n",
       "      <td>51638.48</td>\n",
       "    </tr>\n",
       "    <tr>\n",
       "      <th>...</th>\n",
       "      <td>...</td>\n",
       "    </tr>\n",
       "    <tr>\n",
       "      <th>49995</th>\n",
       "      <td>53519.75</td>\n",
       "    </tr>\n",
       "    <tr>\n",
       "      <th>49996</th>\n",
       "      <td>53480.93</td>\n",
       "    </tr>\n",
       "    <tr>\n",
       "      <th>49997</th>\n",
       "      <td>53437.70</td>\n",
       "    </tr>\n",
       "    <tr>\n",
       "      <th>49998</th>\n",
       "      <td>53478.29</td>\n",
       "    </tr>\n",
       "    <tr>\n",
       "      <th>49999</th>\n",
       "      <td>53485.82</td>\n",
       "    </tr>\n",
       "  </tbody>\n",
       "</table>\n",
       "<p>50000 rows × 1 columns</p>\n",
       "</div>"
      ],
      "text/plain": [
       "          close\n",
       "0      51699.06\n",
       "1      51692.32\n",
       "2      51701.44\n",
       "3      51641.01\n",
       "4      51638.48\n",
       "...         ...\n",
       "49995  53519.75\n",
       "49996  53480.93\n",
       "49997  53437.70\n",
       "49998  53478.29\n",
       "49999  53485.82\n",
       "\n",
       "[50000 rows x 1 columns]"
      ]
     },
     "execution_count": 126,
     "metadata": {},
     "output_type": "execute_result"
    }
   ],
   "source": [
    "close"
   ]
  },
  {
   "cell_type": "code",
   "execution_count": 127,
   "id": "0cb4f351",
   "metadata": {},
   "outputs": [],
   "source": [
    "scatter_x = []\n",
    "scatter_y = []\n",
    "for i in range(len(pred)):\n",
    "    if pred[i] == 1:\n",
    "        scatter_x.append(i)\n",
    "        scatter_y.append(close.iloc[i])\n",
    "        \n",
    "        "
   ]
  },
  {
   "cell_type": "code",
   "execution_count": 128,
   "id": "f7e8bdf4",
   "metadata": {
    "scrolled": true
   },
   "outputs": [
    {
     "data": {
      "text/plain": [
       "49491"
      ]
     },
     "execution_count": 128,
     "metadata": {},
     "output_type": "execute_result"
    }
   ],
   "source": [
    "max(scatter_x)"
   ]
  },
  {
   "cell_type": "code",
   "execution_count": 129,
   "id": "dec52fed",
   "metadata": {},
   "outputs": [],
   "source": [
    "# scatter = pd.DataFrame(columns=('i', 'close'))\n",
    "# for i in range(len(pred)):\n",
    "#     if pred[i] == 0:\n",
    "#         scatter.loc[i] = [i, close.loc[i]]"
   ]
  },
  {
   "cell_type": "code",
   "execution_count": 130,
   "id": "c63f2a7c",
   "metadata": {},
   "outputs": [],
   "source": [
    "di=d.reset_index()"
   ]
  },
  {
   "cell_type": "code",
   "execution_count": 131,
   "id": "c8d53e67",
   "metadata": {},
   "outputs": [
    {
     "data": {
      "text/plain": [
       "[<matplotlib.lines.Line2D at 0x7f821ba26220>]"
      ]
     },
     "execution_count": 131,
     "metadata": {},
     "output_type": "execute_result"
    },
    {
     "data": {
      "image/png": "[encoded data removed]",
      "text/plain": [
       "<Figure size 1152x864 with 1 Axes>"
      ]
     },
     "metadata": {
      "needs_background": "light"
     },
     "output_type": "display_data"
    }
   ],
   "source": [
    "figure = plt.figure(figsize=(16,12))\n",
    "plt.scatter(scatter_x, scatter_y, color=\"green\")\n",
    "plt.plot(di.index, di.close, color = 'gray')\n"
   ]
  },
  {
   "cell_type": "code",
   "execution_count": null,
   "id": "4637eedd",
   "metadata": {},
   "outputs": [],
   "source": []
  }
 ],
 "metadata": {
  "kernelspec": {
   "display_name": "Python 3",
   "language": "python",
   "name": "python3"
  },
  "language_info": {
   "codemirror_mode": {
    "name": "ipython",
    "version": 3
   },
   "file_extension": ".py",
   "mimetype": "text/x-python",
   "name": "python",
   "nbconvert_exporter": "python",
   "pygments_lexer": "ipython3",
   "version": "3.8.8"
  },
  "toc": {
   "base_numbering": 1,
   "nav_menu": {},
   "number_sections": true,
   "sideBar": true,
   "skip_h1_title": false,
   "title_cell": "Table of Contents",
   "title_sidebar": "Contents",
   "toc_cell": false,
   "toc_position": {},
   "toc_section_display": true,
   "toc_window_display": false
  },
  "varInspector": {
   "cols": {
    "lenName": 16,
    "lenType": 16,
    "lenVar": 40
   },
   "kernels_config": {
    "python": {
     "delete_cmd_postfix": "",
     "delete_cmd_prefix": "del ",
     "library": "var_list.py",
     "varRefreshCmd": "print(var_dic_list())"
    },
    "r": {
     "delete_cmd_postfix": ") ",
     "delete_cmd_prefix": "rm(",
     "library": "var_list.r",
     "varRefreshCmd": "cat(var_dic_list()) "
    }
   },
   "types_to_exclude": [
    "module",
    "function",
    "builtin_function_or_method",
    "instance",
    "_Feature"
   ],
   "window_display": false
  }
 },
 "nbformat": 4,
 "nbformat_minor": 5
}
