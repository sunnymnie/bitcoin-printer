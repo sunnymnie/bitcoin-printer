{
 "cells": [
  {
   "cell_type": "markdown",
   "id": "a0d58cd7",
   "metadata": {},
   "source": [
    "# TF model test"
   ]
  },
  {
   "cell_type": "code",
   "execution_count": 1,
   "id": "8e7fca45",
   "metadata": {},
   "outputs": [],
   "source": [
    "import numpy as np\n",
    "import pandas as pd\n",
    "import matplotlib.pyplot as plt\n",
    "import seaborn as sns"
   ]
  },
  {
   "cell_type": "code",
   "execution_count": 2,
   "id": "49a31ee6",
   "metadata": {},
   "outputs": [],
   "source": [
    "df = pd.read_csv('../data/BTCUSDT-minute-target-dip-features-1.csv')"
   ]
  },
  {
   "cell_type": "code",
   "execution_count": 3,
   "id": "5d1ca583",
   "metadata": {},
   "outputs": [
    {
     "data": {
      "text/html": [
       "<div>\n",
       "<style scoped>\n",
       "    .dataframe tbody tr th:only-of-type {\n",
       "        vertical-align: middle;\n",
       "    }\n",
       "\n",
       "    .dataframe tbody tr th {\n",
       "        vertical-align: top;\n",
       "    }\n",
       "\n",
       "    .dataframe thead th {\n",
       "        text-align: right;\n",
       "    }\n",
       "</style>\n",
       "<table border=\"1\" class=\"dataframe\">\n",
       "  <thead>\n",
       "    <tr style=\"text-align: right;\">\n",
       "      <th></th>\n",
       "      <th>timestamp</th>\n",
       "      <th>open</th>\n",
       "      <th>high</th>\n",
       "      <th>low</th>\n",
       "      <th>close</th>\n",
       "      <th>volume</th>\n",
       "      <th>close_time</th>\n",
       "      <th>quote_av</th>\n",
       "      <th>trades</th>\n",
       "      <th>tb_base_av</th>\n",
       "      <th>...</th>\n",
       "      <th>bb_pband_rate_100</th>\n",
       "      <th>bb_wband_rate_100</th>\n",
       "      <th>bb_pband_1000</th>\n",
       "      <th>bb_wband_1000</th>\n",
       "      <th>bb_pband_rate_1000</th>\n",
       "      <th>bb_wband_rate_1000</th>\n",
       "      <th>fi_100</th>\n",
       "      <th>fi_rate_100</th>\n",
       "      <th>fi_1000</th>\n",
       "      <th>fi_rate_1000</th>\n",
       "    </tr>\n",
       "  </thead>\n",
       "  <tbody>\n",
       "    <tr>\n",
       "      <th>0</th>\n",
       "      <td>2017-08-17 04:00:00</td>\n",
       "      <td>4261.48</td>\n",
       "      <td>4261.48</td>\n",
       "      <td>4261.48</td>\n",
       "      <td>4261.48</td>\n",
       "      <td>1.775183</td>\n",
       "      <td>1502942459999</td>\n",
       "      <td>7.564907e+03</td>\n",
       "      <td>3</td>\n",
       "      <td>0.075183</td>\n",
       "      <td>...</td>\n",
       "      <td>NaN</td>\n",
       "      <td>NaN</td>\n",
       "      <td>NaN</td>\n",
       "      <td>NaN</td>\n",
       "      <td>NaN</td>\n",
       "      <td>NaN</td>\n",
       "      <td>NaN</td>\n",
       "      <td>NaN</td>\n",
       "      <td>NaN</td>\n",
       "      <td>NaN</td>\n",
       "    </tr>\n",
       "    <tr>\n",
       "      <th>1</th>\n",
       "      <td>2017-08-17 04:01:00</td>\n",
       "      <td>4261.48</td>\n",
       "      <td>4261.48</td>\n",
       "      <td>4261.48</td>\n",
       "      <td>4261.48</td>\n",
       "      <td>0.000000</td>\n",
       "      <td>1502942519999</td>\n",
       "      <td>0.000000e+00</td>\n",
       "      <td>0</td>\n",
       "      <td>0.000000</td>\n",
       "      <td>...</td>\n",
       "      <td>NaN</td>\n",
       "      <td>NaN</td>\n",
       "      <td>NaN</td>\n",
       "      <td>NaN</td>\n",
       "      <td>NaN</td>\n",
       "      <td>NaN</td>\n",
       "      <td>NaN</td>\n",
       "      <td>NaN</td>\n",
       "      <td>NaN</td>\n",
       "      <td>NaN</td>\n",
       "    </tr>\n",
       "    <tr>\n",
       "      <th>2</th>\n",
       "      <td>2017-08-17 04:02:00</td>\n",
       "      <td>4280.56</td>\n",
       "      <td>4280.56</td>\n",
       "      <td>4280.56</td>\n",
       "      <td>4280.56</td>\n",
       "      <td>0.261074</td>\n",
       "      <td>1502942579999</td>\n",
       "      <td>1.117543e+03</td>\n",
       "      <td>2</td>\n",
       "      <td>0.261074</td>\n",
       "      <td>...</td>\n",
       "      <td>NaN</td>\n",
       "      <td>NaN</td>\n",
       "      <td>NaN</td>\n",
       "      <td>NaN</td>\n",
       "      <td>NaN</td>\n",
       "      <td>NaN</td>\n",
       "      <td>NaN</td>\n",
       "      <td>NaN</td>\n",
       "      <td>NaN</td>\n",
       "      <td>NaN</td>\n",
       "    </tr>\n",
       "    <tr>\n",
       "      <th>3</th>\n",
       "      <td>2017-08-17 04:03:00</td>\n",
       "      <td>4261.48</td>\n",
       "      <td>4261.48</td>\n",
       "      <td>4261.48</td>\n",
       "      <td>4261.48</td>\n",
       "      <td>0.012008</td>\n",
       "      <td>1502942639999</td>\n",
       "      <td>5.117185e+01</td>\n",
       "      <td>3</td>\n",
       "      <td>0.012008</td>\n",
       "      <td>...</td>\n",
       "      <td>NaN</td>\n",
       "      <td>NaN</td>\n",
       "      <td>NaN</td>\n",
       "      <td>NaN</td>\n",
       "      <td>NaN</td>\n",
       "      <td>NaN</td>\n",
       "      <td>NaN</td>\n",
       "      <td>NaN</td>\n",
       "      <td>NaN</td>\n",
       "      <td>NaN</td>\n",
       "    </tr>\n",
       "    <tr>\n",
       "      <th>4</th>\n",
       "      <td>2017-08-17 04:04:00</td>\n",
       "      <td>4261.48</td>\n",
       "      <td>4261.48</td>\n",
       "      <td>4261.48</td>\n",
       "      <td>4261.48</td>\n",
       "      <td>0.140796</td>\n",
       "      <td>1502942699999</td>\n",
       "      <td>5.999993e+02</td>\n",
       "      <td>1</td>\n",
       "      <td>0.140796</td>\n",
       "      <td>...</td>\n",
       "      <td>NaN</td>\n",
       "      <td>NaN</td>\n",
       "      <td>NaN</td>\n",
       "      <td>NaN</td>\n",
       "      <td>NaN</td>\n",
       "      <td>NaN</td>\n",
       "      <td>NaN</td>\n",
       "      <td>NaN</td>\n",
       "      <td>NaN</td>\n",
       "      <td>NaN</td>\n",
       "    </tr>\n",
       "    <tr>\n",
       "      <th>...</th>\n",
       "      <td>...</td>\n",
       "      <td>...</td>\n",
       "      <td>...</td>\n",
       "      <td>...</td>\n",
       "      <td>...</td>\n",
       "      <td>...</td>\n",
       "      <td>...</td>\n",
       "      <td>...</td>\n",
       "      <td>...</td>\n",
       "      <td>...</td>\n",
       "      <td>...</td>\n",
       "      <td>...</td>\n",
       "      <td>...</td>\n",
       "      <td>...</td>\n",
       "      <td>...</td>\n",
       "      <td>...</td>\n",
       "      <td>...</td>\n",
       "      <td>...</td>\n",
       "      <td>...</td>\n",
       "      <td>...</td>\n",
       "      <td>...</td>\n",
       "    </tr>\n",
       "    <tr>\n",
       "      <th>1988733</th>\n",
       "      <td>2021-06-03 20:24:00</td>\n",
       "      <td>38665.26</td>\n",
       "      <td>38689.56</td>\n",
       "      <td>38655.91</td>\n",
       "      <td>38682.52</td>\n",
       "      <td>14.795718</td>\n",
       "      <td>1622751899999</td>\n",
       "      <td>5.722516e+05</td>\n",
       "      <td>457</td>\n",
       "      <td>5.929895</td>\n",
       "      <td>...</td>\n",
       "      <td>0.009752</td>\n",
       "      <td>-0.006316</td>\n",
       "      <td>0.491679</td>\n",
       "      <td>3.643182</td>\n",
       "      <td>0.000120</td>\n",
       "      <td>0.000685</td>\n",
       "      <td>6.990163</td>\n",
       "      <td>0.148107</td>\n",
       "      <td>5.188124</td>\n",
       "      <td>-0.000579</td>\n",
       "    </tr>\n",
       "    <tr>\n",
       "      <th>1988734</th>\n",
       "      <td>2021-06-03 20:25:00</td>\n",
       "      <td>38682.52</td>\n",
       "      <td>38682.53</td>\n",
       "      <td>38643.07</td>\n",
       "      <td>38649.70</td>\n",
       "      <td>16.778473</td>\n",
       "      <td>1622751959999</td>\n",
       "      <td>6.486770e+05</td>\n",
       "      <td>563</td>\n",
       "      <td>6.614560</td>\n",
       "      <td>...</td>\n",
       "      <td>0.007222</td>\n",
       "      <td>-0.006386</td>\n",
       "      <td>0.467441</td>\n",
       "      <td>3.623688</td>\n",
       "      <td>0.000054</td>\n",
       "      <td>0.000669</td>\n",
       "      <td>6.862080</td>\n",
       "      <td>0.146150</td>\n",
       "      <td>5.122606</td>\n",
       "      <td>-0.000721</td>\n",
       "    </tr>\n",
       "    <tr>\n",
       "      <th>1988735</th>\n",
       "      <td>2021-06-03 20:26:00</td>\n",
       "      <td>38649.69</td>\n",
       "      <td>38682.52</td>\n",
       "      <td>38649.69</td>\n",
       "      <td>38682.52</td>\n",
       "      <td>15.709853</td>\n",
       "      <td>1622752019999</td>\n",
       "      <td>6.074695e+05</td>\n",
       "      <td>566</td>\n",
       "      <td>11.004542</td>\n",
       "      <td>...</td>\n",
       "      <td>0.008751</td>\n",
       "      <td>-0.006372</td>\n",
       "      <td>0.490010</td>\n",
       "      <td>3.605175</td>\n",
       "      <td>0.000046</td>\n",
       "      <td>0.000658</td>\n",
       "      <td>6.945564</td>\n",
       "      <td>0.146774</td>\n",
       "      <td>5.180313</td>\n",
       "      <td>-0.000737</td>\n",
       "    </tr>\n",
       "    <tr>\n",
       "      <th>1988736</th>\n",
       "      <td>2021-06-03 20:27:00</td>\n",
       "      <td>38682.52</td>\n",
       "      <td>38682.69</td>\n",
       "      <td>38640.40</td>\n",
       "      <td>38649.38</td>\n",
       "      <td>23.010205</td>\n",
       "      <td>1622752079999</td>\n",
       "      <td>8.894626e+05</td>\n",
       "      <td>590</td>\n",
       "      <td>7.261787</td>\n",
       "      <td>...</td>\n",
       "      <td>0.006789</td>\n",
       "      <td>-0.006440</td>\n",
       "      <td>0.465312</td>\n",
       "      <td>3.586621</td>\n",
       "      <td>0.000020</td>\n",
       "      <td>0.000645</td>\n",
       "      <td>6.765000</td>\n",
       "      <td>0.144638</td>\n",
       "      <td>5.088506</td>\n",
       "      <td>-0.000830</td>\n",
       "    </tr>\n",
       "    <tr>\n",
       "      <th>1988737</th>\n",
       "      <td>2021-06-03 20:28:00</td>\n",
       "      <td>38649.38</td>\n",
       "      <td>38718.00</td>\n",
       "      <td>38648.01</td>\n",
       "      <td>38700.51</td>\n",
       "      <td>48.112405</td>\n",
       "      <td>1622752139999</td>\n",
       "      <td>1.860678e+06</td>\n",
       "      <td>809</td>\n",
       "      <td>36.559396</td>\n",
       "      <td>...</td>\n",
       "      <td>0.008994</td>\n",
       "      <td>-0.006437</td>\n",
       "      <td>0.501361</td>\n",
       "      <td>3.568356</td>\n",
       "      <td>0.000045</td>\n",
       "      <td>0.000636</td>\n",
       "      <td>7.198127</td>\n",
       "      <td>0.148642</td>\n",
       "      <td>5.351735</td>\n",
       "      <td>-0.000623</td>\n",
       "    </tr>\n",
       "  </tbody>\n",
       "</table>\n",
       "<p>1988738 rows × 83 columns</p>\n",
       "</div>"
      ],
      "text/plain": [
       "                   timestamp      open      high       low     close  \\\n",
       "0        2017-08-17 04:00:00   4261.48   4261.48   4261.48   4261.48   \n",
       "1        2017-08-17 04:01:00   4261.48   4261.48   4261.48   4261.48   \n",
       "2        2017-08-17 04:02:00   4280.56   4280.56   4280.56   4280.56   \n",
       "3        2017-08-17 04:03:00   4261.48   4261.48   4261.48   4261.48   \n",
       "4        2017-08-17 04:04:00   4261.48   4261.48   4261.48   4261.48   \n",
       "...                      ...       ...       ...       ...       ...   \n",
       "1988733  2021-06-03 20:24:00  38665.26  38689.56  38655.91  38682.52   \n",
       "1988734  2021-06-03 20:25:00  38682.52  38682.53  38643.07  38649.70   \n",
       "1988735  2021-06-03 20:26:00  38649.69  38682.52  38649.69  38682.52   \n",
       "1988736  2021-06-03 20:27:00  38682.52  38682.69  38640.40  38649.38   \n",
       "1988737  2021-06-03 20:28:00  38649.38  38718.00  38648.01  38700.51   \n",
       "\n",
       "            volume     close_time      quote_av  trades  tb_base_av  ...  \\\n",
       "0         1.775183  1502942459999  7.564907e+03       3    0.075183  ...   \n",
       "1         0.000000  1502942519999  0.000000e+00       0    0.000000  ...   \n",
       "2         0.261074  1502942579999  1.117543e+03       2    0.261074  ...   \n",
       "3         0.012008  1502942639999  5.117185e+01       3    0.012008  ...   \n",
       "4         0.140796  1502942699999  5.999993e+02       1    0.140796  ...   \n",
       "...            ...            ...           ...     ...         ...  ...   \n",
       "1988733  14.795718  1622751899999  5.722516e+05     457    5.929895  ...   \n",
       "1988734  16.778473  1622751959999  6.486770e+05     563    6.614560  ...   \n",
       "1988735  15.709853  1622752019999  6.074695e+05     566   11.004542  ...   \n",
       "1988736  23.010205  1622752079999  8.894626e+05     590    7.261787  ...   \n",
       "1988737  48.112405  1622752139999  1.860678e+06     809   36.559396  ...   \n",
       "\n",
       "         bb_pband_rate_100  bb_wband_rate_100  bb_pband_1000  bb_wband_1000  \\\n",
       "0                      NaN                NaN            NaN            NaN   \n",
       "1                      NaN                NaN            NaN            NaN   \n",
       "2                      NaN                NaN            NaN            NaN   \n",
       "3                      NaN                NaN            NaN            NaN   \n",
       "4                      NaN                NaN            NaN            NaN   \n",
       "...                    ...                ...            ...            ...   \n",
       "1988733           0.009752          -0.006316       0.491679       3.643182   \n",
       "1988734           0.007222          -0.006386       0.467441       3.623688   \n",
       "1988735           0.008751          -0.006372       0.490010       3.605175   \n",
       "1988736           0.006789          -0.006440       0.465312       3.586621   \n",
       "1988737           0.008994          -0.006437       0.501361       3.568356   \n",
       "\n",
       "         bb_pband_rate_1000  bb_wband_rate_1000    fi_100  fi_rate_100  \\\n",
       "0                       NaN                 NaN       NaN          NaN   \n",
       "1                       NaN                 NaN       NaN          NaN   \n",
       "2                       NaN                 NaN       NaN          NaN   \n",
       "3                       NaN                 NaN       NaN          NaN   \n",
       "4                       NaN                 NaN       NaN          NaN   \n",
       "...                     ...                 ...       ...          ...   \n",
       "1988733            0.000120            0.000685  6.990163     0.148107   \n",
       "1988734            0.000054            0.000669  6.862080     0.146150   \n",
       "1988735            0.000046            0.000658  6.945564     0.146774   \n",
       "1988736            0.000020            0.000645  6.765000     0.144638   \n",
       "1988737            0.000045            0.000636  7.198127     0.148642   \n",
       "\n",
       "          fi_1000  fi_rate_1000  \n",
       "0             NaN           NaN  \n",
       "1             NaN           NaN  \n",
       "2             NaN           NaN  \n",
       "3             NaN           NaN  \n",
       "4             NaN           NaN  \n",
       "...           ...           ...  \n",
       "1988733  5.188124     -0.000579  \n",
       "1988734  5.122606     -0.000721  \n",
       "1988735  5.180313     -0.000737  \n",
       "1988736  5.088506     -0.000830  \n",
       "1988737  5.351735     -0.000623  \n",
       "\n",
       "[1988738 rows x 83 columns]"
      ]
     },
     "execution_count": 3,
     "metadata": {},
     "output_type": "execute_result"
    }
   ],
   "source": [
    "df"
   ]
  },
  {
   "cell_type": "code",
   "execution_count": 4,
   "id": "7c50564e",
   "metadata": {},
   "outputs": [
    {
     "data": {
      "text/plain": [
       "Index(['timestamp', 'open', 'high', 'low', 'close', 'volume', 'close_time',\n",
       "       'quote_av', 'trades', 'tb_base_av', 'tb_quote_av', 'ignore', 'nvi',\n",
       "       'bb', 'target', 'mom_ao_10_log', 'mom_ppo_10_signal_log',\n",
       "       'mom_ppo_30_hist', 'mom_roc_50_log', 'mom_rsi_30', 'mom_sr_9_signal',\n",
       "       'mom_srsi_15_k', 'mom_srsi_30', 'mom_srsi_10_d', 'mom_tsi_20_log',\n",
       "       'mom_wr_50', 'trend_adx_40_neg', 'trend_arn_50', 'trend_cci_70',\n",
       "       'trend_dpo_100_log', 'trend_kst_sig_log', 'trend_macd_12_signal_log',\n",
       "       'trend_sma_50_rate_log', 'trend_sma_50_diff_log',\n",
       "       'trend_sma_200_diff_o_close_log', 'trend_stc_50_2', 'trend_trix_20_log',\n",
       "       'trend_vi_50_amp', 'volatility_atr_14', 'volatility_atr_o_close',\n",
       "       'volatility_bb_wband_10', 'volatility_bb_pband_100',\n",
       "       'volatility_bb_wband_200', 'volatility_bb_hband_o_close',\n",
       "       'volatility_dc_pband_50', 'volatility_dc_wband_10',\n",
       "       'volatility_pband_50', 'volatility_wband_20', 'volatility_ui_30',\n",
       "       'volume_cmf_50', 'volume_cmf_50_rate_200', 'volume_eom_amplified',\n",
       "       'volume_fi_amplified', 'volume_mfi_50', 'volume_nvi_o_close_rate_50',\n",
       "       'rsi_100', 'rsi_rate_100', 'rsi_1000', 'rsi_rate_1000', 'arn_down_100',\n",
       "       'arn_100', 'arn_up_100', 'arn_rate_100', 'arn_down_rate_100',\n",
       "       'arn_up_rate_100', 'arn_down_1000', 'arn_1000', 'arn_up_1000',\n",
       "       'arn_rate_1000', 'arn_down_rate_1000', 'arn_up_rate_1000',\n",
       "       'bb_pband_100', 'bb_wband_100', 'bb_pband_rate_100',\n",
       "       'bb_wband_rate_100', 'bb_pband_1000', 'bb_wband_1000',\n",
       "       'bb_pband_rate_1000', 'bb_wband_rate_1000', 'fi_100', 'fi_rate_100',\n",
       "       'fi_1000', 'fi_rate_1000'],\n",
       "      dtype='object')"
      ]
     },
     "execution_count": 4,
     "metadata": {},
     "output_type": "execute_result"
    }
   ],
   "source": [
    "df.columns"
   ]
  },
  {
   "cell_type": "markdown",
   "id": "b11431ef",
   "metadata": {},
   "source": [
    "### changing datetime string to number"
   ]
  },
  {
   "cell_type": "code",
   "execution_count": 5,
   "id": "4589edd6",
   "metadata": {},
   "outputs": [],
   "source": [
    "d2=df.copy()"
   ]
  },
  {
   "cell_type": "code",
   "execution_count": 6,
   "id": "8737c9aa",
   "metadata": {
    "scrolled": true
   },
   "outputs": [],
   "source": [
    "from datetime import datetime\n",
    "d2['timems'] = pd.to_datetime(d2['timestamp'])\n",
    "d2['timems'] = d2['timems'].apply(lambda x: x.value)"
   ]
  },
  {
   "cell_type": "code",
   "execution_count": 7,
   "id": "b07beb8d",
   "metadata": {},
   "outputs": [],
   "source": [
    "d2 = d2.drop('timestamp',axis=1)"
   ]
  },
  {
   "cell_type": "code",
   "execution_count": 8,
   "id": "b7254a55",
   "metadata": {},
   "outputs": [
    {
     "data": {
      "text/plain": [
       "dtype('int64')"
      ]
     },
     "execution_count": 8,
     "metadata": {},
     "output_type": "execute_result"
    }
   ],
   "source": [
    "d2.dtypes['timems']"
   ]
  },
  {
   "cell_type": "code",
   "execution_count": 9,
   "id": "069a4b22",
   "metadata": {},
   "outputs": [],
   "source": [
    "d2 = d2[np.isfinite(d2).all(1)]"
   ]
  },
  {
   "cell_type": "code",
   "execution_count": 10,
   "id": "4f0aa7d8",
   "metadata": {},
   "outputs": [],
   "source": [
    "from sklearn.model_selection import train_test_split"
   ]
  },
  {
   "cell_type": "code",
   "execution_count": 11,
   "id": "5c47746b",
   "metadata": {},
   "outputs": [],
   "source": [
    "X = d2.drop([\"target\", \"close\", \"high\", \"low\"], axis=1).values\n",
    "y = d2[\"target\"].values\n",
    "\n",
    "X_train, X_test, y_train, y_test = train_test_split(X, y, test_size=0.2, random_state=42)"
   ]
  },
  {
   "cell_type": "code",
   "execution_count": 12,
   "id": "572863e4",
   "metadata": {},
   "outputs": [],
   "source": [
    "from tensorflow.keras.models import Sequential\n",
    "from tensorflow.keras.layers import Dense, Dropout\n",
    "from sklearn.preprocessing import MinMaxScaler"
   ]
  },
  {
   "cell_type": "code",
   "execution_count": 13,
   "id": "748bfa36",
   "metadata": {},
   "outputs": [],
   "source": [
    "scaler = MinMaxScaler()\n",
    "X_train = scaler.fit_transform(X_train)\n",
    "X_test = scaler.transform(X_test)"
   ]
  },
  {
   "cell_type": "code",
   "execution_count": 14,
   "id": "2b731a90",
   "metadata": {},
   "outputs": [],
   "source": [
    "model = Sequential()\n",
    "\n",
    "model.add(Dense(80,activation='relu'))\n",
    "model.add(Dropout(0.2))\n",
    "\n",
    "model.add(Dense(50,activation='relu'))\n",
    "model.add(Dropout(0.2))\n",
    "\n",
    "model.add(Dense(20,activation='relu'))\n",
    "model.add(Dropout(0.2))\n",
    "\n",
    "model.add(Dense(1,activation='sigmoid'))\n",
    "model.compile(loss='binary_crossentropy', optimizer='adam')"
   ]
  },
  {
   "cell_type": "code",
   "execution_count": 15,
   "id": "78188172",
   "metadata": {},
   "outputs": [],
   "source": [
    "from tensorflow.keras.callbacks import EarlyStopping\n",
    "early_stop = EarlyStopping(monitor='val_loss',mode='min', verbose=1, patience=5)"
   ]
  },
  {
   "cell_type": "code",
   "execution_count": 16,
   "id": "d91c2eda",
   "metadata": {},
   "outputs": [
    {
     "name": "stdout",
     "output_type": "stream",
     "text": [
      "Epoch 1/60\n",
      "5828/5828 [==============================] - 8s 1ms/step - loss: 0.1285 - val_loss: 0.1229\n",
      "Epoch 2/60\n",
      "5828/5828 [==============================] - 7s 1ms/step - loss: 0.1228 - val_loss: 0.1224\n",
      "Epoch 3/60\n",
      "5828/5828 [==============================] - 7s 1ms/step - loss: 0.1225 - val_loss: 0.1226\n",
      "Epoch 4/60\n",
      "5828/5828 [==============================] - 7s 1ms/step - loss: 0.1222 - val_loss: 0.1220\n",
      "Epoch 5/60\n",
      "5828/5828 [==============================] - 7s 1ms/step - loss: 0.1219 - val_loss: 0.1215\n",
      "Epoch 6/60\n",
      "5828/5828 [==============================] - 7s 1ms/step - loss: 0.1218 - val_loss: 0.1211\n",
      "Epoch 7/60\n",
      "5828/5828 [==============================] - 7s 1ms/step - loss: 0.1216 - val_loss: 0.1209\n",
      "Epoch 8/60\n",
      "5828/5828 [==============================] - 8s 1ms/step - loss: 0.1214 - val_loss: 0.1209\n",
      "Epoch 9/60\n",
      "5828/5828 [==============================] - 8s 1ms/step - loss: 0.1212 - val_loss: 0.1206\n",
      "Epoch 10/60\n",
      "5828/5828 [==============================] - 8s 1ms/step - loss: 0.1212 - val_loss: 0.1212\n",
      "Epoch 11/60\n",
      "5828/5828 [==============================] - 8s 1ms/step - loss: 0.1209 - val_loss: 0.1206\n",
      "Epoch 12/60\n",
      "5828/5828 [==============================] - 8s 1ms/step - loss: 0.1208 - val_loss: 0.1202\n",
      "Epoch 13/60\n",
      "5828/5828 [==============================] - 7s 1ms/step - loss: 0.1207 - val_loss: 0.1203\n",
      "Epoch 14/60\n",
      "5828/5828 [==============================] - 7s 1ms/step - loss: 0.1206 - val_loss: 0.1201\n",
      "Epoch 15/60\n",
      "5828/5828 [==============================] - 8s 1ms/step - loss: 0.1206 - val_loss: 0.1200\n",
      "Epoch 16/60\n",
      "5828/5828 [==============================] - 8s 1ms/step - loss: 0.1204 - val_loss: 0.1200\n",
      "Epoch 17/60\n",
      "5828/5828 [==============================] - 7s 1ms/step - loss: 0.1204 - val_loss: 0.1207\n",
      "Epoch 18/60\n",
      "5828/5828 [==============================] - 7s 1ms/step - loss: 0.1203 - val_loss: 0.1198\n",
      "Epoch 19/60\n",
      "5828/5828 [==============================] - 7s 1ms/step - loss: 0.1203 - val_loss: 0.1198\n",
      "Epoch 20/60\n",
      "5828/5828 [==============================] - 7s 1ms/step - loss: 0.1203 - val_loss: 0.1197\n",
      "Epoch 21/60\n",
      "5828/5828 [==============================] - 8s 1ms/step - loss: 0.1202 - val_loss: 0.1198\n",
      "Epoch 22/60\n",
      "5828/5828 [==============================] - 7s 1ms/step - loss: 0.1201 - val_loss: 0.1194\n",
      "Epoch 23/60\n",
      "5828/5828 [==============================] - 7s 1ms/step - loss: 0.1202 - val_loss: 0.1195\n",
      "Epoch 24/60\n",
      "5828/5828 [==============================] - 7s 1ms/step - loss: 0.1200 - val_loss: 0.1197\n",
      "Epoch 25/60\n",
      "5828/5828 [==============================] - 8s 1ms/step - loss: 0.1199 - val_loss: 0.1196\n",
      "Epoch 26/60\n",
      "5828/5828 [==============================] - 7s 1ms/step - loss: 0.1200 - val_loss: 0.1195\n",
      "Epoch 27/60\n",
      "5828/5828 [==============================] - 7s 1ms/step - loss: 0.1199 - val_loss: 0.1193\n",
      "Epoch 28/60\n",
      "5828/5828 [==============================] - 7s 1ms/step - loss: 0.1198 - val_loss: 0.1194\n",
      "Epoch 29/60\n",
      "5828/5828 [==============================] - 7s 1ms/step - loss: 0.1198 - val_loss: 0.1195\n",
      "Epoch 30/60\n",
      "5828/5828 [==============================] - 8s 1ms/step - loss: 0.1198 - val_loss: 0.1194\n",
      "Epoch 31/60\n",
      "5828/5828 [==============================] - 8s 1ms/step - loss: 0.1198 - val_loss: 0.1193\n",
      "Epoch 32/60\n",
      "5828/5828 [==============================] - 8s 1ms/step - loss: 0.1197 - val_loss: 0.1191\n",
      "Epoch 33/60\n",
      "5828/5828 [==============================] - 8s 1ms/step - loss: 0.1197 - val_loss: 0.1191\n",
      "Epoch 34/60\n",
      "5828/5828 [==============================] - 7s 1ms/step - loss: 0.1196 - val_loss: 0.1196\n",
      "Epoch 35/60\n",
      "5828/5828 [==============================] - 7s 1ms/step - loss: 0.1196 - val_loss: 0.1190\n",
      "Epoch 36/60\n",
      "5828/5828 [==============================] - 7s 1ms/step - loss: 0.1195 - val_loss: 0.1192\n",
      "Epoch 37/60\n",
      "5828/5828 [==============================] - 7s 1ms/step - loss: 0.1196 - val_loss: 0.1195\n",
      "Epoch 38/60\n",
      "5828/5828 [==============================] - 7s 1ms/step - loss: 0.1195 - val_loss: 0.1194\n",
      "Epoch 39/60\n",
      "5828/5828 [==============================] - 7s 1ms/step - loss: 0.1194 - val_loss: 0.1190\n",
      "Epoch 40/60\n",
      "5828/5828 [==============================] - 8s 1ms/step - loss: 0.1194 - val_loss: 0.1191\n",
      "Epoch 00040: early stopping\n"
     ]
    },
    {
     "data": {
      "text/plain": [
       "<tensorflow.python.keras.callbacks.History at 0x7f821aed09a0>"
      ]
     },
     "execution_count": 16,
     "metadata": {},
     "output_type": "execute_result"
    }
   ],
   "source": [
    "model.fit(x=X_train, y=y_train, epochs=60, batch_size=256, validation_data=(X_test, y_test), \n",
    "          callbacks=[early_stop])"
   ]
  },
  {
   "cell_type": "code",
   "execution_count": 17,
   "id": "039f3adb",
   "metadata": {},
   "outputs": [],
   "source": [
    "losses = pd.DataFrame(model.history.history)"
   ]
  },
  {
   "cell_type": "code",
   "execution_count": 18,
   "id": "112e1058",
   "metadata": {},
   "outputs": [
    {
     "data": {
      "text/plain": [
       "<AxesSubplot:>"
      ]
     },
     "execution_count": 18,
     "metadata": {},
     "output_type": "execute_result"
    },
    {
     "data": {
      "image/png": "[encoded data removed]",
      "text/plain": [
       "<Figure size 432x288 with 1 Axes>"
      ]
     },
     "metadata": {
      "needs_background": "light"
     },
     "output_type": "display_data"
    }
   ],
   "source": [
    "losses[['loss','val_loss']].plot()"
   ]
  },
  {
   "cell_type": "code",
   "execution_count": 19,
   "id": "67fcc06b",
   "metadata": {},
   "outputs": [],
   "source": [
    "predictions = (model.predict(X_test) > 0.5).astype(\"int32\")"
   ]
  },
  {
   "cell_type": "code",
   "execution_count": 20,
   "id": "e6ecb2d2",
   "metadata": {},
   "outputs": [],
   "source": [
    "from sklearn.metrics import classification_report,confusion_matrix"
   ]
  },
  {
   "cell_type": "code",
   "execution_count": 21,
   "id": "28560452",
   "metadata": {},
   "outputs": [
    {
     "name": "stdout",
     "output_type": "stream",
     "text": [
      "[[320923  16480]\n",
      " [ 10659  24902]]\n",
      "\n",
      "\n",
      "              precision    recall  f1-score   support\n",
      "\n",
      "           0       0.97      0.95      0.96    337403\n",
      "           1       0.60      0.70      0.65     35561\n",
      "\n",
      "    accuracy                           0.93    372964\n",
      "   macro avg       0.78      0.83      0.80    372964\n",
      "weighted avg       0.93      0.93      0.93    372964\n",
      "\n"
     ]
    }
   ],
   "source": [
    "print(confusion_matrix(y_test, predictions))\n",
    "print('\\n')\n",
    "print(classification_report(y_test, predictions))"
   ]
  },
  {
   "cell_type": "code",
   "execution_count": 33,
   "id": "ba3a5158",
   "metadata": {},
   "outputs": [],
   "source": [
    "d = d2[50000:70000]\n",
    "prediction_values = d.drop([\"target\", \"close\", \"high\", \"low\"], axis=1).values\n",
    "prediction_transformed = scaler.transform(prediction_values)\n",
    "\n",
    "pred = (model.predict(prediction_transformed) > 0.5).astype('int32')"
   ]
  },
  {
   "cell_type": "code",
   "execution_count": 34,
   "id": "1ce23774",
   "metadata": {},
   "outputs": [],
   "source": [
    "pred = pred.reshape(-1,)"
   ]
  },
  {
   "cell_type": "code",
   "execution_count": 24,
   "id": "ca627246",
   "metadata": {
    "scrolled": true
   },
   "outputs": [
    {
     "data": {
      "text/plain": [
       "array([1, 1, 1, ..., 0, 0, 0], dtype=int32)"
      ]
     },
     "execution_count": 24,
     "metadata": {},
     "output_type": "execute_result"
    }
   ],
   "source": [
    "pred"
   ]
  },
  {
   "cell_type": "code",
   "execution_count": 35,
   "id": "eebcb174",
   "metadata": {},
   "outputs": [
    {
     "data": {
      "text/plain": [
       "20000"
      ]
     },
     "execution_count": 35,
     "metadata": {},
     "output_type": "execute_result"
    }
   ],
   "source": [
    "close = d['close'].copy().reset_index().drop('index',axis=1)\n",
    "len(close)"
   ]
  },
  {
   "cell_type": "code",
   "execution_count": 36,
   "id": "10ddc8a0",
   "metadata": {},
   "outputs": [
    {
     "data": {
      "text/html": [
       "<div>\n",
       "<style scoped>\n",
       "    .dataframe tbody tr th:only-of-type {\n",
       "        vertical-align: middle;\n",
       "    }\n",
       "\n",
       "    .dataframe tbody tr th {\n",
       "        vertical-align: top;\n",
       "    }\n",
       "\n",
       "    .dataframe thead th {\n",
       "        text-align: right;\n",
       "    }\n",
       "</style>\n",
       "<table border=\"1\" class=\"dataframe\">\n",
       "  <thead>\n",
       "    <tr style=\"text-align: right;\">\n",
       "      <th></th>\n",
       "      <th>close</th>\n",
       "    </tr>\n",
       "  </thead>\n",
       "  <tbody>\n",
       "    <tr>\n",
       "      <th>0</th>\n",
       "      <td>17652.91</td>\n",
       "    </tr>\n",
       "    <tr>\n",
       "      <th>1</th>\n",
       "      <td>17629.95</td>\n",
       "    </tr>\n",
       "    <tr>\n",
       "      <th>2</th>\n",
       "      <td>17617.52</td>\n",
       "    </tr>\n",
       "    <tr>\n",
       "      <th>3</th>\n",
       "      <td>17640.00</td>\n",
       "    </tr>\n",
       "    <tr>\n",
       "      <th>4</th>\n",
       "      <td>17630.78</td>\n",
       "    </tr>\n",
       "    <tr>\n",
       "      <th>...</th>\n",
       "      <td>...</td>\n",
       "    </tr>\n",
       "    <tr>\n",
       "      <th>19995</th>\n",
       "      <td>14530.00</td>\n",
       "    </tr>\n",
       "    <tr>\n",
       "      <th>19996</th>\n",
       "      <td>14500.00</td>\n",
       "    </tr>\n",
       "    <tr>\n",
       "      <th>19997</th>\n",
       "      <td>14500.00</td>\n",
       "    </tr>\n",
       "    <tr>\n",
       "      <th>19998</th>\n",
       "      <td>14494.19</td>\n",
       "    </tr>\n",
       "    <tr>\n",
       "      <th>19999</th>\n",
       "      <td>14494.21</td>\n",
       "    </tr>\n",
       "  </tbody>\n",
       "</table>\n",
       "<p>20000 rows × 1 columns</p>\n",
       "</div>"
      ],
      "text/plain": [
       "          close\n",
       "0      17652.91\n",
       "1      17629.95\n",
       "2      17617.52\n",
       "3      17640.00\n",
       "4      17630.78\n",
       "...         ...\n",
       "19995  14530.00\n",
       "19996  14500.00\n",
       "19997  14500.00\n",
       "19998  14494.19\n",
       "19999  14494.21\n",
       "\n",
       "[20000 rows x 1 columns]"
      ]
     },
     "execution_count": 36,
     "metadata": {},
     "output_type": "execute_result"
    }
   ],
   "source": [
    "close"
   ]
  },
  {
   "cell_type": "code",
   "execution_count": 38,
   "id": "0cb4f351",
   "metadata": {},
   "outputs": [],
   "source": [
    "scatter_x = []\n",
    "scatter_y = []\n",
    "for i in range(len(pred)):\n",
    "    if pred[i] == 1:\n",
    "        scatter_x.append(i)\n",
    "        scatter_y.append(close.iloc[i])\n",
    "        \n",
    "        "
   ]
  },
  {
   "cell_type": "code",
   "execution_count": 42,
   "id": "f7e8bdf4",
   "metadata": {
    "scrolled": true
   },
   "outputs": [
    {
     "data": {
      "text/plain": [
       "19916"
      ]
     },
     "execution_count": 42,
     "metadata": {},
     "output_type": "execute_result"
    }
   ],
   "source": [
    "max(scatter_x)"
   ]
  },
  {
   "cell_type": "code",
   "execution_count": 44,
   "id": "7f829b3b",
   "metadata": {},
   "outputs": [],
   "source": [
    "di=d.reset_index()"
   ]
  },
  {
   "cell_type": "code",
   "execution_count": 50,
   "id": "c8d53e67",
   "metadata": {},
   "outputs": [
    {
     "data": {
      "text/plain": [
       "[<matplotlib.lines.Line2D at 0x7f82106c3e80>]"
      ]
     },
     "execution_count": 50,
     "metadata": {},
     "output_type": "execute_result"
    },
    {
     "data": {
      "image/png": "[encoded data removed]",
      "text/plain": [
       "<Figure size 1152x864 with 1 Axes>"
      ]
     },
     "metadata": {
      "needs_background": "light"
     },
     "output_type": "display_data"
    }
   ],
   "source": [
    "figure = plt.figure(figsize=(16,12))\n",
    "plt.scatter(scatter_x, scatter_y, color=\"green\")\n",
    "plt.plot(di.index, di.close, color = 'gray')\n"
   ]
  },
  {
   "cell_type": "code",
   "execution_count": null,
   "id": "1d406a09",
   "metadata": {},
   "outputs": [],
   "source": []
  }
 ],
 "metadata": {
  "kernelspec": {
   "display_name": "Python 3",
   "language": "python",
   "name": "python3"
  },
  "language_info": {
   "codemirror_mode": {
    "name": "ipython",
    "version": 3
   },
   "file_extension": ".py",
   "mimetype": "text/x-python",
   "name": "python",
   "nbconvert_exporter": "python",
   "pygments_lexer": "ipython3",
   "version": "3.8.8"
  },
  "toc": {
   "base_numbering": 1,
   "nav_menu": {},
   "number_sections": true,
   "sideBar": true,
   "skip_h1_title": false,
   "title_cell": "Table of Contents",
   "title_sidebar": "Contents",
   "toc_cell": false,
   "toc_position": {},
   "toc_section_display": true,
   "toc_window_display": false
  },
  "varInspector": {
   "cols": {
    "lenName": 16,
    "lenType": 16,
    "lenVar": 40
   },
   "kernels_config": {
    "python": {
     "delete_cmd_postfix": "",
     "delete_cmd_prefix": "del ",
     "library": "var_list.py",
     "varRefreshCmd": "print(var_dic_list())"
    },
    "r": {
     "delete_cmd_postfix": ") ",
     "delete_cmd_prefix": "rm(",
     "library": "var_list.r",
     "varRefreshCmd": "cat(var_dic_list()) "
    }
   },
   "types_to_exclude": [
    "module",
    "function",
    "builtin_function_or_method",
    "instance",
    "_Feature"
   ],
   "window_display": false
  }
 },
 "nbformat": 4,
 "nbformat_minor": 5
}
