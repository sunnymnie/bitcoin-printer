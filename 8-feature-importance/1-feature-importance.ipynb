{
 "cells": [
  {
   "cell_type": "markdown",
   "id": "79a7b2fc-1614-4fec-b115-8daf6fdddffa",
   "metadata": {},
   "source": [
    "# Analyze feature importance"
   ]
  },
  {
   "cell_type": "code",
   "execution_count": 30,
   "id": "7b2aba98-da46-4105-b42e-1abe0ac5c5e1",
   "metadata": {},
   "outputs": [],
   "source": [
    "import numpy as np\n",
    "import pandas as pd\n",
    "import matplotlib.pyplot as plt\n",
    "from sklearn.tree import DecisionTreeClassifier\n",
    "from sklearn.ensemble import BaggingClassifier\n",
    "from sklearn.model_selection import KFold\n",
    "from sklearn.metrics import log_loss,accuracy_score \n",
    "from scipy.stats import weightedtau\n",
    "\n",
    "import sys\n",
    "sys.path.insert(0, '..')\n",
    "from multiprocess import mp_pandas_obj as mpPandasObj"
   ]
  },
  {
   "cell_type": "code",
   "execution_count": 22,
   "id": "1d7adc8c-8e94-49ad-ba1a-b8ac83dd361a",
   "metadata": {},
   "outputs": [],
   "source": [
    "X = pd.read_csv(\"../data/x.csv\", index_col=0, parse_dates=True)\n",
    "cont = pd.read_csv(\"../data/cont.csv\", index_col=0, parse_dates=[0,3])"
   ]
  },
  {
   "cell_type": "code",
   "execution_count": 24,
   "id": "a4e0ed32-4b66-4363-95ab-3a72e0daf010",
   "metadata": {},
   "outputs": [],
   "source": [
    "class PurgedKFold(KFold):\n",
    "    #Extend KFold class to work with labels that span intervals\n",
    "    #The train is purged of observations overlapping test-label intervals\n",
    "    #Test set is assumed contiguous (shuffle=False), w/o training samples in between \n",
    "    def __init__(self,n_splits=3,t1=None,pctEmbargo=0.):\n",
    "        if not isinstance(t1,pd.Series):\n",
    "            raise ValueError('Label Through Dates must be a pd.Series')\n",
    "        super(PurgedKFold,self).__init__(n_splits,shuffle=False,random_state=None) \n",
    "        self.t1=t1\n",
    "        self.pctEmbargo=pctEmbargo\n",
    "    def split(self,X,y=None,groups=None):\n",
    "        if (X.index==self.t1.index).sum()!=len(self.t1):\n",
    "            raise ValueError('X and ThruDateValues must have the same index') \n",
    "        indices=np.arange(X.shape[0])\n",
    "        mbrg=int(X.shape[0]*self.pctEmbargo)\n",
    "        test_starts=[(i[0],i[-1]+1) for i in \\\n",
    "            np.array_split(np.arange(X.shape[0]),self.n_splits)] \n",
    "        for i,j in test_starts:\n",
    "            t0=self.t1.index[i] # start of test set\n",
    "            test_indices=indices[i:j] \n",
    "            maxT1Idx=self.t1.index.searchsorted(self.t1[test_indices].max()) \n",
    "            train_indices=self.t1.index.searchsorted(self.t1[self.t1<=t0].index) \n",
    "            if maxT1Idx<X.shape[0]: # right train (with embargo)\n",
    "                train_indices=np.concatenate((train_indices,indices[maxT1Idx+mbrg:])) \n",
    "            yield train_indices,test_indices"
   ]
  },
  {
   "cell_type": "code",
   "execution_count": 25,
   "id": "16ca31eb-908e-44c2-b844-c46ca0471230",
   "metadata": {},
   "outputs": [],
   "source": [
    "def test_data_func(X, cont, run='', allow_masking_effects=False, methods=['MDI', 'MDA', 'SFI']):\n",
    "    for method in methods:\n",
    "        feature_imp, oob_score, oos_score = featImportance(X, cont, cv=5, method=method)\n",
    "        plotFeatImportance(\"pathout\",feature_imp,oob_score,oos_score, method=method)\n",
    "\n",
    "\n",
    "def featImportance(trnsX,cont,n_estimators=1000,cv=10,max_samples=1.,numThreads=24, pctEmbargo=0,scoring='accuracy',method='SFI',minWLeaf=0.,**kargs):\n",
    "    '''feature importance from a random forest'''\n",
    "    n_jobs=(-1 if numThreads>1 else 1) # run 1 thread with ht_helper in dirac1 \n",
    "    #1) prepare classifier,cv. max_features=1, to prevent masking \n",
    "    clf=DecisionTreeClassifier(criterion='entropy',max_features=1,class_weight='balanced',min_weight_fraction_leaf=minWLeaf) \n",
    "    clf=BaggingClassifier(base_estimator=clf,n_estimators=n_estimators,max_features=1.,max_samples=max_samples,oob_score=True,n_jobs=n_jobs) \n",
    "    fit=clf.fit(X=trnsX,y=cont['bin'],sample_weight=cont['w'].values) \n",
    "    oob=fit.oob_score_\n",
    "    if method=='MDI':\n",
    "        imp=featImpMDI(fit,featNames=trnsX.columns) \n",
    "        oos=cvScore(clf,X=trnsX,y=cont['bin'],cv=cv,sample_weight=cont['w'],\n",
    "                    t1=cont['t1'],pctEmbargo=pctEmbargo,scoring=scoring).mean() \n",
    "    elif method=='MDA':\n",
    "        imp,oos=featImpMDA(clf,X=trnsX,y=cont['bin'],cv=cv,sample_weight=cont['w'], \n",
    "                           t1=cont['t1'],pctEmbargo=pctEmbargo,scoring=scoring)\n",
    "    elif method=='SFI': \n",
    "        cvGen=PurgedKFold(n_splits=cv,t1=cont['t1'],pctEmbargo=pctEmbargo) \n",
    "        oos=cvScore(clf,X=trnsX,y=cont['bin'],sample_weight=cont['w'],scoring=scoring,\n",
    "                    cvGen=cvGen).mean()\n",
    "        clf.n_jobs=1 # paralellize auxFeatImpSFI rather than clf \n",
    "        imp=mpPandasObj(auxFeatImpSFI,('featNames',trnsX.columns),numThreads,\n",
    "                        clf=clf,trnsX=trnsX,cont=cont,scoring=scoring,cvGen=cvGen) \n",
    "    return imp,oob,oos\n",
    "\n",
    "def plotFeatImportance(pathOut,imp,oob,oos,method,tag=0,simNum=0,**kargs): \n",
    "    '''plot mean imp bars with std'''\n",
    "    plt.figure(figsize=(10,imp.shape[0]/5.)) \n",
    "    imp=imp.sort_values('mean',ascending=True) \n",
    "    ax=imp['mean'].plot(kind='barh',color='b',alpha=.25,xerr=imp['std'],error_kw={'ecolor':'r'})\n",
    "    if method=='MDI':\n",
    "        plt.xlim([0,imp.sum(axis=1).max()]) \n",
    "        plt.axvline(1./imp.shape[0],linewidth=1,color='r',linestyle='dotted')\n",
    "    ax.get_yaxis().set_visible(False)\n",
    "    for i,j in zip(ax.patches,imp.index):\n",
    "        ax.text(i.get_width()/2, i.get_y()+i.get_height()/2,j,ha='center',va='center',\n",
    "                color='black')\n",
    "    plt.title('tag='+str(tag)+' | simNum='+str(simNum)+' | oob='+str(round(oob,4))+\n",
    "    ' | oos='+str(round(oos,4))) \n",
    "#     plt.savefig(pathOut+'featImportance_'+str(simNum)+'.png',dpi=100) \n",
    "#     plt.clf();plt.close()\n",
    "    plt.show()\n",
    "    return\n",
    "\n",
    "def featImpMDI(fit,featNames):\n",
    "    # feat importance based on IS mean impurity reduction\n",
    "    df0={i:tree.feature_importances_ for i,tree in enumerate(fit.estimators_)} \n",
    "    df0=pd.DataFrame.from_dict(df0,orient='index')\n",
    "    df0.columns=featNames\n",
    "    df0=df0.replace(0,np.nan) # because max_features=1\n",
    "    imp=pd.concat({'mean':df0.mean(),'std':df0.std()*df0.shape[0]**-.5},axis=1) \n",
    "    imp/=imp['mean'].sum()\n",
    "    return imp\n",
    "\n",
    "def featImpMDA(clf,X,y,cv,sample_weight,t1,pctEmbargo,scoring='neg_log_loss'): \n",
    "    '''    \n",
    "    feat importance based on OOS score reduction\n",
    "    '''    \n",
    "    if scoring not in ['neg_log_loss','accuracy']:\n",
    "        raise Exception('wrong scoring method.')\n",
    "    \n",
    "    cvGen=PurgedKFold(n_splits=cv,t1=t1,pctEmbargo=pctEmbargo) # purged cv \n",
    "    scr0,scr1=pd.Series(),pd.DataFrame(columns=X.columns)\n",
    "\n",
    "    for i,(train,test) in enumerate(cvGen.split(X=X)): \n",
    "        X0,y0,w0=X.iloc[train,:],y.iloc[train],sample_weight.iloc[train] \n",
    "        X1,y1,w1=X.iloc[test,:],y.iloc[test],sample_weight.iloc[test] \n",
    "        fit=clf.fit(X=X0,y=y0,sample_weight=w0.values)\n",
    "        if scoring=='neg_log_loss':\n",
    "            prob=fit.predict_proba(X1) \n",
    "            scr0.loc[i]=-log_loss(y1,prob,sample_weight=w1.values,labels=clf.classes_)\n",
    "        else:\n",
    "            pred=fit.predict(X1) \n",
    "            scr0.loc[i]=accuracy_score(y1,pred,sample_weight=w1.values)\n",
    "        for j in X.columns:\n",
    "            X1_=X1.copy(deep=True)\n",
    "            np.random.shuffle(X1_[j].values) # permutation of a single column \n",
    "            if scoring=='neg_log_loss':\n",
    "                prob=fit.predict_proba(X1_) \n",
    "                scr1.loc[i,j]=-log_loss(y1,prob,sample_weight=w1.values,labels=clf.classes_)\n",
    "            else:\n",
    "                pred=fit.predict(X1_) \n",
    "                scr1.loc[i,j]=accuracy_score(y1,pred,sample_weight=w1.values)\n",
    "    imp=(-scr1).add(scr0,axis=0)\n",
    "    if scoring=='neg_log_loss':\n",
    "        imp=imp/-scr1\n",
    "    else:\n",
    "        imp=imp/(1.-scr1) \n",
    "    imp=pd.concat({'mean':imp.mean(),'std':imp.std()*imp.shape[0]**-.5},axis=1) \n",
    "    return imp,scr0.mean()\n",
    "\n",
    "def auxFeatImpSFI(featNames,clf,trnsX,cont,scoring,cvGen): \n",
    "    imp=pd.DataFrame(columns=['mean','std'])\n",
    "    for featName in featNames:\n",
    "        df0=cvScore(clf,X=trnsX[[featName]],y=cont['bin'],sample_weight=cont['w'], scoring=scoring,cvGen=cvGen)\n",
    "        imp.loc[featName,'mean']=df0.mean()\n",
    "        imp.loc[featName,'std']=df0.std()*df0.shape[0]**-.5 \n",
    "    return imp\n",
    "\n",
    "def cvScore(clf,X,y,sample_weight,scoring='neg_log_loss',t1=None,cv=None,cvGen=None, pctEmbargo=None):\n",
    "    if scoring not in ['neg_log_loss','accuracy']: \n",
    "        raise Exception('wrong scoring method.')\n",
    "    if cvGen is None:\n",
    "        cvGen=PurgedKFold(n_splits=cv,t1=t1,pctEmbargo=pctEmbargo) # purged \n",
    "    score=[]\n",
    "    for train,test in cvGen.split(X=X): \n",
    "        fit=clf.fit(X=X.iloc[train,:],y=y.iloc[train],sample_weight=sample_weight.iloc[train].values) \n",
    "        if scoring=='neg_log_loss':\n",
    "            prob=fit.predict_proba(X.iloc[test,:]) \n",
    "            score_=-log_loss(y.iloc[test],prob, sample_weight=sample_weight.iloc[test].values,labels=clf.classes_)\n",
    "        else:\n",
    "            pred=fit.predict(X.iloc[test,:]) \n",
    "            score_=accuracy_score(y.iloc[test],pred,sample_weight= \\\n",
    "                sample_weight.iloc[test].values) \n",
    "            score.append(score_)\n",
    "    return np.array(score)\n",
    "\n",
    "def get_eVec(dot,varThres):\n",
    "    '''compute eVec from dot prod matrix, reduce dimension'''\n",
    "    eVal,eVec=np.linalg.eigh(dot)\n",
    "    idx=eVal.argsort()[::-1] # arguments for sorting eVal desc \n",
    "    eVal,eVec=eVal[idx],eVec[:,idx]\n",
    "    #2) only positive eVals\n",
    "    eVal=pd.Series(eVal,index=['PC_'+str(i+1) for i in range(eVal.shape[0])]) \n",
    "    eVec=pd.DataFrame(eVec,index=dot.index,columns=eVal.index) \n",
    "    eVec=eVec.loc[:,eVal.index]\n",
    "    #3) reduce dimension, form PCs\n",
    "    cumVar=eVal.cumsum()/eVal.sum()\n",
    "    dim=cumVar.values.searchsorted(varThres) \n",
    "    eVal,eVec=eVal.iloc[:dim+1],eVec.iloc[:,:dim+1]\n",
    "    return eVal,eVec\n",
    "\n",
    "def orthoFeats(dfX,varThres=.95):\n",
    "    '''Given a dataframe dfX of features, compute orthofeatures dfP '''\n",
    "    dfZ=dfX.sub(dfX.mean(),axis=1).div(dfX.std(),axis=1) # standardize \n",
    "    dot=pd.DataFrame(np.dot(dfZ.T,dfZ),index=dfX.columns,columns=dfX.columns) \n",
    "    eVal,eVec=get_eVec(dot,varThres)\n",
    "    dfP=np.dot(dfZ,eVec) \n",
    "    return dfP\n"
   ]
  },
  {
   "cell_type": "markdown",
   "id": "59df9985-28bc-4b68-ae03-ab429ca8cc64",
   "metadata": {},
   "source": [
    "## Apply PCA transformation on X"
   ]
  },
  {
   "cell_type": "code",
   "execution_count": 26,
   "id": "8a82fd34-11ef-483f-acff-be0f4cd0faf1",
   "metadata": {},
   "outputs": [
    {
     "data": {
      "text/html": [
       "<div>\n",
       "<style scoped>\n",
       "    .dataframe tbody tr th:only-of-type {\n",
       "        vertical-align: middle;\n",
       "    }\n",
       "\n",
       "    .dataframe tbody tr th {\n",
       "        vertical-align: top;\n",
       "    }\n",
       "\n",
       "    .dataframe thead th {\n",
       "        text-align: right;\n",
       "    }\n",
       "</style>\n",
       "<table border=\"1\" class=\"dataframe\">\n",
       "  <thead>\n",
       "    <tr style=\"text-align: right;\">\n",
       "      <th></th>\n",
       "      <th>PCA_0</th>\n",
       "      <th>PCA_1</th>\n",
       "      <th>PCA_2</th>\n",
       "      <th>PCA_3</th>\n",
       "      <th>PCA_4</th>\n",
       "      <th>PCA_5</th>\n",
       "    </tr>\n",
       "  </thead>\n",
       "  <tbody>\n",
       "    <tr>\n",
       "      <th>2017-09-04 09:43:59.628983</th>\n",
       "      <td>-3.341057</td>\n",
       "      <td>-0.918397</td>\n",
       "      <td>-0.893493</td>\n",
       "      <td>-0.100227</td>\n",
       "      <td>0.533357</td>\n",
       "      <td>-0.180285</td>\n",
       "    </tr>\n",
       "    <tr>\n",
       "      <th>2017-09-05 09:43:59.628983</th>\n",
       "      <td>-3.517488</td>\n",
       "      <td>-1.672273</td>\n",
       "      <td>-1.064869</td>\n",
       "      <td>-1.208420</td>\n",
       "      <td>0.315185</td>\n",
       "      <td>-0.739298</td>\n",
       "    </tr>\n",
       "    <tr>\n",
       "      <th>2017-09-06 09:43:59.628983</th>\n",
       "      <td>-1.939640</td>\n",
       "      <td>-0.395984</td>\n",
       "      <td>-0.819280</td>\n",
       "      <td>0.801209</td>\n",
       "      <td>0.159242</td>\n",
       "      <td>-0.226560</td>\n",
       "    </tr>\n",
       "    <tr>\n",
       "      <th>2017-09-07 09:43:59.628983</th>\n",
       "      <td>-1.688130</td>\n",
       "      <td>-0.278464</td>\n",
       "      <td>-1.238535</td>\n",
       "      <td>-0.925250</td>\n",
       "      <td>0.214622</td>\n",
       "      <td>-0.492624</td>\n",
       "    </tr>\n",
       "    <tr>\n",
       "      <th>2017-09-08 09:43:59.628983</th>\n",
       "      <td>-2.054390</td>\n",
       "      <td>1.016298</td>\n",
       "      <td>-0.657037</td>\n",
       "      <td>0.756113</td>\n",
       "      <td>-0.173165</td>\n",
       "      <td>-0.821492</td>\n",
       "    </tr>\n",
       "  </tbody>\n",
       "</table>\n",
       "</div>"
      ],
      "text/plain": [
       "                               PCA_0     PCA_1     PCA_2     PCA_3     PCA_4  \\\n",
       "2017-09-04 09:43:59.628983 -3.341057 -0.918397 -0.893493 -0.100227  0.533357   \n",
       "2017-09-05 09:43:59.628983 -3.517488 -1.672273 -1.064869 -1.208420  0.315185   \n",
       "2017-09-06 09:43:59.628983 -1.939640 -0.395984 -0.819280  0.801209  0.159242   \n",
       "2017-09-07 09:43:59.628983 -1.688130 -0.278464 -1.238535 -0.925250  0.214622   \n",
       "2017-09-08 09:43:59.628983 -2.054390  1.016298 -0.657037  0.756113 -0.173165   \n",
       "\n",
       "                               PCA_5  \n",
       "2017-09-04 09:43:59.628983 -0.180285  \n",
       "2017-09-05 09:43:59.628983 -0.739298  \n",
       "2017-09-06 09:43:59.628983 -0.226560  \n",
       "2017-09-07 09:43:59.628983 -0.492624  \n",
       "2017-09-08 09:43:59.628983 -0.821492  "
      ]
     },
     "execution_count": 26,
     "metadata": {},
     "output_type": "execute_result"
    }
   ],
   "source": [
    "Xdot = pd.DataFrame(orthoFeats(X), index=X.index).add_prefix(\"PCA_\")\n",
    "Xdot.head()"
   ]
  },
  {
   "cell_type": "code",
   "execution_count": 27,
   "id": "cd2065be-60bb-49bb-9d4e-a00a5aec7102",
   "metadata": {},
   "outputs": [
    {
     "data": {
      "image/png": "[encoded data removed]",
      "text/plain": [
       "<Figure size 720x86.4 with 1 Axes>"
      ]
     },
     "metadata": {
      "needs_background": "light"
     },
     "output_type": "display_data"
    }
   ],
   "source": [
    "test_data_func(Xdot, cont, methods=['MDI'])"
   ]
  },
  {
   "cell_type": "markdown",
   "id": "a846bb2f-fd83-4de3-b780-73796d4c7b22",
   "metadata": {},
   "source": [
    "## Combined dataframe"
   ]
  },
  {
   "cell_type": "code",
   "execution_count": 28,
   "id": "3c427a27-4946-4d45-88e6-833edb3d0502",
   "metadata": {},
   "outputs": [
    {
     "data": {
      "text/plain": [
       "Index(['I_0', 'I_1', 'I_2', 'R_0', 'R_1', 'R_2', 'N_0', 'N_1', 'N_2', 'PCA_0',\n",
       "       'PCA_1', 'PCA_2', 'PCA_3', 'PCA_4', 'PCA_5'],\n",
       "      dtype='object')"
      ]
     },
     "execution_count": 28,
     "metadata": {},
     "output_type": "execute_result"
    }
   ],
   "source": [
    "Xdotdot = pd.concat([X, Xdot], axis=1)\n",
    "Xdotdot.columns"
   ]
  },
  {
   "cell_type": "code",
   "execution_count": 29,
   "id": "cedfc320-17db-4f98-97d3-fdc551a8cbb4",
   "metadata": {},
   "outputs": [
    {
     "data": {
      "image/png": "[encoded data removed]",
      "text/plain": [
       "<Figure size 720x216 with 1 Axes>"
      ]
     },
     "metadata": {
      "needs_background": "light"
     },
     "output_type": "display_data"
    }
   ],
   "source": [
    "test_data_func(Xdotdot, cont, methods=[\"MDI\"])"
   ]
  },
  {
   "cell_type": "markdown",
   "id": "71d4a4e5-0120-484e-8c58-4c55bc4d3041",
   "metadata": {},
   "source": [
    "## Tau"
   ]
  },
  {
   "cell_type": "code",
   "execution_count": 32,
   "id": "7da7c7ab-5e23-4de5-968d-5d435cbb9a63",
   "metadata": {},
   "outputs": [
    {
     "data": {
      "text/plain": [
       "0.8133333333333331"
      ]
     },
     "execution_count": 32,
     "metadata": {},
     "output_type": "execute_result"
    }
   ],
   "source": [
    "featImp=np.array([.55,.33,.07,.05]) # feature importance \n",
    "pcRank=np.array([1,2,4,3]) # PCA rank\n",
    "weightedtau(featImp,pcRank**-1.)[0]"
   ]
  },
  {
   "cell_type": "code",
   "execution_count": 37,
   "id": "1d206781-b923-4898-bdd5-b3d7ea62de75",
   "metadata": {},
   "outputs": [],
   "source": [
    "feature_imp, oob_score, oos_score = featImportance(Xdot, cont, cv=5, method='MDI')"
   ]
  },
  {
   "cell_type": "code",
   "execution_count": 38,
   "id": "90196ed5-88ae-4c86-ae3d-00c8f08888c0",
   "metadata": {},
   "outputs": [
    {
     "data": {
      "text/html": [
       "<div>\n",
       "<style scoped>\n",
       "    .dataframe tbody tr th:only-of-type {\n",
       "        vertical-align: middle;\n",
       "    }\n",
       "\n",
       "    .dataframe tbody tr th {\n",
       "        vertical-align: top;\n",
       "    }\n",
       "\n",
       "    .dataframe thead th {\n",
       "        text-align: right;\n",
       "    }\n",
       "</style>\n",
       "<table border=\"1\" class=\"dataframe\">\n",
       "  <thead>\n",
       "    <tr style=\"text-align: right;\">\n",
       "      <th></th>\n",
       "      <th>mean</th>\n",
       "      <th>std</th>\n",
       "    </tr>\n",
       "  </thead>\n",
       "  <tbody>\n",
       "    <tr>\n",
       "      <th>PCA_0</th>\n",
       "      <td>0.318979</td>\n",
       "      <td>0.002781</td>\n",
       "    </tr>\n",
       "    <tr>\n",
       "      <th>PCA_1</th>\n",
       "      <td>0.174232</td>\n",
       "      <td>0.001135</td>\n",
       "    </tr>\n",
       "    <tr>\n",
       "      <th>PCA_2</th>\n",
       "      <td>0.179536</td>\n",
       "      <td>0.001301</td>\n",
       "    </tr>\n",
       "    <tr>\n",
       "      <th>PCA_3</th>\n",
       "      <td>0.093765</td>\n",
       "      <td>0.000825</td>\n",
       "    </tr>\n",
       "    <tr>\n",
       "      <th>PCA_4</th>\n",
       "      <td>0.104129</td>\n",
       "      <td>0.000901</td>\n",
       "    </tr>\n",
       "    <tr>\n",
       "      <th>PCA_5</th>\n",
       "      <td>0.129359</td>\n",
       "      <td>0.001021</td>\n",
       "    </tr>\n",
       "  </tbody>\n",
       "</table>\n",
       "</div>"
      ],
      "text/plain": [
       "           mean       std\n",
       "PCA_0  0.318979  0.002781\n",
       "PCA_1  0.174232  0.001135\n",
       "PCA_2  0.179536  0.001301\n",
       "PCA_3  0.093765  0.000825\n",
       "PCA_4  0.104129  0.000901\n",
       "PCA_5  0.129359  0.001021"
      ]
     },
     "execution_count": 38,
     "metadata": {},
     "output_type": "execute_result"
    }
   ],
   "source": [
    "feature_imp"
   ]
  },
  {
   "cell_type": "code",
   "execution_count": 50,
   "id": "e4ff8569-471e-4546-b970-011dba0b1acc",
   "metadata": {},
   "outputs": [
    {
     "data": {
      "text/plain": [
       "0.6625850340136055"
      ]
     },
     "execution_count": 50,
     "metadata": {},
     "output_type": "execute_result"
    }
   ],
   "source": [
    "featImp=np.array(feature_imp[\"mean\"]) # feature importance \n",
    "pcRank=np.arange(1, len(feature_imp)+1) # PCA rank\n",
    "weightedtau(featImp,pcRank**-1.)[0]"
   ]
  },
  {
   "cell_type": "code",
   "execution_count": null,
   "id": "ef4746ea-23d8-4ff5-8425-6545913cc0fe",
   "metadata": {},
   "outputs": [],
   "source": []
  }
 ],
 "metadata": {
  "kernelspec": {
   "display_name": "Python 3",
   "language": "python",
   "name": "python3"
  },
  "language_info": {
   "codemirror_mode": {
    "name": "ipython",
    "version": 3
   },
   "file_extension": ".py",
   "mimetype": "text/x-python",
   "name": "python",
   "nbconvert_exporter": "python",
   "pygments_lexer": "ipython3",
   "version": "3.9.4"
  }
 },
 "nbformat": 4,
 "nbformat_minor": 5
}
