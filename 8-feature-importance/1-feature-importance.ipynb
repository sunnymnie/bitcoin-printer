{
 "cells": [
  {
   "cell_type": "markdown",
   "id": "79a7b2fc-1614-4fec-b115-8daf6fdddffa",
   "metadata": {},
   "source": [
    "# Analyze feature importance"
   ]
  },
  {
   "cell_type": "code",
   "execution_count": 1,
   "id": "7b2aba98-da46-4105-b42e-1abe0ac5c5e1",
   "metadata": {},
   "outputs": [],
   "source": [
    "import numpy as np\n",
    "import pandas as pd\n",
    "import matplotlib.pyplot as plt\n",
    "from sklearn.tree import DecisionTreeClassifier\n",
    "from sklearn.ensemble import BaggingClassifier\n",
    "from sklearn.model_selection import KFold\n",
    "from sklearn.metrics import log_loss,accuracy_score \n",
    "from scipy.stats import weightedtau\n",
    "\n",
    "import sys\n",
    "sys.path.insert(0, '..')\n",
    "from multiprocess import mp_pandas_obj as mpPandasObj"
   ]
  },
  {
   "cell_type": "code",
   "execution_count": 15,
   "id": "1d7adc8c-8e94-49ad-ba1a-b8ac83dd361a",
   "metadata": {},
   "outputs": [],
   "source": [
    "X = pd.read_csv(\"../data/x.csv\", index_col=0, parse_dates=True)\n",
    "cont = pd.read_csv(\"../data/cont.csv\", index_col=0, parse_dates=[0,3])"
   ]
  },
  {
   "cell_type": "code",
   "execution_count": 16,
   "id": "ab16c56c-20cf-4d95-9a84-345b22b3323e",
   "metadata": {},
   "outputs": [],
   "source": [
    "## Sort index? Drop nans?\n",
    "X.sort_index(inplace=True)\n",
    "cont.sort_index(inplace=True)\n",
    "X.dropna(inplace=True)\n",
    "cont = cont.loc[X.index[0]:]"
   ]
  },
  {
   "cell_type": "code",
   "execution_count": 17,
   "id": "a4e0ed32-4b66-4363-95ab-3a72e0daf010",
   "metadata": {},
   "outputs": [],
   "source": [
    "class PurgedKFold(KFold):\n",
    "    #Extend KFold class to work with labels that span intervals\n",
    "    #The train is purged of observations overlapping test-label intervals\n",
    "    #Test set is assumed contiguous (shuffle=False), w/o training samples in between \n",
    "    def __init__(self,n_splits=3,t1=None,pctEmbargo=0.):\n",
    "        if not isinstance(t1,pd.Series):\n",
    "            raise ValueError('Label Through Dates must be a pd.Series')\n",
    "        super(PurgedKFold,self).__init__(n_splits,shuffle=False,random_state=None) \n",
    "        self.t1=t1\n",
    "        self.pctEmbargo=pctEmbargo\n",
    "    def split(self,X,y=None,groups=None):\n",
    "        if (X.index==self.t1.index).sum()!=len(self.t1):\n",
    "            raise ValueError('X and ThruDateValues must have the same index') \n",
    "        indices=np.arange(X.shape[0])\n",
    "        mbrg=int(X.shape[0]*self.pctEmbargo)\n",
    "        test_starts=[(i[0],i[-1]+1) for i in \\\n",
    "            np.array_split(np.arange(X.shape[0]),self.n_splits)] \n",
    "        for i,j in test_starts:\n",
    "            t0=self.t1.index[i] # start of test set\n",
    "            test_indices=indices[i:j] \n",
    "            maxT1Idx=self.t1.index.searchsorted(self.t1[test_indices].max()) \n",
    "            train_indices=self.t1.index.searchsorted(self.t1[self.t1<=t0].index) \n",
    "            if maxT1Idx<X.shape[0]: # right train (with embargo)\n",
    "                train_indices=np.concatenate((train_indices,indices[maxT1Idx+mbrg:])) \n",
    "            yield train_indices,test_indices"
   ]
  },
  {
   "cell_type": "code",
   "execution_count": 18,
   "id": "16ca31eb-908e-44c2-b844-c46ca0471230",
   "metadata": {},
   "outputs": [],
   "source": [
    "def test_data_func(X, cont, run='', allow_masking_effects=False, methods=['MDI', 'MDA', 'SFI']):\n",
    "    for method in methods:\n",
    "        feature_imp, oob_score, oos_score = featImportance(X, cont, cv=5, method=method)\n",
    "        plotFeatImportance(\"pathout\",feature_imp,oob_score,oos_score, method=method)\n",
    "\n",
    "\n",
    "def featImportance(trnsX,cont,n_estimators=1000,cv=10,max_samples=1.,numThreads=24, pctEmbargo=0,scoring='accuracy',method='SFI',minWLeaf=0.,**kargs):\n",
    "    '''feature importance from a random forest'''\n",
    "    n_jobs=(-1 if numThreads>1 else 1) # run 1 thread with ht_helper in dirac1 \n",
    "    #1) prepare classifier,cv. max_features=1, to prevent masking \n",
    "    clf=DecisionTreeClassifier(criterion='entropy',max_features=1,class_weight='balanced',min_weight_fraction_leaf=minWLeaf) \n",
    "    clf=BaggingClassifier(base_estimator=clf,n_estimators=n_estimators,max_features=1.,max_samples=max_samples,oob_score=True,n_jobs=n_jobs) \n",
    "    fit=clf.fit(X=trnsX,y=cont['target'],sample_weight=cont['wd'].values) \n",
    "    oob=fit.oob_score_\n",
    "    if method=='MDI':\n",
    "        imp=featImpMDI(fit,featNames=trnsX.columns) \n",
    "        oos=cvScore(clf,X=trnsX,y=cont['target'],cv=cv,sample_weight=cont['wd'],\n",
    "                    t1=cont['t1'],pctEmbargo=pctEmbargo,scoring=scoring).mean() \n",
    "    elif method=='MDA':\n",
    "        imp,oos=featImpMDA(clf,X=trnsX,y=cont['target'],cv=cv,sample_weight=cont['wd'], \n",
    "                           t1=cont['t1'],pctEmbargo=pctEmbargo,scoring=scoring)\n",
    "    elif method=='SFI': \n",
    "        cvGen=PurgedKFold(n_splits=cv,t1=cont['t1'],pctEmbargo=pctEmbargo) \n",
    "        oos=cvScore(clf,X=trnsX,y=cont['target'],sample_weight=cont['wd'],scoring=scoring,\n",
    "                    cvGen=cvGen).mean()\n",
    "        clf.n_jobs=1 # paralellize auxFeatImpSFI rather than clf \n",
    "        imp=mpPandasObj(auxFeatImpSFI,('featNames',trnsX.columns),numThreads,\n",
    "                        clf=clf,trnsX=trnsX,cont=cont,scoring=scoring,cvGen=cvGen) \n",
    "    return imp,oob,oos\n",
    "\n",
    "def plotFeatImportance(pathOut,imp,oob,oos,method,tag=0,simNum=0,**kargs): \n",
    "    '''plot mean imp bars with std'''\n",
    "    plt.figure(figsize=(10,imp.shape[0]/5.)) \n",
    "    imp=imp.sort_values('mean',ascending=True) \n",
    "    ax=imp['mean'].plot(kind='barh',color='b',alpha=.25,xerr=imp['std'],error_kw={'ecolor':'r'})\n",
    "    if method=='MDI':\n",
    "        plt.xlim([0,imp.sum(axis=1).max()]) \n",
    "        plt.axvline(1./imp.shape[0],linewidth=1,color='r',linestyle='dotted')\n",
    "    ax.get_yaxis().set_visible(False)\n",
    "    for i,j in zip(ax.patches,imp.index):\n",
    "        ax.text(i.get_width()/2, i.get_y()+i.get_height()/2,j,ha='center',va='center',\n",
    "                color='black')\n",
    "    plt.title('tag='+str(tag)+' | simNum='+str(simNum)+' | oob='+str(round(oob,4))+\n",
    "    ' | oos='+str(round(oos,4))) \n",
    "#     plt.savefig(pathOut+'featImportance_'+str(simNum)+'.png',dpi=100) \n",
    "#     plt.clf();plt.close()\n",
    "    plt.show()\n",
    "    return\n",
    "\n",
    "def featImpMDI(fit,featNames):\n",
    "    # feat importance based on IS mean impurity reduction\n",
    "    df0={i:tree.feature_importances_ for i,tree in enumerate(fit.estimators_)} \n",
    "    df0=pd.DataFrame.from_dict(df0,orient='index')\n",
    "    df0.columns=featNames\n",
    "    df0=df0.replace(0,np.nan) # because max_features=1\n",
    "    imp=pd.concat({'mean':df0.mean(),'std':df0.std()*df0.shape[0]**-.5},axis=1) \n",
    "    imp/=imp['mean'].sum()\n",
    "    return imp\n",
    "\n",
    "def featImpMDA(clf,X,y,cv,sample_weight,t1,pctEmbargo,scoring='neg_log_loss'): \n",
    "    '''    \n",
    "    feat importance based on OOS score reduction\n",
    "    '''    \n",
    "    if scoring not in ['neg_log_loss','accuracy']:\n",
    "        raise Exception('wrong scoring method.')\n",
    "    \n",
    "    cvGen=PurgedKFold(n_splits=cv,t1=t1,pctEmbargo=pctEmbargo) # purged cv \n",
    "    scr0,scr1=pd.Series(),pd.DataFrame(columns=X.columns)\n",
    "\n",
    "    for i,(train,test) in enumerate(cvGen.split(X=X)): \n",
    "        X0,y0,w0=X.iloc[train,:],y.iloc[train],sample_weight.iloc[train] \n",
    "        X1,y1,w1=X.iloc[test,:],y.iloc[test],sample_weight.iloc[test] \n",
    "        fit=clf.fit(X=X0,y=y0,sample_weight=w0.values)\n",
    "        if scoring=='neg_log_loss':\n",
    "            prob=fit.predict_proba(X1) \n",
    "            scr0.loc[i]=-log_loss(y1,prob,sample_weight=w1.values,labels=clf.classes_)\n",
    "        else:\n",
    "            pred=fit.predict(X1) \n",
    "            scr0.loc[i]=accuracy_score(y1,pred,sample_weight=w1.values)\n",
    "        for j in X.columns:\n",
    "            X1_=X1.copy(deep=True)\n",
    "            np.random.shuffle(X1_[j].values) # permutation of a single column \n",
    "            if scoring=='neg_log_loss':\n",
    "                prob=fit.predict_proba(X1_) \n",
    "                scr1.loc[i,j]=-log_loss(y1,prob,sample_weight=w1.values,labels=clf.classes_)\n",
    "            else:\n",
    "                pred=fit.predict(X1_) \n",
    "                scr1.loc[i,j]=accuracy_score(y1,pred,sample_weight=w1.values)\n",
    "    imp=(-scr1).add(scr0,axis=0)\n",
    "    if scoring=='neg_log_loss':\n",
    "        imp=imp/-scr1\n",
    "    else:\n",
    "        imp=imp/(1.-scr1) \n",
    "    imp=pd.concat({'mean':imp.mean(),'std':imp.std()*imp.shape[0]**-.5},axis=1) \n",
    "    return imp,scr0.mean()\n",
    "\n",
    "def auxFeatImpSFI(featNames,clf,trnsX,cont,scoring,cvGen): \n",
    "    imp=pd.DataFrame(columns=['mean','std'])\n",
    "    for featName in featNames:\n",
    "        df0=cvScore(clf,X=trnsX[[featName]],y=cont['target'],sample_weight=cont['wd'], scoring=scoring,cvGen=cvGen)\n",
    "        imp.loc[featName,'mean']=df0.mean()\n",
    "        imp.loc[featName,'std']=df0.std()*df0.shape[0]**-.5 \n",
    "    return imp\n",
    "\n",
    "def cvScore(clf,X,y,sample_weight,scoring='neg_log_loss',t1=None,cv=None,cvGen=None, pctEmbargo=None):\n",
    "    if scoring not in ['neg_log_loss','accuracy']: \n",
    "        raise Exception('wrong scoring method.')\n",
    "    if cvGen is None:\n",
    "        cvGen=PurgedKFold(n_splits=cv,t1=t1,pctEmbargo=pctEmbargo) # purged \n",
    "    score=[]\n",
    "    for train,test in cvGen.split(X=X): \n",
    "        fit=clf.fit(X=X.iloc[train,:],y=y.iloc[train],sample_weight=sample_weight.iloc[train].values) \n",
    "        if scoring=='neg_log_loss':\n",
    "            prob=fit.predict_proba(X.iloc[test,:]) \n",
    "            score_=-log_loss(y.iloc[test],prob, sample_weight=sample_weight.iloc[test].values,labels=clf.classes_)\n",
    "        else:\n",
    "            pred=fit.predict(X.iloc[test,:]) \n",
    "            score_=accuracy_score(y.iloc[test],pred,sample_weight= \\\n",
    "                sample_weight.iloc[test].values) \n",
    "            score.append(score_)\n",
    "    return np.array(score)\n",
    "\n",
    "def get_eVec(dot,varThres):\n",
    "    '''compute eVec from dot prod matrix, reduce dimension'''\n",
    "    eVal,eVec=np.linalg.eigh(dot)\n",
    "    idx=eVal.argsort()[::-1] # arguments for sorting eVal desc \n",
    "    eVal,eVec=eVal[idx],eVec[:,idx]\n",
    "    #2) only positive eVals\n",
    "    eVal=pd.Series(eVal,index=['PC_'+str(i+1) for i in range(eVal.shape[0])]) \n",
    "    eVec=pd.DataFrame(eVec,index=dot.index,columns=eVal.index) \n",
    "    eVec=eVec.loc[:,eVal.index]\n",
    "    #3) reduce dimension, form PCs\n",
    "    cumVar=eVal.cumsum()/eVal.sum()\n",
    "    dim=cumVar.values.searchsorted(varThres) \n",
    "    eVal,eVec=eVal.iloc[:dim+1],eVec.iloc[:,:dim+1]\n",
    "    return eVal,eVec\n",
    "\n",
    "def orthoFeats(dfX,varThres=.95):\n",
    "    '''Given a dataframe dfX of features, compute orthofeatures dfP '''\n",
    "    dfZ=dfX.sub(dfX.mean(),axis=1).div(dfX.std(),axis=1) # standardize \n",
    "    dot=pd.DataFrame(np.dot(dfZ.T,dfZ),index=dfX.columns,columns=dfX.columns) \n",
    "    eVal,eVec=get_eVec(dot,varThres)\n",
    "    dfP=np.dot(dfZ,eVec) \n",
    "    return dfP\n"
   ]
  },
  {
   "cell_type": "markdown",
   "id": "59df9985-28bc-4b68-ae03-ab429ca8cc64",
   "metadata": {},
   "source": [
    "## Apply PCA transformation on X"
   ]
  },
  {
   "cell_type": "code",
   "execution_count": 19,
   "id": "8a82fd34-11ef-483f-acff-be0f4cd0faf1",
   "metadata": {},
   "outputs": [
    {
     "data": {
      "text/html": [
       "<div>\n",
       "<style scoped>\n",
       "    .dataframe tbody tr th:only-of-type {\n",
       "        vertical-align: middle;\n",
       "    }\n",
       "\n",
       "    .dataframe tbody tr th {\n",
       "        vertical-align: top;\n",
       "    }\n",
       "\n",
       "    .dataframe thead th {\n",
       "        text-align: right;\n",
       "    }\n",
       "</style>\n",
       "<table border=\"1\" class=\"dataframe\">\n",
       "  <thead>\n",
       "    <tr style=\"text-align: right;\">\n",
       "      <th></th>\n",
       "      <th>PCA_0</th>\n",
       "      <th>PCA_1</th>\n",
       "      <th>PCA_2</th>\n",
       "      <th>PCA_3</th>\n",
       "      <th>PCA_4</th>\n",
       "      <th>PCA_5</th>\n",
       "      <th>PCA_6</th>\n",
       "      <th>PCA_7</th>\n",
       "      <th>PCA_8</th>\n",
       "      <th>PCA_9</th>\n",
       "    </tr>\n",
       "  </thead>\n",
       "  <tbody>\n",
       "    <tr>\n",
       "      <th>2018-01-26 15:15:21.014</th>\n",
       "      <td>1.021136</td>\n",
       "      <td>-1.462073</td>\n",
       "      <td>-0.270671</td>\n",
       "      <td>1.624412</td>\n",
       "      <td>-1.952057</td>\n",
       "      <td>-1.643686</td>\n",
       "      <td>2.007903</td>\n",
       "      <td>0.184519</td>\n",
       "      <td>0.213152</td>\n",
       "      <td>0.957285</td>\n",
       "    </tr>\n",
       "    <tr>\n",
       "      <th>2018-01-28 05:00:56.708</th>\n",
       "      <td>4.477562</td>\n",
       "      <td>-0.430619</td>\n",
       "      <td>0.645794</td>\n",
       "      <td>-1.676792</td>\n",
       "      <td>0.101804</td>\n",
       "      <td>0.977181</td>\n",
       "      <td>-0.376530</td>\n",
       "      <td>-0.178444</td>\n",
       "      <td>0.176359</td>\n",
       "      <td>-0.222517</td>\n",
       "    </tr>\n",
       "    <tr>\n",
       "      <th>2018-01-28 05:00:56.708</th>\n",
       "      <td>4.478599</td>\n",
       "      <td>-0.430658</td>\n",
       "      <td>0.698696</td>\n",
       "      <td>-1.286294</td>\n",
       "      <td>0.089041</td>\n",
       "      <td>0.986289</td>\n",
       "      <td>-0.370069</td>\n",
       "      <td>-0.156197</td>\n",
       "      <td>0.185511</td>\n",
       "      <td>-0.230541</td>\n",
       "    </tr>\n",
       "    <tr>\n",
       "      <th>2018-01-29 11:52:47.078</th>\n",
       "      <td>-2.288525</td>\n",
       "      <td>1.547511</td>\n",
       "      <td>0.886187</td>\n",
       "      <td>-1.086563</td>\n",
       "      <td>-0.194000</td>\n",
       "      <td>-0.729694</td>\n",
       "      <td>-0.508070</td>\n",
       "      <td>0.057252</td>\n",
       "      <td>0.391720</td>\n",
       "      <td>1.500875</td>\n",
       "    </tr>\n",
       "    <tr>\n",
       "      <th>2018-01-29 11:52:47.078</th>\n",
       "      <td>-2.283768</td>\n",
       "      <td>1.547332</td>\n",
       "      <td>1.128909</td>\n",
       "      <td>0.705099</td>\n",
       "      <td>-0.252558</td>\n",
       "      <td>-0.687905</td>\n",
       "      <td>-0.478428</td>\n",
       "      <td>0.159322</td>\n",
       "      <td>0.433710</td>\n",
       "      <td>1.464057</td>\n",
       "    </tr>\n",
       "  </tbody>\n",
       "</table>\n",
       "</div>"
      ],
      "text/plain": [
       "                            PCA_0     PCA_1     PCA_2     PCA_3     PCA_4  \\\n",
       "2018-01-26 15:15:21.014  1.021136 -1.462073 -0.270671  1.624412 -1.952057   \n",
       "2018-01-28 05:00:56.708  4.477562 -0.430619  0.645794 -1.676792  0.101804   \n",
       "2018-01-28 05:00:56.708  4.478599 -0.430658  0.698696 -1.286294  0.089041   \n",
       "2018-01-29 11:52:47.078 -2.288525  1.547511  0.886187 -1.086563 -0.194000   \n",
       "2018-01-29 11:52:47.078 -2.283768  1.547332  1.128909  0.705099 -0.252558   \n",
       "\n",
       "                            PCA_5     PCA_6     PCA_7     PCA_8     PCA_9  \n",
       "2018-01-26 15:15:21.014 -1.643686  2.007903  0.184519  0.213152  0.957285  \n",
       "2018-01-28 05:00:56.708  0.977181 -0.376530 -0.178444  0.176359 -0.222517  \n",
       "2018-01-28 05:00:56.708  0.986289 -0.370069 -0.156197  0.185511 -0.230541  \n",
       "2018-01-29 11:52:47.078 -0.729694 -0.508070  0.057252  0.391720  1.500875  \n",
       "2018-01-29 11:52:47.078 -0.687905 -0.478428  0.159322  0.433710  1.464057  "
      ]
     },
     "execution_count": 19,
     "metadata": {},
     "output_type": "execute_result"
    }
   ],
   "source": [
    "Xdot = pd.DataFrame(orthoFeats(X), index=X.index).add_prefix(\"PCA_\")\n",
    "Xdot.head()"
   ]
  },
  {
   "cell_type": "code",
   "execution_count": 20,
   "id": "cd2065be-60bb-49bb-9d4e-a00a5aec7102",
   "metadata": {},
   "outputs": [
    {
     "data": {
      "image/png": "[encoded data removed]",
      "text/plain": [
       "<Figure size 720x144 with 1 Axes>"
      ]
     },
     "metadata": {
      "needs_background": "light"
     },
     "output_type": "display_data"
    }
   ],
   "source": [
    "test_data_func(Xdot, cont, methods=['MDI'])"
   ]
  },
  {
   "cell_type": "markdown",
   "id": "2e8cfed7-f0d8-450d-9f7d-61b0919c71e3",
   "metadata": {},
   "source": [
    "## Base dataframe"
   ]
  },
  {
   "cell_type": "code",
   "execution_count": 21,
   "id": "03f2e59f-8589-4375-ac20-9027653c63df",
   "metadata": {},
   "outputs": [
    {
     "data": {
      "image/png": "[encoded data removed]",
      "text/plain": [
       "<Figure size 720x288 with 1 Axes>"
      ]
     },
     "metadata": {
      "needs_background": "light"
     },
     "output_type": "display_data"
    }
   ],
   "source": [
    "test_data_func(X, cont, methods=[\"MDI\"])"
   ]
  },
  {
   "cell_type": "markdown",
   "id": "a846bb2f-fd83-4de3-b780-73796d4c7b22",
   "metadata": {},
   "source": [
    "## Combined dataframe"
   ]
  },
  {
   "cell_type": "code",
   "execution_count": 22,
   "id": "3c427a27-4946-4d45-88e6-833edb3d0502",
   "metadata": {},
   "outputs": [
    {
     "data": {
      "text/plain": [
       "Index(['i0', 'i1', 'i2', 'i3', 'i4', 'i5', 'i6', 'i7', 'i8', 'i9', 'i10',\n",
       "       'i11', 'i12', 'i13', 'i14', 'i15', 'i16', 'side', 'sc', 'random',\n",
       "       'PCA_0', 'PCA_1', 'PCA_2', 'PCA_3', 'PCA_4', 'PCA_5', 'PCA_6', 'PCA_7',\n",
       "       'PCA_8', 'PCA_9'],\n",
       "      dtype='object')"
      ]
     },
     "execution_count": 22,
     "metadata": {},
     "output_type": "execute_result"
    }
   ],
   "source": [
    "Xdotdot = pd.concat([X, Xdot], axis=1)\n",
    "Xdotdot.columns"
   ]
  },
  {
   "cell_type": "code",
   "execution_count": 23,
   "id": "cedfc320-17db-4f98-97d3-fdc551a8cbb4",
   "metadata": {},
   "outputs": [
    {
     "data": {
      "image/png": "[encoded data removed]",
      "text/plain": [
       "<Figure size 720x432 with 1 Axes>"
      ]
     },
     "metadata": {
      "needs_background": "light"
     },
     "output_type": "display_data"
    }
   ],
   "source": [
    "test_data_func(Xdotdot, cont, methods=[\"MDI\"])"
   ]
  },
  {
   "cell_type": "markdown",
   "id": "71d4a4e5-0120-484e-8c58-4c55bc4d3041",
   "metadata": {},
   "source": [
    "## Tau"
   ]
  },
  {
   "cell_type": "code",
   "execution_count": 24,
   "id": "1d206781-b923-4898-bdd5-b3d7ea62de75",
   "metadata": {},
   "outputs": [],
   "source": [
    "feature_imp, oob_score, oos_score = featImportance(Xdot, cont, cv=5, method='MDI')"
   ]
  },
  {
   "cell_type": "code",
   "execution_count": 25,
   "id": "90196ed5-88ae-4c86-ae3d-00c8f08888c0",
   "metadata": {},
   "outputs": [
    {
     "data": {
      "text/html": [
       "<div>\n",
       "<style scoped>\n",
       "    .dataframe tbody tr th:only-of-type {\n",
       "        vertical-align: middle;\n",
       "    }\n",
       "\n",
       "    .dataframe tbody tr th {\n",
       "        vertical-align: top;\n",
       "    }\n",
       "\n",
       "    .dataframe thead th {\n",
       "        text-align: right;\n",
       "    }\n",
       "</style>\n",
       "<table border=\"1\" class=\"dataframe\">\n",
       "  <thead>\n",
       "    <tr style=\"text-align: right;\">\n",
       "      <th></th>\n",
       "      <th>mean</th>\n",
       "      <th>std</th>\n",
       "    </tr>\n",
       "  </thead>\n",
       "  <tbody>\n",
       "    <tr>\n",
       "      <th>PCA_0</th>\n",
       "      <td>0.103104</td>\n",
       "      <td>0.000530</td>\n",
       "    </tr>\n",
       "    <tr>\n",
       "      <th>PCA_1</th>\n",
       "      <td>0.106157</td>\n",
       "      <td>0.000568</td>\n",
       "    </tr>\n",
       "    <tr>\n",
       "      <th>PCA_2</th>\n",
       "      <td>0.097444</td>\n",
       "      <td>0.000490</td>\n",
       "    </tr>\n",
       "    <tr>\n",
       "      <th>PCA_3</th>\n",
       "      <td>0.087302</td>\n",
       "      <td>0.000457</td>\n",
       "    </tr>\n",
       "    <tr>\n",
       "      <th>PCA_4</th>\n",
       "      <td>0.101358</td>\n",
       "      <td>0.000517</td>\n",
       "    </tr>\n",
       "    <tr>\n",
       "      <th>PCA_5</th>\n",
       "      <td>0.101373</td>\n",
       "      <td>0.000534</td>\n",
       "    </tr>\n",
       "    <tr>\n",
       "      <th>PCA_6</th>\n",
       "      <td>0.105046</td>\n",
       "      <td>0.000539</td>\n",
       "    </tr>\n",
       "    <tr>\n",
       "      <th>PCA_7</th>\n",
       "      <td>0.095963</td>\n",
       "      <td>0.000495</td>\n",
       "    </tr>\n",
       "    <tr>\n",
       "      <th>PCA_8</th>\n",
       "      <td>0.100891</td>\n",
       "      <td>0.000510</td>\n",
       "    </tr>\n",
       "    <tr>\n",
       "      <th>PCA_9</th>\n",
       "      <td>0.101362</td>\n",
       "      <td>0.000497</td>\n",
       "    </tr>\n",
       "  </tbody>\n",
       "</table>\n",
       "</div>"
      ],
      "text/plain": [
       "           mean       std\n",
       "PCA_0  0.103104  0.000530\n",
       "PCA_1  0.106157  0.000568\n",
       "PCA_2  0.097444  0.000490\n",
       "PCA_3  0.087302  0.000457\n",
       "PCA_4  0.101358  0.000517\n",
       "PCA_5  0.101373  0.000534\n",
       "PCA_6  0.105046  0.000539\n",
       "PCA_7  0.095963  0.000495\n",
       "PCA_8  0.100891  0.000510\n",
       "PCA_9  0.101362  0.000497"
      ]
     },
     "execution_count": 25,
     "metadata": {},
     "output_type": "execute_result"
    }
   ],
   "source": [
    "feature_imp"
   ]
  },
  {
   "cell_type": "code",
   "execution_count": 26,
   "id": "e4ff8569-471e-4546-b970-011dba0b1acc",
   "metadata": {},
   "outputs": [
    {
     "data": {
      "text/plain": [
       "0.2983185054720078"
      ]
     },
     "execution_count": 26,
     "metadata": {},
     "output_type": "execute_result"
    }
   ],
   "source": [
    "featImp=np.array(feature_imp[\"mean\"]) # feature importance \n",
    "pcRank=np.arange(1, len(feature_imp)+1) # PCA rank\n",
    "weightedtau(featImp,pcRank**-1.)[0]"
   ]
  },
  {
   "cell_type": "code",
   "execution_count": null,
   "id": "ef4746ea-23d8-4ff5-8425-6545913cc0fe",
   "metadata": {},
   "outputs": [],
   "source": []
  }
 ],
 "metadata": {
  "kernelspec": {
   "display_name": "Python 3",
   "language": "python",
   "name": "python3"
  },
  "language_info": {
   "codemirror_mode": {
    "name": "ipython",
    "version": 3
   },
   "file_extension": ".py",
   "mimetype": "text/x-python",
   "name": "python",
   "nbconvert_exporter": "python",
   "pygments_lexer": "ipython3",
   "version": "3.9.4"
  }
 },
 "nbformat": 4,
 "nbformat_minor": 5
}
