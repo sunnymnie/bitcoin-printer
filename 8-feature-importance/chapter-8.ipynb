{
 "cells": [
  {
   "cell_type": "markdown",
   "id": "a46ed3f6-01e2-499c-a7ed-01f2bc0375c9",
   "metadata": {},
   "source": [
    "# Snippets and Exercises\n",
    "With help from: \n",
    "https://github.com/dodafin/advances-in-financial-ml-notes/blob/master/Chapter%2008%20-%20Feature%20Importance.ipynb"
   ]
  },
  {
   "cell_type": "code",
   "execution_count": 1,
   "id": "3f064e24-0493-42ba-9143-c99ccdc1de66",
   "metadata": {},
   "outputs": [],
   "source": [
    "import numpy as np\n",
    "import pandas as pd\n",
    "import matplotlib.pyplot as plt\n",
    "import matplotlib as mpl"
   ]
  },
  {
   "cell_type": "code",
   "execution_count": null,
   "id": "497865e3-1509-48f8-b93f-1f64fd8aba3d",
   "metadata": {},
   "outputs": [],
   "source": []
  },
  {
   "cell_type": "markdown",
   "id": "3228b12c-c549-42a5-bd0c-beb3a1992421",
   "metadata": {},
   "source": [
    "### SNIPPET 7.3 CROSS-VALIDATION CLASS WHEN OBSERVATIONS OVERLAP"
   ]
  },
  {
   "cell_type": "code",
   "execution_count": 2,
   "id": "5be2583b-2281-4185-9b6c-883921af4555",
   "metadata": {},
   "outputs": [],
   "source": [
    "from sklearn.model_selection import KFold\n",
    "class PurgedKFold(KFold):\n",
    "    #Extend KFold class to work with labels that span intervals\n",
    "    #The train is purged of observations overlapping test-label intervals\n",
    "    #Test set is assumed contiguous (shuffle=False), w/o training samples in between \n",
    "    def __init__(self,n_splits=3,t1=None,pctEmbargo=0.):\n",
    "        if not isinstance(t1,pd.Series):\n",
    "            raise ValueError('Label Through Dates must be a pd.Series')\n",
    "        super(PurgedKFold,self).__init__(n_splits,shuffle=False,random_state=None) \n",
    "        self.t1=t1\n",
    "        self.pctEmbargo=pctEmbargo\n",
    "    def split(self,X,y=None,groups=None):\n",
    "        if (X.index==self.t1.index).sum()!=len(self.t1):\n",
    "            raise ValueError('X and ThruDateValues must have the same index') \n",
    "        indices=np.arange(X.shape[0])\n",
    "        mbrg=int(X.shape[0]*self.pctEmbargo)\n",
    "        test_starts=[(i[0],i[-1]+1) for i in \\\n",
    "            np.array_split(np.arange(X.shape[0]),self.n_splits)] \n",
    "        for i,j in test_starts:\n",
    "            t0=self.t1.index[i] # start of test set\n",
    "            test_indices=indices[i:j] \n",
    "            maxT1Idx=self.t1.index.searchsorted(self.t1[test_indices].max()) \n",
    "            train_indices=self.t1.index.searchsorted(self.t1[self.t1<=t0].index) \n",
    "            if maxT1Idx<X.shape[0]: # right train (with embargo)\n",
    "                train_indices=np.concatenate((train_indices,indices[maxT1Idx+mbrg:])) \n",
    "            yield train_indices,test_indices"
   ]
  },
  {
   "cell_type": "markdown",
   "id": "2c733985-2120-4029-a8ec-b12114514e95",
   "metadata": {},
   "source": [
    "### SNIPPET 7.4 USING THE PurgedKFold CLASS"
   ]
  },
  {
   "cell_type": "code",
   "execution_count": 3,
   "id": "aac31df2-e089-4eed-a481-b20d9608540c",
   "metadata": {},
   "outputs": [],
   "source": [
    "from sklearn.metrics import log_loss,accuracy_score \n",
    "# from clfSequential import PurgedKFold\n",
    "    \n",
    "def cvScore(clf,X,y,sample_weight,scoring='neg_log_loss',t1=None,cv=None,cvGen=None, pctEmbargo=None):\n",
    "    if scoring not in ['neg_log_loss','accuracy']: \n",
    "        raise Exception('wrong scoring method.')\n",
    "    if cvGen is None:\n",
    "        cvGen=PurgedKFold(n_splits=cv,t1=t1,pctEmbargo=pctEmbargo) # purged \n",
    "    score=[]\n",
    "    for train,test in cvGen.split(X=X): \n",
    "        fit=clf.fit(X=X.iloc[train,:],y=y.iloc[train],sample_weight=sample_weight.iloc[train].values) \n",
    "        if scoring=='neg_log_loss':\n",
    "            prob=fit.predict_proba(X.iloc[test,:]) \n",
    "            score_=-log_loss(y.iloc[test],prob, sample_weight=sample_weight.iloc[test].values,labels=clf.classes_)\n",
    "        else:\n",
    "            pred=fit.predict(X.iloc[test,:]) \n",
    "            score_=accuracy_score(y.iloc[test],pred,sample_weight= \\\n",
    "                sample_weight.iloc[test].values) \n",
    "            score.append(score_)\n",
    "    return np.array(score)"
   ]
  },
  {
   "cell_type": "markdown",
   "id": "1d144d02-5a45-4dd2-84b4-cdabd4b65bb2",
   "metadata": {},
   "source": [
    "### SNIPPET 8.2 MDI FEATURE IMPORTANCE"
   ]
  },
  {
   "cell_type": "code",
   "execution_count": 4,
   "id": "4222b0af-18dd-4808-ba88-b55f50066618",
   "metadata": {
    "tags": []
   },
   "outputs": [],
   "source": [
    "def featImpMDI(fit,featNames):\n",
    "    # feat importance based on IS mean impurity reduction\n",
    "    df0={i:tree.feature_importances_ for i,tree in enumerate(fit.estimators_)} \n",
    "    df0=pd.DataFrame.from_dict(df0,orient='index')\n",
    "    df0.columns=featNames\n",
    "    df0=df0.replace(0,np.nan) # because max_features=1\n",
    "    imp=pd.concat({'mean':df0.mean(),'std':df0.std()*df0.shape[0]**-.5},axis=1) \n",
    "    imp/=imp['mean'].sum()\n",
    "    return imp"
   ]
  },
  {
   "cell_type": "markdown",
   "id": "36949af8-e7e1-4541-ae27-8f01a7d382d2",
   "metadata": {},
   "source": [
    "### SNIPPET 8.3 MDA FEATURE IMPORTANCE"
   ]
  },
  {
   "cell_type": "code",
   "execution_count": 5,
   "id": "7dd1ffbe-5564-44c4-a819-f53810b51f1b",
   "metadata": {
    "tags": []
   },
   "outputs": [],
   "source": [
    "from sklearn.metrics import log_loss,accuracy_score \n",
    "\n",
    "def featImpMDA(clf,X,y,cv,sample_weight,t1,pctEmbargo,scoring='neg_log_loss'): \n",
    "    '''    \n",
    "    feat importance based on OOS score reduction\n",
    "    '''    \n",
    "    if scoring not in ['neg_log_loss','accuracy']:\n",
    "        raise Exception('wrong scoring method.')\n",
    "    \n",
    "    cvGen=PurgedKFold(n_splits=cv,t1=t1,pctEmbargo=pctEmbargo) # purged cv \n",
    "    scr0,scr1=pd.Series(),pd.DataFrame(columns=X.columns)\n",
    "\n",
    "    for i,(train,test) in enumerate(cvGen.split(X=X)): \n",
    "        X0,y0,w0=X.iloc[train,:],y.iloc[train],sample_weight.iloc[train] \n",
    "        X1,y1,w1=X.iloc[test,:],y.iloc[test],sample_weight.iloc[test] \n",
    "        fit=clf.fit(X=X0,y=y0,sample_weight=w0.values)\n",
    "        if scoring=='neg_log_loss':\n",
    "            prob=fit.predict_proba(X1) \n",
    "            scr0.loc[i]=-log_loss(y1,prob,sample_weight=w1.values,labels=clf.classes_)\n",
    "        else:\n",
    "            pred=fit.predict(X1) \n",
    "            scr0.loc[i]=accuracy_score(y1,pred,sample_weight=w1.values)\n",
    "        for j in X.columns:\n",
    "            X1_=X1.copy(deep=True)\n",
    "            np.random.shuffle(X1_[j].values) # permutation of a single column \n",
    "            if scoring=='neg_log_loss':\n",
    "                prob=fit.predict_proba(X1_) \n",
    "                scr1.loc[i,j]=-log_loss(y1,prob,sample_weight=w1.values,labels=clf.classes_)\n",
    "            else:\n",
    "                pred=fit.predict(X1_) \n",
    "                scr1.loc[i,j]=accuracy_score(y1,pred,sample_weight=w1.values)\n",
    "    imp=(-scr1).add(scr0,axis=0)\n",
    "    if scoring=='neg_log_loss':\n",
    "        imp=imp/-scr1\n",
    "    else:\n",
    "        imp=imp/(1.-scr1) \n",
    "    imp=pd.concat({'mean':imp.mean(),'std':imp.std()*imp.shape[0]**-.5},axis=1) \n",
    "    return imp,scr0.mean()"
   ]
  },
  {
   "cell_type": "markdown",
   "id": "05f00bfe-fe86-4267-b945-6e9df33b7475",
   "metadata": {},
   "source": [
    "### SNIPPET 8.4 IMPLEMENTATION OF SFI"
   ]
  },
  {
   "cell_type": "code",
   "execution_count": 6,
   "id": "b8a909a6-85f3-4941-ac53-6cd72d900508",
   "metadata": {
    "tags": []
   },
   "outputs": [],
   "source": [
    "def auxFeatImpSFI(featNames,clf,trnsX,cont,scoring,cvGen): \n",
    "    imp=pd.DataFrame(columns=['mean','std'])\n",
    "    for featName in featNames:\n",
    "        df0=cvScore(clf,X=trnsX[[featName]],y=cont['bin'],sample_weight=cont['w'], scoring=scoring,cvGen=cvGen)\n",
    "        imp.loc[featName,'mean']=df0.mean()\n",
    "        imp.loc[featName,'std']=df0.std()*df0.shape[0]**-.5 \n",
    "    return imp"
   ]
  },
  {
   "cell_type": "markdown",
   "id": "a67cbff6-00e4-4825-b7dc-e3b405fa5758",
   "metadata": {},
   "source": [
    "### SNIPPET 8.5 COMPUTATION OF ORTHOGONAL FEATURES"
   ]
  },
  {
   "cell_type": "code",
   "execution_count": 7,
   "id": "75c21f7a-a06f-444b-8770-11dcdc492523",
   "metadata": {
    "tags": []
   },
   "outputs": [],
   "source": [
    "def get_eVec(dot,varThres):\n",
    "    '''compute eVec from dot prod matrix, reduce dimension'''\n",
    "    eVal,eVec=np.linalg.eigh(dot)\n",
    "    idx=eVal.argsort()[::-1] # arguments for sorting eVal desc \n",
    "    eVal,eVec=eVal[idx],eVec[:,idx]\n",
    "    #2) only positive eVals\n",
    "    eVal=pd.Series(eVal,index=['PC_'+str(i+1) for i in range(eVal.shape[0])]) \n",
    "    eVec=pd.DataFrame(eVec,index=dot.index,columns=eVal.index) \n",
    "    eVec=eVec.loc[:,eVal.index]\n",
    "    #3) reduce dimension, form PCs\n",
    "    cumVar=eVal.cumsum()/eVal.sum()\n",
    "    dim=cumVar.values.searchsorted(varThres) \n",
    "    eVal,eVec=eVal.iloc[:dim+1],eVec.iloc[:,:dim+1]\n",
    "    return eVal,eVec\n",
    "\n",
    "def orthoFeats(dfX,varThres=.95):\n",
    "    '''Given a dataframe dfX of features, compute orthofeatures dfP '''\n",
    "    dfZ=dfX.sub(dfX.mean(),axis=1).div(dfX.std(),axis=1) # standardize \n",
    "    dot=pd.DataFrame(np.dot(dfZ.T,dfZ),index=dfX.columns,columns=dfX.columns) \n",
    "    eVal,eVec=get_eVec(dot,varThres)\n",
    "    dfP=np.dot(dfZ,eVec) \n",
    "    return dfP"
   ]
  },
  {
   "cell_type": "markdown",
   "id": "ef8c9489-eeda-4c40-873f-f433525d7c41",
   "metadata": {},
   "source": [
    "### SNIPPET 8.6 COMPUTATION OF WEIGHTED KENDALL’S TAU BETWEEN FEATURE IMPORTANCE AND INVERSE PCA RANKING"
   ]
  },
  {
   "cell_type": "code",
   "execution_count": 8,
   "id": "24c5684a-49d7-4676-9525-58dbb49a8d42",
   "metadata": {
    "tags": []
   },
   "outputs": [
    {
     "data": {
      "text/plain": [
       "0.8133333333333331"
      ]
     },
     "execution_count": 8,
     "metadata": {},
     "output_type": "execute_result"
    }
   ],
   "source": [
    "import numpy as np\n",
    "from scipy.stats import weightedtau\n",
    "featImp=np.array([.55,.33,.07,.05]) # feature importance \n",
    "pcRank=np.array([1,2,4,3]) # PCA rank\n",
    "weightedtau(featImp,pcRank**-1.)[0]"
   ]
  },
  {
   "cell_type": "markdown",
   "id": "c27a032d-87f7-435c-babb-acc3ffb7f719",
   "metadata": {},
   "source": [
    "### SNIPPET 8.7 CREATING A SYNTHETIC DATASET"
   ]
  },
  {
   "cell_type": "code",
   "execution_count": 9,
   "id": "63cbd117-2875-407b-9113-bc677681f44b",
   "metadata": {
    "tags": []
   },
   "outputs": [],
   "source": [
    "from sklearn.datasets import make_classification \n",
    "\n",
    "def getTestData(n_features=40,n_informative=10,n_redundant=10,n_samples=10000): \n",
    "    '''generate a random dataset for a classification problem'''\n",
    "    trnsX,cont=make_classification(n_samples=n_samples,n_features=n_features,\n",
    "                                   n_informative=n_informative,n_redundant=n_redundant,random_state=0,\n",
    "                                   shuffle=False) \n",
    "    df0=pd.DatetimeIndex(periods=n_samples,freq=pd.tseries.offsets.BDay(),\n",
    "                         end=pd.datetime.today()) \n",
    "    trnsX,cont=pd.DataFrame(trnsX,index=df0),pd.Series(cont,index=df0).to_frame('bin') \n",
    "    df0=['I_'+str(i) for i in xrange(n_informative)]+['R_'+str(i) for i in xrange(n_redundant)] \n",
    "    df0+=['N_'+str(i) for i in xrange(n_features-len(df0))] \n",
    "    trnsX.columns=df0\n",
    "    cont['w']=1./cont.shape[0] \n",
    "    cont['t1']=pd.Series(cont.index,index=cont.index) \n",
    "    return trnsX,cont"
   ]
  },
  {
   "cell_type": "markdown",
   "id": "6eed3bd1-55f7-4252-80b8-8660269b0695",
   "metadata": {},
   "source": [
    "### SNIPPET 8.8 CALLING FEATURE IMPORTANCE FOR ANY METHOD"
   ]
  },
  {
   "cell_type": "code",
   "execution_count": 10,
   "id": "c82aca6d-58c0-4ad4-adea-953eacda3685",
   "metadata": {
    "tags": []
   },
   "outputs": [],
   "source": [
    "from sklearn.tree import DecisionTreeClassifier\n",
    "from sklearn.ensemble import BaggingClassifier\n",
    "import sys\n",
    "sys.path.insert(0, '..')\n",
    "from multiprocess import mp_pandas_obj as mpPandasObj\n",
    "\n",
    "def featImportance(trnsX,cont,n_estimators=1000,cv=10,max_samples=1.,numThreads=24, pctEmbargo=0,scoring='accuracy',method='SFI',minWLeaf=0.,**kargs):\n",
    "    '''feature importance from a random forest'''\n",
    "    n_jobs=(-1 if numThreads>1 else 1) # run 1 thread with ht_helper in dirac1 \n",
    "    #1) prepare classifier,cv. max_features=1, to prevent masking \n",
    "    clf=DecisionTreeClassifier(criterion='entropy',max_features=1,class_weight='balanced',min_weight_fraction_leaf=minWLeaf) \n",
    "    clf=BaggingClassifier(base_estimator=clf,n_estimators=n_estimators,max_features=1.,max_samples=max_samples,oob_score=True,n_jobs=n_jobs) \n",
    "    fit=clf.fit(X=trnsX,y=cont['bin'],sample_weight=cont['w'].values) \n",
    "    oob=fit.oob_score_\n",
    "    if method=='MDI':\n",
    "        imp=featImpMDI(fit,featNames=trnsX.columns) \n",
    "        oos=cvScore(clf,X=trnsX,y=cont['bin'],cv=cv,sample_weight=cont['w'],\n",
    "                    t1=cont['t1'],pctEmbargo=pctEmbargo,scoring=scoring).mean() \n",
    "    elif method=='MDA':\n",
    "        imp,oos=featImpMDA(clf,X=trnsX,y=cont['bin'],cv=cv,sample_weight=cont['w'], \n",
    "                           t1=cont['t1'],pctEmbargo=pctEmbargo,scoring=scoring)\n",
    "    elif method=='SFI': \n",
    "        cvGen=PurgedKFold(n_splits=cv,t1=cont['t1'],pctEmbargo=pctEmbargo) \n",
    "        oos=cvScore(clf,X=trnsX,y=cont['bin'],sample_weight=cont['w'],scoring=scoring,\n",
    "                    cvGen=cvGen).mean()\n",
    "        clf.n_jobs=1 # paralellize auxFeatImpSFI rather than clf \n",
    "        imp=mpPandasObj(auxFeatImpSFI,('featNames',trnsX.columns),numThreads,\n",
    "                        clf=clf,trnsX=trnsX,cont=cont,scoring=scoring,cvGen=cvGen) \n",
    "    return imp,oob,oos"
   ]
  },
  {
   "cell_type": "markdown",
   "id": "6fc583b2-48b0-4eb9-98f1-a42544e226c7",
   "metadata": {},
   "source": [
    "### SNIPPET 8.9 CALLING ALL COMPONENTS"
   ]
  },
  {
   "cell_type": "code",
   "execution_count": 11,
   "id": "8445a6e4-c722-40b1-945c-506c8451c3b2",
   "metadata": {
    "tags": []
   },
   "outputs": [],
   "source": [
    "def testFunc(n_features=40,n_informative=10,n_redundant=10,n_estimators=1000, n_samples=10000,cv=10):\n",
    "    # test the performance of the feat importance functions on artificial data \n",
    "    # Nr noise features = n_features—n_informative—n_redundant \n",
    "    trnsX,cont=getTestData(n_features,n_informative,n_redundant,n_samples)\n",
    "    dict0={'minWLeaf':[0.],'scoring':['accuracy'],'method':['MDI','MDA','SFI'], 'max_samples':[1.]}\n",
    "    jobs,out=(dict(izip(dict0,i)) for i in product(*dict0.values())),[] \n",
    "    kargs={'pathOut':'./testFunc/','n_estimators':n_estimators,\n",
    "            'tag':'testFunc','cv':cv}\n",
    "    for job in jobs:\n",
    "        job['simNum']=job['method']+'_'+job['scoring']+'_'+'%.2f'%job['minWLeaf']+'_'+str(job['max_samples'])\n",
    "        print(job['simNum'])\n",
    "        kargs.update(job) \n",
    "        imp,oob,oos=featImportance(trnsX=trnsX,cont=cont,**kargs) \n",
    "        plotFeatImportance(imp=imp,oob=oob,oos=oos,**kargs) \n",
    "        df0=imp[['mean']]/imp['mean'].abs().sum() \n",
    "        df0['type']=[i[0] for i in df0.index] \n",
    "        df0=df0.groupby('type')['mean'].sum().to_dict() \n",
    "        df0.update({'oob':oob,'oos':oos});df0.update(job) \n",
    "        out.append(df0)\n",
    "    out=pd.DataFrame(out).sort_values(['method','scoring','minWLeaf','max_samples']) \n",
    "    out=out['method','scoring','minWLeaf','max_samples','I','R','N','oob','oos'] \n",
    "#     out.to_csv(kargs['pathOut']+'stats.csv')\n",
    "    return"
   ]
  },
  {
   "cell_type": "markdown",
   "id": "6c221a69-fc8f-461b-a7d8-40e68fcb2e54",
   "metadata": {},
   "source": [
    "### SNIPPET 8.10 FEATURE IMPORTANCE PLOTTING FUNCTION"
   ]
  },
  {
   "cell_type": "code",
   "execution_count": 44,
   "id": "2fcdb9b2-2614-427c-933e-be43126bb1ce",
   "metadata": {
    "tags": []
   },
   "outputs": [],
   "source": [
    "def plotFeatImportance(pathOut,imp,oob,oos,method,tag=0,simNum=0,**kargs): \n",
    "    '''plot mean imp bars with std'''\n",
    "    plt.figure(figsize=(10,imp.shape[0]/5.)) \n",
    "    imp=imp.sort_values('mean',ascending=True) \n",
    "    ax=imp['mean'].plot(kind='barh',color='b',alpha=.25,xerr=imp['std'],error_kw={'ecolor':'r'})\n",
    "    if method=='MDI':\n",
    "        plt.xlim([0,imp.sum(axis=1).max()]) \n",
    "        plt.axvline(1./imp.shape[0],linewidth=1,color='r',linestyle='dotted')\n",
    "    ax.get_yaxis().set_visible(False)\n",
    "    for i,j in zip(ax.patches,imp.index):\n",
    "        ax.text(i.get_width()/2, i.get_y()+i.get_height()/2,j,ha='center',va='center',\n",
    "                color='black')\n",
    "    plt.title('tag='+str(tag)+' | simNum='+str(simNum)+' | oob='+str(round(oob,4))+\n",
    "    ' | oos='+str(round(oos,4))) \n",
    "#     plt.savefig(pathOut+'featImportance_'+str(simNum)+'.png',dpi=100) \n",
    "#     plt.clf();plt.close()\n",
    "    plt.show()\n",
    "    return"
   ]
  },
  {
   "cell_type": "markdown",
   "id": "fe8ce858-0f72-4599-85aa-2655e7b4fbef",
   "metadata": {},
   "source": [
    "## Exercises"
   ]
  },
  {
   "cell_type": "markdown",
   "id": "2f189fbd-52d5-4e63-a651-b2610e33f117",
   "metadata": {},
   "source": [
    "## 1. Using the code presented in Section 8.6:"
   ]
  },
  {
   "cell_type": "markdown",
   "id": "98814e30-06e4-493e-ad89-627bfc654c92",
   "metadata": {},
   "source": [
    "### a) Generate a dataset (X, y)."
   ]
  },
  {
   "cell_type": "code",
   "execution_count": 51,
   "id": "81fc1b72-7afd-4c12-9c3f-5d6becab94d9",
   "metadata": {},
   "outputs": [],
   "source": [
    "from sklearn.datasets import make_classification \n",
    "from datetime import datetime\n",
    "\n",
    "def getTestData(n_features=9,n_informative=3,n_redundant=3,n_samples=1000): \n",
    "    '''generate a random dataset for a classification problem'''\n",
    "    trnsX,cont=make_classification(n_samples=n_samples,n_features=n_features,\n",
    "                                   n_informative=n_informative,n_redundant=n_redundant,random_state=0,\n",
    "                                   shuffle=False) \n",
    "    df0=pd.date_range(periods=n_samples,freq=pd.tseries.offsets.BDay(),\n",
    "                         end=datetime.today()) \n",
    "    trnsX,cont=pd.DataFrame(trnsX,index=df0),pd.Series(cont,index=df0).to_frame('bin') \n",
    "    df0=['I_'+str(i) for i in range(n_informative)]+['R_'+str(i) for i in range(n_redundant)] \n",
    "    df0+=['N_'+str(i) for i in range(n_features-len(df0))] \n",
    "    trnsX.columns=df0\n",
    "    cont['w']=1./cont.shape[0] \n",
    "    cont['t1']=pd.Series(cont.index,index=cont.index) \n",
    "    return trnsX,cont"
   ]
  },
  {
   "cell_type": "code",
   "execution_count": 69,
   "id": "7e249f3b-1719-42d8-a57c-b91387942a62",
   "metadata": {},
   "outputs": [],
   "source": [
    "X, cont = getTestData(n_samples=1000)"
   ]
  },
  {
   "cell_type": "code",
   "execution_count": 71,
   "id": "f3d46d14-4287-4b05-901d-7036a52d33ee",
   "metadata": {},
   "outputs": [],
   "source": [
    "X.to_csv(\"../data/x.csv\")"
   ]
  },
  {
   "cell_type": "code",
   "execution_count": 72,
   "id": "07108fb4-17fc-4ab6-b6b4-5f9aa7993caf",
   "metadata": {},
   "outputs": [],
   "source": [
    "cont.to_csv(\"../data/cont.csv\")"
   ]
  },
  {
   "cell_type": "markdown",
   "id": "a98d543f-3ee8-4182-9cdc-8d4146997531",
   "metadata": {},
   "source": [
    "### b) Apply a PCA transformation on X, which we denote X-dot."
   ]
  },
  {
   "cell_type": "code",
   "execution_count": 55,
   "id": "2172dbcc-51b4-457a-8f97-3c74d613db2c",
   "metadata": {
    "tags": []
   },
   "outputs": [],
   "source": [
    "def get_eVec(dot,varThres):\n",
    "    '''compute eVec from dot prod matrix, reduce dimension'''\n",
    "    eVal,eVec=np.linalg.eigh(dot)\n",
    "    idx=eVal.argsort()[::-1] # arguments for sorting eVal desc \n",
    "    eVal,eVec=eVal[idx],eVec[:,idx]\n",
    "    #2) only positive eVals\n",
    "    eVal=pd.Series(eVal,index=['PC_'+str(i+1) for i in range(eVal.shape[0])]) \n",
    "    eVec=pd.DataFrame(eVec,index=dot.index,columns=eVal.index) \n",
    "    eVec=eVec.loc[:,eVal.index]\n",
    "    #3) reduce dimension, form PCs\n",
    "    cumVar=eVal.cumsum()/eVal.sum()\n",
    "    dim=cumVar.values.searchsorted(varThres) \n",
    "    eVal,eVec=eVal.iloc[:dim+1],eVec.iloc[:,:dim+1]\n",
    "    return eVal,eVec\n",
    "\n",
    "def orthoFeats(dfX,varThres=.95):\n",
    "    '''Given a dataframe dfX of features, compute orthofeatures dfP '''\n",
    "    dfZ=dfX.sub(dfX.mean(),axis=1).div(dfX.std(),axis=1) # standardize \n",
    "    dot=pd.DataFrame(np.dot(dfZ.T,dfZ),index=dfX.columns,columns=dfX.columns) \n",
    "    eVal,eVec=get_eVec(dot,varThres)\n",
    "    dfP=np.dot(dfZ,eVec) \n",
    "    return dfP"
   ]
  },
  {
   "cell_type": "code",
   "execution_count": 56,
   "id": "aa6f1619-4f1c-4883-8ab5-06ee26e38af4",
   "metadata": {},
   "outputs": [
    {
     "data": {
      "text/html": [
       "<div>\n",
       "<style scoped>\n",
       "    .dataframe tbody tr th:only-of-type {\n",
       "        vertical-align: middle;\n",
       "    }\n",
       "\n",
       "    .dataframe tbody tr th {\n",
       "        vertical-align: top;\n",
       "    }\n",
       "\n",
       "    .dataframe thead th {\n",
       "        text-align: right;\n",
       "    }\n",
       "</style>\n",
       "<table border=\"1\" class=\"dataframe\">\n",
       "  <thead>\n",
       "    <tr style=\"text-align: right;\">\n",
       "      <th></th>\n",
       "      <th>PCA_0</th>\n",
       "      <th>PCA_1</th>\n",
       "      <th>PCA_2</th>\n",
       "      <th>PCA_3</th>\n",
       "      <th>PCA_4</th>\n",
       "      <th>PCA_5</th>\n",
       "    </tr>\n",
       "  </thead>\n",
       "  <tbody>\n",
       "    <tr>\n",
       "      <th>2017-09-04 09:09:38.028270</th>\n",
       "      <td>-3.341057</td>\n",
       "      <td>-0.918397</td>\n",
       "      <td>-0.893493</td>\n",
       "      <td>-0.100227</td>\n",
       "      <td>0.533357</td>\n",
       "      <td>-0.180285</td>\n",
       "    </tr>\n",
       "    <tr>\n",
       "      <th>2017-09-05 09:09:38.028270</th>\n",
       "      <td>-3.517488</td>\n",
       "      <td>-1.672273</td>\n",
       "      <td>-1.064869</td>\n",
       "      <td>-1.208420</td>\n",
       "      <td>0.315185</td>\n",
       "      <td>-0.739298</td>\n",
       "    </tr>\n",
       "    <tr>\n",
       "      <th>2017-09-06 09:09:38.028270</th>\n",
       "      <td>-1.939640</td>\n",
       "      <td>-0.395984</td>\n",
       "      <td>-0.819280</td>\n",
       "      <td>0.801209</td>\n",
       "      <td>0.159242</td>\n",
       "      <td>-0.226560</td>\n",
       "    </tr>\n",
       "    <tr>\n",
       "      <th>2017-09-07 09:09:38.028270</th>\n",
       "      <td>-1.688130</td>\n",
       "      <td>-0.278464</td>\n",
       "      <td>-1.238535</td>\n",
       "      <td>-0.925250</td>\n",
       "      <td>0.214622</td>\n",
       "      <td>-0.492624</td>\n",
       "    </tr>\n",
       "    <tr>\n",
       "      <th>2017-09-08 09:09:38.028270</th>\n",
       "      <td>-2.054390</td>\n",
       "      <td>1.016298</td>\n",
       "      <td>-0.657037</td>\n",
       "      <td>0.756113</td>\n",
       "      <td>-0.173165</td>\n",
       "      <td>-0.821492</td>\n",
       "    </tr>\n",
       "  </tbody>\n",
       "</table>\n",
       "</div>"
      ],
      "text/plain": [
       "                               PCA_0     PCA_1     PCA_2     PCA_3     PCA_4  \\\n",
       "2017-09-04 09:09:38.028270 -3.341057 -0.918397 -0.893493 -0.100227  0.533357   \n",
       "2017-09-05 09:09:38.028270 -3.517488 -1.672273 -1.064869 -1.208420  0.315185   \n",
       "2017-09-06 09:09:38.028270 -1.939640 -0.395984 -0.819280  0.801209  0.159242   \n",
       "2017-09-07 09:09:38.028270 -1.688130 -0.278464 -1.238535 -0.925250  0.214622   \n",
       "2017-09-08 09:09:38.028270 -2.054390  1.016298 -0.657037  0.756113 -0.173165   \n",
       "\n",
       "                               PCA_5  \n",
       "2017-09-04 09:09:38.028270 -0.180285  \n",
       "2017-09-05 09:09:38.028270 -0.739298  \n",
       "2017-09-06 09:09:38.028270 -0.226560  \n",
       "2017-09-07 09:09:38.028270 -0.492624  \n",
       "2017-09-08 09:09:38.028270 -0.821492  "
      ]
     },
     "execution_count": 56,
     "metadata": {},
     "output_type": "execute_result"
    }
   ],
   "source": [
    "Xdot = pd.DataFrame(orthoFeats(X), index=X.index).add_prefix(\"PCA_\")\n",
    "Xdot.head()"
   ]
  },
  {
   "cell_type": "markdown",
   "id": "edff65af-d979-4651-874f-50300ddb278c",
   "metadata": {},
   "source": [
    "### c) Compute MDI, MDA, and SFI feature importance on (X, y), where the base estimator is RF."
   ]
  },
  {
   "cell_type": "code",
   "execution_count": 57,
   "id": "a52769bb-9de9-440d-bea6-984bb5c6ef06",
   "metadata": {},
   "outputs": [],
   "source": [
    "def test_data_func(X, cont, run='', allow_masking_effects=False, methods=['MDI', 'MDA', 'SFI']):\n",
    "    for method in methods:\n",
    "        feature_imp, oob_score, oos_score = featImportance(X, cont, cv=5, method=method)\n",
    "        plotFeatImportance(\"pathout\",feature_imp,oob_score,oos_score, method=method)"
   ]
  },
  {
   "cell_type": "code",
   "execution_count": 58,
   "id": "7300e65e-16f8-49d0-a58b-d8916efac799",
   "metadata": {},
   "outputs": [
    {
     "data": {
      "image/png": "[encoded data removed]",
      "text/plain": [
       "<Figure size 720x86.4 with 1 Axes>"
      ]
     },
     "metadata": {
      "needs_background": "light"
     },
     "output_type": "display_data"
    }
   ],
   "source": [
    "test_data_func(Xdot, cont, methods=['MDI']) #Can't get MDA or SFI to work, and none of them plots"
   ]
  },
  {
   "cell_type": "markdown",
   "id": "eca21f35-636b-41f0-952f-eb0df8dd715d",
   "metadata": {},
   "source": [
    "### d) Do the three methods agree on what features are important? Why?"
   ]
  },
  {
   "cell_type": "markdown",
   "id": "b7e3c94b-076a-4d0e-8bd6-3a5b4f775410",
   "metadata": {},
   "source": [
    "Theoretically yes?"
   ]
  },
  {
   "cell_type": "markdown",
   "id": "8d114db2-dff2-4846-b686-7bc9c4d60683",
   "metadata": {},
   "source": [
    "## 2) From exercise 1, generate a new dataset (X-dot-dot,y) , where X-dot-dot is a feature union of X and X-dot ."
   ]
  },
  {
   "cell_type": "code",
   "execution_count": 80,
   "id": "dbf7096f-4d59-41ba-83d5-369e5c0cb9fc",
   "metadata": {},
   "outputs": [],
   "source": [
    "Xdotdot = pd.concat([X, Xdot], axis=1)"
   ]
  },
  {
   "cell_type": "markdown",
   "id": "d682c6f9-6e44-4bb1-bcf1-6a84d893c5ec",
   "metadata": {},
   "source": [
    "### a) Compute MDI, MDA, and SFI feature importance on X-dot-dot, where the base estimator is RF."
   ]
  },
  {
   "cell_type": "code",
   "execution_count": 61,
   "id": "00a78c48-bc81-474d-9ebe-ecfb59d2675c",
   "metadata": {},
   "outputs": [
    {
     "data": {
      "image/png": "[encoded data removed]",
      "text/plain": [
       "<Figure size 720x216 with 1 Axes>"
      ]
     },
     "metadata": {
      "needs_background": "light"
     },
     "output_type": "display_data"
    }
   ],
   "source": [
    "test_data_func(Xdotdot, cont, methods=[\"MDI\"])"
   ]
  },
  {
   "cell_type": "markdown",
   "id": "b20a349d-2312-49ad-9ea7-475d5acdb0f8",
   "metadata": {},
   "source": [
    "### b) Do the three methods agree on the important features? Why?"
   ]
  },
  {
   "cell_type": "markdown",
   "id": "98f8c206-0716-4435-9cae-9f2d9d1bd4be",
   "metadata": {},
   "source": [
    "Theoretically not and MDA theoretically does worse?"
   ]
  },
  {
   "cell_type": "markdown",
   "id": "98056135-a2d9-444f-977d-f05e275c8acd",
   "metadata": {},
   "source": [
    "## 3) Take the results from exercise 2:"
   ]
  },
  {
   "cell_type": "markdown",
   "id": "8ff59eb8-3273-4f3e-8d79-17296a335893",
   "metadata": {},
   "source": [
    "### a) Drop the most important features according to each method, resulting in a features matrix X-dot-dot-dot."
   ]
  },
  {
   "cell_type": "code",
   "execution_count": 62,
   "id": "397355b1-3fee-4b93-963f-5c1d29537d33",
   "metadata": {},
   "outputs": [],
   "source": [
    "most_important_features = ['PCA_0', 'R_2', 'R_0', 'R_1', 'I_1', 'I_0']\n",
    "Xdotdotdot = Xdotdot.loc[:, ~Xdotdot.columns.isin(most_important_features)]"
   ]
  },
  {
   "cell_type": "markdown",
   "id": "ec71d1e2-bc60-47f4-bd64-61cdb0dea2bb",
   "metadata": {},
   "source": [
    "### b) Compute MDI, MDA, and SFI feature importance on (X-dot-dot-dot,y) , where the base estimator is RF."
   ]
  },
  {
   "cell_type": "code",
   "execution_count": 64,
   "id": "4cd28b6f-0183-4114-9270-36f107504792",
   "metadata": {},
   "outputs": [
    {
     "data": {
      "image/png": "[encoded data removed]",
      "text/plain": [
       "<Figure size 720x129.6 with 1 Axes>"
      ]
     },
     "metadata": {
      "needs_background": "light"
     },
     "output_type": "display_data"
    }
   ],
   "source": [
    "test_data_func(Xdotdotdot, cont, methods=[\"MDI\"])"
   ]
  },
  {
   "cell_type": "markdown",
   "id": "fec59d80-5c91-41f1-aaf3-7dd95da998a8",
   "metadata": {},
   "source": [
    "### c) Do you appreciate significant changes in the rankings of important features, relative to the results from exercise 2?"
   ]
  },
  {
   "cell_type": "markdown",
   "id": "3f6ce87e-d92a-4e63-8cfe-eb468d562c71",
   "metadata": {},
   "source": [
    "Not much with MDI, but can't check the others"
   ]
  },
  {
   "cell_type": "markdown",
   "id": "ccd529ca-3e0a-4d6b-aeab-3ac0ebc66fe0",
   "metadata": {},
   "source": [
    "## 4) Using the code presented in Section 8.6:"
   ]
  },
  {
   "cell_type": "markdown",
   "id": "49cc649f-d98c-4a65-b367-9f91814b70e4",
   "metadata": {},
   "source": [
    "### a) Generate a dataset (X, y) of 1E6 observations, where 5 features are informative, 5 are redundant and 10 are noise"
   ]
  },
  {
   "cell_type": "code",
   "execution_count": 83,
   "id": "22b30a27-095b-4349-9507-303893f54588",
   "metadata": {},
   "outputs": [],
   "source": [
    "n_samples = 10000\n",
    "X, cont = getTestData(n_features=20, n_informative=5, n_redundant=5, n_samples=n_samples)"
   ]
  },
  {
   "cell_type": "markdown",
   "id": "fc9b5608-f410-4b67-a088-784225c75a4d",
   "metadata": {},
   "source": [
    "### b) Split (X, y) into 10 datasets {(Xi, yi)}i = 1, …, 10, each of 1E5 observations."
   ]
  },
  {
   "cell_type": "code",
   "execution_count": null,
   "id": "0e33ce24-0b85-4128-9d26-0c96f19325fd",
   "metadata": {},
   "outputs": [],
   "source": []
  },
  {
   "cell_type": "markdown",
   "id": "2f604ebc-0ff2-412b-b2df-a402df159fa2",
   "metadata": {},
   "source": [
    "### c) Compute the parallelized feature importance (Section 8.5), on each of the 10 datasets, {(Xi, yi)}i = 1, …, 10."
   ]
  },
  {
   "cell_type": "code",
   "execution_count": 67,
   "id": "a3a6eae4-63fb-4269-a234-b64f46aae75a",
   "metadata": {},
   "outputs": [],
   "source": [
    "## Don't both, is faster and more efficient but MLdP says he prefers stacked feature importance"
   ]
  },
  {
   "cell_type": "markdown",
   "id": "0f026da0-19d3-4228-9d7b-721a977b0b8c",
   "metadata": {},
   "source": [
    "### d) Compute the stacked feature importance on the combined dataset (X, y)."
   ]
  },
  {
   "cell_type": "code",
   "execution_count": 86,
   "id": "184e4351-42d4-4b1d-90d2-7880b6e2b16e",
   "metadata": {},
   "outputs": [
    {
     "data": {
      "image/png": "[encoded data removed]",
      "text/plain": [
       "<Figure size 720x288 with 1 Axes>"
      ]
     },
     "metadata": {
      "needs_background": "light"
     },
     "output_type": "display_data"
    }
   ],
   "source": [
    "test_data_func(X, cont, methods=[\"MDI\"])"
   ]
  },
  {
   "cell_type": "markdown",
   "id": "fad7f57b-1bf3-4f60-94a7-8d2d89de9baf",
   "metadata": {},
   "source": [
    "### e) What causes the discrepancy between the two? Which one is more reliable?"
   ]
  },
  {
   "cell_type": "markdown",
   "id": "9825febf-9187-4721-ba62-2bf6dac99441",
   "metadata": {},
   "source": [
    "Theoretically: Both methods generate similar rankings, with informative and redundant features above noisy ones, while the more computationally intensive (stacked) does so by a much wider margin."
   ]
  },
  {
   "cell_type": "code",
   "execution_count": 24,
   "id": "0f688a2f-f165-4075-b071-896b9a9420c6",
   "metadata": {},
   "outputs": [
    {
     "data": {
      "text/html": [
       "<div>\n",
       "<style scoped>\n",
       "    .dataframe tbody tr th:only-of-type {\n",
       "        vertical-align: middle;\n",
       "    }\n",
       "\n",
       "    .dataframe tbody tr th {\n",
       "        vertical-align: top;\n",
       "    }\n",
       "\n",
       "    .dataframe thead th {\n",
       "        text-align: right;\n",
       "    }\n",
       "</style>\n",
       "<table border=\"1\" class=\"dataframe\">\n",
       "  <thead>\n",
       "    <tr style=\"text-align: right;\">\n",
       "      <th></th>\n",
       "      <th>I_0</th>\n",
       "      <th>I_1</th>\n",
       "      <th>I_2</th>\n",
       "      <th>I_3</th>\n",
       "      <th>I_4</th>\n",
       "      <th>I_5</th>\n",
       "      <th>I_6</th>\n",
       "      <th>I_7</th>\n",
       "      <th>I_8</th>\n",
       "      <th>I_9</th>\n",
       "      <th>...</th>\n",
       "      <th>N_10</th>\n",
       "      <th>N_11</th>\n",
       "      <th>N_12</th>\n",
       "      <th>N_13</th>\n",
       "      <th>N_14</th>\n",
       "      <th>N_15</th>\n",
       "      <th>N_16</th>\n",
       "      <th>N_17</th>\n",
       "      <th>N_18</th>\n",
       "      <th>N_19</th>\n",
       "    </tr>\n",
       "  </thead>\n",
       "  <tbody>\n",
       "    <tr>\n",
       "      <th>2017-09-04 08:59:44.384576</th>\n",
       "      <td>0.387601</td>\n",
       "      <td>-0.439806</td>\n",
       "      <td>1.010359</td>\n",
       "      <td>0.890609</td>\n",
       "      <td>3.016945</td>\n",
       "      <td>-1.010228</td>\n",
       "      <td>0.243523</td>\n",
       "      <td>-2.116744</td>\n",
       "      <td>-3.593683</td>\n",
       "      <td>-0.432650</td>\n",
       "      <td>...</td>\n",
       "      <td>1.446860</td>\n",
       "      <td>0.430600</td>\n",
       "      <td>1.067733</td>\n",
       "      <td>-1.624093</td>\n",
       "      <td>-1.187286</td>\n",
       "      <td>-1.106347</td>\n",
       "      <td>1.189328</td>\n",
       "      <td>-1.340997</td>\n",
       "      <td>0.750752</td>\n",
       "      <td>0.214460</td>\n",
       "    </tr>\n",
       "    <tr>\n",
       "      <th>2017-09-05 08:59:44.384576</th>\n",
       "      <td>-2.187455</td>\n",
       "      <td>-2.457017</td>\n",
       "      <td>1.997589</td>\n",
       "      <td>2.040866</td>\n",
       "      <td>0.981703</td>\n",
       "      <td>-2.990217</td>\n",
       "      <td>1.325449</td>\n",
       "      <td>1.161288</td>\n",
       "      <td>-1.927670</td>\n",
       "      <td>3.187058</td>\n",
       "      <td>...</td>\n",
       "      <td>0.247978</td>\n",
       "      <td>-0.300982</td>\n",
       "      <td>0.448604</td>\n",
       "      <td>0.955159</td>\n",
       "      <td>1.456822</td>\n",
       "      <td>-0.647968</td>\n",
       "      <td>-0.371351</td>\n",
       "      <td>1.016821</td>\n",
       "      <td>1.200919</td>\n",
       "      <td>1.080097</td>\n",
       "    </tr>\n",
       "    <tr>\n",
       "      <th>2017-09-06 08:59:44.384576</th>\n",
       "      <td>3.983043</td>\n",
       "      <td>0.062503</td>\n",
       "      <td>-1.311360</td>\n",
       "      <td>0.794898</td>\n",
       "      <td>0.441416</td>\n",
       "      <td>-2.218184</td>\n",
       "      <td>1.105959</td>\n",
       "      <td>1.454984</td>\n",
       "      <td>-4.171781</td>\n",
       "      <td>-2.216956</td>\n",
       "      <td>...</td>\n",
       "      <td>0.436877</td>\n",
       "      <td>-0.947405</td>\n",
       "      <td>1.300130</td>\n",
       "      <td>1.158772</td>\n",
       "      <td>0.498857</td>\n",
       "      <td>0.228109</td>\n",
       "      <td>-0.610194</td>\n",
       "      <td>-1.824205</td>\n",
       "      <td>-0.044102</td>\n",
       "      <td>2.448177</td>\n",
       "    </tr>\n",
       "    <tr>\n",
       "      <th>2017-09-07 08:59:44.384576</th>\n",
       "      <td>-1.503923</td>\n",
       "      <td>-1.721747</td>\n",
       "      <td>0.165340</td>\n",
       "      <td>0.426004</td>\n",
       "      <td>-0.677052</td>\n",
       "      <td>-1.512089</td>\n",
       "      <td>1.585860</td>\n",
       "      <td>4.201854</td>\n",
       "      <td>-0.552158</td>\n",
       "      <td>2.372621</td>\n",
       "      <td>...</td>\n",
       "      <td>0.994978</td>\n",
       "      <td>-1.562442</td>\n",
       "      <td>-0.336007</td>\n",
       "      <td>0.258275</td>\n",
       "      <td>0.602277</td>\n",
       "      <td>0.178423</td>\n",
       "      <td>0.726907</td>\n",
       "      <td>1.048858</td>\n",
       "      <td>-0.362107</td>\n",
       "      <td>0.674448</td>\n",
       "    </tr>\n",
       "    <tr>\n",
       "      <th>2017-09-08 08:59:44.384576</th>\n",
       "      <td>-1.404589</td>\n",
       "      <td>-2.624642</td>\n",
       "      <td>3.361575</td>\n",
       "      <td>-1.306431</td>\n",
       "      <td>4.578157</td>\n",
       "      <td>0.577691</td>\n",
       "      <td>4.378166</td>\n",
       "      <td>0.344652</td>\n",
       "      <td>3.416710</td>\n",
       "      <td>0.119429</td>\n",
       "      <td>...</td>\n",
       "      <td>1.085378</td>\n",
       "      <td>-0.235814</td>\n",
       "      <td>-1.658947</td>\n",
       "      <td>1.117864</td>\n",
       "      <td>1.070991</td>\n",
       "      <td>-0.382995</td>\n",
       "      <td>-0.198118</td>\n",
       "      <td>-1.398810</td>\n",
       "      <td>-0.063864</td>\n",
       "      <td>-0.114795</td>\n",
       "    </tr>\n",
       "    <tr>\n",
       "      <th>...</th>\n",
       "      <td>...</td>\n",
       "      <td>...</td>\n",
       "      <td>...</td>\n",
       "      <td>...</td>\n",
       "      <td>...</td>\n",
       "      <td>...</td>\n",
       "      <td>...</td>\n",
       "      <td>...</td>\n",
       "      <td>...</td>\n",
       "      <td>...</td>\n",
       "      <td>...</td>\n",
       "      <td>...</td>\n",
       "      <td>...</td>\n",
       "      <td>...</td>\n",
       "      <td>...</td>\n",
       "      <td>...</td>\n",
       "      <td>...</td>\n",
       "      <td>...</td>\n",
       "      <td>...</td>\n",
       "      <td>...</td>\n",
       "      <td>...</td>\n",
       "    </tr>\n",
       "    <tr>\n",
       "      <th>2021-06-28 08:59:44.384576</th>\n",
       "      <td>-0.249639</td>\n",
       "      <td>-3.052019</td>\n",
       "      <td>0.422367</td>\n",
       "      <td>-0.418817</td>\n",
       "      <td>-1.244044</td>\n",
       "      <td>-0.025354</td>\n",
       "      <td>-0.634046</td>\n",
       "      <td>-3.261394</td>\n",
       "      <td>-0.754472</td>\n",
       "      <td>1.190256</td>\n",
       "      <td>...</td>\n",
       "      <td>-0.091393</td>\n",
       "      <td>3.281322</td>\n",
       "      <td>0.746910</td>\n",
       "      <td>-0.770951</td>\n",
       "      <td>-0.665257</td>\n",
       "      <td>0.661665</td>\n",
       "      <td>0.839893</td>\n",
       "      <td>0.167732</td>\n",
       "      <td>0.226148</td>\n",
       "      <td>0.564298</td>\n",
       "    </tr>\n",
       "    <tr>\n",
       "      <th>2021-06-29 08:59:44.384576</th>\n",
       "      <td>-0.925248</td>\n",
       "      <td>2.049954</td>\n",
       "      <td>0.613016</td>\n",
       "      <td>2.675165</td>\n",
       "      <td>-0.474553</td>\n",
       "      <td>-0.562561</td>\n",
       "      <td>-1.590650</td>\n",
       "      <td>-2.564282</td>\n",
       "      <td>-2.024138</td>\n",
       "      <td>-3.123231</td>\n",
       "      <td>...</td>\n",
       "      <td>-0.327686</td>\n",
       "      <td>-1.923705</td>\n",
       "      <td>-0.027396</td>\n",
       "      <td>1.206699</td>\n",
       "      <td>0.503855</td>\n",
       "      <td>2.054761</td>\n",
       "      <td>-1.001365</td>\n",
       "      <td>-1.240446</td>\n",
       "      <td>-1.617521</td>\n",
       "      <td>-1.810691</td>\n",
       "    </tr>\n",
       "    <tr>\n",
       "      <th>2021-06-30 08:59:44.384576</th>\n",
       "      <td>-0.442937</td>\n",
       "      <td>3.257075</td>\n",
       "      <td>-0.506338</td>\n",
       "      <td>2.232121</td>\n",
       "      <td>-0.382585</td>\n",
       "      <td>-4.627209</td>\n",
       "      <td>-0.989335</td>\n",
       "      <td>-0.724105</td>\n",
       "      <td>-1.542099</td>\n",
       "      <td>0.759915</td>\n",
       "      <td>...</td>\n",
       "      <td>-0.426673</td>\n",
       "      <td>-1.259908</td>\n",
       "      <td>0.110078</td>\n",
       "      <td>-0.796126</td>\n",
       "      <td>0.088458</td>\n",
       "      <td>-0.403672</td>\n",
       "      <td>0.255454</td>\n",
       "      <td>-0.765382</td>\n",
       "      <td>1.274088</td>\n",
       "      <td>-0.901783</td>\n",
       "    </tr>\n",
       "    <tr>\n",
       "      <th>2021-07-01 08:59:44.384576</th>\n",
       "      <td>-1.126417</td>\n",
       "      <td>-0.486369</td>\n",
       "      <td>0.929189</td>\n",
       "      <td>1.667366</td>\n",
       "      <td>-1.132612</td>\n",
       "      <td>-0.331310</td>\n",
       "      <td>-0.785930</td>\n",
       "      <td>-1.010018</td>\n",
       "      <td>-2.692806</td>\n",
       "      <td>-3.470507</td>\n",
       "      <td>...</td>\n",
       "      <td>-0.321763</td>\n",
       "      <td>0.097716</td>\n",
       "      <td>-0.709981</td>\n",
       "      <td>-2.182884</td>\n",
       "      <td>-0.249263</td>\n",
       "      <td>0.523206</td>\n",
       "      <td>0.640408</td>\n",
       "      <td>-2.867245</td>\n",
       "      <td>0.009951</td>\n",
       "      <td>0.062721</td>\n",
       "    </tr>\n",
       "    <tr>\n",
       "      <th>2021-07-02 08:59:44.384576</th>\n",
       "      <td>-2.393681</td>\n",
       "      <td>1.440481</td>\n",
       "      <td>1.958321</td>\n",
       "      <td>0.830485</td>\n",
       "      <td>-1.943399</td>\n",
       "      <td>1.625708</td>\n",
       "      <td>-2.082557</td>\n",
       "      <td>-5.151049</td>\n",
       "      <td>-1.027664</td>\n",
       "      <td>1.485340</td>\n",
       "      <td>...</td>\n",
       "      <td>-0.584759</td>\n",
       "      <td>1.170697</td>\n",
       "      <td>-0.311977</td>\n",
       "      <td>-0.813393</td>\n",
       "      <td>2.231781</td>\n",
       "      <td>-0.065668</td>\n",
       "      <td>-1.279441</td>\n",
       "      <td>0.712187</td>\n",
       "      <td>0.682793</td>\n",
       "      <td>-0.984951</td>\n",
       "    </tr>\n",
       "  </tbody>\n",
       "</table>\n",
       "<p>1000 rows × 40 columns</p>\n",
       "</div>"
      ],
      "text/plain": [
       "                                 I_0       I_1       I_2       I_3       I_4  \\\n",
       "2017-09-04 08:59:44.384576  0.387601 -0.439806  1.010359  0.890609  3.016945   \n",
       "2017-09-05 08:59:44.384576 -2.187455 -2.457017  1.997589  2.040866  0.981703   \n",
       "2017-09-06 08:59:44.384576  3.983043  0.062503 -1.311360  0.794898  0.441416   \n",
       "2017-09-07 08:59:44.384576 -1.503923 -1.721747  0.165340  0.426004 -0.677052   \n",
       "2017-09-08 08:59:44.384576 -1.404589 -2.624642  3.361575 -1.306431  4.578157   \n",
       "...                              ...       ...       ...       ...       ...   \n",
       "2021-06-28 08:59:44.384576 -0.249639 -3.052019  0.422367 -0.418817 -1.244044   \n",
       "2021-06-29 08:59:44.384576 -0.925248  2.049954  0.613016  2.675165 -0.474553   \n",
       "2021-06-30 08:59:44.384576 -0.442937  3.257075 -0.506338  2.232121 -0.382585   \n",
       "2021-07-01 08:59:44.384576 -1.126417 -0.486369  0.929189  1.667366 -1.132612   \n",
       "2021-07-02 08:59:44.384576 -2.393681  1.440481  1.958321  0.830485 -1.943399   \n",
       "\n",
       "                                 I_5       I_6       I_7       I_8       I_9  \\\n",
       "2017-09-04 08:59:44.384576 -1.010228  0.243523 -2.116744 -3.593683 -0.432650   \n",
       "2017-09-05 08:59:44.384576 -2.990217  1.325449  1.161288 -1.927670  3.187058   \n",
       "2017-09-06 08:59:44.384576 -2.218184  1.105959  1.454984 -4.171781 -2.216956   \n",
       "2017-09-07 08:59:44.384576 -1.512089  1.585860  4.201854 -0.552158  2.372621   \n",
       "2017-09-08 08:59:44.384576  0.577691  4.378166  0.344652  3.416710  0.119429   \n",
       "...                              ...       ...       ...       ...       ...   \n",
       "2021-06-28 08:59:44.384576 -0.025354 -0.634046 -3.261394 -0.754472  1.190256   \n",
       "2021-06-29 08:59:44.384576 -0.562561 -1.590650 -2.564282 -2.024138 -3.123231   \n",
       "2021-06-30 08:59:44.384576 -4.627209 -0.989335 -0.724105 -1.542099  0.759915   \n",
       "2021-07-01 08:59:44.384576 -0.331310 -0.785930 -1.010018 -2.692806 -3.470507   \n",
       "2021-07-02 08:59:44.384576  1.625708 -2.082557 -5.151049 -1.027664  1.485340   \n",
       "\n",
       "                            ...      N_10      N_11      N_12      N_13  \\\n",
       "2017-09-04 08:59:44.384576  ...  1.446860  0.430600  1.067733 -1.624093   \n",
       "2017-09-05 08:59:44.384576  ...  0.247978 -0.300982  0.448604  0.955159   \n",
       "2017-09-06 08:59:44.384576  ...  0.436877 -0.947405  1.300130  1.158772   \n",
       "2017-09-07 08:59:44.384576  ...  0.994978 -1.562442 -0.336007  0.258275   \n",
       "2017-09-08 08:59:44.384576  ...  1.085378 -0.235814 -1.658947  1.117864   \n",
       "...                         ...       ...       ...       ...       ...   \n",
       "2021-06-28 08:59:44.384576  ... -0.091393  3.281322  0.746910 -0.770951   \n",
       "2021-06-29 08:59:44.384576  ... -0.327686 -1.923705 -0.027396  1.206699   \n",
       "2021-06-30 08:59:44.384576  ... -0.426673 -1.259908  0.110078 -0.796126   \n",
       "2021-07-01 08:59:44.384576  ... -0.321763  0.097716 -0.709981 -2.182884   \n",
       "2021-07-02 08:59:44.384576  ... -0.584759  1.170697 -0.311977 -0.813393   \n",
       "\n",
       "                                N_14      N_15      N_16      N_17      N_18  \\\n",
       "2017-09-04 08:59:44.384576 -1.187286 -1.106347  1.189328 -1.340997  0.750752   \n",
       "2017-09-05 08:59:44.384576  1.456822 -0.647968 -0.371351  1.016821  1.200919   \n",
       "2017-09-06 08:59:44.384576  0.498857  0.228109 -0.610194 -1.824205 -0.044102   \n",
       "2017-09-07 08:59:44.384576  0.602277  0.178423  0.726907  1.048858 -0.362107   \n",
       "2017-09-08 08:59:44.384576  1.070991 -0.382995 -0.198118 -1.398810 -0.063864   \n",
       "...                              ...       ...       ...       ...       ...   \n",
       "2021-06-28 08:59:44.384576 -0.665257  0.661665  0.839893  0.167732  0.226148   \n",
       "2021-06-29 08:59:44.384576  0.503855  2.054761 -1.001365 -1.240446 -1.617521   \n",
       "2021-06-30 08:59:44.384576  0.088458 -0.403672  0.255454 -0.765382  1.274088   \n",
       "2021-07-01 08:59:44.384576 -0.249263  0.523206  0.640408 -2.867245  0.009951   \n",
       "2021-07-02 08:59:44.384576  2.231781 -0.065668 -1.279441  0.712187  0.682793   \n",
       "\n",
       "                                N_19  \n",
       "2017-09-04 08:59:44.384576  0.214460  \n",
       "2017-09-05 08:59:44.384576  1.080097  \n",
       "2017-09-06 08:59:44.384576  2.448177  \n",
       "2017-09-07 08:59:44.384576  0.674448  \n",
       "2017-09-08 08:59:44.384576 -0.114795  \n",
       "...                              ...  \n",
       "2021-06-28 08:59:44.384576  0.564298  \n",
       "2021-06-29 08:59:44.384576 -1.810691  \n",
       "2021-06-30 08:59:44.384576 -0.901783  \n",
       "2021-07-01 08:59:44.384576  0.062721  \n",
       "2021-07-02 08:59:44.384576 -0.984951  \n",
       "\n",
       "[1000 rows x 40 columns]"
      ]
     },
     "execution_count": 24,
     "metadata": {},
     "output_type": "execute_result"
    }
   ],
   "source": [
    "X"
   ]
  },
  {
   "cell_type": "code",
   "execution_count": 85,
   "id": "c2bec1af-5a4d-48d5-8559-4f73a4e4862c",
   "metadata": {},
   "outputs": [
    {
     "data": {
      "image/png": "[encoded data removed]",
      "text/plain": [
       "<Figure size 1440x1080 with 2 Axes>"
      ]
     },
     "metadata": {
      "needs_background": "light"
     },
     "output_type": "display_data"
    }
   ],
   "source": [
    "import seaborn as sns\n",
    "indicators = list(X.columns)[:]\n",
    "# indicators.append(\"target\")\n",
    "\n",
    "d = X[list(indicators)].copy()\n",
    "d[\"target\"] = cont.bin\n",
    "corr_matrix = d.corr()\n",
    "fig, ax = plt.subplots(figsize=(20, 15))\n",
    "ax = sns.heatmap(corr_matrix,\n",
    "                 annot=True,\n",
    "                 linewidths=0.5,\n",
    "                 fmt=\".2f\",\n",
    "                 cmap=\"YlGnBu\")"
   ]
  },
  {
   "cell_type": "code",
   "execution_count": null,
   "id": "2e75af0d-469d-4ab5-aabc-ec23bd968af3",
   "metadata": {},
   "outputs": [],
   "source": []
  }
 ],
 "metadata": {
  "kernelspec": {
   "display_name": "Python 3",
   "language": "python",
   "name": "python3"
  },
  "language_info": {
   "codemirror_mode": {
    "name": "ipython",
    "version": 3
   },
   "file_extension": ".py",
   "mimetype": "text/x-python",
   "name": "python",
   "nbconvert_exporter": "python",
   "pygments_lexer": "ipython3",
   "version": "3.9.4"
  }
 },
 "nbformat": 4,
 "nbformat_minor": 5
}
