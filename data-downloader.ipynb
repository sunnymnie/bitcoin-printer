{
 "cells": [
  {
   "cell_type": "markdown",
   "id": "7d721297",
   "metadata": {},
   "source": [
    "# Data downloader\n",
    "\n",
    "Purpose: Downloading historical crypto data"
   ]
  },
  {
   "cell_type": "code",
   "execution_count": 6,
   "id": "9ea00642",
   "metadata": {},
   "outputs": [],
   "source": [
    "# Imports\n",
    "import pandas as pd\n",
    "from binance.client import Client\n",
    "import datetime\n",
    "import json"
   ]
  },
  {
   "cell_type": "code",
   "execution_count": 7,
   "id": "83b8bd7d",
   "metadata": {},
   "outputs": [],
   "source": [
    "def get_api_keys(site: str, api_type: str)->str:\n",
    "    \"\"\"\n",
    "    gets api keys stored in api-keys/api-keys.txt\n",
    "    site: 'binance'\n",
    "    api_type: 'api', 'secret'\n",
    "    \"\"\"\n",
    "    with open('api-keys/api-keys.txt') as json_file:\n",
    "        return json.load(json_file)[site][api_type]\n"
   ]
  },
  {
   "cell_type": "code",
   "execution_count": 8,
   "id": "5e7f346c",
   "metadata": {},
   "outputs": [],
   "source": [
    "# Constants\n",
    "api_key = get_api_keys(\"binance\", \"api\")\n",
    "api_secret = get_api_keys(\"binance\", \"secret\")\n",
    "\n",
    "bclient = Client(api_key=api_key, api_secret=api_secret)"
   ]
  },
  {
   "cell_type": "code",
   "execution_count": 9,
   "id": "4c6bcd60",
   "metadata": {},
   "outputs": [],
   "source": [
    "def binance_downloader(symbol:str, kline_interval:object, interval_name:str, path=\"data/\", start=\"1 Jan 1900\"):\n",
    "    \"\"\"\n",
    "    downloads binance data\n",
    "    symbol: BTCUSDT\n",
    "    kline_interval: Client.KLINE_INTERVAL_1DAY, Client.KLINE_INTERVAL_1DAY, Client.KLINE_INTERVAL_1DAY\n",
    "    interval_name: only used for csv name: BTCUSDT-interval_name.csv\n",
    "    start: empty if from the very beginning\n",
    "    \"\"\"\n",
    "    start_date = datetime.datetime.strptime(start, '%d %b %Y')\n",
    "    today = datetime.datetime.today()\n",
    "    filename = \"data/\" + symbol + \"-\" + interval_name + \".csv\"\n",
    "    print(f\"downloading {filename}\", end='\\r')\n",
    "    klines = bclient.get_historical_klines(symbol, kline_interval, start_date.strftime(\"%d %b %Y %H:%M:%S\"), today.strftime(\"%d %b %Y %H:%M:%S\"), 1000)\n",
    "    data = pd.DataFrame(klines, columns = ['timestamp', 'open', 'high', 'low', 'close', 'volume', 'close_time', 'quote_av', 'trades', 'tb_base_av', 'tb_quote_av', 'ignore' ])\n",
    "    data['timestamp'] = pd.to_datetime(data['timestamp'], unit='ms')\n",
    "\n",
    "    data.set_index('timestamp', inplace=True)\n",
    "    data.to_csv(filename)\n",
    "    print(f\"downloaded {filename}   \")"
   ]
  },
  {
   "cell_type": "markdown",
   "id": "73965ffd",
   "metadata": {},
   "source": [
    "## Binance downloader\n",
    "\n",
    "### symbol\n",
    "- \"BTCUSDT\"\n",
    "\n",
    "### kline_interval\n",
    "- `Client.KLINE_INTERVAL_1MINUTE`\n",
    "- `Client.KLINE_INTERVAL_1HOUR`\n",
    "- `Client.KLINE_INTERVAL_1DAY`\n",
    "\n",
    "### interval_name\n",
    "- \"minute\"\n",
    "- \"hour\"\n",
    "- \"day\""
   ]
  },
  {
   "cell_type": "code",
   "execution_count": 10,
   "id": "3750fb40",
   "metadata": {},
   "outputs": [
    {
     "name": "stdout",
     "output_type": "stream",
     "text": [
      "downloaded data/BTCUSDT-hour-target.csv   \n"
     ]
    }
   ],
   "source": [
    "binance_downloader(symbol=\"BTCUSDT\", \n",
    "                   kline_interval=Client.KLINE_INTERVAL_1HOUR, \n",
    "                   interval_name=\"hour-target\",\n",
    "                   start=\"1 Jan 2000\")\n",
    "# hour-target\"\n",
    "# \"hour-predict\""
   ]
  },
  {
   "cell_type": "code",
   "execution_count": null,
   "id": "54465b8c",
   "metadata": {},
   "outputs": [],
   "source": []
  }
 ],
 "metadata": {
  "kernelspec": {
   "display_name": "Python 3",
   "language": "python",
   "name": "python3"
  },
  "language_info": {
   "codemirror_mode": {
    "name": "ipython",
    "version": 3
   },
   "file_extension": ".py",
   "mimetype": "text/x-python",
   "name": "python",
   "nbconvert_exporter": "python",
   "pygments_lexer": "ipython3",
   "version": "3.9.4"
  }
 },
 "nbformat": 4,
 "nbformat_minor": 5
}
