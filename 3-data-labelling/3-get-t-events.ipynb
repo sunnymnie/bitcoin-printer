{
 "cells": [
  {
   "cell_type": "markdown",
   "id": "e33e4d00-97d4-403d-8313-03b332a435c4",
   "metadata": {},
   "source": [
    "# Get T Events"
   ]
  },
  {
   "cell_type": "code",
   "execution_count": 2,
   "id": "6643135f-2525-4051-86de-ff4c32fa307b",
   "metadata": {},
   "outputs": [],
   "source": [
    "import pandas as pd\n",
    "import numpy as np\n",
    "import matplotlib.pyplot as plt\n",
    "import datetime"
   ]
  },
  {
   "cell_type": "code",
   "execution_count": 3,
   "id": "c2467762-74ac-4ac4-b95b-1af25fc346c0",
   "metadata": {},
   "outputs": [],
   "source": [
    "df = pd.read_csv(\"../data/progress.csv\")\n",
    "df = df.set_index(pd.to_datetime(df.time)).drop([\"time\"], axis=1)"
   ]
  },
  {
   "cell_type": "code",
   "execution_count": 4,
   "id": "a9fd9bc6-1ef8-4ab0-a84a-8d2b91e9ddb1",
   "metadata": {},
   "outputs": [],
   "source": [
    "def get_t_events(g_raw, h):\n",
    "    t_events, s_pos, s_neg = [], 0, 0\n",
    "    diff = np.log(g_raw).diff().dropna()\n",
    "    for i in diff.index[1:]:\n",
    "        try:\n",
    "            pos, neg = float(s_pos+diff.loc[i]), float(s_neg+diff.loc[i])\n",
    "        except Exception as e:\n",
    "            print(e)\n",
    "            print(s_pos+diff.loc[i], type(s_pos+diff.loc[i]))\n",
    "            print(s_neg+diff.loc[i], type(s_neg+diff.loc[i]))\n",
    "            break\n",
    "        s_pos, s_neg=max(0., pos), min(0., neg)\n",
    "        if s_neg<-h:\n",
    "            s_neg=0;t_events.append(i)\n",
    "        elif s_pos>h:\n",
    "            s_pos=0;t_events.append(i)\n",
    "    return pd.DatetimeIndex(t_events)"
   ]
  },
  {
   "cell_type": "code",
   "execution_count": 5,
   "id": "c160c91c-962e-4cb5-8d9b-8bba46c4123f",
   "metadata": {},
   "outputs": [],
   "source": [
    "t_events = get_t_events(df.close,h=df.vol.mean())"
   ]
  },
  {
   "cell_type": "code",
   "execution_count": 6,
   "id": "575665de-a5e0-4f92-aa3a-f58952b730dc",
   "metadata": {},
   "outputs": [
    {
     "data": {
      "text/plain": [
       "DatetimeIndex(['2021-01-08 19:57:56.847000', '2021-01-08 20:01:42.971000',\n",
       "               '2021-01-08 20:02:14.242000', '2021-01-08 20:02:40.178000',\n",
       "               '2021-01-08 20:04:59.035000', '2021-01-08 20:13:07.605000',\n",
       "               '2021-01-08 20:18:48.288000', '2021-01-08 20:21:14.739000',\n",
       "               '2021-01-08 20:22:50.773000', '2021-01-08 20:23:21.807000',\n",
       "               ...\n",
       "               '2021-01-10 23:23:15.016000', '2021-01-10 23:23:42.399000',\n",
       "               '2021-01-10 23:23:55.817000', '2021-01-10 23:24:03.733000',\n",
       "               '2021-01-10 23:24:24.929000', '2021-01-10 23:24:28.092000',\n",
       "               '2021-01-10 23:25:02.191000', '2021-01-10 23:25:37.310000',\n",
       "               '2021-01-10 23:25:54.102000', '2021-01-10 23:26:00.159000'],\n",
       "              dtype='datetime64[ns]', length=3528, freq=None)"
      ]
     },
     "execution_count": 6,
     "metadata": {},
     "output_type": "execute_result"
    }
   ],
   "source": [
    "t_events"
   ]
  },
  {
   "cell_type": "markdown",
   "id": "c5324a3f-0440-4099-9e97-c002b6945c96",
   "metadata": {},
   "source": [
    "## Add vertical barrier"
   ]
  },
  {
   "cell_type": "code",
   "execution_count": 7,
   "id": "b7c711c5-2f11-406f-a477-e593df708dce",
   "metadata": {},
   "outputs": [],
   "source": [
    "def add_vertical_barrier(t_events, close, num_days=1):\n",
    "    t1=close.index.searchsorted(t_events+pd.Timedelta(days=num_days))\n",
    "    t1=t1[t1<close.shape[0]]\n",
    "    t1=(pd.Series(close.index[t1],index=t_events[:t1.shape[0]]))\n",
    "    return t1"
   ]
  },
  {
   "cell_type": "code",
   "execution_count": 8,
   "id": "e8f74434-9412-4839-b66d-eb56e2e1d7d0",
   "metadata": {},
   "outputs": [
    {
     "data": {
      "text/plain": [
       "2021-01-08 19:57:56.847   2021-01-09 19:58:02.136\n",
       "2021-01-08 20:01:42.971   2021-01-09 20:01:46.999\n",
       "2021-01-08 20:02:14.242   2021-01-09 20:02:18.078\n",
       "2021-01-08 20:02:40.178   2021-01-09 20:02:50.652\n",
       "2021-01-08 20:04:59.035   2021-01-09 20:05:07.081\n",
       "                                    ...          \n",
       "2021-01-09 23:00:05.626   2021-01-10 23:00:06.758\n",
       "2021-01-09 23:13:07.833   2021-01-10 23:13:08.116\n",
       "2021-01-09 23:14:01.039   2021-01-10 23:14:02.174\n",
       "2021-01-09 23:14:13.910   2021-01-10 23:14:15.963\n",
       "2021-01-09 23:17:58.636   2021-01-10 23:17:58.851\n",
       "Name: time, Length: 739, dtype: datetime64[ns]"
      ]
     },
     "execution_count": 8,
     "metadata": {},
     "output_type": "execute_result"
    }
   ],
   "source": [
    "t1 = add_vertical_barrier(t_events, df.close, num_days=1)\n",
    "t1"
   ]
  },
  {
   "cell_type": "code",
   "execution_count": 22,
   "id": "a5e4357a-7555-4809-a3be-805284749cc9",
   "metadata": {},
   "outputs": [
    {
     "data": {
      "text/plain": [
       "time\n",
       "2021-01-08 19:57:56.847   2021-01-09 19:58:02.136\n",
       "2021-01-08 20:01:42.971   2021-01-09 20:01:46.999\n",
       "2021-01-08 20:02:14.242   2021-01-09 20:02:18.078\n",
       "2021-01-08 20:02:40.178   2021-01-09 20:02:50.652\n",
       "2021-01-08 20:04:59.035   2021-01-09 20:05:07.081\n",
       "                                    ...          \n",
       "2021-01-09 23:00:05.626   2021-01-10 23:00:06.758\n",
       "2021-01-09 23:13:07.833   2021-01-10 23:13:08.116\n",
       "2021-01-09 23:14:01.039   2021-01-10 23:14:02.174\n",
       "2021-01-09 23:14:13.910   2021-01-10 23:14:15.963\n",
       "2021-01-09 23:17:58.636   2021-01-10 23:17:58.851\n",
       "Name: time, Length: 739, dtype: datetime64[ns]"
      ]
     },
     "execution_count": 22,
     "metadata": {},
     "output_type": "execute_result"
    }
   ],
   "source": [
    "t1"
   ]
  },
  {
   "cell_type": "code",
   "execution_count": 32,
   "id": "c9c027ad-f503-46a6-970a-6c682f64cd9d",
   "metadata": {},
   "outputs": [],
   "source": [
    "t1.index.names = ['time']\n",
    "t1.rename(\"v_bar\", inplace=True)\n",
    "t1.to_csv(\"../data/t1.csv\")"
   ]
  },
  {
   "cell_type": "code",
   "execution_count": 33,
   "id": "21a68a57-1b1b-46be-a191-a249d19f4eaf",
   "metadata": {},
   "outputs": [
    {
     "data": {
      "text/plain": [
       "time\n",
       "2021-01-08 19:57:56.847   2021-01-09 19:58:02.136\n",
       "2021-01-08 20:01:42.971   2021-01-09 20:01:46.999\n",
       "2021-01-08 20:02:14.242   2021-01-09 20:02:18.078\n",
       "2021-01-08 20:02:40.178   2021-01-09 20:02:50.652\n",
       "2021-01-08 20:04:59.035   2021-01-09 20:05:07.081\n",
       "                                    ...          \n",
       "2021-01-09 23:00:05.626   2021-01-10 23:00:06.758\n",
       "2021-01-09 23:13:07.833   2021-01-10 23:13:08.116\n",
       "2021-01-09 23:14:01.039   2021-01-10 23:14:02.174\n",
       "2021-01-09 23:14:13.910   2021-01-10 23:14:15.963\n",
       "2021-01-09 23:17:58.636   2021-01-10 23:17:58.851\n",
       "Name: v_bar, Length: 739, dtype: datetime64[ns]"
      ]
     },
     "execution_count": 33,
     "metadata": {},
     "output_type": "execute_result"
    }
   ],
   "source": [
    "t1"
   ]
  },
  {
   "cell_type": "markdown",
   "id": "5a974a26-d6eb-4dab-8f00-7525011f776e",
   "metadata": {},
   "source": [
    "## Get events"
   ]
  },
  {
   "cell_type": "code",
   "execution_count": 9,
   "id": "bbf1d93d-c154-4a87-881a-be9fe0c6f883",
   "metadata": {},
   "outputs": [],
   "source": [
    "def get_events(close, t_events, ptsl, trgt, min_ret, t1=False, side=None):\n",
    "    #1) get target\n",
    "    trgt=trgt.reindex(t_events)\n",
    "    trgt=trgt[trgt>min_ret] # min_ret\n",
    "    #2) get t1 (max holding period)\n",
    "    if t1 is False:\n",
    "        t1=pd.Series(pd.NaT, index=t_events)\n",
    "    #3) form events object, apply stop loss on t1\n",
    "    if side is None:\n",
    "        side_,ptsl_=pd.Series(1.,index=trgt.index), [ptsl[0],ptsl[0]]\n",
    "    else: \n",
    "        side_,ptsl_=side.reindex(trgt.index),ptsl[:2] #side.loc[trgt.index],ptsl[:2]\n",
    "    events=(pd.concat({'t1':t1,'trgt':trgt,'side':side_}, axis=1)\n",
    "            .dropna(subset=['trgt']))\n",
    "    df0 = apply_triple_barrier(close, events, ptsl_, events.index)\n",
    "    events['t1']=df0.dropna(how='all').min(axis=1) # pd.min ignores nan\n",
    "    if side is None:\n",
    "        events=events.drop('side',axis=1)\n",
    "    return events\n",
    "\n",
    "def apply_triple_barrier(close, events, pt_sl, molecule):\n",
    "    \"\"\"\n",
    "    apply stop loss /profit taking, if it takes place between t1 (end of event)\n",
    "    \n",
    "    Arguments:\n",
    "    close -- pandas series of prices\n",
    "    events -- pandas dataframe with columns:\n",
    "        t1: The timestamp of vertical barrier. When the value is np.nan, there will not be a vertical barrier\n",
    "        trgt: The unit width of the horizontal barriers\n",
    "    pt_sl -- a list of two non-negative float values:\n",
    "        pt_sl[0] -- the factor that multiplies trgt to set the width of the upper barrier. If 0, there will not be an upper barrier\n",
    "        pt_sl[1] -- the factor that multiples trgt to set the width of the lower barrier. If 0, there will not be a lower barrier\n",
    "    molecule -- A list with the subset of event indices that will be processed by a single thread\n",
    "    \n",
    "    Output:\n",
    "    The output from this function is a pandas dataframe containing the timestamps (if any) at which each barrier was touched.\n",
    "    \"\"\"\n",
    "    events0 = events.loc[molecule]\n",
    "    out = events0[['t1']].copy(deep=True)\n",
    "    if pt_sl[0]>0:\n",
    "        pt=pt_sl[0]*events0['trgt']\n",
    "    else:\n",
    "        pt=pd.Series(index=events.index) #NaNs\n",
    "    if pt_sl[1]>0:\n",
    "        sl=-pt_sl[1]*events0['trgt']\n",
    "    else:\n",
    "        sl=pd.Series(index=events.index) #NaNs\n",
    "    for loc, t1 in events0['t1'].fillna(close.index[-1]).iteritems():\n",
    "        df0=close[loc:t1] #path prices\n",
    "        df0=(df0/close[loc]-1)*events0.at[loc, 'side'] #path returns\n",
    "        out.loc[loc, 'sl']=df0[df0<sl[loc]].index.min() #earliest stop loss\n",
    "        out.loc[loc, 'pt']=df0[df0>pt[loc]].index.min() #earliest profit taking\n",
    "    return out"
   ]
  },
  {
   "cell_type": "code",
   "execution_count": 10,
   "id": "647fd8e5-c7ee-425d-bee5-aa84a8f84031",
   "metadata": {},
   "outputs": [],
   "source": [
    "side = pd.read_csv(\"../data/side.csv\")\n",
    "side = side.set_index(pd.to_datetime(side.time)).drop([\"time\"], axis=1)\n",
    "side = pd.Series(side[\"0\"])"
   ]
  },
  {
   "cell_type": "code",
   "execution_count": 11,
   "id": "d7e55597-f0cf-43a7-96f4-d8c46fd2be1a",
   "metadata": {},
   "outputs": [],
   "source": [
    "min_ret = .0001 \n",
    "ptsl=[0.1,0.2]\n",
    "\n",
    "ma_events = get_events(df.close,t_events,ptsl,df.vol,min_ret,t1=t1,side=side)"
   ]
  },
  {
   "cell_type": "code",
   "execution_count": 12,
   "id": "4a8a6e04-924d-42ca-8bc0-27e2eca11daa",
   "metadata": {},
   "outputs": [
    {
     "data": {
      "text/plain": [
       "-1.0    13\n",
       " 1.0    11\n",
       "Name: side, dtype: int64"
      ]
     },
     "execution_count": 12,
     "metadata": {},
     "output_type": "execute_result"
    }
   ],
   "source": [
    "ma_events.side.value_counts()"
   ]
  },
  {
   "cell_type": "code",
   "execution_count": 13,
   "id": "4567675f-4504-43ad-8fba-2631e3a785ef",
   "metadata": {},
   "outputs": [
    {
     "data": {
      "text/html": [
       "<div>\n",
       "<style scoped>\n",
       "    .dataframe tbody tr th:only-of-type {\n",
       "        vertical-align: middle;\n",
       "    }\n",
       "\n",
       "    .dataframe tbody tr th {\n",
       "        vertical-align: top;\n",
       "    }\n",
       "\n",
       "    .dataframe thead th {\n",
       "        text-align: right;\n",
       "    }\n",
       "</style>\n",
       "<table border=\"1\" class=\"dataframe\">\n",
       "  <thead>\n",
       "    <tr style=\"text-align: right;\">\n",
       "      <th></th>\n",
       "      <th>t1</th>\n",
       "      <th>trgt</th>\n",
       "      <th>side</th>\n",
       "    </tr>\n",
       "  </thead>\n",
       "  <tbody>\n",
       "    <tr>\n",
       "      <th>2021-01-09 19:56:34.575</th>\n",
       "      <td>2021-01-10 19:56:34.636</td>\n",
       "      <td>0.000510</td>\n",
       "      <td>NaN</td>\n",
       "    </tr>\n",
       "    <tr>\n",
       "      <th>2021-01-09 19:58:15.444</th>\n",
       "      <td>2021-01-10 19:58:16.218</td>\n",
       "      <td>0.001966</td>\n",
       "      <td>NaN</td>\n",
       "    </tr>\n",
       "    <tr>\n",
       "      <th>2021-01-09 19:58:30.182</th>\n",
       "      <td>2021-01-10 19:58:31.098</td>\n",
       "      <td>0.002218</td>\n",
       "      <td>NaN</td>\n",
       "    </tr>\n",
       "    <tr>\n",
       "      <th>2021-01-09 20:01:02.852</th>\n",
       "      <td>2021-01-10 20:01:03.829</td>\n",
       "      <td>0.001612</td>\n",
       "      <td>NaN</td>\n",
       "    </tr>\n",
       "    <tr>\n",
       "      <th>2021-01-09 20:03:06.049</th>\n",
       "      <td>2021-01-10 20:03:07.258</td>\n",
       "      <td>0.002897</td>\n",
       "      <td>NaN</td>\n",
       "    </tr>\n",
       "    <tr>\n",
       "      <th>...</th>\n",
       "      <td>...</td>\n",
       "      <td>...</td>\n",
       "      <td>...</td>\n",
       "    </tr>\n",
       "    <tr>\n",
       "      <th>2021-01-10 23:24:28.092</th>\n",
       "      <td>NaT</td>\n",
       "      <td>0.002268</td>\n",
       "      <td>NaN</td>\n",
       "    </tr>\n",
       "    <tr>\n",
       "      <th>2021-01-10 23:25:02.191</th>\n",
       "      <td>NaT</td>\n",
       "      <td>0.002139</td>\n",
       "      <td>NaN</td>\n",
       "    </tr>\n",
       "    <tr>\n",
       "      <th>2021-01-10 23:25:37.310</th>\n",
       "      <td>NaT</td>\n",
       "      <td>0.001870</td>\n",
       "      <td>NaN</td>\n",
       "    </tr>\n",
       "    <tr>\n",
       "      <th>2021-01-10 23:25:54.102</th>\n",
       "      <td>NaT</td>\n",
       "      <td>0.001681</td>\n",
       "      <td>NaN</td>\n",
       "    </tr>\n",
       "    <tr>\n",
       "      <th>2021-01-10 23:26:00.159</th>\n",
       "      <td>NaT</td>\n",
       "      <td>0.001909</td>\n",
       "      <td>NaN</td>\n",
       "    </tr>\n",
       "  </tbody>\n",
       "</table>\n",
       "<p>2849 rows × 3 columns</p>\n",
       "</div>"
      ],
      "text/plain": [
       "                                             t1      trgt  side\n",
       "2021-01-09 19:56:34.575 2021-01-10 19:56:34.636  0.000510   NaN\n",
       "2021-01-09 19:58:15.444 2021-01-10 19:58:16.218  0.001966   NaN\n",
       "2021-01-09 19:58:30.182 2021-01-10 19:58:31.098  0.002218   NaN\n",
       "2021-01-09 20:01:02.852 2021-01-10 20:01:03.829  0.001612   NaN\n",
       "2021-01-09 20:03:06.049 2021-01-10 20:03:07.258  0.002897   NaN\n",
       "...                                         ...       ...   ...\n",
       "2021-01-10 23:24:28.092                     NaT  0.002268   NaN\n",
       "2021-01-10 23:25:02.191                     NaT  0.002139   NaN\n",
       "2021-01-10 23:25:37.310                     NaT  0.001870   NaN\n",
       "2021-01-10 23:25:54.102                     NaT  0.001681   NaN\n",
       "2021-01-10 23:26:00.159                     NaT  0.001909   NaN\n",
       "\n",
       "[2849 rows x 3 columns]"
      ]
     },
     "execution_count": 13,
     "metadata": {},
     "output_type": "execute_result"
    }
   ],
   "source": [
    "ma_events"
   ]
  },
  {
   "cell_type": "code",
   "execution_count": 19,
   "id": "55b674ea-4e39-4e28-aa61-ec8a4e1fdef3",
   "metadata": {},
   "outputs": [],
   "source": [
    "ma_events.index.names = ['time']\n",
    "ma_events.to_csv(\"../data/progress3.csv\")"
   ]
  },
  {
   "cell_type": "code",
   "execution_count": null,
   "id": "fd905fc4-d89d-411e-bb42-bca4bb7e4fd9",
   "metadata": {},
   "outputs": [],
   "source": []
  }
 ],
 "metadata": {
  "kernelspec": {
   "display_name": "Python 3",
   "language": "python",
   "name": "python3"
  },
  "language_info": {
   "codemirror_mode": {
    "name": "ipython",
    "version": 3
   },
   "file_extension": ".py",
   "mimetype": "text/x-python",
   "name": "python",
   "nbconvert_exporter": "python",
   "pygments_lexer": "ipython3",
   "version": "3.9.4"
  }
 },
 "nbformat": 4,
 "nbformat_minor": 5
}
