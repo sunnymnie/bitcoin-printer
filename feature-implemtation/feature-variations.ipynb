{
 "cells": [
  {
   "cell_type": "markdown",
   "id": "83972744-cbf5-4607-8b22-d5301ec874d1",
   "metadata": {},
   "source": [
    "# Feature variations"
   ]
  },
  {
   "cell_type": "markdown",
   "id": "7190177f-3ccc-488b-a106-0bf9185b3a91",
   "metadata": {},
   "source": [
    "## Momentum"
   ]
  },
  {
   "cell_type": "code",
   "execution_count": null,
   "id": "c2a89a60-ab1f-4854-b21c-80ad58b0b1ae",
   "metadata": {},
   "outputs": [],
   "source": [
    "# RSI\n",
    "def variations(windows:list[int]):\n",
    "    \"\"\"\n",
    "    returns variations of rsi indicator with given windows\n",
    "    \"\"\"\n",
    "    name = \"rsi_\"\n",
    "    for w in windows:\n",
    "\n",
    "        i = RSIIndicator(df.close, w)\n",
    "        df[name + str(w)] = i.rsi()\n",
    "        df[name + \"rate_\" + str(w)] = uf.get_rate(uf.get_moving_average(df[name + str(w)], w))\n",
    "variations([10, 100, 1000])\n"
   ]
  },
  {
   "cell_type": "code",
   "execution_count": null,
   "id": "233dd7f5-2b00-411f-bc1b-7bc9d514c5f7",
   "metadata": {},
   "outputs": [],
   "source": [
    "# PPO Percentage Price Oscillator\n",
    "def variations(windows:list[int]):\n",
    "    \"\"\"\n",
    "    returns variations of rsi indicator with given windows\n",
    "    \"\"\"\n",
    "    name = \"ppo_\"\n",
    "    for s in windows:\n",
    "        f = s*2\n",
    "        sl = int(float(f)*2.5)\n",
    "        i = PercentagePriceOscillator(df.close, sl, f, s)\n",
    "        sma_name = name + str(s)\n",
    "        df[name + str(s)] = i.ppo()\n",
    "        df[name + \"hist_\" + str(s)] = i.ppo_hist()\n",
    "        df[name + \"signal_\" + str(s)] = i.ppo_signal()\n",
    "        df[name + \"rate_\" + str(s)] = uf.get_rate(uf.get_moving_average(df[name + str(s)], s))\n",
    "        df[name + \"hist_rate_\" + str(s)] = uf.get_rate(uf.get_moving_average(df[name + \"hist_\" + str(s)], s))\n",
    "        df[name + \"sig_rate_\" + str(s)] = uf.get_rate(uf.get_moving_average(df[name + \"signal_\" + str(s)], s))\n",
    "\n",
    "variations([20, 100, 1000])"
   ]
  },
  {
   "cell_type": "markdown",
   "id": "2f501092-fa17-4ee2-a18f-c81524689318",
   "metadata": {},
   "source": [
    "## Trend"
   ]
  },
  {
   "cell_type": "code",
   "execution_count": null,
   "id": "64ba40e5-2f0d-4c81-b385-46ce26e796ef",
   "metadata": {},
   "outputs": [],
   "source": [
    "# ARN Aroonindicator\n",
    "def variations(windows:list[int]):\n",
    "    \"\"\"\n",
    "    returns variations of arn indicator with given windows\n",
    "    \"\"\"\n",
    "    name = \"arn_\"\n",
    "    for w in windows:\n",
    "        i = AroonIndicator(df.close, window=w)\n",
    "        df[name + \"down_\" + str(w)] = i.aroon_down()\n",
    "        df[name + str(w)] = i.aroon_indicator()\n",
    "        df[name + \"up_\" + str(w)] = i.aroon_up()\n",
    "        df[name + \"rate_\" + str(w)] = uf.get_rate(uf.get_moving_average(df[name + str(w)], w))\n",
    "        df[name + \"down_rate_\" + str(w)] = uf.get_rate(uf.get_moving_average(df[name + \"down_\" + str(w)], w))\n",
    "        df[name + \"up_rate_\" + str(w)] = uf.get_rate(uf.get_moving_average(df[name + \"up_\" + str(w)], w))\n",
    "variations([10, 100, 1000])"
   ]
  },
  {
   "cell_type": "code",
   "execution_count": null,
   "id": "4c8a3451-8ea9-461e-8f0c-6aff0e251db5",
   "metadata": {},
   "outputs": [],
   "source": [
    "# TRIX\n",
    "def variations(windows:list[int]):\n",
    "    \"\"\"\n",
    "    returns variations of atr indicator with given windows\n",
    "    \"\"\"\n",
    "    name = \"trix_\"\n",
    "    for w in windows:\n",
    "        i = TRIXIndicator(df.close, window=w)\n",
    "        df[name + str(w)] = i.trix()\n",
    "        df[name + \"rate_\" + str(w)] = uf.get_rate(uf.get_moving_average(df[name + str(w)], w))\n",
    "variations([10, 100, 1000])"
   ]
  },
  {
   "cell_type": "markdown",
   "id": "18876a7f-7869-48c0-b2e2-e76bd97f889a",
   "metadata": {},
   "source": [
    "## Volatility"
   ]
  },
  {
   "cell_type": "code",
   "execution_count": null,
   "id": "0648a890-16b4-44bb-81cd-944537bef44d",
   "metadata": {},
   "outputs": [],
   "source": [
    "# BB Bollinger bands\n",
    "def variations(windows:list[int]):\n",
    "    \"\"\"\n",
    "    returns variations of atr indicator with given windows\n",
    "    \"\"\"\n",
    "    name = \"bb_\"\n",
    "    for w in windows:\n",
    "        bb = BollingerBands(df[\"close\"], window=w, window_dev=2)\n",
    "        df[name + \"pband_\" + str(w)] = bb.bollinger_pband()\n",
    "        df[name + \"wband_\" + str(w)] = bb.bollinger_wband() #width band, try width/close\n",
    "        df[name + \"pband_rate_\" + str(w)] = uf.get_rate(uf.get_moving_average(df[name + \"pband_\" + str(w)], w))\n",
    "        df[name + \"wband_rate_\" + str(w)] = uf.get_rate(uf.get_moving_average(df[name + \"wband_\" + str(w)], w))\n",
    "        \n",
    "variations([10, 100, 1000])"
   ]
  },
  {
   "cell_type": "markdown",
   "id": "43317e37-8a15-4997-8c77-42fe50c0cc09",
   "metadata": {},
   "source": [
    "## Volume"
   ]
  },
  {
   "cell_type": "code",
   "execution_count": null,
   "id": "8bc74350-5dec-4b45-8ae0-bc30c4b6eb67",
   "metadata": {},
   "outputs": [],
   "source": [
    "# Force Indicator FI\n",
    "def variations(windows:list[int]):\n",
    "    \"\"\"\n",
    "    returns variations of atr indicator with given windows\n",
    "    \"\"\"\n",
    "    name = \"fi_\"\n",
    "    for w in windows:\n",
    "        i = ForceIndexIndicator(df.close, df.volume, window=w)\n",
    "        df[name + str(w)] = list(map(lambda x: uf.log_abs(x*10), i.force_index()))\n",
    "        df[name + \"rate_\" + str(w)] = uf.get_rate(uf.get_moving_average(df[name + str(w)], w))\n",
    "variations([10, 100, 1000])"
   ]
  },
  {
   "cell_type": "markdown",
   "id": "9bcf88c5-9147-4e07-bbc8-a3ea67550733",
   "metadata": {},
   "source": [
    "## Saved"
   ]
  },
  {
   "cell_type": "code",
   "execution_count": null,
   "id": "3265b612-48f3-4e59-b084-ae9cbbeecfa9",
   "metadata": {},
   "outputs": [],
   "source": [
    "# RSI\n",
    "def variations(windows:list[int]):\n",
    "    \"\"\"\n",
    "    returns variations of rsi indicator with given windows\n",
    "    \"\"\"\n",
    "    name = \"rsi_\"\n",
    "    for w in windows:\n",
    "\n",
    "        i = RSIIndicator(df.close, w)\n",
    "        df[name + str(w)] = i.rsi()\n",
    "        df[name + \"rate_\" + str(w)] = uf.get_rate(uf.get_moving_average(df[name + str(w)], w))\n",
    "variations([10, 100, 1000])\n",
    "\n",
    "# ARN Aroonindicator\n",
    "def variations(windows:list[int]):\n",
    "    \"\"\"\n",
    "    returns variations of arn indicator with given windows\n",
    "    \"\"\"\n",
    "    name = \"arn_\"\n",
    "    for w in windows:\n",
    "        i = AroonIndicator(df.close, window=w)\n",
    "        df[name + \"down_\" + str(w)] = i.aroon_down()\n",
    "        df[name + str(w)] = i.aroon_indicator()\n",
    "        df[name + \"up_\" + str(w)] = i.aroon_up()\n",
    "        df[name + \"rate_\" + str(w)] = uf.get_rate(uf.get_moving_average(df[name + str(w)], w))\n",
    "        df[name + \"down_rate_\" + str(w)] = uf.get_rate(uf.get_moving_average(df[name + \"down_\" + str(w)], w))\n",
    "        df[name + \"up_rate_\" + str(w)] = uf.get_rate(uf.get_moving_average(df[name + \"up_\" + str(w)], w))\n",
    "variations([10, 100, 1000])\n",
    "\n",
    "# BB Bollinger bands\n",
    "def variations(windows:list[int]):\n",
    "    \"\"\"\n",
    "    returns variations of atr indicator with given windows\n",
    "    \"\"\"\n",
    "    name = \"bb_\"\n",
    "    for w in windows:\n",
    "        bb = BollingerBands(df[\"close\"], window=w, window_dev=2)\n",
    "        df[name + \"pband_\" + str(w)] = bb.bollinger_pband()\n",
    "        df[name + \"wband_\" + str(w)] = bb.bollinger_wband() #width band, try width/close\n",
    "        df[name + \"pband_rate_\" + str(w)] = uf.get_rate(uf.get_moving_average(df[name + \"pband_\" + str(w)], w))\n",
    "        df[name + \"wband_rate_\" + str(w)] = uf.get_rate(uf.get_moving_average(df[name + \"wband_\" + str(w)], w))\n",
    "        \n",
    "variations([10, 100, 1000])\n",
    "\n",
    "# Force Indicator FI\n",
    "def variations(windows:list[int]):\n",
    "    \"\"\"\n",
    "    returns variations of atr indicator with given windows\n",
    "    \"\"\"\n",
    "    name = \"fi_\"\n",
    "    for w in windows:\n",
    "        i = ForceIndexIndicator(df.close, df.volume, window=w)\n",
    "        df[name + str(w)] = list(map(lambda x: uf.log_abs(x*10), i.force_index()))\n",
    "        df[name + \"rate_\" + str(w)] = uf.get_rate(uf.get_moving_average(df[name + str(w)], w))\n",
    "variations([10, 100, 1000])"
   ]
  }
 ],
 "metadata": {
  "kernelspec": {
   "display_name": "Python 3",
   "language": "python",
   "name": "python3"
  },
  "language_info": {
   "codemirror_mode": {
    "name": "ipython",
    "version": 3
   },
   "file_extension": ".py",
   "mimetype": "text/x-python",
   "name": "python",
   "nbconvert_exporter": "python",
   "pygments_lexer": "ipython3",
   "version": "3.9.4"
  }
 },
 "nbformat": 4,
 "nbformat_minor": 5
}
