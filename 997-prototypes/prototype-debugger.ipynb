{
 "cells": [
  {
   "cell_type": "markdown",
   "id": "13136115-1b15-427e-9dae-2d81e825434d",
   "metadata": {},
   "source": [
    "# Prototype debugger"
   ]
  },
  {
   "cell_type": "code",
   "execution_count": 52,
   "id": "f0926030-3479-4308-8e43-2305b680a3e1",
   "metadata": {},
   "outputs": [],
   "source": [
    "# Imports\n",
    "import pandas as pd\n",
    "from binance.client import Client\n",
    "from binance.enums import * #https://github.com/sammchardy/python-binance/blob/master/binance/enums.py\n",
    "import datetime\n",
    "import json\n",
    "import math\n",
    "\n",
    "import schedule\n",
    "import time\n",
    "from datetime import datetime, timedelta\n",
    "from joblib import dump, load\n",
    "\n",
    "import statsmodels.formula.api as sm\n",
    "import matplotlib.pyplot as plt\n",
    "import pandas as pd\n",
    "import numpy as np\n",
    "\n",
    "from IPython.display import clear_output\n",
    "\n",
    "def get_api_keys(site: str, api_type: str)->str:\n",
    "    \"\"\"\n",
    "    gets api keys stored in api-keys/api-keys.txt\n",
    "    site: 'binance'\n",
    "    api_type: 'api', 'secret'\n",
    "    \"\"\"\n",
    "    with open('../api-keys/api-keys.txt') as json_file:\n",
    "        return json.load(json_file)[site][api_type]\n",
    "# Constants\n",
    "api_key = get_api_keys(\"binance\", \"api\")\n",
    "api_secret = get_api_keys(\"binance\", \"secret\")\n",
    "\n",
    "client = Client(api_key=api_key, api_secret=api_secret)"
   ]
  },
  {
   "cell_type": "code",
   "execution_count": 53,
   "id": "d85cb0e1-a7bd-4070-bc34-034cd2f0d896",
   "metadata": {},
   "outputs": [],
   "source": [
    "def get_margin_asset(name:str):\n",
    "    \"\"\"returns a dictionary with:\n",
    "    - asset name\n",
    "    - free\n",
    "    - locked\n",
    "    - borrowed\n",
    "    - interest\n",
    "    - netAsset\"\"\"\n",
    "    return list(filter(lambda x: x['asset'] == name, client.get_margin_account()[\"userAssets\"]))[0]"
   ]
  },
  {
   "cell_type": "code",
   "execution_count": 33,
   "id": "2bf2a44a-77b1-4052-860e-8ff22e12ad36",
   "metadata": {},
   "outputs": [
    {
     "data": {
      "text/plain": [
       "{'tranId': 69737862700, 'clientTag': ''}"
      ]
     },
     "execution_count": 33,
     "metadata": {},
     "output_type": "execute_result"
    }
   ],
   "source": [
    "client.transfer_spot_to_isolated_margin(asset='USDT', symbol='CELRUSDT', amount='0.13')"
   ]
  },
  {
   "cell_type": "code",
   "execution_count": 57,
   "id": "80558740-8cb4-4eaa-ae61-893f9d551bc9",
   "metadata": {},
   "outputs": [],
   "source": [
    "c = client.get_isolated_margin_account()"
   ]
  },
  {
   "cell_type": "code",
   "execution_count": 58,
   "id": "6555ed14-e073-4f0d-a9c7-68547cbe92a0",
   "metadata": {},
   "outputs": [
    {
     "data": {
      "text/plain": [
       "{'assets': [{'baseAsset': {'asset': 'CELR',\n",
       "    'borrowEnabled': True,\n",
       "    'borrowed': '0',\n",
       "    'free': '0',\n",
       "    'interest': '0',\n",
       "    'locked': '0',\n",
       "    'netAsset': '0',\n",
       "    'netAssetOfBtc': '0',\n",
       "    'repayEnabled': True,\n",
       "    'totalAsset': '0'},\n",
       "   'quoteAsset': {'asset': 'USDT',\n",
       "    'borrowEnabled': True,\n",
       "    'borrowed': '0',\n",
       "    'free': '17.7133',\n",
       "    'interest': '0',\n",
       "    'locked': '0',\n",
       "    'netAsset': '17.7133',\n",
       "    'netAssetOfBtc': '0.00055744',\n",
       "    'repayEnabled': True,\n",
       "    'totalAsset': '17.7133'},\n",
       "   'symbol': 'CELRUSDT',\n",
       "   'isolatedCreated': True,\n",
       "   'marginLevel': '999',\n",
       "   'marginLevelStatus': 'EXCESSIVE',\n",
       "   'marginRatio': '5',\n",
       "   'indexPrice': '0.02371997',\n",
       "   'liquidatePrice': '0',\n",
       "   'liquidateRate': '0',\n",
       "   'tradeEnabled': True},\n",
       "  {'baseAsset': {'asset': 'FET',\n",
       "    'borrowEnabled': True,\n",
       "    'borrowed': '0',\n",
       "    'free': '0',\n",
       "    'interest': '0',\n",
       "    'locked': '0',\n",
       "    'netAsset': '0',\n",
       "    'netAssetOfBtc': '0',\n",
       "    'repayEnabled': True,\n",
       "    'totalAsset': '0'},\n",
       "   'quoteAsset': {'asset': 'USDT',\n",
       "    'borrowEnabled': True,\n",
       "    'borrowed': '0',\n",
       "    'free': '17.71322101',\n",
       "    'interest': '0',\n",
       "    'locked': '0',\n",
       "    'netAsset': '17.71322101',\n",
       "    'netAssetOfBtc': '0.00055744',\n",
       "    'repayEnabled': True,\n",
       "    'totalAsset': '17.71322101'},\n",
       "   'symbol': 'FETUSDT',\n",
       "   'isolatedCreated': True,\n",
       "   'marginLevel': '999',\n",
       "   'marginLevelStatus': 'EXCESSIVE',\n",
       "   'marginRatio': '5',\n",
       "   'indexPrice': '0.21656162',\n",
       "   'liquidatePrice': '0',\n",
       "   'liquidateRate': '0',\n",
       "   'tradeEnabled': True}],\n",
       " 'totalAssetOfBtc': '0.00111487',\n",
       " 'totalLiabilityOfBtc': '0',\n",
       " 'totalNetAssetOfBtc': '0.00111487'}"
      ]
     },
     "execution_count": 58,
     "metadata": {},
     "output_type": "execute_result"
    }
   ],
   "source": [
    "c"
   ]
  },
  {
   "cell_type": "code",
   "execution_count": 28,
   "id": "2df3b03d-3677-432a-a6f2-02a6eed5989d",
   "metadata": {},
   "outputs": [],
   "source": [
    "def get_isolated_margin_account(base_asset: str):\n",
    "    \"\"\"Returns dict for isolated margin account for base_asset. Enter base_asset as 'FET'. Do NOT include USDT\"\"\"\n",
    "    c = client.get_isolated_margin_account()\n",
    "    return list(filter(lambda x: x[\"baseAsset\"][\"asset\"] == base_asset, c[\"assets\"]))[0]"
   ]
  },
  {
   "cell_type": "code",
   "execution_count": 39,
   "id": "f42c3a37-c058-4982-a87d-7c3b2a411afb",
   "metadata": {},
   "outputs": [],
   "source": [
    "a = get_isolated_margin_account(\"FET\")"
   ]
  },
  {
   "cell_type": "code",
   "execution_count": 51,
   "id": "7da01138-51f4-4856-be9e-252e32f414ce",
   "metadata": {},
   "outputs": [
    {
     "data": {
      "text/plain": [
       "'999'"
      ]
     },
     "execution_count": 51,
     "metadata": {},
     "output_type": "execute_result"
    }
   ],
   "source": [
    "a['marginLevel']"
   ]
  },
  {
   "cell_type": "code",
   "execution_count": 49,
   "id": "0277a816-2982-467c-859b-25c968d61ea5",
   "metadata": {},
   "outputs": [
    {
     "name": "stdout",
     "output_type": "stream",
     "text": [
      "asset: FET\n",
      "borrowed: 0\n",
      "free: 0\n",
      "interest: 0\n",
      "netAsset: 0\n",
      "asset: USDT\n",
      "borrowed: 0\n",
      "free: 0.07\n",
      "interest: 0\n",
      "netAsset: 0.07\n"
     ]
    }
   ],
   "source": [
    "for item in a[\"baseAsset\"]:\n",
    "    if item in [\"asset\", \"borrowed\", \"free\", \"interest\", \"netAsset\"]:\n",
    "        print(f\"{item}: {a['baseAsset'][item]}\")\n",
    "for item in a[\"quoteAsset\"]:\n",
    "    if item in [\"asset\", \"borrowed\", \"free\", \"interest\", \"netAsset\"]:\n",
    "        print(f\"{item}: {a['quoteAsset'][item]}\")"
   ]
  },
  {
   "cell_type": "code",
   "execution_count": 37,
   "id": "4fcd2822-9c9a-4f27-99e8-9a464d375883",
   "metadata": {},
   "outputs": [
    {
     "data": {
      "text/plain": [
       "0.06"
      ]
     },
     "execution_count": 37,
     "metadata": {},
     "output_type": "execute_result"
    }
   ],
   "source": [
    "float(get_isolated_margin_account(\"CELR\")[\"quoteAsset\"][\"free\"])"
   ]
  },
  {
   "cell_type": "code",
   "execution_count": 26,
   "id": "c8f29d5b-63c9-42f4-97a9-16d07a2f1582",
   "metadata": {},
   "outputs": [
    {
     "data": {
      "text/plain": [
       "{'tranId': 69727232518, 'clientTag': ''}"
      ]
     },
     "execution_count": 26,
     "metadata": {},
     "output_type": "execute_result"
    }
   ],
   "source": [
    "client.transfer_isolated_margin_to_spot(asset='USDT', symbol='CELRUSDT', amount='0.13')"
   ]
  },
  {
   "cell_type": "code",
   "execution_count": 15,
   "id": "dbe7f258-b10b-4ab1-8f87-92b46449c54b",
   "metadata": {},
   "outputs": [
    {
     "data": {
      "text/plain": [
       "True"
      ]
     },
     "execution_count": 15,
     "metadata": {},
     "output_type": "execute_result"
    }
   ],
   "source": [
    "client.get_margin_trades(symbol='XMRUSDT')[-1][\"isBuyer\"] == False"
   ]
  },
  {
   "cell_type": "code",
   "execution_count": 3,
   "id": "9ab945c5-ba43-4535-8273-2b96e544ad02",
   "metadata": {},
   "outputs": [
    {
     "data": {
      "text/plain": [
       "{'asset': 'USDT',\n",
       " 'free': '36.63503488',\n",
       " 'locked': '0',\n",
       " 'borrowed': '0',\n",
       " 'interest': '0',\n",
       " 'netAsset': '36.63503488'}"
      ]
     },
     "execution_count": 3,
     "metadata": {},
     "output_type": "execute_result"
    }
   ],
   "source": [
    "get_margin_asset(\"USDT\")"
   ]
  },
  {
   "cell_type": "code",
   "execution_count": 4,
   "id": "097b36bd-5b43-4d2c-89e9-b95e8ac70109",
   "metadata": {},
   "outputs": [
    {
     "data": {
      "text/plain": [
       "{'asset': 'ZEC',\n",
       " 'free': '0.1814078',\n",
       " 'locked': '0',\n",
       " 'borrowed': '0',\n",
       " 'interest': '0',\n",
       " 'netAsset': '0.1814078'}"
      ]
     },
     "execution_count": 4,
     "metadata": {},
     "output_type": "execute_result"
    }
   ],
   "source": [
    "get_margin_asset(\"ZEC\")"
   ]
  },
  {
   "cell_type": "code",
   "execution_count": 5,
   "id": "ffbbfb60-655e-4671-b79d-cc05474918a1",
   "metadata": {},
   "outputs": [
    {
     "data": {
      "text/plain": [
       "{'asset': 'XMR',\n",
       " 'free': '0.00000835',\n",
       " 'locked': '0',\n",
       " 'borrowed': '0.09252',\n",
       " 'interest': '0.00001545',\n",
       " 'netAsset': '-0.0925271'}"
      ]
     },
     "execution_count": 5,
     "metadata": {},
     "output_type": "execute_result"
    }
   ],
   "source": [
    "get_margin_asset(\"XMR\")"
   ]
  },
  {
   "cell_type": "code",
   "execution_count": 55,
   "id": "dac74672-846c-4571-af3a-aab1e10f2b6f",
   "metadata": {},
   "outputs": [],
   "source": [
    "df1 = pd.read_csv(\"../data/ZECUSDT-past.csv\")\n",
    "df2 = pd.read_csv(\"../data/XMRUSDT-past.csv\")\n",
    "df1.set_index(\"timestamp\", inplace=True)\n",
    "df2.set_index(\"timestamp\", inplace=True)"
   ]
  },
  {
   "cell_type": "code",
   "execution_count": 58,
   "id": "e1a0aa79-aa95-4e0c-952a-a6c0a579ad8b",
   "metadata": {},
   "outputs": [],
   "source": [
    "df = df1.open.rename(\"A\").to_frame()\n",
    "df[\"B\"] = df2.open\n",
    "# df[\"C\"] = df3.close"
   ]
  },
  {
   "cell_type": "code",
   "execution_count": 59,
   "id": "a1d6bef2-f2f3-4fbf-9704-01b177bf4e8e",
   "metadata": {},
   "outputs": [],
   "source": [
    "df = df[4000:]\n",
    "df = df.dropna()"
   ]
  },
  {
   "cell_type": "code",
   "execution_count": 60,
   "id": "2d371c85-8e36-4bde-a288-5691c32699bb",
   "metadata": {},
   "outputs": [
    {
     "data": {
      "text/html": [
       "<div>\n",
       "<style scoped>\n",
       "    .dataframe tbody tr th:only-of-type {\n",
       "        vertical-align: middle;\n",
       "    }\n",
       "\n",
       "    .dataframe tbody tr th {\n",
       "        vertical-align: top;\n",
       "    }\n",
       "\n",
       "    .dataframe thead th {\n",
       "        text-align: right;\n",
       "    }\n",
       "</style>\n",
       "<table border=\"1\" class=\"dataframe\">\n",
       "  <thead>\n",
       "    <tr style=\"text-align: right;\">\n",
       "      <th></th>\n",
       "      <th>A</th>\n",
       "      <th>B</th>\n",
       "    </tr>\n",
       "    <tr>\n",
       "      <th>timestamp</th>\n",
       "      <th></th>\n",
       "      <th></th>\n",
       "    </tr>\n",
       "  </thead>\n",
       "  <tbody>\n",
       "    <tr>\n",
       "      <th>1553380800000</th>\n",
       "      <td>56.41</td>\n",
       "      <td>52.37</td>\n",
       "    </tr>\n",
       "    <tr>\n",
       "      <th>1553380860000</th>\n",
       "      <td>56.41</td>\n",
       "      <td>52.37</td>\n",
       "    </tr>\n",
       "    <tr>\n",
       "      <th>1553380920000</th>\n",
       "      <td>56.41</td>\n",
       "      <td>52.37</td>\n",
       "    </tr>\n",
       "    <tr>\n",
       "      <th>1553380980000</th>\n",
       "      <td>56.41</td>\n",
       "      <td>52.37</td>\n",
       "    </tr>\n",
       "    <tr>\n",
       "      <th>1553381040000</th>\n",
       "      <td>56.41</td>\n",
       "      <td>52.37</td>\n",
       "    </tr>\n",
       "    <tr>\n",
       "      <th>...</th>\n",
       "      <td>...</td>\n",
       "      <td>...</td>\n",
       "    </tr>\n",
       "    <tr>\n",
       "      <th>1626327660000</th>\n",
       "      <td>102.01</td>\n",
       "      <td>197.83</td>\n",
       "    </tr>\n",
       "    <tr>\n",
       "      <th>1626327720000</th>\n",
       "      <td>102.04</td>\n",
       "      <td>197.70</td>\n",
       "    </tr>\n",
       "    <tr>\n",
       "      <th>1626327780000</th>\n",
       "      <td>102.09</td>\n",
       "      <td>197.82</td>\n",
       "    </tr>\n",
       "    <tr>\n",
       "      <th>1626327840000</th>\n",
       "      <td>102.14</td>\n",
       "      <td>197.68</td>\n",
       "    </tr>\n",
       "    <tr>\n",
       "      <th>1626327900000</th>\n",
       "      <td>101.99</td>\n",
       "      <td>197.62</td>\n",
       "    </tr>\n",
       "  </tbody>\n",
       "</table>\n",
       "<p>1212526 rows × 2 columns</p>\n",
       "</div>"
      ],
      "text/plain": [
       "                    A       B\n",
       "timestamp                    \n",
       "1553380800000   56.41   52.37\n",
       "1553380860000   56.41   52.37\n",
       "1553380920000   56.41   52.37\n",
       "1553380980000   56.41   52.37\n",
       "1553381040000   56.41   52.37\n",
       "...               ...     ...\n",
       "1626327660000  102.01  197.83\n",
       "1626327720000  102.04  197.70\n",
       "1626327780000  102.09  197.82\n",
       "1626327840000  102.14  197.68\n",
       "1626327900000  101.99  197.62\n",
       "\n",
       "[1212526 rows x 2 columns]"
      ]
     },
     "execution_count": 60,
     "metadata": {},
     "output_type": "execute_result"
    }
   ],
   "source": [
    "df"
   ]
  },
  {
   "cell_type": "code",
   "execution_count": 61,
   "id": "319af872-f816-4fd4-be15-bd044db71a64",
   "metadata": {},
   "outputs": [
    {
     "data": {
      "image/png": "[encoded data removed]",
      "text/plain": [
       "<Figure size 864x576 with 3 Axes>"
      ]
     },
     "metadata": {
      "needs_background": "light"
     },
     "output_type": "display_data"
    }
   ],
   "source": [
    "fig, (ax, ax1) = plt.subplots(2, figsize=(12, 8))\n",
    "ax.plot(df[df.columns[0]], color=\"lightblue\", alpha=.95)\n",
    "axi = ax.twinx()\n",
    "axi.plot(df[df.columns[1]], color=\"orange\", alpha=.75)\n",
    "ax1.scatter(df[df.columns[0]], df[df.columns[1]]);"
   ]
  },
  {
   "cell_type": "code",
   "execution_count": 47,
   "id": "6c4247fa-746b-4d3e-8695-29e0424516e1",
   "metadata": {},
   "outputs": [
    {
     "name": "stdout",
     "output_type": "stream",
     "text": [
      "Intercept   -3.409302\n",
      "A            1.535786\n",
      "dtype: float64\n",
      "hedgeRatio=1.535786\n"
     ]
    }
   ],
   "source": [
    "results = sm.ols(formula=\"B ~ A\", data=df[['B', 'A']]).fit()\n",
    "print(results.params)\n",
    "hedgeRatio = results.params[1]\n",
    "print('hedgeRatio=%f' % hedgeRatio)"
   ]
  },
  {
   "cell_type": "code",
   "execution_count": 48,
   "id": "ff18335d-5e83-4564-b05c-b06fce03675b",
   "metadata": {},
   "outputs": [
    {
     "data": {
      "text/plain": [
       "<AxesSubplot:xlabel='timestamp'>"
      ]
     },
     "execution_count": 48,
     "metadata": {},
     "output_type": "execute_result"
    },
    {
     "data": {
      "image/png": "[encoded data removed]",
      "text/plain": [
       "<Figure size 432x288 with 1 Axes>"
      ]
     },
     "metadata": {
      "needs_background": "light"
     },
     "output_type": "display_data"
    }
   ],
   "source": [
    "spread = pd.Series((df['B'] - hedgeRatio * df['A'])).rename(\"spread\").to_frame()\n",
    "spread[\"mean\"] = spread.spread.rolling(2000).mean()\n",
    "spread[\"std\"] =  spread.spread.rolling(2000).std()\n",
    "spread[\"zscore\"] = pd.Series((spread[\"spread\"]-spread[\"mean\"])/spread[\"std\"])\n",
    "spread.spread.plot()"
   ]
  },
  {
   "cell_type": "code",
   "execution_count": 49,
   "id": "23d2fb08-5f08-4d00-ab26-7c5a15874113",
   "metadata": {},
   "outputs": [
    {
     "data": {
      "text/plain": [
       "<AxesSubplot:xlabel='timestamp'>"
      ]
     },
     "execution_count": 49,
     "metadata": {},
     "output_type": "execute_result"
    },
    {
     "data": {
      "image/png": "[encoded data removed]",
      "text/plain": [
       "<Figure size 432x288 with 1 Axes>"
      ]
     },
     "metadata": {
      "needs_background": "light"
     },
     "output_type": "display_data"
    }
   ],
   "source": [
    "spread[\"zscore\"][-1500:].plot()"
   ]
  },
  {
   "cell_type": "code",
   "execution_count": null,
   "id": "e0eff1f7-7f25-441a-b041-07cd8008f06b",
   "metadata": {},
   "outputs": [],
   "source": []
  }
 ],
 "metadata": {
  "kernelspec": {
   "display_name": "Python 3",
   "language": "python",
   "name": "python3"
  },
  "language_info": {
   "codemirror_mode": {
    "name": "ipython",
    "version": 3
   },
   "file_extension": ".py",
   "mimetype": "text/x-python",
   "name": "python",
   "nbconvert_exporter": "python",
   "pygments_lexer": "ipython3",
   "version": "3.9.4"
  }
 },
 "nbformat": 4,
 "nbformat_minor": 5
}
