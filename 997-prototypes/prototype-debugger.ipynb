{
 "cells": [
  {
   "cell_type": "markdown",
   "id": "13136115-1b15-427e-9dae-2d81e825434d",
   "metadata": {},
   "source": [
    "# Prototype debugger"
   ]
  },
  {
   "cell_type": "code",
   "execution_count": 52,
   "id": "f0926030-3479-4308-8e43-2305b680a3e1",
   "metadata": {},
   "outputs": [],
   "source": [
    "# Imports\n",
    "import pandas as pd\n",
    "from binance.client import Client\n",
    "from binance.enums import * #https://github.com/sammchardy/python-binance/blob/master/binance/enums.py\n",
    "import datetime\n",
    "import json\n",
    "import math\n",
    "\n",
    "import schedule\n",
    "import time\n",
    "from datetime import datetime, timedelta\n",
    "from joblib import dump, load\n",
    "\n",
    "import statsmodels.formula.api as sm\n",
    "import matplotlib.pyplot as plt\n",
    "import pandas as pd\n",
    "import numpy as np\n",
    "\n",
    "from IPython.display import clear_output\n",
    "\n",
    "def get_api_keys(site: str, api_type: str)->str:\n",
    "    \"\"\"\n",
    "    gets api keys stored in api-keys/api-keys.txt\n",
    "    site: 'binance'\n",
    "    api_type: 'api', 'secret'\n",
    "    \"\"\"\n",
    "    with open('../api-keys/api-keys.txt') as json_file:\n",
    "        return json.load(json_file)[site][api_type]\n",
    "# Constants\n",
    "api_key = get_api_keys(\"binance\", \"api\")\n",
    "api_secret = get_api_keys(\"binance\", \"secret\")\n",
    "\n",
    "client = Client(api_key=api_key, api_secret=api_secret)"
   ]
  },
  {
   "cell_type": "code",
   "execution_count": 53,
   "id": "d85cb0e1-a7bd-4070-bc34-034cd2f0d896",
   "metadata": {},
   "outputs": [],
   "source": [
    "def get_margin_asset(name:str):\n",
    "    \"\"\"returns a dictionary with:\n",
    "    - asset name\n",
    "    - free\n",
    "    - locked\n",
    "    - borrowed\n",
    "    - interest\n",
    "    - netAsset\"\"\"\n",
    "    return list(filter(lambda x: x['asset'] == name, client.get_margin_account()[\"userAssets\"]))[0]"
   ]
  },
  {
   "cell_type": "code",
   "execution_count": 28,
   "id": "2df3b03d-3677-432a-a6f2-02a6eed5989d",
   "metadata": {},
   "outputs": [],
   "source": [
    "def get_isolated_margin_account(base_asset: str):\n",
    "    \"\"\"Returns dict for isolated margin account for base_asset. Enter base_asset as 'FET'. Do NOT include USDT\"\"\"\n",
    "    c = client.get_isolated_margin_account()\n",
    "    return list(filter(lambda x: x[\"baseAsset\"][\"asset\"] == base_asset, c[\"assets\"]))[0]"
   ]
  },
  {
   "cell_type": "code",
   "execution_count": 39,
   "id": "f42c3a37-c058-4982-a87d-7c3b2a411afb",
   "metadata": {},
   "outputs": [],
   "source": [
    "a = get_isolated_margin_account(\"FET\")"
   ]
  },
  {
   "cell_type": "code",
   "execution_count": 51,
   "id": "7da01138-51f4-4856-be9e-252e32f414ce",
   "metadata": {},
   "outputs": [
    {
     "data": {
      "text/plain": [
       "'999'"
      ]
     },
     "execution_count": 51,
     "metadata": {},
     "output_type": "execute_result"
    }
   ],
   "source": [
    "a['marginLevel']"
   ]
  },
  {
   "cell_type": "code",
   "execution_count": 60,
   "id": "e0eff1f7-7f25-441a-b041-07cd8008f06b",
   "metadata": {},
   "outputs": [],
   "source": [
    "def get_filtered_dataframe(df):\n",
    "    \"\"\"filters columns and converts columsn to floats and ints respectively\"\"\"\n",
    "    df = df[['timestamp', 'open', 'high', 'low', 'close', 'volume']]\n",
    "    df = df.astype(np.float64)\n",
    "    df[\"timestamp\"] = df.timestamp.astype(np.int64)\n",
    "    return df\n",
    "\n",
    "def get_minutely_data(symbol:str, days=0.5):\n",
    "    \"\"\"smart gets minutely data. Enter symbol with USDT\"\"\"\n",
    "    data_past = pd.read_csv(f\"../data/{symbol}-past.csv\")\n",
    "\n",
    "    d = datetime.today() - timedelta(days=days)\n",
    "    start_date = d.strftime(\"%d %b %Y %H:%M:%S\")\n",
    "    today = datetime.today().strftime(\"%d %b %Y %H:%M:%S\")\n",
    "\n",
    "    klines = client.get_historical_klines(symbol, Client.KLINE_INTERVAL_1MINUTE, start_date, today, 1000)\n",
    "    data = pd.DataFrame(klines, columns = ['timestamp', 'open', 'high', 'low', 'close', 'volume', 'close_time', 'quote_av', 'trades', 'tb_base_av', 'tb_quote_av', 'ignore' ])\n",
    "    data = get_filtered_dataframe(data)\n",
    "\n",
    "    index = data_past.index[(data_past['timestamp'] == data.iloc[0].timestamp)].tolist()[0]\n",
    "    data = pd.concat([data_past[:index], data], ignore_index=True, sort=False)\n",
    "\n",
    "    klines = client.get_klines(symbol=symbol, interval=Client.KLINE_INTERVAL_1MINUTE)\n",
    "    data_latest = pd.DataFrame(klines, columns = ['timestamp', 'open', 'high', 'low', 'close', 'volume', 'close_time', 'quote_av', 'trades', 'tb_base_av', 'tb_quote_av', 'ignore' ])\n",
    "    data_latest = get_filtered_dataframe(data_latest)\n",
    "\n",
    "    index = data.index[(data['timestamp'] == data_latest.iloc[0].timestamp)].tolist()[0]\n",
    "    result = pd.concat([data[:index], data_latest], ignore_index=True, sort=False)\n",
    "    result.to_csv(f\"../data/{symbol}-past.csv\", index=False)\n",
    "    return result\n",
    "\n",
    "def get_z_score(): \n",
    "    '''gets the latest z-score, given hedge ratio hr.\n",
    "    Warning, sometimes it gives nan, just rerun (binance's fault)'''\n",
    "    a = get_minutely_data(ASSET_A + BASE)\n",
    "    b = get_minutely_data(ASSET_B + BASE)\n",
    "    a.set_index(\"timestamp\", inplace=True)\n",
    "    b.set_index(\"timestamp\", inplace=True)\n",
    "    \n",
    "    df = pd.to_numeric(a.open.rename(\"A\")).to_frame()\n",
    "    df[\"B\"] = pd.to_numeric(b.open)\n",
    "    \n",
    "    df.dropna(inplace=True)\n",
    "    \n",
    "    results = sm.ols(formula=\"B ~ A\", data=df[['B', 'A']]).fit()\n",
    "    hr = results.params[1]\n",
    "    spread = pd.Series((df['B'] - hr * df['A'])).rename(\"spread\").to_frame()\n",
    "    spread[\"mean\"] = spread.spread.rolling(2000).mean()\n",
    "    spread[\"std\"] =  spread.spread.rolling(2000).std()\n",
    "    spread[\"zscore\"] = pd.Series((spread[\"spread\"]-spread[\"mean\"])/spread[\"std\"])\n",
    "    \n",
    "    return spread.iloc[-1].zscore"
   ]
  },
  {
   "cell_type": "code",
   "execution_count": 61,
   "id": "e381bc37-0e76-415b-a329-3ed6b2c6ad8d",
   "metadata": {},
   "outputs": [
    {
     "data": {
      "text/plain": [
       "2.06090901911535"
      ]
     },
     "execution_count": 61,
     "metadata": {},
     "output_type": "execute_result"
    }
   ],
   "source": [
    "ASSET_A = \"CELR\"\n",
    "ASSET_B = \"FET\"\n",
    "BASE = \"USDT\"\n",
    "get_z_score()"
   ]
  },
  {
   "cell_type": "code",
   "execution_count": null,
   "id": "0db91513-ce50-408c-81e5-944000c4e1ef",
   "metadata": {},
   "outputs": [],
   "source": []
  }
 ],
 "metadata": {
  "kernelspec": {
   "display_name": "Python 3",
   "language": "python",
   "name": "python3"
  },
  "language_info": {
   "codemirror_mode": {
    "name": "ipython",
    "version": 3
   },
   "file_extension": ".py",
   "mimetype": "text/x-python",
   "name": "python",
   "nbconvert_exporter": "python",
   "pygments_lexer": "ipython3",
   "version": "3.9.4"
  }
 },
 "nbformat": 4,
 "nbformat_minor": 5
}
