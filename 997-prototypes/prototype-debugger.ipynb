{
 "cells": [
  {
   "cell_type": "code",
   "execution_count": 1,
   "id": "f0926030-3479-4308-8e43-2305b680a3e1",
   "metadata": {},
   "outputs": [],
   "source": [
    "# Imports\n",
    "import pandas as pd\n",
    "from binance.client import Client\n",
    "from binance.enums import * #https://github.com/sammchardy/python-binance/blob/master/binance/enums.py\n",
    "import datetime\n",
    "import json\n",
    "import math\n",
    "\n",
    "import schedule\n",
    "import time\n",
    "from datetime import datetime, timedelta\n",
    "from joblib import dump, load\n",
    "\n",
    "import statsmodels.formula.api as sm\n",
    "import matplotlib.pyplot as plt\n",
    "import pandas as pd\n",
    "import numpy as np\n",
    "\n",
    "from IPython.display import clear_output\n",
    "\n",
    "def get_api_keys(site: str, api_type: str)->str:\n",
    "    \"\"\"\n",
    "    gets api keys stored in api-keys/api-keys.txt\n",
    "    site: 'binance'\n",
    "    api_type: 'api', 'secret'\n",
    "    \"\"\"\n",
    "    with open('../api-keys/api-keys.txt') as json_file:\n",
    "        return json.load(json_file)[site][api_type]\n",
    "# Constants\n",
    "api_key = get_api_keys(\"binance\", \"api\")\n",
    "api_secret = get_api_keys(\"binance\", \"secret\")\n",
    "\n",
    "client = Client(api_key=api_key, api_secret=api_secret)"
   ]
  },
  {
   "cell_type": "code",
   "execution_count": 3,
   "id": "d85cb0e1-a7bd-4070-bc34-034cd2f0d896",
   "metadata": {},
   "outputs": [],
   "source": [
    "def get_margin_asset(name:str):\n",
    "    \"\"\"returns a dictionary with:\n",
    "    - asset name\n",
    "    - free\n",
    "    - locked\n",
    "    - borrowed\n",
    "    - interest\n",
    "    - netAsset\"\"\"\n",
    "    return list(filter(lambda x: x['asset'] == name, client.get_margin_account()[\"userAssets\"]))[0]"
   ]
  },
  {
   "cell_type": "code",
   "execution_count": 29,
   "id": "9ab945c5-ba43-4535-8273-2b96e544ad02",
   "metadata": {},
   "outputs": [
    {
     "data": {
      "text/plain": [
       "{'asset': 'USDT',\n",
       " 'free': '36.07116298',\n",
       " 'locked': '0',\n",
       " 'borrowed': '0',\n",
       " 'interest': '0',\n",
       " 'netAsset': '36.07116298'}"
      ]
     },
     "execution_count": 29,
     "metadata": {},
     "output_type": "execute_result"
    }
   ],
   "source": [
    "get_margin_asset(\"USDT\")"
   ]
  },
  {
   "cell_type": "code",
   "execution_count": 30,
   "id": "097b36bd-5b43-4d2c-89e9-b95e8ac70109",
   "metadata": {},
   "outputs": [
    {
     "data": {
      "text/plain": [
       "{'asset': 'ZEC',\n",
       " 'free': '0.00003288',\n",
       " 'locked': '0',\n",
       " 'borrowed': '0',\n",
       " 'interest': '0',\n",
       " 'netAsset': '0.00003288'}"
      ]
     },
     "execution_count": 30,
     "metadata": {},
     "output_type": "execute_result"
    }
   ],
   "source": [
    "get_margin_asset(\"ZEC\")"
   ]
  },
  {
   "cell_type": "code",
   "execution_count": 31,
   "id": "ffbbfb60-655e-4671-b79d-cc05474918a1",
   "metadata": {},
   "outputs": [
    {
     "data": {
      "text/plain": [
       "{'asset': 'XMR',\n",
       " 'free': '0.00000846',\n",
       " 'locked': '0',\n",
       " 'borrowed': '0',\n",
       " 'interest': '0',\n",
       " 'netAsset': '0.00000846'}"
      ]
     },
     "execution_count": 31,
     "metadata": {},
     "output_type": "execute_result"
    }
   ],
   "source": [
    "get_margin_asset(\"XMR\")"
   ]
  },
  {
   "cell_type": "code",
   "execution_count": null,
   "id": "dac74672-846c-4571-af3a-aab1e10f2b6f",
   "metadata": {},
   "outputs": [],
   "source": []
  }
 ],
 "metadata": {
  "kernelspec": {
   "display_name": "Python 3",
   "language": "python",
   "name": "python3"
  },
  "language_info": {
   "codemirror_mode": {
    "name": "ipython",
    "version": 3
   },
   "file_extension": ".py",
   "mimetype": "text/x-python",
   "name": "python",
   "nbconvert_exporter": "python",
   "pygments_lexer": "ipython3",
   "version": "3.9.4"
  }
 },
 "nbformat": 4,
 "nbformat_minor": 5
}
