{
 "cells": [
  {
   "cell_type": "markdown",
   "id": "74c455c8-57ed-4c15-a51c-bd1a8c94adcf",
   "metadata": {},
   "source": [
    "# Discord messenger"
   ]
  },
  {
   "cell_type": "code",
   "execution_count": 28,
   "id": "9642974b-cda6-4f43-8932-d7eb1786d381",
   "metadata": {},
   "outputs": [],
   "source": [
    "import nest_asyncio\n",
    "nest_asyncio.apply()\n",
    "import discord\n",
    "from discord.ext import tasks, commands\n",
    "from datetime import datetime\n",
    "import json\n",
    "\n",
    "def get_api_keys(site: str, api_type: str)->str:\n",
    "    \"\"\"\n",
    "    gets api keys stored in api-keys/api-keys.txt\n",
    "    site: 'binance'\n",
    "    api_type: 'api', 'secret'\n",
    "    \"\"\"\n",
    "    with open('../api-keys/api-keys.txt') as json_file:\n",
    "        return json.load(json_file)[site][api_type]\n",
    "# Constants\n",
    "dtoken = get_api_keys(\"discord\", \"api\")\n",
    "\n",
    "bot = commands.Bot(command_prefix=\"-\")\n",
    "# client = discord.Client()"
   ]
  },
  {
   "cell_type": "code",
   "execution_count": 2,
   "id": "ce4ef606-7954-44b9-83b4-a7928d7f3aa4",
   "metadata": {},
   "outputs": [],
   "source": [
    "messages = {\"message\":\"\", \"o_l\":\"\", \"o_s\":\"\"}\n",
    "def get_message(message:str):\n",
    "    global messages\n",
    "    \"\"\"gets the message\"\"\"\n",
    "    with open('message.txt') as json_file:\n",
    "        new_message = json.load(json_file)[message]\n",
    "        try: #Basically, sometimes if you don't need to limit rate\n",
    "            if messages[message] == new_message:\n",
    "                return \"\"\n",
    "            messages[message] = new_message\n",
    "        except:\n",
    "            pass\n",
    "        return new_message"
   ]
  },
  {
   "cell_type": "code",
   "execution_count": null,
   "id": "b5a17a94-443a-4803-a7d1-5d39704aa651",
   "metadata": {},
   "outputs": [
    {
     "name": "stdout",
     "output_type": "stream",
     "text": [
      "Logged in\n"
     ]
    },
    {
     "name": "stderr",
     "output_type": "stream",
     "text": [
      "Ignoring exception in command None:\n",
      "discord.ext.commands.errors.CommandNotFound: Command \"portfolio\" is not found\n"
     ]
    }
   ],
   "source": [
    "@bot.event\n",
    "async def on_ready():\n",
    "    print(\"Logged in\")\n",
    "    get_price.start()\n",
    "\n",
    "\n",
    "@tasks.loop(seconds=60)\n",
    "async def get_price():\n",
    "    noti = bot.get_channel(853110820611555328)\n",
    "    announcements = bot.get_channel(864949029623169044)\n",
    "#     await channel.send(str(datetime.today()))\n",
    "    try:\n",
    "        await announcements.send(get_message(\"message\"))\n",
    "    except:\n",
    "        pass\n",
    "    try:\n",
    "        await noti.send(get_message(\"o_l\"))\n",
    "    except:\n",
    "        pass\n",
    "    try:\n",
    "        await noti.send(get_message(\"o_s\"))\n",
    "    except:\n",
    "        pass\n",
    "    \n",
    "@bot.command()\n",
    "async def position(message, asset=\"all\"):\n",
    "    '''Returns current USDT, ZEC, and XMR amounts'''\n",
    "    if asset.lower() == \"usdt\":\n",
    "        await message.channel.send(get_message('USDT'))\n",
    "    elif asset.lower() == \"xmr\":\n",
    "        await message.channel.send(get_message('XMR'))\n",
    "    elif asset.lower() == \"zec\":\n",
    "        await message.channel.send(get_message('ZEC'))\n",
    "    elif asset.lower() == \"all\":\n",
    "        await message.channel.send(get_message('USDT'))\n",
    "        await message.channel.send(get_message('XMR'))\n",
    "        await message.channel.send(get_message('ZEC'))\n",
    "    else:\n",
    "        await message.channel.send(\"There are no positions with that asset\")\n",
    "    \n",
    "@bot.command()\n",
    "async def z(message):\n",
    "    '''Returns current z-score'''\n",
    "    await message.channel.send(f\"Latest z-score: {str(round(float(get_message('z')), 2))}\")\n",
    "\n",
    "@get_price.before_loop\n",
    "async def before():\n",
    "    await bot.wait_until_ready()\n",
    "\n",
    "bot.run(dtoken)"
   ]
  },
  {
   "cell_type": "code",
   "execution_count": null,
   "id": "da0cd071-7367-4f79-924f-d9a9d0921427",
   "metadata": {},
   "outputs": [],
   "source": []
  }
 ],
 "metadata": {
  "kernelspec": {
   "display_name": "Python 3",
   "language": "python",
   "name": "python3"
  },
  "language_info": {
   "codemirror_mode": {
    "name": "ipython",
    "version": 3
   },
   "file_extension": ".py",
   "mimetype": "text/x-python",
   "name": "python",
   "nbconvert_exporter": "python",
   "pygments_lexer": "ipython3",
   "version": "3.9.4"
  }
 },
 "nbformat": 4,
 "nbformat_minor": 5
}
