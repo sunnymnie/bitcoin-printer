{
 "cells": [
  {
   "cell_type": "markdown",
   "id": "e2c21801-d59f-48a7-ba28-5e6cc935e36e",
   "metadata": {},
   "source": [
    "# ZEC XMR Prototype"
   ]
  },
  {
   "cell_type": "code",
   "execution_count": 8,
   "id": "9641011b-e1a7-4dea-9b0d-d1d400d5492d",
   "metadata": {},
   "outputs": [],
   "source": [
    "# Imports\n",
    "import pandas as pd\n",
    "from binance.client import Client\n",
    "from binance.enums import * #https://github.com/sammchardy/python-binance/blob/master/binance/enums.py\n",
    "import datetime\n",
    "import json\n",
    "import math\n",
    "\n",
    "import schedule\n",
    "import time\n",
    "from datetime import datetime, timedelta\n",
    "from joblib import dump, load\n",
    "\n",
    "import statsmodels.formula.api as sm\n",
    "import matplotlib.pyplot as plt\n",
    "import pandas as pd\n",
    "import numpy as np\n",
    "\n",
    "from IPython.display import clear_output\n",
    "\n",
    "def get_api_keys(site: str, api_type: str)->str:\n",
    "    \"\"\"\n",
    "    gets api keys stored in api-keys/api-keys.txt\n",
    "    site: 'binance'\n",
    "    api_type: 'api', 'secret'\n",
    "    \"\"\"\n",
    "    with open('../api-keys/api-keys.txt') as json_file:\n",
    "        return json.load(json_file)[site][api_type]\n",
    "# Constants\n",
    "api_key = get_api_keys(\"binance\", \"api\")\n",
    "api_secret = get_api_keys(\"binance\", \"secret\")\n",
    "\n",
    "client = Client(api_key=api_key, api_secret=api_secret)"
   ]
  },
  {
   "cell_type": "code",
   "execution_count": 78,
   "id": "efb83c13-754c-4ead-9b1f-e675f6698a9d",
   "metadata": {},
   "outputs": [],
   "source": [
    "def get_margin_asset(name:str):\n",
    "    \"\"\"returns a dictionary with:\n",
    "    - asset name\n",
    "    - free\n",
    "    - locked\n",
    "    - borrowed\n",
    "    - interest\n",
    "    - netAsset\"\"\"\n",
    "    return list(filter(lambda x: x['asset'] == name, client.get_margin_account()[\"userAssets\"]))[0]\n",
    "\n",
    "def binance_ceil(x:float):\n",
    "    \"\"\"returns the ceil to 5 decimal places (to payback borrowed amounts). Includes 0.1% trading fee\"\"\"\n",
    "    return math.ceil(x*1.001*100000)/100000\n",
    "\n",
    "def binance_floor(x:float):\n",
    "    \"\"\"returns the floor to 5 decimal places amount not including trading fee. (for liquidating)\"\"\"\n",
    "    return math.floor(x*100000)/100000\n",
    "\n",
    "def go_long_short(long: str, l_amt: float, short: str, s_amt: float, base=\"USDT\"):\n",
    "    \"\"\"goes long and short. Enter long/short as 'XMR' rather than 'XMRUSDT'. \"\"\"\n",
    "    l_pair = long + base\n",
    "    s_pair = short + base\n",
    "    transaction = client.create_margin_loan(asset=short, amount=str(s_amt))\n",
    "    order_s = client.create_margin_order(\n",
    "        symbol=s_pair,\n",
    "        side=SIDE_SELL,\n",
    "        type=ORDER_TYPE_MARKET,\n",
    "        quantity=s_amt,\n",
    "        newOrderRespType = \"FULL\")\n",
    "    order_l = client.create_margin_order(\n",
    "        symbol=l_pair,\n",
    "        side=SIDE_BUY,\n",
    "        type=ORDER_TYPE_MARKET,\n",
    "        quantity=l_amt,\n",
    "        newOrderRespType = \"FULL\")\n",
    "    send_message(\"ls\", long=long, l_amt=str(l_amt), short=short, s_amt=str(s_amt), o_s=order_s, o_l=order_l)\n",
    "    \n",
    "def liquidate(long: str, short: str, base=\"USDT\"):\n",
    "    \"\"\"liquidates long and short position. Enter long as currently longing which asset\"\"\"\n",
    "    l_pair = long + base\n",
    "    s_pair = short + base\n",
    "    l_amt = binance_floor(float(get_margin_asset(long)[\"free\"]))\n",
    "    s_amt = binance_ceil(abs(float(get_margin_asset(short)[\"netAsset\"])))\n",
    "    \n",
    "    order = client.create_margin_order(\n",
    "        symbol=l_pair,\n",
    "        side=SIDE_SELL,\n",
    "        type=ORDER_TYPE_MARKET,\n",
    "        quantity=l_amt,\n",
    "        newOrderRespType = \"FULL\")\n",
    "    order1 = client.create_margin_order(\n",
    "        symbol=s_pair,\n",
    "        side=SIDE_BUY,\n",
    "        type=ORDER_TYPE_MARKET,\n",
    "        quantity=s_amt,\n",
    "        newOrderRespType = \"FULL\")\n",
    "    rp = str(abs(float(get_margin_asset(short)[\"free\"])))\n",
    "    transaction1 = client.repay_margin_loan(asset=short, amount=rp)\n",
    "    send_message(\"lq\", o_s=order, o_b=order1)\n",
    "\n",
    "    \n",
    "def get_price(symbol:str):\n",
    "    \"\"\"returns the price. symbol MUST include USDT, ie ZECUSDT\"\"\"\n",
    "    return float(client.get_recent_trades(symbol=symbol, limit=1)[0][\"price\"])\n",
    "\n",
    "def trade_amt(symbol:str, total:float):\n",
    "    \"\"\"returns the amount of symbol to trade to be half of total. Note, symbol MUST include USDT\"\"\"\n",
    "    p = get_price(symbol)\n",
    "    t = total/2\n",
    "    return binance_ceil(t/p)\n",
    "\n",
    "def get_long():\n",
    "    \"\"\"Returns None if long nothing, else 'ZEC' or 'XMR'\"\"\"\n",
    "    if float(get_margin_asset(\"ZEC\")[\"borrowed\"])>0: #Borrowed ZEC (ie long XMR)\n",
    "        return \"XMR\"\n",
    "    elif float(get_margin_asset(\"XMR\")[\"borrowed\"])>0: #Borrwed XMR (ie long ZEC)\n",
    "        return \"ZEC\"\n",
    "    else:\n",
    "        return None"
   ]
  },
  {
   "cell_type": "code",
   "execution_count": 24,
   "id": "8164a2d8-8d2d-43bc-aca3-06be15389b6c",
   "metadata": {},
   "outputs": [
    {
     "data": {
      "text/plain": [
       "{'asset': 'USDT',\n",
       " 'free': '29.94558741',\n",
       " 'locked': '0',\n",
       " 'borrowed': '0',\n",
       " 'interest': '0',\n",
       " 'netAsset': '29.94558741'}"
      ]
     },
     "execution_count": 24,
     "metadata": {},
     "output_type": "execute_result"
    }
   ],
   "source": [
    "get_margin_asset(\"USDT\")"
   ]
  },
  {
   "cell_type": "code",
   "execution_count": 25,
   "id": "ec7b50a5-3adb-4144-80e6-892f98387802",
   "metadata": {},
   "outputs": [
    {
     "data": {
      "text/plain": [
       "{'asset': 'ZEC',\n",
       " 'free': '0.00000367',\n",
       " 'locked': '0',\n",
       " 'borrowed': '0',\n",
       " 'interest': '0',\n",
       " 'netAsset': '0.00000367'}"
      ]
     },
     "execution_count": 25,
     "metadata": {},
     "output_type": "execute_result"
    }
   ],
   "source": [
    "get_margin_asset(\"ZEC\")"
   ]
  },
  {
   "cell_type": "code",
   "execution_count": 26,
   "id": "3891c608-9320-49dd-8696-f02d8e22fe01",
   "metadata": {},
   "outputs": [],
   "source": [
    "transaction = client.create_margin_loan(asset='ZEC', amount='0.15')\n",
    "order = client.create_margin_order(\n",
    "    symbol='ZECUSDT',\n",
    "    side=SIDE_SELL,\n",
    "    type=ORDER_TYPE_MARKET,\n",
    "    quantity=0.15)"
   ]
  },
  {
   "cell_type": "code",
   "execution_count": 27,
   "id": "66d36712-13eb-49da-950a-91470e949481",
   "metadata": {
    "collapsed": true,
    "jupyter": {
     "outputs_hidden": true,
     "source_hidden": true
    },
    "tags": []
   },
   "outputs": [
    {
     "data": {
      "text/plain": [
       "{'asset': 'USDT',\n",
       " 'free': '44.84067741',\n",
       " 'locked': '0',\n",
       " 'borrowed': '0',\n",
       " 'interest': '0',\n",
       " 'netAsset': '44.84067741'}"
      ]
     },
     "execution_count": 27,
     "metadata": {},
     "output_type": "execute_result"
    }
   ],
   "source": [
    "get_margin_asset(\"USDT\")"
   ]
  },
  {
   "cell_type": "code",
   "execution_count": 28,
   "id": "388514a0-6d0c-4130-99aa-9721de222442",
   "metadata": {
    "collapsed": true,
    "jupyter": {
     "outputs_hidden": true,
     "source_hidden": true
    },
    "tags": []
   },
   "outputs": [
    {
     "data": {
      "text/plain": [
       "{'asset': 'ZEC',\n",
       " 'free': '0.00000367',\n",
       " 'locked': '0',\n",
       " 'borrowed': '0.15',\n",
       " 'interest': '0.00000188',\n",
       " 'netAsset': '-0.14999821'}"
      ]
     },
     "execution_count": 28,
     "metadata": {},
     "output_type": "execute_result"
    }
   ],
   "source": [
    "get_margin_asset(\"ZEC\")"
   ]
  },
  {
   "cell_type": "code",
   "execution_count": 29,
   "id": "a78a81ae-942b-430f-8407-fcd24657fb0c",
   "metadata": {
    "collapsed": true,
    "jupyter": {
     "outputs_hidden": true,
     "source_hidden": true
    },
    "tags": []
   },
   "outputs": [
    {
     "data": {
      "text/plain": [
       "0.14999821"
      ]
     },
     "execution_count": 29,
     "metadata": {},
     "output_type": "execute_result"
    }
   ],
   "source": [
    "q = abs(float(get_margin_asset(\"ZEC\")[\"netAsset\"]))\n",
    "q"
   ]
  },
  {
   "cell_type": "code",
   "execution_count": 32,
   "id": "56d62bfb-86e3-4858-b11d-9210eff33790",
   "metadata": {
    "collapsed": true,
    "jupyter": {
     "outputs_hidden": true,
     "source_hidden": true
    },
    "tags": []
   },
   "outputs": [
    {
     "data": {
      "text/plain": [
       "0.15015"
      ]
     },
     "execution_count": 32,
     "metadata": {},
     "output_type": "execute_result"
    }
   ],
   "source": [
    "q = binance_ceil(q)\n",
    "q"
   ]
  },
  {
   "cell_type": "code",
   "execution_count": 33,
   "id": "5b763fc1-0cde-4b2a-967c-ed7bc0bb2b27",
   "metadata": {
    "tags": []
   },
   "outputs": [],
   "source": [
    "order1 = client.create_margin_order(\n",
    "    symbol='ZECUSDT',\n",
    "    side=SIDE_BUY,\n",
    "    type=ORDER_TYPE_MARKET,\n",
    "    quantity=q)"
   ]
  },
  {
   "cell_type": "code",
   "execution_count": 34,
   "id": "3e0b58e7-b8a8-414e-b130-381d88d541ac",
   "metadata": {
    "collapsed": true,
    "jupyter": {
     "outputs_hidden": true
    },
    "tags": []
   },
   "outputs": [
    {
     "data": {
      "text/plain": [
       "{'asset': 'USDT',\n",
       " 'free': '29.90075241',\n",
       " 'locked': '0',\n",
       " 'borrowed': '0',\n",
       " 'interest': '0',\n",
       " 'netAsset': '29.90075241'}"
      ]
     },
     "execution_count": 34,
     "metadata": {},
     "output_type": "execute_result"
    }
   ],
   "source": [
    "get_margin_asset(\"USDT\")"
   ]
  },
  {
   "cell_type": "code",
   "execution_count": 35,
   "id": "56a9c776-b9e2-4021-965e-22925fca3321",
   "metadata": {
    "collapsed": true,
    "jupyter": {
     "outputs_hidden": true
    },
    "tags": []
   },
   "outputs": [
    {
     "data": {
      "text/plain": [
       "{'asset': 'ZEC',\n",
       " 'free': '0.15000352',\n",
       " 'locked': '0',\n",
       " 'borrowed': '0.15',\n",
       " 'interest': '0.00000188',\n",
       " 'netAsset': '0.00000164'}"
      ]
     },
     "execution_count": 35,
     "metadata": {},
     "output_type": "execute_result"
    }
   ],
   "source": [
    "get_margin_asset(\"ZEC\")"
   ]
  },
  {
   "cell_type": "code",
   "execution_count": 36,
   "id": "8bd4c2ce-32f2-4e2a-976e-58144dc576ae",
   "metadata": {},
   "outputs": [
    {
     "data": {
      "text/plain": [
       "0.15000352"
      ]
     },
     "execution_count": 36,
     "metadata": {},
     "output_type": "execute_result"
    }
   ],
   "source": [
    "q = abs(float(get_margin_asset(\"ZEC\")[\"free\"]))\n",
    "q"
   ]
  },
  {
   "cell_type": "code",
   "execution_count": 37,
   "id": "5d17c4de-0358-4dbe-8203-e48bc80302d2",
   "metadata": {},
   "outputs": [],
   "source": [
    "transaction1 = client.repay_margin_loan(asset='ZEC', amount=str(q))"
   ]
  },
  {
   "cell_type": "code",
   "execution_count": 38,
   "id": "ffa966d9-f9cb-4ebe-8ee8-533ce7e09109",
   "metadata": {},
   "outputs": [
    {
     "data": {
      "text/plain": [
       "{'asset': 'ZEC',\n",
       " 'free': '0.00003167',\n",
       " 'locked': '0',\n",
       " 'borrowed': '0',\n",
       " 'interest': '0',\n",
       " 'netAsset': '0.00003167'}"
      ]
     },
     "execution_count": 38,
     "metadata": {},
     "output_type": "execute_result"
    }
   ],
   "source": [
    "get_margin_asset(\"ZEC\")"
   ]
  },
  {
   "cell_type": "code",
   "execution_count": 9,
   "id": "70ec6834-3f10-4d7c-8faa-4a6f78485de3",
   "metadata": {},
   "outputs": [
    {
     "data": {
      "text/plain": [
       "196.2"
      ]
     },
     "execution_count": 9,
     "metadata": {},
     "output_type": "execute_result"
    }
   ],
   "source": [
    "float(client.get_recent_trades(symbol='XMRUSDT', limit=1)[0][\"price\"])"
   ]
  },
  {
   "cell_type": "code",
   "execution_count": 120,
   "id": "8b3c5105-01c4-4046-9989-d37cef2147a6",
   "metadata": {},
   "outputs": [],
   "source": [
    "def printer():\n",
    "    \"\"\"main printer. Fetches current position, fetches data, and performs buys/sells if necessary\"\"\"\n",
    "    \n",
    "    long = get_long() # Returns None if long nothing, else \"ZEC\" or \"XMR\"\n",
    "    \n",
    "    #total will be ignored if in liquidating phase\n",
    "    #-10 for creating a buffer\n",
    "    total = float(get_margin_asset(\"USDT\")[\"free\"])-10 \n",
    "    \n",
    "    thres = 1.        \n",
    "    sell_thres = 1.   \n",
    "    \n",
    "    # Get z_score\n",
    "    z = get_z_score()\n",
    "    while math.isnan(z): #z is nan, retry:\n",
    "        time.sleep(1)\n",
    "        z = get_z_score()\n",
    "    \n",
    "    # Get trading amount (won't be used if liquidating or NOT buying)\n",
    "    zec = trade_amt(\"ZECUSDT\", total)\n",
    "    xmr = trade_amt(\"XMRUSDT\", total)\n",
    "    \n",
    "    if z>thres and long==None: #buy/sell #LONG ZEC\n",
    "        go_long_short(long=\"ZEC\", l_amt=zec, short=\"XMR\", s_amt=xmr)\n",
    "    elif z<-thres and long==None: #buy/sell #LONG XMR\n",
    "        go_long_short(long=\"XMR\", l_amt=xmr, short=\"zec\", s_amt=zec)\n",
    "    elif z>sell_thres and long==\"XMR\": #liquidate #LONG XMR\n",
    "        liquidate(long=\"XMR\", short=\"ZEC\")\n",
    "    elif z<-sell_thres and long==\"ZEC\": #liquidate #LONG ZEC\n",
    "        liquidate(long=\"ZEC\", short=\"XMR\")\n",
    "    \n",
    "    send_message(\"z\", z=str(z))\n",
    "    reset_client()"
   ]
  },
  {
   "cell_type": "code",
   "execution_count": 79,
   "id": "6a42aa4f-a8c4-49fa-a05f-b74df14912a2",
   "metadata": {},
   "outputs": [],
   "source": [
    "def reset_client():\n",
    "    \"\"\"resets the client to prevent 'read operation timed out'\"\"\"\n",
    "    global client\n",
    "    global api_key\n",
    "    global api_secret\n",
    "    client = Client(api_key=api_key, api_secret=api_secret)\n",
    "        \n",
    "def get_minutely_data(symbol:str, kline_interval:object, start=\"1 Jan 1900\", days=3.5):\n",
    "    \"\"\"\n",
    "    downloads binance data\n",
    "    symbol: BTCBUSD\n",
    "    kline_interval: Client.KLINE_INTERVAL_1DAY, Client.KLINE_INTERVAL_1DAY, Client.KLINE_INTERVAL_1DAY\n",
    "    interval_name: only used for csv name: BTCUSDT-interval_name.csv\n",
    "    start: empty if from the very beginning\n",
    "    \"\"\"\n",
    "    d = datetime.today() - timedelta(days=days)\n",
    "    start_date = d.strftime(\"%d %b %Y %H:%M:%S\")\n",
    "    today = datetime.today().strftime(\"%d %b %Y %H:%M:%S\")\n",
    "    klines = client.get_historical_klines(symbol, kline_interval, start_date, today, 1000)\n",
    "    data = pd.DataFrame(klines, columns = ['timestamp', 'open', 'high', 'low', 'close', 'volume', 'close_time', 'quote_av', 'trades', 'tb_base_av', 'tb_quote_av', 'ignore' ])\n",
    "    klines = client.get_klines(symbol=symbol, interval=Client.KLINE_INTERVAL_1MINUTE)\n",
    "    data_latest = pd.DataFrame(klines, columns = ['timestamp', 'open', 'high', 'low', 'close', 'volume', 'close_time', 'quote_av', 'trades', 'tb_base_av', 'tb_quote_av', 'ignore' ])\n",
    "    \n",
    "    index = data.index[(data['open'] == data_latest.iloc[0].open) & (data['high'] == data_latest.iloc[0].high)].tolist()[0]\n",
    "    result = pd.concat([data[:index], data_latest], ignore_index=True, sort=False)\n",
    "    return result\n",
    "\n",
    "def get_z_score(hr = 1.534477217835591): \n",
    "    '''gets the latest z-score, given hedge ratio hr.\n",
    "    Warning, sometimes it gives nan, just rerun (binance's fault)'''\n",
    "    zec = get_minutely_data(\"ZECUSDT\", Client.KLINE_INTERVAL_1MINUTE, days=1.2)\n",
    "    xmr = get_minutely_data(\"XMRUSDT\", Client.KLINE_INTERVAL_1MINUTE, days=1.2)\n",
    "    df = pd.to_numeric(zec.open.rename(\"A\")).to_frame()\n",
    "    df[\"B\"] = pd.to_numeric(xmr.open)\n",
    "    spread = pd.Series((df['B'] - hr * df['A'])).rename(\"spread\").to_frame()\n",
    "    spread[\"mean\"] = spread.spread.rolling(2000).mean()\n",
    "    spread[\"std\"] =  spread.spread.rolling(2000).std()\n",
    "    spread[\"zscore\"] = pd.Series((spread[\"spread\"]-spread[\"mean\"])/spread[\"std\"])\n",
    "    return spread.iloc[-1].zscore"
   ]
  },
  {
   "cell_type": "code",
   "execution_count": 122,
   "id": "bc84717e-bfe6-4a0e-b3bb-5b07c96b7829",
   "metadata": {},
   "outputs": [
    {
     "data": {
      "text/plain": [
       "-1.8892500737204911"
      ]
     },
     "execution_count": 122,
     "metadata": {},
     "output_type": "execute_result"
    }
   ],
   "source": [
    "get_z_score()"
   ]
  },
  {
   "cell_type": "code",
   "execution_count": 13,
   "id": "80df2383-69a9-4954-b134-cf0b9a8589e5",
   "metadata": {},
   "outputs": [
    {
     "data": {
      "text/plain": [
       "Every 1 minute at 00:00:01 do printer() (last run: [never], next run: 2021-06-14 09:39:01)"
      ]
     },
     "execution_count": 13,
     "metadata": {},
     "output_type": "execute_result"
    }
   ],
   "source": [
    "schedule.clear()\n",
    "schedule.every().minute.at(\":01\").do(printer)"
   ]
  },
  {
   "cell_type": "code",
   "execution_count": 112,
   "id": "bc085a03-7c7a-4f6c-9468-523174b92911",
   "metadata": {},
   "outputs": [],
   "source": [
    "o = client.get_all_margin_orders(symbol='ZECUSDT')[3]"
   ]
  },
  {
   "cell_type": "code",
   "execution_count": 115,
   "id": "18f47c79-a86a-425d-9a1f-ccdb2c3f7168",
   "metadata": {},
   "outputs": [
    {
     "data": {
      "text/plain": [
       "{'symbol': 'ZECUSDT',\n",
       " 'orderId': 1022022871,\n",
       " 'clientOrderId': 'G25bdpEChH36lZkhyB9ZUs',\n",
       " 'price': '0',\n",
       " 'origQty': '0.15',\n",
       " 'executedQty': '0.15',\n",
       " 'cummulativeQuoteQty': '14.79',\n",
       " 'status': 'FILLED',\n",
       " 'timeInForce': 'GTC',\n",
       " 'type': 'MARKET',\n",
       " 'side': 'SELL',\n",
       " 'stopPrice': '0',\n",
       " 'icebergQty': '0',\n",
       " 'time': 1626243894228,\n",
       " 'updateTime': 1626243894228,\n",
       " 'isWorking': True,\n",
       " 'accountId': 129068654,\n",
       " 'isIsolated': False}"
      ]
     },
     "execution_count": 115,
     "metadata": {},
     "output_type": "execute_result"
    }
   ],
   "source": [
    "client.get_margin_order(\n",
    "    symbol='ZECUSDT',\n",
    "    orderId='1022022871')"
   ]
  },
  {
   "cell_type": "code",
   "execution_count": 118,
   "id": "d9ce6aee-f5d4-4e65-aa01-714cce459ae6",
   "metadata": {},
   "outputs": [
    {
     "data": {
      "text/plain": [
       "{'symbol': 'ZECUSDT',\n",
       " 'orderId': 1022022871,\n",
       " 'clientOrderId': 'G25bdpEChH36lZkhyB9ZUs',\n",
       " 'price': '0',\n",
       " 'origQty': '0.15',\n",
       " 'executedQty': '0.15',\n",
       " 'cummulativeQuoteQty': '14.79',\n",
       " 'status': 'FILLED',\n",
       " 'timeInForce': 'GTC',\n",
       " 'type': 'MARKET',\n",
       " 'side': 'SELL',\n",
       " 'stopPrice': '0',\n",
       " 'icebergQty': '0',\n",
       " 'time': 1626243894228,\n",
       " 'updateTime': 1626243894228,\n",
       " 'isWorking': True,\n",
       " 'isIsolated': False}"
      ]
     },
     "execution_count": 118,
     "metadata": {},
     "output_type": "execute_result"
    }
   ],
   "source": [
    "client.get_all_margin_orders(symbol='ZECUSDT', newOrderRespType = \"FULL\")[0]"
   ]
  },
  {
   "cell_type": "raw",
   "id": "7e216479-33c0-4eef-8795-ff872e10d4b2",
   "metadata": {},
   "source": [
    "send_message(\"lq\", order = o, order1 = o)"
   ]
  },
  {
   "cell_type": "code",
   "execution_count": 119,
   "id": "7ace3303-1dbc-4ac9-b576-8d1c67ce4665",
   "metadata": {},
   "outputs": [],
   "source": [
    "# Discord # Saving message\n",
    "def get_message():\n",
    "    \"\"\"gets the message\"\"\"\n",
    "    with open('message.txt') as json_file:\n",
    "        new_message = json.load(json_file)\n",
    "        return new_message\n",
    "def send_message(m:str,  **k):\n",
    "    data = get_message()\n",
    "    if m == \"ls\":\n",
    "        data[\"message\"] = f\"Went long {k['l_amt']} {k['long']} at ${k['o_l']['fills'][0]['price']} \\nShort {k['s_amt']} {k['short']} at ${k['o_s']['fills'][0]['price']}\"\n",
    "        data[\"o_l\"] = k['o_l']\n",
    "        data[\"o_s\"] = k['o_s']\n",
    "    elif m == \"lq\":\n",
    "        o_s = k['o_s']\n",
    "        o_b = k['o_b']\n",
    "        data[\"message\"] = f\"Liquidated! Sold {o_s['executedQty']} {o_s['symbol']} for {o_s['fills'][0]['price']} \\nBought {o_b['executedQty']} {o_b['symbol']} for {o_b['fills'][0]['price']}\"\n",
    "        data[\"o_l\"] = o_s\n",
    "        data[\"o_s\"] = o_b\n",
    "    elif m == \"z\":\n",
    "        data[\"z\"] = k[\"z\"]\n",
    "    with open('message.txt', 'w') as outfile:\n",
    "        json.dump(data, outfile)"
   ]
  },
  {
   "cell_type": "code",
   "execution_count": 15,
   "id": "133a5bf2-08d1-4471-990c-a87bf38dd57d",
   "metadata": {},
   "outputs": [
    {
     "name": "stdout",
     "output_type": "stream",
     "text": [
      "awaiting tp and sl orders to fulfill\n",
      "sleeping for 614 seconds\n"
     ]
    },
    {
     "ename": "KeyboardInterrupt",
     "evalue": "",
     "output_type": "error",
     "traceback": [
      "\u001b[0;31m---------------------------------------------------------------------------\u001b[0m",
      "\u001b[0;31mKeyboardInterrupt\u001b[0m                         Traceback (most recent call last)",
      "\u001b[0;32m<ipython-input-15-406ea5b9d462>\u001b[0m in \u001b[0;36m<module>\u001b[0;34m\u001b[0m\n\u001b[1;32m      4\u001b[0m     \u001b[0mschedule\u001b[0m\u001b[0;34m.\u001b[0m\u001b[0mrun_pending\u001b[0m\u001b[0;34m(\u001b[0m\u001b[0;34m)\u001b[0m\u001b[0;34m\u001b[0m\u001b[0;34m\u001b[0m\u001b[0m\n\u001b[1;32m      5\u001b[0m     \u001b[0mprint\u001b[0m\u001b[0;34m(\u001b[0m\u001b[0;34mf\"sleeping for {sleep} seconds\"\u001b[0m\u001b[0;34m)\u001b[0m\u001b[0;34m\u001b[0m\u001b[0;34m\u001b[0m\u001b[0m\n\u001b[0;32m----> 6\u001b[0;31m     \u001b[0mtime\u001b[0m\u001b[0;34m.\u001b[0m\u001b[0msleep\u001b[0m\u001b[0;34m(\u001b[0m\u001b[0msleep\u001b[0m\u001b[0;34m)\u001b[0m\u001b[0;34m\u001b[0m\u001b[0;34m\u001b[0m\u001b[0m\n\u001b[0m",
      "\u001b[0;31mKeyboardInterrupt\u001b[0m: "
     ]
    }
   ],
   "source": [
    "sleep = 1\n",
    "while True:\n",
    "    clear_output()\n",
    "    schedule.run_pending()\n",
    "    print(f\"sleeping for {sleep} seconds\")\n",
    "    time.sleep(sleep)"
   ]
  },
  {
   "cell_type": "code",
   "execution_count": null,
   "id": "51fdc045-9484-48d7-a1b8-be2d30d5b8aa",
   "metadata": {},
   "outputs": [],
   "source": []
  }
 ],
 "metadata": {
  "kernelspec": {
   "display_name": "Python 3",
   "language": "python",
   "name": "python3"
  },
  "language_info": {
   "codemirror_mode": {
    "name": "ipython",
    "version": 3
   },
   "file_extension": ".py",
   "mimetype": "text/x-python",
   "name": "python",
   "nbconvert_exporter": "python",
   "pygments_lexer": "ipython3",
   "version": "3.9.4"
  }
 },
 "nbformat": 4,
 "nbformat_minor": 5
}
