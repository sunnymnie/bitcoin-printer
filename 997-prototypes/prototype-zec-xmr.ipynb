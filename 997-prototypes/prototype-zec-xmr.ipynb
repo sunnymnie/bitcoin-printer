{
 "cells": [
  {
   "cell_type": "markdown",
   "id": "e2c21801-d59f-48a7-ba28-5e6cc935e36e",
   "metadata": {},
   "source": [
    "# Prototype"
   ]
  },
  {
   "cell_type": "code",
   "execution_count": 1,
   "id": "9641011b-e1a7-4dea-9b0d-d1d400d5492d",
   "metadata": {},
   "outputs": [],
   "source": [
    "# Imports\n",
    "import pandas as pd\n",
    "from binance.client import Client\n",
    "from binance.enums import * #https://github.com/sammchardy/python-binance/blob/master/binance/enums.py\n",
    "import datetime\n",
    "import json\n",
    "import math\n",
    "\n",
    "import schedule\n",
    "import time\n",
    "from datetime import datetime, timedelta\n",
    "from joblib import dump, load\n",
    "\n",
    "import statsmodels.formula.api as sm\n",
    "import matplotlib.pyplot as plt\n",
    "import pandas as pd\n",
    "import numpy as np\n",
    "\n",
    "from IPython.display import clear_output\n",
    "\n",
    "def get_api_keys(site: str, api_type: str)->str:\n",
    "    \"\"\"\n",
    "    gets api keys stored in api-keys/api-keys.txt\n",
    "    site: 'binance'\n",
    "    api_type: 'api', 'secret'\n",
    "    \"\"\"\n",
    "    with open('../api-keys/api-keys.txt') as json_file:\n",
    "        return json.load(json_file)[site][api_type]\n",
    "# Constants\n",
    "api_key = get_api_keys(\"binance\", \"api\")\n",
    "api_secret = get_api_keys(\"binance\", \"secret\")\n",
    "\n",
    "client = Client(api_key=api_key, api_secret=api_secret)\n",
    "sleep = 1"
   ]
  },
  {
   "cell_type": "code",
   "execution_count": 2,
   "id": "578a5bc4-1fbf-4765-a68e-0794057b2751",
   "metadata": {},
   "outputs": [
    {
     "data": {
      "text/plain": [
       "'6.13000000'"
      ]
     },
     "execution_count": 2,
     "metadata": {},
     "output_type": "execute_result"
    }
   ],
   "source": [
    "btc = client.get_asset_balance(asset='USDT')\n",
    "btc[\"free\"]"
   ]
  },
  {
   "cell_type": "code",
   "execution_count": 21,
   "id": "efb83c13-754c-4ead-9b1f-e675f6698a9d",
   "metadata": {},
   "outputs": [],
   "source": [
    "def get_margin_asset(name:str):\n",
    "    \"\"\"returns a dictionary with:\n",
    "    - asset name\n",
    "    - free\n",
    "    - locked\n",
    "    - borrowed\n",
    "    - interest\n",
    "    - netAsset\"\"\"\n",
    "    return list(filter(lambda x: x['asset'] == name, client.get_margin_account()[\"userAssets\"]))[0]\n",
    "\n",
    "def binance_ceil(x:float):\n",
    "    \"\"\"returns the ceil to 5 decimal places (to payback borrowed amounts)\"\"\"\n",
    "    return math.ceil(x*1.001*100000)/100000"
   ]
  },
  {
   "cell_type": "code",
   "execution_count": 4,
   "id": "ed17804f-18fa-44a6-9fff-9e6e14a2d333",
   "metadata": {},
   "outputs": [
    {
     "data": {
      "text/plain": [
       "3.11112"
      ]
     },
     "execution_count": 4,
     "metadata": {},
     "output_type": "execute_result"
    }
   ],
   "source": [
    "binance_ceil(3.1111101)"
   ]
  },
  {
   "cell_type": "code",
   "execution_count": 24,
   "id": "8164a2d8-8d2d-43bc-aca3-06be15389b6c",
   "metadata": {},
   "outputs": [
    {
     "data": {
      "text/plain": [
       "{'asset': 'USDT',\n",
       " 'free': '29.94558741',\n",
       " 'locked': '0',\n",
       " 'borrowed': '0',\n",
       " 'interest': '0',\n",
       " 'netAsset': '29.94558741'}"
      ]
     },
     "execution_count": 24,
     "metadata": {},
     "output_type": "execute_result"
    }
   ],
   "source": [
    "get_margin_asset(\"USDT\")"
   ]
  },
  {
   "cell_type": "code",
   "execution_count": 25,
   "id": "ec7b50a5-3adb-4144-80e6-892f98387802",
   "metadata": {},
   "outputs": [
    {
     "data": {
      "text/plain": [
       "{'asset': 'ZEC',\n",
       " 'free': '0.00000367',\n",
       " 'locked': '0',\n",
       " 'borrowed': '0',\n",
       " 'interest': '0',\n",
       " 'netAsset': '0.00000367'}"
      ]
     },
     "execution_count": 25,
     "metadata": {},
     "output_type": "execute_result"
    }
   ],
   "source": [
    "get_margin_asset(\"ZEC\")"
   ]
  },
  {
   "cell_type": "code",
   "execution_count": 26,
   "id": "3891c608-9320-49dd-8696-f02d8e22fe01",
   "metadata": {},
   "outputs": [],
   "source": [
    "transaction = client.create_margin_loan(asset='ZEC', amount='0.15')\n",
    "order = client.create_margin_order(\n",
    "    symbol='ZECUSDT',\n",
    "    side=SIDE_SELL,\n",
    "    type=ORDER_TYPE_MARKET,\n",
    "    quantity=0.15)"
   ]
  },
  {
   "cell_type": "code",
   "execution_count": 27,
   "id": "66d36712-13eb-49da-950a-91470e949481",
   "metadata": {},
   "outputs": [
    {
     "data": {
      "text/plain": [
       "{'asset': 'USDT',\n",
       " 'free': '44.84067741',\n",
       " 'locked': '0',\n",
       " 'borrowed': '0',\n",
       " 'interest': '0',\n",
       " 'netAsset': '44.84067741'}"
      ]
     },
     "execution_count": 27,
     "metadata": {},
     "output_type": "execute_result"
    }
   ],
   "source": [
    "get_margin_asset(\"USDT\")"
   ]
  },
  {
   "cell_type": "code",
   "execution_count": 28,
   "id": "388514a0-6d0c-4130-99aa-9721de222442",
   "metadata": {},
   "outputs": [
    {
     "data": {
      "text/plain": [
       "{'asset': 'ZEC',\n",
       " 'free': '0.00000367',\n",
       " 'locked': '0',\n",
       " 'borrowed': '0.15',\n",
       " 'interest': '0.00000188',\n",
       " 'netAsset': '-0.14999821'}"
      ]
     },
     "execution_count": 28,
     "metadata": {},
     "output_type": "execute_result"
    }
   ],
   "source": [
    "get_margin_asset(\"ZEC\")"
   ]
  },
  {
   "cell_type": "code",
   "execution_count": 29,
   "id": "a78a81ae-942b-430f-8407-fcd24657fb0c",
   "metadata": {},
   "outputs": [
    {
     "data": {
      "text/plain": [
       "0.14999821"
      ]
     },
     "execution_count": 29,
     "metadata": {},
     "output_type": "execute_result"
    }
   ],
   "source": [
    "q = abs(float(get_margin_asset(\"ZEC\")[\"netAsset\"]))\n",
    "q"
   ]
  },
  {
   "cell_type": "code",
   "execution_count": 32,
   "id": "56d62bfb-86e3-4858-b11d-9210eff33790",
   "metadata": {},
   "outputs": [
    {
     "data": {
      "text/plain": [
       "0.15015"
      ]
     },
     "execution_count": 32,
     "metadata": {},
     "output_type": "execute_result"
    }
   ],
   "source": [
    "q = binance_ceil(q)\n",
    "q"
   ]
  },
  {
   "cell_type": "code",
   "execution_count": 33,
   "id": "5b763fc1-0cde-4b2a-967c-ed7bc0bb2b27",
   "metadata": {},
   "outputs": [],
   "source": [
    "order1 = client.create_margin_order(\n",
    "    symbol='ZECUSDT',\n",
    "    side=SIDE_BUY,\n",
    "    type=ORDER_TYPE_MARKET,\n",
    "    quantity=q)"
   ]
  },
  {
   "cell_type": "code",
   "execution_count": 34,
   "id": "3e0b58e7-b8a8-414e-b130-381d88d541ac",
   "metadata": {},
   "outputs": [
    {
     "data": {
      "text/plain": [
       "{'asset': 'USDT',\n",
       " 'free': '29.90075241',\n",
       " 'locked': '0',\n",
       " 'borrowed': '0',\n",
       " 'interest': '0',\n",
       " 'netAsset': '29.90075241'}"
      ]
     },
     "execution_count": 34,
     "metadata": {},
     "output_type": "execute_result"
    }
   ],
   "source": [
    "get_margin_asset(\"USDT\")"
   ]
  },
  {
   "cell_type": "code",
   "execution_count": 35,
   "id": "56a9c776-b9e2-4021-965e-22925fca3321",
   "metadata": {},
   "outputs": [
    {
     "data": {
      "text/plain": [
       "{'asset': 'ZEC',\n",
       " 'free': '0.15000352',\n",
       " 'locked': '0',\n",
       " 'borrowed': '0.15',\n",
       " 'interest': '0.00000188',\n",
       " 'netAsset': '0.00000164'}"
      ]
     },
     "execution_count": 35,
     "metadata": {},
     "output_type": "execute_result"
    }
   ],
   "source": [
    "get_margin_asset(\"ZEC\")"
   ]
  },
  {
   "cell_type": "code",
   "execution_count": 36,
   "id": "8bd4c2ce-32f2-4e2a-976e-58144dc576ae",
   "metadata": {},
   "outputs": [
    {
     "data": {
      "text/plain": [
       "0.15000352"
      ]
     },
     "execution_count": 36,
     "metadata": {},
     "output_type": "execute_result"
    }
   ],
   "source": [
    "q = abs(float(get_margin_asset(\"ZEC\")[\"free\"]))\n",
    "q"
   ]
  },
  {
   "cell_type": "code",
   "execution_count": 37,
   "id": "5d17c4de-0358-4dbe-8203-e48bc80302d2",
   "metadata": {},
   "outputs": [],
   "source": [
    "transaction1 = client.repay_margin_loan(asset='ZEC', amount=str(q))"
   ]
  },
  {
   "cell_type": "code",
   "execution_count": 38,
   "id": "ffa966d9-f9cb-4ebe-8ee8-533ce7e09109",
   "metadata": {},
   "outputs": [
    {
     "data": {
      "text/plain": [
       "{'asset': 'ZEC',\n",
       " 'free': '0.00003167',\n",
       " 'locked': '0',\n",
       " 'borrowed': '0',\n",
       " 'interest': '0',\n",
       " 'netAsset': '0.00003167'}"
      ]
     },
     "execution_count": 38,
     "metadata": {},
     "output_type": "execute_result"
    }
   ],
   "source": [
    "get_margin_asset(\"ZEC\")"
   ]
  },
  {
   "cell_type": "code",
   "execution_count": 9,
   "id": "70ec6834-3f10-4d7c-8faa-4a6f78485de3",
   "metadata": {},
   "outputs": [
    {
     "data": {
      "text/plain": [
       "196.2"
      ]
     },
     "execution_count": 9,
     "metadata": {},
     "output_type": "execute_result"
    }
   ],
   "source": [
    "float(client.get_recent_trades(symbol='XMRUSDT', limit=1)[0][\"price\"])"
   ]
  },
  {
   "cell_type": "code",
   "execution_count": 4,
   "id": "684ff639-69f8-4fa1-bd5b-d8202132d4d8",
   "metadata": {},
   "outputs": [],
   "source": [
    "def printer():\n",
    "    \"\"\"main printer. Fetches latest minutely data, adds features, predicts, buys/sells if necessary\"\"\"\n",
    "    global sleep\n",
    "    sleep = 1\n",
    "    busdd = client.get_asset_balance(asset='BUSD')\n",
    "    busd = float(busdd[\"free\"]) + float(busdd[\"locked\"])\n",
    "    btcd = client.get_asset_balance(asset='BTC')\n",
    "    btc_free = float(btcd[\"free\"])\n",
    "    btc_locked = float(btcd[\"locked\"])\n",
    "    btc_price = float(client.get_recent_trades(symbol='BTCBUSD', limit=1)[0][\"price\"])\n",
    "    clear_output()\n",
    "    if btc_free<(5/btc_price) and btc_locked>(5/btc_price): #Can just do == 0.\n",
    "        #BTC already properly stoplossed\n",
    "        send_message(\"waiting\", str(btc_price))\n",
    "    elif btc_free>(5/btc_price): #BTC Needing to be stoplossed with oco\n",
    "        order = set_oco(tp, sl, btc_price)\n",
    "    else: #If not holding any BTC, see if it's time to buy\n",
    "        # Download the minutely data (minimum 5000 minutes or so)\n",
    "        cancel_all_orders()\n",
    "        df = get_minutely_data(symbol=\"BTCUSDT\", \n",
    "                       kline_interval=Client.KLINE_INTERVAL_1MINUTE, \n",
    "                       days=3.5)\n",
    "        # Add moving average\n",
    "        df[\"sma\"] = features.get_moving_average(df.close, 5000)\n",
    "        \n",
    "        if btc_price > df.sma.iloc[-1]: # If price is above moving average\n",
    "            df = features.add_all_features(df) \n",
    "            df.dropna(inplace=True)\n",
    "            indicators = list(df.columns)[13:]\n",
    "            df = df[list(indicators)].copy().astype(np.float32)\n",
    "            result = model.predict(df)[-1]\n",
    "            if result == 1:\n",
    "                order = buy(busd)\n",
    "            else:\n",
    "                send_message(\"ml_no\", btc_price)\n",
    "        else: #BTC is below moving average\n",
    "            send_message(\"belowma\", btc_price, df.sma.iloc[-1])\n",
    "            sleep = int(df.sma.iloc[-1]-btc_price)\n",
    "    reset_client()"
   ]
  },
  {
   "cell_type": "code",
   "execution_count": 10,
   "id": "6a42aa4f-a8c4-49fa-a05f-b74df14912a2",
   "metadata": {},
   "outputs": [],
   "source": [
    "def reset_client():\n",
    "    \"\"\"resets the client to prevent 'read operation timed out'\"\"\"\n",
    "    global client\n",
    "    global api_key\n",
    "    global api_secret\n",
    "    client = Client(api_key=api_key, api_secret=api_secret)\n",
    "\n",
    "def set_oco(tp, sl, price):\n",
    "    \"\"\"sets oco if doesn't already exist\"\"\"\n",
    "    btc = client.get_asset_balance(asset='BTC')[\"free\"]\n",
    "    order = client.create_oco_order(\n",
    "        symbol='BTCBUSD',\n",
    "        side=SIDE_SELL,\n",
    "        stopLimitTimeInForce=TIME_IN_FORCE_GTC,\n",
    "        quantity=btc,\n",
    "        stopPrice=str(round(price*(1-sl/100), 2)+10), \n",
    "        stopLimitPrice=str(round(price*(1-sl/100), 2)), #What if +1000 and much lower\n",
    "        price=str(round(price*(1+tp/100), 2)))\n",
    "    send_message(\"oco\", str(round(price*(1+tp/100), 2)), str(round(price*(1-sl/100), 2)))\n",
    "    return order\n",
    "    \n",
    "def buy(busd):\n",
    "    \"\"\"market limit order to buy with 50% of busd\"\"\"\n",
    "    btc_price = float(client.get_recent_trades(symbol='BTCBUSD', limit=1)[0][\"price\"])\n",
    "    order = client.order_limit_buy(\n",
    "        symbol='BTCBUSD',\n",
    "        quantity=round(busd*0.5/btc_price, 5),\n",
    "        price=str(round(btc_price-10, 2)))\n",
    "    send_message(\"bought\", str(round(btc_price-10, 2)))\n",
    "    return order\n",
    "    \n",
    "def cancel_all_orders():\n",
    "    \"\"\"cancels all orders--cancels previous limit buy order if it exists\"\"\"\n",
    "    orders = client.get_open_orders(symbol='BTCBUSD')\n",
    "    for order in orders:\n",
    "        result = client.cancel_order(\n",
    "            symbol='BTCBUSD',\n",
    "            orderId=order[\"orderId\"])\n",
    "        \n",
    "def get_minutely_data(symbol:str, kline_interval:object, start=\"1 Jan 1900\", days=3.5):\n",
    "    \"\"\"\n",
    "    downloads binance data\n",
    "    symbol: BTCBUSD\n",
    "    kline_interval: Client.KLINE_INTERVAL_1DAY, Client.KLINE_INTERVAL_1DAY, Client.KLINE_INTERVAL_1DAY\n",
    "    interval_name: only used for csv name: BTCUSDT-interval_name.csv\n",
    "    start: empty if from the very beginning\n",
    "    \"\"\"\n",
    "    d = datetime.today() - timedelta(days=days)\n",
    "    start_date = d.strftime(\"%d %b %Y %H:%M:%S\")\n",
    "    today = datetime.today().strftime(\"%d %b %Y %H:%M:%S\")\n",
    "    klines = client.get_historical_klines(symbol, kline_interval, start_date, today, 1000)\n",
    "    data = pd.DataFrame(klines, columns = ['timestamp', 'open', 'high', 'low', 'close', 'volume', 'close_time', 'quote_av', 'trades', 'tb_base_av', 'tb_quote_av', 'ignore' ])\n",
    "    klines = client.get_klines(symbol=symbol, interval=Client.KLINE_INTERVAL_1MINUTE)\n",
    "    data_latest = pd.DataFrame(klines, columns = ['timestamp', 'open', 'high', 'low', 'close', 'volume', 'close_time', 'quote_av', 'trades', 'tb_base_av', 'tb_quote_av', 'ignore' ])\n",
    "    \n",
    "    index = data.index[(data['open'] == data_latest.iloc[0].open) & (data['high'] == data_latest.iloc[0].high)].tolist()[0]\n",
    "    result = pd.concat([data[:index], data_latest], ignore_index=True, sort=False)\n",
    "    return result"
   ]
  },
  {
   "cell_type": "code",
   "execution_count": 115,
   "id": "463a03af-19fe-4c9f-b4a4-e8692d880228",
   "metadata": {},
   "outputs": [],
   "source": [
    "def get_z_score(hr = 1.534477217835591): # Warning, sometimes it gives nan, just rerun (binance's fault)\n",
    "    '''gets the latest z-score, given hedge ratio hr'''\n",
    "    zec = get_minutely_data(\"ZECUSDT\", Client.KLINE_INTERVAL_1MINUTE, days=1.2)\n",
    "    xmr = get_minutely_data(\"XMRUSDT\", Client.KLINE_INTERVAL_1MINUTE, days=1.2)\n",
    "    df = pd.to_numeric(zec.open.rename(\"A\")).to_frame()\n",
    "    df[\"B\"] = pd.to_numeric(xmr.open)\n",
    "    spread = pd.Series((df['B'] - hr * df['A'])).rename(\"spread\").to_frame()\n",
    "    spread[\"mean\"] = spread.spread.rolling(2000).mean()\n",
    "    spread[\"std\"] =  spread.spread.rolling(2000).std()\n",
    "    spread[\"zscore\"] = pd.Series((spread[\"spread\"]-spread[\"mean\"])/spread[\"std\"])\n",
    "    return spread.iloc[-1].zscore"
   ]
  },
  {
   "cell_type": "code",
   "execution_count": 117,
   "id": "bc84717e-bfe6-4a0e-b3bb-5b07c96b7829",
   "metadata": {},
   "outputs": [
    {
     "data": {
      "text/plain": [
       "101.04"
      ]
     },
     "execution_count": 117,
     "metadata": {},
     "output_type": "execute_result"
    }
   ],
   "source": [
    "float(client.get_recent_trades(symbol='ZECUSDT', limit=1)[0][\"price\"])"
   ]
  },
  {
   "cell_type": "code",
   "execution_count": 6,
   "id": "0a96ec9a-753b-4cc7-b044-bafbfef02605",
   "metadata": {
    "tags": []
   },
   "outputs": [],
   "source": [
    "# df = get_minutely_data(symbol=\"BTCUSDT\", \n",
    "#                        kline_interval=Client.KLINE_INTERVAL_1MINUTE, \n",
    "#                        days=10)\n",
    "# df = features.add_all_features(df) \n",
    "# df.dropna(inplace=True)\n",
    "# indicators = list(df.columns)[12:]\n",
    "# indicators.append('close')\n",
    "# df = df[list(indicators)].copy().astype(np.float32)\n",
    "\n",
    "# df.to_csv('../data/debugging.csv', index=False)"
   ]
  },
  {
   "cell_type": "code",
   "execution_count": 7,
   "id": "448fd9ed-6b4d-476a-a298-b3a68d26f616",
   "metadata": {
    "tags": []
   },
   "outputs": [],
   "source": [
    "# df"
   ]
  },
  {
   "cell_type": "code",
   "execution_count": 13,
   "id": "80df2383-69a9-4954-b134-cf0b9a8589e5",
   "metadata": {},
   "outputs": [
    {
     "data": {
      "text/plain": [
       "Every 1 minute at 00:00:01 do printer() (last run: [never], next run: 2021-06-14 09:39:01)"
      ]
     },
     "execution_count": 13,
     "metadata": {},
     "output_type": "execute_result"
    }
   ],
   "source": [
    "schedule.clear()\n",
    "schedule.every().minute.at(\":01\").do(printer)"
   ]
  },
  {
   "cell_type": "code",
   "execution_count": 14,
   "id": "7ace3303-1dbc-4ac9-b576-8d1c67ce4665",
   "metadata": {},
   "outputs": [],
   "source": [
    "# Discord # Saving message\n",
    "def get_message():\n",
    "    \"\"\"gets the message\"\"\"\n",
    "    with open('message.txt') as json_file:\n",
    "        new_message = json.load(json_file)\n",
    "        return new_message\n",
    "def send_message(m:str, a=\"\", b=\"\"):\n",
    "    global sleep\n",
    "    data = get_message()\n",
    "    if m == \"waiting\":\n",
    "        data[\"message\"] = f\"awaiting tp ${data['tp']} and sl ${data['sl']} orders to fulfill. Currently price ${str(a)} is ${str(round(float(data['tp'])-float(a), 2))} away from tp and ${str(round(float(a)-float(data['sl']), 2))} from stop loss\" \n",
    "        sleep = int(min(round(float(data['tp'])-float(a), 2), round(float(a)-float(data['sl']), 2)))\n",
    "        data[\"wait\"] = int(max(round(float(data['tp'])-float(a), 2), round(float(a)-float(data['sl']), 2)))+30\n",
    "        print(\"awaiting tp and sl orders to fulfill\")\n",
    "    elif m == \"oco\":\n",
    "        data[\"message\"] = f\"@everyone Set take profit at ${str(a)} and stop loss at ${str(b)}\"\n",
    "        data[\"tp\"] = str(a)\n",
    "        data[\"sl\"] = str(b)\n",
    "        data[\"wait\"] = 60\n",
    "    elif m == \"belowma\":\n",
    "        data[\"message\"] = \"Price $\" + str(a) + \" is below moving average $\" + str(round(b, 2)) + \" by $\" + str(round(b-a, 2))\n",
    "        data[\"wait\"] = sleep+60\n",
    "    elif m == \"bought\":\n",
    "        data[\"message\"] = f\"@everyone Just bought at ${str(a)}\"\n",
    "        data[\"wait\"] = 60\n",
    "    elif m == \"ml_no\":\n",
    "        data[\"message\"] = \"ML model says no at current price $\" + str(a)\n",
    "        data[\"wait\"] = 60\n",
    "    with open('message.txt', 'w') as outfile:\n",
    "        json.dump(data, outfile)"
   ]
  },
  {
   "cell_type": "code",
   "execution_count": 15,
   "id": "133a5bf2-08d1-4471-990c-a87bf38dd57d",
   "metadata": {},
   "outputs": [
    {
     "name": "stdout",
     "output_type": "stream",
     "text": [
      "awaiting tp and sl orders to fulfill\n",
      "sleeping for 614 seconds\n"
     ]
    },
    {
     "ename": "KeyboardInterrupt",
     "evalue": "",
     "output_type": "error",
     "traceback": [
      "\u001b[0;31m---------------------------------------------------------------------------\u001b[0m",
      "\u001b[0;31mKeyboardInterrupt\u001b[0m                         Traceback (most recent call last)",
      "\u001b[0;32m<ipython-input-15-406ea5b9d462>\u001b[0m in \u001b[0;36m<module>\u001b[0;34m\u001b[0m\n\u001b[1;32m      4\u001b[0m     \u001b[0mschedule\u001b[0m\u001b[0;34m.\u001b[0m\u001b[0mrun_pending\u001b[0m\u001b[0;34m(\u001b[0m\u001b[0;34m)\u001b[0m\u001b[0;34m\u001b[0m\u001b[0;34m\u001b[0m\u001b[0m\n\u001b[1;32m      5\u001b[0m     \u001b[0mprint\u001b[0m\u001b[0;34m(\u001b[0m\u001b[0;34mf\"sleeping for {sleep} seconds\"\u001b[0m\u001b[0;34m)\u001b[0m\u001b[0;34m\u001b[0m\u001b[0;34m\u001b[0m\u001b[0m\n\u001b[0;32m----> 6\u001b[0;31m     \u001b[0mtime\u001b[0m\u001b[0;34m.\u001b[0m\u001b[0msleep\u001b[0m\u001b[0;34m(\u001b[0m\u001b[0msleep\u001b[0m\u001b[0;34m)\u001b[0m\u001b[0;34m\u001b[0m\u001b[0;34m\u001b[0m\u001b[0m\n\u001b[0m",
      "\u001b[0;31mKeyboardInterrupt\u001b[0m: "
     ]
    }
   ],
   "source": [
    "sleep = 1\n",
    "while True:\n",
    "    clear_output()\n",
    "    schedule.run_pending()\n",
    "    print(f\"sleeping for {sleep} seconds\")\n",
    "    time.sleep(sleep)"
   ]
  },
  {
   "cell_type": "code",
   "execution_count": null,
   "id": "51fdc045-9484-48d7-a1b8-be2d30d5b8aa",
   "metadata": {},
   "outputs": [],
   "source": []
  }
 ],
 "metadata": {
  "kernelspec": {
   "display_name": "Python 3",
   "language": "python",
   "name": "python3"
  },
  "language_info": {
   "codemirror_mode": {
    "name": "ipython",
    "version": 3
   },
   "file_extension": ".py",
   "mimetype": "text/x-python",
   "name": "python",
   "nbconvert_exporter": "python",
   "pygments_lexer": "ipython3",
   "version": "3.9.4"
  }
 },
 "nbformat": 4,
 "nbformat_minor": 5
}
