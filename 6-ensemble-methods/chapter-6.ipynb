{
 "cells": [
  {
   "cell_type": "markdown",
   "id": "4eaf5181-fcb9-4ccf-9fdb-556fbefeaff1",
   "metadata": {},
   "source": [
    "# Snippets + Exercises"
   ]
  },
  {
   "cell_type": "markdown",
   "id": "c8257a0a-5b28-4c8e-bf24-1bd67b896e85",
   "metadata": {},
   "source": [
    "## Snippets"
   ]
  },
  {
   "cell_type": "markdown",
   "id": "2e656073-b53c-4481-96b2-8f4034452374",
   "metadata": {},
   "source": [
    "### SNIPPET 6.1 ACCURACY OF THE BAGGING CLASSIFIER"
   ]
  },
  {
   "cell_type": "code",
   "execution_count": null,
   "id": "fc201f87-cfaa-4b45-b65e-42075992873a",
   "metadata": {},
   "outputs": [],
   "source": [
    "from scipy.misc import comb \n",
    "N,p,k=100,1./3,3.\n",
    "p_=0\n",
    "for i in xrange(0,int(N/k)+1):\n",
    "    p_+=comb(N,i)*p**i*(1-p)**(N-i) \n",
    "print p,1-p_"
   ]
  },
  {
   "cell_type": "markdown",
   "id": "d96b59a3-12b7-4f92-ae64-1be146481a5e",
   "metadata": {},
   "source": [
    "### RANDOM FOREST NON-OVERFITTING CODE"
   ]
  },
  {
   "cell_type": "markdown",
   "id": "30f4cdff-1117-4c04-b365-e3dba2c441be",
   "metadata": {},
   "source": [
    "### SNIPPET 6.2 THREE WAYS OF SETTING UP AN RF"
   ]
  },
  {
   "cell_type": "code",
   "execution_count": null,
   "id": "50cccd7b-bc03-4733-ba47-3a0717ba6b95",
   "metadata": {},
   "outputs": [],
   "source": [
    "clf0=RandomForestClassifier(n_estimators=1000,class_weight='balanced_subsample', criterion='entropy')\n",
    "\n",
    "clf1=DecisionTreeClassifier(criterion='entropy',max_features='auto', class_weight='balanced')\n",
    "clf1=BaggingClassifier(base_estimator=clf1,n_estimators=1000,max_samples=avgU)  #max_features=1.\n",
    "\n",
    "clf2=RandomForestClassifier(n_estimators=1,criterion='entropy',bootstrap=False,\n",
    "class_weight='balanced_subsample') \n",
    "clf2=BaggingClassifier(base_estimator=clf2,n_estimators=1000,max_samples=avgU,\n",
    "max_features=1.)"
   ]
  }
 ],
 "metadata": {
  "kernelspec": {
   "display_name": "Python 3",
   "language": "python",
   "name": "python3"
  },
  "language_info": {
   "codemirror_mode": {
    "name": "ipython",
    "version": 3
   },
   "file_extension": ".py",
   "mimetype": "text/x-python",
   "name": "python",
   "nbconvert_exporter": "python",
   "pygments_lexer": "ipython3",
   "version": "3.9.4"
  }
 },
 "nbformat": 4,
 "nbformat_minor": 5
}
