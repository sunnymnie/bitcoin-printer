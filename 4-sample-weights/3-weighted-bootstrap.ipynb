{
 "cells": [
  {
   "cell_type": "markdown",
   "id": "d702f2bb-f6f6-4bc0-9117-1b0fb9faab2d",
   "metadata": {},
   "source": [
    "# Weighted Bootstrap: Merge weights and sequential bootstrap"
   ]
  },
  {
   "cell_type": "code",
   "execution_count": 1,
   "id": "59d26ed6-1494-4214-afd1-16c06a5956ee",
   "metadata": {},
   "outputs": [],
   "source": [
    "import pandas as pd\n",
    "import numpy as np"
   ]
  },
  {
   "cell_type": "code",
   "execution_count": 3,
   "id": "1e3cde0f-8143-468b-9e84-0baaa7210b42",
   "metadata": {},
   "outputs": [],
   "source": [
    "weights = pd.read_csv(\"../data/weighted_t1.csv\", index_col=0, parse_dates=True)\n",
    "sb = pd.to_datetime(pd.read_csv(\"../data/seq_bootstrap.csv\", index_col=0, parse_dates=True, squeeze=True))"
   ]
  },
  {
   "cell_type": "code",
   "execution_count": 10,
   "id": "e82d681a-1faa-4949-bba2-43f48a656728",
   "metadata": {},
   "outputs": [
    {
     "data": {
      "text/html": [
       "<div>\n",
       "<style scoped>\n",
       "    .dataframe tbody tr th:only-of-type {\n",
       "        vertical-align: middle;\n",
       "    }\n",
       "\n",
       "    .dataframe tbody tr th {\n",
       "        vertical-align: top;\n",
       "    }\n",
       "\n",
       "    .dataframe thead th {\n",
       "        text-align: right;\n",
       "    }\n",
       "</style>\n",
       "<table border=\"1\" class=\"dataframe\">\n",
       "  <thead>\n",
       "    <tr style=\"text-align: right;\">\n",
       "      <th></th>\n",
       "      <th>au</th>\n",
       "      <th>w</th>\n",
       "      <th>decay</th>\n",
       "      <th>wd</th>\n",
       "    </tr>\n",
       "  </thead>\n",
       "  <tbody>\n",
       "    <tr>\n",
       "      <th>2021-04-23 07:31:43.163</th>\n",
       "      <td>0.231878</td>\n",
       "      <td>1.222493</td>\n",
       "      <td>0.502052</td>\n",
       "      <td>0.613755</td>\n",
       "    </tr>\n",
       "    <tr>\n",
       "      <th>2021-04-23 08:09:56.981</th>\n",
       "      <td>0.156455</td>\n",
       "      <td>3.069675</td>\n",
       "      <td>0.503437</td>\n",
       "      <td>1.545388</td>\n",
       "    </tr>\n",
       "    <tr>\n",
       "      <th>2021-04-23 08:31:35.814</th>\n",
       "      <td>0.141238</td>\n",
       "      <td>1.220746</td>\n",
       "      <td>0.504687</td>\n",
       "      <td>0.616095</td>\n",
       "    </tr>\n",
       "    <tr>\n",
       "      <th>2021-04-23 09:40:37.273</th>\n",
       "      <td>0.122657</td>\n",
       "      <td>1.974526</td>\n",
       "      <td>0.505773</td>\n",
       "      <td>0.998662</td>\n",
       "    </tr>\n",
       "    <tr>\n",
       "      <th>2021-04-23 10:06:50.048</th>\n",
       "      <td>0.118390</td>\n",
       "      <td>0.723902</td>\n",
       "      <td>0.506821</td>\n",
       "      <td>0.366888</td>\n",
       "    </tr>\n",
       "  </tbody>\n",
       "</table>\n",
       "</div>"
      ],
      "text/plain": [
       "                               au         w     decay        wd\n",
       "2021-04-23 07:31:43.163  0.231878  1.222493  0.502052  0.613755\n",
       "2021-04-23 08:09:56.981  0.156455  3.069675  0.503437  1.545388\n",
       "2021-04-23 08:31:35.814  0.141238  1.220746  0.504687  0.616095\n",
       "2021-04-23 09:40:37.273  0.122657  1.974526  0.505773  0.998662\n",
       "2021-04-23 10:06:50.048  0.118390  0.723902  0.506821  0.366888"
      ]
     },
     "execution_count": 10,
     "metadata": {},
     "output_type": "execute_result"
    }
   ],
   "source": [
    "weights.head()"
   ]
  },
  {
   "cell_type": "code",
   "execution_count": 11,
   "id": "b96acf47-bec5-40b6-8bc3-5dd6139ff351",
   "metadata": {},
   "outputs": [
    {
     "data": {
      "text/plain": [
       "2021-06-09 02:47:30.543   2021-06-10 02:47:40.441\n",
       "2021-05-16 01:12:20.174   2021-05-17 01:12:21.380\n",
       "2021-06-18 10:02:30.206   2021-06-19 10:02:31.439\n",
       "2021-05-24 16:41:37.827   2021-05-25 16:41:47.573\n",
       "2021-05-19 13:15:51.289   2021-05-20 13:15:56.797\n",
       "Name: time, dtype: datetime64[ns]"
      ]
     },
     "execution_count": 11,
     "metadata": {},
     "output_type": "execute_result"
    }
   ],
   "source": [
    "sb.head()"
   ]
  },
  {
   "cell_type": "code",
   "execution_count": 13,
   "id": "f2a315bf-431f-4f88-b474-9888e6289d2f",
   "metadata": {},
   "outputs": [],
   "source": [
    "df = weights.reindex(sb.index)\n",
    "df[\"t1\"] = sb"
   ]
  },
  {
   "cell_type": "code",
   "execution_count": 16,
   "id": "c5bb4983-a7b7-486e-bc82-c80479ec5003",
   "metadata": {},
   "outputs": [
    {
     "data": {
      "text/html": [
       "<div>\n",
       "<style scoped>\n",
       "    .dataframe tbody tr th:only-of-type {\n",
       "        vertical-align: middle;\n",
       "    }\n",
       "\n",
       "    .dataframe tbody tr th {\n",
       "        vertical-align: top;\n",
       "    }\n",
       "\n",
       "    .dataframe thead th {\n",
       "        text-align: right;\n",
       "    }\n",
       "</style>\n",
       "<table border=\"1\" class=\"dataframe\">\n",
       "  <thead>\n",
       "    <tr style=\"text-align: right;\">\n",
       "      <th></th>\n",
       "      <th>au</th>\n",
       "      <th>w</th>\n",
       "      <th>decay</th>\n",
       "      <th>wd</th>\n",
       "      <th>t1</th>\n",
       "    </tr>\n",
       "  </thead>\n",
       "  <tbody>\n",
       "    <tr>\n",
       "      <th>2021-06-09 02:47:30.543</th>\n",
       "      <td>0.067164</td>\n",
       "      <td>1.678253</td>\n",
       "      <td>0.913670</td>\n",
       "      <td>1.533369</td>\n",
       "      <td>2021-06-10 02:47:40.441</td>\n",
       "    </tr>\n",
       "    <tr>\n",
       "      <th>2021-05-16 01:12:20.174</th>\n",
       "      <td>0.066456</td>\n",
       "      <td>0.759792</td>\n",
       "      <td>0.704774</td>\n",
       "      <td>0.535482</td>\n",
       "      <td>2021-05-17 01:12:21.380</td>\n",
       "    </tr>\n",
       "    <tr>\n",
       "      <th>2021-06-18 10:02:30.206</th>\n",
       "      <td>0.162493</td>\n",
       "      <td>1.358553</td>\n",
       "      <td>0.994648</td>\n",
       "      <td>1.351282</td>\n",
       "      <td>2021-06-19 10:02:31.439</td>\n",
       "    </tr>\n",
       "    <tr>\n",
       "      <th>2021-05-24 16:41:37.827</th>\n",
       "      <td>0.047915</td>\n",
       "      <td>0.119922</td>\n",
       "      <td>0.779811</td>\n",
       "      <td>0.093517</td>\n",
       "      <td>2021-05-25 16:41:47.573</td>\n",
       "    </tr>\n",
       "    <tr>\n",
       "      <th>2021-05-19 13:15:51.289</th>\n",
       "      <td>0.013563</td>\n",
       "      <td>0.775377</td>\n",
       "      <td>0.735093</td>\n",
       "      <td>0.569974</td>\n",
       "      <td>2021-05-20 13:15:56.797</td>\n",
       "    </tr>\n",
       "    <tr>\n",
       "      <th>...</th>\n",
       "      <td>...</td>\n",
       "      <td>...</td>\n",
       "      <td>...</td>\n",
       "      <td>...</td>\n",
       "      <td>...</td>\n",
       "    </tr>\n",
       "    <tr>\n",
       "      <th>2021-06-11 09:27:34.319</th>\n",
       "      <td>0.247398</td>\n",
       "      <td>3.803644</td>\n",
       "      <td>0.937016</td>\n",
       "      <td>3.564076</td>\n",
       "      <td>2021-06-12 09:27:44.794</td>\n",
       "    </tr>\n",
       "    <tr>\n",
       "      <th>2021-06-09 10:36:54.812</th>\n",
       "      <td>0.083047</td>\n",
       "      <td>2.112667</td>\n",
       "      <td>0.916849</td>\n",
       "      <td>1.936995</td>\n",
       "      <td>2021-06-10 10:36:57.936</td>\n",
       "    </tr>\n",
       "    <tr>\n",
       "      <th>2021-05-12 08:10:43.321</th>\n",
       "      <td>0.097861</td>\n",
       "      <td>3.550246</td>\n",
       "      <td>0.670179</td>\n",
       "      <td>2.379299</td>\n",
       "      <td>2021-05-13 08:10:45.266</td>\n",
       "    </tr>\n",
       "    <tr>\n",
       "      <th>2021-05-10 02:53:28.399</th>\n",
       "      <td>0.144913</td>\n",
       "      <td>2.694282</td>\n",
       "      <td>0.652379</td>\n",
       "      <td>1.757692</td>\n",
       "      <td>2021-05-11 02:53:33.299</td>\n",
       "    </tr>\n",
       "    <tr>\n",
       "      <th>2021-04-30 22:35:15.202</th>\n",
       "      <td>0.363307</td>\n",
       "      <td>0.769332</td>\n",
       "      <td>0.575102</td>\n",
       "      <td>0.442445</td>\n",
       "      <td>2021-05-01 22:35:21.782</td>\n",
       "    </tr>\n",
       "  </tbody>\n",
       "</table>\n",
       "<p>594 rows × 5 columns</p>\n",
       "</div>"
      ],
      "text/plain": [
       "                               au         w     decay        wd  \\\n",
       "2021-06-09 02:47:30.543  0.067164  1.678253  0.913670  1.533369   \n",
       "2021-05-16 01:12:20.174  0.066456  0.759792  0.704774  0.535482   \n",
       "2021-06-18 10:02:30.206  0.162493  1.358553  0.994648  1.351282   \n",
       "2021-05-24 16:41:37.827  0.047915  0.119922  0.779811  0.093517   \n",
       "2021-05-19 13:15:51.289  0.013563  0.775377  0.735093  0.569974   \n",
       "...                           ...       ...       ...       ...   \n",
       "2021-06-11 09:27:34.319  0.247398  3.803644  0.937016  3.564076   \n",
       "2021-06-09 10:36:54.812  0.083047  2.112667  0.916849  1.936995   \n",
       "2021-05-12 08:10:43.321  0.097861  3.550246  0.670179  2.379299   \n",
       "2021-05-10 02:53:28.399  0.144913  2.694282  0.652379  1.757692   \n",
       "2021-04-30 22:35:15.202  0.363307  0.769332  0.575102  0.442445   \n",
       "\n",
       "                                             t1  \n",
       "2021-06-09 02:47:30.543 2021-06-10 02:47:40.441  \n",
       "2021-05-16 01:12:20.174 2021-05-17 01:12:21.380  \n",
       "2021-06-18 10:02:30.206 2021-06-19 10:02:31.439  \n",
       "2021-05-24 16:41:37.827 2021-05-25 16:41:47.573  \n",
       "2021-05-19 13:15:51.289 2021-05-20 13:15:56.797  \n",
       "...                                         ...  \n",
       "2021-06-11 09:27:34.319 2021-06-12 09:27:44.794  \n",
       "2021-06-09 10:36:54.812 2021-06-10 10:36:57.936  \n",
       "2021-05-12 08:10:43.321 2021-05-13 08:10:45.266  \n",
       "2021-05-10 02:53:28.399 2021-05-11 02:53:33.299  \n",
       "2021-04-30 22:35:15.202 2021-05-01 22:35:21.782  \n",
       "\n",
       "[594 rows x 5 columns]"
      ]
     },
     "execution_count": 16,
     "metadata": {},
     "output_type": "execute_result"
    }
   ],
   "source": [
    "df"
   ]
  },
  {
   "cell_type": "code",
   "execution_count": 17,
   "id": "7623a186-5e6a-4168-9529-bc01a8653dab",
   "metadata": {},
   "outputs": [],
   "source": [
    "df.to_csv(\"../data/weighted_seq_bootstrap.csv\")"
   ]
  }
 ],
 "metadata": {
  "kernelspec": {
   "display_name": "Python 3",
   "language": "python",
   "name": "python3"
  },
  "language_info": {
   "codemirror_mode": {
    "name": "ipython",
    "version": 3
   },
   "file_extension": ".py",
   "mimetype": "text/x-python",
   "name": "python",
   "nbconvert_exporter": "python",
   "pygments_lexer": "ipython3",
   "version": "3.9.4"
  }
 },
 "nbformat": 4,
 "nbformat_minor": 5
}
