{
 "cells": [
  {
   "cell_type": "markdown",
   "id": "d702f2bb-f6f6-4bc0-9117-1b0fb9faab2d",
   "metadata": {},
   "source": [
    "# Weighted Bootstrap: Merge weights and sequential bootstrap"
   ]
  },
  {
   "cell_type": "code",
   "execution_count": 1,
   "id": "59d26ed6-1494-4214-afd1-16c06a5956ee",
   "metadata": {},
   "outputs": [],
   "source": [
    "import pandas as pd\n",
    "import numpy as np"
   ]
  },
  {
   "cell_type": "code",
   "execution_count": 2,
   "id": "1e3cde0f-8143-468b-9e84-0baaa7210b42",
   "metadata": {},
   "outputs": [],
   "source": [
    "weights = pd.read_csv(\"../data/weighted_t1.csv\", index_col=0, parse_dates=True)\n",
    "sb = pd.to_datetime(pd.read_csv(\"../data/seq_bootstrap.csv\", index_col=0, parse_dates=True, squeeze=True))"
   ]
  },
  {
   "cell_type": "code",
   "execution_count": 3,
   "id": "e82d681a-1faa-4949-bba2-43f48a656728",
   "metadata": {},
   "outputs": [
    {
     "data": {
      "text/html": [
       "<div>\n",
       "<style scoped>\n",
       "    .dataframe tbody tr th:only-of-type {\n",
       "        vertical-align: middle;\n",
       "    }\n",
       "\n",
       "    .dataframe tbody tr th {\n",
       "        vertical-align: top;\n",
       "    }\n",
       "\n",
       "    .dataframe thead th {\n",
       "        text-align: right;\n",
       "    }\n",
       "</style>\n",
       "<table border=\"1\" class=\"dataframe\">\n",
       "  <thead>\n",
       "    <tr style=\"text-align: right;\">\n",
       "      <th></th>\n",
       "      <th>au</th>\n",
       "      <th>w</th>\n",
       "      <th>decay</th>\n",
       "      <th>wd</th>\n",
       "    </tr>\n",
       "  </thead>\n",
       "  <tbody>\n",
       "    <tr>\n",
       "      <th>2017-09-14 17:21:17.263</th>\n",
       "      <td>0.444357</td>\n",
       "      <td>3.626819</td>\n",
       "      <td>0.200357</td>\n",
       "      <td>0.726660</td>\n",
       "    </tr>\n",
       "    <tr>\n",
       "      <th>2017-09-14 23:28:16.432</th>\n",
       "      <td>0.306638</td>\n",
       "      <td>0.583011</td>\n",
       "      <td>0.200604</td>\n",
       "      <td>0.116954</td>\n",
       "    </tr>\n",
       "    <tr>\n",
       "      <th>2017-09-15 06:35:23.472</th>\n",
       "      <td>0.267103</td>\n",
       "      <td>2.842447</td>\n",
       "      <td>0.200819</td>\n",
       "      <td>0.570816</td>\n",
       "    </tr>\n",
       "    <tr>\n",
       "      <th>2017-09-15 11:22:00.990</th>\n",
       "      <td>0.300841</td>\n",
       "      <td>3.583594</td>\n",
       "      <td>0.201060</td>\n",
       "      <td>0.720519</td>\n",
       "    </tr>\n",
       "    <tr>\n",
       "      <th>2017-09-15 12:11:01.205</th>\n",
       "      <td>0.323714</td>\n",
       "      <td>3.067316</td>\n",
       "      <td>0.201321</td>\n",
       "      <td>0.617514</td>\n",
       "    </tr>\n",
       "  </tbody>\n",
       "</table>\n",
       "</div>"
      ],
      "text/plain": [
       "                               au         w     decay        wd\n",
       "2017-09-14 17:21:17.263  0.444357  3.626819  0.200357  0.726660\n",
       "2017-09-14 23:28:16.432  0.306638  0.583011  0.200604  0.116954\n",
       "2017-09-15 06:35:23.472  0.267103  2.842447  0.200819  0.570816\n",
       "2017-09-15 11:22:00.990  0.300841  3.583594  0.201060  0.720519\n",
       "2017-09-15 12:11:01.205  0.323714  3.067316  0.201321  0.617514"
      ]
     },
     "execution_count": 3,
     "metadata": {},
     "output_type": "execute_result"
    }
   ],
   "source": [
    "weights.head()"
   ]
  },
  {
   "cell_type": "code",
   "execution_count": 4,
   "id": "b96acf47-bec5-40b6-8bc3-5dd6139ff351",
   "metadata": {},
   "outputs": [
    {
     "data": {
      "text/plain": [
       "2019-11-19 04:31:17.939   2019-11-20 04:31:21.924\n",
       "2018-04-12 11:24:15.266   2018-04-13 11:24:15.733\n",
       "2018-05-31 17:46:02.417   2018-06-01 17:46:12.165\n",
       "2020-09-05 12:33:49.593   2020-09-06 12:33:56.010\n",
       "2018-02-01 12:27:38.036   2018-02-02 12:27:49.758\n",
       "Name: time, dtype: datetime64[ns]"
      ]
     },
     "execution_count": 4,
     "metadata": {},
     "output_type": "execute_result"
    }
   ],
   "source": [
    "sb.head()"
   ]
  },
  {
   "cell_type": "code",
   "execution_count": 5,
   "id": "f2a315bf-431f-4f88-b474-9888e6289d2f",
   "metadata": {},
   "outputs": [],
   "source": [
    "df = weights.reindex(sb.index)\n",
    "df[\"t1\"] = sb"
   ]
  },
  {
   "cell_type": "code",
   "execution_count": 6,
   "id": "c5bb4983-a7b7-486e-bc82-c80479ec5003",
   "metadata": {},
   "outputs": [
    {
     "data": {
      "text/html": [
       "<div>\n",
       "<style scoped>\n",
       "    .dataframe tbody tr th:only-of-type {\n",
       "        vertical-align: middle;\n",
       "    }\n",
       "\n",
       "    .dataframe tbody tr th {\n",
       "        vertical-align: top;\n",
       "    }\n",
       "\n",
       "    .dataframe thead th {\n",
       "        text-align: right;\n",
       "    }\n",
       "</style>\n",
       "<table border=\"1\" class=\"dataframe\">\n",
       "  <thead>\n",
       "    <tr style=\"text-align: right;\">\n",
       "      <th></th>\n",
       "      <th>au</th>\n",
       "      <th>w</th>\n",
       "      <th>decay</th>\n",
       "      <th>wd</th>\n",
       "      <th>t1</th>\n",
       "    </tr>\n",
       "  </thead>\n",
       "  <tbody>\n",
       "    <tr>\n",
       "      <th>2019-11-19 04:31:17.939</th>\n",
       "      <td>0.212051</td>\n",
       "      <td>0.046800</td>\n",
       "      <td>0.610189</td>\n",
       "      <td>0.028557</td>\n",
       "      <td>2019-11-20 04:31:21.924</td>\n",
       "    </tr>\n",
       "    <tr>\n",
       "      <th>2018-04-12 11:24:15.266</th>\n",
       "      <td>0.191518</td>\n",
       "      <td>1.360115</td>\n",
       "      <td>0.285822</td>\n",
       "      <td>0.388751</td>\n",
       "      <td>2018-04-13 11:24:15.733</td>\n",
       "    </tr>\n",
       "    <tr>\n",
       "      <th>2018-05-31 17:46:02.417</th>\n",
       "      <td>0.868787</td>\n",
       "      <td>1.814236</td>\n",
       "      <td>0.310514</td>\n",
       "      <td>0.563346</td>\n",
       "      <td>2018-06-01 17:46:12.165</td>\n",
       "    </tr>\n",
       "    <tr>\n",
       "      <th>2020-09-05 12:33:49.593</th>\n",
       "      <td>0.187576</td>\n",
       "      <td>0.405409</td>\n",
       "      <td>0.794646</td>\n",
       "      <td>0.322156</td>\n",
       "      <td>2020-09-06 12:33:56.010</td>\n",
       "    </tr>\n",
       "    <tr>\n",
       "      <th>2018-02-01 12:27:38.036</th>\n",
       "      <td>0.476426</td>\n",
       "      <td>7.270180</td>\n",
       "      <td>0.244994</td>\n",
       "      <td>1.781152</td>\n",
       "      <td>2018-02-02 12:27:49.758</td>\n",
       "    </tr>\n",
       "    <tr>\n",
       "      <th>...</th>\n",
       "      <td>...</td>\n",
       "      <td>...</td>\n",
       "      <td>...</td>\n",
       "      <td>...</td>\n",
       "      <td>...</td>\n",
       "    </tr>\n",
       "    <tr>\n",
       "      <th>2020-05-06 03:45:58.183</th>\n",
       "      <td>0.350325</td>\n",
       "      <td>1.479866</td>\n",
       "      <td>0.725635</td>\n",
       "      <td>1.073842</td>\n",
       "      <td>2020-05-07 03:46:00.795</td>\n",
       "    </tr>\n",
       "    <tr>\n",
       "      <th>2018-02-02 13:11:25.133</th>\n",
       "      <td>0.695430</td>\n",
       "      <td>1.809522</td>\n",
       "      <td>0.246145</td>\n",
       "      <td>0.445405</td>\n",
       "      <td>2018-02-03 13:11:32.841</td>\n",
       "    </tr>\n",
       "    <tr>\n",
       "      <th>2020-03-13 23:11:53.719</th>\n",
       "      <td>0.047576</td>\n",
       "      <td>0.838193</td>\n",
       "      <td>0.685660</td>\n",
       "      <td>0.574715</td>\n",
       "      <td>2020-03-14 23:11:55.109</td>\n",
       "    </tr>\n",
       "    <tr>\n",
       "      <th>2019-11-04 12:00:45.489</th>\n",
       "      <td>1.000000</td>\n",
       "      <td>0.014756</td>\n",
       "      <td>0.602483</td>\n",
       "      <td>0.008890</td>\n",
       "      <td>2019-11-05 12:00:52.633</td>\n",
       "    </tr>\n",
       "    <tr>\n",
       "      <th>2019-08-16 15:25:40.333</th>\n",
       "      <td>0.512914</td>\n",
       "      <td>0.160454</td>\n",
       "      <td>0.555522</td>\n",
       "      <td>0.089136</td>\n",
       "      <td>2019-08-17 15:26:06.950</td>\n",
       "    </tr>\n",
       "  </tbody>\n",
       "</table>\n",
       "<p>3367 rows × 5 columns</p>\n",
       "</div>"
      ],
      "text/plain": [
       "                               au         w     decay        wd  \\\n",
       "2019-11-19 04:31:17.939  0.212051  0.046800  0.610189  0.028557   \n",
       "2018-04-12 11:24:15.266  0.191518  1.360115  0.285822  0.388751   \n",
       "2018-05-31 17:46:02.417  0.868787  1.814236  0.310514  0.563346   \n",
       "2020-09-05 12:33:49.593  0.187576  0.405409  0.794646  0.322156   \n",
       "2018-02-01 12:27:38.036  0.476426  7.270180  0.244994  1.781152   \n",
       "...                           ...       ...       ...       ...   \n",
       "2020-05-06 03:45:58.183  0.350325  1.479866  0.725635  1.073842   \n",
       "2018-02-02 13:11:25.133  0.695430  1.809522  0.246145  0.445405   \n",
       "2020-03-13 23:11:53.719  0.047576  0.838193  0.685660  0.574715   \n",
       "2019-11-04 12:00:45.489  1.000000  0.014756  0.602483  0.008890   \n",
       "2019-08-16 15:25:40.333  0.512914  0.160454  0.555522  0.089136   \n",
       "\n",
       "                                             t1  \n",
       "2019-11-19 04:31:17.939 2019-11-20 04:31:21.924  \n",
       "2018-04-12 11:24:15.266 2018-04-13 11:24:15.733  \n",
       "2018-05-31 17:46:02.417 2018-06-01 17:46:12.165  \n",
       "2020-09-05 12:33:49.593 2020-09-06 12:33:56.010  \n",
       "2018-02-01 12:27:38.036 2018-02-02 12:27:49.758  \n",
       "...                                         ...  \n",
       "2020-05-06 03:45:58.183 2020-05-07 03:46:00.795  \n",
       "2018-02-02 13:11:25.133 2018-02-03 13:11:32.841  \n",
       "2020-03-13 23:11:53.719 2020-03-14 23:11:55.109  \n",
       "2019-11-04 12:00:45.489 2019-11-05 12:00:52.633  \n",
       "2019-08-16 15:25:40.333 2019-08-17 15:26:06.950  \n",
       "\n",
       "[3367 rows x 5 columns]"
      ]
     },
     "execution_count": 6,
     "metadata": {},
     "output_type": "execute_result"
    }
   ],
   "source": [
    "df"
   ]
  },
  {
   "cell_type": "code",
   "execution_count": 7,
   "id": "7623a186-5e6a-4168-9529-bc01a8653dab",
   "metadata": {},
   "outputs": [],
   "source": [
    "df.to_csv(\"../data/weighted_seq_bootstrap.csv\")"
   ]
  },
  {
   "cell_type": "code",
   "execution_count": null,
   "id": "6b3e9662-a3a2-459a-8359-e92b8e6a3c87",
   "metadata": {},
   "outputs": [],
   "source": []
  }
 ],
 "metadata": {
  "kernelspec": {
   "display_name": "Python 3",
   "language": "python",
   "name": "python3"
  },
  "language_info": {
   "codemirror_mode": {
    "name": "ipython",
    "version": 3
   },
   "file_extension": ".py",
   "mimetype": "text/x-python",
   "name": "python",
   "nbconvert_exporter": "python",
   "pygments_lexer": "ipython3",
   "version": "3.9.4"
  }
 },
 "nbformat": 4,
 "nbformat_minor": 5
}
