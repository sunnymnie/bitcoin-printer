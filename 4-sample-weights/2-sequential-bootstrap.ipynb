{
 "cells": [
  {
   "cell_type": "markdown",
   "id": "b98b0d17-a2c1-4f87-b510-71b1dac371a0",
   "metadata": {},
   "source": [
    "# Sequential bootstrap"
   ]
  },
  {
   "cell_type": "code",
   "execution_count": 1,
   "id": "c6e18dd8-9266-49c6-a82e-ecde7dadee75",
   "metadata": {},
   "outputs": [],
   "source": [
    "import pandas as pd\n",
    "import numpy as np\n",
    "import matplotlib.pyplot as plt\n",
    "import seaborn as sns\n",
    "from IPython.display import clear_output"
   ]
  },
  {
   "cell_type": "code",
   "execution_count": 2,
   "id": "909af12c-1c63-4d0a-adf0-7095be1f8da8",
   "metadata": {},
   "outputs": [],
   "source": [
    "t1 = pd.to_datetime(pd.read_csv(\"../data/t1.csv\", index_col=0, parse_dates=True, squeeze=True))"
   ]
  },
  {
   "cell_type": "code",
   "execution_count": 3,
   "id": "676d0df5-5839-452c-9a66-3b6248c70ea3",
   "metadata": {},
   "outputs": [],
   "source": [
    "# t1 = t1[-30:]"
   ]
  },
  {
   "cell_type": "code",
   "execution_count": 4,
   "id": "4a65c3bc-87b7-4b09-ba55-dd46aaf84ef3",
   "metadata": {},
   "outputs": [],
   "source": [
    "def get_ind_matrix(bar_ix,t1):\n",
    "    \"\"\"Get Indicator matrix\"\"\"\n",
    "    ind_m=(pd.DataFrame(0,index=bar_ix,columns=range(t1.shape[0])))\n",
    "    for i,(t0,t1) in enumerate(t1.iteritems()):ind_m.loc[t0:t1,i]=1.\n",
    "    return ind_m\n",
    "\n",
    "def get_avg_uniqueness(ind_m):\n",
    "    \"\"\"Average uniqueness from indicator matrix\"\"\"\n",
    "    c=ind_m.sum(axis=1) # concurrency\n",
    "    u=ind_m.div(c,axis=0) # uniqueness\n",
    "    avg_u=u[u>0].mean() # avg. uniqueness\n",
    "    return avg_u\n",
    "\n",
    "def seq_bootstrap(ind_m,s_length=None):\n",
    "    \"\"\"Generate a sample via sequential bootstrap\"\"\"\n",
    "    if s_length is None:s_length=ind_m.shape[1]\n",
    "    phi = list(pd.read_csv(\"../data/sb-phi.csv\", squeeze=True))\n",
    "    while len(phi)<s_length:\n",
    "        clear_output()\n",
    "        print(f\"len(phi) is {len(phi)} which is < than s_length {s_length}\")\n",
    "        avg_u=pd.Series(dtype=float)\n",
    "        for i in ind_m:\n",
    "            ind_m_=ind_m[phi+[i]] # reduce ind_m\n",
    "            avg_u.loc[i]=get_avg_uniqueness(ind_m_).iloc[-1]\n",
    "        prob=avg_u/avg_u.sum() # draw prob\n",
    "        phi+=[np.random.choice(ind_m.columns,p=prob)]\n",
    "        pd.Series(phi, dtype=int).to_csv(\"../data/sb-phi.csv\", index=False)\n",
    "    return phi"
   ]
  },
  {
   "cell_type": "code",
   "execution_count": 5,
   "id": "7520e26d-11e1-4181-ba57-9598ca170daf",
   "metadata": {},
   "outputs": [
    {
     "name": "stdin",
     "output_type": "stream",
     "text": [
      "Are you sure you want to override phi? Type 'YES' to change phi to []\n",
      " no\n"
     ]
    },
    {
     "name": "stdout",
     "output_type": "stream",
     "text": [
      "No change\n"
     ]
    }
   ],
   "source": [
    "override = input(\"Are you sure you want to override phi? Type 'YES' to change phi to []\\n\")\n",
    "if override == \"YES\":\n",
    "    print(\"OVERRIDDEN PHI\")\n",
    "    pd.Series([], dtype=int).to_csv(\"../data/sb-phi.csv\", index=False)\n",
    "else:\n",
    "    print(\"No change\")"
   ]
  },
  {
   "cell_type": "code",
   "execution_count": null,
   "id": "e6fdddb7-53ca-4c46-be15-6c2358512286",
   "metadata": {},
   "outputs": [],
   "source": [
    "bar_ix=t1.index # index of bars\n",
    "ind_m=get_ind_matrix(bar_ix,t1)\n",
    "phi_random=np.random.choice(ind_m.columns,size=ind_m.shape[1])\n",
    "phi_seq=seq_bootstrap(ind_m)\n",
    "print(f'Standard uniqueness: {get_avg_uniqueness(ind_m[phi_random]).mean():.4f}')\n",
    "print(f'Sequential uniqueness: {get_avg_uniqueness(ind_m[phi_seq]).mean():.4f}')"
   ]
  },
  {
   "cell_type": "code",
   "execution_count": 8,
   "id": "6dc0ae06-c535-483a-b5f0-743b80b6a2a0",
   "metadata": {},
   "outputs": [
    {
     "data": {
      "text/plain": [
       "419"
      ]
     },
     "execution_count": 8,
     "metadata": {},
     "output_type": "execute_result"
    }
   ],
   "source": [
    "phi = list(pd.read_csv(\"../data/sb-phi.csv\", squeeze=True))\n",
    "len(phi)"
   ]
  },
  {
   "cell_type": "code",
   "execution_count": 18,
   "id": "2f52945e-be14-439d-92a4-ec83e36c3e41",
   "metadata": {},
   "outputs": [
    {
     "name": "stdout",
     "output_type": "stream",
     "text": [
      "Highest uniqueness: 0.2349\n",
      "Stopping...\n",
      "Highest uniqueness: 0.2349\n"
     ]
    }
   ],
   "source": [
    "phi = []\n",
    "phi_uniqueness = 0\n",
    "while True:\n",
    "    try:\n",
    "        phi_random=np.random.choice(ind_m.columns,size=ind_m.shape[1])\n",
    "        uniqueness = get_avg_uniqueness(ind_m[phi_random]).mean()\n",
    "        if uniqueness > phi_uniqueness:\n",
    "            phi = phi_random\n",
    "            phi_uniqueness = uniqueness\n",
    "            clear_output()\n",
    "            print(f'Highest uniqueness: {round(phi_uniqueness, 4)}')\n",
    "    except:\n",
    "        print(\"Stopping...\")\n",
    "        print(f'Highest uniqueness: {round(phi_uniqueness, 4)}')\n",
    "        break"
   ]
  },
  {
   "cell_type": "code",
   "execution_count": 19,
   "id": "b5b4f4b1-e358-47b9-bbb6-5542f2fc05d0",
   "metadata": {},
   "outputs": [],
   "source": [
    "phi_seq = phi"
   ]
  },
  {
   "cell_type": "code",
   "execution_count": 20,
   "id": "5c2ab5aa-412d-4d8a-accf-f263ebb72891",
   "metadata": {},
   "outputs": [],
   "source": [
    "seq = list(map(lambda x: t1.index[x], phi_seq))"
   ]
  },
  {
   "cell_type": "code",
   "execution_count": 21,
   "id": "a6f44965-36af-45b4-8a2a-57dd4b3a4537",
   "metadata": {},
   "outputs": [],
   "source": [
    "new_t1 = t1.reindex(seq)"
   ]
  },
  {
   "cell_type": "code",
   "execution_count": 22,
   "id": "71985bf8-0802-4f2f-918e-49caa09ddade",
   "metadata": {},
   "outputs": [
    {
     "data": {
      "text/plain": [
       "(2019-11-19 04:31:17.939   2019-11-20 04:31:21.924\n",
       " 2018-04-12 11:24:15.266   2018-04-13 11:24:15.733\n",
       " 2018-05-31 17:46:02.417   2018-06-01 17:46:12.165\n",
       " 2020-09-05 12:33:49.593   2020-09-06 12:33:56.010\n",
       " 2018-02-01 12:27:38.036   2018-02-02 12:27:49.758\n",
       " Name: time, dtype: datetime64[ns],\n",
       " 3367,\n",
       " 3367)"
      ]
     },
     "execution_count": 22,
     "metadata": {},
     "output_type": "execute_result"
    }
   ],
   "source": [
    "new_t1.head(), len(new_t1), len(t1)"
   ]
  },
  {
   "cell_type": "code",
   "execution_count": 23,
   "id": "9c68aac6-5827-40f7-ba13-833d1cf0c492",
   "metadata": {},
   "outputs": [],
   "source": [
    "new_t1.to_csv(\"../data/seq_bootstrap.csv\")"
   ]
  },
  {
   "cell_type": "code",
   "execution_count": 67,
   "id": "e3eeedc2-a1ed-4efa-8d21-ed6b0ef3bdca",
   "metadata": {},
   "outputs": [],
   "source": [
    "# new_t1 = pd.to_datetime(pd.read_csv(\"../data/seq_bootstrap.csv\", index_col=0, parse_dates=True, squeeze=True))"
   ]
  },
  {
   "cell_type": "markdown",
   "id": "0399bd31-2f2d-49d5-831c-cd813bb6cc6d",
   "metadata": {},
   "source": [
    "## Plotting"
   ]
  },
  {
   "cell_type": "code",
   "execution_count": 24,
   "id": "bf976049-6bcb-4910-b56a-5579221cfa77",
   "metadata": {},
   "outputs": [
    {
     "data": {
      "image/png": "[encoded data removed]",
      "text/plain": [
       "<Figure size 864x288 with 1 Axes>"
      ]
     },
     "metadata": {
      "needs_background": "light"
     },
     "output_type": "display_data"
    }
   ],
   "source": [
    "fig, ax = plt.subplots(figsize=(12, 4))\n",
    "ax.hist(t1, alpha=.5, label=\"original t1\")\n",
    "ax.hist(new_t1, alpha=.5, label=\"sequentially bootstrapped t1\")\n",
    "ax.set_title(\"Frequency histogram of original t1 vs sequentially bootstrapped t1\")\n",
    "ax.legend();\n"
   ]
  },
  {
   "cell_type": "code",
   "execution_count": null,
   "id": "64a218ca-c868-4308-9253-1a7ca40624c3",
   "metadata": {},
   "outputs": [],
   "source": []
  }
 ],
 "metadata": {
  "kernelspec": {
   "display_name": "Python 3",
   "language": "python",
   "name": "python3"
  },
  "language_info": {
   "codemirror_mode": {
    "name": "ipython",
    "version": 3
   },
   "file_extension": ".py",
   "mimetype": "text/x-python",
   "name": "python",
   "nbconvert_exporter": "python",
   "pygments_lexer": "ipython3",
   "version": "3.9.4"
  }
 },
 "nbformat": 4,
 "nbformat_minor": 5
}
