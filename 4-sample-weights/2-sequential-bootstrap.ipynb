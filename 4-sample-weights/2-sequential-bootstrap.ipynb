{
 "cells": [
  {
   "cell_type": "markdown",
   "id": "b98b0d17-a2c1-4f87-b510-71b1dac371a0",
   "metadata": {},
   "source": [
    "# Sequential bootstrap"
   ]
  },
  {
   "cell_type": "code",
   "execution_count": 29,
   "id": "c6e18dd8-9266-49c6-a82e-ecde7dadee75",
   "metadata": {},
   "outputs": [],
   "source": [
    "import pandas as pd\n",
    "import numpy as np\n",
    "import matplotlib.pyplot as plt\n",
    "import seaborn as sns\n",
    "from IPython.display import clear_output"
   ]
  },
  {
   "cell_type": "code",
   "execution_count": 69,
   "id": "909af12c-1c63-4d0a-adf0-7095be1f8da8",
   "metadata": {},
   "outputs": [],
   "source": [
    "t1 = pd.to_datetime(pd.read_csv(\"../data/t1.csv\", index_col=0, parse_dates=True, squeeze=True))"
   ]
  },
  {
   "cell_type": "code",
   "execution_count": 33,
   "id": "676d0df5-5839-452c-9a66-3b6248c70ea3",
   "metadata": {},
   "outputs": [],
   "source": [
    "# t1 = t1[-30:]"
   ]
  },
  {
   "cell_type": "code",
   "execution_count": 34,
   "id": "4a65c3bc-87b7-4b09-ba55-dd46aaf84ef3",
   "metadata": {},
   "outputs": [],
   "source": [
    "def get_ind_matrix(bar_ix,t1):\n",
    "    \"\"\"Get Indicator matrix\"\"\"\n",
    "    ind_m=(pd.DataFrame(0,index=bar_ix,columns=range(t1.shape[0])))\n",
    "    for i,(t0,t1) in enumerate(t1.iteritems()):ind_m.loc[t0:t1,i]=1.\n",
    "    return ind_m\n",
    "\n",
    "def get_avg_uniqueness(ind_m):\n",
    "    \"\"\"Average uniqueness from indicator matrix\"\"\"\n",
    "    c=ind_m.sum(axis=1) # concurrency\n",
    "    u=ind_m.div(c,axis=0) # uniqueness\n",
    "    avg_u=u[u>0].mean() # avg. uniqueness\n",
    "    return avg_u\n",
    "\n",
    "def seq_bootstrap(ind_m,s_length=None):\n",
    "    \"\"\"Generate a sample via sequential bootstrap\"\"\"\n",
    "    if s_length is None:s_length=ind_m.shape[1]\n",
    "    phi=[]\n",
    "    while len(phi)<s_length:\n",
    "        clear_output()\n",
    "        print(f\"len(phi) is {len(phi)} which is < than s_length {s_length}\")\n",
    "        avg_u=pd.Series(dtype=float)\n",
    "        for i in ind_m:\n",
    "            ind_m_=ind_m[phi+[i]] # reduce ind_m\n",
    "            avg_u.loc[i]=get_avg_uniqueness(ind_m_).iloc[-1]\n",
    "        prob=avg_u/avg_u.sum() # draw prob\n",
    "        phi+=[np.random.choice(ind_m.columns,p=prob)]\n",
    "    return phi"
   ]
  },
  {
   "cell_type": "code",
   "execution_count": 36,
   "id": "263f5ca6-bc1f-42a6-80f8-32024ff856e7",
   "metadata": {},
   "outputs": [
    {
     "name": "stdout",
     "output_type": "stream",
     "text": [
      "len(phi) is 29 which is < than sLength 30\n",
      "Standard uniqueness: 0.2101\n",
      "[26, 20, 3, 9, 17, 12, 8, 0, 13, 29, 27, 6, 7, 6, 12, 1, 17, 7, 5, 5, 19, 23, 2, 4, 5, 1, 9, 25, 23, 10]\n",
      "Sequential uniqueness: 0.2111\n"
     ]
    }
   ],
   "source": [
    "bar_ix=t1.index # index of bars\n",
    "ind_m=get_ind_matrix(bar_ix,t1)\n",
    "phi_random=np.random.choice(ind_m.columns,size=ind_m.shape[1])\n",
    "phi_seq=seq_bootstrap(ind_m)\n",
    "print(f'Standard uniqueness: {get_avg_uniqueness(ind_m[phi_random]).mean():.4f}')\n",
    "print(f'Sequential uniqueness: {get_avg_uniqueness(ind_m[phi_seq]).mean():.4f}')"
   ]
  },
  {
   "cell_type": "code",
   "execution_count": 46,
   "id": "5c2ab5aa-412d-4d8a-accf-f263ebb72891",
   "metadata": {},
   "outputs": [],
   "source": [
    "seq = list(map(lambda x: t1.index[x], phi_seq))"
   ]
  },
  {
   "cell_type": "code",
   "execution_count": 48,
   "id": "a6f44965-36af-45b4-8a2a-57dd4b3a4537",
   "metadata": {},
   "outputs": [],
   "source": [
    "new_t1 = t1.reindex(seq)"
   ]
  },
  {
   "cell_type": "code",
   "execution_count": 51,
   "id": "71985bf8-0802-4f2f-918e-49caa09ddade",
   "metadata": {},
   "outputs": [
    {
     "data": {
      "text/plain": [
       "(2021-06-18 10:02:30.206   2021-06-19 10:02:31.439\n",
       " 2021-06-17 12:16:57.680   2021-06-18 12:17:00.195\n",
       " 2021-06-13 08:32:19.060   2021-06-14 08:32:30.869\n",
       " 2021-06-14 18:34:18.156   2021-06-15 18:34:22.956\n",
       " 2021-06-16 11:41:26.128   2021-06-17 11:41:31.660\n",
       " Name: time, dtype: datetime64[ns],\n",
       " 30,\n",
       " 30)"
      ]
     },
     "execution_count": 51,
     "metadata": {},
     "output_type": "execute_result"
    }
   ],
   "source": [
    "new_t1.head(), len(new_t1), len(t1)"
   ]
  },
  {
   "cell_type": "code",
   "execution_count": 56,
   "id": "9c68aac6-5827-40f7-ba13-833d1cf0c492",
   "metadata": {},
   "outputs": [],
   "source": [
    "new_t1.to_csv(\"../data/seq_bootstrap.csv\")"
   ]
  },
  {
   "cell_type": "code",
   "execution_count": 67,
   "id": "e3eeedc2-a1ed-4efa-8d21-ed6b0ef3bdca",
   "metadata": {},
   "outputs": [],
   "source": [
    "# new_t1 = pd.to_datetime(pd.read_csv(\"../data/seq_bootstrap.csv\", index_col=0, parse_dates=True, squeeze=True))"
   ]
  },
  {
   "cell_type": "markdown",
   "id": "0399bd31-2f2d-49d5-831c-cd813bb6cc6d",
   "metadata": {},
   "source": [
    "## Plotting"
   ]
  },
  {
   "cell_type": "code",
   "execution_count": 78,
   "id": "bf976049-6bcb-4910-b56a-5579221cfa77",
   "metadata": {},
   "outputs": [
    {
     "data": {
      "image/png": "[encoded data removed]",
      "text/plain": [
       "<Figure size 864x288 with 1 Axes>"
      ]
     },
     "metadata": {
      "needs_background": "light"
     },
     "output_type": "display_data"
    }
   ],
   "source": [
    "fig, ax = plt.subplots(figsize=(12, 4))\n",
    "ax.hist(t1, alpha=.5, label=\"original t1\")\n",
    "ax.hist(new_t1, alpha=.5, label=\"sequentially bootstrapped t1\")\n",
    "ax.set_title(\"Frequency histogram of original t1 vs sequentially bootstrapped t1\")\n",
    "ax.legend();\n"
   ]
  },
  {
   "cell_type": "code",
   "execution_count": null,
   "id": "64a218ca-c868-4308-9253-1a7ca40624c3",
   "metadata": {},
   "outputs": [],
   "source": []
  }
 ],
 "metadata": {
  "kernelspec": {
   "display_name": "Python 3",
   "language": "python",
   "name": "python3"
  },
  "language_info": {
   "codemirror_mode": {
    "name": "ipython",
    "version": 3
   },
   "file_extension": ".py",
   "mimetype": "text/x-python",
   "name": "python",
   "nbconvert_exporter": "python",
   "pygments_lexer": "ipython3",
   "version": "3.9.4"
  }
 },
 "nbformat": 4,
 "nbformat_minor": 5
}
