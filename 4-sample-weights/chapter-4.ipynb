{
 "cells": [
  {
   "cell_type": "markdown",
   "id": "9a7c931f-2ead-4d54-a7d9-a92062677421",
   "metadata": {},
   "source": [
    "# Chapter 4 exercise implementation\n",
    "Much help from:\n",
    "https://github.com/BlackArbsCEO/Adv_Fin_ML_Exercises/blob/master/notebooks/04.%20Sample%20Weights.ipynb"
   ]
  },
  {
   "cell_type": "code",
   "execution_count": 1,
   "id": "4e152b2e-5e03-42fa-9c2f-a87b2255f0e5",
   "metadata": {},
   "outputs": [],
   "source": [
    "import pandas as pd\n",
    "import numpy as np\n",
    "import matplotlib.pyplot as plt\n",
    "import seaborn as sns\n",
    "import sys\n",
    "sys.path.insert(0, '..')\n",
    "from multiprocess import mp_pandas_obj"
   ]
  },
  {
   "cell_type": "markdown",
   "id": "5ceb2fdd-0f06-4f1d-83ae-23fff3cafeb4",
   "metadata": {},
   "source": [
    "## Code snippets"
   ]
  },
  {
   "cell_type": "markdown",
   "id": "251effc5-af14-42de-bdff-202245cd386c",
   "metadata": {},
   "source": [
    "### Estimating uniqueness of a label [4.1]"
   ]
  },
  {
   "cell_type": "code",
   "execution_count": 2,
   "id": "659456b9-919e-493b-8547-217d24abc67e",
   "metadata": {},
   "outputs": [],
   "source": [
    "def mpNumCoEvents(closeIdx,t1,molecule):\n",
    "    '''\n",
    "    Compute the number of concurrent events per bar.\n",
    "    +molecule[0] is the date of the first event on which the weight will be computed\n",
    "    +molecule[-1] is the date of the last event on which the weight will be computed\n",
    "    \n",
    "    Any event that starts before t1[modelcule].max() impacts the count.\n",
    "    '''\n",
    "    #1) find events that span the period [molecule[0],molecule[-1]]\n",
    "    t1=t1.fillna(closeIdx[-1]) # unclosed events still must impact other weights\n",
    "    t1=t1[t1>=molecule[0]] # events that end at or after molecule[0]\n",
    "    t1=t1.loc[:t1[molecule].max()] # events that start at or before t1[molecule].max()\n",
    "    #2) count events spanning a bar\n",
    "    iloc=closeIdx.searchsorted(np.array([t1.index[0],t1.max()]))\n",
    "    count=pd.Series(0,index=closeIdx[iloc[0]:iloc[1]+1])\n",
    "    for tIn,tOut in t1.iteritems():count.loc[tIn:tOut]+=1.\n",
    "    return count.loc[molecule[0]:t1[molecule].max()]"
   ]
  },
  {
   "cell_type": "code",
   "execution_count": 161,
   "id": "ee3b7e50-7c17-44ad-b118-13beb16d48d7",
   "metadata": {
    "jupyter": {
     "source_hidden": true
    },
    "tags": []
   },
   "outputs": [],
   "source": [
    "# def mpNumCoEvents(closeIdx,t1,molecule):\n",
    "#     '''\n",
    "#     Compute the number of concurrent events per bar.\n",
    "#     +molecule[0] is the date of the first event on which the weight will be computed\n",
    "#     +molecule[-1] is the date of the last event on which the weight will be computed\n",
    "    \n",
    "#     Any event that starts before t1[modelcule].max() impacts the count.\n",
    "#     '''\n",
    "#     #1) find events that span the period [molecule[0],molecule[-1]]\n",
    "#     t1=t1.fillna(closeIdx[-1]) # unclosed events still must impact other weights\n",
    "#     t1=t1[t1.index>=molecule[0]] # events that end at or after molecule[0]\n",
    "#     t1=t1.loc[:t1.reindex(events.index).index[-1]] # events that start at or before t1[molecule].max()\n",
    "#     #2) count events spanning a bar\n",
    "#     iloc=closeIdx.searchsorted(np.array([t1.index[0],t1.index[-1]]))\n",
    "#     count=pd.Series(0,index=closeIdx[iloc[0]:iloc[1]+1])\n",
    "#     for tIn,tOut in t1.iteritems(): \n",
    "#         #Basically, tIn and tOut is the range of a 'buy' to first touch of barrier, and for each of those ranges +1\n",
    "#         count.loc[tIn:tOut]+=1.\n",
    "#     return count.loc[molecule[0]:t1[molecule].max()]"
   ]
  },
  {
   "cell_type": "markdown",
   "id": "eb110354-bce3-4b7d-9fc0-d812f4ba7579",
   "metadata": {},
   "source": [
    "### Estimating the average uniqueness of a label [4.2]"
   ]
  },
  {
   "cell_type": "code",
   "execution_count": 25,
   "id": "e4739c6e-ba59-4e16-8d9f-021688ea9dae",
   "metadata": {
    "tags": []
   },
   "outputs": [],
   "source": [
    "def mpSampleTW(t1,numCoEvents,molecule):\n",
    "    # Derive avg. uniqueness over the events lifespan\n",
    "    wght=pd.Series(index=molecule, dtype=float)\n",
    "    for tIn,tOut in t1.loc[wght.index].iteritems():\n",
    "        wght.loc[tIn]=(1./numCoEvents.loc[tIn:tOut]).mean()\n",
    "    return wght"
   ]
  },
  {
   "cell_type": "markdown",
   "id": "d04bc3ab-3b05-4594-a010-b679a2cea02d",
   "metadata": {},
   "source": [
    "### Build Indicator Matrix [4.3]"
   ]
  },
  {
   "cell_type": "code",
   "execution_count": 5,
   "id": "5128e0e8-95d6-4f80-8d4d-06dbde98f584",
   "metadata": {
    "jupyter": {
     "source_hidden": true
    },
    "tags": []
   },
   "outputs": [],
   "source": [
    "def getIndMatrix(barIx,t1):\n",
    "    # Get Indicator matrix\n",
    "    indM=(pd.DataFrame(0,index=barIx,columns=range(t1.shape[0])))\n",
    "    for i,(t0,t1) in enumerate(t1.iteritems()):indM.loc[t0:t1,i]=1.\n",
    "    return indM"
   ]
  },
  {
   "cell_type": "markdown",
   "id": "dc5e9465-2156-4145-bd59-9319078406e6",
   "metadata": {},
   "source": [
    "### Compute average uniqueness [4.4]"
   ]
  },
  {
   "cell_type": "code",
   "execution_count": 6,
   "id": "ea13cbf2-6540-4ed9-a4e5-1e0fbdeebdec",
   "metadata": {
    "jupyter": {
     "source_hidden": true
    },
    "tags": []
   },
   "outputs": [],
   "source": [
    "def getAvgUniqueness(indM):\n",
    "    # Average uniqueness from indicator matrix\n",
    "    c=indM.sum(axis=1) # concurrency\n",
    "    u=indM.div(c,axis=0) # uniqueness\n",
    "    avgU=u[u>0].mean() # avg. uniqueness\n",
    "    return avgU"
   ]
  },
  {
   "cell_type": "markdown",
   "id": "eca176b3-5589-4ec6-a81d-4f0b5579a2a7",
   "metadata": {},
   "source": [
    "### return sample from sequential bootstrap [4.5]"
   ]
  },
  {
   "cell_type": "code",
   "execution_count": 7,
   "id": "69d775c6-c5a9-4c5b-8120-d32542fc0a6e",
   "metadata": {
    "jupyter": {
     "source_hidden": true
    },
    "tags": []
   },
   "outputs": [],
   "source": [
    "def seqBootstrap(indM,sLength=None):\n",
    "    # Generate a sample via sequential bootstrap\n",
    "    if sLength is None:sLength=indM.shape[1]\n",
    "    phi=[]\n",
    "    while len(phi)<sLength:\n",
    "        avgU=pd.Series()\n",
    "        for i in indM:\n",
    "            indM_=indM[phi+[i]] # reduce indM\n",
    "            avgU.loc[i]=getAvgUniqueness(indM_).iloc[-1]\n",
    "        prob=avgU/avgU.sum() # draw prob\n",
    "        phi+=[np.random.choice(indM.columns,p=prob)]\n",
    "    return phi"
   ]
  },
  {
   "cell_type": "markdown",
   "id": "ceba06b4-fe8b-4468-a802-80124d20f0eb",
   "metadata": {},
   "source": [
    "### Determination of sample weight by absolute return attribution [4.10]¶"
   ]
  },
  {
   "cell_type": "code",
   "execution_count": 27,
   "id": "9b728b93-bc96-4cfd-892c-d08a22e6c53a",
   "metadata": {
    "tags": []
   },
   "outputs": [],
   "source": [
    "def mpSampleW(t1,numCoEvents,close,molecule):\n",
    "    # Derive sample weight by return attribution\n",
    "    ret=np.log(close).diff() # log-returns, so that they are additive\n",
    "    wght=pd.Series(index=molecule, dtype=float)\n",
    "    for tIn,tOut in t1.loc[wght.index].iteritems():\n",
    "        wght.loc[tIn]=(ret.loc[tIn:tOut]/numCoEvents.loc[tIn:tOut]).sum()\n",
    "    return wght.abs()"
   ]
  },
  {
   "cell_type": "markdown",
   "id": "f4563386-c79b-41b0-9a22-0a0622f94cf3",
   "metadata": {},
   "source": [
    "### Implementation of Time-Decay Factors [4.11]"
   ]
  },
  {
   "cell_type": "code",
   "execution_count": 9,
   "id": "c0653300-f34d-4563-ae96-ef131ea8ed68",
   "metadata": {
    "jupyter": {
     "source_hidden": true
    },
    "tags": []
   },
   "outputs": [],
   "source": [
    "def getTimeDecay(tW,clfLastW=1.):\n",
    "    # apply piecewise-linear decay to observed uniqueness (tW)\n",
    "    # newest observation gets weight=1, oldest observation gets weight=clfLastW\n",
    "    clfW=tW.sort_index().cumsum()\n",
    "    if clfLastW>=0: slope=(1.-clfLastW)/clfW.iloc[-1]\n",
    "    else: slope=1./((clfLastW+1)*clfW.iloc[-1])\n",
    "    const=1.-slope*clfW.iloc[-1]\n",
    "    clfW=const+slope*clfW\n",
    "    clfW[clfW<0]=0\n",
    "    print(const,slope)\n",
    "    return clfW"
   ]
  },
  {
   "cell_type": "markdown",
   "id": "b965b715-8e59-410a-8b47-863b20924925",
   "metadata": {},
   "source": [
    "### Example of Sequential Bootstrap [4.6]"
   ]
  },
  {
   "cell_type": "code",
   "execution_count": 11,
   "id": "10b98187-5d37-4b01-9700-f35cf0e86719",
   "metadata": {
    "jupyter": {
     "source_hidden": true
    },
    "tags": []
   },
   "outputs": [],
   "source": [
    "def main():\n",
    "    np.random.seed(12121) # fix seed as results are unstable\n",
    "    t1=pd.Series([2,3,5],index=[0,2,4]) # t0,t1 for each feature obs\n",
    "    barIx=range(t1.max()+1) # index of bars\n",
    "    indM=snp.getIndMatrix(barIx,t1)\n",
    "    phi_random=np.random.choice(indM.columns,size=indM.shape[1])\n",
    "    print(phi_random)\n",
    "    print(f'Standard uniqueness: {snp.getAvgUniqueness(indM[phi_random]).mean():.4f}')\n",
    "    phi_seq=snp.seqBootstrap(indM)\n",
    "    print(phi_seq)\n",
    "    print(f'Sequential uniqueness: {snp.getAvgUniqueness(indM[phi_seq]).mean():.4f}')\n",
    "    \n",
    "# main()"
   ]
  },
  {
   "cell_type": "markdown",
   "id": "d7ce4c68-c574-4b25-b5df-173451bddd2d",
   "metadata": {},
   "source": [
    "# Exercise"
   ]
  },
  {
   "cell_type": "markdown",
   "id": "8c882be3-2c00-4b06-a47e-599c6b0d2546",
   "metadata": {},
   "source": [
    "## 1. In Chapter 3, we denoted as t1 a pandas series of timestamps where the first barrier was touched, and the index was the timestamp of the observation. This was the output of the getEvents function."
   ]
  },
  {
   "cell_type": "markdown",
   "id": "9e39ca0b-a7c1-4945-a5ae-456bff82e712",
   "metadata": {},
   "source": [
    "### a) Compute a t1 series on dollar bars derived from E-mini S&P 500 futures tick data.\n",
    "(Or in this case btc)"
   ]
  },
  {
   "cell_type": "code",
   "execution_count": 3,
   "id": "f0089740-5c70-48e9-ac33-d3e54d26dd18",
   "metadata": {},
   "outputs": [],
   "source": [
    "t1 = pd.to_datetime(pd.read_csv(\"../data/t1.csv\", index_col=0, parse_dates=True, squeeze=True))"
   ]
  },
  {
   "cell_type": "code",
   "execution_count": 4,
   "id": "f4888da6-299b-44c8-8fec-242b346dd4ee",
   "metadata": {},
   "outputs": [
    {
     "data": {
      "text/plain": [
       "2021-04-23 07:31:43.163   2021-04-24 07:31:46.976\n",
       "2021-04-23 08:09:56.981   2021-04-24 08:10:03.818\n",
       "2021-04-23 08:31:35.814   2021-04-24 08:31:40.279\n",
       "2021-04-23 09:40:37.273   2021-04-24 09:40:40.242\n",
       "2021-04-23 10:06:50.048   2021-04-24 10:06:52.614\n",
       "                                    ...          \n",
       "2021-06-18 03:49:00.094   2021-06-19 03:49:01.115\n",
       "2021-06-18 10:02:30.206   2021-06-19 10:02:31.439\n",
       "2021-06-18 10:57:56.538   2021-06-19 10:58:02.300\n",
       "2021-06-18 13:13:03.131   2021-06-19 13:13:09.648\n",
       "2021-06-18 14:16:19.376   2021-06-19 14:16:39.233\n",
       "Name: time, Length: 594, dtype: datetime64[ns]"
      ]
     },
     "execution_count": 4,
     "metadata": {},
     "output_type": "execute_result"
    }
   ],
   "source": [
    "t1"
   ]
  },
  {
   "cell_type": "markdown",
   "id": "63ac4c4d-15df-46d0-a20b-9daf9def4479",
   "metadata": {},
   "source": [
    "### b) Apply the function mpNumCoEvents to compute the number of overlapping outcomes at each point in time."
   ]
  },
  {
   "cell_type": "code",
   "execution_count": 5,
   "id": "4b763c9d-7703-4a30-9b99-d1b87f46744a",
   "metadata": {},
   "outputs": [],
   "source": [
    "events = pd.read_csv(\"../data/events.csv\", index_col=0, parse_dates=[0, 1])\n",
    "df = pd.read_csv(\"../data/BTCUSDT-volume-bars.csv\", index_col=0, parse_dates=True)"
   ]
  },
  {
   "cell_type": "code",
   "execution_count": 6,
   "id": "2c933324-d261-42e2-841e-0f2305af88f1",
   "metadata": {},
   "outputs": [
    {
     "data": {
      "text/html": [
       "<div>\n",
       "<style scoped>\n",
       "    .dataframe tbody tr th:only-of-type {\n",
       "        vertical-align: middle;\n",
       "    }\n",
       "\n",
       "    .dataframe tbody tr th {\n",
       "        vertical-align: top;\n",
       "    }\n",
       "\n",
       "    .dataframe thead th {\n",
       "        text-align: right;\n",
       "    }\n",
       "</style>\n",
       "<table border=\"1\" class=\"dataframe\">\n",
       "  <thead>\n",
       "    <tr style=\"text-align: right;\">\n",
       "      <th></th>\n",
       "      <th>t1</th>\n",
       "      <th>trgt</th>\n",
       "      <th>side</th>\n",
       "    </tr>\n",
       "  </thead>\n",
       "  <tbody>\n",
       "    <tr>\n",
       "      <th>2021-04-23 07:31:43.163</th>\n",
       "      <td>2021-04-24 07:31:46.976</td>\n",
       "      <td>0.020325</td>\n",
       "      <td>NaN</td>\n",
       "    </tr>\n",
       "    <tr>\n",
       "      <th>2021-04-23 08:09:56.981</th>\n",
       "      <td>2021-04-24 08:10:03.818</td>\n",
       "      <td>0.020990</td>\n",
       "      <td>NaN</td>\n",
       "    </tr>\n",
       "    <tr>\n",
       "      <th>2021-04-23 08:31:35.814</th>\n",
       "      <td>2021-04-24 08:31:40.279</td>\n",
       "      <td>0.020496</td>\n",
       "      <td>NaN</td>\n",
       "    </tr>\n",
       "    <tr>\n",
       "      <th>2021-04-23 09:40:37.273</th>\n",
       "      <td>2021-04-24 09:40:40.242</td>\n",
       "      <td>0.019150</td>\n",
       "      <td>NaN</td>\n",
       "    </tr>\n",
       "    <tr>\n",
       "      <th>2021-04-23 10:06:50.048</th>\n",
       "      <td>2021-04-24 10:06:52.614</td>\n",
       "      <td>0.018793</td>\n",
       "      <td>NaN</td>\n",
       "    </tr>\n",
       "    <tr>\n",
       "      <th>...</th>\n",
       "      <td>...</td>\n",
       "      <td>...</td>\n",
       "      <td>...</td>\n",
       "    </tr>\n",
       "    <tr>\n",
       "      <th>2021-06-19 04:32:03.276</th>\n",
       "      <td>NaT</td>\n",
       "      <td>0.016546</td>\n",
       "      <td>NaN</td>\n",
       "    </tr>\n",
       "    <tr>\n",
       "      <th>2021-06-19 06:30:57.226</th>\n",
       "      <td>NaT</td>\n",
       "      <td>0.015636</td>\n",
       "      <td>NaN</td>\n",
       "    </tr>\n",
       "    <tr>\n",
       "      <th>2021-06-19 12:07:09.748</th>\n",
       "      <td>NaT</td>\n",
       "      <td>0.013532</td>\n",
       "      <td>NaN</td>\n",
       "    </tr>\n",
       "    <tr>\n",
       "      <th>2021-06-19 12:48:14.298</th>\n",
       "      <td>NaT</td>\n",
       "      <td>0.013560</td>\n",
       "      <td>NaN</td>\n",
       "    </tr>\n",
       "    <tr>\n",
       "      <th>2021-06-19 14:36:28.808</th>\n",
       "      <td>NaT</td>\n",
       "      <td>0.012779</td>\n",
       "      <td>NaN</td>\n",
       "    </tr>\n",
       "  </tbody>\n",
       "</table>\n",
       "<p>602 rows × 3 columns</p>\n",
       "</div>"
      ],
      "text/plain": [
       "                                             t1      trgt  side\n",
       "2021-04-23 07:31:43.163 2021-04-24 07:31:46.976  0.020325   NaN\n",
       "2021-04-23 08:09:56.981 2021-04-24 08:10:03.818  0.020990   NaN\n",
       "2021-04-23 08:31:35.814 2021-04-24 08:31:40.279  0.020496   NaN\n",
       "2021-04-23 09:40:37.273 2021-04-24 09:40:40.242  0.019150   NaN\n",
       "2021-04-23 10:06:50.048 2021-04-24 10:06:52.614  0.018793   NaN\n",
       "...                                         ...       ...   ...\n",
       "2021-06-19 04:32:03.276                     NaT  0.016546   NaN\n",
       "2021-06-19 06:30:57.226                     NaT  0.015636   NaN\n",
       "2021-06-19 12:07:09.748                     NaT  0.013532   NaN\n",
       "2021-06-19 12:48:14.298                     NaT  0.013560   NaN\n",
       "2021-06-19 14:36:28.808                     NaT  0.012779   NaN\n",
       "\n",
       "[602 rows x 3 columns]"
      ]
     },
     "execution_count": 6,
     "metadata": {},
     "output_type": "execute_result"
    }
   ],
   "source": [
    "events"
   ]
  },
  {
   "cell_type": "code",
   "execution_count": 12,
   "id": "ae9ddfd0-cd36-4eeb-92ec-d1aee1fa8a12",
   "metadata": {},
   "outputs": [],
   "source": [
    "# numCoEvents = mpNumCoEvents(closeIdx=df.index, t1=events.t1, molecule=events.index)\n",
    "numCoEvents = mp_pandas_obj(mpNumCoEvents,('molecule',events.index),                         \n",
    "                              1,closeIdx=df.index,t1=events['t1'])"
   ]
  },
  {
   "cell_type": "code",
   "execution_count": 9,
   "id": "5202d85e-aa02-4257-9323-c97002c221fe",
   "metadata": {},
   "outputs": [
    {
     "data": {
      "text/plain": [
       "2021-04-23 07:31:43.163     1.0\n",
       "2021-04-23 07:31:44.212     1.0\n",
       "2021-04-23 07:31:45.347     1.0\n",
       "2021-04-23 07:31:47.652     1.0\n",
       "2021-04-23 07:31:50.047     1.0\n",
       "                           ... \n",
       "2021-06-19 16:27:04.502    11.0\n",
       "2021-06-19 16:27:20.667    11.0\n",
       "2021-06-19 16:27:26.627    11.0\n",
       "2021-06-19 16:27:44.405    11.0\n",
       "2021-06-19 16:27:48.270    11.0\n",
       "Length: 999315, dtype: float64"
      ]
     },
     "execution_count": 9,
     "metadata": {},
     "output_type": "execute_result"
    }
   ],
   "source": [
    "numCoEvents"
   ]
  },
  {
   "cell_type": "code",
   "execution_count": 10,
   "id": "083de906-c909-4267-b920-977ffd8cb0b8",
   "metadata": {},
   "outputs": [
    {
     "data": {
      "text/plain": [
       "[<matplotlib.lines.Line2D at 0x7f8104e1f160>]"
      ]
     },
     "execution_count": 10,
     "metadata": {},
     "output_type": "execute_result"
    },
    {
     "data": {
      "image/png": "[encoded data removed]",
      "text/plain": [
       "<Figure size 864x432 with 1 Axes>"
      ]
     },
     "metadata": {
      "needs_background": "light"
     },
     "output_type": "display_data"
    }
   ],
   "source": [
    "fig, ax = plt.subplots(figsize=(12, 6))\n",
    "\n",
    "ax.plot(numCoEvents)"
   ]
  },
  {
   "cell_type": "code",
   "execution_count": 13,
   "id": "034c41cd-abd5-4d05-bb08-d178b74ea969",
   "metadata": {},
   "outputs": [],
   "source": [
    "numCoEvents = numCoEvents.loc[~numCoEvents.index.duplicated(keep='last')]"
   ]
  },
  {
   "cell_type": "code",
   "execution_count": 14,
   "id": "73b9ea24-6100-45a2-9825-068e8c30f8d6",
   "metadata": {},
   "outputs": [],
   "source": [
    "numCoEvents = numCoEvents.reindex(df.index).fillna(0)"
   ]
  },
  {
   "cell_type": "code",
   "execution_count": 15,
   "id": "fe2765d8-d430-4f67-97d3-6d211e173b07",
   "metadata": {},
   "outputs": [
    {
     "data": {
      "text/plain": [
       "time\n",
       "2017-08-17 04:21:13.356     0.0\n",
       "2017-08-17 04:29:19.766     0.0\n",
       "2017-08-17 04:33:00.057     0.0\n",
       "2017-08-17 04:39:32.027     0.0\n",
       "2017-08-17 04:43:05.191     0.0\n",
       "                           ... \n",
       "2021-06-19 16:27:04.502    11.0\n",
       "2021-06-19 16:27:20.667    11.0\n",
       "2021-06-19 16:27:26.627    11.0\n",
       "2021-06-19 16:27:44.405    11.0\n",
       "2021-06-19 16:27:48.270    11.0\n",
       "Length: 11798850, dtype: float64"
      ]
     },
     "execution_count": 15,
     "metadata": {},
     "output_type": "execute_result"
    }
   ],
   "source": [
    "numCoEvents"
   ]
  },
  {
   "cell_type": "code",
   "execution_count": 28,
   "id": "02069bf6-64f3-4a5a-b671-962a6b35b354",
   "metadata": {},
   "outputs": [
    {
     "data": {
      "text/html": [
       "<div>\n",
       "<style scoped>\n",
       "    .dataframe tbody tr th:only-of-type {\n",
       "        vertical-align: middle;\n",
       "    }\n",
       "\n",
       "    .dataframe tbody tr th {\n",
       "        vertical-align: top;\n",
       "    }\n",
       "\n",
       "    .dataframe thead th {\n",
       "        text-align: right;\n",
       "    }\n",
       "</style>\n",
       "<table border=\"1\" class=\"dataframe\">\n",
       "  <thead>\n",
       "    <tr style=\"text-align: right;\">\n",
       "      <th></th>\n",
       "      <th>tW</th>\n",
       "      <th>w</th>\n",
       "    </tr>\n",
       "  </thead>\n",
       "  <tbody>\n",
       "    <tr>\n",
       "      <th>2021-04-23 07:31:43.163</th>\n",
       "      <td>0.231878</td>\n",
       "      <td>1.226889</td>\n",
       "    </tr>\n",
       "    <tr>\n",
       "      <th>2021-04-23 08:09:56.981</th>\n",
       "      <td>0.156455</td>\n",
       "      <td>3.080714</td>\n",
       "    </tr>\n",
       "    <tr>\n",
       "      <th>2021-04-23 08:31:35.814</th>\n",
       "      <td>0.141238</td>\n",
       "      <td>1.225136</td>\n",
       "    </tr>\n",
       "    <tr>\n",
       "      <th>2021-04-23 09:40:37.273</th>\n",
       "      <td>0.122657</td>\n",
       "      <td>1.981628</td>\n",
       "    </tr>\n",
       "    <tr>\n",
       "      <th>2021-04-23 10:06:50.048</th>\n",
       "      <td>0.118390</td>\n",
       "      <td>0.726506</td>\n",
       "    </tr>\n",
       "    <tr>\n",
       "      <th>...</th>\n",
       "      <td>...</td>\n",
       "      <td>...</td>\n",
       "    </tr>\n",
       "    <tr>\n",
       "      <th>2021-06-19 04:32:03.276</th>\n",
       "      <td>0.089894</td>\n",
       "      <td>0.256731</td>\n",
       "    </tr>\n",
       "    <tr>\n",
       "      <th>2021-06-19 06:30:57.226</th>\n",
       "      <td>0.089685</td>\n",
       "      <td>0.136556</td>\n",
       "    </tr>\n",
       "    <tr>\n",
       "      <th>2021-06-19 12:07:09.748</th>\n",
       "      <td>0.090909</td>\n",
       "      <td>0.165209</td>\n",
       "    </tr>\n",
       "    <tr>\n",
       "      <th>2021-06-19 12:48:14.298</th>\n",
       "      <td>0.090909</td>\n",
       "      <td>0.078581</td>\n",
       "    </tr>\n",
       "    <tr>\n",
       "      <th>2021-06-19 14:36:28.808</th>\n",
       "      <td>0.090909</td>\n",
       "      <td>0.248140</td>\n",
       "    </tr>\n",
       "  </tbody>\n",
       "</table>\n",
       "<p>602 rows × 2 columns</p>\n",
       "</div>"
      ],
      "text/plain": [
       "                               tW         w\n",
       "2021-04-23 07:31:43.163  0.231878  1.226889\n",
       "2021-04-23 08:09:56.981  0.156455  3.080714\n",
       "2021-04-23 08:31:35.814  0.141238  1.225136\n",
       "2021-04-23 09:40:37.273  0.122657  1.981628\n",
       "2021-04-23 10:06:50.048  0.118390  0.726506\n",
       "...                           ...       ...\n",
       "2021-06-19 04:32:03.276  0.089894  0.256731\n",
       "2021-06-19 06:30:57.226  0.089685  0.136556\n",
       "2021-06-19 12:07:09.748  0.090909  0.165209\n",
       "2021-06-19 12:48:14.298  0.090909  0.078581\n",
       "2021-06-19 14:36:28.808  0.090909  0.248140\n",
       "\n",
       "[602 rows x 2 columns]"
      ]
     },
     "execution_count": 28,
     "metadata": {},
     "output_type": "execute_result"
    }
   ],
   "source": [
    "out=pd.DataFrame()\n",
    "out['tW'] = mp_pandas_obj(mpSampleTW,('molecule',events.index),\n",
    "                            1,t1=events['t1'],numCoEvents=numCoEvents)\n",
    "## example ##\n",
    "out['w']=mp_pandas_obj(mpSampleW,('molecule',events.index),1,\n",
    "                         t1=events['t1'],numCoEvents=numCoEvents,close=df.close)\n",
    "out['w']*=out.shape[0]/out['w'].sum()\n",
    "\n",
    "out"
   ]
  },
  {
   "cell_type": "code",
   "execution_count": null,
   "id": "dcdc55b2-9c7b-4b62-8b1e-07e5d2ee4097",
   "metadata": {},
   "outputs": [],
   "source": []
  }
 ],
 "metadata": {
  "kernelspec": {
   "display_name": "Python 3",
   "language": "python",
   "name": "python3"
  },
  "language_info": {
   "codemirror_mode": {
    "name": "ipython",
    "version": 3
   },
   "file_extension": ".py",
   "mimetype": "text/x-python",
   "name": "python",
   "nbconvert_exporter": "python",
   "pygments_lexer": "ipython3",
   "version": "3.9.4"
  }
 },
 "nbformat": 4,
 "nbformat_minor": 5
}
