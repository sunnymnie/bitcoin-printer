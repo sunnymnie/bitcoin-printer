{
 "cells": [
  {
   "cell_type": "markdown",
   "id": "7d721297",
   "metadata": {},
   "source": [
    "# Time bars downloader\n",
    "\n",
    "Purpose: Downloading historical crypto data for TESTING (Cause volume is superior but more computationally intensive)"
   ]
  },
  {
   "cell_type": "code",
   "execution_count": 2,
   "id": "9ea00642",
   "metadata": {},
   "outputs": [],
   "source": [
    "# Imports\n",
    "import pandas as pd\n",
    "from binance.client import Client\n",
    "import datetime\n",
    "import json"
   ]
  },
  {
   "cell_type": "code",
   "execution_count": 3,
   "id": "83b8bd7d",
   "metadata": {},
   "outputs": [],
   "source": [
    "def get_api_keys(site: str, api_type: str)->str:\n",
    "    \"\"\"\n",
    "    gets api keys stored in api-keys/api-keys.txt\n",
    "    site: 'binance'\n",
    "    api_type: 'api', 'secret'\n",
    "    \"\"\"\n",
    "    with open('../api-keys/api-keys.txt') as json_file:\n",
    "        return json.load(json_file)[site][api_type]\n"
   ]
  },
  {
   "cell_type": "code",
   "execution_count": 4,
   "id": "5e7f346c",
   "metadata": {},
   "outputs": [],
   "source": [
    "# Constants\n",
    "api_key = get_api_keys(\"binance\", \"api\")\n",
    "api_secret = get_api_keys(\"binance\", \"secret\")\n",
    "\n",
    "bclient = Client(api_key=api_key, api_secret=api_secret)"
   ]
  },
  {
   "cell_type": "code",
   "execution_count": 4,
   "id": "4c6bcd60",
   "metadata": {},
   "outputs": [],
   "source": [
    "def binance_downloader(symbol:str, kline_interval:object, interval_name:str, path=\"data/\", start=\"1 Jan 1900\"):\n",
    "    \"\"\"\n",
    "    downloads binance data\n",
    "    symbol: BTCUSDT\n",
    "    kline_interval: Client.KLINE_INTERVAL_1DAY, Client.KLINE_INTERVAL_1DAY, Client.KLINE_INTERVAL_1DAY\n",
    "    interval_name: only used for csv name: BTCUSDT-interval_name.csv\n",
    "    start: empty if from the very beginning\n",
    "    \"\"\"\n",
    "    start_date = datetime.datetime.strptime(start, '%d %b %Y')\n",
    "    today = datetime.datetime.today()\n",
    "    filename = \"../data/\" + symbol + \"-\" + interval_name + \".csv\"\n",
    "#     print(f\"downloading {filename}\", end='\\r')\n",
    "#     klines = bclient.get_klines(symbol='BTCUSDT', interval=Client.KLINE_INTERVAL_1MINUTE)\n",
    "    klines = bclient.get_historical_klines(symbol, kline_interval, start_date.strftime(\"%d %b %Y %H:%M:%S\"), today.strftime(\"%d %b %Y %H:%M:%S\"), 1000)\n",
    "    data = pd.DataFrame(klines, columns = ['timestamp', 'open', 'high', 'low', 'close', 'volume', 'close_time', 'quote_av', 'trades', 'tb_base_av', 'tb_quote_av', 'ignore' ])\n",
    "    data['timestamp'] = pd.to_datetime(data['timestamp'], unit='ms')\n",
    "    data.set_index('timestamp', inplace=True)\n",
    "    data.to_csv(filename)\n",
    "#     print(f\"downloaded {filename}   \")"
   ]
  },
  {
   "cell_type": "markdown",
   "id": "73965ffd",
   "metadata": {},
   "source": [
    "## Binance downloader\n",
    "\n",
    "### symbol\n",
    "- \"BTCUSDT\"\n",
    "\n",
    "### kline_interval\n",
    "- `Client.KLINE_INTERVAL_1MINUTE`\n",
    "- `Client.KLINE_INTERVAL_1HOUR`\n",
    "- `Client.KLINE_INTERVAL_1DAY`\n",
    "\n",
    "### interval_name\n",
    "- \"minute\"\n",
    "- \"hour\"\n",
    "- \"day\""
   ]
  },
  {
   "cell_type": "code",
   "execution_count": 11,
   "id": "3750fb40",
   "metadata": {},
   "outputs": [
    {
     "name": "stdout",
     "output_type": "stream",
     "text": [
      "Downloaded ZECUSDT in 10.6 minutes\n",
      "Downloaded XMRUSDT in 10.98 minutes\n"
     ]
    }
   ],
   "source": [
    "import time\n",
    "# symbols = [\"BTCUSDT\", \"ETHUSDT\", \"DOTUSDT\", \"ADAUSDT\", \"LTCUSDT\", \"ZECUSDT\", \"XMRUSDT\",\n",
    "#            \"ETCUSDT\", \"XLMUSDT\", \"BCHUSDT\", \"EOSUSDT\", \"DASHUSDT\", \"NANOUSDT\"]\n",
    "symbols = [\"ZECUSDT\", \"XMRUSDT\"]\n",
    "for symbol in symbols: \n",
    "    start_time = time.time()\n",
    "    binance_downloader(symbol=symbol, \n",
    "                       kline_interval=Client.KLINE_INTERVAL_1MINUTE, \n",
    "                       interval_name=\"minute\", #hour\n",
    "                       start=\"10 Jan 1971\")\n",
    "    print(f\"Downloaded {symbol} in {str(round((time.time() - start_time)/60, 2))} minutes\")\n",
    "\n",
    "# hour-target\"\n",
    "# \"hour-predict\""
   ]
  },
  {
   "cell_type": "markdown",
   "id": "de64bc72-2413-4a47-af77-28654ecb9dd2",
   "metadata": {},
   "source": [
    "## For special"
   ]
  },
  {
   "cell_type": "code",
   "execution_count": 15,
   "id": "f2fa3707-13d0-4891-9075-5439b52c127b",
   "metadata": {},
   "outputs": [],
   "source": [
    "def binance_downloader(symbol:str, kline_interval:object, path=\"data/\", start=\"1 Jan 1900\"):\n",
    "    \"\"\"\n",
    "    downloads binance data\n",
    "    symbol: BTCUSDT\n",
    "    kline_interval: Client.KLINE_INTERVAL_1DAY, Client.KLINE_INTERVAL_1DAY, Client.KLINE_INTERVAL_1DAY\n",
    "    start: empty if from the very beginning\n",
    "    \"\"\"\n",
    "    start_date = datetime.datetime.strptime(start, '%d %b %Y')\n",
    "    today = datetime.datetime.today()\n",
    "    filename = \"../data/\" + symbol + \"-past.csv\"\n",
    "#     print(f\"downloading {filename}\", end='\\r')\n",
    "#     klines = bclient.get_klines(symbol='BTCUSDT', interval=Client.KLINE_INTERVAL_1MINUTE)\n",
    "    klines = bclient.get_historical_klines(symbol, kline_interval, start_date.strftime(\"%d %b %Y %H:%M:%S\"), today.strftime(\"%d %b %Y %H:%M:%S\"), 1000)\n",
    "    data = pd.DataFrame(klines, columns = ['timestamp', 'open', 'high', 'low', 'close', 'volume', 'close_time', 'quote_av', 'trades', 'tb_base_av', 'tb_quote_av', 'ignore'])\n",
    "    data = data[['timestamp', 'open', 'high', 'low', 'close', 'volume']]\n",
    "#     data['timestamp'] = pd.to_datetime(data['timestamp'], unit='ms')\n",
    "#     data.set_index('timestamp', inplace=True)\n",
    "    data.to_csv(filename, index=False)\n",
    "#     print(f\"downloaded {filename}   \")"
   ]
  },
  {
   "cell_type": "code",
   "execution_count": 16,
   "id": "ba781624-84e0-4ef3-8832-8ce5112d30c4",
   "metadata": {},
   "outputs": [
    {
     "name": "stdout",
     "output_type": "stream",
     "text": [
      "Downloaded XMRUSDT in 14.53 minutes\n"
     ]
    }
   ],
   "source": [
    "import time\n",
    "# symbols = [\"BTCUSDT\", \"ETHUSDT\", \"DOTUSDT\", \"ADAUSDT\", \"LTCUSDT\", \"ZECUSDT\", \"XMRUSDT\",\n",
    "#            \"ETCUSDT\", \"XLMUSDT\", \"BCHUSDT\", \"EOSUSDT\", \"DASHUSDT\", \"NANOUSDT\"]\n",
    "symbols = [\"XMRUSDT\"]\n",
    "for symbol in symbols: \n",
    "    start_time = time.time()\n",
    "    binance_downloader(symbol=symbol, \n",
    "                       kline_interval=Client.KLINE_INTERVAL_1MINUTE, \n",
    "                       start=\"10 Jul 1971\")\n",
    "    print(f\"Downloaded {symbol} in {str(round((time.time() - start_time)/60, 2))} minutes\")\n",
    "\n",
    "# hour-target\"\n",
    "# \"hour-predict\""
   ]
  },
  {
   "cell_type": "code",
   "execution_count": null,
   "id": "8e66b335-b654-4f44-8ecd-341554f7c258",
   "metadata": {},
   "outputs": [],
   "source": []
  }
 ],
 "metadata": {
  "kernelspec": {
   "display_name": "Python 3",
   "language": "python",
   "name": "python3"
  },
  "language_info": {
   "codemirror_mode": {
    "name": "ipython",
    "version": 3
   },
   "file_extension": ".py",
   "mimetype": "text/x-python",
   "name": "python",
   "nbconvert_exporter": "python",
   "pygments_lexer": "ipython3",
   "version": "3.9.4"
  }
 },
 "nbformat": 4,
 "nbformat_minor": 5
}
