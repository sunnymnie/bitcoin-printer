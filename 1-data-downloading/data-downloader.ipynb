{
 "cells": [
  {
   "cell_type": "markdown",
   "id": "1497d72b-818c-4a1a-9420-b2ed6794d820",
   "metadata": {},
   "source": [
    "# Data Downloader"
   ]
  },
  {
   "cell_type": "code",
   "execution_count": 1,
   "id": "e7d8aead-106d-487b-b8b1-b0068c81bc32",
   "metadata": {},
   "outputs": [],
   "source": [
    "# Imports\n",
    "import time\n",
    "import pandas as pd\n",
    "from binance.client import Client\n",
    "import datetime\n",
    "import json\n",
    "from IPython.display import clear_output\n",
    "\n",
    "def get_api_keys(site: str, api_type: str)->str:\n",
    "    \"\"\"\n",
    "    gets api keys stored in api-keys/api-keys.txt\n",
    "    site: 'binance'\n",
    "    api_type: 'api', 'secret'\n",
    "    \"\"\"\n",
    "    with open('../api-keys/api-keys.txt') as json_file:\n",
    "        return json.load(json_file)[site][api_type]\n",
    "# Constants\n",
    "api_key = get_api_keys(\"binance\", \"api\")\n",
    "api_secret = get_api_keys(\"binance\", \"secret\")\n",
    "\n",
    "bclient = Client(api_key=api_key, api_secret=api_secret)"
   ]
  },
  {
   "cell_type": "markdown",
   "id": "c46f0285-f708-4b7d-befa-d8ccc01da08e",
   "metadata": {},
   "source": [
    "## Download agg-trades-data"
   ]
  },
  {
   "cell_type": "code",
   "execution_count": null,
   "id": "b8e689bb-fc04-4c1f-bad6-375e1831b7a4",
   "metadata": {},
   "outputs": [
    {
     "name": "stdout",
     "output_type": "stream",
     "text": [
      "index got: 625977500, i is: 8045\n",
      "--- 0.12797284126281738 seconds ABOVE 0.05 seconds---\n"
     ]
    }
   ],
   "source": [
    "group = 99\n",
    "index = 495000000\n",
    "limit = 500\n",
    "i_limit = 10000\n",
    "i = i_limit\n",
    "while True:\n",
    "    agg_trade_list = []\n",
    "    \n",
    "    while i>0:\n",
    "        while True:\n",
    "            try:\n",
    "                start_time = time.time()\n",
    "                agg_trades = bclient.get_aggregate_trades(symbol='BTCUSDT', fromId=str(index), limit=limit)\n",
    "                agg_trade_list += list(agg_trades)\n",
    "                break\n",
    "            except:\n",
    "                print(f\"FAILED for: {index}, sleeping 10 seconds\")\n",
    "                time.sleep(10)\n",
    "        clear_output()\n",
    "        print(f\"index got: {index}, i is: {i}\")\n",
    "        index += limit\n",
    "        i -= 1\n",
    "        print(\"--- %s seconds ABOVE 0.05 seconds---\" % (time.time() - start_time))\n",
    "    print(f\"saving group {group} up to index {index}\")\n",
    "    if agg_trade_list==[]:\n",
    "        break\n",
    "    df = pd.DataFrame(agg_trade_list)\n",
    "    name = f\"../data/BTCUSDT-trades-{str(group)}.csv\"\n",
    "    df.to_csv(name, index=False)\n",
    "    df = None\n",
    "    group += 1\n",
    "    i = i_limit\n",
    "    bclient = Client(api_key=api_key, api_secret=api_secret)\n"
   ]
  },
  {
   "cell_type": "markdown",
   "id": "027cf9a0-fabb-42be-8608-aba14de8f7fe",
   "metadata": {
    "jupyter": {
     "source_hidden": true
    },
    "tags": []
   },
   "source": [
    "## Download klines"
   ]
  },
  {
   "cell_type": "code",
   "execution_count": null,
   "id": "525f9713-0d71-4067-b91d-a6517a6e56f3",
   "metadata": {
    "jupyter": {
     "source_hidden": true
    },
    "tags": []
   },
   "outputs": [],
   "source": [
    "def binance_downloader(symbol:str, kline_interval:object, interval_name:str, path=\"data/\", start=\"1 Jan 1900\"):\n",
    "    \"\"\"\n",
    "    downloads binance data\n",
    "    symbol: BTCUSDT\n",
    "    kline_interval: Client.KLINE_INTERVAL_1DAY, Client.KLINE_INTERVAL_1DAY, Client.KLINE_INTERVAL_1DAY\n",
    "    interval_name: only used for csv name: BTCUSDT-interval_name.csv\n",
    "    start: empty if from the very beginning\n",
    "    \"\"\"\n",
    "    start_date = datetime.datetime.strptime(start, '%d %b %Y')\n",
    "    today = datetime.datetime.today()\n",
    "    filename = \"../data/\" + symbol + \"-\" + interval_name + \".csv\"\n",
    "    print(f\"downloading {filename}\", end='\\r')\n",
    "#     klines = bclient.get_klines(symbol='BTCUSDT', interval=Client.KLINE_INTERVAL_1MINUTE)\n",
    "    klines = bclient.get_historical_klines(symbol, kline_interval, start_date.strftime(\"%d %b %Y %H:%M:%S\"), today.strftime(\"%d %b %Y %H:%M:%S\"), 1000)\n",
    "    data = pd.DataFrame(klines, columns = ['timestamp', 'open', 'high', 'low', 'close', 'volume', 'close_time', 'quote_av', 'trades', 'tb_base_av', 'tb_quote_av', 'ignore' ])\n",
    "    data['timestamp'] = pd.to_datetime(data['timestamp'], unit='ms')\n",
    "    data.set_index('timestamp', inplace=True)\n",
    "    data.to_csv(filename)\n",
    "    print(f\"downloaded {filename}   \")"
   ]
  },
  {
   "cell_type": "code",
   "execution_count": 7,
   "id": "d99eace6-e329-4c9c-b987-346ff05bbd97",
   "metadata": {
    "collapsed": true,
    "jupyter": {
     "outputs_hidden": true,
     "source_hidden": true
    },
    "tags": []
   },
   "outputs": [
    {
     "name": "stdout",
     "output_type": "stream",
     "text": [
      "downloaded ../data/BTCBUSD-month-test.csv   \n",
      "--- 0.27462100982666016 seconds ---\n"
     ]
    }
   ],
   "source": [
    "start_time = time.time()\n",
    "binance_downloader(symbol=\"BTCBUSD\", \n",
    "                   kline_interval=Client.KLINE_INTERVAL_1MONTH, \n",
    "                   interval_name=\"month-test\", #hour\n",
    "                   start=\"1 Jan 1900\")"
   ]
  },
  {
   "cell_type": "code",
   "execution_count": null,
   "id": "74eaa6e1-8d11-4e82-801e-97247e8101e6",
   "metadata": {
    "jupyter": {
     "source_hidden": true
    },
    "tags": []
   },
   "outputs": [],
   "source": []
  }
 ],
 "metadata": {
  "kernelspec": {
   "display_name": "Python 3",
   "language": "python",
   "name": "python3"
  },
  "language_info": {
   "codemirror_mode": {
    "name": "ipython",
    "version": 3
   },
   "file_extension": ".py",
   "mimetype": "text/x-python",
   "name": "python",
   "nbconvert_exporter": "python",
   "pygments_lexer": "ipython3",
   "version": "3.9.4"
  }
 },
 "nbformat": 4,
 "nbformat_minor": 5
}
